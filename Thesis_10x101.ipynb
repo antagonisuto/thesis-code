{
  "cells": [
    {
      "cell_type": "code",
      "execution_count": 1,
      "metadata": {
        "colab": {
          "base_uri": "https://localhost:8080/"
        },
        "id": "wOXE6bstFDrd",
        "outputId": "ffde3b29-6b44-4228-a8b9-7026cb4cf271"
      },
      "outputs": [
        {
          "output_type": "stream",
          "name": "stdout",
          "text": [
            "Requirement already satisfied: mne in /usr/local/lib/python3.7/dist-packages (1.0.0)\n",
            "Requirement already satisfied: scipy>=1.1.0 in /usr/local/lib/python3.7/dist-packages (from mne) (1.4.1)\n",
            "Requirement already satisfied: tqdm in /usr/local/lib/python3.7/dist-packages (from mne) (4.63.0)\n",
            "Requirement already satisfied: jinja2 in /usr/local/lib/python3.7/dist-packages (from mne) (2.11.3)\n",
            "Requirement already satisfied: matplotlib in /usr/local/lib/python3.7/dist-packages (from mne) (3.2.2)\n",
            "Requirement already satisfied: pooch>=1.5 in /usr/local/lib/python3.7/dist-packages (from mne) (1.6.0)\n",
            "Requirement already satisfied: numpy>=1.15.4 in /usr/local/lib/python3.7/dist-packages (from mne) (1.21.5)\n",
            "Requirement already satisfied: packaging in /usr/local/lib/python3.7/dist-packages (from mne) (21.3)\n",
            "Requirement already satisfied: decorator in /usr/local/lib/python3.7/dist-packages (from mne) (4.4.2)\n",
            "Requirement already satisfied: requests>=2.19.0 in /usr/local/lib/python3.7/dist-packages (from pooch>=1.5->mne) (2.23.0)\n",
            "Requirement already satisfied: appdirs>=1.3.0 in /usr/local/lib/python3.7/dist-packages (from pooch>=1.5->mne) (1.4.4)\n",
            "Requirement already satisfied: pyparsing!=3.0.5,>=2.0.2 in /usr/local/lib/python3.7/dist-packages (from packaging->mne) (3.0.7)\n",
            "Requirement already satisfied: MarkupSafe>=0.23 in /usr/local/lib/python3.7/dist-packages (from jinja2->mne) (2.0.1)\n",
            "Requirement already satisfied: cycler>=0.10 in /usr/local/lib/python3.7/dist-packages (from matplotlib->mne) (0.11.0)\n",
            "Requirement already satisfied: python-dateutil>=2.1 in /usr/local/lib/python3.7/dist-packages (from matplotlib->mne) (2.8.2)\n",
            "Requirement already satisfied: kiwisolver>=1.0.1 in /usr/local/lib/python3.7/dist-packages (from matplotlib->mne) (1.4.0)\n",
            "Requirement already satisfied: typing-extensions in /usr/local/lib/python3.7/dist-packages (from kiwisolver>=1.0.1->matplotlib->mne) (3.10.0.2)\n",
            "Requirement already satisfied: six>=1.5 in /usr/local/lib/python3.7/dist-packages (from python-dateutil>=2.1->matplotlib->mne) (1.15.0)\n",
            "Requirement already satisfied: certifi>=2017.4.17 in /usr/local/lib/python3.7/dist-packages (from requests>=2.19.0->pooch>=1.5->mne) (2021.10.8)\n",
            "Requirement already satisfied: urllib3!=1.25.0,!=1.25.1,<1.26,>=1.21.1 in /usr/local/lib/python3.7/dist-packages (from requests>=2.19.0->pooch>=1.5->mne) (1.24.3)\n",
            "Requirement already satisfied: idna<3,>=2.5 in /usr/local/lib/python3.7/dist-packages (from requests>=2.19.0->pooch>=1.5->mne) (2.10)\n",
            "Requirement already satisfied: chardet<4,>=3.0.2 in /usr/local/lib/python3.7/dist-packages (from requests>=2.19.0->pooch>=1.5->mne) (3.0.4)\n",
            "\u001b[33mWARNING: Running pip as the 'root' user can result in broken permissions and conflicting behaviour with the system package manager. It is recommended to use a virtual environment instead: https://pip.pypa.io/warnings/venv\u001b[0m\u001b[33m\n",
            "\u001b[0m"
          ]
        }
      ],
      "source": [
        "pip install mne"
      ]
    },
    {
      "cell_type": "code",
      "execution_count": 2,
      "metadata": {
        "id": "VjSlXtVgn4Mj"
      },
      "outputs": [],
      "source": [
        "import os\n",
        "import numpy as np\n",
        "import mne\n",
        "\n",
        "from sklearn.preprocessing import MinMaxScaler, StandardScaler\n",
        "\n",
        "#LDA\n",
        "from sklearn.discriminant_analysis import LinearDiscriminantAnalysis as LDA\n",
        "from sklearn.metrics import confusion_matrix\n",
        "from sklearn.metrics import accuracy_score\n",
        "\n",
        "#Visual\n",
        "import matplotlib.pyplot as plt\n",
        "from mne.preprocessing import (ICA, corrmap)\n",
        "from scipy.stats import ttest_rel\n",
        "from tensorflow.keras import utils as np_utils\n",
        "from sklearn.utils import shuffle\n",
        "import seaborn as sns\n",
        "\n",
        "#CNN\n",
        "import keras\n",
        "from keras.models import Sequential,Input,Model\n",
        "from keras.layers import Dense, Dropout, Flatten\n",
        "from keras.layers import Conv2D, MaxPooling2D\n",
        "from tensorflow.keras.layers import BatchNormalization\n",
        "from keras.layers.advanced_activations import LeakyReLU\n",
        "import tensorflow as tf\n",
        "from tensorflow.keras.callbacks import ModelCheckpoint\n",
        "from tensorflow.keras.optimizers import SGD, Adam\n",
        "import sklearn.metrics as metrics\n",
        "import seaborn as sns\n",
        "from sklearn.model_selection import train_test_split\n",
        "from sklearn.utils.class_weight import compute_class_weight"
      ]
    },
    {
      "cell_type": "code",
      "execution_count": 3,
      "metadata": {
        "id": "kPMY77PVG67x"
      },
      "outputs": [],
      "source": [
        "dataPath = '/content/drive/MyDrive/databbci'"
      ]
    },
    {
      "cell_type": "code",
      "execution_count": 4,
      "metadata": {
        "colab": {
          "base_uri": "https://localhost:8080/"
        },
        "id": "yymPXXeiHBTa",
        "outputId": "937b3ddd-a41e-41c0-f712-374949442a1f"
      },
      "outputs": [
        {
          "output_type": "stream",
          "name": "stderr",
          "text": [
            "<ipython-input-4-e82f2427b298>:17: RuntimeWarning: Online software filter detected. Using software filter settings and ignoring hardware values\n",
            "  passive.append(mne.io.read_raw_brainvision(tmp, preload=True, verbose=False))\n",
            "<ipython-input-4-e82f2427b298>:15: RuntimeWarning: Online software filter detected. Using software filter settings and ignoring hardware values\n",
            "  active.append(mne.io.read_raw_brainvision(tmp, preload=True, verbose=False))\n",
            "<ipython-input-4-e82f2427b298>:19: RuntimeWarning: Online software filter detected. Using software filter settings and ignoring hardware values\n",
            "  cue.append(mne.io.read_raw_brainvision(tmp, preload=True, verbose=False))\n",
            "<ipython-input-4-e82f2427b298>:19: RuntimeWarning: Online software filter detected. Using software filter settings and ignoring hardware values\n",
            "  cue.append(mne.io.read_raw_brainvision(tmp, preload=True, verbose=False))\n",
            "<ipython-input-4-e82f2427b298>:17: RuntimeWarning: Online software filter detected. Using software filter settings and ignoring hardware values\n",
            "  passive.append(mne.io.read_raw_brainvision(tmp, preload=True, verbose=False))\n",
            "<ipython-input-4-e82f2427b298>:15: RuntimeWarning: Online software filter detected. Using software filter settings and ignoring hardware values\n",
            "  active.append(mne.io.read_raw_brainvision(tmp, preload=True, verbose=False))\n",
            "<ipython-input-4-e82f2427b298>:19: RuntimeWarning: Online software filter detected. Using software filter settings and ignoring hardware values\n",
            "  cue.append(mne.io.read_raw_brainvision(tmp, preload=True, verbose=False))\n",
            "<ipython-input-4-e82f2427b298>:19: RuntimeWarning: Online software filter detected. Using software filter settings and ignoring hardware values\n",
            "  cue.append(mne.io.read_raw_brainvision(tmp, preload=True, verbose=False))\n",
            "<ipython-input-4-e82f2427b298>:17: RuntimeWarning: Online software filter detected. Using software filter settings and ignoring hardware values\n",
            "  passive.append(mne.io.read_raw_brainvision(tmp, preload=True, verbose=False))\n",
            "<ipython-input-4-e82f2427b298>:15: RuntimeWarning: Online software filter detected. Using software filter settings and ignoring hardware values\n",
            "  active.append(mne.io.read_raw_brainvision(tmp, preload=True, verbose=False))\n",
            "<ipython-input-4-e82f2427b298>:19: RuntimeWarning: Online software filter detected. Using software filter settings and ignoring hardware values\n",
            "  cue.append(mne.io.read_raw_brainvision(tmp, preload=True, verbose=False))\n"
          ]
        },
        {
          "output_type": "stream",
          "name": "stdout",
          "text": [
            "3\n"
          ]
        },
        {
          "output_type": "stream",
          "name": "stderr",
          "text": [
            "<ipython-input-4-e82f2427b298>:19: RuntimeWarning: Online software filter detected. Using software filter settings and ignoring hardware values\n",
            "  cue.append(mne.io.read_raw_brainvision(tmp, preload=True, verbose=False))\n"
          ]
        }
      ],
      "source": [
        "import os\n",
        "\n",
        "active = []\n",
        "passive = []\n",
        "cue = []\n",
        "\n",
        "\n",
        "data_number = 0\n",
        "for dir in os.listdir(dataPath):\n",
        "  for filename in os.listdir(os.path.join(dataPath, dir)):\n",
        "    #if filename.endswith(\".vhdr\"):\n",
        "    tmp = os.path.join(os.path.join(dataPath, dir), filename)\n",
        "      #with open(os.path.join(os.path.join(dataPath, dir), filename), 'r') as f: # open in readonly mode\n",
        "    if filename.endswith(\"active.vhdr\"):\n",
        "      active.append(mne.io.read_raw_brainvision(tmp, preload=True, verbose=False))\n",
        "    elif filename.endswith(\"passive.vhdr\"):\n",
        "      passive.append(mne.io.read_raw_brainvision(tmp, preload=True, verbose=False))\n",
        "    elif filename.endswith(\"cue.vhdr\"):\n",
        "      cue.append(mne.io.read_raw_brainvision(tmp, preload=True, verbose=False))\n",
        "print(len(active))"
      ]
    },
    {
      "cell_type": "markdown",
      "source": [
        "# Function | Run All"
      ],
      "metadata": {
        "id": "dhnDzzZCh1Ca"
      }
    },
    {
      "cell_type": "markdown",
      "source": [
        "    func: raw_to_data(raw, non_active = 0) \n",
        "    * active = 0\n",
        "    * passive = 1\n",
        "    * cue = 2\n",
        "    return X, y\n",
        "\n",
        "\\-\n",
        "\n",
        "    def get_train_test(act, pas, cue): \n",
        "    * active[subject] -> act\n",
        "    * call function \"raw_to_data\"\n",
        "    return train_X, test_X, train_y, test_y\n",
        "\n",
        "\\- LDA\n",
        "\n",
        "  \n",
        "    def lda_101(train_X, test_X, train_y, test_y):\n",
        "    return clf, cm\n",
        "\n",
        "\\- CNN\n",
        "\n",
        "    def cnn_101(train_X, test_X, train_y, test_y):\n",
        "    * batch_size = 16\n",
        "    * epochs = 100\n",
        "    * num_classes = 2\n",
        "    return cnn_model, cnn_train, test_eval, cm_cnn\n",
        "\n",
        "\n",
        "\\- Visualization\n",
        "\n",
        "    def vis_confusion_matrix(cm):\n",
        "    * plot \n"
      ],
      "metadata": {
        "id": "vxAeGIjYh58J"
      }
    },
    {
      "cell_type": "markdown",
      "metadata": {
        "id": "9JpGUmojfJD1"
      },
      "source": [
        "## All data load"
      ]
    },
    {
      "cell_type": "code",
      "execution_count": 5,
      "metadata": {
        "id": "IbzHDX8rfLbI"
      },
      "outputs": [],
      "source": [
        "def raw_to_data(raw, non_active = 0):\n",
        "  raw.pick_channels(['C1', 'Fz', 'C2', 'F3', 'F4', 'Pz', 'Oz', 'C3', 'Cz', 'C4'])\n",
        "  raw.filter(l_freq=0.4, h_freq=40, fir_design='firwin', verbose=False)\n",
        "  #raw.filter(l_freq=0.4, h_freq=40, method = 'iir', verbose=False)\n",
        "\n",
        "  events, _ = mne.events_from_annotations(raw, verbose=False)\n",
        "  tmin, tmax = -0., 1.  # in s\n",
        "  baseline = (None, 0)\n",
        "\n",
        "  #passive -> ignore \n",
        "  #cue -> active\n",
        "  # -> active, ignore\n",
        "  event_dict = {'active': 1, 'ignore': 2}\n",
        "  if non_active != 0:\n",
        "    event_dict.clear()\n",
        "    if non_active == 1: #passive\n",
        "      event_dict = {'ignore': 2}\n",
        "    else: # cue\n",
        "      event_dict = {'active': 1}\n",
        "  \n",
        "  epochs = mne.Epochs(\n",
        "    raw, events=events,\n",
        "    event_id=event_dict, tmin=tmin,\n",
        "    tmax=tmax, baseline=None, preload = True, verbose=False)\n",
        "  # print(epochs.events.size)\n",
        "  # print(epochs.event_id)\n",
        "  # {'active': 1, 'ignore': 2}\n",
        "\n",
        "  #preprocessing\n",
        "  filt_raw = raw.copy().filter(l_freq=1., h_freq=None)\n",
        "  ica = ICA(n_components=10, max_iter='auto', random_state=97)\n",
        "  ica.fit(epochs)\n",
        "\n",
        "  X = epochs.get_data()*1000  # MEG signals: n_epochs, n_meg_channels, n_times\n",
        "  y = epochs.events[:, 2]  # target: auditory left vs visual left\n",
        "  #print(X.shape, y.shape)\n",
        "\n",
        "  return X, y"
      ]
    },
    {
      "cell_type": "markdown",
      "metadata": {
        "id": "sE94nxnpaDT0"
      },
      "source": [
        "## Preprocessing"
      ]
    },
    {
      "cell_type": "code",
      "source": [
        "def get_train_test(act, pas, cue):\n",
        "  # subject = 0\n",
        "  train_X, train_y = raw_to_data(act, 0)\n",
        "  pas_X, pas_y = raw_to_data(pas, 1) #passive = 1\n",
        "  cue_X, cue_y = raw_to_data(cue, 2) #ignore = 2\n",
        "\n",
        "  test_X = np.append(cue_X, pas_X, axis = 0)\n",
        "  test_y = np.append(cue_y, pas_y, axis = 0)\n",
        "\n",
        "  return train_X, test_X, train_y, test_y\n"
      ],
      "metadata": {
        "id": "rnAxM1QGf3Nj"
      },
      "execution_count": 6,
      "outputs": []
    },
    {
      "cell_type": "markdown",
      "metadata": {
        "id": "73u_N5c2vwkx"
      },
      "source": [
        "## LDA Function"
      ]
    },
    {
      "cell_type": "code",
      "source": [
        "def lda_101(train_X, test_X, train_y, test_y):\n",
        "  train_lda = train_X.reshape(540,-1)\n",
        "  n, _, _ = test_X.shape\n",
        "  test_lda = test_X.reshape(n, -1)\n",
        "\n",
        "  clf = LDA()\n",
        "  clf.fit(train_lda, train_y)\n",
        "\n",
        "  y_pred = clf.predict(test_lda)\n",
        "  cm = confusion_matrix(test_y, y_pred)\n",
        "  print(cm)\n",
        "  print('Accuracy' + str(accuracy_score(test_y, y_pred)))\n",
        "\n",
        "  return clf, cm"
      ],
      "metadata": {
        "id": "Rg2hYQGycQqE"
      },
      "execution_count": 7,
      "outputs": []
    },
    {
      "cell_type": "markdown",
      "source": [
        "## CNN Functions"
      ],
      "metadata": {
        "id": "YEmaM7rep0bW"
      }
    },
    {
      "cell_type": "code",
      "source": [
        "def cnn_101(train_X, test_X, train_y, test_y, batch_size = 32, epochs = 100):\n",
        "  train_X = train_X.reshape(-1, 10,101, 1)\n",
        "  test_X = test_X.reshape(-1, 10,101, 1)\n",
        "\n",
        "  #train_X, train_y = shuffle(test_X, test_y, random_state=2)\n",
        "  #test_X, test_y = shuffle(test_X, test_y, random_state=2)\n",
        "  \n",
        "  train_X,valid_X,train_label,valid_label = train_test_split(train_X, \n",
        "                                                             train_y, \n",
        "                                                             test_size=0.2, \n",
        "                                                             random_state=13)\n",
        "\n",
        "  train_label_categorical = np_utils.to_categorical(train_label-1)\n",
        "  valid_label_categorical = np_utils.to_categorical(valid_label-1)\n",
        "  test_y = np_utils.to_categorical(test_y-1)\n",
        "\n",
        "  # batch_size = 32\n",
        "  # epochs = 100\n",
        "  num_classes = 2\n",
        "\n",
        "  cnn_model = Sequential()\n",
        "  cnn_model.add(Conv2D(8, kernel_size=(40, 4),activation='relu',input_shape=(10,101,1),padding='same'))\n",
        "  # cnn_model.add(MaxPooling2D((2, 2),padding='same'))\n",
        "  cnn_model.add(BatchNormalization())\n",
        "  cnn_model.add(Dropout(0.25))\n",
        "\n",
        "  cnn_model.add(Conv2D(16, (80, 4), activation='relu',padding='same'))\n",
        "  # cnn_model.add(MaxPooling2D(pool_size=(2, 2),padding='same'))\n",
        "  cnn_model.add(BatchNormalization())\n",
        "  cnn_model.add(Dropout(0.25))\n",
        "\n",
        "  cnn_model.add(Conv2D(32, (80, 4), activation='relu',padding='same'))         \n",
        "  # cnn_model.add(MaxPooling2D(pool_size=(2, 2),padding='same'))\n",
        "  cnn_model.add(BatchNormalization())\n",
        "  cnn_model.add(Dropout(0.25))\n",
        "\n",
        "  cnn_model.add(Flatten())\n",
        "  cnn_model.add(Dense(128, activation='relu'))\n",
        "  cnn_model.add(Dense(num_classes, activation='sigmoid'))\n",
        "\n",
        "  # set a valid path for your system to record model checkpoints\n",
        "  checkpointer = ModelCheckpoint(filepath='/tmp/checkpoint.h5', verbose=1,\n",
        "                               save_best_only=True)\n",
        "  \n",
        "  y_integers = np.argmax(train_label_categorical, axis=1)\n",
        "  class_weights = compute_class_weight(class_weight='balanced', classes=np.unique(y_integers), y=y_integers)\n",
        "  d_class_weights = dict(enumerate(class_weights))\n",
        "\n",
        "  opt = SGD(lr=0.01)\n",
        "  #opt = Adam(lr=0.001, beta_1=0.9, beta_2=0.999, epsilon=None, decay=0.01, amsgrad=False)\n",
        "\n",
        "  cnn_model.compile(optimizer=opt,\n",
        "          loss = \"categorical_crossentropy\",\n",
        "          metrics=['accuracy'])\n",
        "  \n",
        "  cnn_train = cnn_model.fit(train_X, train_label_categorical, batch_size=batch_size, \n",
        "                          epochs=epochs,\n",
        "                          verbose=1,\n",
        "                          validation_data=(valid_X, valid_label_categorical), \n",
        "                          callbacks=[checkpointer], \n",
        "                          class_weight = d_class_weights\n",
        "                          )\n",
        "\n",
        "  test_eval = cnn_model.evaluate(test_X, test_y, verbose=0)\n",
        "\n",
        "  pred_prob_conv = cnn_model.predict(test_X)\n",
        "\n",
        "  pred_y_conv = np.argmax(pred_prob_conv, axis=1)  # only necessary if output has one-hot-encoding, shape=(n_samples)\n",
        "  test_y_conv = np.argmax(test_y, axis=1)\n",
        "\n",
        "  cm_cnn = cm_cnn = metrics.confusion_matrix(y_true=test_y_conv, \n",
        "                                              y_pred=pred_y_conv)\n",
        "\n",
        "  return cnn_model, cnn_train, test_eval, cm_cnn\n"
      ],
      "metadata": {
        "id": "uNT_ZJLBqAEP"
      },
      "execution_count": 8,
      "outputs": []
    },
    {
      "cell_type": "code",
      "source": [
        "def vis_acc_loss(cnn_train):\n",
        "  accuracy = cnn_train.history['accuracy']\n",
        "  val_accuracy = cnn_train.history['val_accuracy']\n",
        "  loss = cnn_train.history['loss']\n",
        "  val_loss = cnn_train.history['val_loss']\n",
        "  epochs = range(len(accuracy))\n",
        "  plt.plot(epochs, accuracy, 'bo', label='Training accuracy')\n",
        "  plt.plot(epochs, val_accuracy, 'b', label='Validation accuracy')\n",
        "  plt.title('Training and validation accuracy')\n",
        "  plt.legend()\n",
        "  plt.figure()\n",
        "  plt.plot(epochs, loss, 'bo', label='Training loss')\n",
        "  plt.plot(epochs, val_loss, 'b', label='Validation loss')\n",
        "  plt.title('Training and validation loss')\n",
        "  plt.legend()\n",
        "  plt.show()"
      ],
      "metadata": {
        "id": "V3HZLcOas4Fi"
      },
      "execution_count": 9,
      "outputs": []
    },
    {
      "cell_type": "markdown",
      "source": [
        "## Visualization Functions"
      ],
      "metadata": {
        "id": "xMjOyuxHfM8h"
      }
    },
    {
      "cell_type": "code",
      "source": [
        "def vis_confusion_matrix(cm):\n",
        "\n",
        "\n",
        "  ax = sns.heatmap(cm, annot=True, \n",
        "            fmt='', cmap='Blues')\n",
        "  \n",
        "  # group_counts = [\"{0:0.0f}\".format(value) for value in\n",
        "  #                 confusion_matrix.flatten()]\n",
        "\n",
        "  # labels = [f\"{v1}\\n\" for v1 in zip(group_counts)]\n",
        "\n",
        "  # labels = np.asarray(labels).reshape(2,2)\n",
        "  \n",
        "  ax.set_title('CNN Confusion Matrix \\n\\n');\n",
        "  ax.set_xlabel('\\nPredicted Values')\n",
        "  ax.set_ylabel('Actual Values ');\n",
        "\n",
        "  ## Ticket labels - List must be in alphabetical order\n",
        "  ax.xaxis.set_ticklabels(['NI','AC'])\n",
        "  ax.yaxis.set_ticklabels(['NI','AC'])\n",
        "\n",
        "  ## Display the visualization of the Confusion Matrix.\n",
        "  plt.show()\n"
      ],
      "metadata": {
        "id": "tfAIQZ93fVMh"
      },
      "execution_count": 10,
      "outputs": []
    },
    {
      "cell_type": "markdown",
      "source": [
        "# Test | All Subjects"
      ],
      "metadata": {
        "id": "kVR1zGqyhsrM"
      }
    },
    {
      "cell_type": "code",
      "source": [
        "cnn_models = []\n",
        "lda_models = []"
      ],
      "metadata": {
        "id": "omtOEMfJ0vXa"
      },
      "execution_count": 11,
      "outputs": []
    },
    {
      "cell_type": "markdown",
      "source": [
        "## Test: LDA & CNN | Subject 1"
      ],
      "metadata": {
        "id": "d73siMkJdEba"
      }
    },
    {
      "cell_type": "code",
      "source": [
        "subject = 0\n",
        "\n",
        "train_X, test_X, train_y, test_y = get_train_test(active[subject], passive[subject], cue[subject])"
      ],
      "metadata": {
        "colab": {
          "base_uri": "https://localhost:8080/"
        },
        "id": "R-e4NH7rCeX9",
        "outputId": "74efc1e9-8882-4c91-e54e-230fea6c2643"
      },
      "execution_count": 12,
      "outputs": [
        {
          "output_type": "stream",
          "name": "stdout",
          "text": [
            "Filtering raw data in 1 contiguous segment\n",
            "Setting up high-pass filter at 1 Hz\n",
            "\n",
            "FIR filter parameters\n",
            "---------------------\n",
            "Designing a one-pass, zero-phase, non-causal highpass filter:\n",
            "- Windowed time-domain design (firwin) method\n",
            "- Hamming window with 0.0194 passband ripple and 53 dB stopband attenuation\n",
            "- Lower passband edge: 1.00\n",
            "- Lower transition bandwidth: 1.00 Hz (-6 dB cutoff frequency: 0.50 Hz)\n",
            "- Filter length: 331 samples (3.310 sec)\n",
            "\n",
            "Fitting ICA to data using 10 channels (please be patient, this may take a while)\n",
            "Selecting by number: 10 components\n",
            "Fitting ICA took 1.5s.\n",
            "Filtering raw data in 1 contiguous segment\n",
            "Setting up high-pass filter at 1 Hz\n",
            "\n",
            "FIR filter parameters\n",
            "---------------------\n",
            "Designing a one-pass, zero-phase, non-causal highpass filter:\n",
            "- Windowed time-domain design (firwin) method\n",
            "- Hamming window with 0.0194 passband ripple and 53 dB stopband attenuation\n",
            "- Lower passband edge: 1.00\n",
            "- Lower transition bandwidth: 1.00 Hz (-6 dB cutoff frequency: 0.50 Hz)\n",
            "- Filter length: 331 samples (3.310 sec)\n",
            "\n",
            "Fitting ICA to data using 10 channels (please be patient, this may take a while)\n",
            "Selecting by number: 10 components\n",
            "Fitting ICA took 0.4s.\n",
            "Filtering raw data in 1 contiguous segment\n",
            "Setting up high-pass filter at 1 Hz\n",
            "\n",
            "FIR filter parameters\n",
            "---------------------\n",
            "Designing a one-pass, zero-phase, non-causal highpass filter:\n",
            "- Windowed time-domain design (firwin) method\n",
            "- Hamming window with 0.0194 passband ripple and 53 dB stopband attenuation\n",
            "- Lower passband edge: 1.00\n",
            "- Lower transition bandwidth: 1.00 Hz (-6 dB cutoff frequency: 0.50 Hz)\n",
            "- Filter length: 331 samples (3.310 sec)\n",
            "\n",
            "Fitting ICA to data using 10 channels (please be patient, this may take a while)\n",
            "Selecting by number: 10 components\n",
            "Fitting ICA took 0.1s.\n"
          ]
        }
      ]
    },
    {
      "cell_type": "markdown",
      "source": [
        "LDA"
      ],
      "metadata": {
        "id": "iwAAHP0VdRgo"
      }
    },
    {
      "cell_type": "code",
      "source": [
        "clf_lda, cm_lda = lda_101(train_X, test_X, train_y, test_y) \n",
        "lda_models.append(clf_lda)\n",
        "vis_confusion_matrix(cm_lda)"
      ],
      "metadata": {
        "colab": {
          "base_uri": "https://localhost:8080/",
          "height": 388
        },
        "id": "lcQcVOXq5Hge",
        "outputId": "12c1cca8-6527-4c66-afeb-4af00f0ca4d9"
      },
      "execution_count": 13,
      "outputs": [
        {
          "output_type": "stream",
          "name": "stdout",
          "text": [
            "[[ 66  34]\n",
            " [ 65 115]]\n",
            "Accuracy0.6464285714285715\n"
          ]
        },
        {
          "output_type": "display_data",
          "data": {
            "text/plain": [
              "<Figure size 432x288 with 2 Axes>"
            ],
            "image/png": "[encoded data removed]"
          },
          "metadata": {
            "needs_background": "light"
          }
        }
      ]
    },
    {
      "cell_type": "code",
      "source": [
        "clf_lda, cm_lda = lda_101(tune_tX, tune_tsX, train_y, test_y) \n",
        "lda_models.append(clf_lda)\n",
        "vis_confusion_matrix(cm_lda)"
      ],
      "metadata": {
        "colab": {
          "base_uri": "https://localhost:8080/",
          "height": 388
        },
        "id": "Uo5TIhBJdQ-3",
        "outputId": "64081249-db27-45f8-8320-3acc6033890e"
      },
      "execution_count": 213,
      "outputs": [
        {
          "output_type": "stream",
          "name": "stdout",
          "text": [
            "[[ 36  64]\n",
            " [ 53 127]]\n",
            "Accuracy0.5821428571428572\n"
          ]
        },
        {
          "output_type": "display_data",
          "data": {
            "text/plain": [
              "<Figure size 432x288 with 2 Axes>"
            ],
            "image/png": "[encoded data removed]"
          },
          "metadata": {
            "needs_background": "light"
          }
        }
      ]
    },
    {
      "cell_type": "markdown",
      "source": [
        "CNN"
      ],
      "metadata": {
        "id": "MNuikQ8RdSX6"
      }
    },
    {
      "cell_type": "code",
      "source": [
        "cnn_model, cnn_train, test_eval, cm_cnn = cnn_101(train_X, \n",
        "                                                  test_X, \n",
        "                                                  train_y, \n",
        "                                                  test_y,\n",
        "                                                  batch_size = 32,\n",
        "                                                  epochs = 50)\n",
        "\n",
        "cnn_models.append(cnn_model)"
      ],
      "metadata": {
        "colab": {
          "base_uri": "https://localhost:8080/"
        },
        "id": "8ANiLocaCXAM",
        "outputId": "a92efbca-d4e0-4277-98fc-17666801243c"
      },
      "execution_count": 15,
      "outputs": [
        {
          "output_type": "stream",
          "name": "stdout",
          "text": [
            "Epoch 1/50\n"
          ]
        },
        {
          "output_type": "stream",
          "name": "stderr",
          "text": [
            "/usr/local/lib/python3.7/dist-packages/keras/optimizer_v2/gradient_descent.py:102: UserWarning: The `lr` argument is deprecated, use `learning_rate` instead.\n",
            "  super(SGD, self).__init__(name, **kwargs)\n"
          ]
        },
        {
          "output_type": "stream",
          "name": "stdout",
          "text": [
            "14/14 [==============================] - ETA: 0s - loss: 2.4811 - accuracy: 0.5370\n",
            "Epoch 1: val_loss improved from inf to 0.67886, saving model to /tmp/checkpoint.h5\n",
            "14/14 [==============================] - 29s 2s/step - loss: 2.4811 - accuracy: 0.5370 - val_loss: 0.6789 - val_accuracy: 0.6667\n",
            "Epoch 2/50\n",
            "14/14 [==============================] - ETA: 0s - loss: 0.8697 - accuracy: 0.5926\n",
            "Epoch 2: val_loss improved from 0.67886 to 0.65743, saving model to /tmp/checkpoint.h5\n",
            "14/14 [==============================] - 27s 2s/step - loss: 0.8697 - accuracy: 0.5926 - val_loss: 0.6574 - val_accuracy: 0.6667\n",
            "Epoch 3/50\n",
            "14/14 [==============================] - ETA: 0s - loss: 0.6867 - accuracy: 0.6921\n",
            "Epoch 3: val_loss improved from 0.65743 to 0.63189, saving model to /tmp/checkpoint.h5\n",
            "14/14 [==============================] - 27s 2s/step - loss: 0.6867 - accuracy: 0.6921 - val_loss: 0.6319 - val_accuracy: 0.6667\n",
            "Epoch 4/50\n",
            "14/14 [==============================] - ETA: 0s - loss: 0.5868 - accuracy: 0.7176\n",
            "Epoch 4: val_loss did not improve from 0.63189\n",
            "14/14 [==============================] - 27s 2s/step - loss: 0.5868 - accuracy: 0.7176 - val_loss: 0.6334 - val_accuracy: 0.6667\n",
            "Epoch 5/50\n",
            "14/14 [==============================] - ETA: 0s - loss: 0.5387 - accuracy: 0.7199\n",
            "Epoch 5: val_loss improved from 0.63189 to 0.62777, saving model to /tmp/checkpoint.h5\n",
            "14/14 [==============================] - 27s 2s/step - loss: 0.5387 - accuracy: 0.7199 - val_loss: 0.6278 - val_accuracy: 0.6667\n",
            "Epoch 6/50\n",
            "14/14 [==============================] - ETA: 0s - loss: 0.4913 - accuracy: 0.7847\n",
            "Epoch 6: val_loss improved from 0.62777 to 0.62533, saving model to /tmp/checkpoint.h5\n",
            "14/14 [==============================] - 27s 2s/step - loss: 0.4913 - accuracy: 0.7847 - val_loss: 0.6253 - val_accuracy: 0.6667\n",
            "Epoch 7/50\n",
            "14/14 [==============================] - ETA: 0s - loss: 0.4754 - accuracy: 0.7963\n",
            "Epoch 7: val_loss did not improve from 0.62533\n",
            "14/14 [==============================] - 27s 2s/step - loss: 0.4754 - accuracy: 0.7963 - val_loss: 0.6259 - val_accuracy: 0.6667\n",
            "Epoch 8/50\n",
            "14/14 [==============================] - ETA: 0s - loss: 0.4448 - accuracy: 0.8032\n",
            "Epoch 8: val_loss did not improve from 0.62533\n",
            "14/14 [==============================] - 27s 2s/step - loss: 0.4448 - accuracy: 0.8032 - val_loss: 0.6366 - val_accuracy: 0.6667\n",
            "Epoch 9/50\n",
            "14/14 [==============================] - ETA: 0s - loss: 0.4314 - accuracy: 0.7963\n",
            "Epoch 9: val_loss did not improve from 0.62533\n",
            "14/14 [==============================] - 27s 2s/step - loss: 0.4314 - accuracy: 0.7963 - val_loss: 0.6277 - val_accuracy: 0.6667\n",
            "Epoch 10/50\n",
            "14/14 [==============================] - ETA: 0s - loss: 0.4100 - accuracy: 0.8125\n",
            "Epoch 10: val_loss did not improve from 0.62533\n",
            "14/14 [==============================] - 27s 2s/step - loss: 0.4100 - accuracy: 0.8125 - val_loss: 0.6607 - val_accuracy: 0.6667\n",
            "Epoch 11/50\n",
            "14/14 [==============================] - ETA: 0s - loss: 0.3555 - accuracy: 0.8426\n",
            "Epoch 11: val_loss did not improve from 0.62533\n",
            "14/14 [==============================] - 27s 2s/step - loss: 0.3555 - accuracy: 0.8426 - val_loss: 0.7004 - val_accuracy: 0.6667\n",
            "Epoch 12/50\n",
            "14/14 [==============================] - ETA: 0s - loss: 0.3194 - accuracy: 0.8889\n",
            "Epoch 12: val_loss did not improve from 0.62533\n",
            "14/14 [==============================] - 27s 2s/step - loss: 0.3194 - accuracy: 0.8889 - val_loss: 0.6341 - val_accuracy: 0.6667\n",
            "Epoch 13/50\n",
            "14/14 [==============================] - ETA: 0s - loss: 0.3492 - accuracy: 0.8426\n",
            "Epoch 13: val_loss did not improve from 0.62533\n",
            "14/14 [==============================] - 27s 2s/step - loss: 0.3492 - accuracy: 0.8426 - val_loss: 0.6889 - val_accuracy: 0.5278\n",
            "Epoch 14/50\n",
            "14/14 [==============================] - ETA: 0s - loss: 0.2763 - accuracy: 0.8912\n",
            "Epoch 14: val_loss did not improve from 0.62533\n",
            "14/14 [==============================] - 27s 2s/step - loss: 0.2763 - accuracy: 0.8912 - val_loss: 0.6410 - val_accuracy: 0.6667\n",
            "Epoch 15/50\n",
            "14/14 [==============================] - ETA: 0s - loss: 0.2668 - accuracy: 0.8843\n",
            "Epoch 15: val_loss improved from 0.62533 to 0.61665, saving model to /tmp/checkpoint.h5\n",
            "14/14 [==============================] - 27s 2s/step - loss: 0.2668 - accuracy: 0.8843 - val_loss: 0.6167 - val_accuracy: 0.6759\n",
            "Epoch 16/50\n",
            "14/14 [==============================] - ETA: 0s - loss: 0.2126 - accuracy: 0.9282\n",
            "Epoch 16: val_loss did not improve from 0.61665\n",
            "14/14 [==============================] - 27s 2s/step - loss: 0.2126 - accuracy: 0.9282 - val_loss: 0.9465 - val_accuracy: 0.6667\n",
            "Epoch 17/50\n",
            "14/14 [==============================] - ETA: 0s - loss: 0.2235 - accuracy: 0.9213\n",
            "Epoch 17: val_loss did not improve from 0.61665\n",
            "14/14 [==============================] - 27s 2s/step - loss: 0.2235 - accuracy: 0.9213 - val_loss: 0.7203 - val_accuracy: 0.4630\n",
            "Epoch 18/50\n",
            "14/14 [==============================] - ETA: 0s - loss: 0.2543 - accuracy: 0.8935\n",
            "Epoch 18: val_loss did not improve from 0.61665\n",
            "14/14 [==============================] - 27s 2s/step - loss: 0.2543 - accuracy: 0.8935 - val_loss: 0.6213 - val_accuracy: 0.6852\n",
            "Epoch 19/50\n",
            "14/14 [==============================] - ETA: 0s - loss: 0.1741 - accuracy: 0.9468\n",
            "Epoch 19: val_loss did not improve from 0.61665\n",
            "14/14 [==============================] - 27s 2s/step - loss: 0.1741 - accuracy: 0.9468 - val_loss: 0.6275 - val_accuracy: 0.6852\n",
            "Epoch 20/50\n",
            "14/14 [==============================] - ETA: 0s - loss: 0.1579 - accuracy: 0.9514\n",
            "Epoch 20: val_loss did not improve from 0.61665\n",
            "14/14 [==============================] - 33s 2s/step - loss: 0.1579 - accuracy: 0.9514 - val_loss: 0.6877 - val_accuracy: 0.6759\n",
            "Epoch 21/50\n",
            "14/14 [==============================] - ETA: 0s - loss: 0.1557 - accuracy: 0.9514\n",
            "Epoch 21: val_loss did not improve from 0.61665\n",
            "14/14 [==============================] - 27s 2s/step - loss: 0.1557 - accuracy: 0.9514 - val_loss: 0.7207 - val_accuracy: 0.6852\n",
            "Epoch 22/50\n",
            "14/14 [==============================] - ETA: 0s - loss: 0.1520 - accuracy: 0.9583\n",
            "Epoch 22: val_loss did not improve from 0.61665\n",
            "14/14 [==============================] - 27s 2s/step - loss: 0.1520 - accuracy: 0.9583 - val_loss: 0.8308 - val_accuracy: 0.4537\n",
            "Epoch 23/50\n",
            "14/14 [==============================] - ETA: 0s - loss: 0.2562 - accuracy: 0.9190\n",
            "Epoch 23: val_loss did not improve from 0.61665\n",
            "14/14 [==============================] - 27s 2s/step - loss: 0.2562 - accuracy: 0.9190 - val_loss: 1.5326 - val_accuracy: 0.3241\n",
            "Epoch 24/50\n",
            "14/14 [==============================] - ETA: 0s - loss: 0.1460 - accuracy: 0.9560\n",
            "Epoch 24: val_loss did not improve from 0.61665\n",
            "14/14 [==============================] - 27s 2s/step - loss: 0.1460 - accuracy: 0.9560 - val_loss: 0.6987 - val_accuracy: 0.6944\n",
            "Epoch 25/50\n",
            "14/14 [==============================] - ETA: 0s - loss: 0.0962 - accuracy: 0.9722\n",
            "Epoch 25: val_loss did not improve from 0.61665\n",
            "14/14 [==============================] - 27s 2s/step - loss: 0.0962 - accuracy: 0.9722 - val_loss: 1.1564 - val_accuracy: 0.3796\n",
            "Epoch 26/50\n",
            "14/14 [==============================] - ETA: 0s - loss: 0.0931 - accuracy: 0.9769\n",
            "Epoch 26: val_loss did not improve from 0.61665\n",
            "14/14 [==============================] - 27s 2s/step - loss: 0.0931 - accuracy: 0.9769 - val_loss: 0.9427 - val_accuracy: 0.5000\n",
            "Epoch 27/50\n",
            "14/14 [==============================] - ETA: 0s - loss: 0.0777 - accuracy: 0.9815\n",
            "Epoch 27: val_loss did not improve from 0.61665\n",
            "14/14 [==============================] - 27s 2s/step - loss: 0.0777 - accuracy: 0.9815 - val_loss: 0.9264 - val_accuracy: 0.5000\n",
            "Epoch 28/50\n",
            "14/14 [==============================] - ETA: 0s - loss: 0.0904 - accuracy: 0.9815\n",
            "Epoch 28: val_loss did not improve from 0.61665\n",
            "14/14 [==============================] - 27s 2s/step - loss: 0.0904 - accuracy: 0.9815 - val_loss: 1.4976 - val_accuracy: 0.3333\n",
            "Epoch 29/50\n",
            "14/14 [==============================] - ETA: 0s - loss: 0.1017 - accuracy: 0.9699\n",
            "Epoch 29: val_loss did not improve from 0.61665\n",
            "14/14 [==============================] - 27s 2s/step - loss: 0.1017 - accuracy: 0.9699 - val_loss: 1.2255 - val_accuracy: 0.3333\n",
            "Epoch 30/50\n",
            "14/14 [==============================] - ETA: 0s - loss: 0.0698 - accuracy: 0.9884\n",
            "Epoch 30: val_loss did not improve from 0.61665\n",
            "14/14 [==============================] - 27s 2s/step - loss: 0.0698 - accuracy: 0.9884 - val_loss: 1.3108 - val_accuracy: 0.3333\n",
            "Epoch 31/50\n",
            "14/14 [==============================] - ETA: 0s - loss: 0.0687 - accuracy: 0.9861\n",
            "Epoch 31: val_loss did not improve from 0.61665\n",
            "14/14 [==============================] - 27s 2s/step - loss: 0.0687 - accuracy: 0.9861 - val_loss: 0.9107 - val_accuracy: 0.3241\n",
            "Epoch 32/50\n",
            "14/14 [==============================] - ETA: 0s - loss: 0.0432 - accuracy: 0.9977\n",
            "Epoch 32: val_loss did not improve from 0.61665\n",
            "14/14 [==============================] - 27s 2s/step - loss: 0.0432 - accuracy: 0.9977 - val_loss: 1.6435 - val_accuracy: 0.3333\n",
            "Epoch 33/50\n",
            "14/14 [==============================] - ETA: 0s - loss: 0.0497 - accuracy: 0.9907\n",
            "Epoch 33: val_loss did not improve from 0.61665\n",
            "14/14 [==============================] - 27s 2s/step - loss: 0.0497 - accuracy: 0.9907 - val_loss: 1.1629 - val_accuracy: 0.3426\n",
            "Epoch 34/50\n",
            "14/14 [==============================] - ETA: 0s - loss: 0.0565 - accuracy: 0.9907\n",
            "Epoch 34: val_loss did not improve from 0.61665\n",
            "14/14 [==============================] - 27s 2s/step - loss: 0.0565 - accuracy: 0.9907 - val_loss: 1.7810 - val_accuracy: 0.3426\n",
            "Epoch 35/50\n",
            "14/14 [==============================] - ETA: 0s - loss: 0.0503 - accuracy: 0.9884\n",
            "Epoch 35: val_loss did not improve from 0.61665\n",
            "14/14 [==============================] - 27s 2s/step - loss: 0.0503 - accuracy: 0.9884 - val_loss: 2.6156 - val_accuracy: 0.3426\n",
            "Epoch 36/50\n",
            "14/14 [==============================] - ETA: 0s - loss: 0.0547 - accuracy: 0.9861\n",
            "Epoch 36: val_loss did not improve from 0.61665\n",
            "14/14 [==============================] - 27s 2s/step - loss: 0.0547 - accuracy: 0.9861 - val_loss: 1.3103 - val_accuracy: 0.3889\n",
            "Epoch 37/50\n",
            "14/14 [==============================] - ETA: 0s - loss: 0.0356 - accuracy: 0.9954\n",
            "Epoch 37: val_loss did not improve from 0.61665\n",
            "14/14 [==============================] - 27s 2s/step - loss: 0.0356 - accuracy: 0.9954 - val_loss: 1.2845 - val_accuracy: 0.4537\n",
            "Epoch 38/50\n",
            "14/14 [==============================] - ETA: 0s - loss: 0.0407 - accuracy: 0.9884\n",
            "Epoch 38: val_loss did not improve from 0.61665\n",
            "14/14 [==============================] - 27s 2s/step - loss: 0.0407 - accuracy: 0.9884 - val_loss: 0.9530 - val_accuracy: 0.5463\n",
            "Epoch 39/50\n",
            "14/14 [==============================] - ETA: 0s - loss: 0.0329 - accuracy: 0.9931\n",
            "Epoch 39: val_loss did not improve from 0.61665\n",
            "14/14 [==============================] - 27s 2s/step - loss: 0.0329 - accuracy: 0.9931 - val_loss: 1.2316 - val_accuracy: 0.4537\n",
            "Epoch 40/50\n",
            "14/14 [==============================] - ETA: 0s - loss: 0.0367 - accuracy: 0.9907\n",
            "Epoch 40: val_loss did not improve from 0.61665\n",
            "14/14 [==============================] - 27s 2s/step - loss: 0.0367 - accuracy: 0.9907 - val_loss: 1.0286 - val_accuracy: 0.6019\n",
            "Epoch 41/50\n",
            "14/14 [==============================] - ETA: 0s - loss: 0.0252 - accuracy: 1.0000\n",
            "Epoch 41: val_loss did not improve from 0.61665\n",
            "14/14 [==============================] - 27s 2s/step - loss: 0.0252 - accuracy: 1.0000 - val_loss: 1.3351 - val_accuracy: 0.5741\n",
            "Epoch 42/50\n",
            "14/14 [==============================] - ETA: 0s - loss: 0.0256 - accuracy: 0.9977\n",
            "Epoch 42: val_loss did not improve from 0.61665\n",
            "14/14 [==============================] - 28s 2s/step - loss: 0.0256 - accuracy: 0.9977 - val_loss: 1.0757 - val_accuracy: 0.6389\n",
            "Epoch 43/50\n",
            "14/14 [==============================] - ETA: 0s - loss: 0.0335 - accuracy: 0.9931\n",
            "Epoch 43: val_loss did not improve from 0.61665\n",
            "14/14 [==============================] - 27s 2s/step - loss: 0.0335 - accuracy: 0.9931 - val_loss: 0.9614 - val_accuracy: 0.6574\n",
            "Epoch 44/50\n",
            "14/14 [==============================] - ETA: 0s - loss: 0.0271 - accuracy: 0.9977\n",
            "Epoch 44: val_loss did not improve from 0.61665\n",
            "14/14 [==============================] - 27s 2s/step - loss: 0.0271 - accuracy: 0.9977 - val_loss: 0.8088 - val_accuracy: 0.7222\n",
            "Epoch 45/50\n",
            "14/14 [==============================] - ETA: 0s - loss: 0.0246 - accuracy: 0.9977\n",
            "Epoch 45: val_loss did not improve from 0.61665\n",
            "14/14 [==============================] - 27s 2s/step - loss: 0.0246 - accuracy: 0.9977 - val_loss: 0.7783 - val_accuracy: 0.7778\n",
            "Epoch 46/50\n",
            "14/14 [==============================] - ETA: 0s - loss: 0.0249 - accuracy: 0.9931\n",
            "Epoch 46: val_loss did not improve from 0.61665\n",
            "14/14 [==============================] - 27s 2s/step - loss: 0.0249 - accuracy: 0.9931 - val_loss: 0.8073 - val_accuracy: 0.7222\n",
            "Epoch 47/50\n",
            "14/14 [==============================] - ETA: 0s - loss: 0.0166 - accuracy: 0.9954\n",
            "Epoch 47: val_loss did not improve from 0.61665\n",
            "14/14 [==============================] - 27s 2s/step - loss: 0.0166 - accuracy: 0.9954 - val_loss: 0.7868 - val_accuracy: 0.7222\n",
            "Epoch 48/50\n",
            "14/14 [==============================] - ETA: 0s - loss: 0.0182 - accuracy: 1.0000\n",
            "Epoch 48: val_loss did not improve from 0.61665\n",
            "14/14 [==============================] - 27s 2s/step - loss: 0.0182 - accuracy: 1.0000 - val_loss: 0.8948 - val_accuracy: 0.7315\n",
            "Epoch 49/50\n",
            "14/14 [==============================] - ETA: 0s - loss: 0.0267 - accuracy: 0.9954\n",
            "Epoch 49: val_loss did not improve from 0.61665\n",
            "14/14 [==============================] - 27s 2s/step - loss: 0.0267 - accuracy: 0.9954 - val_loss: 0.7762 - val_accuracy: 0.7500\n",
            "Epoch 50/50\n",
            "14/14 [==============================] - ETA: 0s - loss: 0.0177 - accuracy: 0.9977\n",
            "Epoch 50: val_loss did not improve from 0.61665\n",
            "14/14 [==============================] - 27s 2s/step - loss: 0.0177 - accuracy: 0.9977 - val_loss: 0.8071 - val_accuracy: 0.7037\n"
          ]
        }
      ]
    },
    {
      "cell_type": "code",
      "source": [
        "cnn_model.save(\"cnn_model_1.h5py\")"
      ],
      "metadata": {
        "colab": {
          "base_uri": "https://localhost:8080/"
        },
        "id": "Q6U0YX5QVGEk",
        "outputId": "b2719f3a-7ba2-43b0-a803-876123d364f2"
      },
      "execution_count": 16,
      "outputs": [
        {
          "output_type": "stream",
          "name": "stdout",
          "text": [
            "INFO:tensorflow:Assets written to: cnn_model_1.h5py/assets\n"
          ]
        }
      ]
    },
    {
      "cell_type": "code",
      "source": [
        "vis_confusion_matrix(cm_cnn)\n",
        "\n",
        "vis_acc_loss(cnn_train)"
      ],
      "metadata": {
        "colab": {
          "base_uri": "https://localhost:8080/",
          "height": 865
        },
        "id": "ChcOPVsxa5MD",
        "outputId": "22a578a0-4ea1-488e-8136-72e1ce5e3a75"
      },
      "execution_count": 17,
      "outputs": [
        {
          "output_type": "display_data",
          "data": {
            "text/plain": [
              "<Figure size 432x288 with 2 Axes>"
            ],
            "image/png": "[encoded data removed]"
          },
          "metadata": {
            "needs_background": "light"
          }
        },
        {
          "output_type": "display_data",
          "data": {
            "text/plain": [
              "<Figure size 432x288 with 1 Axes>"
            ],
            "image/png": "[encoded data removed]"
          },
          "metadata": {
            "needs_background": "light"
          }
        },
        {
          "output_type": "display_data",
          "data": {
            "text/plain": [
              "<Figure size 432x288 with 1 Axes>"
            ],
            "image/png": "[encoded data removed]"
          },
          "metadata": {
            "needs_background": "light"
          }
        }
      ]
    },
    {
      "cell_type": "code",
      "source": [
        "print('Test loss:', test_eval[0])\n",
        "print('Test accuracy:', test_eval[1])"
      ],
      "metadata": {
        "colab": {
          "base_uri": "https://localhost:8080/"
        },
        "id": "0zWTo6sKhzj-",
        "outputId": "077cd702-d24a-4a90-f4a4-b5d164eff87a"
      },
      "execution_count": 18,
      "outputs": [
        {
          "output_type": "stream",
          "name": "stdout",
          "text": [
            "Test loss: 1.1557427644729614\n",
            "Test accuracy: 0.6392857432365417\n"
          ]
        }
      ]
    },
    {
      "cell_type": "markdown",
      "source": [
        "## LDA & CNN | Subject 2"
      ],
      "metadata": {
        "id": "lP1mw6jBhl0O"
      }
    },
    {
      "cell_type": "code",
      "source": [
        "subject = 1\n",
        "\n",
        "train_X, test_X, train_y, test_y = get_train_test(active[subject], passive[subject], cue[subject])"
      ],
      "metadata": {
        "colab": {
          "base_uri": "https://localhost:8080/"
        },
        "id": "kdX2S40DkEa4",
        "outputId": "81d298a1-3893-4c1e-9a70-52507702135b"
      },
      "execution_count": 19,
      "outputs": [
        {
          "output_type": "stream",
          "name": "stdout",
          "text": [
            "Filtering raw data in 1 contiguous segment\n",
            "Setting up high-pass filter at 1 Hz\n",
            "\n",
            "FIR filter parameters\n",
            "---------------------\n",
            "Designing a one-pass, zero-phase, non-causal highpass filter:\n",
            "- Windowed time-domain design (firwin) method\n",
            "- Hamming window with 0.0194 passband ripple and 53 dB stopband attenuation\n",
            "- Lower passband edge: 1.00\n",
            "- Lower transition bandwidth: 1.00 Hz (-6 dB cutoff frequency: 0.50 Hz)\n",
            "- Filter length: 331 samples (3.310 sec)\n",
            "\n",
            "Fitting ICA to data using 10 channels (please be patient, this may take a while)\n",
            "Selecting by number: 10 components\n",
            "Fitting ICA took 0.7s.\n",
            "Filtering raw data in 1 contiguous segment\n",
            "Setting up high-pass filter at 1 Hz\n",
            "\n",
            "FIR filter parameters\n",
            "---------------------\n",
            "Designing a one-pass, zero-phase, non-causal highpass filter:\n",
            "- Windowed time-domain design (firwin) method\n",
            "- Hamming window with 0.0194 passband ripple and 53 dB stopband attenuation\n",
            "- Lower passband edge: 1.00\n",
            "- Lower transition bandwidth: 1.00 Hz (-6 dB cutoff frequency: 0.50 Hz)\n",
            "- Filter length: 331 samples (3.310 sec)\n",
            "\n",
            "Fitting ICA to data using 10 channels (please be patient, this may take a while)\n",
            "Selecting by number: 10 components\n",
            "Fitting ICA took 0.4s.\n",
            "Filtering raw data in 1 contiguous segment\n",
            "Setting up high-pass filter at 1 Hz\n",
            "\n",
            "FIR filter parameters\n",
            "---------------------\n",
            "Designing a one-pass, zero-phase, non-causal highpass filter:\n",
            "- Windowed time-domain design (firwin) method\n",
            "- Hamming window with 0.0194 passband ripple and 53 dB stopband attenuation\n",
            "- Lower passband edge: 1.00\n",
            "- Lower transition bandwidth: 1.00 Hz (-6 dB cutoff frequency: 0.50 Hz)\n",
            "- Filter length: 331 samples (3.310 sec)\n",
            "\n",
            "Fitting ICA to data using 10 channels (please be patient, this may take a while)\n",
            "Selecting by number: 10 components\n",
            "Fitting ICA took 0.1s.\n"
          ]
        }
      ]
    },
    {
      "cell_type": "code",
      "source": [
        "test_X.shape"
      ],
      "metadata": {
        "colab": {
          "base_uri": "https://localhost:8080/"
        },
        "id": "tRf4-m5plLC_",
        "outputId": "081cb3b9-728a-47ec-adb8-53ab67792d8e"
      },
      "execution_count": null,
      "outputs": [
        {
          "output_type": "execute_result",
          "data": {
            "text/plain": [
              "(280, 10, 101)"
            ]
          },
          "metadata": {},
          "execution_count": 54
        }
      ]
    },
    {
      "cell_type": "code",
      "source": [
        "clf_lda, cm_lda = lda_101(train_X, test_X, train_y, test_y) \n",
        "lda_models.append(clf_lda)\n",
        "vis_confusion_matrix(cm_lda)"
      ],
      "metadata": {
        "colab": {
          "base_uri": "https://localhost:8080/",
          "height": 388
        },
        "id": "FvNkjnVAkFHo",
        "outputId": "805db1f6-4e65-4fa4-e9a6-c4815c1d29c3"
      },
      "execution_count": 20,
      "outputs": [
        {
          "output_type": "stream",
          "name": "stdout",
          "text": [
            "[[51 49]\n",
            " [84 96]]\n",
            "Accuracy0.525\n"
          ]
        },
        {
          "output_type": "display_data",
          "data": {
            "text/plain": [
              "<Figure size 432x288 with 2 Axes>"
            ],
            "image/png": "[encoded data removed]"
          },
          "metadata": {
            "needs_background": "light"
          }
        }
      ]
    },
    {
      "cell_type": "code",
      "source": [
        "clf_lda, cm_lda = lda_101(tune_tX, tune_tsX, train_y, test_y) \n",
        "lda_models.append(clf_lda)\n",
        "vis_confusion_matrix(cm_lda)"
      ],
      "metadata": {
        "colab": {
          "base_uri": "https://localhost:8080/",
          "height": 388
        },
        "id": "EJVBELIgVo_9",
        "outputId": "4b684f14-ae5c-4e39-c43d-4286868bcd86"
      },
      "execution_count": 208,
      "outputs": [
        {
          "output_type": "stream",
          "name": "stdout",
          "text": [
            "[[ 36  64]\n",
            " [ 53 127]]\n",
            "Accuracy0.5821428571428572\n"
          ]
        },
        {
          "output_type": "display_data",
          "data": {
            "text/plain": [
              "<Figure size 432x288 with 2 Axes>"
            ],
            "image/png": "[encoded data removed]"
          },
          "metadata": {
            "needs_background": "light"
          }
        }
      ]
    },
    {
      "cell_type": "code",
      "source": [
        "cnn_model, cnn_train, test_eval, cm_cnn = cnn_101(train_X, \n",
        "                                                  test_X, \n",
        "                                                  train_y, \n",
        "                                                  test_y)\n",
        "\n",
        "cnn_models.append(cnn_model)"
      ],
      "metadata": {
        "colab": {
          "base_uri": "https://localhost:8080/"
        },
        "id": "rkw7394XkH68",
        "outputId": "2f00281c-2b98-45d3-d28d-13c1cb8bedb9"
      },
      "execution_count": 21,
      "outputs": [
        {
          "output_type": "stream",
          "name": "stdout",
          "text": [
            "Epoch 1/100\n"
          ]
        },
        {
          "output_type": "stream",
          "name": "stderr",
          "text": [
            "/usr/local/lib/python3.7/dist-packages/keras/optimizer_v2/gradient_descent.py:102: UserWarning: The `lr` argument is deprecated, use `learning_rate` instead.\n",
            "  super(SGD, self).__init__(name, **kwargs)\n"
          ]
        },
        {
          "output_type": "stream",
          "name": "stdout",
          "text": [
            "14/14 [==============================] - ETA: 0s - loss: 1.6112 - accuracy: 0.5764\n",
            "Epoch 1: val_loss improved from inf to 0.68928, saving model to /tmp/checkpoint.h5\n",
            "14/14 [==============================] - 28s 2s/step - loss: 1.6112 - accuracy: 0.5764 - val_loss: 0.6893 - val_accuracy: 0.6667\n",
            "Epoch 2/100\n",
            "14/14 [==============================] - ETA: 0s - loss: 0.7158 - accuracy: 0.6736\n",
            "Epoch 2: val_loss did not improve from 0.68928\n",
            "14/14 [==============================] - 27s 2s/step - loss: 0.7158 - accuracy: 0.6736 - val_loss: 0.6987 - val_accuracy: 0.3333\n",
            "Epoch 3/100\n",
            "14/14 [==============================] - ETA: 0s - loss: 0.5851 - accuracy: 0.7176\n",
            "Epoch 3: val_loss improved from 0.68928 to 0.68514, saving model to /tmp/checkpoint.h5\n",
            "14/14 [==============================] - 27s 2s/step - loss: 0.5851 - accuracy: 0.7176 - val_loss: 0.6851 - val_accuracy: 0.6667\n",
            "Epoch 4/100\n",
            "14/14 [==============================] - ETA: 0s - loss: 0.5618 - accuracy: 0.7176\n",
            "Epoch 4: val_loss did not improve from 0.68514\n",
            "14/14 [==============================] - 27s 2s/step - loss: 0.5618 - accuracy: 0.7176 - val_loss: 0.6975 - val_accuracy: 0.3333\n",
            "Epoch 5/100\n",
            "14/14 [==============================] - ETA: 0s - loss: 0.4513 - accuracy: 0.7847\n",
            "Epoch 5: val_loss did not improve from 0.68514\n",
            "14/14 [==============================] - 27s 2s/step - loss: 0.4513 - accuracy: 0.7847 - val_loss: 0.7062 - val_accuracy: 0.3333\n",
            "Epoch 6/100\n",
            "14/14 [==============================] - ETA: 0s - loss: 0.4360 - accuracy: 0.7847\n",
            "Epoch 6: val_loss did not improve from 0.68514\n",
            "14/14 [==============================] - 27s 2s/step - loss: 0.4360 - accuracy: 0.7847 - val_loss: 0.6920 - val_accuracy: 0.6296\n",
            "Epoch 7/100\n",
            "14/14 [==============================] - ETA: 0s - loss: 0.4296 - accuracy: 0.8056\n",
            "Epoch 7: val_loss did not improve from 0.68514\n",
            "14/14 [==============================] - 27s 2s/step - loss: 0.4296 - accuracy: 0.8056 - val_loss: 0.7222 - val_accuracy: 0.3333\n",
            "Epoch 8/100\n",
            "14/14 [==============================] - ETA: 0s - loss: 0.3428 - accuracy: 0.8380\n",
            "Epoch 8: val_loss did not improve from 0.68514\n",
            "14/14 [==============================] - 27s 2s/step - loss: 0.3428 - accuracy: 0.8380 - val_loss: 0.9305 - val_accuracy: 0.3333\n",
            "Epoch 9/100\n",
            "14/14 [==============================] - ETA: 0s - loss: 0.2901 - accuracy: 0.8773\n",
            "Epoch 9: val_loss did not improve from 0.68514\n",
            "14/14 [==============================] - 27s 2s/step - loss: 0.2901 - accuracy: 0.8773 - val_loss: 0.7418 - val_accuracy: 0.3333\n",
            "Epoch 10/100\n",
            "14/14 [==============================] - ETA: 0s - loss: 0.2723 - accuracy: 0.8819\n",
            "Epoch 10: val_loss improved from 0.68514 to 0.63679, saving model to /tmp/checkpoint.h5\n",
            "14/14 [==============================] - 27s 2s/step - loss: 0.2723 - accuracy: 0.8819 - val_loss: 0.6368 - val_accuracy: 0.6667\n",
            "Epoch 11/100\n",
            "14/14 [==============================] - ETA: 0s - loss: 0.2146 - accuracy: 0.9190\n",
            "Epoch 11: val_loss did not improve from 0.63679\n",
            "14/14 [==============================] - 27s 2s/step - loss: 0.2146 - accuracy: 0.9190 - val_loss: 0.6411 - val_accuracy: 0.6667\n",
            "Epoch 12/100\n",
            "14/14 [==============================] - ETA: 0s - loss: 0.1605 - accuracy: 0.9375\n",
            "Epoch 12: val_loss did not improve from 0.63679\n",
            "14/14 [==============================] - 27s 2s/step - loss: 0.1605 - accuracy: 0.9375 - val_loss: 0.6671 - val_accuracy: 0.6667\n",
            "Epoch 13/100\n",
            "14/14 [==============================] - ETA: 0s - loss: 0.1261 - accuracy: 0.9722\n",
            "Epoch 13: val_loss did not improve from 0.63679\n",
            "14/14 [==============================] - 27s 2s/step - loss: 0.1261 - accuracy: 0.9722 - val_loss: 0.6968 - val_accuracy: 0.6667\n",
            "Epoch 14/100\n",
            "14/14 [==============================] - ETA: 0s - loss: 0.1253 - accuracy: 0.9630\n",
            "Epoch 14: val_loss did not improve from 0.63679\n",
            "14/14 [==============================] - 27s 2s/step - loss: 0.1253 - accuracy: 0.9630 - val_loss: 0.8071 - val_accuracy: 0.6667\n",
            "Epoch 15/100\n",
            "14/14 [==============================] - ETA: 0s - loss: 0.0800 - accuracy: 0.9861\n",
            "Epoch 15: val_loss did not improve from 0.63679\n",
            "14/14 [==============================] - 27s 2s/step - loss: 0.0800 - accuracy: 0.9861 - val_loss: 0.8999 - val_accuracy: 0.6667\n",
            "Epoch 16/100\n",
            "14/14 [==============================] - ETA: 0s - loss: 0.0628 - accuracy: 0.9931\n",
            "Epoch 16: val_loss did not improve from 0.63679\n",
            "14/14 [==============================] - 27s 2s/step - loss: 0.0628 - accuracy: 0.9931 - val_loss: 0.8398 - val_accuracy: 0.6667\n",
            "Epoch 17/100\n",
            "14/14 [==============================] - ETA: 0s - loss: 0.0425 - accuracy: 1.0000\n",
            "Epoch 17: val_loss did not improve from 0.63679\n",
            "14/14 [==============================] - 27s 2s/step - loss: 0.0425 - accuracy: 1.0000 - val_loss: 1.0467 - val_accuracy: 0.6667\n",
            "Epoch 18/100\n",
            "14/14 [==============================] - ETA: 0s - loss: 0.0408 - accuracy: 1.0000\n",
            "Epoch 18: val_loss did not improve from 0.63679\n",
            "14/14 [==============================] - 27s 2s/step - loss: 0.0408 - accuracy: 1.0000 - val_loss: 0.9409 - val_accuracy: 0.6667\n",
            "Epoch 19/100\n",
            "14/14 [==============================] - ETA: 0s - loss: 0.0388 - accuracy: 0.9977\n",
            "Epoch 19: val_loss did not improve from 0.63679\n",
            "14/14 [==============================] - 27s 2s/step - loss: 0.0388 - accuracy: 0.9977 - val_loss: 1.1829 - val_accuracy: 0.6667\n",
            "Epoch 20/100\n",
            "14/14 [==============================] - ETA: 0s - loss: 0.0284 - accuracy: 1.0000\n",
            "Epoch 20: val_loss did not improve from 0.63679\n",
            "14/14 [==============================] - 27s 2s/step - loss: 0.0284 - accuracy: 1.0000 - val_loss: 1.2747 - val_accuracy: 0.6667\n",
            "Epoch 21/100\n",
            "14/14 [==============================] - ETA: 0s - loss: 0.0275 - accuracy: 1.0000\n",
            "Epoch 21: val_loss did not improve from 0.63679\n",
            "14/14 [==============================] - 27s 2s/step - loss: 0.0275 - accuracy: 1.0000 - val_loss: 1.4158 - val_accuracy: 0.6667\n",
            "Epoch 22/100\n",
            "14/14 [==============================] - ETA: 0s - loss: 0.0242 - accuracy: 1.0000\n",
            "Epoch 22: val_loss did not improve from 0.63679\n",
            "14/14 [==============================] - 27s 2s/step - loss: 0.0242 - accuracy: 1.0000 - val_loss: 1.4194 - val_accuracy: 0.6667\n",
            "Epoch 23/100\n",
            "14/14 [==============================] - ETA: 0s - loss: 0.0225 - accuracy: 1.0000\n",
            "Epoch 23: val_loss did not improve from 0.63679\n",
            "14/14 [==============================] - 27s 2s/step - loss: 0.0225 - accuracy: 1.0000 - val_loss: 1.5928 - val_accuracy: 0.6667\n",
            "Epoch 24/100\n",
            "14/14 [==============================] - ETA: 0s - loss: 0.0175 - accuracy: 1.0000\n",
            "Epoch 24: val_loss did not improve from 0.63679\n",
            "14/14 [==============================] - 27s 2s/step - loss: 0.0175 - accuracy: 1.0000 - val_loss: 1.5667 - val_accuracy: 0.6667\n",
            "Epoch 25/100\n",
            "14/14 [==============================] - ETA: 0s - loss: 0.0215 - accuracy: 0.9977\n",
            "Epoch 25: val_loss did not improve from 0.63679\n",
            "14/14 [==============================] - 27s 2s/step - loss: 0.0215 - accuracy: 0.9977 - val_loss: 1.8333 - val_accuracy: 0.6667\n",
            "Epoch 26/100\n",
            "14/14 [==============================] - ETA: 0s - loss: 0.0140 - accuracy: 1.0000\n",
            "Epoch 26: val_loss did not improve from 0.63679\n",
            "14/14 [==============================] - 27s 2s/step - loss: 0.0140 - accuracy: 1.0000 - val_loss: 1.8402 - val_accuracy: 0.6667\n",
            "Epoch 27/100\n",
            "14/14 [==============================] - ETA: 0s - loss: 0.0114 - accuracy: 1.0000\n",
            "Epoch 27: val_loss did not improve from 0.63679\n",
            "14/14 [==============================] - 27s 2s/step - loss: 0.0114 - accuracy: 1.0000 - val_loss: 1.9745 - val_accuracy: 0.6667\n",
            "Epoch 28/100\n",
            "14/14 [==============================] - ETA: 0s - loss: 0.0151 - accuracy: 1.0000\n",
            "Epoch 28: val_loss did not improve from 0.63679\n",
            "14/14 [==============================] - 27s 2s/step - loss: 0.0151 - accuracy: 1.0000 - val_loss: 2.0332 - val_accuracy: 0.6667\n",
            "Epoch 29/100\n",
            "14/14 [==============================] - ETA: 0s - loss: 0.0123 - accuracy: 1.0000\n",
            "Epoch 29: val_loss did not improve from 0.63679\n",
            "14/14 [==============================] - 27s 2s/step - loss: 0.0123 - accuracy: 1.0000 - val_loss: 2.2167 - val_accuracy: 0.6667\n",
            "Epoch 30/100\n",
            "14/14 [==============================] - ETA: 0s - loss: 0.0127 - accuracy: 1.0000\n",
            "Epoch 30: val_loss did not improve from 0.63679\n",
            "14/14 [==============================] - 27s 2s/step - loss: 0.0127 - accuracy: 1.0000 - val_loss: 2.3499 - val_accuracy: 0.6667\n",
            "Epoch 31/100\n",
            "14/14 [==============================] - ETA: 0s - loss: 0.0133 - accuracy: 1.0000\n",
            "Epoch 31: val_loss did not improve from 0.63679\n",
            "14/14 [==============================] - 27s 2s/step - loss: 0.0133 - accuracy: 1.0000 - val_loss: 2.3393 - val_accuracy: 0.6667\n",
            "Epoch 32/100\n",
            "14/14 [==============================] - ETA: 0s - loss: 0.0129 - accuracy: 1.0000\n",
            "Epoch 32: val_loss did not improve from 0.63679\n",
            "14/14 [==============================] - 27s 2s/step - loss: 0.0129 - accuracy: 1.0000 - val_loss: 2.3598 - val_accuracy: 0.6667\n",
            "Epoch 33/100\n",
            "14/14 [==============================] - ETA: 0s - loss: 0.0094 - accuracy: 1.0000\n",
            "Epoch 33: val_loss did not improve from 0.63679\n",
            "14/14 [==============================] - 27s 2s/step - loss: 0.0094 - accuracy: 1.0000 - val_loss: 2.2809 - val_accuracy: 0.6667\n",
            "Epoch 34/100\n",
            "14/14 [==============================] - ETA: 0s - loss: 0.0103 - accuracy: 1.0000\n",
            "Epoch 34: val_loss did not improve from 0.63679\n",
            "14/14 [==============================] - 27s 2s/step - loss: 0.0103 - accuracy: 1.0000 - val_loss: 2.3681 - val_accuracy: 0.6667\n",
            "Epoch 35/100\n",
            "14/14 [==============================] - ETA: 0s - loss: 0.0081 - accuracy: 1.0000\n",
            "Epoch 35: val_loss did not improve from 0.63679\n",
            "14/14 [==============================] - 27s 2s/step - loss: 0.0081 - accuracy: 1.0000 - val_loss: 2.4040 - val_accuracy: 0.6667\n",
            "Epoch 36/100\n",
            "14/14 [==============================] - ETA: 0s - loss: 0.0065 - accuracy: 1.0000\n",
            "Epoch 36: val_loss did not improve from 0.63679\n",
            "14/14 [==============================] - 27s 2s/step - loss: 0.0065 - accuracy: 1.0000 - val_loss: 2.4348 - val_accuracy: 0.6667\n",
            "Epoch 37/100\n",
            "14/14 [==============================] - ETA: 0s - loss: 0.0072 - accuracy: 1.0000\n",
            "Epoch 37: val_loss did not improve from 0.63679\n",
            "14/14 [==============================] - 27s 2s/step - loss: 0.0072 - accuracy: 1.0000 - val_loss: 2.3065 - val_accuracy: 0.6667\n",
            "Epoch 38/100\n",
            "14/14 [==============================] - ETA: 0s - loss: 0.0080 - accuracy: 1.0000\n",
            "Epoch 38: val_loss did not improve from 0.63679\n",
            "14/14 [==============================] - 27s 2s/step - loss: 0.0080 - accuracy: 1.0000 - val_loss: 2.4858 - val_accuracy: 0.6667\n",
            "Epoch 39/100\n",
            "14/14 [==============================] - ETA: 0s - loss: 0.0054 - accuracy: 1.0000\n",
            "Epoch 39: val_loss did not improve from 0.63679\n",
            "14/14 [==============================] - 27s 2s/step - loss: 0.0054 - accuracy: 1.0000 - val_loss: 2.4741 - val_accuracy: 0.6667\n",
            "Epoch 40/100\n",
            "14/14 [==============================] - ETA: 0s - loss: 0.0057 - accuracy: 1.0000\n",
            "Epoch 40: val_loss did not improve from 0.63679\n",
            "14/14 [==============================] - 27s 2s/step - loss: 0.0057 - accuracy: 1.0000 - val_loss: 2.4566 - val_accuracy: 0.6759\n",
            "Epoch 41/100\n",
            "14/14 [==============================] - ETA: 0s - loss: 0.0059 - accuracy: 1.0000\n",
            "Epoch 41: val_loss did not improve from 0.63679\n",
            "14/14 [==============================] - 27s 2s/step - loss: 0.0059 - accuracy: 1.0000 - val_loss: 2.4415 - val_accuracy: 0.6759\n",
            "Epoch 42/100\n",
            "14/14 [==============================] - ETA: 0s - loss: 0.0049 - accuracy: 1.0000\n",
            "Epoch 42: val_loss did not improve from 0.63679\n",
            "14/14 [==============================] - 27s 2s/step - loss: 0.0049 - accuracy: 1.0000 - val_loss: 2.3210 - val_accuracy: 0.6759\n",
            "Epoch 43/100\n",
            "14/14 [==============================] - ETA: 0s - loss: 0.0065 - accuracy: 1.0000\n",
            "Epoch 43: val_loss did not improve from 0.63679\n",
            "14/14 [==============================] - 27s 2s/step - loss: 0.0065 - accuracy: 1.0000 - val_loss: 2.3984 - val_accuracy: 0.6852\n",
            "Epoch 44/100\n",
            "14/14 [==============================] - ETA: 0s - loss: 0.0058 - accuracy: 1.0000\n",
            "Epoch 44: val_loss did not improve from 0.63679\n",
            "14/14 [==============================] - 27s 2s/step - loss: 0.0058 - accuracy: 1.0000 - val_loss: 2.1067 - val_accuracy: 0.6944\n",
            "Epoch 45/100\n",
            "14/14 [==============================] - ETA: 0s - loss: 0.0066 - accuracy: 1.0000\n",
            "Epoch 45: val_loss did not improve from 0.63679\n",
            "14/14 [==============================] - 27s 2s/step - loss: 0.0066 - accuracy: 1.0000 - val_loss: 2.0119 - val_accuracy: 0.6944\n",
            "Epoch 46/100\n",
            "14/14 [==============================] - ETA: 0s - loss: 0.0054 - accuracy: 1.0000\n",
            "Epoch 46: val_loss did not improve from 0.63679\n",
            "14/14 [==============================] - 27s 2s/step - loss: 0.0054 - accuracy: 1.0000 - val_loss: 1.8712 - val_accuracy: 0.6944\n",
            "Epoch 47/100\n",
            "14/14 [==============================] - ETA: 0s - loss: 0.0067 - accuracy: 1.0000\n",
            "Epoch 47: val_loss did not improve from 0.63679\n",
            "14/14 [==============================] - 27s 2s/step - loss: 0.0067 - accuracy: 1.0000 - val_loss: 1.8367 - val_accuracy: 0.6759\n",
            "Epoch 48/100\n",
            "14/14 [==============================] - ETA: 0s - loss: 0.0043 - accuracy: 1.0000\n",
            "Epoch 48: val_loss did not improve from 0.63679\n",
            "14/14 [==============================] - 27s 2s/step - loss: 0.0043 - accuracy: 1.0000 - val_loss: 1.7648 - val_accuracy: 0.6667\n",
            "Epoch 49/100\n",
            "14/14 [==============================] - ETA: 0s - loss: 0.0047 - accuracy: 1.0000\n",
            "Epoch 49: val_loss did not improve from 0.63679\n",
            "14/14 [==============================] - 27s 2s/step - loss: 0.0047 - accuracy: 1.0000 - val_loss: 1.6103 - val_accuracy: 0.6852\n",
            "Epoch 50/100\n",
            "14/14 [==============================] - ETA: 0s - loss: 0.0038 - accuracy: 1.0000\n",
            "Epoch 50: val_loss did not improve from 0.63679\n",
            "14/14 [==============================] - 27s 2s/step - loss: 0.0038 - accuracy: 1.0000 - val_loss: 1.5458 - val_accuracy: 0.6852\n",
            "Epoch 51/100\n",
            "14/14 [==============================] - ETA: 0s - loss: 0.0036 - accuracy: 1.0000\n",
            "Epoch 51: val_loss did not improve from 0.63679\n",
            "14/14 [==============================] - 27s 2s/step - loss: 0.0036 - accuracy: 1.0000 - val_loss: 1.4875 - val_accuracy: 0.6759\n",
            "Epoch 52/100\n",
            "14/14 [==============================] - ETA: 0s - loss: 0.0042 - accuracy: 1.0000\n",
            "Epoch 52: val_loss did not improve from 0.63679\n",
            "14/14 [==============================] - 27s 2s/step - loss: 0.0042 - accuracy: 1.0000 - val_loss: 1.3974 - val_accuracy: 0.6759\n",
            "Epoch 53/100\n",
            "14/14 [==============================] - ETA: 0s - loss: 0.0032 - accuracy: 1.0000\n",
            "Epoch 53: val_loss did not improve from 0.63679\n",
            "14/14 [==============================] - 27s 2s/step - loss: 0.0032 - accuracy: 1.0000 - val_loss: 1.3458 - val_accuracy: 0.6852\n",
            "Epoch 54/100\n",
            "14/14 [==============================] - ETA: 0s - loss: 0.0039 - accuracy: 1.0000\n",
            "Epoch 54: val_loss did not improve from 0.63679\n",
            "14/14 [==============================] - 27s 2s/step - loss: 0.0039 - accuracy: 1.0000 - val_loss: 1.3080 - val_accuracy: 0.6852\n",
            "Epoch 55/100\n",
            "14/14 [==============================] - ETA: 0s - loss: 0.0038 - accuracy: 1.0000\n",
            "Epoch 55: val_loss did not improve from 0.63679\n",
            "14/14 [==============================] - 27s 2s/step - loss: 0.0038 - accuracy: 1.0000 - val_loss: 1.2554 - val_accuracy: 0.6944\n",
            "Epoch 56/100\n",
            "14/14 [==============================] - ETA: 0s - loss: 0.0033 - accuracy: 1.0000\n",
            "Epoch 56: val_loss did not improve from 0.63679\n",
            "14/14 [==============================] - 27s 2s/step - loss: 0.0033 - accuracy: 1.0000 - val_loss: 1.2669 - val_accuracy: 0.6759\n",
            "Epoch 57/100\n",
            "14/14 [==============================] - ETA: 0s - loss: 0.0030 - accuracy: 1.0000\n",
            "Epoch 57: val_loss did not improve from 0.63679\n",
            "14/14 [==============================] - 27s 2s/step - loss: 0.0030 - accuracy: 1.0000 - val_loss: 1.2449 - val_accuracy: 0.6852\n",
            "Epoch 58/100\n",
            "14/14 [==============================] - ETA: 0s - loss: 0.0025 - accuracy: 1.0000\n",
            "Epoch 58: val_loss did not improve from 0.63679\n",
            "14/14 [==============================] - 27s 2s/step - loss: 0.0025 - accuracy: 1.0000 - val_loss: 1.2292 - val_accuracy: 0.6759\n",
            "Epoch 59/100\n",
            "14/14 [==============================] - ETA: 0s - loss: 0.0041 - accuracy: 1.0000\n",
            "Epoch 59: val_loss did not improve from 0.63679\n",
            "14/14 [==============================] - 27s 2s/step - loss: 0.0041 - accuracy: 1.0000 - val_loss: 1.2271 - val_accuracy: 0.6852\n",
            "Epoch 60/100\n",
            "14/14 [==============================] - ETA: 0s - loss: 0.0033 - accuracy: 1.0000\n",
            "Epoch 60: val_loss did not improve from 0.63679\n",
            "14/14 [==============================] - 27s 2s/step - loss: 0.0033 - accuracy: 1.0000 - val_loss: 1.2233 - val_accuracy: 0.6852\n",
            "Epoch 61/100\n",
            "14/14 [==============================] - ETA: 0s - loss: 0.0048 - accuracy: 1.0000\n",
            "Epoch 61: val_loss did not improve from 0.63679\n",
            "14/14 [==============================] - 27s 2s/step - loss: 0.0048 - accuracy: 1.0000 - val_loss: 1.2577 - val_accuracy: 0.6759\n",
            "Epoch 62/100\n",
            "14/14 [==============================] - ETA: 0s - loss: 0.0050 - accuracy: 1.0000\n",
            "Epoch 62: val_loss did not improve from 0.63679\n",
            "14/14 [==============================] - 27s 2s/step - loss: 0.0050 - accuracy: 1.0000 - val_loss: 1.2619 - val_accuracy: 0.6667\n",
            "Epoch 63/100\n",
            "14/14 [==============================] - ETA: 0s - loss: 0.0031 - accuracy: 1.0000\n",
            "Epoch 63: val_loss did not improve from 0.63679\n",
            "14/14 [==============================] - 27s 2s/step - loss: 0.0031 - accuracy: 1.0000 - val_loss: 1.2456 - val_accuracy: 0.6852\n",
            "Epoch 64/100\n",
            "14/14 [==============================] - ETA: 0s - loss: 0.0034 - accuracy: 1.0000\n",
            "Epoch 64: val_loss did not improve from 0.63679\n",
            "14/14 [==============================] - 27s 2s/step - loss: 0.0034 - accuracy: 1.0000 - val_loss: 1.2200 - val_accuracy: 0.7315\n",
            "Epoch 65/100\n",
            "14/14 [==============================] - ETA: 0s - loss: 0.0034 - accuracy: 1.0000\n",
            "Epoch 65: val_loss did not improve from 0.63679\n",
            "14/14 [==============================] - 27s 2s/step - loss: 0.0034 - accuracy: 1.0000 - val_loss: 1.2172 - val_accuracy: 0.7130\n",
            "Epoch 66/100\n",
            "14/14 [==============================] - ETA: 0s - loss: 0.0027 - accuracy: 1.0000\n",
            "Epoch 66: val_loss did not improve from 0.63679\n",
            "14/14 [==============================] - 27s 2s/step - loss: 0.0027 - accuracy: 1.0000 - val_loss: 1.2211 - val_accuracy: 0.7315\n",
            "Epoch 67/100\n",
            "14/14 [==============================] - ETA: 0s - loss: 0.0029 - accuracy: 1.0000\n",
            "Epoch 67: val_loss did not improve from 0.63679\n",
            "14/14 [==============================] - 27s 2s/step - loss: 0.0029 - accuracy: 1.0000 - val_loss: 1.2202 - val_accuracy: 0.7315\n",
            "Epoch 68/100\n",
            "14/14 [==============================] - ETA: 0s - loss: 0.0029 - accuracy: 1.0000\n",
            "Epoch 68: val_loss did not improve from 0.63679\n",
            "14/14 [==============================] - 27s 2s/step - loss: 0.0029 - accuracy: 1.0000 - val_loss: 1.2224 - val_accuracy: 0.7315\n",
            "Epoch 69/100\n",
            "14/14 [==============================] - ETA: 0s - loss: 0.0026 - accuracy: 1.0000\n",
            "Epoch 69: val_loss did not improve from 0.63679\n",
            "14/14 [==============================] - 27s 2s/step - loss: 0.0026 - accuracy: 1.0000 - val_loss: 1.2291 - val_accuracy: 0.7130\n",
            "Epoch 70/100\n",
            "14/14 [==============================] - ETA: 0s - loss: 0.0034 - accuracy: 1.0000\n",
            "Epoch 70: val_loss did not improve from 0.63679\n",
            "14/14 [==============================] - 27s 2s/step - loss: 0.0034 - accuracy: 1.0000 - val_loss: 1.2102 - val_accuracy: 0.7407\n",
            "Epoch 71/100\n",
            "14/14 [==============================] - ETA: 0s - loss: 0.0024 - accuracy: 1.0000\n",
            "Epoch 71: val_loss did not improve from 0.63679\n",
            "14/14 [==============================] - 27s 2s/step - loss: 0.0024 - accuracy: 1.0000 - val_loss: 1.2272 - val_accuracy: 0.7130\n",
            "Epoch 72/100\n",
            "14/14 [==============================] - ETA: 0s - loss: 0.0040 - accuracy: 1.0000\n",
            "Epoch 72: val_loss did not improve from 0.63679\n",
            "14/14 [==============================] - 27s 2s/step - loss: 0.0040 - accuracy: 1.0000 - val_loss: 1.2734 - val_accuracy: 0.6574\n",
            "Epoch 73/100\n",
            "14/14 [==============================] - ETA: 0s - loss: 0.0024 - accuracy: 1.0000\n",
            "Epoch 73: val_loss did not improve from 0.63679\n",
            "14/14 [==============================] - 27s 2s/step - loss: 0.0024 - accuracy: 1.0000 - val_loss: 1.2543 - val_accuracy: 0.6944\n",
            "Epoch 74/100\n",
            "14/14 [==============================] - ETA: 0s - loss: 0.0026 - accuracy: 1.0000\n",
            "Epoch 74: val_loss did not improve from 0.63679\n",
            "14/14 [==============================] - 27s 2s/step - loss: 0.0026 - accuracy: 1.0000 - val_loss: 1.2485 - val_accuracy: 0.7130\n",
            "Epoch 75/100\n",
            "14/14 [==============================] - ETA: 0s - loss: 0.0022 - accuracy: 1.0000\n",
            "Epoch 75: val_loss did not improve from 0.63679\n",
            "14/14 [==============================] - 27s 2s/step - loss: 0.0022 - accuracy: 1.0000 - val_loss: 1.2426 - val_accuracy: 0.7222\n",
            "Epoch 76/100\n",
            "14/14 [==============================] - ETA: 0s - loss: 0.0025 - accuracy: 1.0000\n",
            "Epoch 76: val_loss did not improve from 0.63679\n",
            "14/14 [==============================] - 27s 2s/step - loss: 0.0025 - accuracy: 1.0000 - val_loss: 1.2244 - val_accuracy: 0.7130\n",
            "Epoch 77/100\n",
            "14/14 [==============================] - ETA: 0s - loss: 0.0030 - accuracy: 1.0000\n",
            "Epoch 77: val_loss did not improve from 0.63679\n",
            "14/14 [==============================] - 27s 2s/step - loss: 0.0030 - accuracy: 1.0000 - val_loss: 1.2569 - val_accuracy: 0.7037\n",
            "Epoch 78/100\n",
            "14/14 [==============================] - ETA: 0s - loss: 0.0024 - accuracy: 1.0000\n",
            "Epoch 78: val_loss did not improve from 0.63679\n",
            "14/14 [==============================] - 27s 2s/step - loss: 0.0024 - accuracy: 1.0000 - val_loss: 1.2237 - val_accuracy: 0.7130\n",
            "Epoch 79/100\n",
            "14/14 [==============================] - ETA: 0s - loss: 0.0026 - accuracy: 1.0000\n",
            "Epoch 79: val_loss did not improve from 0.63679\n",
            "14/14 [==============================] - 27s 2s/step - loss: 0.0026 - accuracy: 1.0000 - val_loss: 1.2357 - val_accuracy: 0.7130\n",
            "Epoch 80/100\n",
            "14/14 [==============================] - ETA: 0s - loss: 0.0026 - accuracy: 1.0000\n",
            "Epoch 80: val_loss did not improve from 0.63679\n",
            "14/14 [==============================] - 27s 2s/step - loss: 0.0026 - accuracy: 1.0000 - val_loss: 1.2287 - val_accuracy: 0.7037\n",
            "Epoch 81/100\n",
            "14/14 [==============================] - ETA: 0s - loss: 0.0018 - accuracy: 1.0000\n",
            "Epoch 81: val_loss did not improve from 0.63679\n",
            "14/14 [==============================] - 27s 2s/step - loss: 0.0018 - accuracy: 1.0000 - val_loss: 1.2369 - val_accuracy: 0.7037\n",
            "Epoch 82/100\n",
            "14/14 [==============================] - ETA: 0s - loss: 0.0018 - accuracy: 1.0000\n",
            "Epoch 82: val_loss did not improve from 0.63679\n",
            "14/14 [==============================] - 27s 2s/step - loss: 0.0018 - accuracy: 1.0000 - val_loss: 1.2531 - val_accuracy: 0.7130\n",
            "Epoch 83/100\n",
            "14/14 [==============================] - ETA: 0s - loss: 0.0020 - accuracy: 1.0000\n",
            "Epoch 83: val_loss did not improve from 0.63679\n",
            "14/14 [==============================] - 27s 2s/step - loss: 0.0020 - accuracy: 1.0000 - val_loss: 1.2646 - val_accuracy: 0.7130\n",
            "Epoch 84/100\n",
            "14/14 [==============================] - ETA: 0s - loss: 0.0019 - accuracy: 1.0000\n",
            "Epoch 84: val_loss did not improve from 0.63679\n",
            "14/14 [==============================] - 27s 2s/step - loss: 0.0019 - accuracy: 1.0000 - val_loss: 1.2852 - val_accuracy: 0.7130\n",
            "Epoch 85/100\n",
            "14/14 [==============================] - ETA: 0s - loss: 0.0022 - accuracy: 1.0000\n",
            "Epoch 85: val_loss did not improve from 0.63679\n",
            "14/14 [==============================] - 27s 2s/step - loss: 0.0022 - accuracy: 1.0000 - val_loss: 1.2806 - val_accuracy: 0.7130\n",
            "Epoch 86/100\n",
            "14/14 [==============================] - ETA: 0s - loss: 0.0016 - accuracy: 1.0000\n",
            "Epoch 86: val_loss did not improve from 0.63679\n",
            "14/14 [==============================] - 27s 2s/step - loss: 0.0016 - accuracy: 1.0000 - val_loss: 1.2856 - val_accuracy: 0.7037\n",
            "Epoch 87/100\n",
            "14/14 [==============================] - ETA: 0s - loss: 0.0013 - accuracy: 1.0000\n",
            "Epoch 87: val_loss did not improve from 0.63679\n",
            "14/14 [==============================] - 27s 2s/step - loss: 0.0013 - accuracy: 1.0000 - val_loss: 1.2887 - val_accuracy: 0.7037\n",
            "Epoch 88/100\n",
            "14/14 [==============================] - ETA: 0s - loss: 0.0025 - accuracy: 1.0000\n",
            "Epoch 88: val_loss did not improve from 0.63679\n",
            "14/14 [==============================] - 27s 2s/step - loss: 0.0025 - accuracy: 1.0000 - val_loss: 1.2913 - val_accuracy: 0.7130\n",
            "Epoch 89/100\n",
            "14/14 [==============================] - ETA: 0s - loss: 0.0015 - accuracy: 1.0000\n",
            "Epoch 89: val_loss did not improve from 0.63679\n",
            "14/14 [==============================] - 27s 2s/step - loss: 0.0015 - accuracy: 1.0000 - val_loss: 1.2987 - val_accuracy: 0.7037\n",
            "Epoch 90/100\n",
            "14/14 [==============================] - ETA: 0s - loss: 0.0016 - accuracy: 1.0000\n",
            "Epoch 90: val_loss did not improve from 0.63679\n",
            "14/14 [==============================] - 27s 2s/step - loss: 0.0016 - accuracy: 1.0000 - val_loss: 1.2991 - val_accuracy: 0.7037\n",
            "Epoch 91/100\n",
            "14/14 [==============================] - ETA: 0s - loss: 0.0019 - accuracy: 1.0000\n",
            "Epoch 91: val_loss did not improve from 0.63679\n",
            "14/14 [==============================] - 27s 2s/step - loss: 0.0019 - accuracy: 1.0000 - val_loss: 1.3059 - val_accuracy: 0.7130\n",
            "Epoch 92/100\n",
            "14/14 [==============================] - ETA: 0s - loss: 0.0022 - accuracy: 1.0000\n",
            "Epoch 92: val_loss did not improve from 0.63679\n",
            "14/14 [==============================] - 27s 2s/step - loss: 0.0022 - accuracy: 1.0000 - val_loss: 1.3182 - val_accuracy: 0.7130\n",
            "Epoch 93/100\n",
            "14/14 [==============================] - ETA: 0s - loss: 0.0014 - accuracy: 1.0000\n",
            "Epoch 93: val_loss did not improve from 0.63679\n",
            "14/14 [==============================] - 27s 2s/step - loss: 0.0014 - accuracy: 1.0000 - val_loss: 1.3224 - val_accuracy: 0.7130\n",
            "Epoch 94/100\n",
            "14/14 [==============================] - ETA: 0s - loss: 0.0019 - accuracy: 1.0000\n",
            "Epoch 94: val_loss did not improve from 0.63679\n",
            "14/14 [==============================] - 27s 2s/step - loss: 0.0019 - accuracy: 1.0000 - val_loss: 1.3199 - val_accuracy: 0.7222\n",
            "Epoch 95/100\n",
            "14/14 [==============================] - ETA: 0s - loss: 0.0029 - accuracy: 1.0000\n",
            "Epoch 95: val_loss did not improve from 0.63679\n",
            "14/14 [==============================] - 27s 2s/step - loss: 0.0029 - accuracy: 1.0000 - val_loss: 1.3261 - val_accuracy: 0.7222\n",
            "Epoch 96/100\n",
            "14/14 [==============================] - ETA: 0s - loss: 0.0022 - accuracy: 1.0000\n",
            "Epoch 96: val_loss did not improve from 0.63679\n",
            "14/14 [==============================] - 27s 2s/step - loss: 0.0022 - accuracy: 1.0000 - val_loss: 1.3430 - val_accuracy: 0.7130\n",
            "Epoch 97/100\n",
            "14/14 [==============================] - ETA: 0s - loss: 0.0024 - accuracy: 1.0000\n",
            "Epoch 97: val_loss did not improve from 0.63679\n",
            "14/14 [==============================] - 27s 2s/step - loss: 0.0024 - accuracy: 1.0000 - val_loss: 1.3237 - val_accuracy: 0.6667\n",
            "Epoch 98/100\n",
            "14/14 [==============================] - ETA: 0s - loss: 0.0023 - accuracy: 1.0000\n",
            "Epoch 98: val_loss did not improve from 0.63679\n",
            "14/14 [==============================] - 27s 2s/step - loss: 0.0023 - accuracy: 1.0000 - val_loss: 1.3337 - val_accuracy: 0.7130\n",
            "Epoch 99/100\n",
            "14/14 [==============================] - ETA: 0s - loss: 0.0019 - accuracy: 1.0000\n",
            "Epoch 99: val_loss did not improve from 0.63679\n",
            "14/14 [==============================] - 27s 2s/step - loss: 0.0019 - accuracy: 1.0000 - val_loss: 1.3241 - val_accuracy: 0.7130\n",
            "Epoch 100/100\n",
            "14/14 [==============================] - ETA: 0s - loss: 0.0014 - accuracy: 1.0000\n",
            "Epoch 100: val_loss did not improve from 0.63679\n",
            "14/14 [==============================] - 27s 2s/step - loss: 0.0014 - accuracy: 1.0000 - val_loss: 1.3322 - val_accuracy: 0.7222\n"
          ]
        }
      ]
    },
    {
      "cell_type": "code",
      "source": [
        "cnn_model.save(\"cnn_model_2.h5py\")"
      ],
      "metadata": {
        "colab": {
          "base_uri": "https://localhost:8080/"
        },
        "id": "MDxMxiu5kQIa",
        "outputId": "48c27fc0-6227-4036-e7a3-272697933f5c"
      },
      "execution_count": 22,
      "outputs": [
        {
          "output_type": "stream",
          "name": "stdout",
          "text": [
            "INFO:tensorflow:Assets written to: cnn_model_2.h5py/assets\n"
          ]
        }
      ]
    },
    {
      "cell_type": "code",
      "source": [
        "vis_confusion_matrix(cm_cnn)\n",
        "\n",
        "vis_acc_loss(cnn_train)"
      ],
      "metadata": {
        "colab": {
          "base_uri": "https://localhost:8080/",
          "height": 865
        },
        "id": "dUvgJH3tkTww",
        "outputId": "4dd5c8ce-0200-41af-94a0-76e9f78463af"
      },
      "execution_count": 23,
      "outputs": [
        {
          "output_type": "display_data",
          "data": {
            "text/plain": [
              "<Figure size 432x288 with 2 Axes>"
            ],
            "image/png": "[encoded data removed]"
          },
          "metadata": {
            "needs_background": "light"
          }
        },
        {
          "output_type": "display_data",
          "data": {
            "text/plain": [
              "<Figure size 432x288 with 1 Axes>"
            ],
            "image/png": "[encoded data removed]"
          },
          "metadata": {
            "needs_background": "light"
          }
        },
        {
          "output_type": "display_data",
          "data": {
            "text/plain": [
              "<Figure size 432x288 with 1 Axes>"
            ],
            "image/png": "[encoded data removed]"
          },
          "metadata": {
            "needs_background": "light"
          }
        }
      ]
    },
    {
      "cell_type": "markdown",
      "source": [
        "## Test 3: LDA & CNN | Subject 3"
      ],
      "metadata": {
        "id": "g0I4h49AkgLN"
      }
    },
    {
      "cell_type": "code",
      "source": [
        "subject = 2\n",
        "\n",
        "train_X, test_X, train_y, test_y = get_train_test(active[subject], passive[subject], cue[subject])"
      ],
      "metadata": {
        "colab": {
          "base_uri": "https://localhost:8080/"
        },
        "id": "pzH7Eh0hkltQ",
        "outputId": "c54564b3-1590-42b5-d98a-5cbe3af6d4e0"
      },
      "execution_count": 24,
      "outputs": [
        {
          "output_type": "stream",
          "name": "stdout",
          "text": [
            "Filtering raw data in 1 contiguous segment\n",
            "Setting up high-pass filter at 1 Hz\n",
            "\n",
            "FIR filter parameters\n",
            "---------------------\n",
            "Designing a one-pass, zero-phase, non-causal highpass filter:\n",
            "- Windowed time-domain design (firwin) method\n",
            "- Hamming window with 0.0194 passband ripple and 53 dB stopband attenuation\n",
            "- Lower passband edge: 1.00\n",
            "- Lower transition bandwidth: 1.00 Hz (-6 dB cutoff frequency: 0.50 Hz)\n",
            "- Filter length: 331 samples (3.310 sec)\n",
            "\n",
            "Fitting ICA to data using 10 channels (please be patient, this may take a while)\n",
            "Selecting by number: 10 components\n",
            "Fitting ICA took 0.9s.\n",
            "Filtering raw data in 1 contiguous segment\n",
            "Setting up high-pass filter at 1 Hz\n",
            "\n",
            "FIR filter parameters\n",
            "---------------------\n",
            "Designing a one-pass, zero-phase, non-causal highpass filter:\n",
            "- Windowed time-domain design (firwin) method\n",
            "- Hamming window with 0.0194 passband ripple and 53 dB stopband attenuation\n",
            "- Lower passband edge: 1.00\n",
            "- Lower transition bandwidth: 1.00 Hz (-6 dB cutoff frequency: 0.50 Hz)\n",
            "- Filter length: 331 samples (3.310 sec)\n",
            "\n",
            "Fitting ICA to data using 10 channels (please be patient, this may take a while)\n",
            "Selecting by number: 10 components\n",
            "Fitting ICA took 13.8s.\n",
            "Filtering raw data in 1 contiguous segment\n",
            "Setting up high-pass filter at 1 Hz\n",
            "\n",
            "FIR filter parameters\n",
            "---------------------\n",
            "Designing a one-pass, zero-phase, non-causal highpass filter:\n",
            "- Windowed time-domain design (firwin) method\n",
            "- Hamming window with 0.0194 passband ripple and 53 dB stopband attenuation\n",
            "- Lower passband edge: 1.00\n",
            "- Lower transition bandwidth: 1.00 Hz (-6 dB cutoff frequency: 0.50 Hz)\n",
            "- Filter length: 331 samples (3.310 sec)\n",
            "\n"
          ]
        },
        {
          "output_type": "stream",
          "name": "stderr",
          "text": [
            "/usr/local/lib/python3.7/dist-packages/sklearn/decomposition/_fastica.py:119: ConvergenceWarning: FastICA did not converge. Consider increasing tolerance or the maximum number of iterations.\n",
            "  ConvergenceWarning,\n"
          ]
        },
        {
          "output_type": "stream",
          "name": "stdout",
          "text": [
            "Fitting ICA to data using 10 channels (please be patient, this may take a while)\n",
            "Selecting by number: 10 components\n",
            "Fitting ICA took 0.2s.\n"
          ]
        }
      ]
    },
    {
      "cell_type": "code",
      "source": [
        "clf_lda, cm_lda = lda_101(train_X, test_X, train_y, test_y) \n",
        "lda_models.append(clf_lda)\n",
        "vis_confusion_matrix(cm_lda)"
      ],
      "metadata": {
        "colab": {
          "base_uri": "https://localhost:8080/",
          "height": 388
        },
        "id": "QdVmed3Eknx_",
        "outputId": "2068c7c5-2afe-41c4-e1ce-d9594e7a78f8"
      },
      "execution_count": 25,
      "outputs": [
        {
          "output_type": "stream",
          "name": "stdout",
          "text": [
            "[[43 57]\n",
            " [81 69]]\n",
            "Accuracy0.448\n"
          ]
        },
        {
          "output_type": "display_data",
          "data": {
            "text/plain": [
              "<Figure size 432x288 with 2 Axes>"
            ],
            "image/png": "[encoded data removed]"
          },
          "metadata": {
            "needs_background": "light"
          }
        }
      ]
    },
    {
      "cell_type": "code",
      "source": [
        "clf_lda, cm_lda = lda_101(tune_tX, tune_tsX, train_y, test_y) \n",
        "lda_models.append(clf_lda)\n",
        "vis_confusion_matrix(cm_lda)"
      ],
      "metadata": {
        "colab": {
          "base_uri": "https://localhost:8080/",
          "height": 388
        },
        "id": "KoYS8-TMg_iU",
        "outputId": "d96726e0-359a-450c-e6d4-9d0615c33ca4"
      },
      "execution_count": null,
      "outputs": [
        {
          "output_type": "stream",
          "name": "stdout",
          "text": [
            "[[40 60]\n",
            " [67 83]]\n",
            "Accuracy0.492\n"
          ]
        },
        {
          "output_type": "display_data",
          "data": {
            "text/plain": [
              "<Figure size 432x288 with 2 Axes>"
            ],
            "image/png": "[encoded data removed]"
          },
          "metadata": {
            "needs_background": "light"
          }
        }
      ]
    },
    {
      "cell_type": "code",
      "source": [
        "cnn_model, cnn_train, test_eval, cm_cnn = cnn_101(train_X, \n",
        "                                                  test_X, \n",
        "                                                  train_y, \n",
        "                                                  test_y, 16 , 50)\n",
        "\n",
        "cnn_models.append(cnn_model)"
      ],
      "metadata": {
        "colab": {
          "base_uri": "https://localhost:8080/"
        },
        "id": "5T41swBEkoy_",
        "outputId": "6f53aa7b-eb3b-403b-d1d1-0d3943764f49"
      },
      "execution_count": 26,
      "outputs": [
        {
          "output_type": "stream",
          "name": "stdout",
          "text": [
            "Epoch 1/50\n"
          ]
        },
        {
          "output_type": "stream",
          "name": "stderr",
          "text": [
            "/usr/local/lib/python3.7/dist-packages/keras/optimizer_v2/gradient_descent.py:102: UserWarning: The `lr` argument is deprecated, use `learning_rate` instead.\n",
            "  super(SGD, self).__init__(name, **kwargs)\n"
          ]
        },
        {
          "output_type": "stream",
          "name": "stdout",
          "text": [
            "27/27 [==============================] - ETA: 0s - loss: 1.4359 - accuracy: 0.7222\n",
            "Epoch 1: val_loss improved from inf to 0.84641, saving model to /tmp/checkpoint.h5\n",
            "27/27 [==============================] - 29s 1s/step - loss: 1.4359 - accuracy: 0.7222 - val_loss: 0.8464 - val_accuracy: 0.2963\n",
            "Epoch 2/50\n",
            "27/27 [==============================] - ETA: 0s - loss: 0.3617 - accuracy: 0.8542\n",
            "Epoch 2: val_loss did not improve from 0.84641\n",
            "27/27 [==============================] - 27s 1s/step - loss: 0.3617 - accuracy: 0.8542 - val_loss: 0.8639 - val_accuracy: 0.2963\n",
            "Epoch 3/50\n",
            "27/27 [==============================] - ETA: 0s - loss: 0.3797 - accuracy: 0.8241\n",
            "Epoch 3: val_loss did not improve from 0.84641\n",
            "27/27 [==============================] - 27s 1s/step - loss: 0.3797 - accuracy: 0.8241 - val_loss: 0.8778 - val_accuracy: 0.2963\n",
            "Epoch 4/50\n",
            "27/27 [==============================] - ETA: 0s - loss: 0.3223 - accuracy: 0.8426\n",
            "Epoch 4: val_loss did not improve from 0.84641\n",
            "27/27 [==============================] - 27s 1s/step - loss: 0.3223 - accuracy: 0.8426 - val_loss: 0.9788 - val_accuracy: 0.2963\n",
            "Epoch 5/50\n",
            "27/27 [==============================] - ETA: 0s - loss: 0.3192 - accuracy: 0.8472\n",
            "Epoch 5: val_loss did not improve from 0.84641\n",
            "27/27 [==============================] - 27s 1s/step - loss: 0.3192 - accuracy: 0.8472 - val_loss: 0.9602 - val_accuracy: 0.2963\n",
            "Epoch 6/50\n",
            "27/27 [==============================] - ETA: 0s - loss: 0.2900 - accuracy: 0.8634\n",
            "Epoch 6: val_loss did not improve from 0.84641\n",
            "27/27 [==============================] - 27s 1s/step - loss: 0.2900 - accuracy: 0.8634 - val_loss: 1.3413 - val_accuracy: 0.2963\n",
            "Epoch 7/50\n",
            "27/27 [==============================] - ETA: 0s - loss: 0.3437 - accuracy: 0.8565\n",
            "Epoch 7: val_loss did not improve from 0.84641\n",
            "27/27 [==============================] - 27s 1s/step - loss: 0.3437 - accuracy: 0.8565 - val_loss: 1.4012 - val_accuracy: 0.2963\n",
            "Epoch 8/50\n",
            "27/27 [==============================] - ETA: 0s - loss: 0.2846 - accuracy: 0.8681\n",
            "Epoch 8: val_loss did not improve from 0.84641\n",
            "27/27 [==============================] - 27s 1s/step - loss: 0.2846 - accuracy: 0.8681 - val_loss: 1.1988 - val_accuracy: 0.3148\n",
            "Epoch 9/50\n",
            "27/27 [==============================] - ETA: 0s - loss: 0.2763 - accuracy: 0.8750\n",
            "Epoch 9: val_loss did not improve from 0.84641\n",
            "27/27 [==============================] - 27s 1s/step - loss: 0.2763 - accuracy: 0.8750 - val_loss: 0.8996 - val_accuracy: 0.3611\n",
            "Epoch 10/50\n",
            "27/27 [==============================] - ETA: 0s - loss: 0.3169 - accuracy: 0.8727\n",
            "Epoch 10: val_loss did not improve from 0.84641\n",
            "27/27 [==============================] - 27s 1s/step - loss: 0.3169 - accuracy: 0.8727 - val_loss: 1.1095 - val_accuracy: 0.3241\n",
            "Epoch 11/50\n",
            "27/27 [==============================] - ETA: 0s - loss: 0.2800 - accuracy: 0.8750\n",
            "Epoch 11: val_loss improved from 0.84641 to 0.83975, saving model to /tmp/checkpoint.h5\n",
            "27/27 [==============================] - 27s 1s/step - loss: 0.2800 - accuracy: 0.8750 - val_loss: 0.8397 - val_accuracy: 0.4259\n",
            "Epoch 12/50\n",
            "27/27 [==============================] - ETA: 0s - loss: 0.2727 - accuracy: 0.8819\n",
            "Epoch 12: val_loss did not improve from 0.83975\n",
            "27/27 [==============================] - 28s 1s/step - loss: 0.2727 - accuracy: 0.8819 - val_loss: 1.2520 - val_accuracy: 0.3241\n",
            "Epoch 13/50\n",
            "27/27 [==============================] - ETA: 0s - loss: 0.2454 - accuracy: 0.8912\n",
            "Epoch 13: val_loss did not improve from 0.83975\n",
            "27/27 [==============================] - 28s 1s/step - loss: 0.2454 - accuracy: 0.8912 - val_loss: 1.5841 - val_accuracy: 0.3241\n",
            "Epoch 14/50\n",
            "27/27 [==============================] - ETA: 0s - loss: 0.2935 - accuracy: 0.8796\n",
            "Epoch 14: val_loss did not improve from 0.83975\n",
            "27/27 [==============================] - 28s 1s/step - loss: 0.2935 - accuracy: 0.8796 - val_loss: 0.9454 - val_accuracy: 0.5278\n",
            "Epoch 15/50\n",
            "27/27 [==============================] - ETA: 0s - loss: 0.2637 - accuracy: 0.8819\n",
            "Epoch 15: val_loss did not improve from 0.83975\n",
            "27/27 [==============================] - 29s 1s/step - loss: 0.2637 - accuracy: 0.8819 - val_loss: 1.1506 - val_accuracy: 0.4074\n",
            "Epoch 16/50\n",
            "27/27 [==============================] - ETA: 0s - loss: 0.2736 - accuracy: 0.8634\n",
            "Epoch 16: val_loss did not improve from 0.83975\n",
            "27/27 [==============================] - 28s 1s/step - loss: 0.2736 - accuracy: 0.8634 - val_loss: 0.8409 - val_accuracy: 0.5926\n",
            "Epoch 17/50\n",
            "27/27 [==============================] - ETA: 0s - loss: 0.2577 - accuracy: 0.8750\n",
            "Epoch 17: val_loss did not improve from 0.83975\n",
            "27/27 [==============================] - 28s 1s/step - loss: 0.2577 - accuracy: 0.8750 - val_loss: 0.9293 - val_accuracy: 0.5648\n",
            "Epoch 18/50\n",
            "27/27 [==============================] - ETA: 0s - loss: 0.2412 - accuracy: 0.9005\n",
            "Epoch 18: val_loss did not improve from 0.83975\n",
            "27/27 [==============================] - 28s 1s/step - loss: 0.2412 - accuracy: 0.9005 - val_loss: 0.8908 - val_accuracy: 0.5833\n",
            "Epoch 19/50\n",
            "27/27 [==============================] - ETA: 0s - loss: 0.2241 - accuracy: 0.8889\n",
            "Epoch 19: val_loss improved from 0.83975 to 0.54660, saving model to /tmp/checkpoint.h5\n",
            "27/27 [==============================] - 28s 1s/step - loss: 0.2241 - accuracy: 0.8889 - val_loss: 0.5466 - val_accuracy: 0.7222\n",
            "Epoch 20/50\n",
            "27/27 [==============================] - ETA: 0s - loss: 0.2375 - accuracy: 0.8889\n",
            "Epoch 20: val_loss did not improve from 0.54660\n",
            "27/27 [==============================] - 27s 1s/step - loss: 0.2375 - accuracy: 0.8889 - val_loss: 0.7919 - val_accuracy: 0.6667\n",
            "Epoch 21/50\n",
            "27/27 [==============================] - ETA: 0s - loss: 0.2258 - accuracy: 0.8935\n",
            "Epoch 21: val_loss did not improve from 0.54660\n",
            "27/27 [==============================] - 27s 1s/step - loss: 0.2258 - accuracy: 0.8935 - val_loss: 0.9056 - val_accuracy: 0.6389\n",
            "Epoch 22/50\n",
            "27/27 [==============================] - ETA: 0s - loss: 0.2167 - accuracy: 0.9097\n",
            "Epoch 22: val_loss did not improve from 0.54660\n",
            "27/27 [==============================] - 27s 1s/step - loss: 0.2167 - accuracy: 0.9097 - val_loss: 0.7228 - val_accuracy: 0.6759\n",
            "Epoch 23/50\n",
            "27/27 [==============================] - ETA: 0s - loss: 0.1936 - accuracy: 0.9167\n",
            "Epoch 23: val_loss improved from 0.54660 to 0.49267, saving model to /tmp/checkpoint.h5\n",
            "27/27 [==============================] - 27s 1s/step - loss: 0.1936 - accuracy: 0.9167 - val_loss: 0.4927 - val_accuracy: 0.7685\n",
            "Epoch 24/50\n",
            "27/27 [==============================] - ETA: 0s - loss: 0.2085 - accuracy: 0.9190\n",
            "Epoch 24: val_loss improved from 0.49267 to 0.45827, saving model to /tmp/checkpoint.h5\n",
            "27/27 [==============================] - 27s 1s/step - loss: 0.2085 - accuracy: 0.9190 - val_loss: 0.4583 - val_accuracy: 0.7500\n",
            "Epoch 25/50\n",
            "27/27 [==============================] - ETA: 0s - loss: 0.2105 - accuracy: 0.9144\n",
            "Epoch 25: val_loss did not improve from 0.45827\n",
            "27/27 [==============================] - 27s 1s/step - loss: 0.2105 - accuracy: 0.9144 - val_loss: 0.8011 - val_accuracy: 0.6944\n",
            "Epoch 26/50\n",
            "27/27 [==============================] - ETA: 0s - loss: 0.2212 - accuracy: 0.9074\n",
            "Epoch 26: val_loss improved from 0.45827 to 0.29251, saving model to /tmp/checkpoint.h5\n",
            "27/27 [==============================] - 27s 1s/step - loss: 0.2212 - accuracy: 0.9074 - val_loss: 0.2925 - val_accuracy: 0.8704\n",
            "Epoch 27/50\n",
            "27/27 [==============================] - ETA: 0s - loss: 0.2244 - accuracy: 0.9051\n",
            "Epoch 27: val_loss did not improve from 0.29251\n",
            "27/27 [==============================] - 27s 1s/step - loss: 0.2244 - accuracy: 0.9051 - val_loss: 0.3978 - val_accuracy: 0.8056\n",
            "Epoch 28/50\n",
            "27/27 [==============================] - ETA: 0s - loss: 0.1925 - accuracy: 0.9074\n",
            "Epoch 28: val_loss did not improve from 0.29251\n",
            "27/27 [==============================] - 28s 1s/step - loss: 0.1925 - accuracy: 0.9074 - val_loss: 0.3034 - val_accuracy: 0.8981\n",
            "Epoch 29/50\n",
            "27/27 [==============================] - ETA: 0s - loss: 0.1416 - accuracy: 0.9491\n",
            "Epoch 29: val_loss did not improve from 0.29251\n",
            "27/27 [==============================] - 28s 1s/step - loss: 0.1416 - accuracy: 0.9491 - val_loss: 0.3257 - val_accuracy: 0.8519\n",
            "Epoch 30/50\n",
            "27/27 [==============================] - ETA: 0s - loss: 0.1862 - accuracy: 0.9259\n",
            "Epoch 30: val_loss did not improve from 0.29251\n",
            "27/27 [==============================] - 28s 1s/step - loss: 0.1862 - accuracy: 0.9259 - val_loss: 0.4482 - val_accuracy: 0.8241\n",
            "Epoch 31/50\n",
            "27/27 [==============================] - ETA: 0s - loss: 0.2350 - accuracy: 0.9259\n",
            "Epoch 31: val_loss did not improve from 0.29251\n",
            "27/27 [==============================] - 28s 1s/step - loss: 0.2350 - accuracy: 0.9259 - val_loss: 0.3527 - val_accuracy: 0.8241\n",
            "Epoch 32/50\n",
            "27/27 [==============================] - ETA: 0s - loss: 0.1623 - accuracy: 0.9398\n",
            "Epoch 32: val_loss did not improve from 0.29251\n",
            "27/27 [==============================] - 27s 1s/step - loss: 0.1623 - accuracy: 0.9398 - val_loss: 0.4734 - val_accuracy: 0.7870\n",
            "Epoch 33/50\n",
            "27/27 [==============================] - ETA: 0s - loss: 0.1850 - accuracy: 0.9190\n",
            "Epoch 33: val_loss did not improve from 0.29251\n",
            "27/27 [==============================] - 27s 1s/step - loss: 0.1850 - accuracy: 0.9190 - val_loss: 0.7285 - val_accuracy: 0.7593\n",
            "Epoch 34/50\n",
            "27/27 [==============================] - ETA: 0s - loss: 0.1428 - accuracy: 0.9329\n",
            "Epoch 34: val_loss did not improve from 0.29251\n",
            "27/27 [==============================] - 27s 1s/step - loss: 0.1428 - accuracy: 0.9329 - val_loss: 0.5173 - val_accuracy: 0.7593\n",
            "Epoch 35/50\n",
            "27/27 [==============================] - ETA: 0s - loss: 0.1300 - accuracy: 0.9375\n",
            "Epoch 35: val_loss did not improve from 0.29251\n",
            "27/27 [==============================] - 27s 1s/step - loss: 0.1300 - accuracy: 0.9375 - val_loss: 1.2415 - val_accuracy: 0.7130\n",
            "Epoch 36/50\n",
            "27/27 [==============================] - ETA: 0s - loss: 0.0889 - accuracy: 0.9676\n",
            "Epoch 36: val_loss did not improve from 0.29251\n",
            "27/27 [==============================] - 27s 1s/step - loss: 0.0889 - accuracy: 0.9676 - val_loss: 5.2407 - val_accuracy: 0.7037\n",
            "Epoch 37/50\n",
            "27/27 [==============================] - ETA: 0s - loss: 0.1080 - accuracy: 0.9514\n",
            "Epoch 37: val_loss did not improve from 0.29251\n",
            "27/27 [==============================] - 27s 1s/step - loss: 0.1080 - accuracy: 0.9514 - val_loss: 0.3760 - val_accuracy: 0.8333\n",
            "Epoch 38/50\n",
            "27/27 [==============================] - ETA: 0s - loss: 0.0833 - accuracy: 0.9676\n",
            "Epoch 38: val_loss did not improve from 0.29251\n",
            "27/27 [==============================] - 28s 1s/step - loss: 0.0833 - accuracy: 0.9676 - val_loss: 0.3804 - val_accuracy: 0.8056\n",
            "Epoch 39/50\n",
            "27/27 [==============================] - ETA: 0s - loss: 0.1940 - accuracy: 0.9167\n",
            "Epoch 39: val_loss did not improve from 0.29251\n",
            "27/27 [==============================] - 28s 1s/step - loss: 0.1940 - accuracy: 0.9167 - val_loss: 0.3249 - val_accuracy: 0.8426\n",
            "Epoch 40/50\n",
            "27/27 [==============================] - ETA: 0s - loss: 0.1180 - accuracy: 0.9583\n",
            "Epoch 40: val_loss did not improve from 0.29251\n",
            "27/27 [==============================] - 28s 1s/step - loss: 0.1180 - accuracy: 0.9583 - val_loss: 0.3116 - val_accuracy: 0.8333\n",
            "Epoch 41/50\n",
            "27/27 [==============================] - ETA: 0s - loss: 0.0723 - accuracy: 0.9676\n",
            "Epoch 41: val_loss did not improve from 0.29251\n",
            "27/27 [==============================] - 27s 1s/step - loss: 0.0723 - accuracy: 0.9676 - val_loss: 0.7432 - val_accuracy: 0.8056\n",
            "Epoch 42/50\n",
            "27/27 [==============================] - ETA: 0s - loss: 0.0845 - accuracy: 0.9630\n",
            "Epoch 42: val_loss did not improve from 0.29251\n",
            "27/27 [==============================] - 27s 1s/step - loss: 0.0845 - accuracy: 0.9630 - val_loss: 0.4178 - val_accuracy: 0.8796\n",
            "Epoch 43/50\n",
            "27/27 [==============================] - ETA: 0s - loss: 0.0547 - accuracy: 0.9792\n",
            "Epoch 43: val_loss did not improve from 0.29251\n",
            "27/27 [==============================] - 28s 1s/step - loss: 0.0547 - accuracy: 0.9792 - val_loss: 0.6555 - val_accuracy: 0.8611\n",
            "Epoch 44/50\n",
            "27/27 [==============================] - ETA: 0s - loss: 0.0720 - accuracy: 0.9722\n",
            "Epoch 44: val_loss did not improve from 0.29251\n",
            "27/27 [==============================] - 28s 1s/step - loss: 0.0720 - accuracy: 0.9722 - val_loss: 0.4795 - val_accuracy: 0.8426\n",
            "Epoch 45/50\n",
            "27/27 [==============================] - ETA: 0s - loss: 0.0402 - accuracy: 0.9907\n",
            "Epoch 45: val_loss did not improve from 0.29251\n",
            "27/27 [==============================] - 28s 1s/step - loss: 0.0402 - accuracy: 0.9907 - val_loss: 0.3212 - val_accuracy: 0.8519\n",
            "Epoch 46/50\n",
            "27/27 [==============================] - ETA: 0s - loss: 0.0564 - accuracy: 0.9792\n",
            "Epoch 46: val_loss did not improve from 0.29251\n",
            "27/27 [==============================] - 27s 1s/step - loss: 0.0564 - accuracy: 0.9792 - val_loss: 1.7351 - val_accuracy: 0.7130\n",
            "Epoch 47/50\n",
            "27/27 [==============================] - ETA: 0s - loss: 0.0249 - accuracy: 0.9931\n",
            "Epoch 47: val_loss did not improve from 0.29251\n",
            "27/27 [==============================] - 27s 1s/step - loss: 0.0249 - accuracy: 0.9931 - val_loss: 1.3764 - val_accuracy: 0.7407\n",
            "Epoch 48/50\n",
            "27/27 [==============================] - ETA: 0s - loss: 0.0225 - accuracy: 1.0000\n",
            "Epoch 48: val_loss did not improve from 0.29251\n",
            "27/27 [==============================] - 27s 1s/step - loss: 0.0225 - accuracy: 1.0000 - val_loss: 0.6802 - val_accuracy: 0.8426\n",
            "Epoch 49/50\n",
            "27/27 [==============================] - ETA: 0s - loss: 0.0550 - accuracy: 0.9792\n",
            "Epoch 49: val_loss did not improve from 0.29251\n",
            "27/27 [==============================] - 28s 1s/step - loss: 0.0550 - accuracy: 0.9792 - val_loss: 0.3675 - val_accuracy: 0.8333\n",
            "Epoch 50/50\n",
            "27/27 [==============================] - ETA: 0s - loss: 0.0340 - accuracy: 0.9907\n",
            "Epoch 50: val_loss did not improve from 0.29251\n",
            "27/27 [==============================] - 27s 1s/step - loss: 0.0340 - accuracy: 0.9907 - val_loss: 0.4841 - val_accuracy: 0.8148\n"
          ]
        }
      ]
    },
    {
      "cell_type": "code",
      "source": [
        "cnn_model.save(\"cnn_model_3.h5py\")"
      ],
      "metadata": {
        "colab": {
          "base_uri": "https://localhost:8080/"
        },
        "id": "e42__wWLkp7J",
        "outputId": "0a9524ff-f416-4bd6-ab79-4cb29e7f122e"
      },
      "execution_count": 27,
      "outputs": [
        {
          "output_type": "stream",
          "name": "stdout",
          "text": [
            "INFO:tensorflow:Assets written to: cnn_model_3.h5py/assets\n"
          ]
        }
      ]
    },
    {
      "cell_type": "code",
      "source": [
        "vis_confusion_matrix(cm_cnn)\n",
        "\n",
        "vis_acc_loss(cnn_train)"
      ],
      "metadata": {
        "colab": {
          "base_uri": "https://localhost:8080/",
          "height": 865
        },
        "id": "_0S0co2jkrTR",
        "outputId": "887dbb04-52c6-47f4-bed2-29b98bbbe47a"
      },
      "execution_count": 28,
      "outputs": [
        {
          "output_type": "display_data",
          "data": {
            "text/plain": [
              "<Figure size 432x288 with 2 Axes>"
            ],
            "image/png": "[encoded data removed]"
          },
          "metadata": {
            "needs_background": "light"
          }
        },
        {
          "output_type": "display_data",
          "data": {
            "text/plain": [
              "<Figure size 432x288 with 1 Axes>"
            ],
            "image/png": "[encoded data removed]"
          },
          "metadata": {
            "needs_background": "light"
          }
        },
        {
          "output_type": "display_data",
          "data": {
            "text/plain": [
              "<Figure size 432x288 with 1 Axes>"
            ],
            "image/png": "[encoded data removed]"
          },
          "metadata": {
            "needs_background": "light"
          }
        }
      ]
    },
    {
      "cell_type": "code",
      "source": [
        "print('Test loss:', test_eval[0])\n",
        "print('Test accuracy:', test_eval[1])"
      ],
      "metadata": {
        "colab": {
          "base_uri": "https://localhost:8080/"
        },
        "id": "TTSmlMoEB9tr",
        "outputId": "a62eef2e-14b3-48d3-87c5-501db2d5ce12"
      },
      "execution_count": 29,
      "outputs": [
        {
          "output_type": "stream",
          "name": "stdout",
          "text": [
            "Test loss: 1.9669924974441528\n",
            "Test accuracy: 0.5920000076293945\n"
          ]
        }
      ]
    },
    {
      "cell_type": "markdown",
      "source": [
        "# Tune Autoencoder"
      ],
      "metadata": {
        "id": "QrlhSOIae6Af"
      }
    },
    {
      "cell_type": "code",
      "source": [
        "tX, tsX, ty, tsy = train_X.copy(), test_X.copy(), train_y.copy(), test_y.copy()\n",
        "\n",
        "tAc, _ = raw_to_data(active[0], 2) #active\n",
        "tNi, _ = raw_to_data(active[0], 1) #ignore"
      ],
      "metadata": {
        "colab": {
          "base_uri": "https://localhost:8080/"
        },
        "id": "03MLQGmcQHdF",
        "outputId": "49da1497-a6b2-4b9b-8754-4b22bef02aa3"
      },
      "execution_count": 287,
      "outputs": [
        {
          "output_type": "stream",
          "name": "stdout",
          "text": [
            "Filtering raw data in 1 contiguous segment\n",
            "Setting up high-pass filter at 1 Hz\n",
            "\n",
            "FIR filter parameters\n",
            "---------------------\n",
            "Designing a one-pass, zero-phase, non-causal highpass filter:\n",
            "- Windowed time-domain design (firwin) method\n",
            "- Hamming window with 0.0194 passband ripple and 53 dB stopband attenuation\n",
            "- Lower passband edge: 1.00\n",
            "- Lower transition bandwidth: 1.00 Hz (-6 dB cutoff frequency: 0.50 Hz)\n",
            "- Filter length: 331 samples (3.310 sec)\n",
            "\n",
            "Fitting ICA to data using 10 channels (please be patient, this may take a while)\n",
            "Selecting by number: 10 components\n",
            "Fitting ICA took 1.0s.\n",
            "Filtering raw data in 1 contiguous segment\n",
            "Setting up high-pass filter at 1 Hz\n",
            "\n",
            "FIR filter parameters\n",
            "---------------------\n",
            "Designing a one-pass, zero-phase, non-causal highpass filter:\n",
            "- Windowed time-domain design (firwin) method\n",
            "- Hamming window with 0.0194 passband ripple and 53 dB stopband attenuation\n",
            "- Lower passband edge: 1.00\n",
            "- Lower transition bandwidth: 1.00 Hz (-6 dB cutoff frequency: 0.50 Hz)\n",
            "- Filter length: 331 samples (3.310 sec)\n",
            "\n",
            "Fitting ICA to data using 10 channels (please be patient, this may take a while)\n",
            "Selecting by number: 10 components\n",
            "Fitting ICA took 0.4s.\n"
          ]
        }
      ]
    },
    {
      "cell_type": "code",
      "source": [
        "from sklearn.preprocessing import MinMaxScaler\n",
        "import scipy\n",
        "\n",
        "scalers = {}\n",
        "for i in range(tX.shape[1]):\n",
        "  scalers[i] = MinMaxScaler()\n",
        "  tX[:, i, :] = sgolay2d(tX[:, i, :], window_size=29, order=0)\n",
        "  tX[:, i, :] = scalers[i].fit_transform(tX[:, i, :]) \n",
        "\n",
        "for i in range(tsX.shape[1]):\n",
        "  tsX[:, i, :] = sgolay2d(tsX[:, i, :], window_size=29, order=0)\n",
        "  tsX[:, i, :] = scalers[i].transform(tsX[:, i, :]) \n",
        "\n",
        "for i in range(tAc.shape[1]):\n",
        "  tAc[:, i, :] = sgolay2d(tAc[:, i, :], window_size=29, order=0)\n",
        "  tAc[:, i, :] = scalers[i].fit_transform(tAc[:, i, :]) \n",
        "\n",
        "for i in range(tNi.shape[1]):\n",
        "  tNi[:, i, :] = sgolay2d(tNi[:, i, :], window_size=29, order=0)\n",
        "  tNi[:, i, :] = scalers[i].fit_transform(tNi[:, i, :]) "
      ],
      "metadata": {
        "colab": {
          "base_uri": "https://localhost:8080/",
          "height": 351
        },
        "id": "2l_Rfrl92TzH",
        "outputId": "989f65bf-ec11-4dcb-a8f2-f0dd373e9b8e"
      },
      "execution_count": 288,
      "outputs": [
        {
          "output_type": "error",
          "ename": "ValueError",
          "evalue": "ignored",
          "traceback": [
            "\u001b[0;31m---------------------------------------------------------------------------\u001b[0m",
            "\u001b[0;31mValueError\u001b[0m                                Traceback (most recent call last)",
            "\u001b[0;32m<ipython-input-288-b807dab1d64d>\u001b[0m in \u001b[0;36m<module>\u001b[0;34m()\u001b[0m\n\u001b[1;32m      5\u001b[0m \u001b[0;32mfor\u001b[0m \u001b[0mi\u001b[0m \u001b[0;32min\u001b[0m \u001b[0mrange\u001b[0m\u001b[0;34m(\u001b[0m\u001b[0mtX\u001b[0m\u001b[0;34m.\u001b[0m\u001b[0mshape\u001b[0m\u001b[0;34m[\u001b[0m\u001b[0;36m1\u001b[0m\u001b[0;34m]\u001b[0m\u001b[0;34m)\u001b[0m\u001b[0;34m:\u001b[0m\u001b[0;34m\u001b[0m\u001b[0;34m\u001b[0m\u001b[0m\n\u001b[1;32m      6\u001b[0m   \u001b[0mscalers\u001b[0m\u001b[0;34m[\u001b[0m\u001b[0mi\u001b[0m\u001b[0;34m]\u001b[0m \u001b[0;34m=\u001b[0m \u001b[0mMinMaxScaler\u001b[0m\u001b[0;34m(\u001b[0m\u001b[0;34m)\u001b[0m\u001b[0;34m\u001b[0m\u001b[0;34m\u001b[0m\u001b[0m\n\u001b[0;32m----> 7\u001b[0;31m   \u001b[0mtX\u001b[0m\u001b[0;34m[\u001b[0m\u001b[0;34m:\u001b[0m\u001b[0;34m,\u001b[0m \u001b[0mi\u001b[0m\u001b[0;34m,\u001b[0m \u001b[0;34m:\u001b[0m\u001b[0;34m]\u001b[0m \u001b[0;34m=\u001b[0m \u001b[0msgolay2d\u001b[0m\u001b[0;34m(\u001b[0m\u001b[0mtX\u001b[0m\u001b[0;34m[\u001b[0m\u001b[0;34m:\u001b[0m\u001b[0;34m,\u001b[0m \u001b[0mi\u001b[0m\u001b[0;34m,\u001b[0m \u001b[0;34m:\u001b[0m\u001b[0;34m]\u001b[0m\u001b[0;34m,\u001b[0m \u001b[0mwindow_size\u001b[0m\u001b[0;34m=\u001b[0m\u001b[0;36m29\u001b[0m\u001b[0;34m,\u001b[0m \u001b[0morder\u001b[0m\u001b[0;34m=\u001b[0m\u001b[0;36m0\u001b[0m\u001b[0;34m)\u001b[0m\u001b[0;34m\u001b[0m\u001b[0;34m\u001b[0m\u001b[0m\n\u001b[0m\u001b[1;32m      8\u001b[0m   \u001b[0mtX\u001b[0m\u001b[0;34m[\u001b[0m\u001b[0;34m:\u001b[0m\u001b[0;34m,\u001b[0m \u001b[0mi\u001b[0m\u001b[0;34m,\u001b[0m \u001b[0;34m:\u001b[0m\u001b[0;34m]\u001b[0m \u001b[0;34m=\u001b[0m \u001b[0mscalers\u001b[0m\u001b[0;34m[\u001b[0m\u001b[0mi\u001b[0m\u001b[0;34m]\u001b[0m\u001b[0;34m.\u001b[0m\u001b[0mfit_transform\u001b[0m\u001b[0;34m(\u001b[0m\u001b[0mtX\u001b[0m\u001b[0;34m[\u001b[0m\u001b[0;34m:\u001b[0m\u001b[0;34m,\u001b[0m \u001b[0mi\u001b[0m\u001b[0;34m,\u001b[0m \u001b[0;34m:\u001b[0m\u001b[0;34m]\u001b[0m\u001b[0;34m)\u001b[0m\u001b[0;34m\u001b[0m\u001b[0;34m\u001b[0m\u001b[0m\n\u001b[1;32m      9\u001b[0m \u001b[0;34m\u001b[0m\u001b[0m\n",
            "\u001b[0;32m<ipython-input-74-43c69b6cb0d1>\u001b[0m in \u001b[0;36msgolay2d\u001b[0;34m(z, window_size, order, derivative)\u001b[0m\n\u001b[1;32m     36\u001b[0m     \u001b[0;31m# top band\u001b[0m\u001b[0;34m\u001b[0m\u001b[0;34m\u001b[0m\u001b[0;34m\u001b[0m\u001b[0m\n\u001b[1;32m     37\u001b[0m     \u001b[0mband\u001b[0m \u001b[0;34m=\u001b[0m \u001b[0mz\u001b[0m\u001b[0;34m[\u001b[0m\u001b[0;36m0\u001b[0m\u001b[0;34m,\u001b[0m \u001b[0;34m:\u001b[0m\u001b[0;34m]\u001b[0m\u001b[0;34m\u001b[0m\u001b[0;34m\u001b[0m\u001b[0m\n\u001b[0;32m---> 38\u001b[0;31m     \u001b[0mZ\u001b[0m\u001b[0;34m[\u001b[0m\u001b[0;34m:\u001b[0m\u001b[0mhalf_size\u001b[0m\u001b[0;34m,\u001b[0m \u001b[0mhalf_size\u001b[0m\u001b[0;34m:\u001b[0m\u001b[0;34m-\u001b[0m\u001b[0mhalf_size\u001b[0m\u001b[0;34m]\u001b[0m \u001b[0;34m=\u001b[0m  \u001b[0mband\u001b[0m \u001b[0;34m-\u001b[0m  \u001b[0mnp\u001b[0m\u001b[0;34m.\u001b[0m\u001b[0mabs\u001b[0m\u001b[0;34m(\u001b[0m \u001b[0mnp\u001b[0m\u001b[0;34m.\u001b[0m\u001b[0mflipud\u001b[0m\u001b[0;34m(\u001b[0m \u001b[0mz\u001b[0m\u001b[0;34m[\u001b[0m\u001b[0;36m1\u001b[0m\u001b[0;34m:\u001b[0m\u001b[0mhalf_size\u001b[0m\u001b[0;34m+\u001b[0m\u001b[0;36m1\u001b[0m\u001b[0;34m,\u001b[0m \u001b[0;34m:\u001b[0m\u001b[0;34m]\u001b[0m \u001b[0;34m)\u001b[0m \u001b[0;34m-\u001b[0m \u001b[0mband\u001b[0m \u001b[0;34m)\u001b[0m\u001b[0;34m\u001b[0m\u001b[0;34m\u001b[0m\u001b[0m\n\u001b[0m\u001b[1;32m     39\u001b[0m     \u001b[0;31m# bottom band\u001b[0m\u001b[0;34m\u001b[0m\u001b[0;34m\u001b[0m\u001b[0;34m\u001b[0m\u001b[0m\n\u001b[1;32m     40\u001b[0m     \u001b[0mband\u001b[0m \u001b[0;34m=\u001b[0m \u001b[0mz\u001b[0m\u001b[0;34m[\u001b[0m\u001b[0;34m-\u001b[0m\u001b[0;36m1\u001b[0m\u001b[0;34m,\u001b[0m \u001b[0;34m:\u001b[0m\u001b[0;34m]\u001b[0m\u001b[0;34m\u001b[0m\u001b[0;34m\u001b[0m\u001b[0m\n",
            "\u001b[0;31mValueError\u001b[0m: could not broadcast input array from shape (14,101,1) into shape (14,101)"
          ]
        }
      ]
    },
    {
      "cell_type": "code",
      "source": [
        "tAc"
      ],
      "metadata": {
        "colab": {
          "base_uri": "https://localhost:8080/"
        },
        "id": "qef0Vv8dXwfs",
        "outputId": "9daf8cf9-0b0a-43fc-96f9-c7799a539473"
      },
      "execution_count": 144,
      "outputs": [
        {
          "output_type": "execute_result",
          "data": {
            "text/plain": [
              "array([[[0.38500907, 0.36771269, 0.35146475, ..., 0.        ,\n",
              "         0.        , 0.        ],\n",
              "        [0.19350592, 0.18540414, 0.17376624, ..., 0.        ,\n",
              "         0.        , 0.        ],\n",
              "        [0.33220116, 0.31466149, 0.29318059, ..., 0.        ,\n",
              "         0.        , 0.        ],\n",
              "        ...,\n",
              "        [0.33538244, 0.30059472, 0.24913733, ..., 0.        ,\n",
              "         0.        , 0.        ],\n",
              "        [0.19144186, 0.17034593, 0.13488856, ..., 0.        ,\n",
              "         0.        , 0.        ],\n",
              "        [0.42325775, 0.39814275, 0.36250615, ..., 0.14582529,\n",
              "         0.14050965, 0.14165154]],\n",
              "\n",
              "       [[0.42148493, 0.40474292, 0.3877793 , ..., 0.06663047,\n",
              "         0.06793088, 0.06865711],\n",
              "        [0.24194773, 0.23364073, 0.22095808, ..., 0.06623024,\n",
              "         0.06746054, 0.06858191],\n",
              "        [0.38797089, 0.37027334, 0.34822591, ..., 0.05788903,\n",
              "         0.05889822, 0.05910216],\n",
              "        ...,\n",
              "        [0.30857584, 0.27435348, 0.22444351, ..., 0.0434603 ,\n",
              "         0.04346619, 0.04314691],\n",
              "        [0.1513984 , 0.13516433, 0.10332848, ..., 0.03478477,\n",
              "         0.03210513, 0.03000906],\n",
              "        [0.39179045, 0.36980948, 0.33661861, ..., 0.18010227,\n",
              "         0.1735867 , 0.17236983]],\n",
              "\n",
              "       [[0.42339268, 0.40653956, 0.38928111, ..., 0.08203733,\n",
              "         0.08296877, 0.08387807],\n",
              "        [0.24960163, 0.24154494, 0.2281913 , ..., 0.08836018,\n",
              "         0.08954868, 0.09057935],\n",
              "        [0.38370739, 0.36629425, 0.34391585, ..., 0.07901831,\n",
              "         0.07973474, 0.08117462],\n",
              "        ...,\n",
              "        [0.32537747, 0.29368962, 0.24662658, ..., 0.08359528,\n",
              "         0.08506779, 0.08655915],\n",
              "        [0.14425345, 0.13245956, 0.10561334, ..., 0.05248637,\n",
              "         0.05057168, 0.04764963],\n",
              "        [0.39613892, 0.37763284, 0.34893071, ..., 0.18405435,\n",
              "         0.17722989, 0.17456284]],\n",
              "\n",
              "       ...,\n",
              "\n",
              "       [[0.63074278, 0.64949196, 0.66156423, ..., 0.76406223,\n",
              "         0.74138463, 0.71549433],\n",
              "        [0.61802911, 0.62126039, 0.61634748, ..., 0.81338118,\n",
              "         0.79132238, 0.7694249 ],\n",
              "        [0.42832971, 0.42671101, 0.44484559, ..., 0.64829621,\n",
              "         0.62263909, 0.60100689],\n",
              "        ...,\n",
              "        [0.70341113, 0.70142988, 0.68798301, ..., 0.86330901,\n",
              "         0.86355819, 0.86355383],\n",
              "        [0.61843729, 0.66139996, 0.67976787, ..., 0.86054765,\n",
              "         0.86143536, 0.86203999],\n",
              "        [0.55318351, 0.58068364, 0.60711922, ..., 0.8884362 ,\n",
              "         0.88774369, 0.88868205]],\n",
              "\n",
              "       [[0.62939686, 0.65100063, 0.66530159, ..., 0.83421819,\n",
              "         0.80901702, 0.77969849],\n",
              "        [0.61774061, 0.62027573, 0.61394475, ..., 0.87907066,\n",
              "         0.85450022, 0.8295465 ],\n",
              "        [0.42879217, 0.42615316, 0.44318798, ..., 0.70114629,\n",
              "         0.67352592, 0.64888416],\n",
              "        ...,\n",
              "        [0.71327032, 0.70938175, 0.6940896 , ..., 0.94214776,\n",
              "         0.94225462, 0.94163656],\n",
              "        [0.64698921, 0.6922332 , 0.71220533, ..., 0.94055108,\n",
              "         0.94095946, 0.94145518],\n",
              "        [0.57660381, 0.60435338, 0.63034262, ..., 0.95839904,\n",
              "         0.95795239, 0.95866763]],\n",
              "\n",
              "       [[0.66316197, 0.68593984, 0.70135121, ..., 0.87350556,\n",
              "         0.84656041, 0.8169469 ],\n",
              "        [0.6568795 , 0.65754458, 0.65209664, ..., 0.91930015,\n",
              "         0.89310237, 0.8679758 ],\n",
              "        [0.43929134, 0.43706113, 0.45714325, ..., 0.73190557,\n",
              "         0.70214637, 0.67650524],\n",
              "        ...,\n",
              "        [0.73445386, 0.73119083, 0.71846912, ..., 1.        ,\n",
              "         1.        , 1.        ],\n",
              "        [0.6547679 , 0.70925102, 0.73439763, ..., 1.        ,\n",
              "         1.        , 1.        ],\n",
              "        [0.58055769, 0.61380657, 0.64378864, ..., 1.        ,\n",
              "         1.        , 1.        ]]])"
            ]
          },
          "metadata": {},
          "execution_count": 144
        }
      ]
    },
    {
      "cell_type": "code",
      "source": [
        "# tAc, _ = raw_to_data(active[0], 2) #active\n",
        "# tNi, _ = raw_to_data(active[0], 1) #ignore\n",
        "\n",
        "# scaler = StandardScaler()\n",
        "# for ch in range(ty.size):\n",
        "#   scaler.fit(tX[ch])\n",
        "#   tX[ch] = scaler.transform(tX[ch])\n",
        "#   if ch < tsy.size:\n",
        "#     tsX[ch] = scaler.transform(tsX[ch])\n",
        "\n",
        "#threshold active vs threshold non intention\n",
        "th_ac = np.zeros([10,101])\n",
        "th_ni = np.zeros([10,101])\n",
        "#print(th_ac)\n",
        "\n",
        "#set threshold\n",
        "# for n in range(ty.size):\n",
        "#   if ty[n] == 1:\n",
        "#     th_ac = th_ac + tX[n]\n",
        "#   else:\n",
        "#     th_ni = th_ni + tX[n]\n",
        "\n",
        "# th_ac = th_ac/np.count_nonzero(ty == 1)\n",
        "# th_ni = th_ni/np.count_nonzero(ty == 2)\n",
        "\n",
        "tAc = tAc.reshape(10,-1, 101)\n",
        "tNi = tNi.reshape(10,-1, 101)\n",
        "\n",
        "#two thresholds\n",
        "# th_ac = np.zeros([10, 101])\n",
        "# th_ni = np.zeros([10, 101])\n",
        "\n",
        "for ch in range(10):  \n",
        "  th_ac[ch] = np.mean(tAc[ch], axis = 0)\n",
        "  th_ni[ch] = np.mean(tNi[ch], axis = 0)\n",
        "\n",
        "#difference \n",
        "#formula |x1 - x2|/((x1 + x2)/2) = 0~1\n",
        "\n",
        "#sample \n",
        "#check true or false \n",
        "# true_value = 0\n",
        "# false_value = 0\n",
        "\n",
        "dec = np.arange(0.0, 3.1, 0.1)/10\n",
        "great_value = 0\n",
        "\n",
        "#save there the end value\n",
        "tune_tX = np.zeros(tX.shape)\n",
        "\n",
        "threshold = 0.5\n",
        "min_threshold = 0.3\n",
        "\n",
        "for k in dec:\n",
        "  true_value = 0\n",
        "  false_value = 0\n",
        "  not_change = 0\n",
        "  tmp_tX = np.zeros(tX.shape)\n",
        "  \n",
        "  for n in range(ty.size):\n",
        "    ac = np.absolute(tX[n] - th_ac)/((tX[n] + th_ac)/2)\n",
        "    ni = np.absolute(tX[n] - th_ni)/((tX[n] + th_ni)/2)\n",
        "\n",
        "    diff = ac > ni\n",
        "    true_count = np.count_nonzero(diff == True)\n",
        "    # print(true_count)\n",
        "\n",
        "    if true_count/1010 >= threshold + k: #0.6 = 372 0.61=\n",
        "      tmp_tX[n] = (tX[n] * th_ac)\n",
        "      # tmp_tX[n] = th_ac\n",
        "      if ty[n]==2: true_value += 1 \n",
        "      else: false_value += 1\n",
        "\n",
        "    elif true_count/1010 < min_threshold + k: \n",
        "      tmp_tX[n] = np.negative(tX[n] * th_ni)\n",
        "      # tmp_tX[n] = (-1)*tmp_tX[n]\n",
        "      # tmp_tX[n] = th_ni\n",
        "      if ty[n]==1: true_value += 1 \n",
        "      else: false_value += 1\n",
        "\n",
        "    else: \n",
        "      tmp_tX[n] = tX[n]\n",
        "      not_change += 1\n",
        "\n",
        "  #print((0.5+k), true_value, false_value)\n",
        "\n",
        "if great_value < true_value:\n",
        "  great_value = true_value\n",
        "  threshold += k\n",
        "  min_threshold += k\n",
        "  print('new value saved', 0.5+k, true_value, false_value, not_change, 'threshold', threshold)\n",
        "  tune_tX = tmp_tX\n",
        "\n",
        "#TEST VALUE\n",
        "tune_tsX = np.zeros(tsX.shape)\n",
        "for n in range(tsy.size):\n",
        "  ac = np.absolute(tsX[n] - th_ac)/((tsX[n] + th_ac)/2)\n",
        "  ni = np.absolute(tsX[n] - th_ni)/((tsX[n] + th_ni)/2)\n",
        "\n",
        "  diff = ac > ni\n",
        "  true_count = np.count_nonzero(diff == True)\n",
        "  #print(diff)\n",
        "\n",
        "  if true_count/1010 >= threshold:\n",
        "    tune_tsX[n] = (tsX[n] * th_ac)\n",
        "    # tune_tsX[n] = th_ac\n",
        "\n",
        "  elif true_count/1010 < min_threshold: \n",
        "    tune_tsX[n] = np.negative(tsX[n] * th_ni)\n",
        "    # tune_tsX[n] = (-1)*tune_tsX[n]\n",
        "    # tune_tsX[n] = th_ni\n",
        "    # print(n)\n",
        "\n",
        "  else: \n",
        "    tune_tsX[n] = tX[n]\n"
      ],
      "metadata": {
        "colab": {
          "base_uri": "https://localhost:8080/",
          "height": 232
        },
        "id": "Y1viVdkBe_cj",
        "outputId": "5eefa2b7-4999-4d6e-ed7e-d75d811aa16e"
      },
      "execution_count": 289,
      "outputs": [
        {
          "output_type": "error",
          "ename": "ValueError",
          "evalue": "ignored",
          "traceback": [
            "\u001b[0;31m---------------------------------------------------------------------------\u001b[0m",
            "\u001b[0;31mValueError\u001b[0m                                Traceback (most recent call last)",
            "\u001b[0;32m<ipython-input-289-3f30fb783406>\u001b[0m in \u001b[0;36m<module>\u001b[0;34m()\u001b[0m\n\u001b[1;32m     59\u001b[0m \u001b[0;34m\u001b[0m\u001b[0m\n\u001b[1;32m     60\u001b[0m   \u001b[0;32mfor\u001b[0m \u001b[0mn\u001b[0m \u001b[0;32min\u001b[0m \u001b[0mrange\u001b[0m\u001b[0;34m(\u001b[0m\u001b[0mty\u001b[0m\u001b[0;34m.\u001b[0m\u001b[0msize\u001b[0m\u001b[0;34m)\u001b[0m\u001b[0;34m:\u001b[0m\u001b[0;34m\u001b[0m\u001b[0;34m\u001b[0m\u001b[0m\n\u001b[0;32m---> 61\u001b[0;31m     \u001b[0mac\u001b[0m \u001b[0;34m=\u001b[0m \u001b[0mnp\u001b[0m\u001b[0;34m.\u001b[0m\u001b[0mabsolute\u001b[0m\u001b[0;34m(\u001b[0m\u001b[0mtX\u001b[0m\u001b[0;34m[\u001b[0m\u001b[0mn\u001b[0m\u001b[0;34m]\u001b[0m \u001b[0;34m-\u001b[0m \u001b[0mth_ac\u001b[0m\u001b[0;34m)\u001b[0m\u001b[0;34m/\u001b[0m\u001b[0;34m(\u001b[0m\u001b[0;34m(\u001b[0m\u001b[0mtX\u001b[0m\u001b[0;34m[\u001b[0m\u001b[0mn\u001b[0m\u001b[0;34m]\u001b[0m \u001b[0;34m+\u001b[0m \u001b[0mth_ac\u001b[0m\u001b[0;34m)\u001b[0m\u001b[0;34m/\u001b[0m\u001b[0;36m2\u001b[0m\u001b[0;34m)\u001b[0m\u001b[0;34m\u001b[0m\u001b[0;34m\u001b[0m\u001b[0m\n\u001b[0m\u001b[1;32m     62\u001b[0m     \u001b[0mni\u001b[0m \u001b[0;34m=\u001b[0m \u001b[0mnp\u001b[0m\u001b[0;34m.\u001b[0m\u001b[0mabsolute\u001b[0m\u001b[0;34m(\u001b[0m\u001b[0mtX\u001b[0m\u001b[0;34m[\u001b[0m\u001b[0mn\u001b[0m\u001b[0;34m]\u001b[0m \u001b[0;34m-\u001b[0m \u001b[0mth_ni\u001b[0m\u001b[0;34m)\u001b[0m\u001b[0;34m/\u001b[0m\u001b[0;34m(\u001b[0m\u001b[0;34m(\u001b[0m\u001b[0mtX\u001b[0m\u001b[0;34m[\u001b[0m\u001b[0mn\u001b[0m\u001b[0;34m]\u001b[0m \u001b[0;34m+\u001b[0m \u001b[0mth_ni\u001b[0m\u001b[0;34m)\u001b[0m\u001b[0;34m/\u001b[0m\u001b[0;36m2\u001b[0m\u001b[0;34m)\u001b[0m\u001b[0;34m\u001b[0m\u001b[0;34m\u001b[0m\u001b[0m\n\u001b[1;32m     63\u001b[0m \u001b[0;34m\u001b[0m\u001b[0m\n",
            "\u001b[0;31mValueError\u001b[0m: operands could not be broadcast together with shapes (10,101,1) (10,101) "
          ]
        }
      ]
    },
    {
      "cell_type": "code",
      "source": [
        "ch = 5\n",
        "n = 279\n",
        "print(tsy[n])\n",
        "plt.plot(th_ac[ch], label = \"ac\")\n",
        "plt.plot(th_ni[ch], label = \"ni\")\n",
        "plt.plot(tsX[n, ch, :], label = \"test x\")\n",
        "plt.plot(tune_tsX[n, ch, :], label = \"tune x\")\n",
        "plt.legend()\n",
        "plt.show()"
      ],
      "metadata": {
        "colab": {
          "base_uri": "https://localhost:8080/",
          "height": 282
        },
        "id": "Zsa6nwae7nWd",
        "outputId": "7784a2ff-5276-40f9-e13b-f2df82891a37"
      },
      "execution_count": 210,
      "outputs": [
        {
          "output_type": "stream",
          "name": "stdout",
          "text": [
            "2\n"
          ]
        },
        {
          "output_type": "display_data",
          "data": {
            "text/plain": [
              "<Figure size 432x288 with 1 Axes>"
            ],
            "image/png": "[encoded data removed]"
          },
          "metadata": {
            "needs_background": "light"
          }
        }
      ]
    },
    {
      "cell_type": "code",
      "source": [
        "tAc, _ = raw_to_data(active[0], 2) #active\n",
        "tNi, _ = raw_to_data(active[0], 1) #ignore"
      ],
      "metadata": {
        "colab": {
          "base_uri": "https://localhost:8080/"
        },
        "id": "wwrf3LFmLC7m",
        "outputId": "9b00dcb3-04aa-413b-9632-baab21d6bf19"
      },
      "execution_count": 31,
      "outputs": [
        {
          "output_type": "stream",
          "name": "stdout",
          "text": [
            "Filtering raw data in 1 contiguous segment\n",
            "Setting up high-pass filter at 1 Hz\n",
            "\n",
            "FIR filter parameters\n",
            "---------------------\n",
            "Designing a one-pass, zero-phase, non-causal highpass filter:\n",
            "- Windowed time-domain design (firwin) method\n",
            "- Hamming window with 0.0194 passband ripple and 53 dB stopband attenuation\n",
            "- Lower passband edge: 1.00\n",
            "- Lower transition bandwidth: 1.00 Hz (-6 dB cutoff frequency: 0.50 Hz)\n",
            "- Filter length: 331 samples (3.310 sec)\n",
            "\n",
            "Fitting ICA to data using 10 channels (please be patient, this may take a while)\n",
            "Selecting by number: 10 components\n",
            "Fitting ICA took 0.8s.\n",
            "Filtering raw data in 1 contiguous segment\n",
            "Setting up high-pass filter at 1 Hz\n",
            "\n",
            "FIR filter parameters\n",
            "---------------------\n",
            "Designing a one-pass, zero-phase, non-causal highpass filter:\n",
            "- Windowed time-domain design (firwin) method\n",
            "- Hamming window with 0.0194 passband ripple and 53 dB stopband attenuation\n",
            "- Lower passband edge: 1.00\n",
            "- Lower transition bandwidth: 1.00 Hz (-6 dB cutoff frequency: 0.50 Hz)\n",
            "- Filter length: 331 samples (3.310 sec)\n",
            "\n",
            "Fitting ICA to data using 10 channels (please be patient, this may take a while)\n",
            "Selecting by number: 10 components\n",
            "Fitting ICA took 0.2s.\n"
          ]
        }
      ]
    },
    {
      "cell_type": "code",
      "source": [
        "print(tX[:, 1, :].shape)\n",
        "tAc.reshape(10,-1, 101).shape\n",
        "tmp = th_ac.copy()\n",
        "print(tmp, tmp*(-1))\n",
        "\n",
        "plt.plot(tX[0])\n",
        "plt.plot(tX[0]*(-1))\n",
        "plt.show()"
      ],
      "metadata": {
        "colab": {
          "base_uri": "https://localhost:8080/",
          "height": 605
        },
        "id": "n9uk1q8LMuEQ",
        "outputId": "dc69f2be-616c-4697-907e-ed49d35db6df"
      },
      "execution_count": 183,
      "outputs": [
        {
          "output_type": "stream",
          "name": "stdout",
          "text": [
            "(540, 101)\n",
            "[[0.42767676 0.42663765 0.41990823 ... 0.27955363 0.28217901 0.2851024 ]\n",
            " [0.51975023 0.52100984 0.51809801 ... 0.40177789 0.41414644 0.42113105]\n",
            " [0.64611488 0.65635824 0.66183444 ... 0.48707139 0.49668694 0.49962107]\n",
            " ...\n",
            " [0.43924354 0.44471764 0.44264174 ... 0.43964737 0.4403302  0.44237442]\n",
            " [0.27919097 0.2831596  0.28221681 ... 0.36268622 0.36608652 0.36811399]\n",
            " [0.39889199 0.40653159 0.41107821 ... 0.45664198 0.46309655 0.46508958]] [[-0.42767676 -0.42663765 -0.41990823 ... -0.27955363 -0.28217901\n",
            "  -0.2851024 ]\n",
            " [-0.51975023 -0.52100984 -0.51809801 ... -0.40177789 -0.41414644\n",
            "  -0.42113105]\n",
            " [-0.64611488 -0.65635824 -0.66183444 ... -0.48707139 -0.49668694\n",
            "  -0.49962107]\n",
            " ...\n",
            " [-0.43924354 -0.44471764 -0.44264174 ... -0.43964737 -0.4403302\n",
            "  -0.44237442]\n",
            " [-0.27919097 -0.2831596  -0.28221681 ... -0.36268622 -0.36608652\n",
            "  -0.36811399]\n",
            " [-0.39889199 -0.40653159 -0.41107821 ... -0.45664198 -0.46309655\n",
            "  -0.46508958]]\n"
          ]
        },
        {
          "output_type": "display_data",
          "data": {
            "text/plain": [
              "<Figure size 432x288 with 1 Axes>"
            ],
            "image/png": "[encoded data removed]"
          },
          "metadata": {
            "needs_background": "light"
          }
        }
      ]
    },
    {
      "cell_type": "code",
      "source": [
        "tAc = tAc.reshape(10,-1, 101)\n",
        "tNi = tNi.reshape(10,-1, 101)\n",
        "th_ac = np.zeros([10, 101])\n",
        "th_ni = np.zeros([10, 101])\n",
        "\n",
        "for ch in range(10):\n",
        "  th_ac[ch] = np.mean(tAc[ch], axis = 0)\n",
        "  th_ni[ch] = np.mean(tNi[ch], axis = 0)\n",
        "\n",
        "\n",
        "\n",
        "plt.plot(th_ac[0], label = \"ac\")\n",
        "plt.plot(th_ni[0], label = \"ni\")\n",
        "plt.legend()\n",
        "plt.show()\n",
        "\n"
      ],
      "metadata": {
        "colab": {
          "base_uri": "https://localhost:8080/",
          "height": 265
        },
        "id": "dTZmmIeJMGSb",
        "outputId": "98c11d3f-995b-4a5e-ca57-fd13df8d3cd4"
      },
      "execution_count": 59,
      "outputs": [
        {
          "output_type": "display_data",
          "data": {
            "text/plain": [
              "<Figure size 432x288 with 1 Axes>"
            ],
            "image/png": "[encoded data removed]"
          },
          "metadata": {
            "needs_background": "light"
          }
        }
      ]
    },
    {
      "cell_type": "code",
      "source": [
        "th_ac.shape"
      ],
      "metadata": {
        "colab": {
          "base_uri": "https://localhost:8080/"
        },
        "id": "E5LKE2YTPe2W",
        "outputId": "a574be41-a1ed-4d38-fb81-96ff55c6b03c"
      },
      "execution_count": 45,
      "outputs": [
        {
          "output_type": "execute_result",
          "data": {
            "text/plain": [
              "(10, 101)"
            ]
          },
          "metadata": {},
          "execution_count": 45
        }
      ]
    },
    {
      "cell_type": "code",
      "source": [
        "k = 3\n",
        "m = 123\n",
        "data_ac = th_ac.copy()\n",
        "data_ni = th_ni.copy()\n",
        "\n",
        "# data_ac = np.squeeze(tmp_ac[k,:]) # Shape is now: (10, 80)\n",
        "\n",
        "# data_ni = np.squeeze(tmp_ni[k, :]) # Shape is now: (10, 80)\n",
        "\n",
        "# data_raw = np.squeeze(tX[m, k, :]) # Shape is now: (10, 80)\n",
        "print(ty[m])\n",
        "\n",
        "data_ac[k] = savitzky_golay(data_ac[k], window_size=29, order=4)\n",
        "data_ni[k] = savitzky_golay(data_ni[k], window_size=29, order=4)\n",
        "\n",
        "if ty[m] == 1: \n",
        "  after_tune = (tX[m] + data_ac)/2\n",
        "else: \n",
        "  after_tune = (tX[m] + data_ni)/2\n",
        "\n",
        "\n",
        "\n",
        "plt.plot(data_ac[k], label=\"th_ac\")\n",
        "plt.plot(data_ni[k], label=\"th_ni\")\n",
        "plt.plot(tX[m, k, :], label=\"raw\")\n",
        "plt.plot(after_tune[k, :], label=\"new data\") # plotting by columns\n",
        "plt.legend()\n",
        "plt.show()"
      ],
      "metadata": {
        "colab": {
          "base_uri": "https://localhost:8080/",
          "height": 370
        },
        "id": "AYMpNE2b7830",
        "outputId": "eb51dcae-10d2-4d1f-cfac-44c286f8b37c"
      },
      "execution_count": 106,
      "outputs": [
        {
          "output_type": "stream",
          "name": "stdout",
          "text": [
            "1\n"
          ]
        },
        {
          "output_type": "stream",
          "name": "stderr",
          "text": [
            "/usr/local/lib/python3.7/dist-packages/ipykernel_launcher.py:53: DeprecationWarning: `np.int` is a deprecated alias for the builtin `int`. To silence this warning, use `int` by itself. Doing this will not modify any behavior and is safe. When replacing `np.int`, you may wish to use e.g. `np.int64` or `np.int32` to specify the precision. If you wish to review your current use, check the release note link for additional information.\n",
            "Deprecated in NumPy 1.20; for more details and guidance: https://numpy.org/devdocs/release/1.20.0-notes.html#deprecations\n",
            "/usr/local/lib/python3.7/dist-packages/ipykernel_launcher.py:54: DeprecationWarning: `np.int` is a deprecated alias for the builtin `int`. To silence this warning, use `int` by itself. Doing this will not modify any behavior and is safe. When replacing `np.int`, you may wish to use e.g. `np.int64` or `np.int32` to specify the precision. If you wish to review your current use, check the release note link for additional information.\n",
            "Deprecated in NumPy 1.20; for more details and guidance: https://numpy.org/devdocs/release/1.20.0-notes.html#deprecations\n"
          ]
        },
        {
          "output_type": "display_data",
          "data": {
            "text/plain": [
              "<Figure size 432x288 with 1 Axes>"
            ],
            "image/png": "[encoded data removed]"
          },
          "metadata": {
            "needs_background": "light"
          }
        }
      ]
    },
    {
      "cell_type": "code",
      "source": [
        "ac, _ = raw_to_data(active[0], 0)\n",
        "pas, _ = raw_to_data(passive[0], 1)"
      ],
      "metadata": {
        "colab": {
          "base_uri": "https://localhost:8080/"
        },
        "id": "ZEtzte5dJ35m",
        "outputId": "87b5b048-c891-489c-cd8f-c03a1b878136"
      },
      "execution_count": 76,
      "outputs": [
        {
          "output_type": "stream",
          "name": "stdout",
          "text": [
            "Filtering raw data in 1 contiguous segment\n",
            "Setting up high-pass filter at 1 Hz\n",
            "\n",
            "FIR filter parameters\n",
            "---------------------\n",
            "Designing a one-pass, zero-phase, non-causal highpass filter:\n",
            "- Windowed time-domain design (firwin) method\n",
            "- Hamming window with 0.0194 passband ripple and 53 dB stopband attenuation\n",
            "- Lower passband edge: 1.00\n",
            "- Lower transition bandwidth: 1.00 Hz (-6 dB cutoff frequency: 0.50 Hz)\n",
            "- Filter length: 331 samples (3.310 sec)\n",
            "\n",
            "Fitting ICA to data using 10 channels (please be patient, this may take a while)\n",
            "Selecting by number: 10 components\n",
            "Fitting ICA took 1.6s.\n",
            "Filtering raw data in 1 contiguous segment\n",
            "Setting up high-pass filter at 1 Hz\n",
            "\n",
            "FIR filter parameters\n",
            "---------------------\n",
            "Designing a one-pass, zero-phase, non-causal highpass filter:\n",
            "- Windowed time-domain design (firwin) method\n",
            "- Hamming window with 0.0194 passband ripple and 53 dB stopband attenuation\n",
            "- Lower passband edge: 1.00\n",
            "- Lower transition bandwidth: 1.00 Hz (-6 dB cutoff frequency: 0.50 Hz)\n",
            "- Filter length: 331 samples (3.310 sec)\n",
            "\n",
            "Fitting ICA to data using 10 channels (please be patient, this may take a while)\n",
            "Selecting by number: 10 components\n",
            "Fitting ICA took 0.8s.\n"
          ]
        }
      ]
    },
    {
      "cell_type": "code",
      "source": [
        "plt_ac = np.mean(ac[:,4,:], axis =0)*100\n",
        "plt_ni = np.mean(pas[:,1,:], axis =0)*100\n",
        "\n",
        "z = plt_ac\n",
        "print(z.shape)\n",
        "\n",
        "plt_ac_sg = savitzky_golay(z, window_size=35, order=0)\n",
        "plt_ni_sg = savitzky_golay(plt_ni, window_size=35, order=0)\n",
        "\n",
        "plt.plot(plt_ni_sg, label = \"filter_ni\")\n",
        "plt.plot(plt_ac_sg, label = \"filter_ac\")\n",
        "plt.plot(plt_ac, label = \"ac\")\n",
        "plt.plot(plt_ni, label = \"ni\")\n",
        "plt.legend()\n",
        "plt.show()"
      ],
      "metadata": {
        "colab": {
          "base_uri": "https://localhost:8080/",
          "height": 370
        },
        "id": "cVAseztUK7a5",
        "outputId": "c4b4f815-94e2-4073-bb29-dff225cca45a"
      },
      "execution_count": 101,
      "outputs": [
        {
          "output_type": "stream",
          "name": "stdout",
          "text": [
            "(101,)\n"
          ]
        },
        {
          "output_type": "stream",
          "name": "stderr",
          "text": [
            "/usr/local/lib/python3.7/dist-packages/ipykernel_launcher.py:53: DeprecationWarning: `np.int` is a deprecated alias for the builtin `int`. To silence this warning, use `int` by itself. Doing this will not modify any behavior and is safe. When replacing `np.int`, you may wish to use e.g. `np.int64` or `np.int32` to specify the precision. If you wish to review your current use, check the release note link for additional information.\n",
            "Deprecated in NumPy 1.20; for more details and guidance: https://numpy.org/devdocs/release/1.20.0-notes.html#deprecations\n",
            "/usr/local/lib/python3.7/dist-packages/ipykernel_launcher.py:54: DeprecationWarning: `np.int` is a deprecated alias for the builtin `int`. To silence this warning, use `int` by itself. Doing this will not modify any behavior and is safe. When replacing `np.int`, you may wish to use e.g. `np.int64` or `np.int32` to specify the precision. If you wish to review your current use, check the release note link for additional information.\n",
            "Deprecated in NumPy 1.20; for more details and guidance: https://numpy.org/devdocs/release/1.20.0-notes.html#deprecations\n"
          ]
        },
        {
          "output_type": "display_data",
          "data": {
            "text/plain": [
              "<Figure size 432x288 with 1 Axes>"
            ],
            "image/png": "[encoded data removed]"
          },
          "metadata": {
            "needs_background": "light"
          }
        }
      ]
    },
    {
      "cell_type": "code",
      "source": [
        "plt_ac.shape"
      ],
      "metadata": {
        "colab": {
          "base_uri": "https://localhost:8080/"
        },
        "id": "v2dfaG_trDyu",
        "outputId": "1e7771f7-0406-4d35-8184-ff915a311146"
      },
      "execution_count": 80,
      "outputs": [
        {
          "output_type": "execute_result",
          "data": {
            "text/plain": [
              "(101,)"
            ]
          },
          "metadata": {},
          "execution_count": 80
        }
      ]
    },
    {
      "cell_type": "code",
      "source": [
        "cnn_model = Sequential()\n",
        "cnn_model.add(Conv2D(8, kernel_size=(4, 40),activation='relu',input_shape=(10,101,1),padding='same'))\n",
        "# cnn_model.add(MaxPooling2D((2, 2),padding='same'))\n",
        "cnn_model.add(BatchNormalization(trainable = True))\n",
        "cnn_model.add(Dropout(0.2))\n",
        "\n",
        "cnn_model.add(Conv2D(16, (4, 80), activation='relu',padding='same'))\n",
        "# cnn_model.add(MaxPooling2D(pool_size=(2, 2),padding='same'))\n",
        "cnn_model.add(BatchNormalization(trainable = True))\n",
        "cnn_model.add(Dropout(0.25))\n",
        "\n",
        "cnn_model.add(Conv2D(32, (4, 80), activation='relu',padding='same'))         \n",
        "# cnn_model.add(MaxPooling2D(pool_size=(2, 2),padding='same'))\n",
        "cnn_model.add(BatchNormalization(trainable = True))\n",
        "cnn_model.add(Dropout(0.3))\n",
        "\n",
        "cnn_model.add(Flatten())\n",
        "cnn_model.add(Dense(128, activation='relu'))\n",
        "cnn_model.add(Dense(2, activation='sigmoid'))\n",
        "\n",
        "cnn_model.summary()"
      ],
      "metadata": {
        "colab": {
          "base_uri": "https://localhost:8080/"
        },
        "id": "eV29kaObNWf2",
        "outputId": "9fb18530-b00f-45c1-fead-bcf1cdc04f96"
      },
      "execution_count": null,
      "outputs": [
        {
          "output_type": "stream",
          "name": "stdout",
          "text": [
            "Model: \"sequential_19\"\n",
            "_________________________________________________________________\n",
            " Layer (type)                Output Shape              Param #   \n",
            "=================================================================\n",
            " conv2d_57 (Conv2D)          (None, 10, 101, 8)        1288      \n",
            "                                                                 \n",
            " batch_normalization_46 (Bat  (None, 10, 101, 8)       32        \n",
            " chNormalization)                                                \n",
            "                                                                 \n",
            " dropout_54 (Dropout)        (None, 10, 101, 8)        0         \n",
            "                                                                 \n",
            " conv2d_58 (Conv2D)          (None, 10, 101, 16)       40976     \n",
            "                                                                 \n",
            " batch_normalization_47 (Bat  (None, 10, 101, 16)      64        \n",
            " chNormalization)                                                \n",
            "                                                                 \n",
            " dropout_55 (Dropout)        (None, 10, 101, 16)       0         \n",
            "                                                                 \n",
            " conv2d_59 (Conv2D)          (None, 10, 101, 32)       163872    \n",
            "                                                                 \n",
            " batch_normalization_48 (Bat  (None, 10, 101, 32)      128       \n",
            " chNormalization)                                                \n",
            "                                                                 \n",
            " dropout_56 (Dropout)        (None, 10, 101, 32)       0         \n",
            "                                                                 \n",
            " flatten_19 (Flatten)        (None, 32320)             0         \n",
            "                                                                 \n",
            " dense_38 (Dense)            (None, 128)               4137088   \n",
            "                                                                 \n",
            " dense_39 (Dense)            (None, 2)                 258       \n",
            "                                                                 \n",
            "=================================================================\n",
            "Total params: 4,343,706\n",
            "Trainable params: 4,343,594\n",
            "Non-trainable params: 112\n",
            "_________________________________________________________________\n"
          ]
        }
      ]
    },
    {
      "cell_type": "code",
      "source": [
        "def sgolay2d ( z, window_size, order, derivative=None):\n",
        "    \"\"\"\n",
        "    \"\"\"\n",
        "    # number of terms in the polynomial expression\n",
        "    n_terms = ( order + 1 ) * ( order + 2)  / 2.0\n",
        "    \n",
        "    if  window_size % 2 == 0:\n",
        "        raise ValueError('window_size must be odd')\n",
        "    \n",
        "    if window_size**2 < n_terms:\n",
        "        raise ValueError('order is too high for the window size')\n",
        "\n",
        "    half_size = window_size // 2\n",
        "    \n",
        "    # exponents of the polynomial. \n",
        "    # p(x,y) = a0 + a1*x + a2*y + a3*x^2 + a4*y^2 + a5*x*y + ... \n",
        "    # this line gives a list of two item tuple. Each tuple contains \n",
        "    # the exponents of the k-th term. First element of tuple is for x\n",
        "    # second element for y.\n",
        "    # Ex. exps = [(0,0), (1,0), (0,1), (2,0), (1,1), (0,2), ...]\n",
        "    exps = [ (k-n, n) for k in range(order+1) for n in range(k+1) ]\n",
        "    \n",
        "    # coordinates of points\n",
        "    ind = np.arange(-half_size, half_size+1, dtype=np.float64)\n",
        "    dx = np.repeat( ind, window_size )\n",
        "    dy = np.tile( ind, [window_size, 1]).reshape(window_size**2, )\n",
        "\n",
        "    # build matrix of system of equation\n",
        "    A = np.empty( (window_size**2, len(exps)) )\n",
        "    for i, exp in enumerate( exps ):\n",
        "        A[:,i] = (dx**exp[0]) * (dy**exp[1])\n",
        "        \n",
        "    # pad input array with appropriate values at the four borders\n",
        "    new_shape = z.shape[0] + 2*half_size, z.shape[1] + 2*half_size\n",
        "    Z = np.zeros( (new_shape) )\n",
        "    # top band\n",
        "    band = z[0, :]\n",
        "    Z[:half_size, half_size:-half_size] =  band -  np.abs( np.flipud( z[1:half_size+1, :] ) - band )\n",
        "    # bottom band\n",
        "    band = z[-1, :]\n",
        "    Z[-half_size:, half_size:-half_size] = band  + np.abs( np.flipud( z[-half_size-1:-1, :] )  -band ) \n",
        "    # left band\n",
        "    band = np.tile( z[:,0].reshape(-1,1), [1,half_size])\n",
        "    Z[half_size:-half_size, :half_size] = band - np.abs( np.fliplr( z[:, 1:half_size+1] ) - band )\n",
        "    # right band\n",
        "    band = np.tile( z[:,-1].reshape(-1,1), [1,half_size] )\n",
        "    Z[half_size:-half_size, -half_size:] =  band + np.abs( np.fliplr( z[:, -half_size-1:-1] ) - band )\n",
        "    # central band\n",
        "    Z[half_size:-half_size, half_size:-half_size] = z\n",
        "    \n",
        "    # top left corner\n",
        "    band = z[0,0]\n",
        "    Z[:half_size,:half_size] = band - np.abs( np.flipud(np.fliplr(z[1:half_size+1,1:half_size+1]) ) - band )\n",
        "    # bottom right corner\n",
        "    band = z[-1,-1]\n",
        "    Z[-half_size:,-half_size:] = band + np.abs( np.flipud(np.fliplr(z[-half_size-1:-1,-half_size-1:-1]) ) - band ) \n",
        "    \n",
        "    # top right corner\n",
        "    band = Z[half_size,-half_size:]\n",
        "    Z[:half_size,-half_size:] = band - np.abs( np.flipud(Z[half_size+1:2*half_size+1,-half_size:]) - band ) \n",
        "    # bottom left corner\n",
        "    band = Z[-half_size:,half_size].reshape(-1,1)\n",
        "    Z[-half_size:,:half_size] = band - np.abs( np.fliplr(Z[-half_size:, half_size+1:2*half_size+1]) - band ) \n",
        "    \n",
        "    # solve system and convolve\n",
        "    if derivative == None:\n",
        "        m = np.linalg.pinv(A)[0].reshape((window_size, -1))\n",
        "        return scipy.signal.fftconvolve(Z, m, mode='valid')\n",
        "    elif derivative == 'col':\n",
        "        c = np.linalg.pinv(A)[1].reshape((window_size, -1))\n",
        "        return scipy.signal.fftconvolve(Z, -c, mode='valid')        \n",
        "    elif derivative == 'row':\n",
        "        r = np.linalg.pinv(A)[2].reshape((window_size, -1))\n",
        "        return scipy.signal.fftconvolve(Z, -r, mode='valid')        \n",
        "    elif derivative == 'both':\n",
        "        c = np.linalg.pinv(A)[1].reshape((window_size, -1))\n",
        "        r = np.linalg.pinv(A)[2].reshape((window_size, -1))\n",
        "        return scipy.signal.fftconvolve(Z, -r, mode='valid'), scipy.signal.fftconvolve(Z, -c, mode='valid')        "
      ],
      "metadata": {
        "id": "6zCfbjPRpdZ6"
      },
      "execution_count": 74,
      "outputs": []
    },
    {
      "cell_type": "code",
      "source": [
        "def savitzky_golay(y, window_size, order, deriv=0, rate=1):\n",
        "    r\"\"\"Smooth (and optionally differentiate) data with a Savitzky-Golay filter.\n",
        "    The Savitzky-Golay filter removes high frequency noise from data.\n",
        "    It has the advantage of preserving the original shape and\n",
        "    features of the signal better than other types of filtering\n",
        "    approaches, such as moving averages techniques.\n",
        "    Parameters\n",
        "    ----------\n",
        "    y : array_like, shape (N,)\n",
        "        the values of the time history of the signal.\n",
        "    window_size : int\n",
        "        the length of the window. Must be an odd integer number.\n",
        "    order : int\n",
        "        the order of the polynomial used in the filtering.\n",
        "        Must be less then `window_size` - 1.\n",
        "    deriv: int\n",
        "        the order of the derivative to compute (default = 0 means only smoothing)\n",
        "    Returns\n",
        "    -------\n",
        "    ys : ndarray, shape (N)\n",
        "        the smoothed signal (or it's n-th derivative).\n",
        "    Notes\n",
        "    -----\n",
        "    The Savitzky-Golay is a type of low-pass filter, particularly\n",
        "    suited for smoothing noisy data. The main idea behind this\n",
        "    approach is to make for each point a least-square fit with a\n",
        "    polynomial of high order over a odd-sized window centered at\n",
        "    the point.\n",
        "    Examples\n",
        "    --------\n",
        "    t = np.linspace(-4, 4, 500)\n",
        "    y = np.exp( -t**2 ) + np.random.normal(0, 0.05, t.shape)\n",
        "    ysg = savitzky_golay(y, window_size=31, order=4)\n",
        "    import matplotlib.pyplot as plt\n",
        "    plt.plot(t, y, label='Noisy signal')\n",
        "    plt.plot(t, np.exp(-t**2), 'k', lw=1.5, label='Original signal')\n",
        "    plt.plot(t, ysg, 'r', label='Filtered signal')\n",
        "    plt.legend()\n",
        "    plt.show()\n",
        "    References\n",
        "    ----------\n",
        "    .. [1] A. Savitzky, M. J. E. Golay, Smoothing and Differentiation of\n",
        "       Data by Simplified Least Squares Procedures. Analytical\n",
        "       Chemistry, 1964, 36 (8), pp 1627-1639.\n",
        "    .. [2] Numerical Recipes 3rd Edition: The Art of Scientific Computing\n",
        "       W.H. Press, S.A. Teukolsky, W.T. Vetterling, B.P. Flannery\n",
        "       Cambridge University Press ISBN-13: 9780521880688\n",
        "    \"\"\"\n",
        "    import numpy as np\n",
        "    from math import factorial\n",
        "    \n",
        "    try:\n",
        "        window_size = np.abs(np.int(window_size))\n",
        "        order = np.abs(np.int(order))\n",
        "    except ValueError as msg:\n",
        "        raise ValueError(\"window_size and order have to be of type int\")\n",
        "    if window_size % 2 != 1 or window_size < 1:\n",
        "        raise TypeError(\"window_size size must be a positive odd number\")\n",
        "    if window_size < order + 2:\n",
        "        raise TypeError(\"window_size is too small for the polynomials order\")\n",
        "    order_range = range(order+1)\n",
        "    half_window = (window_size -1) // 2\n",
        "    # precompute coefficients\n",
        "    b = np.mat([[k**i for i in order_range] for k in range(-half_window, half_window+1)])\n",
        "    m = np.linalg.pinv(b).A[deriv] * rate**deriv * factorial(deriv)\n",
        "    # pad the signal at the extremes with\n",
        "    # values taken from the signal itself\n",
        "    firstvals = y[0] - np.abs( y[1:half_window+1][::-1] - y[0] )\n",
        "    lastvals = y[-1] + np.abs(y[-half_window-1:-1][::-1] - y[-1])\n",
        "    y = np.concatenate((firstvals, y, lastvals))\n",
        "    return np.convolve( m[::-1], y, mode='valid')"
      ],
      "metadata": {
        "id": "lfHp4eDrrI_6"
      },
      "execution_count": 81,
      "outputs": []
    },
    {
      "cell_type": "markdown",
      "source": [
        "# DeepEEG"
      ],
      "metadata": {
        "id": "PfeiGdlLK6AF"
      }
    },
    {
      "cell_type": "code",
      "source": [
        "from tensorflow.keras.models import Model\n",
        "from tensorflow.keras.layers import Dense, Activation, Permute, Dropout\n",
        "from tensorflow.keras.layers import Conv2D, MaxPooling2D, AveragePooling2D\n",
        "from tensorflow.keras.layers import SeparableConv2D, DepthwiseConv2D\n",
        "from tensorflow.keras.layers import BatchNormalization\n",
        "from tensorflow.keras.layers import SpatialDropout2D\n",
        "from tensorflow.keras.regularizers import l1_l2\n",
        "from tensorflow.keras.layers import Input, Flatten\n",
        "from tensorflow.keras.constraints import max_norm\n",
        "from tensorflow.keras import backend as K\n",
        "\n",
        "# need these for ShallowConvNet\n",
        "def square(x):\n",
        "    return K.square(x)\n",
        "\n",
        "def log(x):\n",
        "    return K.log(K.clip(x, min_value = 1e-7, max_value = 10000))   \n",
        "\n",
        "\n",
        "def ShallowConvNet(nb_classes, Chans = 64, Samples = 128, dropoutRate = 0.5):\n",
        "    \"\"\" Keras implementation of the Shallow Convolutional Network as described\n",
        "    in Schirrmeister et. al. (2017), Human Brain Mapping.\n",
        "    \n",
        "    Assumes the input is a 2-second EEG signal sampled at 128Hz. Note that in \n",
        "    the original paper, they do temporal convolutions of length 25 for EEG\n",
        "    data sampled at 250Hz. We instead use length 13 since the sampling rate is \n",
        "    roughly half of the 250Hz which the paper used. The pool_size and stride\n",
        "    in later layers is also approximately half of what is used in the paper.\n",
        "    \n",
        "    Note that we use the max_norm constraint on all convolutional layers, as \n",
        "    well as the classification layer. We also change the defaults for the\n",
        "    BatchNormalization layer. We used this based on a personal communication \n",
        "    with the original authors.\n",
        "    \n",
        "                     ours        original paper\n",
        "    pool_size        1, 35       1, 75\n",
        "    strides          1, 7        1, 15\n",
        "    conv filters     1, 13       1, 25    \n",
        "    \n",
        "    Note that this implementation has not been verified by the original \n",
        "    authors. We do note that this implementation reproduces the results in the\n",
        "    original paper with minor deviations. \n",
        "    \"\"\"\n",
        "\n",
        "    # start the model\n",
        "    input_main   = Input((Chans, Samples, 1))\n",
        "    block1       = Conv2D(40, (1, 13), \n",
        "                                 input_shape=(Chans, Samples, 1),\n",
        "                                 kernel_constraint = max_norm(2., axis=(0,1,2)))(input_main)\n",
        "    block1       = Conv2D(40, (Chans, 1), use_bias=False, \n",
        "                          kernel_constraint = max_norm(2., axis=(0,1,2)))(block1)\n",
        "    block1       = BatchNormalization(epsilon=1e-05, momentum=0.1)(block1)\n",
        "    block1       = Activation(square)(block1)\n",
        "    block1       = AveragePooling2D(pool_size=(1, 35), strides=(1, 7))(block1)\n",
        "    block1       = Activation(log)(block1)\n",
        "    block1       = Dropout(dropoutRate)(block1)\n",
        "    flatten      = Flatten()(block1)\n",
        "    dense        = Dense(nb_classes, kernel_constraint = max_norm(0.5))(flatten)\n",
        "    softmax      = Activation('softmax')(dense)\n",
        "    \n",
        "    return Model(inputs=input_main, outputs=softmax)\n"
      ],
      "metadata": {
        "id": "6P3ovYXQT83c"
      },
      "execution_count": 263,
      "outputs": []
    },
    {
      "cell_type": "code",
      "source": [
        "model = ShallowConvNet(nb_classes = 2, Chans = 10, Samples = 101)"
      ],
      "metadata": {
        "id": "7jpW_TGmUEJN"
      },
      "execution_count": 277,
      "outputs": []
    },
    {
      "cell_type": "code",
      "source": [
        "model.compile(loss = 'categorical_crossentropy', optimizer = 'adam')\n",
        "# train_y = np_utils.to_categorical(train_y-1)\n",
        "test_y = np_utils.to_categorical(test_y-1)\n",
        "\n",
        "train_X = train_X.reshape(-1, 10,101, 1)\n",
        "test_X = test_X.reshape(-1, 10,101, 1)\n",
        "\n",
        "train_X,valid_X,train_label,valid_label = train_test_split(train_X, \n",
        "                                                            train_y, \n",
        "                                                            test_size=0.2, \n",
        "                                                            random_state=13)\n",
        "\n",
        "train_label_categorical = np_utils.to_categorical(train_label-1)\n",
        "valid_label_categorical = np_utils.to_categorical(valid_label-1)\n",
        "\n",
        "fittedModel = model.fit(train_X, train_label_categorical, batch_size = 16, epochs = 300, \n",
        "                        verbose = 2, validation_data=(valid_X, valid_label_categorical))\n"
      ],
      "metadata": {
        "colab": {
          "base_uri": "https://localhost:8080/"
        },
        "id": "hn5xpK_cUP5U",
        "outputId": "5571e301-17b6-449b-f802-39a521bc8562"
      },
      "execution_count": 285,
      "outputs": [
        {
          "output_type": "stream",
          "name": "stdout",
          "text": [
            "Epoch 1/300\n",
            "27/27 - 1s - loss: 0.6430 - val_loss: 0.6093 - 1s/epoch - 43ms/step\n",
            "Epoch 2/300\n",
            "27/27 - 0s - loss: 0.4800 - val_loss: 0.6354 - 424ms/epoch - 16ms/step\n",
            "Epoch 3/300\n",
            "27/27 - 0s - loss: 0.4429 - val_loss: 0.6564 - 390ms/epoch - 14ms/step\n",
            "Epoch 4/300\n",
            "27/27 - 0s - loss: 0.4021 - val_loss: 0.6706 - 412ms/epoch - 15ms/step\n",
            "Epoch 5/300\n",
            "27/27 - 0s - loss: 0.3870 - val_loss: 0.5725 - 395ms/epoch - 15ms/step\n",
            "Epoch 6/300\n",
            "27/27 - 0s - loss: 0.3639 - val_loss: 0.6241 - 402ms/epoch - 15ms/step\n",
            "Epoch 7/300\n",
            "27/27 - 0s - loss: 0.3266 - val_loss: 0.6733 - 402ms/epoch - 15ms/step\n",
            "Epoch 8/300\n",
            "27/27 - 0s - loss: 0.3624 - val_loss: 0.6306 - 403ms/epoch - 15ms/step\n",
            "Epoch 9/300\n",
            "27/27 - 0s - loss: 0.3226 - val_loss: 0.7084 - 407ms/epoch - 15ms/step\n",
            "Epoch 10/300\n",
            "27/27 - 0s - loss: 0.3270 - val_loss: 0.9332 - 395ms/epoch - 15ms/step\n",
            "Epoch 11/300\n",
            "27/27 - 0s - loss: 0.2918 - val_loss: 0.6019 - 402ms/epoch - 15ms/step\n",
            "Epoch 12/300\n",
            "27/27 - 0s - loss: 0.2884 - val_loss: 0.9955 - 406ms/epoch - 15ms/step\n",
            "Epoch 13/300\n",
            "27/27 - 0s - loss: 0.2756 - val_loss: 0.6950 - 401ms/epoch - 15ms/step\n",
            "Epoch 14/300\n",
            "27/27 - 0s - loss: 0.3026 - val_loss: 0.5227 - 398ms/epoch - 15ms/step\n",
            "Epoch 15/300\n",
            "27/27 - 0s - loss: 0.2578 - val_loss: 0.6284 - 395ms/epoch - 15ms/step\n",
            "Epoch 16/300\n",
            "27/27 - 0s - loss: 0.2582 - val_loss: 0.5182 - 416ms/epoch - 15ms/step\n",
            "Epoch 17/300\n",
            "27/27 - 0s - loss: 0.2588 - val_loss: 0.5158 - 409ms/epoch - 15ms/step\n",
            "Epoch 18/300\n",
            "27/27 - 0s - loss: 0.2488 - val_loss: 0.5817 - 396ms/epoch - 15ms/step\n",
            "Epoch 19/300\n",
            "27/27 - 0s - loss: 0.2418 - val_loss: 0.5819 - 403ms/epoch - 15ms/step\n",
            "Epoch 20/300\n",
            "27/27 - 0s - loss: 0.2434 - val_loss: 0.5650 - 398ms/epoch - 15ms/step\n",
            "Epoch 21/300\n",
            "27/27 - 0s - loss: 0.2480 - val_loss: 0.6346 - 384ms/epoch - 14ms/step\n",
            "Epoch 22/300\n",
            "27/27 - 0s - loss: 0.2535 - val_loss: 0.5273 - 392ms/epoch - 15ms/step\n",
            "Epoch 23/300\n",
            "27/27 - 0s - loss: 0.2368 - val_loss: 0.5221 - 413ms/epoch - 15ms/step\n",
            "Epoch 24/300\n",
            "27/27 - 0s - loss: 0.2219 - val_loss: 0.5729 - 393ms/epoch - 15ms/step\n",
            "Epoch 25/300\n",
            "27/27 - 0s - loss: 0.2202 - val_loss: 1.3510 - 392ms/epoch - 15ms/step\n",
            "Epoch 26/300\n",
            "27/27 - 0s - loss: 0.2273 - val_loss: 0.5933 - 384ms/epoch - 14ms/step\n",
            "Epoch 27/300\n",
            "27/27 - 0s - loss: 0.2360 - val_loss: 0.5751 - 396ms/epoch - 15ms/step\n",
            "Epoch 28/300\n",
            "27/27 - 0s - loss: 0.2131 - val_loss: 0.5966 - 386ms/epoch - 14ms/step\n",
            "Epoch 29/300\n",
            "27/27 - 0s - loss: 0.2200 - val_loss: 0.5768 - 386ms/epoch - 14ms/step\n",
            "Epoch 30/300\n",
            "27/27 - 0s - loss: 0.2028 - val_loss: 0.5884 - 400ms/epoch - 15ms/step\n",
            "Epoch 31/300\n",
            "27/27 - 0s - loss: 0.2004 - val_loss: 0.7565 - 398ms/epoch - 15ms/step\n",
            "Epoch 32/300\n",
            "27/27 - 0s - loss: 0.1992 - val_loss: 0.5321 - 412ms/epoch - 15ms/step\n",
            "Epoch 33/300\n",
            "27/27 - 0s - loss: 0.2074 - val_loss: 0.5787 - 408ms/epoch - 15ms/step\n",
            "Epoch 34/300\n",
            "27/27 - 0s - loss: 0.2053 - val_loss: 0.7082 - 403ms/epoch - 15ms/step\n",
            "Epoch 35/300\n",
            "27/27 - 0s - loss: 0.2068 - val_loss: 0.5048 - 414ms/epoch - 15ms/step\n",
            "Epoch 36/300\n",
            "27/27 - 0s - loss: 0.2244 - val_loss: 0.5413 - 408ms/epoch - 15ms/step\n",
            "Epoch 37/300\n",
            "27/27 - 0s - loss: 0.2046 - val_loss: 0.5339 - 398ms/epoch - 15ms/step\n",
            "Epoch 38/300\n",
            "27/27 - 0s - loss: 0.2267 - val_loss: 0.8228 - 399ms/epoch - 15ms/step\n",
            "Epoch 39/300\n",
            "27/27 - 0s - loss: 0.2065 - val_loss: 0.4974 - 408ms/epoch - 15ms/step\n",
            "Epoch 40/300\n",
            "27/27 - 0s - loss: 0.2149 - val_loss: 0.5529 - 412ms/epoch - 15ms/step\n",
            "Epoch 41/300\n",
            "27/27 - 0s - loss: 0.2035 - val_loss: 0.5170 - 406ms/epoch - 15ms/step\n",
            "Epoch 42/300\n",
            "27/27 - 0s - loss: 0.1796 - val_loss: 0.5242 - 405ms/epoch - 15ms/step\n",
            "Epoch 43/300\n",
            "27/27 - 0s - loss: 0.1874 - val_loss: 0.5155 - 391ms/epoch - 14ms/step\n",
            "Epoch 44/300\n",
            "27/27 - 0s - loss: 0.1828 - val_loss: 0.5872 - 392ms/epoch - 15ms/step\n",
            "Epoch 45/300\n",
            "27/27 - 0s - loss: 0.1781 - val_loss: 0.5555 - 407ms/epoch - 15ms/step\n",
            "Epoch 46/300\n",
            "27/27 - 0s - loss: 0.2003 - val_loss: 0.5317 - 410ms/epoch - 15ms/step\n",
            "Epoch 47/300\n",
            "27/27 - 0s - loss: 0.1754 - val_loss: 0.5262 - 401ms/epoch - 15ms/step\n",
            "Epoch 48/300\n",
            "27/27 - 0s - loss: 0.1864 - val_loss: 0.4855 - 394ms/epoch - 15ms/step\n",
            "Epoch 49/300\n",
            "27/27 - 0s - loss: 0.1909 - val_loss: 0.5084 - 419ms/epoch - 16ms/step\n",
            "Epoch 50/300\n",
            "27/27 - 0s - loss: 0.1620 - val_loss: 0.5413 - 398ms/epoch - 15ms/step\n",
            "Epoch 51/300\n",
            "27/27 - 0s - loss: 0.2090 - val_loss: 0.5686 - 397ms/epoch - 15ms/step\n",
            "Epoch 52/300\n",
            "27/27 - 0s - loss: 0.1748 - val_loss: 0.6880 - 406ms/epoch - 15ms/step\n",
            "Epoch 53/300\n",
            "27/27 - 0s - loss: 0.1828 - val_loss: 0.5611 - 391ms/epoch - 14ms/step\n",
            "Epoch 54/300\n",
            "27/27 - 0s - loss: 0.1791 - val_loss: 0.5606 - 394ms/epoch - 15ms/step\n",
            "Epoch 55/300\n",
            "27/27 - 0s - loss: 0.1746 - val_loss: 0.5412 - 405ms/epoch - 15ms/step\n",
            "Epoch 56/300\n",
            "27/27 - 0s - loss: 0.1723 - val_loss: 0.4849 - 403ms/epoch - 15ms/step\n",
            "Epoch 57/300\n",
            "27/27 - 0s - loss: 0.1717 - val_loss: 0.6046 - 400ms/epoch - 15ms/step\n",
            "Epoch 58/300\n",
            "27/27 - 0s - loss: 0.1629 - val_loss: 0.5497 - 390ms/epoch - 14ms/step\n",
            "Epoch 59/300\n",
            "27/27 - 0s - loss: 0.1776 - val_loss: 0.5406 - 399ms/epoch - 15ms/step\n",
            "Epoch 60/300\n",
            "27/27 - 0s - loss: 0.1883 - val_loss: 0.5751 - 405ms/epoch - 15ms/step\n",
            "Epoch 61/300\n",
            "27/27 - 0s - loss: 0.1820 - val_loss: 0.5611 - 400ms/epoch - 15ms/step\n",
            "Epoch 62/300\n",
            "27/27 - 0s - loss: 0.1747 - val_loss: 0.5988 - 388ms/epoch - 14ms/step\n",
            "Epoch 63/300\n",
            "27/27 - 0s - loss: 0.1605 - val_loss: 0.7201 - 409ms/epoch - 15ms/step\n",
            "Epoch 64/300\n",
            "27/27 - 0s - loss: 0.1736 - val_loss: 0.5758 - 394ms/epoch - 15ms/step\n",
            "Epoch 65/300\n",
            "27/27 - 0s - loss: 0.1436 - val_loss: 0.5291 - 414ms/epoch - 15ms/step\n",
            "Epoch 66/300\n",
            "27/27 - 0s - loss: 0.1772 - val_loss: 0.5461 - 396ms/epoch - 15ms/step\n",
            "Epoch 67/300\n",
            "27/27 - 0s - loss: 0.1613 - val_loss: 0.5071 - 396ms/epoch - 15ms/step\n",
            "Epoch 68/300\n",
            "27/27 - 0s - loss: 0.1584 - val_loss: 0.5604 - 407ms/epoch - 15ms/step\n",
            "Epoch 69/300\n",
            "27/27 - 0s - loss: 0.1514 - val_loss: 0.5977 - 391ms/epoch - 14ms/step\n",
            "Epoch 70/300\n",
            "27/27 - 0s - loss: 0.1648 - val_loss: 0.5162 - 410ms/epoch - 15ms/step\n",
            "Epoch 71/300\n",
            "27/27 - 0s - loss: 0.1765 - val_loss: 0.5252 - 399ms/epoch - 15ms/step\n",
            "Epoch 72/300\n",
            "27/27 - 0s - loss: 0.1729 - val_loss: 0.6991 - 393ms/epoch - 15ms/step\n",
            "Epoch 73/300\n",
            "27/27 - 0s - loss: 0.1838 - val_loss: 0.5222 - 397ms/epoch - 15ms/step\n",
            "Epoch 74/300\n",
            "27/27 - 0s - loss: 0.1684 - val_loss: 0.6660 - 396ms/epoch - 15ms/step\n",
            "Epoch 75/300\n",
            "27/27 - 0s - loss: 0.1610 - val_loss: 0.6621 - 412ms/epoch - 15ms/step\n",
            "Epoch 76/300\n",
            "27/27 - 0s - loss: 0.1656 - val_loss: 0.5209 - 423ms/epoch - 16ms/step\n",
            "Epoch 77/300\n",
            "27/27 - 0s - loss: 0.1939 - val_loss: 0.5792 - 405ms/epoch - 15ms/step\n",
            "Epoch 78/300\n",
            "27/27 - 0s - loss: 0.1745 - val_loss: 0.5251 - 407ms/epoch - 15ms/step\n",
            "Epoch 79/300\n",
            "27/27 - 0s - loss: 0.1511 - val_loss: 0.5142 - 401ms/epoch - 15ms/step\n",
            "Epoch 80/300\n",
            "27/27 - 0s - loss: 0.1578 - val_loss: 0.5187 - 408ms/epoch - 15ms/step\n",
            "Epoch 81/300\n",
            "27/27 - 0s - loss: 0.1471 - val_loss: 0.6114 - 401ms/epoch - 15ms/step\n",
            "Epoch 82/300\n",
            "27/27 - 0s - loss: 0.1435 - val_loss: 0.6137 - 397ms/epoch - 15ms/step\n",
            "Epoch 83/300\n",
            "27/27 - 0s - loss: 0.1729 - val_loss: 0.5511 - 415ms/epoch - 15ms/step\n",
            "Epoch 84/300\n",
            "27/27 - 0s - loss: 0.1543 - val_loss: 0.5625 - 396ms/epoch - 15ms/step\n",
            "Epoch 85/300\n",
            "27/27 - 0s - loss: 0.1644 - val_loss: 0.6918 - 409ms/epoch - 15ms/step\n",
            "Epoch 86/300\n",
            "27/27 - 0s - loss: 0.1434 - val_loss: 0.5201 - 392ms/epoch - 15ms/step\n",
            "Epoch 87/300\n",
            "27/27 - 0s - loss: 0.1469 - val_loss: 0.5947 - 414ms/epoch - 15ms/step\n",
            "Epoch 88/300\n",
            "27/27 - 0s - loss: 0.1466 - val_loss: 0.5215 - 413ms/epoch - 15ms/step\n",
            "Epoch 89/300\n",
            "27/27 - 0s - loss: 0.1456 - val_loss: 0.5520 - 397ms/epoch - 15ms/step\n",
            "Epoch 90/300\n",
            "27/27 - 0s - loss: 0.1487 - val_loss: 0.6019 - 402ms/epoch - 15ms/step\n",
            "Epoch 91/300\n",
            "27/27 - 0s - loss: 0.1505 - val_loss: 0.5683 - 398ms/epoch - 15ms/step\n",
            "Epoch 92/300\n",
            "27/27 - 0s - loss: 0.1597 - val_loss: 0.5122 - 388ms/epoch - 14ms/step\n",
            "Epoch 93/300\n",
            "27/27 - 0s - loss: 0.1603 - val_loss: 0.5362 - 402ms/epoch - 15ms/step\n",
            "Epoch 94/300\n",
            "27/27 - 0s - loss: 0.1501 - val_loss: 0.5152 - 397ms/epoch - 15ms/step\n",
            "Epoch 95/300\n",
            "27/27 - 0s - loss: 0.1376 - val_loss: 0.6747 - 419ms/epoch - 16ms/step\n",
            "Epoch 96/300\n",
            "27/27 - 0s - loss: 0.1496 - val_loss: 0.5862 - 392ms/epoch - 15ms/step\n",
            "Epoch 97/300\n",
            "27/27 - 0s - loss: 0.1397 - val_loss: 0.4895 - 387ms/epoch - 14ms/step\n",
            "Epoch 98/300\n",
            "27/27 - 0s - loss: 0.1507 - val_loss: 0.5049 - 403ms/epoch - 15ms/step\n",
            "Epoch 99/300\n",
            "27/27 - 0s - loss: 0.1557 - val_loss: 0.4981 - 389ms/epoch - 14ms/step\n",
            "Epoch 100/300\n",
            "27/27 - 0s - loss: 0.1464 - val_loss: 0.5751 - 394ms/epoch - 15ms/step\n",
            "Epoch 101/300\n",
            "27/27 - 0s - loss: 0.1319 - val_loss: 0.5360 - 395ms/epoch - 15ms/step\n",
            "Epoch 102/300\n",
            "27/27 - 0s - loss: 0.1547 - val_loss: 0.6174 - 413ms/epoch - 15ms/step\n",
            "Epoch 103/300\n",
            "27/27 - 0s - loss: 0.1546 - val_loss: 0.6017 - 409ms/epoch - 15ms/step\n",
            "Epoch 104/300\n",
            "27/27 - 0s - loss: 0.1506 - val_loss: 0.5213 - 390ms/epoch - 14ms/step\n",
            "Epoch 105/300\n",
            "27/27 - 0s - loss: 0.1381 - val_loss: 0.5217 - 396ms/epoch - 15ms/step\n",
            "Epoch 106/300\n",
            "27/27 - 0s - loss: 0.1353 - val_loss: 0.5715 - 403ms/epoch - 15ms/step\n",
            "Epoch 107/300\n",
            "27/27 - 0s - loss: 0.1271 - val_loss: 0.5526 - 398ms/epoch - 15ms/step\n",
            "Epoch 108/300\n",
            "27/27 - 0s - loss: 0.1341 - val_loss: 0.6780 - 413ms/epoch - 15ms/step\n",
            "Epoch 109/300\n",
            "27/27 - 0s - loss: 0.1470 - val_loss: 0.5092 - 396ms/epoch - 15ms/step\n",
            "Epoch 110/300\n",
            "27/27 - 0s - loss: 0.1452 - val_loss: 0.6010 - 387ms/epoch - 14ms/step\n",
            "Epoch 111/300\n",
            "27/27 - 0s - loss: 0.1402 - val_loss: 0.6120 - 405ms/epoch - 15ms/step\n",
            "Epoch 112/300\n",
            "27/27 - 0s - loss: 0.1411 - val_loss: 0.5219 - 394ms/epoch - 15ms/step\n",
            "Epoch 113/300\n",
            "27/27 - 0s - loss: 0.1500 - val_loss: 0.5199 - 407ms/epoch - 15ms/step\n",
            "Epoch 114/300\n",
            "27/27 - 0s - loss: 0.1468 - val_loss: 0.6026 - 394ms/epoch - 15ms/step\n",
            "Epoch 115/300\n",
            "27/27 - 0s - loss: 0.1369 - val_loss: 0.5409 - 400ms/epoch - 15ms/step\n",
            "Epoch 116/300\n",
            "27/27 - 0s - loss: 0.1475 - val_loss: 0.6628 - 406ms/epoch - 15ms/step\n",
            "Epoch 117/300\n",
            "27/27 - 0s - loss: 0.1313 - val_loss: 0.6645 - 389ms/epoch - 14ms/step\n",
            "Epoch 118/300\n",
            "27/27 - 0s - loss: 0.1308 - val_loss: 0.8027 - 406ms/epoch - 15ms/step\n",
            "Epoch 119/300\n",
            "27/27 - 0s - loss: 0.1502 - val_loss: 0.5491 - 399ms/epoch - 15ms/step\n",
            "Epoch 120/300\n",
            "27/27 - 0s - loss: 0.1479 - val_loss: 0.8967 - 405ms/epoch - 15ms/step\n",
            "Epoch 121/300\n",
            "27/27 - 0s - loss: 0.1399 - val_loss: 0.5365 - 403ms/epoch - 15ms/step\n",
            "Epoch 122/300\n",
            "27/27 - 0s - loss: 0.1292 - val_loss: 0.5078 - 398ms/epoch - 15ms/step\n",
            "Epoch 123/300\n",
            "27/27 - 0s - loss: 0.1191 - val_loss: 0.5329 - 407ms/epoch - 15ms/step\n",
            "Epoch 124/300\n",
            "27/27 - 0s - loss: 0.1313 - val_loss: 0.5742 - 401ms/epoch - 15ms/step\n",
            "Epoch 125/300\n",
            "27/27 - 0s - loss: 0.1376 - val_loss: 0.5692 - 392ms/epoch - 15ms/step\n",
            "Epoch 126/300\n",
            "27/27 - 0s - loss: 0.1447 - val_loss: 0.6423 - 407ms/epoch - 15ms/step\n",
            "Epoch 127/300\n",
            "27/27 - 0s - loss: 0.1340 - val_loss: 0.5304 - 394ms/epoch - 15ms/step\n",
            "Epoch 128/300\n",
            "27/27 - 0s - loss: 0.1257 - val_loss: 0.5593 - 410ms/epoch - 15ms/step\n",
            "Epoch 129/300\n",
            "27/27 - 0s - loss: 0.1364 - val_loss: 0.5289 - 421ms/epoch - 16ms/step\n",
            "Epoch 130/300\n",
            "27/27 - 0s - loss: 0.1329 - val_loss: 0.5278 - 405ms/epoch - 15ms/step\n",
            "Epoch 131/300\n",
            "27/27 - 0s - loss: 0.1198 - val_loss: 0.5193 - 403ms/epoch - 15ms/step\n",
            "Epoch 132/300\n",
            "27/27 - 0s - loss: 0.1419 - val_loss: 0.5332 - 403ms/epoch - 15ms/step\n",
            "Epoch 133/300\n",
            "27/27 - 0s - loss: 0.1554 - val_loss: 0.5933 - 416ms/epoch - 15ms/step\n",
            "Epoch 134/300\n",
            "27/27 - 0s - loss: 0.1304 - val_loss: 0.5303 - 388ms/epoch - 14ms/step\n",
            "Epoch 135/300\n",
            "27/27 - 0s - loss: 0.1429 - val_loss: 0.5010 - 399ms/epoch - 15ms/step\n",
            "Epoch 136/300\n",
            "27/27 - 0s - loss: 0.1294 - val_loss: 0.5446 - 396ms/epoch - 15ms/step\n",
            "Epoch 137/300\n",
            "27/27 - 0s - loss: 0.1359 - val_loss: 0.5512 - 391ms/epoch - 14ms/step\n",
            "Epoch 138/300\n",
            "27/27 - 0s - loss: 0.1175 - val_loss: 0.5727 - 395ms/epoch - 15ms/step\n",
            "Epoch 139/300\n",
            "27/27 - 0s - loss: 0.1269 - val_loss: 0.5717 - 417ms/epoch - 15ms/step\n",
            "Epoch 140/300\n",
            "27/27 - 0s - loss: 0.1225 - val_loss: 0.5438 - 396ms/epoch - 15ms/step\n",
            "Epoch 141/300\n",
            "27/27 - 0s - loss: 0.1198 - val_loss: 0.5754 - 412ms/epoch - 15ms/step\n",
            "Epoch 142/300\n",
            "27/27 - 0s - loss: 0.1308 - val_loss: 0.5620 - 400ms/epoch - 15ms/step\n",
            "Epoch 143/300\n",
            "27/27 - 0s - loss: 0.1324 - val_loss: 0.8929 - 410ms/epoch - 15ms/step\n",
            "Epoch 144/300\n",
            "27/27 - 0s - loss: 0.1214 - val_loss: 0.5640 - 409ms/epoch - 15ms/step\n",
            "Epoch 145/300\n",
            "27/27 - 0s - loss: 0.1251 - val_loss: 1.2421 - 406ms/epoch - 15ms/step\n",
            "Epoch 146/300\n",
            "27/27 - 0s - loss: 0.1341 - val_loss: 0.5528 - 405ms/epoch - 15ms/step\n",
            "Epoch 147/300\n",
            "27/27 - 0s - loss: 0.1336 - val_loss: 0.5714 - 395ms/epoch - 15ms/step\n",
            "Epoch 148/300\n",
            "27/27 - 0s - loss: 0.1349 - val_loss: 0.5150 - 399ms/epoch - 15ms/step\n",
            "Epoch 149/300\n",
            "27/27 - 0s - loss: 0.1216 - val_loss: 0.6370 - 429ms/epoch - 16ms/step\n",
            "Epoch 150/300\n",
            "27/27 - 0s - loss: 0.1262 - val_loss: 0.4968 - 403ms/epoch - 15ms/step\n",
            "Epoch 151/300\n",
            "27/27 - 0s - loss: 0.1167 - val_loss: 0.5848 - 414ms/epoch - 15ms/step\n",
            "Epoch 152/300\n",
            "27/27 - 0s - loss: 0.1335 - val_loss: 1.2615 - 400ms/epoch - 15ms/step\n",
            "Epoch 153/300\n",
            "27/27 - 0s - loss: 0.1153 - val_loss: 0.5364 - 388ms/epoch - 14ms/step\n",
            "Epoch 154/300\n",
            "27/27 - 0s - loss: 0.1315 - val_loss: 0.6996 - 398ms/epoch - 15ms/step\n",
            "Epoch 155/300\n",
            "27/27 - 0s - loss: 0.1212 - val_loss: 0.6095 - 389ms/epoch - 14ms/step\n",
            "Epoch 156/300\n",
            "27/27 - 0s - loss: 0.1335 - val_loss: 0.5329 - 395ms/epoch - 15ms/step\n",
            "Epoch 157/300\n",
            "27/27 - 0s - loss: 0.1484 - val_loss: 0.6063 - 421ms/epoch - 16ms/step\n",
            "Epoch 158/300\n",
            "27/27 - 0s - loss: 0.1334 - val_loss: 0.5736 - 382ms/epoch - 14ms/step\n",
            "Epoch 159/300\n",
            "27/27 - 0s - loss: 0.1278 - val_loss: 0.5850 - 409ms/epoch - 15ms/step\n",
            "Epoch 160/300\n",
            "27/27 - 0s - loss: 0.1252 - val_loss: 0.5674 - 388ms/epoch - 14ms/step\n",
            "Epoch 161/300\n",
            "27/27 - 0s - loss: 0.1254 - val_loss: 0.5376 - 397ms/epoch - 15ms/step\n",
            "Epoch 162/300\n",
            "27/27 - 0s - loss: 0.1075 - val_loss: 0.5433 - 384ms/epoch - 14ms/step\n",
            "Epoch 163/300\n",
            "27/27 - 0s - loss: 0.1246 - val_loss: 0.6200 - 383ms/epoch - 14ms/step\n",
            "Epoch 164/300\n",
            "27/27 - 0s - loss: 0.1370 - val_loss: 1.0105 - 395ms/epoch - 15ms/step\n",
            "Epoch 165/300\n",
            "27/27 - 0s - loss: 0.1335 - val_loss: 0.5213 - 384ms/epoch - 14ms/step\n",
            "Epoch 166/300\n",
            "27/27 - 0s - loss: 0.1170 - val_loss: 0.5001 - 393ms/epoch - 15ms/step\n",
            "Epoch 167/300\n",
            "27/27 - 0s - loss: 0.1191 - val_loss: 0.5557 - 391ms/epoch - 14ms/step\n",
            "Epoch 168/300\n",
            "27/27 - 0s - loss: 0.1211 - val_loss: 0.7385 - 383ms/epoch - 14ms/step\n",
            "Epoch 169/300\n",
            "27/27 - 0s - loss: 0.1266 - val_loss: 0.4776 - 399ms/epoch - 15ms/step\n",
            "Epoch 170/300\n",
            "27/27 - 0s - loss: 0.1197 - val_loss: 0.5342 - 379ms/epoch - 14ms/step\n",
            "Epoch 171/300\n",
            "27/27 - 0s - loss: 0.1171 - val_loss: 0.5455 - 397ms/epoch - 15ms/step\n",
            "Epoch 172/300\n",
            "27/27 - 0s - loss: 0.1197 - val_loss: 0.5502 - 397ms/epoch - 15ms/step\n",
            "Epoch 173/300\n",
            "27/27 - 0s - loss: 0.1234 - val_loss: 0.6176 - 387ms/epoch - 14ms/step\n",
            "Epoch 174/300\n",
            "27/27 - 0s - loss: 0.1101 - val_loss: 0.5841 - 394ms/epoch - 15ms/step\n",
            "Epoch 175/300\n",
            "27/27 - 0s - loss: 0.1201 - val_loss: 0.5594 - 381ms/epoch - 14ms/step\n",
            "Epoch 176/300\n",
            "27/27 - 0s - loss: 0.1254 - val_loss: 0.6175 - 396ms/epoch - 15ms/step\n",
            "Epoch 177/300\n",
            "27/27 - 0s - loss: 0.1203 - val_loss: 0.5431 - 397ms/epoch - 15ms/step\n",
            "Epoch 178/300\n",
            "27/27 - 0s - loss: 0.1191 - val_loss: 0.5032 - 378ms/epoch - 14ms/step\n",
            "Epoch 179/300\n",
            "27/27 - 0s - loss: 0.1227 - val_loss: 0.4899 - 392ms/epoch - 15ms/step\n",
            "Epoch 180/300\n",
            "27/27 - 0s - loss: 0.1071 - val_loss: 0.5172 - 396ms/epoch - 15ms/step\n",
            "Epoch 181/300\n",
            "27/27 - 0s - loss: 0.1091 - val_loss: 0.5346 - 392ms/epoch - 15ms/step\n",
            "Epoch 182/300\n",
            "27/27 - 0s - loss: 0.1157 - val_loss: 0.5529 - 416ms/epoch - 15ms/step\n",
            "Epoch 183/300\n",
            "27/27 - 0s - loss: 0.1161 - val_loss: 0.5395 - 392ms/epoch - 15ms/step\n",
            "Epoch 184/300\n",
            "27/27 - 0s - loss: 0.1167 - val_loss: 0.4934 - 392ms/epoch - 15ms/step\n",
            "Epoch 185/300\n",
            "27/27 - 0s - loss: 0.1005 - val_loss: 0.5491 - 417ms/epoch - 15ms/step\n",
            "Epoch 186/300\n",
            "27/27 - 0s - loss: 0.1268 - val_loss: 0.5502 - 387ms/epoch - 14ms/step\n",
            "Epoch 187/300\n",
            "27/27 - 0s - loss: 0.1302 - val_loss: 0.5143 - 400ms/epoch - 15ms/step\n",
            "Epoch 188/300\n",
            "27/27 - 0s - loss: 0.1128 - val_loss: 0.5227 - 400ms/epoch - 15ms/step\n",
            "Epoch 189/300\n",
            "27/27 - 0s - loss: 0.1151 - val_loss: 0.5454 - 396ms/epoch - 15ms/step\n",
            "Epoch 190/300\n",
            "27/27 - 0s - loss: 0.1216 - val_loss: 0.5660 - 390ms/epoch - 14ms/step\n",
            "Epoch 191/300\n",
            "27/27 - 0s - loss: 0.1063 - val_loss: 0.5667 - 384ms/epoch - 14ms/step\n",
            "Epoch 192/300\n",
            "27/27 - 0s - loss: 0.1198 - val_loss: 0.5322 - 397ms/epoch - 15ms/step\n",
            "Epoch 193/300\n",
            "27/27 - 0s - loss: 0.1143 - val_loss: 0.5212 - 385ms/epoch - 14ms/step\n",
            "Epoch 194/300\n",
            "27/27 - 0s - loss: 0.1121 - val_loss: 0.5507 - 388ms/epoch - 14ms/step\n",
            "Epoch 195/300\n",
            "27/27 - 0s - loss: 0.1262 - val_loss: 0.5773 - 412ms/epoch - 15ms/step\n",
            "Epoch 196/300\n",
            "27/27 - 0s - loss: 0.1241 - val_loss: 0.4991 - 383ms/epoch - 14ms/step\n",
            "Epoch 197/300\n",
            "27/27 - 0s - loss: 0.1151 - val_loss: 0.5372 - 379ms/epoch - 14ms/step\n",
            "Epoch 198/300\n",
            "27/27 - 0s - loss: 0.1085 - val_loss: 0.5598 - 389ms/epoch - 14ms/step\n",
            "Epoch 199/300\n",
            "27/27 - 0s - loss: 0.1141 - val_loss: 0.5079 - 379ms/epoch - 14ms/step\n",
            "Epoch 200/300\n",
            "27/27 - 0s - loss: 0.1204 - val_loss: 0.5570 - 397ms/epoch - 15ms/step\n",
            "Epoch 201/300\n",
            "27/27 - 0s - loss: 0.1171 - val_loss: 0.5152 - 383ms/epoch - 14ms/step\n",
            "Epoch 202/300\n",
            "27/27 - 0s - loss: 0.1129 - val_loss: 0.4862 - 386ms/epoch - 14ms/step\n",
            "Epoch 203/300\n",
            "27/27 - 0s - loss: 0.1166 - val_loss: 0.6088 - 389ms/epoch - 14ms/step\n",
            "Epoch 204/300\n",
            "27/27 - 0s - loss: 0.1144 - val_loss: 0.5185 - 378ms/epoch - 14ms/step\n",
            "Epoch 205/300\n",
            "27/27 - 0s - loss: 0.1068 - val_loss: 0.5218 - 398ms/epoch - 15ms/step\n",
            "Epoch 206/300\n",
            "27/27 - 0s - loss: 0.1071 - val_loss: 0.5742 - 377ms/epoch - 14ms/step\n",
            "Epoch 207/300\n",
            "27/27 - 0s - loss: 0.1097 - val_loss: 0.5516 - 383ms/epoch - 14ms/step\n",
            "Epoch 208/300\n",
            "27/27 - 0s - loss: 0.1255 - val_loss: 0.6161 - 408ms/epoch - 15ms/step\n",
            "Epoch 209/300\n",
            "27/27 - 0s - loss: 0.1133 - val_loss: 0.5299 - 391ms/epoch - 14ms/step\n",
            "Epoch 210/300\n",
            "27/27 - 0s - loss: 0.1216 - val_loss: 0.5107 - 379ms/epoch - 14ms/step\n",
            "Epoch 211/300\n",
            "27/27 - 0s - loss: 0.1176 - val_loss: 0.5389 - 394ms/epoch - 15ms/step\n",
            "Epoch 212/300\n",
            "27/27 - 0s - loss: 0.1200 - val_loss: 0.4918 - 390ms/epoch - 14ms/step\n",
            "Epoch 213/300\n",
            "27/27 - 0s - loss: 0.1186 - val_loss: 0.5502 - 429ms/epoch - 16ms/step\n",
            "Epoch 214/300\n",
            "27/27 - 0s - loss: 0.1243 - val_loss: 0.5237 - 391ms/epoch - 14ms/step\n",
            "Epoch 215/300\n",
            "27/27 - 0s - loss: 0.1040 - val_loss: 0.5409 - 397ms/epoch - 15ms/step\n",
            "Epoch 216/300\n",
            "27/27 - 0s - loss: 0.1101 - val_loss: 0.5054 - 387ms/epoch - 14ms/step\n",
            "Epoch 217/300\n",
            "27/27 - 0s - loss: 0.1117 - val_loss: 0.4971 - 384ms/epoch - 14ms/step\n",
            "Epoch 218/300\n",
            "27/27 - 0s - loss: 0.1059 - val_loss: 0.5153 - 398ms/epoch - 15ms/step\n",
            "Epoch 219/300\n",
            "27/27 - 0s - loss: 0.1122 - val_loss: 0.5292 - 392ms/epoch - 15ms/step\n",
            "Epoch 220/300\n",
            "27/27 - 0s - loss: 0.1054 - val_loss: 0.4977 - 396ms/epoch - 15ms/step\n",
            "Epoch 221/300\n",
            "27/27 - 0s - loss: 0.1267 - val_loss: 0.5196 - 403ms/epoch - 15ms/step\n",
            "Epoch 222/300\n",
            "27/27 - 0s - loss: 0.1083 - val_loss: 0.5110 - 399ms/epoch - 15ms/step\n",
            "Epoch 223/300\n",
            "27/27 - 0s - loss: 0.1178 - val_loss: 0.5580 - 421ms/epoch - 16ms/step\n",
            "Epoch 224/300\n",
            "27/27 - 0s - loss: 0.1031 - val_loss: 0.5318 - 402ms/epoch - 15ms/step\n",
            "Epoch 225/300\n",
            "27/27 - 0s - loss: 0.1117 - val_loss: 0.5657 - 390ms/epoch - 14ms/step\n",
            "Epoch 226/300\n",
            "27/27 - 0s - loss: 0.1061 - val_loss: 0.6983 - 407ms/epoch - 15ms/step\n",
            "Epoch 227/300\n",
            "27/27 - 0s - loss: 0.1027 - val_loss: 0.5226 - 392ms/epoch - 15ms/step\n",
            "Epoch 228/300\n",
            "27/27 - 0s - loss: 0.1042 - val_loss: 0.6671 - 391ms/epoch - 14ms/step\n",
            "Epoch 229/300\n",
            "27/27 - 0s - loss: 0.1119 - val_loss: 0.5191 - 408ms/epoch - 15ms/step\n",
            "Epoch 230/300\n",
            "27/27 - 0s - loss: 0.1045 - val_loss: 0.5071 - 396ms/epoch - 15ms/step\n",
            "Epoch 231/300\n",
            "27/27 - 0s - loss: 0.0967 - val_loss: 0.5776 - 408ms/epoch - 15ms/step\n",
            "Epoch 232/300\n",
            "27/27 - 0s - loss: 0.1021 - val_loss: 0.5838 - 398ms/epoch - 15ms/step\n",
            "Epoch 233/300\n",
            "27/27 - 0s - loss: 0.1075 - val_loss: 0.5429 - 399ms/epoch - 15ms/step\n",
            "Epoch 234/300\n",
            "27/27 - 0s - loss: 0.1153 - val_loss: 0.6077 - 413ms/epoch - 15ms/step\n",
            "Epoch 235/300\n",
            "27/27 - 0s - loss: 0.1092 - val_loss: 0.6054 - 392ms/epoch - 15ms/step\n",
            "Epoch 236/300\n",
            "27/27 - 0s - loss: 0.1094 - val_loss: 0.6354 - 403ms/epoch - 15ms/step\n",
            "Epoch 237/300\n",
            "27/27 - 0s - loss: 0.1093 - val_loss: 0.7005 - 393ms/epoch - 15ms/step\n",
            "Epoch 238/300\n",
            "27/27 - 0s - loss: 0.1072 - val_loss: 0.5832 - 393ms/epoch - 15ms/step\n",
            "Epoch 239/300\n",
            "27/27 - 0s - loss: 0.1033 - val_loss: 0.5173 - 438ms/epoch - 16ms/step\n",
            "Epoch 240/300\n",
            "27/27 - 0s - loss: 0.1057 - val_loss: 0.6885 - 395ms/epoch - 15ms/step\n",
            "Epoch 241/300\n",
            "27/27 - 0s - loss: 0.1068 - val_loss: 2.0484 - 400ms/epoch - 15ms/step\n",
            "Epoch 242/300\n",
            "27/27 - 0s - loss: 0.0990 - val_loss: 0.5450 - 391ms/epoch - 14ms/step\n",
            "Epoch 243/300\n",
            "27/27 - 0s - loss: 0.1095 - val_loss: 0.5278 - 392ms/epoch - 15ms/step\n",
            "Epoch 244/300\n",
            "27/27 - 0s - loss: 0.0989 - val_loss: 0.6114 - 399ms/epoch - 15ms/step\n",
            "Epoch 245/300\n",
            "27/27 - 0s - loss: 0.1202 - val_loss: 0.6670 - 399ms/epoch - 15ms/step\n",
            "Epoch 246/300\n",
            "27/27 - 0s - loss: 0.1215 - val_loss: 0.7574 - 407ms/epoch - 15ms/step\n",
            "Epoch 247/300\n",
            "27/27 - 0s - loss: 0.0967 - val_loss: 0.5093 - 395ms/epoch - 15ms/step\n",
            "Epoch 248/300\n",
            "27/27 - 0s - loss: 0.1074 - val_loss: 0.6164 - 392ms/epoch - 15ms/step\n",
            "Epoch 249/300\n",
            "27/27 - 0s - loss: 0.1105 - val_loss: 0.5581 - 405ms/epoch - 15ms/step\n",
            "Epoch 250/300\n",
            "27/27 - 0s - loss: 0.0988 - val_loss: 0.6571 - 400ms/epoch - 15ms/step\n",
            "Epoch 251/300\n",
            "27/27 - 0s - loss: 0.0977 - val_loss: 0.6179 - 408ms/epoch - 15ms/step\n",
            "Epoch 252/300\n",
            "27/27 - 0s - loss: 0.1055 - val_loss: 0.7002 - 408ms/epoch - 15ms/step\n",
            "Epoch 253/300\n",
            "27/27 - 0s - loss: 0.1008 - val_loss: 0.7654 - 392ms/epoch - 15ms/step\n",
            "Epoch 254/300\n",
            "27/27 - 0s - loss: 0.1056 - val_loss: 0.6903 - 400ms/epoch - 15ms/step\n",
            "Epoch 255/300\n",
            "27/27 - 0s - loss: 0.1099 - val_loss: 0.5038 - 395ms/epoch - 15ms/step\n",
            "Epoch 256/300\n",
            "27/27 - 0s - loss: 0.0972 - val_loss: 0.5328 - 394ms/epoch - 15ms/step\n",
            "Epoch 257/300\n",
            "27/27 - 0s - loss: 0.1005 - val_loss: 0.5966 - 420ms/epoch - 16ms/step\n",
            "Epoch 258/300\n",
            "27/27 - 0s - loss: 0.1116 - val_loss: 1.4487 - 415ms/epoch - 15ms/step\n",
            "Epoch 259/300\n",
            "27/27 - 0s - loss: 0.1344 - val_loss: 2.0722 - 405ms/epoch - 15ms/step\n",
            "Epoch 260/300\n",
            "27/27 - 0s - loss: 0.1173 - val_loss: 1.7960 - 391ms/epoch - 14ms/step\n",
            "Epoch 261/300\n",
            "27/27 - 0s - loss: 0.1222 - val_loss: 0.6800 - 401ms/epoch - 15ms/step\n",
            "Epoch 262/300\n",
            "27/27 - 0s - loss: 0.1184 - val_loss: 0.8815 - 408ms/epoch - 15ms/step\n",
            "Epoch 263/300\n",
            "27/27 - 0s - loss: 0.1084 - val_loss: 0.5773 - 396ms/epoch - 15ms/step\n",
            "Epoch 264/300\n",
            "27/27 - 0s - loss: 0.1026 - val_loss: 0.5290 - 415ms/epoch - 15ms/step\n",
            "Epoch 265/300\n",
            "27/27 - 0s - loss: 0.1020 - val_loss: 0.5861 - 409ms/epoch - 15ms/step\n",
            "Epoch 266/300\n",
            "27/27 - 0s - loss: 0.1150 - val_loss: 0.8335 - 435ms/epoch - 16ms/step\n",
            "Epoch 267/300\n",
            "27/27 - 0s - loss: 0.1133 - val_loss: 1.2123 - 412ms/epoch - 15ms/step\n",
            "Epoch 268/300\n",
            "27/27 - 0s - loss: 0.1043 - val_loss: 1.5768 - 415ms/epoch - 15ms/step\n",
            "Epoch 269/300\n",
            "27/27 - 0s - loss: 0.1009 - val_loss: 0.5522 - 419ms/epoch - 16ms/step\n",
            "Epoch 270/300\n",
            "27/27 - 0s - loss: 0.1085 - val_loss: 0.5582 - 392ms/epoch - 15ms/step\n",
            "Epoch 271/300\n",
            "27/27 - 0s - loss: 0.0999 - val_loss: 0.5284 - 430ms/epoch - 16ms/step\n",
            "Epoch 272/300\n",
            "27/27 - 0s - loss: 0.1012 - val_loss: 0.9369 - 404ms/epoch - 15ms/step\n",
            "Epoch 273/300\n",
            "27/27 - 0s - loss: 0.1123 - val_loss: 0.5966 - 400ms/epoch - 15ms/step\n",
            "Epoch 274/300\n",
            "27/27 - 0s - loss: 0.0902 - val_loss: 0.8282 - 427ms/epoch - 16ms/step\n",
            "Epoch 275/300\n",
            "27/27 - 0s - loss: 0.1002 - val_loss: 0.6325 - 398ms/epoch - 15ms/step\n",
            "Epoch 276/300\n",
            "27/27 - 0s - loss: 0.1022 - val_loss: 0.8186 - 418ms/epoch - 15ms/step\n",
            "Epoch 277/300\n",
            "27/27 - 0s - loss: 0.0990 - val_loss: 0.4947 - 410ms/epoch - 15ms/step\n",
            "Epoch 278/300\n",
            "27/27 - 0s - loss: 0.0981 - val_loss: 0.8444 - 415ms/epoch - 15ms/step\n",
            "Epoch 279/300\n",
            "27/27 - 0s - loss: 0.0992 - val_loss: 0.5861 - 416ms/epoch - 15ms/step\n",
            "Epoch 280/300\n",
            "27/27 - 0s - loss: 0.1046 - val_loss: 0.8594 - 397ms/epoch - 15ms/step\n",
            "Epoch 281/300\n",
            "27/27 - 0s - loss: 0.0984 - val_loss: 0.5959 - 415ms/epoch - 15ms/step\n",
            "Epoch 282/300\n",
            "27/27 - 0s - loss: 0.1001 - val_loss: 0.7536 - 399ms/epoch - 15ms/step\n",
            "Epoch 283/300\n",
            "27/27 - 0s - loss: 0.0914 - val_loss: 0.5903 - 392ms/epoch - 15ms/step\n",
            "Epoch 284/300\n",
            "27/27 - 0s - loss: 0.1036 - val_loss: 0.7433 - 419ms/epoch - 16ms/step\n",
            "Epoch 285/300\n",
            "27/27 - 0s - loss: 0.1002 - val_loss: 0.5273 - 393ms/epoch - 15ms/step\n",
            "Epoch 286/300\n",
            "27/27 - 0s - loss: 0.0877 - val_loss: 0.6231 - 410ms/epoch - 15ms/step\n",
            "Epoch 287/300\n",
            "27/27 - 0s - loss: 0.1096 - val_loss: 0.5953 - 404ms/epoch - 15ms/step\n",
            "Epoch 288/300\n",
            "27/27 - 0s - loss: 0.0971 - val_loss: 0.5870 - 402ms/epoch - 15ms/step\n",
            "Epoch 289/300\n",
            "27/27 - 0s - loss: 0.1125 - val_loss: 0.6749 - 412ms/epoch - 15ms/step\n",
            "Epoch 290/300\n",
            "27/27 - 0s - loss: 0.1055 - val_loss: 2.0170 - 404ms/epoch - 15ms/step\n",
            "Epoch 291/300\n",
            "27/27 - 0s - loss: 0.0981 - val_loss: 0.5673 - 406ms/epoch - 15ms/step\n",
            "Epoch 292/300\n",
            "27/27 - 0s - loss: 0.1072 - val_loss: 0.6015 - 431ms/epoch - 16ms/step\n",
            "Epoch 293/300\n",
            "27/27 - 0s - loss: 0.0935 - val_loss: 0.7656 - 408ms/epoch - 15ms/step\n",
            "Epoch 294/300\n",
            "27/27 - 0s - loss: 0.0919 - val_loss: 0.6205 - 410ms/epoch - 15ms/step\n",
            "Epoch 295/300\n",
            "27/27 - 0s - loss: 0.0893 - val_loss: 0.9455 - 386ms/epoch - 14ms/step\n",
            "Epoch 296/300\n",
            "27/27 - 0s - loss: 0.0945 - val_loss: 1.5758 - 411ms/epoch - 15ms/step\n",
            "Epoch 297/300\n",
            "27/27 - 0s - loss: 0.1039 - val_loss: 0.5502 - 395ms/epoch - 15ms/step\n",
            "Epoch 298/300\n",
            "27/27 - 0s - loss: 0.1037 - val_loss: 0.5810 - 400ms/epoch - 15ms/step\n",
            "Epoch 299/300\n",
            "27/27 - 0s - loss: 0.1000 - val_loss: 0.6416 - 413ms/epoch - 15ms/step\n",
            "Epoch 300/300\n",
            "27/27 - 0s - loss: 0.0921 - val_loss: 0.5417 - 385ms/epoch - 14ms/step\n"
          ]
        }
      ]
    },
    {
      "cell_type": "code",
      "source": [
        "probs       = model.predict(test_X)\n",
        "preds       = probs.argmax(axis = -1)  \n",
        "acc         = np.mean(preds == test_y.argmax(axis=-1))\n",
        "print(\"Classification accuracy: %f \" % (acc))"
      ],
      "metadata": {
        "colab": {
          "base_uri": "https://localhost:8080/"
        },
        "id": "sefsOIUqV204",
        "outputId": "9b614070-e2b4-4b11-b761-d0c90292545a"
      },
      "execution_count": 286,
      "outputs": [
        {
          "output_type": "stream",
          "name": "stdout",
          "text": [
            "Classification accuracy: 0.460714 \n"
          ]
        }
      ]
    }
  ],
  "metadata": {
    "colab": {
      "collapsed_sections": [
        "9JpGUmojfJD1",
        "sE94nxnpaDT0",
        "73u_N5c2vwkx",
        "YEmaM7rep0bW",
        "xMjOyuxHfM8h",
        "kVR1zGqyhsrM",
        "lP1mw6jBhl0O",
        "g0I4h49AkgLN",
        "QrlhSOIae6Af"
      ],
      "name": "Thesis-10x101.ipynb",
      "provenance": [],
      "mount_file_id": "1X-dlKg2O29bPFo9-VIho77dU8aSQ0JMr",
      "authorship_tag": "ABX9TyNtua5p4cYLrNdowwuLyMXH"
    },
    "kernelspec": {
      "display_name": "Python 3",
      "name": "python3"
    },
    "language_info": {
      "name": "python"
    }
  },
  "nbformat": 4,
  "nbformat_minor": 0
}