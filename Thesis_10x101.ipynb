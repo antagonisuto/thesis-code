{
  "cells": [
    {
      "cell_type": "code",
      "execution_count": 1,
      "metadata": {
        "colab": {
          "base_uri": "https://localhost:8080/"
        },
        "id": "wOXE6bstFDrd",
        "outputId": "feaf3186-605b-48bd-f912-1d641e4d4876"
      },
      "outputs": [
        {
          "output_type": "stream",
          "name": "stdout",
          "text": [
            "Collecting mne\n",
            "  Downloading mne-1.0.0-py3-none-any.whl (7.5 MB)\n",
            "\u001b[K     |████████████████████████████████| 7.5 MB 4.8 MB/s \n",
            "\u001b[?25hRequirement already satisfied: numpy>=1.15.4 in /usr/local/lib/python3.7/dist-packages (from mne) (1.21.5)\n",
            "Requirement already satisfied: decorator in /usr/local/lib/python3.7/dist-packages (from mne) (4.4.2)\n",
            "Requirement already satisfied: matplotlib in /usr/local/lib/python3.7/dist-packages (from mne) (3.2.2)\n",
            "Requirement already satisfied: scipy>=1.1.0 in /usr/local/lib/python3.7/dist-packages (from mne) (1.4.1)\n",
            "Requirement already satisfied: packaging in /usr/local/lib/python3.7/dist-packages (from mne) (21.3)\n",
            "Requirement already satisfied: jinja2 in /usr/local/lib/python3.7/dist-packages (from mne) (2.11.3)\n",
            "Requirement already satisfied: tqdm in /usr/local/lib/python3.7/dist-packages (from mne) (4.63.0)\n",
            "Requirement already satisfied: pooch>=1.5 in /usr/local/lib/python3.7/dist-packages (from mne) (1.6.0)\n",
            "Requirement already satisfied: requests>=2.19.0 in /usr/local/lib/python3.7/dist-packages (from pooch>=1.5->mne) (2.23.0)\n",
            "Requirement already satisfied: appdirs>=1.3.0 in /usr/local/lib/python3.7/dist-packages (from pooch>=1.5->mne) (1.4.4)\n",
            "Requirement already satisfied: pyparsing!=3.0.5,>=2.0.2 in /usr/local/lib/python3.7/dist-packages (from packaging->mne) (3.0.7)\n",
            "Requirement already satisfied: certifi>=2017.4.17 in /usr/local/lib/python3.7/dist-packages (from requests>=2.19.0->pooch>=1.5->mne) (2021.10.8)\n",
            "Requirement already satisfied: chardet<4,>=3.0.2 in /usr/local/lib/python3.7/dist-packages (from requests>=2.19.0->pooch>=1.5->mne) (3.0.4)\n",
            "Requirement already satisfied: urllib3!=1.25.0,!=1.25.1,<1.26,>=1.21.1 in /usr/local/lib/python3.7/dist-packages (from requests>=2.19.0->pooch>=1.5->mne) (1.24.3)\n",
            "Requirement already satisfied: idna<3,>=2.5 in /usr/local/lib/python3.7/dist-packages (from requests>=2.19.0->pooch>=1.5->mne) (2.10)\n",
            "Requirement already satisfied: MarkupSafe>=0.23 in /usr/local/lib/python3.7/dist-packages (from jinja2->mne) (2.0.1)\n",
            "Requirement already satisfied: cycler>=0.10 in /usr/local/lib/python3.7/dist-packages (from matplotlib->mne) (0.11.0)\n",
            "Requirement already satisfied: kiwisolver>=1.0.1 in /usr/local/lib/python3.7/dist-packages (from matplotlib->mne) (1.4.0)\n",
            "Requirement already satisfied: python-dateutil>=2.1 in /usr/local/lib/python3.7/dist-packages (from matplotlib->mne) (2.8.2)\n",
            "Requirement already satisfied: typing-extensions in /usr/local/lib/python3.7/dist-packages (from kiwisolver>=1.0.1->matplotlib->mne) (3.10.0.2)\n",
            "Requirement already satisfied: six>=1.5 in /usr/local/lib/python3.7/dist-packages (from python-dateutil>=2.1->matplotlib->mne) (1.15.0)\n",
            "Installing collected packages: mne\n",
            "Successfully installed mne-1.0.0\n"
          ]
        }
      ],
      "source": [
        "pip install mne"
      ]
    },
    {
      "cell_type": "code",
      "execution_count": 20,
      "metadata": {
        "id": "VjSlXtVgn4Mj"
      },
      "outputs": [],
      "source": [
        "import os\n",
        "import numpy as np\n",
        "import mne\n",
        "\n",
        "#LDA\n",
        "from sklearn.discriminant_analysis import LinearDiscriminantAnalysis as LDA\n",
        "from sklearn.metrics import confusion_matrix\n",
        "from sklearn.metrics import accuracy_score\n",
        "\n",
        "#Visual\n",
        "import matplotlib.pyplot as plt\n",
        "from mne.preprocessing import (ICA, corrmap)\n",
        "from scipy.stats import ttest_rel\n",
        "from tensorflow.keras import utils as np_utils\n",
        "from sklearn.utils import shuffle\n",
        "import seaborn as sns\n",
        "\n",
        "#CNN\n",
        "import keras\n",
        "from keras.models import Sequential,Input,Model\n",
        "from keras.layers import Dense, Dropout, Flatten\n",
        "from keras.layers import Conv2D, MaxPooling2D\n",
        "from tensorflow.keras.layers import BatchNormalization\n",
        "from keras.layers.advanced_activations import LeakyReLU\n",
        "import tensorflow as tf\n",
        "from tensorflow.keras.callbacks import ModelCheckpoint\n",
        "from tensorflow.keras.optimizers import SGD, Adam\n",
        "import sklearn.metrics as metrics\n",
        "import seaborn as sns\n",
        "from sklearn.model_selection import train_test_split\n",
        "from sklearn.utils.class_weight import compute_class_weight"
      ]
    },
    {
      "cell_type": "code",
      "execution_count": 3,
      "metadata": {
        "id": "kPMY77PVG67x"
      },
      "outputs": [],
      "source": [
        "dataPath = '/content/drive/MyDrive/databbci'"
      ]
    },
    {
      "cell_type": "code",
      "execution_count": 5,
      "metadata": {
        "colab": {
          "base_uri": "https://localhost:8080/"
        },
        "id": "yymPXXeiHBTa",
        "outputId": "2d41f722-28fe-4468-9e37-9c05cea3644d"
      },
      "outputs": [
        {
          "output_type": "stream",
          "name": "stderr",
          "text": [
            "<ipython-input-5-e82f2427b298>:17: RuntimeWarning: Online software filter detected. Using software filter settings and ignoring hardware values\n",
            "  passive.append(mne.io.read_raw_brainvision(tmp, preload=True, verbose=False))\n",
            "<ipython-input-5-e82f2427b298>:15: RuntimeWarning: Online software filter detected. Using software filter settings and ignoring hardware values\n",
            "  active.append(mne.io.read_raw_brainvision(tmp, preload=True, verbose=False))\n",
            "<ipython-input-5-e82f2427b298>:19: RuntimeWarning: Online software filter detected. Using software filter settings and ignoring hardware values\n",
            "  cue.append(mne.io.read_raw_brainvision(tmp, preload=True, verbose=False))\n",
            "<ipython-input-5-e82f2427b298>:19: RuntimeWarning: Online software filter detected. Using software filter settings and ignoring hardware values\n",
            "  cue.append(mne.io.read_raw_brainvision(tmp, preload=True, verbose=False))\n",
            "<ipython-input-5-e82f2427b298>:17: RuntimeWarning: Online software filter detected. Using software filter settings and ignoring hardware values\n",
            "  passive.append(mne.io.read_raw_brainvision(tmp, preload=True, verbose=False))\n",
            "<ipython-input-5-e82f2427b298>:15: RuntimeWarning: Online software filter detected. Using software filter settings and ignoring hardware values\n",
            "  active.append(mne.io.read_raw_brainvision(tmp, preload=True, verbose=False))\n",
            "<ipython-input-5-e82f2427b298>:19: RuntimeWarning: Online software filter detected. Using software filter settings and ignoring hardware values\n",
            "  cue.append(mne.io.read_raw_brainvision(tmp, preload=True, verbose=False))\n",
            "<ipython-input-5-e82f2427b298>:19: RuntimeWarning: Online software filter detected. Using software filter settings and ignoring hardware values\n",
            "  cue.append(mne.io.read_raw_brainvision(tmp, preload=True, verbose=False))\n",
            "<ipython-input-5-e82f2427b298>:17: RuntimeWarning: Online software filter detected. Using software filter settings and ignoring hardware values\n",
            "  passive.append(mne.io.read_raw_brainvision(tmp, preload=True, verbose=False))\n",
            "<ipython-input-5-e82f2427b298>:15: RuntimeWarning: Online software filter detected. Using software filter settings and ignoring hardware values\n",
            "  active.append(mne.io.read_raw_brainvision(tmp, preload=True, verbose=False))\n",
            "<ipython-input-5-e82f2427b298>:19: RuntimeWarning: Online software filter detected. Using software filter settings and ignoring hardware values\n",
            "  cue.append(mne.io.read_raw_brainvision(tmp, preload=True, verbose=False))\n",
            "<ipython-input-5-e82f2427b298>:19: RuntimeWarning: Online software filter detected. Using software filter settings and ignoring hardware values\n",
            "  cue.append(mne.io.read_raw_brainvision(tmp, preload=True, verbose=False))\n"
          ]
        },
        {
          "output_type": "stream",
          "name": "stdout",
          "text": [
            "3\n"
          ]
        }
      ],
      "source": [
        "import os\n",
        "\n",
        "active = []\n",
        "passive = []\n",
        "cue = []\n",
        "\n",
        "\n",
        "data_number = 0\n",
        "for dir in os.listdir(dataPath):\n",
        "  for filename in os.listdir(os.path.join(dataPath, dir)):\n",
        "    #if filename.endswith(\".vhdr\"):\n",
        "    tmp = os.path.join(os.path.join(dataPath, dir), filename)\n",
        "      #with open(os.path.join(os.path.join(dataPath, dir), filename), 'r') as f: # open in readonly mode\n",
        "    if filename.endswith(\"active.vhdr\"):\n",
        "      active.append(mne.io.read_raw_brainvision(tmp, preload=True, verbose=False))\n",
        "    elif filename.endswith(\"passive.vhdr\"):\n",
        "      passive.append(mne.io.read_raw_brainvision(tmp, preload=True, verbose=False))\n",
        "    elif filename.endswith(\"cue.vhdr\"):\n",
        "      cue.append(mne.io.read_raw_brainvision(tmp, preload=True, verbose=False))\n",
        "print(len(active))"
      ]
    },
    {
      "cell_type": "markdown",
      "source": [
        "# Function | Run All"
      ],
      "metadata": {
        "id": "dhnDzzZCh1Ca"
      }
    },
    {
      "cell_type": "markdown",
      "source": [
        "    func: raw_to_data(raw, non_active = 0) \n",
        "    * active = 0\n",
        "    * passive = 1\n",
        "    * cue = 2\n",
        "    return X, y\n",
        "\n",
        "\\-\n",
        "\n",
        "    def get_train_test(act, pas, cue): \n",
        "    * active[subject] -> act\n",
        "    * call function \"raw_to_data\"\n",
        "    return train_X, test_X, train_y, test_y\n",
        "\n",
        "\\- LDA\n",
        "\n",
        "  \n",
        "    def lda_101(train_X, test_X, train_y, test_y):\n",
        "    return clf, cm\n",
        "\n",
        "\\- CNN\n",
        "\n",
        "    def cnn_101(train_X, test_X, train_y, test_y):\n",
        "    * batch_size = 16\n",
        "    * epochs = 100\n",
        "    * num_classes = 2\n",
        "    return cnn_model, cnn_train, test_eval, cm_cnn\n",
        "\n",
        "\n",
        "\\- Visualization\n",
        "\n",
        "    def vis_confusion_matrix(cm):\n",
        "    * plot \n"
      ],
      "metadata": {
        "id": "vxAeGIjYh58J"
      }
    },
    {
      "cell_type": "markdown",
      "metadata": {
        "id": "9JpGUmojfJD1"
      },
      "source": [
        "## All data load"
      ]
    },
    {
      "cell_type": "code",
      "execution_count": 46,
      "metadata": {
        "id": "IbzHDX8rfLbI"
      },
      "outputs": [],
      "source": [
        "def raw_to_data(raw, non_active = 0):\n",
        "  raw.pick_channels(['C1', 'Fz', 'C2', 'F3', 'F4', 'Pz', 'Oz', 'C3', 'Cz', 'C4'])\n",
        "  raw.filter(l_freq=0.4, h_freq=40, fir_design='firwin', verbose=False)\n",
        "  #raw.filter(l_freq=0.4, h_freq=40, method = 'iir', verbose=False)\n",
        "\n",
        "  events, _ = mne.events_from_annotations(raw, verbose=False)\n",
        "  tmin, tmax = -0., 1.  # in s\n",
        "  baseline = (None, 0)\n",
        "\n",
        "  #passive -> ignore \n",
        "  #cue -> active\n",
        "  # -> active, ignore\n",
        "  event_dict = {'active': 1, 'ignore': 2}\n",
        "  if non_active != 0:\n",
        "    event_dict.clear()\n",
        "    if non_active == 1: #passive\n",
        "      event_dict = {'ignore': 2}\n",
        "    else: # cue\n",
        "      event_dict = {'active': 1}\n",
        "  \n",
        "  epochs = mne.Epochs(\n",
        "    raw, events=events,\n",
        "    event_id=event_dict, tmin=tmin,\n",
        "    tmax=tmax, baseline=None, preload = True, verbose=False)\n",
        "  # print(epochs.events.size)\n",
        "  # print(epochs.event_id)\n",
        "  # {'active': 1, 'ignore': 2}\n",
        "\n",
        "  #preprocessing\n",
        "  filt_raw = raw.copy().filter(l_freq=1., h_freq=None)\n",
        "  ica = ICA(n_components=10, max_iter='auto', random_state=97)\n",
        "  ica.fit(epochs)\n",
        "\n",
        "  X = epochs.get_data()*1000  # MEG signals: n_epochs, n_meg_channels, n_times\n",
        "  y = epochs.events[:, 2]  # target: auditory left vs visual left\n",
        "  #print(X.shape, y.shape)\n",
        "\n",
        "  return X, y"
      ]
    },
    {
      "cell_type": "markdown",
      "metadata": {
        "id": "sE94nxnpaDT0"
      },
      "source": [
        "## Preprocessing"
      ]
    },
    {
      "cell_type": "code",
      "source": [
        "def get_train_test(act, pas, cue):\n",
        "  subject = 0\n",
        "  train_X, train_y = raw_to_data(act, 0)\n",
        "  pas_X, pas_y = raw_to_data(pas, 1) #passive = 1\n",
        "  cue_X, cue_y = raw_to_data(cue, 2) #ignore = 2\n",
        "\n",
        "  test_X = np.append(cue_X, pas_X, axis = 0)\n",
        "  test_y = np.append(cue_y, pas_y, axis = 0)\n",
        "\n",
        "  return train_X, test_X, train_y, test_y\n"
      ],
      "metadata": {
        "id": "rnAxM1QGf3Nj"
      },
      "execution_count": 47,
      "outputs": []
    },
    {
      "cell_type": "markdown",
      "metadata": {
        "id": "73u_N5c2vwkx"
      },
      "source": [
        "## LDA Function"
      ]
    },
    {
      "cell_type": "code",
      "source": [
        "def lda_101(train_X, test_X, train_y, test_y):\n",
        "  train_lda = train_X.reshape(540,-1)\n",
        "  n, _, _ = test_X.shape\n",
        "  test_lda = test_X.reshape(n, -1)\n",
        "\n",
        "  clf = LDA()\n",
        "  clf.fit(train_lda, train_y)\n",
        "\n",
        "  y_pred = clf.predict(test_lda)\n",
        "  cm = confusion_matrix(test_y, y_pred)\n",
        "  print(cm)\n",
        "  print('Accuracy' + str(accuracy_score(test_y, y_pred)))\n",
        "\n",
        "  return clf, cm"
      ],
      "metadata": {
        "id": "Rg2hYQGycQqE"
      },
      "execution_count": 48,
      "outputs": []
    },
    {
      "cell_type": "markdown",
      "source": [
        "## CNN Functions"
      ],
      "metadata": {
        "id": "YEmaM7rep0bW"
      }
    },
    {
      "cell_type": "code",
      "source": [
        "def cnn_101(train_X, test_X, train_y, test_y, batch_size = 32, epochs = 100):\n",
        "  train_X = train_X.reshape(-1, 10,101, 1)\n",
        "  test_X = test_X.reshape(-1, 10,101, 1)\n",
        "\n",
        "  #train_X, train_y = shuffle(test_X, test_y, random_state=2)\n",
        "  #test_X, test_y = shuffle(test_X, test_y, random_state=2)\n",
        "  \n",
        "  train_X,valid_X,train_label,valid_label = train_test_split(train_X, \n",
        "                                                             train_y, \n",
        "                                                             test_size=0.2, \n",
        "                                                             random_state=13)\n",
        "\n",
        "  train_label_categorical = np_utils.to_categorical(train_label-1)\n",
        "  valid_label_categorical = np_utils.to_categorical(valid_label-1)\n",
        "  test_y = np_utils.to_categorical(test_y-1)\n",
        "\n",
        "  # batch_size = 32\n",
        "  # epochs = 100\n",
        "  num_classes = 2\n",
        "\n",
        "  cnn_model = Sequential()\n",
        "  cnn_model.add(Conv2D(8, kernel_size=(40, 4),activation='relu',input_shape=(10,101,1),padding='same'))\n",
        "  # cnn_model.add(MaxPooling2D((2, 2),padding='same'))\n",
        "  cnn_model.add(BatchNormalization())\n",
        "  cnn_model.add(Dropout(0.25))\n",
        "\n",
        "  cnn_model.add(Conv2D(16, (80, 4), activation='relu',padding='same'))\n",
        "  # cnn_model.add(MaxPooling2D(pool_size=(2, 2),padding='same'))\n",
        "  cnn_model.add(BatchNormalization())\n",
        "  cnn_model.add(Dropout(0.25))\n",
        "\n",
        "  cnn_model.add(Conv2D(32, (80, 4), activation='relu',padding='same'))         \n",
        "  # cnn_model.add(MaxPooling2D(pool_size=(2, 2),padding='same'))\n",
        "  cnn_model.add(BatchNormalization())\n",
        "  cnn_model.add(Dropout(0.25))\n",
        "\n",
        "  cnn_model.add(Flatten())\n",
        "  cnn_model.add(Dense(128, activation='relu'))\n",
        "  cnn_model.add(Dense(num_classes, activation='sigmoid'))\n",
        "\n",
        "  # set a valid path for your system to record model checkpoints\n",
        "  checkpointer = ModelCheckpoint(filepath='/tmp/checkpoint.h5', verbose=1,\n",
        "                               save_best_only=True)\n",
        "  \n",
        "  y_integers = np.argmax(train_label_categorical, axis=1)\n",
        "  class_weights = compute_class_weight(class_weight='balanced', classes=np.unique(y_integers), y=y_integers)\n",
        "  d_class_weights = dict(enumerate(class_weights))\n",
        "\n",
        "  opt = SGD(lr=0.01)\n",
        "  #opt = Adam(lr=0.001, beta_1=0.9, beta_2=0.999, epsilon=None, decay=0.01, amsgrad=False)\n",
        "\n",
        "  cnn_model.compile(optimizer=opt,\n",
        "          loss = \"categorical_crossentropy\",\n",
        "          metrics=['accuracy'])\n",
        "  \n",
        "  cnn_train = cnn_model.fit(train_X, train_label_categorical, batch_size=batch_size, \n",
        "                          epochs=epochs,\n",
        "                          verbose=1,\n",
        "                          validation_data=(valid_X, valid_label_categorical), \n",
        "                          callbacks=[checkpointer], \n",
        "                          class_weight = d_class_weights\n",
        "                          )\n",
        "\n",
        "  test_eval = cnn_model.evaluate(test_X, test_y, verbose=0)\n",
        "\n",
        "  pred_prob_conv = cnn_model.predict(test_X)\n",
        "\n",
        "  pred_y_conv = np.argmax(pred_prob_conv, axis=1)  # only necessary if output has one-hot-encoding, shape=(n_samples)\n",
        "  test_y_conv = np.argmax(test_y, axis=1)\n",
        "\n",
        "  cm_cnn = cm_cnn = metrics.confusion_matrix(y_true=test_y_conv, \n",
        "                                              y_pred=pred_y_conv)\n",
        "\n",
        "  return cnn_model, cnn_train, test_eval, cm_cnn\n"
      ],
      "metadata": {
        "id": "uNT_ZJLBqAEP"
      },
      "execution_count": 274,
      "outputs": []
    },
    {
      "cell_type": "code",
      "source": [
        "def vis_acc_loss(cnn_train):\n",
        "  accuracy = cnn_train.history['accuracy']\n",
        "  val_accuracy = cnn_train.history['val_accuracy']\n",
        "  loss = cnn_train.history['loss']\n",
        "  val_loss = cnn_train.history['val_loss']\n",
        "  epochs = range(len(accuracy))\n",
        "  plt.plot(epochs, accuracy, 'bo', label='Training accuracy')\n",
        "  plt.plot(epochs, val_accuracy, 'b', label='Validation accuracy')\n",
        "  plt.title('Training and validation accuracy')\n",
        "  plt.legend()\n",
        "  plt.figure()\n",
        "  plt.plot(epochs, loss, 'bo', label='Training loss')\n",
        "  plt.plot(epochs, val_loss, 'b', label='Validation loss')\n",
        "  plt.title('Training and validation loss')\n",
        "  plt.legend()\n",
        "  plt.show()"
      ],
      "metadata": {
        "id": "V3HZLcOas4Fi"
      },
      "execution_count": 50,
      "outputs": []
    },
    {
      "cell_type": "markdown",
      "source": [
        "## Visualization Functions"
      ],
      "metadata": {
        "id": "xMjOyuxHfM8h"
      }
    },
    {
      "cell_type": "code",
      "source": [
        "def vis_confusion_matrix(cm):\n",
        "\n",
        "\n",
        "  ax = sns.heatmap(cm, annot=True, \n",
        "            fmt='', cmap='Blues')\n",
        "  \n",
        "  # group_counts = [\"{0:0.0f}\".format(value) for value in\n",
        "  #                 confusion_matrix.flatten()]\n",
        "\n",
        "  # labels = [f\"{v1}\\n\" for v1 in zip(group_counts)]\n",
        "\n",
        "  # labels = np.asarray(labels).reshape(2,2)\n",
        "  \n",
        "  ax.set_title('CNN Confusion Matrix \\n\\n');\n",
        "  ax.set_xlabel('\\nPredicted Values')\n",
        "  ax.set_ylabel('Actual Values ');\n",
        "\n",
        "  ## Ticket labels - List must be in alphabetical order\n",
        "  ax.xaxis.set_ticklabels(['NI','AC'])\n",
        "  ax.yaxis.set_ticklabels(['NI','AC'])\n",
        "\n",
        "  ## Display the visualization of the Confusion Matrix.\n",
        "  plt.show()\n"
      ],
      "metadata": {
        "id": "tfAIQZ93fVMh"
      },
      "execution_count": 51,
      "outputs": []
    },
    {
      "cell_type": "markdown",
      "source": [
        "# Test | All Subjects"
      ],
      "metadata": {
        "id": "kVR1zGqyhsrM"
      }
    },
    {
      "cell_type": "code",
      "source": [
        "cnn_models = []\n",
        "lda_models = []"
      ],
      "metadata": {
        "id": "omtOEMfJ0vXa"
      },
      "execution_count": 52,
      "outputs": []
    },
    {
      "cell_type": "markdown",
      "source": [
        "## Test: LDA & CNN | Subject 1"
      ],
      "metadata": {
        "id": "d73siMkJdEba"
      }
    },
    {
      "cell_type": "code",
      "source": [
        "subject = 0\n",
        "\n",
        "train_X, test_X, train_y, test_y = get_train_test(active[subject], passive[subject], cue[subject])"
      ],
      "metadata": {
        "colab": {
          "base_uri": "https://localhost:8080/"
        },
        "id": "R-e4NH7rCeX9",
        "outputId": "6055223e-9d96-4a82-e838-c2a7c106cdd9"
      },
      "execution_count": 259,
      "outputs": [
        {
          "output_type": "stream",
          "name": "stdout",
          "text": [
            "Filtering raw data in 1 contiguous segment\n",
            "Setting up high-pass filter at 1 Hz\n",
            "\n",
            "FIR filter parameters\n",
            "---------------------\n",
            "Designing a one-pass, zero-phase, non-causal highpass filter:\n",
            "- Windowed time-domain design (firwin) method\n",
            "- Hamming window with 0.0194 passband ripple and 53 dB stopband attenuation\n",
            "- Lower passband edge: 1.00\n",
            "- Lower transition bandwidth: 1.00 Hz (-6 dB cutoff frequency: 0.50 Hz)\n",
            "- Filter length: 331 samples (3.310 sec)\n",
            "\n",
            "Fitting ICA to data using 10 channels (please be patient, this may take a while)\n",
            "Selecting by number: 10 components\n",
            "Fitting ICA took 1.0s.\n",
            "Filtering raw data in 1 contiguous segment\n",
            "Setting up high-pass filter at 1 Hz\n",
            "\n",
            "FIR filter parameters\n",
            "---------------------\n",
            "Designing a one-pass, zero-phase, non-causal highpass filter:\n",
            "- Windowed time-domain design (firwin) method\n",
            "- Hamming window with 0.0194 passband ripple and 53 dB stopband attenuation\n",
            "- Lower passband edge: 1.00\n",
            "- Lower transition bandwidth: 1.00 Hz (-6 dB cutoff frequency: 0.50 Hz)\n",
            "- Filter length: 331 samples (3.310 sec)\n",
            "\n",
            "Fitting ICA to data using 10 channels (please be patient, this may take a while)\n",
            "Selecting by number: 10 components\n",
            "Fitting ICA took 0.6s.\n",
            "Filtering raw data in 1 contiguous segment\n",
            "Setting up high-pass filter at 1 Hz\n",
            "\n",
            "FIR filter parameters\n",
            "---------------------\n",
            "Designing a one-pass, zero-phase, non-causal highpass filter:\n",
            "- Windowed time-domain design (firwin) method\n",
            "- Hamming window with 0.0194 passband ripple and 53 dB stopband attenuation\n",
            "- Lower passband edge: 1.00\n",
            "- Lower transition bandwidth: 1.00 Hz (-6 dB cutoff frequency: 0.50 Hz)\n",
            "- Filter length: 331 samples (3.310 sec)\n",
            "\n",
            "Fitting ICA to data using 10 channels (please be patient, this may take a while)\n",
            "Selecting by number: 10 components\n",
            "Fitting ICA took 0.3s.\n"
          ]
        }
      ]
    },
    {
      "cell_type": "markdown",
      "source": [
        "LDA"
      ],
      "metadata": {
        "id": "iwAAHP0VdRgo"
      }
    },
    {
      "cell_type": "code",
      "source": [
        "clf_lda, cm_lda = lda_101(tune_tX, tune_tsX, train_y, test_y) \n",
        "lda_models.append(clf_lda)"
      ],
      "metadata": {
        "colab": {
          "base_uri": "https://localhost:8080/"
        },
        "id": "Uo5TIhBJdQ-3",
        "outputId": "7cd95d2f-9854-46fb-d486-dd6f0ed7f3b8"
      },
      "execution_count": 261,
      "outputs": [
        {
          "output_type": "stream",
          "name": "stdout",
          "text": [
            "[[ 64  36]\n",
            " [ 75 105]]\n",
            "Accuracy0.6035714285714285\n"
          ]
        }
      ]
    },
    {
      "cell_type": "code",
      "source": [
        "vis_confusion_matrix(cm_lda)"
      ],
      "metadata": {
        "colab": {
          "base_uri": "https://localhost:8080/",
          "height": 337
        },
        "id": "1wSirxZHfFri",
        "outputId": "160572a8-d649-47e2-8a55-8359e629b7f3"
      },
      "execution_count": 262,
      "outputs": [
        {
          "output_type": "display_data",
          "data": {
            "text/plain": [
              "<Figure size 432x288 with 2 Axes>"
            ],
            "image/png": "[encoded data removed]"
          },
          "metadata": {
            "needs_background": "light"
          }
        }
      ]
    },
    {
      "cell_type": "markdown",
      "source": [
        "CNN"
      ],
      "metadata": {
        "id": "MNuikQ8RdSX6"
      }
    },
    {
      "cell_type": "code",
      "source": [
        "cnn_model, cnn_train, test_eval, cm_cnn = cnn_101(tune_tX, \n",
        "                                                  tune_tsX, \n",
        "                                                  train_y, \n",
        "                                                  test_y,\n",
        "                                                  batch_size = 16,\n",
        "                                                  epochs = 50)\n",
        "\n",
        "cnn_models.append(cnn_model)"
      ],
      "metadata": {
        "colab": {
          "base_uri": "https://localhost:8080/",
          "height": 1000
        },
        "id": "8ANiLocaCXAM",
        "outputId": "65e13c60-fcb1-4dc9-c361-20ef9a31e775"
      },
      "execution_count": 273,
      "outputs": [
        {
          "output_type": "stream",
          "name": "stdout",
          "text": [
            "Epoch 1/50\n"
          ]
        },
        {
          "output_type": "stream",
          "name": "stderr",
          "text": [
            "/usr/local/lib/python3.7/dist-packages/keras/optimizer_v2/gradient_descent.py:102: UserWarning: The `lr` argument is deprecated, use `learning_rate` instead.\n",
            "  super(SGD, self).__init__(name, **kwargs)\n"
          ]
        },
        {
          "output_type": "stream",
          "name": "stdout",
          "text": [
            "27/27 [==============================] - ETA: 0s - loss: 1.9412 - accuracy: 0.5486\n",
            "Epoch 1: val_loss improved from inf to 0.69862, saving model to /tmp/checkpoint.h5\n",
            "27/27 [==============================] - 29s 1s/step - loss: 1.9412 - accuracy: 0.5486 - val_loss: 0.6986 - val_accuracy: 0.3333\n",
            "Epoch 2/50\n",
            "27/27 [==============================] - ETA: 0s - loss: 0.6867 - accuracy: 0.5440\n",
            "Epoch 2: val_loss improved from 0.69862 to 0.68087, saving model to /tmp/checkpoint.h5\n",
            "27/27 [==============================] - 28s 1s/step - loss: 0.6867 - accuracy: 0.5440 - val_loss: 0.6809 - val_accuracy: 0.6667\n",
            "Epoch 3/50\n",
            "27/27 [==============================] - ETA: 0s - loss: 0.6799 - accuracy: 0.6042\n",
            "Epoch 3: val_loss improved from 0.68087 to 0.67245, saving model to /tmp/checkpoint.h5\n",
            "27/27 [==============================] - 28s 1s/step - loss: 0.6799 - accuracy: 0.6042 - val_loss: 0.6724 - val_accuracy: 0.6667\n",
            "Epoch 4/50\n",
            "27/27 [==============================] - ETA: 0s - loss: 0.6543 - accuracy: 0.6620\n",
            "Epoch 4: val_loss did not improve from 0.67245\n",
            "27/27 [==============================] - 28s 1s/step - loss: 0.6543 - accuracy: 0.6620 - val_loss: 0.6994 - val_accuracy: 0.6667\n",
            "Epoch 5/50\n",
            "27/27 [==============================] - ETA: 0s - loss: 0.6273 - accuracy: 0.6597\n",
            "Epoch 5: val_loss did not improve from 0.67245\n",
            "27/27 [==============================] - 28s 1s/step - loss: 0.6273 - accuracy: 0.6597 - val_loss: 0.7122 - val_accuracy: 0.6667\n",
            "Epoch 6/50\n",
            "27/27 [==============================] - ETA: 0s - loss: 0.6029 - accuracy: 0.6690\n",
            "Epoch 6: val_loss improved from 0.67245 to 0.64554, saving model to /tmp/checkpoint.h5\n",
            "27/27 [==============================] - 28s 1s/step - loss: 0.6029 - accuracy: 0.6690 - val_loss: 0.6455 - val_accuracy: 0.6667\n",
            "Epoch 7/50\n",
            "27/27 [==============================] - ETA: 0s - loss: 0.5940 - accuracy: 0.6829\n",
            "Epoch 7: val_loss did not improve from 0.64554\n",
            "27/27 [==============================] - 28s 1s/step - loss: 0.5940 - accuracy: 0.6829 - val_loss: 0.6773 - val_accuracy: 0.5556\n",
            "Epoch 8/50\n",
            "27/27 [==============================] - ETA: 0s - loss: 0.5848 - accuracy: 0.6944\n",
            "Epoch 8: val_loss improved from 0.64554 to 0.62520, saving model to /tmp/checkpoint.h5\n",
            "27/27 [==============================] - 28s 1s/step - loss: 0.5848 - accuracy: 0.6944 - val_loss: 0.6252 - val_accuracy: 0.6667\n",
            "Epoch 9/50\n",
            "27/27 [==============================] - ETA: 0s - loss: 0.5507 - accuracy: 0.7338\n",
            "Epoch 9: val_loss did not improve from 0.62520\n",
            "27/27 [==============================] - 28s 1s/step - loss: 0.5507 - accuracy: 0.7338 - val_loss: 0.7738 - val_accuracy: 0.3333\n",
            "Epoch 10/50\n",
            "27/27 [==============================] - ETA: 0s - loss: 0.5554 - accuracy: 0.7199\n",
            "Epoch 10: val_loss did not improve from 0.62520\n",
            "27/27 [==============================] - 28s 1s/step - loss: 0.5554 - accuracy: 0.7199 - val_loss: 0.8905 - val_accuracy: 0.3333\n",
            "Epoch 11/50\n",
            "27/27 [==============================] - ETA: 0s - loss: 0.5368 - accuracy: 0.7361\n",
            "Epoch 11: val_loss did not improve from 0.62520\n",
            "27/27 [==============================] - 28s 1s/step - loss: 0.5368 - accuracy: 0.7361 - val_loss: 0.6604 - val_accuracy: 0.6667\n",
            "Epoch 12/50\n",
            "27/27 [==============================] - ETA: 0s - loss: 0.5320 - accuracy: 0.7454\n",
            "Epoch 12: val_loss did not improve from 0.62520\n",
            "27/27 [==============================] - 27s 1s/step - loss: 0.5320 - accuracy: 0.7454 - val_loss: 0.8499 - val_accuracy: 0.3519\n",
            "Epoch 13/50\n",
            "27/27 [==============================] - ETA: 0s - loss: 0.5179 - accuracy: 0.7477\n",
            "Epoch 13: val_loss did not improve from 0.62520\n",
            "27/27 [==============================] - 27s 1s/step - loss: 0.5179 - accuracy: 0.7477 - val_loss: 0.6590 - val_accuracy: 0.6481\n",
            "Epoch 14/50\n",
            "27/27 [==============================] - ETA: 0s - loss: 0.5088 - accuracy: 0.7569\n",
            "Epoch 14: val_loss improved from 0.62520 to 0.61750, saving model to /tmp/checkpoint.h5\n",
            "27/27 [==============================] - 28s 1s/step - loss: 0.5088 - accuracy: 0.7569 - val_loss: 0.6175 - val_accuracy: 0.7222\n",
            "Epoch 15/50\n",
            "27/27 [==============================] - ETA: 0s - loss: 0.4634 - accuracy: 0.7963\n",
            "Epoch 15: val_loss improved from 0.61750 to 0.61386, saving model to /tmp/checkpoint.h5\n",
            "27/27 [==============================] - 27s 1s/step - loss: 0.4634 - accuracy: 0.7963 - val_loss: 0.6139 - val_accuracy: 0.7315\n",
            "Epoch 16/50\n",
            "27/27 [==============================] - ETA: 0s - loss: 0.4940 - accuracy: 0.7569\n",
            "Epoch 16: val_loss did not improve from 0.61386\n",
            "27/27 [==============================] - 27s 1s/step - loss: 0.4940 - accuracy: 0.7569 - val_loss: 0.7080 - val_accuracy: 0.4630\n",
            "Epoch 17/50\n",
            "27/27 [==============================] - ETA: 0s - loss: 0.4260 - accuracy: 0.7917\n",
            "Epoch 17: val_loss improved from 0.61386 to 0.61368, saving model to /tmp/checkpoint.h5\n",
            "27/27 [==============================] - 27s 1s/step - loss: 0.4260 - accuracy: 0.7917 - val_loss: 0.6137 - val_accuracy: 0.6111\n",
            "Epoch 18/50\n",
            "27/27 [==============================] - ETA: 0s - loss: 0.4274 - accuracy: 0.8125\n",
            "Epoch 18: val_loss did not improve from 0.61368\n",
            "27/27 [==============================] - 28s 1s/step - loss: 0.4274 - accuracy: 0.8125 - val_loss: 0.6498 - val_accuracy: 0.6204\n",
            "Epoch 19/50\n",
            "27/27 [==============================] - ETA: 0s - loss: 0.3937 - accuracy: 0.8287\n",
            "Epoch 19: val_loss did not improve from 0.61368\n",
            "27/27 [==============================] - 27s 1s/step - loss: 0.3937 - accuracy: 0.8287 - val_loss: 0.8043 - val_accuracy: 0.4722\n",
            "Epoch 20/50\n",
            "27/27 [==============================] - ETA: 0s - loss: 0.3785 - accuracy: 0.8634\n",
            "Epoch 20: val_loss improved from 0.61368 to 0.60971, saving model to /tmp/checkpoint.h5\n",
            "27/27 [==============================] - 28s 1s/step - loss: 0.3785 - accuracy: 0.8634 - val_loss: 0.6097 - val_accuracy: 0.6852\n",
            "Epoch 21/50\n",
            "27/27 [==============================] - ETA: 0s - loss: 0.3594 - accuracy: 0.8287\n",
            "Epoch 21: val_loss improved from 0.60971 to 0.56182, saving model to /tmp/checkpoint.h5\n",
            "27/27 [==============================] - 28s 1s/step - loss: 0.3594 - accuracy: 0.8287 - val_loss: 0.5618 - val_accuracy: 0.6852\n",
            "Epoch 22/50\n",
            "27/27 [==============================] - ETA: 0s - loss: 0.3278 - accuracy: 0.8704\n",
            "Epoch 22: val_loss did not improve from 0.56182\n",
            "27/27 [==============================] - 27s 1s/step - loss: 0.3278 - accuracy: 0.8704 - val_loss: 0.6717 - val_accuracy: 0.6667\n",
            "Epoch 23/50\n",
            "27/27 [==============================] - ETA: 0s - loss: 0.2805 - accuracy: 0.8819\n",
            "Epoch 23: val_loss did not improve from 0.56182\n",
            "27/27 [==============================] - 28s 1s/step - loss: 0.2805 - accuracy: 0.8819 - val_loss: 0.9740 - val_accuracy: 0.5093\n",
            "Epoch 24/50\n",
            "27/27 [==============================] - ETA: 0s - loss: 0.2840 - accuracy: 0.8981\n",
            "Epoch 24: val_loss did not improve from 0.56182\n",
            "27/27 [==============================] - 28s 1s/step - loss: 0.2840 - accuracy: 0.8981 - val_loss: 0.6738 - val_accuracy: 0.6852\n",
            "Epoch 25/50\n",
            "27/27 [==============================] - ETA: 0s - loss: 0.3045 - accuracy: 0.8773\n",
            "Epoch 25: val_loss did not improve from 0.56182\n",
            "27/27 [==============================] - 27s 1s/step - loss: 0.3045 - accuracy: 0.8773 - val_loss: 0.9275 - val_accuracy: 0.6204\n",
            "Epoch 26/50\n",
            "27/27 [==============================] - ETA: 0s - loss: 0.2560 - accuracy: 0.8981\n",
            "Epoch 26: val_loss did not improve from 0.56182\n",
            "27/27 [==============================] - 28s 1s/step - loss: 0.2560 - accuracy: 0.8981 - val_loss: 1.1736 - val_accuracy: 0.5741\n",
            "Epoch 27/50\n",
            "27/27 [==============================] - ETA: 0s - loss: 0.2322 - accuracy: 0.9074\n",
            "Epoch 27: val_loss did not improve from 0.56182\n",
            "27/27 [==============================] - 27s 1s/step - loss: 0.2322 - accuracy: 0.9074 - val_loss: 0.8228 - val_accuracy: 0.6667\n",
            "Epoch 28/50\n",
            "27/27 [==============================] - ETA: 0s - loss: 0.1525 - accuracy: 0.9630\n",
            "Epoch 28: val_loss did not improve from 0.56182\n",
            "27/27 [==============================] - 28s 1s/step - loss: 0.1525 - accuracy: 0.9630 - val_loss: 1.0217 - val_accuracy: 0.6389\n",
            "Epoch 29/50\n",
            "27/27 [==============================] - ETA: 0s - loss: 0.1678 - accuracy: 0.9491\n",
            "Epoch 29: val_loss did not improve from 0.56182\n",
            "27/27 [==============================] - 28s 1s/step - loss: 0.1678 - accuracy: 0.9491 - val_loss: 0.9809 - val_accuracy: 0.6481\n",
            "Epoch 30/50\n",
            "27/27 [==============================] - ETA: 0s - loss: 0.1805 - accuracy: 0.9329\n",
            "Epoch 30: val_loss did not improve from 0.56182\n",
            "27/27 [==============================] - 27s 1s/step - loss: 0.1805 - accuracy: 0.9329 - val_loss: 1.0810 - val_accuracy: 0.6759\n",
            "Epoch 31/50\n",
            "27/27 [==============================] - ETA: 0s - loss: 0.1621 - accuracy: 0.9444\n",
            "Epoch 31: val_loss did not improve from 0.56182\n",
            "27/27 [==============================] - 28s 1s/step - loss: 0.1621 - accuracy: 0.9444 - val_loss: 1.2629 - val_accuracy: 0.6296\n",
            "Epoch 32/50\n",
            "27/27 [==============================] - ETA: 0s - loss: 0.1052 - accuracy: 0.9676\n",
            "Epoch 32: val_loss did not improve from 0.56182\n",
            "27/27 [==============================] - 28s 1s/step - loss: 0.1052 - accuracy: 0.9676 - val_loss: 1.0899 - val_accuracy: 0.6852\n",
            "Epoch 33/50\n",
            "27/27 [==============================] - ETA: 0s - loss: 0.0957 - accuracy: 0.9630\n",
            "Epoch 33: val_loss did not improve from 0.56182\n",
            "27/27 [==============================] - 27s 1s/step - loss: 0.0957 - accuracy: 0.9630 - val_loss: 1.4402 - val_accuracy: 0.6204\n",
            "Epoch 34/50\n",
            "25/27 [==========================>...] - ETA: 1s - loss: 0.0808 - accuracy: 0.9750"
          ]
        },
        {
          "output_type": "error",
          "ename": "KeyboardInterrupt",
          "evalue": "ignored",
          "traceback": [
            "\u001b[0;31m---------------------------------------------------------------------------\u001b[0m",
            "\u001b[0;31mKeyboardInterrupt\u001b[0m                         Traceback (most recent call last)",
            "\u001b[0;32m<ipython-input-273-bd9721da3f44>\u001b[0m in \u001b[0;36m<module>\u001b[0;34m()\u001b[0m\n\u001b[1;32m      4\u001b[0m                                                   \u001b[0mtest_y\u001b[0m\u001b[0;34m,\u001b[0m\u001b[0;34m\u001b[0m\u001b[0;34m\u001b[0m\u001b[0m\n\u001b[1;32m      5\u001b[0m                                                   \u001b[0mbatch_size\u001b[0m \u001b[0;34m=\u001b[0m \u001b[0;36m16\u001b[0m\u001b[0;34m,\u001b[0m\u001b[0;34m\u001b[0m\u001b[0;34m\u001b[0m\u001b[0m\n\u001b[0;32m----> 6\u001b[0;31m                                                   epochs = 50)\n\u001b[0m\u001b[1;32m      7\u001b[0m \u001b[0;34m\u001b[0m\u001b[0m\n\u001b[1;32m      8\u001b[0m \u001b[0mcnn_models\u001b[0m\u001b[0;34m.\u001b[0m\u001b[0mappend\u001b[0m\u001b[0;34m(\u001b[0m\u001b[0mcnn_model\u001b[0m\u001b[0;34m)\u001b[0m\u001b[0;34m\u001b[0m\u001b[0;34m\u001b[0m\u001b[0m\n",
            "\u001b[0;32m<ipython-input-272-26160e0a7e9f>\u001b[0m in \u001b[0;36mcnn_101\u001b[0;34m(train_X, test_X, train_y, test_y, batch_size, epochs)\u001b[0m\n\u001b[1;32m     59\u001b[0m                           \u001b[0mvalidation_data\u001b[0m\u001b[0;34m=\u001b[0m\u001b[0;34m(\u001b[0m\u001b[0mvalid_X\u001b[0m\u001b[0;34m,\u001b[0m \u001b[0mvalid_label_categorical\u001b[0m\u001b[0;34m)\u001b[0m\u001b[0;34m,\u001b[0m\u001b[0;34m\u001b[0m\u001b[0;34m\u001b[0m\u001b[0m\n\u001b[1;32m     60\u001b[0m                           \u001b[0mcallbacks\u001b[0m\u001b[0;34m=\u001b[0m\u001b[0;34m[\u001b[0m\u001b[0mcheckpointer\u001b[0m\u001b[0;34m]\u001b[0m\u001b[0;34m,\u001b[0m\u001b[0;34m\u001b[0m\u001b[0;34m\u001b[0m\u001b[0m\n\u001b[0;32m---> 61\u001b[0;31m                           \u001b[0mclass_weight\u001b[0m \u001b[0;34m=\u001b[0m \u001b[0md_class_weights\u001b[0m\u001b[0;34m\u001b[0m\u001b[0;34m\u001b[0m\u001b[0m\n\u001b[0m\u001b[1;32m     62\u001b[0m                           )\n\u001b[1;32m     63\u001b[0m \u001b[0;34m\u001b[0m\u001b[0m\n",
            "\u001b[0;32m/usr/local/lib/python3.7/dist-packages/keras/utils/traceback_utils.py\u001b[0m in \u001b[0;36merror_handler\u001b[0;34m(*args, **kwargs)\u001b[0m\n\u001b[1;32m     62\u001b[0m     \u001b[0mfiltered_tb\u001b[0m \u001b[0;34m=\u001b[0m \u001b[0;32mNone\u001b[0m\u001b[0;34m\u001b[0m\u001b[0;34m\u001b[0m\u001b[0m\n\u001b[1;32m     63\u001b[0m     \u001b[0;32mtry\u001b[0m\u001b[0;34m:\u001b[0m\u001b[0;34m\u001b[0m\u001b[0;34m\u001b[0m\u001b[0m\n\u001b[0;32m---> 64\u001b[0;31m       \u001b[0;32mreturn\u001b[0m \u001b[0mfn\u001b[0m\u001b[0;34m(\u001b[0m\u001b[0;34m*\u001b[0m\u001b[0margs\u001b[0m\u001b[0;34m,\u001b[0m \u001b[0;34m**\u001b[0m\u001b[0mkwargs\u001b[0m\u001b[0;34m)\u001b[0m\u001b[0;34m\u001b[0m\u001b[0;34m\u001b[0m\u001b[0m\n\u001b[0m\u001b[1;32m     65\u001b[0m     \u001b[0;32mexcept\u001b[0m \u001b[0mException\u001b[0m \u001b[0;32mas\u001b[0m \u001b[0me\u001b[0m\u001b[0;34m:\u001b[0m  \u001b[0;31m# pylint: disable=broad-except\u001b[0m\u001b[0;34m\u001b[0m\u001b[0;34m\u001b[0m\u001b[0m\n\u001b[1;32m     66\u001b[0m       \u001b[0mfiltered_tb\u001b[0m \u001b[0;34m=\u001b[0m \u001b[0m_process_traceback_frames\u001b[0m\u001b[0;34m(\u001b[0m\u001b[0me\u001b[0m\u001b[0;34m.\u001b[0m\u001b[0m__traceback__\u001b[0m\u001b[0;34m)\u001b[0m\u001b[0;34m\u001b[0m\u001b[0;34m\u001b[0m\u001b[0m\n",
            "\u001b[0;32m/usr/local/lib/python3.7/dist-packages/keras/engine/training.py\u001b[0m in \u001b[0;36mfit\u001b[0;34m(self, x, y, batch_size, epochs, verbose, callbacks, validation_split, validation_data, shuffle, class_weight, sample_weight, initial_epoch, steps_per_epoch, validation_steps, validation_batch_size, validation_freq, max_queue_size, workers, use_multiprocessing)\u001b[0m\n\u001b[1;32m   1382\u001b[0m                 _r=1):\n\u001b[1;32m   1383\u001b[0m               \u001b[0mcallbacks\u001b[0m\u001b[0;34m.\u001b[0m\u001b[0mon_train_batch_begin\u001b[0m\u001b[0;34m(\u001b[0m\u001b[0mstep\u001b[0m\u001b[0;34m)\u001b[0m\u001b[0;34m\u001b[0m\u001b[0;34m\u001b[0m\u001b[0m\n\u001b[0;32m-> 1384\u001b[0;31m               \u001b[0mtmp_logs\u001b[0m \u001b[0;34m=\u001b[0m \u001b[0mself\u001b[0m\u001b[0;34m.\u001b[0m\u001b[0mtrain_function\u001b[0m\u001b[0;34m(\u001b[0m\u001b[0miterator\u001b[0m\u001b[0;34m)\u001b[0m\u001b[0;34m\u001b[0m\u001b[0;34m\u001b[0m\u001b[0m\n\u001b[0m\u001b[1;32m   1385\u001b[0m               \u001b[0;32mif\u001b[0m \u001b[0mdata_handler\u001b[0m\u001b[0;34m.\u001b[0m\u001b[0mshould_sync\u001b[0m\u001b[0;34m:\u001b[0m\u001b[0;34m\u001b[0m\u001b[0;34m\u001b[0m\u001b[0m\n\u001b[1;32m   1386\u001b[0m                 \u001b[0mcontext\u001b[0m\u001b[0;34m.\u001b[0m\u001b[0masync_wait\u001b[0m\u001b[0;34m(\u001b[0m\u001b[0;34m)\u001b[0m\u001b[0;34m\u001b[0m\u001b[0;34m\u001b[0m\u001b[0m\n",
            "\u001b[0;32m/usr/local/lib/python3.7/dist-packages/tensorflow/python/util/traceback_utils.py\u001b[0m in \u001b[0;36merror_handler\u001b[0;34m(*args, **kwargs)\u001b[0m\n\u001b[1;32m    148\u001b[0m     \u001b[0mfiltered_tb\u001b[0m \u001b[0;34m=\u001b[0m \u001b[0;32mNone\u001b[0m\u001b[0;34m\u001b[0m\u001b[0;34m\u001b[0m\u001b[0m\n\u001b[1;32m    149\u001b[0m     \u001b[0;32mtry\u001b[0m\u001b[0;34m:\u001b[0m\u001b[0;34m\u001b[0m\u001b[0;34m\u001b[0m\u001b[0m\n\u001b[0;32m--> 150\u001b[0;31m       \u001b[0;32mreturn\u001b[0m \u001b[0mfn\u001b[0m\u001b[0;34m(\u001b[0m\u001b[0;34m*\u001b[0m\u001b[0margs\u001b[0m\u001b[0;34m,\u001b[0m \u001b[0;34m**\u001b[0m\u001b[0mkwargs\u001b[0m\u001b[0;34m)\u001b[0m\u001b[0;34m\u001b[0m\u001b[0;34m\u001b[0m\u001b[0m\n\u001b[0m\u001b[1;32m    151\u001b[0m     \u001b[0;32mexcept\u001b[0m \u001b[0mException\u001b[0m \u001b[0;32mas\u001b[0m \u001b[0me\u001b[0m\u001b[0;34m:\u001b[0m\u001b[0;34m\u001b[0m\u001b[0;34m\u001b[0m\u001b[0m\n\u001b[1;32m    152\u001b[0m       \u001b[0mfiltered_tb\u001b[0m \u001b[0;34m=\u001b[0m \u001b[0m_process_traceback_frames\u001b[0m\u001b[0;34m(\u001b[0m\u001b[0me\u001b[0m\u001b[0;34m.\u001b[0m\u001b[0m__traceback__\u001b[0m\u001b[0;34m)\u001b[0m\u001b[0;34m\u001b[0m\u001b[0;34m\u001b[0m\u001b[0m\n",
            "\u001b[0;32m/usr/local/lib/python3.7/dist-packages/tensorflow/python/eager/def_function.py\u001b[0m in \u001b[0;36m__call__\u001b[0;34m(self, *args, **kwds)\u001b[0m\n\u001b[1;32m    913\u001b[0m \u001b[0;34m\u001b[0m\u001b[0m\n\u001b[1;32m    914\u001b[0m       \u001b[0;32mwith\u001b[0m \u001b[0mOptionalXlaContext\u001b[0m\u001b[0;34m(\u001b[0m\u001b[0mself\u001b[0m\u001b[0;34m.\u001b[0m\u001b[0m_jit_compile\u001b[0m\u001b[0;34m)\u001b[0m\u001b[0;34m:\u001b[0m\u001b[0;34m\u001b[0m\u001b[0;34m\u001b[0m\u001b[0m\n\u001b[0;32m--> 915\u001b[0;31m         \u001b[0mresult\u001b[0m \u001b[0;34m=\u001b[0m \u001b[0mself\u001b[0m\u001b[0;34m.\u001b[0m\u001b[0m_call\u001b[0m\u001b[0;34m(\u001b[0m\u001b[0;34m*\u001b[0m\u001b[0margs\u001b[0m\u001b[0;34m,\u001b[0m \u001b[0;34m**\u001b[0m\u001b[0mkwds\u001b[0m\u001b[0;34m)\u001b[0m\u001b[0;34m\u001b[0m\u001b[0;34m\u001b[0m\u001b[0m\n\u001b[0m\u001b[1;32m    916\u001b[0m \u001b[0;34m\u001b[0m\u001b[0m\n\u001b[1;32m    917\u001b[0m       \u001b[0mnew_tracing_count\u001b[0m \u001b[0;34m=\u001b[0m \u001b[0mself\u001b[0m\u001b[0;34m.\u001b[0m\u001b[0mexperimental_get_tracing_count\u001b[0m\u001b[0;34m(\u001b[0m\u001b[0;34m)\u001b[0m\u001b[0;34m\u001b[0m\u001b[0;34m\u001b[0m\u001b[0m\n",
            "\u001b[0;32m/usr/local/lib/python3.7/dist-packages/tensorflow/python/eager/def_function.py\u001b[0m in \u001b[0;36m_call\u001b[0;34m(self, *args, **kwds)\u001b[0m\n\u001b[1;32m    945\u001b[0m       \u001b[0;31m# In this case we have created variables on the first call, so we run the\u001b[0m\u001b[0;34m\u001b[0m\u001b[0;34m\u001b[0m\u001b[0;34m\u001b[0m\u001b[0m\n\u001b[1;32m    946\u001b[0m       \u001b[0;31m# defunned version which is guaranteed to never create variables.\u001b[0m\u001b[0;34m\u001b[0m\u001b[0;34m\u001b[0m\u001b[0;34m\u001b[0m\u001b[0m\n\u001b[0;32m--> 947\u001b[0;31m       \u001b[0;32mreturn\u001b[0m \u001b[0mself\u001b[0m\u001b[0;34m.\u001b[0m\u001b[0m_stateless_fn\u001b[0m\u001b[0;34m(\u001b[0m\u001b[0;34m*\u001b[0m\u001b[0margs\u001b[0m\u001b[0;34m,\u001b[0m \u001b[0;34m**\u001b[0m\u001b[0mkwds\u001b[0m\u001b[0;34m)\u001b[0m  \u001b[0;31m# pylint: disable=not-callable\u001b[0m\u001b[0;34m\u001b[0m\u001b[0;34m\u001b[0m\u001b[0m\n\u001b[0m\u001b[1;32m    948\u001b[0m     \u001b[0;32melif\u001b[0m \u001b[0mself\u001b[0m\u001b[0;34m.\u001b[0m\u001b[0m_stateful_fn\u001b[0m \u001b[0;32mis\u001b[0m \u001b[0;32mnot\u001b[0m \u001b[0;32mNone\u001b[0m\u001b[0;34m:\u001b[0m\u001b[0;34m\u001b[0m\u001b[0;34m\u001b[0m\u001b[0m\n\u001b[1;32m    949\u001b[0m       \u001b[0;31m# Release the lock early so that multiple threads can perform the call\u001b[0m\u001b[0;34m\u001b[0m\u001b[0;34m\u001b[0m\u001b[0;34m\u001b[0m\u001b[0m\n",
            "\u001b[0;32m/usr/local/lib/python3.7/dist-packages/tensorflow/python/eager/function.py\u001b[0m in \u001b[0;36m__call__\u001b[0;34m(self, *args, **kwargs)\u001b[0m\n\u001b[1;32m   2955\u001b[0m        filtered_flat_args) = self._maybe_define_function(args, kwargs)\n\u001b[1;32m   2956\u001b[0m     return graph_function._call_flat(\n\u001b[0;32m-> 2957\u001b[0;31m         filtered_flat_args, captured_inputs=graph_function.captured_inputs)  # pylint: disable=protected-access\n\u001b[0m\u001b[1;32m   2958\u001b[0m \u001b[0;34m\u001b[0m\u001b[0m\n\u001b[1;32m   2959\u001b[0m   \u001b[0;34m@\u001b[0m\u001b[0mproperty\u001b[0m\u001b[0;34m\u001b[0m\u001b[0;34m\u001b[0m\u001b[0m\n",
            "\u001b[0;32m/usr/local/lib/python3.7/dist-packages/tensorflow/python/eager/function.py\u001b[0m in \u001b[0;36m_call_flat\u001b[0;34m(self, args, captured_inputs, cancellation_manager)\u001b[0m\n\u001b[1;32m   1852\u001b[0m       \u001b[0;31m# No tape is watching; skip to running the function.\u001b[0m\u001b[0;34m\u001b[0m\u001b[0;34m\u001b[0m\u001b[0;34m\u001b[0m\u001b[0m\n\u001b[1;32m   1853\u001b[0m       return self._build_call_outputs(self._inference_function.call(\n\u001b[0;32m-> 1854\u001b[0;31m           ctx, args, cancellation_manager=cancellation_manager))\n\u001b[0m\u001b[1;32m   1855\u001b[0m     forward_backward = self._select_forward_and_backward_functions(\n\u001b[1;32m   1856\u001b[0m         \u001b[0margs\u001b[0m\u001b[0;34m,\u001b[0m\u001b[0;34m\u001b[0m\u001b[0;34m\u001b[0m\u001b[0m\n",
            "\u001b[0;32m/usr/local/lib/python3.7/dist-packages/tensorflow/python/eager/function.py\u001b[0m in \u001b[0;36mcall\u001b[0;34m(self, ctx, args, cancellation_manager)\u001b[0m\n\u001b[1;32m    502\u001b[0m               \u001b[0minputs\u001b[0m\u001b[0;34m=\u001b[0m\u001b[0margs\u001b[0m\u001b[0;34m,\u001b[0m\u001b[0;34m\u001b[0m\u001b[0;34m\u001b[0m\u001b[0m\n\u001b[1;32m    503\u001b[0m               \u001b[0mattrs\u001b[0m\u001b[0;34m=\u001b[0m\u001b[0mattrs\u001b[0m\u001b[0;34m,\u001b[0m\u001b[0;34m\u001b[0m\u001b[0;34m\u001b[0m\u001b[0m\n\u001b[0;32m--> 504\u001b[0;31m               ctx=ctx)\n\u001b[0m\u001b[1;32m    505\u001b[0m         \u001b[0;32melse\u001b[0m\u001b[0;34m:\u001b[0m\u001b[0;34m\u001b[0m\u001b[0;34m\u001b[0m\u001b[0m\n\u001b[1;32m    506\u001b[0m           outputs = execute.execute_with_cancellation(\n",
            "\u001b[0;32m/usr/local/lib/python3.7/dist-packages/tensorflow/python/eager/execute.py\u001b[0m in \u001b[0;36mquick_execute\u001b[0;34m(op_name, num_outputs, inputs, attrs, ctx, name)\u001b[0m\n\u001b[1;32m     53\u001b[0m     \u001b[0mctx\u001b[0m\u001b[0;34m.\u001b[0m\u001b[0mensure_initialized\u001b[0m\u001b[0;34m(\u001b[0m\u001b[0;34m)\u001b[0m\u001b[0;34m\u001b[0m\u001b[0;34m\u001b[0m\u001b[0m\n\u001b[1;32m     54\u001b[0m     tensors = pywrap_tfe.TFE_Py_Execute(ctx._handle, device_name, op_name,\n\u001b[0;32m---> 55\u001b[0;31m                                         inputs, attrs, num_outputs)\n\u001b[0m\u001b[1;32m     56\u001b[0m   \u001b[0;32mexcept\u001b[0m \u001b[0mcore\u001b[0m\u001b[0;34m.\u001b[0m\u001b[0m_NotOkStatusException\u001b[0m \u001b[0;32mas\u001b[0m \u001b[0me\u001b[0m\u001b[0;34m:\u001b[0m\u001b[0;34m\u001b[0m\u001b[0;34m\u001b[0m\u001b[0m\n\u001b[1;32m     57\u001b[0m     \u001b[0;32mif\u001b[0m \u001b[0mname\u001b[0m \u001b[0;32mis\u001b[0m \u001b[0;32mnot\u001b[0m \u001b[0;32mNone\u001b[0m\u001b[0;34m:\u001b[0m\u001b[0;34m\u001b[0m\u001b[0;34m\u001b[0m\u001b[0m\n",
            "\u001b[0;31mKeyboardInterrupt\u001b[0m: "
          ]
        }
      ]
    },
    {
      "cell_type": "code",
      "source": [
        "cnn_model.save(\"cnn_model_1.h5py\")"
      ],
      "metadata": {
        "colab": {
          "base_uri": "https://localhost:8080/"
        },
        "id": "Q6U0YX5QVGEk",
        "outputId": "bbd430cc-e171-4388-ba92-0393bc9beff8"
      },
      "execution_count": null,
      "outputs": [
        {
          "output_type": "stream",
          "name": "stdout",
          "text": [
            "INFO:tensorflow:Assets written to: cnn_model.h5py/assets\n"
          ]
        }
      ]
    },
    {
      "cell_type": "code",
      "source": [
        "vis_confusion_matrix(cm_cnn)\n",
        "\n",
        "vis_acc_loss(cnn_train)"
      ],
      "metadata": {
        "colab": {
          "base_uri": "https://localhost:8080/",
          "height": 865
        },
        "id": "ChcOPVsxa5MD",
        "outputId": "ad9bb3b0-5e1b-46c4-9da8-4060229f072a"
      },
      "execution_count": 249,
      "outputs": [
        {
          "output_type": "display_data",
          "data": {
            "text/plain": [
              "<Figure size 432x288 with 2 Axes>"
            ],
            "image/png": "[encoded data removed]"
          },
          "metadata": {
            "needs_background": "light"
          }
        },
        {
          "output_type": "display_data",
          "data": {
            "text/plain": [
              "<Figure size 432x288 with 1 Axes>"
            ],
            "image/png": "[encoded data removed]"
          },
          "metadata": {
            "needs_background": "light"
          }
        },
        {
          "output_type": "display_data",
          "data": {
            "text/plain": [
              "<Figure size 432x288 with 1 Axes>"
            ],
            "image/png": "[encoded data removed]"
          },
          "metadata": {
            "needs_background": "light"
          }
        }
      ]
    },
    {
      "cell_type": "code",
      "source": [
        "print('Test loss:', test_eval[0])\n",
        "print('Test accuracy:', test_eval[1])"
      ],
      "metadata": {
        "colab": {
          "base_uri": "https://localhost:8080/"
        },
        "id": "0zWTo6sKhzj-",
        "outputId": "47ea6f32-652c-454a-f90f-abeae1578ab7"
      },
      "execution_count": 250,
      "outputs": [
        {
          "output_type": "stream",
          "name": "stdout",
          "text": [
            "Test loss: 0.796666145324707\n",
            "Test accuracy: 0.7964285612106323\n"
          ]
        }
      ]
    },
    {
      "cell_type": "markdown",
      "source": [
        "## LDA & CNN | Subject 2"
      ],
      "metadata": {
        "id": "lP1mw6jBhl0O"
      }
    },
    {
      "cell_type": "code",
      "source": [
        "subject = 1\n",
        "\n",
        "train_X, test_X, train_y, test_y = get_train_test(active[subject], passive[subject], cue[subject])"
      ],
      "metadata": {
        "colab": {
          "base_uri": "https://localhost:8080/"
        },
        "id": "kdX2S40DkEa4",
        "outputId": "0e549fe3-761c-44c3-9e9e-9945ebb5f4a2"
      },
      "execution_count": 275,
      "outputs": [
        {
          "output_type": "stream",
          "name": "stdout",
          "text": [
            "Filtering raw data in 1 contiguous segment\n",
            "Setting up high-pass filter at 1 Hz\n",
            "\n",
            "FIR filter parameters\n",
            "---------------------\n",
            "Designing a one-pass, zero-phase, non-causal highpass filter:\n",
            "- Windowed time-domain design (firwin) method\n",
            "- Hamming window with 0.0194 passband ripple and 53 dB stopband attenuation\n",
            "- Lower passband edge: 1.00\n",
            "- Lower transition bandwidth: 1.00 Hz (-6 dB cutoff frequency: 0.50 Hz)\n",
            "- Filter length: 331 samples (3.310 sec)\n",
            "\n",
            "Fitting ICA to data using 10 channels (please be patient, this may take a while)\n",
            "Selecting by number: 10 components\n",
            "Fitting ICA took 1.0s.\n",
            "Filtering raw data in 1 contiguous segment\n",
            "Setting up high-pass filter at 1 Hz\n",
            "\n",
            "FIR filter parameters\n",
            "---------------------\n",
            "Designing a one-pass, zero-phase, non-causal highpass filter:\n",
            "- Windowed time-domain design (firwin) method\n",
            "- Hamming window with 0.0194 passband ripple and 53 dB stopband attenuation\n",
            "- Lower passband edge: 1.00\n",
            "- Lower transition bandwidth: 1.00 Hz (-6 dB cutoff frequency: 0.50 Hz)\n",
            "- Filter length: 331 samples (3.310 sec)\n",
            "\n",
            "Fitting ICA to data using 10 channels (please be patient, this may take a while)\n",
            "Selecting by number: 10 components\n",
            "Fitting ICA took 0.3s.\n",
            "Filtering raw data in 1 contiguous segment\n",
            "Setting up high-pass filter at 1 Hz\n",
            "\n",
            "FIR filter parameters\n",
            "---------------------\n",
            "Designing a one-pass, zero-phase, non-causal highpass filter:\n",
            "- Windowed time-domain design (firwin) method\n",
            "- Hamming window with 0.0194 passband ripple and 53 dB stopband attenuation\n",
            "- Lower passband edge: 1.00\n",
            "- Lower transition bandwidth: 1.00 Hz (-6 dB cutoff frequency: 0.50 Hz)\n",
            "- Filter length: 331 samples (3.310 sec)\n",
            "\n",
            "Fitting ICA to data using 10 channels (please be patient, this may take a while)\n",
            "Selecting by number: 10 components\n",
            "Fitting ICA took 0.1s.\n"
          ]
        }
      ]
    },
    {
      "cell_type": "code",
      "source": [
        "test_X.shape"
      ],
      "metadata": {
        "colab": {
          "base_uri": "https://localhost:8080/"
        },
        "id": "tRf4-m5plLC_",
        "outputId": "081cb3b9-728a-47ec-adb8-53ab67792d8e"
      },
      "execution_count": 54,
      "outputs": [
        {
          "output_type": "execute_result",
          "data": {
            "text/plain": [
              "(280, 10, 101)"
            ]
          },
          "metadata": {},
          "execution_count": 54
        }
      ]
    },
    {
      "cell_type": "code",
      "source": [
        "clf_lda, cm_lda = lda_101(train_X, test_X, train_y, test_y) \n",
        "lda_models.append(clf_lda)\n",
        "vis_confusion_matrix(cm_lda)"
      ],
      "metadata": {
        "colab": {
          "base_uri": "https://localhost:8080/",
          "height": 388
        },
        "id": "FvNkjnVAkFHo",
        "outputId": "3c3436cc-cbe5-4a95-9a4d-0ede0747a945"
      },
      "execution_count": 277,
      "outputs": [
        {
          "output_type": "stream",
          "name": "stdout",
          "text": [
            "[[47 53]\n",
            " [89 91]]\n",
            "Accuracy0.4928571428571429\n"
          ]
        },
        {
          "output_type": "display_data",
          "data": {
            "text/plain": [
              "<Figure size 432x288 with 2 Axes>"
            ],
            "image/png": "[encoded data removed]"
          },
          "metadata": {
            "needs_background": "light"
          }
        }
      ]
    },
    {
      "cell_type": "code",
      "source": [
        "clf_lda, cm_lda = lda_101(tune_tX, tune_tsX, train_y, test_y) \n",
        "lda_models.append(clf_lda)\n",
        "vis_confusion_matrix(cm_lda)"
      ],
      "metadata": {
        "colab": {
          "base_uri": "https://localhost:8080/",
          "height": 388
        },
        "id": "EJVBELIgVo_9",
        "outputId": "aa32ce5a-2281-41ec-fbf7-d07315387a2c"
      },
      "execution_count": 278,
      "outputs": [
        {
          "output_type": "stream",
          "name": "stdout",
          "text": [
            "[[47 53]\n",
            " [89 91]]\n",
            "Accuracy0.4928571428571429\n"
          ]
        },
        {
          "output_type": "display_data",
          "data": {
            "text/plain": [
              "<Figure size 432x288 with 2 Axes>"
            ],
            "image/png": "[encoded data removed]"
          },
          "metadata": {
            "needs_background": "light"
          }
        }
      ]
    },
    {
      "cell_type": "code",
      "source": [
        "cnn_model, cnn_train, test_eval, cm_cnn = cnn_101(train_X, \n",
        "                                                  test_X, \n",
        "                                                  train_y, \n",
        "                                                  test_y)\n",
        "\n",
        "cnn_models.append(cnn_model)"
      ],
      "metadata": {
        "colab": {
          "base_uri": "https://localhost:8080/"
        },
        "id": "rkw7394XkH68",
        "outputId": "bf91de09-fd79-4629-8ca7-13e2863170f8"
      },
      "execution_count": 279,
      "outputs": [
        {
          "output_type": "stream",
          "name": "stdout",
          "text": [
            "Epoch 1/100\n"
          ]
        },
        {
          "output_type": "stream",
          "name": "stderr",
          "text": [
            "/usr/local/lib/python3.7/dist-packages/keras/optimizer_v2/gradient_descent.py:102: UserWarning: The `lr` argument is deprecated, use `learning_rate` instead.\n",
            "  super(SGD, self).__init__(name, **kwargs)\n"
          ]
        },
        {
          "output_type": "stream",
          "name": "stdout",
          "text": [
            "14/14 [==============================] - ETA: 0s - loss: 2.0709 - accuracy: 0.5486\n",
            "Epoch 1: val_loss improved from inf to 0.69797, saving model to /tmp/checkpoint.h5\n",
            "14/14 [==============================] - 29s 2s/step - loss: 2.0709 - accuracy: 0.5486 - val_loss: 0.6980 - val_accuracy: 0.3333\n",
            "Epoch 2/100\n",
            "14/14 [==============================] - ETA: 0s - loss: 0.6859 - accuracy: 0.6481\n",
            "Epoch 2: val_loss did not improve from 0.69797\n",
            "14/14 [==============================] - 27s 2s/step - loss: 0.6859 - accuracy: 0.6481 - val_loss: 0.7275 - val_accuracy: 0.3333\n",
            "Epoch 3/100\n",
            "14/14 [==============================] - ETA: 0s - loss: 0.5839 - accuracy: 0.6944\n",
            "Epoch 3: val_loss did not improve from 0.69797\n",
            "14/14 [==============================] - 27s 2s/step - loss: 0.5839 - accuracy: 0.6944 - val_loss: 0.7192 - val_accuracy: 0.3333\n",
            "Epoch 4/100\n",
            "14/14 [==============================] - ETA: 0s - loss: 0.5189 - accuracy: 0.7500\n",
            "Epoch 4: val_loss did not improve from 0.69797\n",
            "14/14 [==============================] - 28s 2s/step - loss: 0.5189 - accuracy: 0.7500 - val_loss: 0.8132 - val_accuracy: 0.3333\n",
            "Epoch 5/100\n",
            "14/14 [==============================] - ETA: 0s - loss: 0.4461 - accuracy: 0.7778\n",
            "Epoch 5: val_loss did not improve from 0.69797\n",
            "14/14 [==============================] - 28s 2s/step - loss: 0.4461 - accuracy: 0.7778 - val_loss: 0.7556 - val_accuracy: 0.3333\n",
            "Epoch 6/100\n",
            "14/14 [==============================] - ETA: 0s - loss: 0.4278 - accuracy: 0.8056\n",
            "Epoch 6: val_loss did not improve from 0.69797\n",
            "14/14 [==============================] - 28s 2s/step - loss: 0.4278 - accuracy: 0.8056 - val_loss: 0.7378 - val_accuracy: 0.3333\n",
            "Epoch 7/100\n",
            "14/14 [==============================] - ETA: 0s - loss: 0.3716 - accuracy: 0.8611\n",
            "Epoch 7: val_loss did not improve from 0.69797\n",
            "14/14 [==============================] - 28s 2s/step - loss: 0.3716 - accuracy: 0.8611 - val_loss: 0.8880 - val_accuracy: 0.3333\n",
            "Epoch 8/100\n",
            "14/14 [==============================] - ETA: 0s - loss: 0.3108 - accuracy: 0.8796\n",
            "Epoch 8: val_loss did not improve from 0.69797\n",
            "14/14 [==============================] - 28s 2s/step - loss: 0.3108 - accuracy: 0.8796 - val_loss: 0.7733 - val_accuracy: 0.3333\n",
            "Epoch 9/100\n",
            "14/14 [==============================] - ETA: 0s - loss: 0.2411 - accuracy: 0.9097\n",
            "Epoch 9: val_loss did not improve from 0.69797\n",
            "14/14 [==============================] - 28s 2s/step - loss: 0.2411 - accuracy: 0.9097 - val_loss: 0.8984 - val_accuracy: 0.3333\n",
            "Epoch 10/100\n",
            "14/14 [==============================] - ETA: 0s - loss: 0.2312 - accuracy: 0.8958\n",
            "Epoch 10: val_loss did not improve from 0.69797\n",
            "14/14 [==============================] - 28s 2s/step - loss: 0.2312 - accuracy: 0.8958 - val_loss: 0.8682 - val_accuracy: 0.3333\n",
            "Epoch 11/100\n",
            "14/14 [==============================] - ETA: 0s - loss: 0.1489 - accuracy: 0.9653\n",
            "Epoch 11: val_loss did not improve from 0.69797\n",
            "14/14 [==============================] - 28s 2s/step - loss: 0.1489 - accuracy: 0.9653 - val_loss: 0.8199 - val_accuracy: 0.3333\n",
            "Epoch 12/100\n",
            "14/14 [==============================] - ETA: 0s - loss: 0.1278 - accuracy: 0.9491\n",
            "Epoch 12: val_loss did not improve from 0.69797\n",
            "14/14 [==============================] - 28s 2s/step - loss: 0.1278 - accuracy: 0.9491 - val_loss: 0.8825 - val_accuracy: 0.3333\n",
            "Epoch 13/100\n",
            "14/14 [==============================] - ETA: 0s - loss: 0.0859 - accuracy: 0.9931\n",
            "Epoch 13: val_loss did not improve from 0.69797\n",
            "14/14 [==============================] - 27s 2s/step - loss: 0.0859 - accuracy: 0.9931 - val_loss: 1.5169 - val_accuracy: 0.3333\n",
            "Epoch 14/100\n",
            "14/14 [==============================] - ETA: 0s - loss: 0.0874 - accuracy: 0.9861\n",
            "Epoch 14: val_loss did not improve from 0.69797\n",
            "14/14 [==============================] - 28s 2s/step - loss: 0.0874 - accuracy: 0.9861 - val_loss: 1.0028 - val_accuracy: 0.3333\n",
            "Epoch 15/100\n",
            "14/14 [==============================] - ETA: 0s - loss: 0.0650 - accuracy: 0.9954\n",
            "Epoch 15: val_loss did not improve from 0.69797\n",
            "14/14 [==============================] - 28s 2s/step - loss: 0.0650 - accuracy: 0.9954 - val_loss: 0.8092 - val_accuracy: 0.3333\n",
            "Epoch 16/100\n",
            "14/14 [==============================] - ETA: 0s - loss: 0.0447 - accuracy: 0.9977\n",
            "Epoch 16: val_loss did not improve from 0.69797\n",
            "14/14 [==============================] - 28s 2s/step - loss: 0.0447 - accuracy: 0.9977 - val_loss: 0.8970 - val_accuracy: 0.3333\n",
            "Epoch 17/100\n",
            "14/14 [==============================] - ETA: 0s - loss: 0.0424 - accuracy: 0.9977\n",
            "Epoch 17: val_loss did not improve from 0.69797\n",
            "14/14 [==============================] - 28s 2s/step - loss: 0.0424 - accuracy: 0.9977 - val_loss: 0.8221 - val_accuracy: 0.3333\n",
            "Epoch 18/100\n",
            "14/14 [==============================] - ETA: 0s - loss: 0.0288 - accuracy: 1.0000\n",
            "Epoch 18: val_loss did not improve from 0.69797\n",
            "14/14 [==============================] - 28s 2s/step - loss: 0.0288 - accuracy: 1.0000 - val_loss: 0.9304 - val_accuracy: 0.3333\n",
            "Epoch 19/100\n",
            "14/14 [==============================] - ETA: 0s - loss: 0.0319 - accuracy: 0.9977\n",
            "Epoch 19: val_loss did not improve from 0.69797\n",
            "14/14 [==============================] - 27s 2s/step - loss: 0.0319 - accuracy: 0.9977 - val_loss: 0.7083 - val_accuracy: 0.4259\n",
            "Epoch 20/100\n",
            "14/14 [==============================] - ETA: 0s - loss: 0.0292 - accuracy: 0.9977\n",
            "Epoch 20: val_loss improved from 0.69797 to 0.64084, saving model to /tmp/checkpoint.h5\n",
            "14/14 [==============================] - 28s 2s/step - loss: 0.0292 - accuracy: 0.9977 - val_loss: 0.6408 - val_accuracy: 0.6574\n",
            "Epoch 21/100\n",
            "14/14 [==============================] - ETA: 0s - loss: 0.0213 - accuracy: 0.9977\n",
            "Epoch 21: val_loss did not improve from 0.64084\n",
            "14/14 [==============================] - 27s 2s/step - loss: 0.0213 - accuracy: 0.9977 - val_loss: 0.6437 - val_accuracy: 0.6574\n",
            "Epoch 22/100\n",
            "14/14 [==============================] - ETA: 0s - loss: 0.0184 - accuracy: 1.0000\n",
            "Epoch 22: val_loss did not improve from 0.64084\n",
            "14/14 [==============================] - 28s 2s/step - loss: 0.0184 - accuracy: 1.0000 - val_loss: 0.6439 - val_accuracy: 0.6667\n",
            "Epoch 23/100\n",
            "14/14 [==============================] - ETA: 0s - loss: 0.0166 - accuracy: 1.0000\n",
            "Epoch 23: val_loss did not improve from 0.64084\n",
            "14/14 [==============================] - 28s 2s/step - loss: 0.0166 - accuracy: 1.0000 - val_loss: 0.6772 - val_accuracy: 0.6574\n",
            "Epoch 24/100\n",
            "14/14 [==============================] - ETA: 0s - loss: 0.0135 - accuracy: 1.0000\n",
            "Epoch 24: val_loss did not improve from 0.64084\n",
            "14/14 [==============================] - 27s 2s/step - loss: 0.0135 - accuracy: 1.0000 - val_loss: 0.7377 - val_accuracy: 0.6574\n",
            "Epoch 25/100\n",
            "14/14 [==============================] - ETA: 0s - loss: 0.0120 - accuracy: 0.9977\n",
            "Epoch 25: val_loss did not improve from 0.64084\n",
            "14/14 [==============================] - 27s 2s/step - loss: 0.0120 - accuracy: 0.9977 - val_loss: 0.8659 - val_accuracy: 0.6574\n",
            "Epoch 26/100\n",
            "14/14 [==============================] - ETA: 0s - loss: 0.0111 - accuracy: 1.0000\n",
            "Epoch 26: val_loss did not improve from 0.64084\n",
            "14/14 [==============================] - 27s 2s/step - loss: 0.0111 - accuracy: 1.0000 - val_loss: 0.7846 - val_accuracy: 0.6574\n",
            "Epoch 27/100\n",
            "14/14 [==============================] - ETA: 0s - loss: 0.0106 - accuracy: 1.0000\n",
            "Epoch 27: val_loss did not improve from 0.64084\n",
            "14/14 [==============================] - 28s 2s/step - loss: 0.0106 - accuracy: 1.0000 - val_loss: 0.8830 - val_accuracy: 0.6574\n",
            "Epoch 28/100\n",
            "14/14 [==============================] - ETA: 0s - loss: 0.0087 - accuracy: 1.0000\n",
            "Epoch 28: val_loss did not improve from 0.64084\n",
            "14/14 [==============================] - 27s 2s/step - loss: 0.0087 - accuracy: 1.0000 - val_loss: 1.1031 - val_accuracy: 0.6574\n",
            "Epoch 29/100\n",
            "14/14 [==============================] - ETA: 0s - loss: 0.0076 - accuracy: 1.0000\n",
            "Epoch 29: val_loss did not improve from 0.64084\n",
            "14/14 [==============================] - 28s 2s/step - loss: 0.0076 - accuracy: 1.0000 - val_loss: 1.1011 - val_accuracy: 0.6574\n",
            "Epoch 30/100\n",
            "14/14 [==============================] - ETA: 0s - loss: 0.0072 - accuracy: 1.0000\n",
            "Epoch 30: val_loss did not improve from 0.64084\n",
            "14/14 [==============================] - 28s 2s/step - loss: 0.0072 - accuracy: 1.0000 - val_loss: 1.2603 - val_accuracy: 0.6574\n",
            "Epoch 31/100\n",
            "14/14 [==============================] - ETA: 0s - loss: 0.0077 - accuracy: 1.0000\n",
            "Epoch 31: val_loss did not improve from 0.64084\n",
            "14/14 [==============================] - 27s 2s/step - loss: 0.0077 - accuracy: 1.0000 - val_loss: 1.3420 - val_accuracy: 0.6574\n",
            "Epoch 32/100\n",
            "14/14 [==============================] - ETA: 0s - loss: 0.0069 - accuracy: 1.0000\n",
            "Epoch 32: val_loss did not improve from 0.64084\n",
            "14/14 [==============================] - 28s 2s/step - loss: 0.0069 - accuracy: 1.0000 - val_loss: 1.2730 - val_accuracy: 0.6667\n",
            "Epoch 33/100\n",
            "14/14 [==============================] - ETA: 0s - loss: 0.0075 - accuracy: 1.0000\n",
            "Epoch 33: val_loss did not improve from 0.64084\n",
            "14/14 [==============================] - 27s 2s/step - loss: 0.0075 - accuracy: 1.0000 - val_loss: 1.4813 - val_accuracy: 0.6667\n",
            "Epoch 34/100\n",
            "14/14 [==============================] - ETA: 0s - loss: 0.0092 - accuracy: 1.0000\n",
            "Epoch 34: val_loss did not improve from 0.64084\n",
            "14/14 [==============================] - 27s 2s/step - loss: 0.0092 - accuracy: 1.0000 - val_loss: 1.2521 - val_accuracy: 0.6667\n",
            "Epoch 35/100\n",
            "14/14 [==============================] - ETA: 0s - loss: 0.0071 - accuracy: 1.0000\n",
            "Epoch 35: val_loss did not improve from 0.64084\n",
            "14/14 [==============================] - 27s 2s/step - loss: 0.0071 - accuracy: 1.0000 - val_loss: 1.3553 - val_accuracy: 0.6667\n",
            "Epoch 36/100\n",
            "14/14 [==============================] - ETA: 0s - loss: 0.0065 - accuracy: 1.0000\n",
            "Epoch 36: val_loss did not improve from 0.64084\n",
            "14/14 [==============================] - 27s 2s/step - loss: 0.0065 - accuracy: 1.0000 - val_loss: 1.5192 - val_accuracy: 0.6574\n",
            "Epoch 37/100\n",
            "14/14 [==============================] - ETA: 0s - loss: 0.0057 - accuracy: 1.0000\n",
            "Epoch 37: val_loss did not improve from 0.64084\n",
            "14/14 [==============================] - 28s 2s/step - loss: 0.0057 - accuracy: 1.0000 - val_loss: 1.6445 - val_accuracy: 0.6574\n",
            "Epoch 38/100\n",
            "14/14 [==============================] - ETA: 0s - loss: 0.0049 - accuracy: 1.0000\n",
            "Epoch 38: val_loss did not improve from 0.64084\n",
            "14/14 [==============================] - 27s 2s/step - loss: 0.0049 - accuracy: 1.0000 - val_loss: 1.7097 - val_accuracy: 0.6574\n",
            "Epoch 39/100\n",
            "14/14 [==============================] - ETA: 0s - loss: 0.0046 - accuracy: 1.0000\n",
            "Epoch 39: val_loss did not improve from 0.64084\n",
            "14/14 [==============================] - 28s 2s/step - loss: 0.0046 - accuracy: 1.0000 - val_loss: 1.8162 - val_accuracy: 0.6574\n",
            "Epoch 40/100\n",
            "14/14 [==============================] - ETA: 0s - loss: 0.0042 - accuracy: 1.0000\n",
            "Epoch 40: val_loss did not improve from 0.64084\n",
            "14/14 [==============================] - 27s 2s/step - loss: 0.0042 - accuracy: 1.0000 - val_loss: 1.9253 - val_accuracy: 0.6574\n",
            "Epoch 41/100\n",
            "14/14 [==============================] - ETA: 0s - loss: 0.0048 - accuracy: 1.0000\n",
            "Epoch 41: val_loss did not improve from 0.64084\n",
            "14/14 [==============================] - 28s 2s/step - loss: 0.0048 - accuracy: 1.0000 - val_loss: 1.9837 - val_accuracy: 0.6574\n",
            "Epoch 42/100\n",
            "14/14 [==============================] - ETA: 0s - loss: 0.0053 - accuracy: 1.0000\n",
            "Epoch 42: val_loss did not improve from 0.64084\n",
            "14/14 [==============================] - 28s 2s/step - loss: 0.0053 - accuracy: 1.0000 - val_loss: 2.0248 - val_accuracy: 0.6574\n",
            "Epoch 43/100\n",
            "14/14 [==============================] - ETA: 0s - loss: 0.0039 - accuracy: 1.0000\n",
            "Epoch 43: val_loss did not improve from 0.64084\n",
            "14/14 [==============================] - 28s 2s/step - loss: 0.0039 - accuracy: 1.0000 - val_loss: 1.8629 - val_accuracy: 0.6667\n",
            "Epoch 44/100\n",
            "14/14 [==============================] - ETA: 0s - loss: 0.0043 - accuracy: 1.0000\n",
            "Epoch 44: val_loss did not improve from 0.64084\n",
            "14/14 [==============================] - 27s 2s/step - loss: 0.0043 - accuracy: 1.0000 - val_loss: 1.9181 - val_accuracy: 0.6667\n",
            "Epoch 45/100\n",
            "14/14 [==============================] - ETA: 0s - loss: 0.0031 - accuracy: 1.0000\n",
            "Epoch 45: val_loss did not improve from 0.64084\n",
            "14/14 [==============================] - 28s 2s/step - loss: 0.0031 - accuracy: 1.0000 - val_loss: 1.8426 - val_accuracy: 0.6667\n",
            "Epoch 46/100\n",
            "14/14 [==============================] - ETA: 0s - loss: 0.0039 - accuracy: 1.0000\n",
            "Epoch 46: val_loss did not improve from 0.64084\n",
            "14/14 [==============================] - 28s 2s/step - loss: 0.0039 - accuracy: 1.0000 - val_loss: 1.8136 - val_accuracy: 0.6667\n",
            "Epoch 47/100\n",
            "14/14 [==============================] - ETA: 0s - loss: 0.0035 - accuracy: 1.0000\n",
            "Epoch 47: val_loss did not improve from 0.64084\n",
            "14/14 [==============================] - 27s 2s/step - loss: 0.0035 - accuracy: 1.0000 - val_loss: 1.7071 - val_accuracy: 0.6944\n",
            "Epoch 48/100\n",
            "14/14 [==============================] - ETA: 0s - loss: 0.0029 - accuracy: 1.0000\n",
            "Epoch 48: val_loss did not improve from 0.64084\n",
            "14/14 [==============================] - 27s 2s/step - loss: 0.0029 - accuracy: 1.0000 - val_loss: 1.6316 - val_accuracy: 0.7037\n",
            "Epoch 49/100\n",
            "14/14 [==============================] - ETA: 0s - loss: 0.0044 - accuracy: 1.0000\n",
            "Epoch 49: val_loss did not improve from 0.64084\n",
            "14/14 [==============================] - 27s 2s/step - loss: 0.0044 - accuracy: 1.0000 - val_loss: 1.6448 - val_accuracy: 0.7037\n",
            "Epoch 50/100\n",
            "14/14 [==============================] - ETA: 0s - loss: 0.0030 - accuracy: 1.0000\n",
            "Epoch 50: val_loss did not improve from 0.64084\n",
            "14/14 [==============================] - 27s 2s/step - loss: 0.0030 - accuracy: 1.0000 - val_loss: 1.5053 - val_accuracy: 0.7222\n",
            "Epoch 51/100\n",
            "14/14 [==============================] - ETA: 0s - loss: 0.0034 - accuracy: 1.0000\n",
            "Epoch 51: val_loss did not improve from 0.64084\n",
            "14/14 [==============================] - 27s 2s/step - loss: 0.0034 - accuracy: 1.0000 - val_loss: 1.4510 - val_accuracy: 0.7037\n",
            "Epoch 52/100\n",
            "14/14 [==============================] - ETA: 0s - loss: 0.0034 - accuracy: 1.0000\n",
            "Epoch 52: val_loss did not improve from 0.64084\n",
            "14/14 [==============================] - 28s 2s/step - loss: 0.0034 - accuracy: 1.0000 - val_loss: 1.3133 - val_accuracy: 0.7222\n",
            "Epoch 53/100\n",
            "14/14 [==============================] - ETA: 0s - loss: 0.0034 - accuracy: 1.0000\n",
            "Epoch 53: val_loss did not improve from 0.64084\n",
            "14/14 [==============================] - 28s 2s/step - loss: 0.0034 - accuracy: 1.0000 - val_loss: 1.3117 - val_accuracy: 0.7222\n",
            "Epoch 54/100\n",
            "14/14 [==============================] - ETA: 0s - loss: 0.0038 - accuracy: 1.0000\n",
            "Epoch 54: val_loss did not improve from 0.64084\n",
            "14/14 [==============================] - 28s 2s/step - loss: 0.0038 - accuracy: 1.0000 - val_loss: 1.0577 - val_accuracy: 0.7037\n",
            "Epoch 55/100\n",
            "14/14 [==============================] - ETA: 0s - loss: 0.0029 - accuracy: 1.0000\n",
            "Epoch 55: val_loss did not improve from 0.64084\n",
            "14/14 [==============================] - 28s 2s/step - loss: 0.0029 - accuracy: 1.0000 - val_loss: 1.0889 - val_accuracy: 0.7130\n",
            "Epoch 56/100\n",
            "14/14 [==============================] - ETA: 0s - loss: 0.0035 - accuracy: 1.0000\n",
            "Epoch 56: val_loss did not improve from 0.64084\n",
            "14/14 [==============================] - 28s 2s/step - loss: 0.0035 - accuracy: 1.0000 - val_loss: 1.0745 - val_accuracy: 0.7130\n",
            "Epoch 57/100\n",
            "14/14 [==============================] - ETA: 0s - loss: 0.0033 - accuracy: 1.0000\n",
            "Epoch 57: val_loss did not improve from 0.64084\n",
            "14/14 [==============================] - 28s 2s/step - loss: 0.0033 - accuracy: 1.0000 - val_loss: 1.1125 - val_accuracy: 0.7222\n",
            "Epoch 58/100\n",
            "14/14 [==============================] - ETA: 0s - loss: 0.0031 - accuracy: 1.0000\n",
            "Epoch 58: val_loss did not improve from 0.64084\n",
            "14/14 [==============================] - 28s 2s/step - loss: 0.0031 - accuracy: 1.0000 - val_loss: 1.1137 - val_accuracy: 0.7130\n",
            "Epoch 59/100\n",
            "14/14 [==============================] - ETA: 0s - loss: 0.0029 - accuracy: 1.0000\n",
            "Epoch 59: val_loss did not improve from 0.64084\n",
            "14/14 [==============================] - 28s 2s/step - loss: 0.0029 - accuracy: 1.0000 - val_loss: 1.1186 - val_accuracy: 0.7130\n",
            "Epoch 60/100\n",
            "14/14 [==============================] - ETA: 0s - loss: 0.0028 - accuracy: 1.0000\n",
            "Epoch 60: val_loss did not improve from 0.64084\n",
            "14/14 [==============================] - 28s 2s/step - loss: 0.0028 - accuracy: 1.0000 - val_loss: 1.1352 - val_accuracy: 0.7222\n",
            "Epoch 61/100\n",
            "14/14 [==============================] - ETA: 0s - loss: 0.0025 - accuracy: 1.0000\n",
            "Epoch 61: val_loss did not improve from 0.64084\n",
            "14/14 [==============================] - 27s 2s/step - loss: 0.0025 - accuracy: 1.0000 - val_loss: 1.1225 - val_accuracy: 0.7222\n",
            "Epoch 62/100\n",
            "14/14 [==============================] - ETA: 0s - loss: 0.0031 - accuracy: 1.0000\n",
            "Epoch 62: val_loss did not improve from 0.64084\n",
            "14/14 [==============================] - 27s 2s/step - loss: 0.0031 - accuracy: 1.0000 - val_loss: 1.1299 - val_accuracy: 0.7130\n",
            "Epoch 63/100\n",
            "14/14 [==============================] - ETA: 0s - loss: 0.0022 - accuracy: 1.0000\n",
            "Epoch 63: val_loss did not improve from 0.64084\n",
            "14/14 [==============================] - 28s 2s/step - loss: 0.0022 - accuracy: 1.0000 - val_loss: 1.1065 - val_accuracy: 0.7037\n",
            "Epoch 64/100\n",
            "14/14 [==============================] - ETA: 0s - loss: 0.0023 - accuracy: 1.0000\n",
            "Epoch 64: val_loss did not improve from 0.64084\n",
            "14/14 [==============================] - 28s 2s/step - loss: 0.0023 - accuracy: 1.0000 - val_loss: 1.1152 - val_accuracy: 0.7037\n",
            "Epoch 65/100\n",
            "14/14 [==============================] - ETA: 0s - loss: 0.0027 - accuracy: 1.0000\n",
            "Epoch 65: val_loss did not improve from 0.64084\n",
            "14/14 [==============================] - 27s 2s/step - loss: 0.0027 - accuracy: 1.0000 - val_loss: 1.1112 - val_accuracy: 0.7037\n",
            "Epoch 66/100\n",
            "14/14 [==============================] - ETA: 0s - loss: 0.0028 - accuracy: 1.0000\n",
            "Epoch 66: val_loss did not improve from 0.64084\n",
            "14/14 [==============================] - 27s 2s/step - loss: 0.0028 - accuracy: 1.0000 - val_loss: 1.1308 - val_accuracy: 0.7037\n",
            "Epoch 67/100\n",
            "14/14 [==============================] - ETA: 0s - loss: 0.0024 - accuracy: 1.0000\n",
            "Epoch 67: val_loss did not improve from 0.64084\n",
            "14/14 [==============================] - 28s 2s/step - loss: 0.0024 - accuracy: 1.0000 - val_loss: 1.1133 - val_accuracy: 0.7037\n",
            "Epoch 68/100\n",
            "14/14 [==============================] - ETA: 0s - loss: 0.0024 - accuracy: 1.0000\n",
            "Epoch 68: val_loss did not improve from 0.64084\n",
            "14/14 [==============================] - 28s 2s/step - loss: 0.0024 - accuracy: 1.0000 - val_loss: 1.1112 - val_accuracy: 0.7037\n",
            "Epoch 69/100\n",
            "14/14 [==============================] - ETA: 0s - loss: 0.0020 - accuracy: 1.0000\n",
            "Epoch 69: val_loss did not improve from 0.64084\n",
            "14/14 [==============================] - 27s 2s/step - loss: 0.0020 - accuracy: 1.0000 - val_loss: 1.1039 - val_accuracy: 0.7037\n",
            "Epoch 70/100\n",
            "14/14 [==============================] - ETA: 0s - loss: 0.0019 - accuracy: 1.0000\n",
            "Epoch 70: val_loss did not improve from 0.64084\n",
            "14/14 [==============================] - 28s 2s/step - loss: 0.0019 - accuracy: 1.0000 - val_loss: 1.1269 - val_accuracy: 0.7037\n",
            "Epoch 71/100\n",
            "14/14 [==============================] - ETA: 0s - loss: 0.0019 - accuracy: 1.0000\n",
            "Epoch 71: val_loss did not improve from 0.64084\n",
            "14/14 [==============================] - 28s 2s/step - loss: 0.0019 - accuracy: 1.0000 - val_loss: 1.1402 - val_accuracy: 0.7037\n",
            "Epoch 72/100\n",
            "14/14 [==============================] - ETA: 0s - loss: 0.0020 - accuracy: 1.0000\n",
            "Epoch 72: val_loss did not improve from 0.64084\n",
            "14/14 [==============================] - 28s 2s/step - loss: 0.0020 - accuracy: 1.0000 - val_loss: 1.1228 - val_accuracy: 0.7037\n",
            "Epoch 73/100\n",
            "14/14 [==============================] - ETA: 0s - loss: 0.0022 - accuracy: 1.0000\n",
            "Epoch 73: val_loss did not improve from 0.64084\n",
            "14/14 [==============================] - 28s 2s/step - loss: 0.0022 - accuracy: 1.0000 - val_loss: 1.1288 - val_accuracy: 0.7037\n",
            "Epoch 74/100\n",
            "14/14 [==============================] - ETA: 0s - loss: 0.0019 - accuracy: 1.0000\n",
            "Epoch 74: val_loss did not improve from 0.64084\n",
            "14/14 [==============================] - 28s 2s/step - loss: 0.0019 - accuracy: 1.0000 - val_loss: 1.1376 - val_accuracy: 0.7037\n",
            "Epoch 75/100\n",
            "14/14 [==============================] - ETA: 0s - loss: 0.0020 - accuracy: 1.0000\n",
            "Epoch 75: val_loss did not improve from 0.64084\n",
            "14/14 [==============================] - 28s 2s/step - loss: 0.0020 - accuracy: 1.0000 - val_loss: 1.1446 - val_accuracy: 0.7037\n",
            "Epoch 76/100\n",
            "14/14 [==============================] - ETA: 0s - loss: 0.0019 - accuracy: 1.0000\n",
            "Epoch 76: val_loss did not improve from 0.64084\n",
            "14/14 [==============================] - 28s 2s/step - loss: 0.0019 - accuracy: 1.0000 - val_loss: 1.1473 - val_accuracy: 0.7037\n",
            "Epoch 77/100\n",
            "14/14 [==============================] - ETA: 0s - loss: 0.0017 - accuracy: 1.0000\n",
            "Epoch 77: val_loss did not improve from 0.64084\n",
            "14/14 [==============================] - 27s 2s/step - loss: 0.0017 - accuracy: 1.0000 - val_loss: 1.1562 - val_accuracy: 0.7037\n",
            "Epoch 78/100\n",
            "14/14 [==============================] - ETA: 0s - loss: 0.0017 - accuracy: 1.0000\n",
            "Epoch 78: val_loss did not improve from 0.64084\n",
            "14/14 [==============================] - 27s 2s/step - loss: 0.0017 - accuracy: 1.0000 - val_loss: 1.1550 - val_accuracy: 0.7037\n",
            "Epoch 79/100\n",
            "14/14 [==============================] - ETA: 0s - loss: 0.0016 - accuracy: 1.0000\n",
            "Epoch 79: val_loss did not improve from 0.64084\n",
            "14/14 [==============================] - 28s 2s/step - loss: 0.0016 - accuracy: 1.0000 - val_loss: 1.1417 - val_accuracy: 0.7037\n",
            "Epoch 80/100\n",
            "14/14 [==============================] - ETA: 0s - loss: 0.0020 - accuracy: 1.0000\n",
            "Epoch 80: val_loss did not improve from 0.64084\n",
            "14/14 [==============================] - 28s 2s/step - loss: 0.0020 - accuracy: 1.0000 - val_loss: 1.1357 - val_accuracy: 0.7037\n",
            "Epoch 81/100\n",
            "14/14 [==============================] - ETA: 0s - loss: 0.0017 - accuracy: 1.0000\n",
            "Epoch 81: val_loss did not improve from 0.64084\n",
            "14/14 [==============================] - 28s 2s/step - loss: 0.0017 - accuracy: 1.0000 - val_loss: 1.1382 - val_accuracy: 0.7037\n",
            "Epoch 82/100\n",
            "14/14 [==============================] - ETA: 0s - loss: 0.0026 - accuracy: 1.0000\n",
            "Epoch 82: val_loss did not improve from 0.64084\n",
            "14/14 [==============================] - 28s 2s/step - loss: 0.0026 - accuracy: 1.0000 - val_loss: 1.0425 - val_accuracy: 0.7130\n",
            "Epoch 83/100\n",
            "14/14 [==============================] - ETA: 0s - loss: 0.0016 - accuracy: 1.0000\n",
            "Epoch 83: val_loss did not improve from 0.64084\n",
            "14/14 [==============================] - 28s 2s/step - loss: 0.0016 - accuracy: 1.0000 - val_loss: 1.0640 - val_accuracy: 0.7037\n",
            "Epoch 84/100\n",
            "14/14 [==============================] - ETA: 0s - loss: 0.0017 - accuracy: 1.0000\n",
            "Epoch 84: val_loss did not improve from 0.64084\n",
            "14/14 [==============================] - 28s 2s/step - loss: 0.0017 - accuracy: 1.0000 - val_loss: 1.0789 - val_accuracy: 0.7037\n",
            "Epoch 85/100\n",
            "14/14 [==============================] - ETA: 0s - loss: 0.0015 - accuracy: 1.0000\n",
            "Epoch 85: val_loss did not improve from 0.64084\n",
            "14/14 [==============================] - 28s 2s/step - loss: 0.0015 - accuracy: 1.0000 - val_loss: 1.0916 - val_accuracy: 0.7037\n",
            "Epoch 86/100\n",
            "14/14 [==============================] - ETA: 0s - loss: 0.0017 - accuracy: 1.0000\n",
            "Epoch 86: val_loss did not improve from 0.64084\n",
            "14/14 [==============================] - 27s 2s/step - loss: 0.0017 - accuracy: 1.0000 - val_loss: 1.1035 - val_accuracy: 0.7037\n",
            "Epoch 87/100\n",
            "14/14 [==============================] - ETA: 0s - loss: 0.0015 - accuracy: 1.0000\n",
            "Epoch 87: val_loss did not improve from 0.64084\n",
            "14/14 [==============================] - 28s 2s/step - loss: 0.0015 - accuracy: 1.0000 - val_loss: 1.1240 - val_accuracy: 0.6944\n",
            "Epoch 88/100\n",
            "14/14 [==============================] - ETA: 0s - loss: 0.0014 - accuracy: 1.0000\n",
            "Epoch 88: val_loss did not improve from 0.64084\n",
            "14/14 [==============================] - 28s 2s/step - loss: 0.0014 - accuracy: 1.0000 - val_loss: 1.1354 - val_accuracy: 0.6944\n",
            "Epoch 89/100\n",
            "14/14 [==============================] - ETA: 0s - loss: 0.0013 - accuracy: 1.0000\n",
            "Epoch 89: val_loss did not improve from 0.64084\n",
            "14/14 [==============================] - 28s 2s/step - loss: 0.0013 - accuracy: 1.0000 - val_loss: 1.1465 - val_accuracy: 0.7130\n",
            "Epoch 90/100\n",
            "14/14 [==============================] - ETA: 0s - loss: 9.7738e-04 - accuracy: 1.0000\n",
            "Epoch 90: val_loss did not improve from 0.64084\n",
            "14/14 [==============================] - 27s 2s/step - loss: 9.7738e-04 - accuracy: 1.0000 - val_loss: 1.1524 - val_accuracy: 0.7037\n",
            "Epoch 91/100\n",
            "14/14 [==============================] - ETA: 0s - loss: 0.0019 - accuracy: 1.0000\n",
            "Epoch 91: val_loss did not improve from 0.64084\n",
            "14/14 [==============================] - 28s 2s/step - loss: 0.0019 - accuracy: 1.0000 - val_loss: 1.1386 - val_accuracy: 0.7037\n",
            "Epoch 92/100\n",
            "14/14 [==============================] - ETA: 0s - loss: 0.0017 - accuracy: 1.0000\n",
            "Epoch 92: val_loss did not improve from 0.64084\n",
            "14/14 [==============================] - 28s 2s/step - loss: 0.0017 - accuracy: 1.0000 - val_loss: 1.1477 - val_accuracy: 0.6944\n",
            "Epoch 93/100\n",
            "14/14 [==============================] - ETA: 0s - loss: 0.0012 - accuracy: 1.0000\n",
            "Epoch 93: val_loss did not improve from 0.64084\n",
            "14/14 [==============================] - 28s 2s/step - loss: 0.0012 - accuracy: 1.0000 - val_loss: 1.1587 - val_accuracy: 0.6852\n",
            "Epoch 94/100\n",
            "14/14 [==============================] - ETA: 0s - loss: 0.0015 - accuracy: 1.0000\n",
            "Epoch 94: val_loss did not improve from 0.64084\n",
            "14/14 [==============================] - 28s 2s/step - loss: 0.0015 - accuracy: 1.0000 - val_loss: 1.1911 - val_accuracy: 0.6944\n",
            "Epoch 95/100\n",
            "14/14 [==============================] - ETA: 0s - loss: 0.0016 - accuracy: 1.0000\n",
            "Epoch 95: val_loss did not improve from 0.64084\n",
            "14/14 [==============================] - 28s 2s/step - loss: 0.0016 - accuracy: 1.0000 - val_loss: 1.1759 - val_accuracy: 0.6944\n",
            "Epoch 96/100\n",
            "14/14 [==============================] - ETA: 0s - loss: 0.0011 - accuracy: 1.0000\n",
            "Epoch 96: val_loss did not improve from 0.64084\n",
            "14/14 [==============================] - 28s 2s/step - loss: 0.0011 - accuracy: 1.0000 - val_loss: 1.1791 - val_accuracy: 0.6944\n",
            "Epoch 97/100\n",
            "14/14 [==============================] - ETA: 0s - loss: 0.0011 - accuracy: 1.0000\n",
            "Epoch 97: val_loss did not improve from 0.64084\n",
            "14/14 [==============================] - 28s 2s/step - loss: 0.0011 - accuracy: 1.0000 - val_loss: 1.1805 - val_accuracy: 0.6944\n",
            "Epoch 98/100\n",
            "14/14 [==============================] - ETA: 0s - loss: 0.0011 - accuracy: 1.0000\n",
            "Epoch 98: val_loss did not improve from 0.64084\n",
            "14/14 [==============================] - 28s 2s/step - loss: 0.0011 - accuracy: 1.0000 - val_loss: 1.1822 - val_accuracy: 0.6944\n",
            "Epoch 99/100\n",
            "14/14 [==============================] - ETA: 0s - loss: 0.0014 - accuracy: 1.0000\n",
            "Epoch 99: val_loss did not improve from 0.64084\n",
            "14/14 [==============================] - 28s 2s/step - loss: 0.0014 - accuracy: 1.0000 - val_loss: 1.1892 - val_accuracy: 0.7037\n",
            "Epoch 100/100\n",
            "14/14 [==============================] - ETA: 0s - loss: 0.0020 - accuracy: 1.0000\n",
            "Epoch 100: val_loss did not improve from 0.64084\n",
            "14/14 [==============================] - 27s 2s/step - loss: 0.0020 - accuracy: 1.0000 - val_loss: 1.1813 - val_accuracy: 0.6944\n"
          ]
        }
      ]
    },
    {
      "cell_type": "code",
      "source": [
        "cnn_model.save(\"cnn_model_2.h5py\")"
      ],
      "metadata": {
        "colab": {
          "base_uri": "https://localhost:8080/"
        },
        "id": "MDxMxiu5kQIa",
        "outputId": "639b1127-6ab1-4567-f949-51d2aec7c615"
      },
      "execution_count": 280,
      "outputs": [
        {
          "output_type": "stream",
          "name": "stdout",
          "text": [
            "INFO:tensorflow:Assets written to: cnn_model_2.h5py/assets\n"
          ]
        }
      ]
    },
    {
      "cell_type": "code",
      "source": [
        "vis_confusion_matrix(cm_cnn)\n",
        "\n",
        "vis_acc_loss(cnn_train)"
      ],
      "metadata": {
        "colab": {
          "base_uri": "https://localhost:8080/",
          "height": 865
        },
        "id": "dUvgJH3tkTww",
        "outputId": "1160ce56-e74d-4010-8f91-e5c26780136e"
      },
      "execution_count": 281,
      "outputs": [
        {
          "output_type": "display_data",
          "data": {
            "text/plain": [
              "<Figure size 432x288 with 2 Axes>"
            ],
            "image/png": "[encoded data removed]"
          },
          "metadata": {
            "needs_background": "light"
          }
        },
        {
          "output_type": "display_data",
          "data": {
            "text/plain": [
              "<Figure size 432x288 with 1 Axes>"
            ],
            "image/png": "[encoded data removed]"
          },
          "metadata": {
            "needs_background": "light"
          }
        },
        {
          "output_type": "display_data",
          "data": {
            "text/plain": [
              "<Figure size 432x288 with 1 Axes>"
            ],
            "image/png": "[encoded data removed]"
          },
          "metadata": {
            "needs_background": "light"
          }
        }
      ]
    },
    {
      "cell_type": "markdown",
      "source": [
        "## Test 3: LDA & CNN | Subject 3"
      ],
      "metadata": {
        "id": "g0I4h49AkgLN"
      }
    },
    {
      "cell_type": "code",
      "source": [
        "subject = 2\n",
        "\n",
        "train_X, test_X, train_y, test_y = get_train_test(active[subject], passive[subject], cue[subject])"
      ],
      "metadata": {
        "colab": {
          "base_uri": "https://localhost:8080/"
        },
        "id": "pzH7Eh0hkltQ",
        "outputId": "06cfdd2b-16e6-4070-8be2-476487e43d2b"
      },
      "execution_count": 282,
      "outputs": [
        {
          "output_type": "stream",
          "name": "stdout",
          "text": [
            "Filtering raw data in 1 contiguous segment\n",
            "Setting up high-pass filter at 1 Hz\n",
            "\n",
            "FIR filter parameters\n",
            "---------------------\n",
            "Designing a one-pass, zero-phase, non-causal highpass filter:\n",
            "- Windowed time-domain design (firwin) method\n",
            "- Hamming window with 0.0194 passband ripple and 53 dB stopband attenuation\n",
            "- Lower passband edge: 1.00\n",
            "- Lower transition bandwidth: 1.00 Hz (-6 dB cutoff frequency: 0.50 Hz)\n",
            "- Filter length: 331 samples (3.310 sec)\n",
            "\n",
            "Fitting ICA to data using 10 channels (please be patient, this may take a while)\n",
            "Selecting by number: 10 components\n",
            "Fitting ICA took 1.3s.\n",
            "Filtering raw data in 1 contiguous segment\n",
            "Setting up high-pass filter at 1 Hz\n",
            "\n",
            "FIR filter parameters\n",
            "---------------------\n",
            "Designing a one-pass, zero-phase, non-causal highpass filter:\n",
            "- Windowed time-domain design (firwin) method\n",
            "- Hamming window with 0.0194 passband ripple and 53 dB stopband attenuation\n",
            "- Lower passband edge: 1.00\n",
            "- Lower transition bandwidth: 1.00 Hz (-6 dB cutoff frequency: 0.50 Hz)\n",
            "- Filter length: 331 samples (3.310 sec)\n",
            "\n",
            "Fitting ICA to data using 10 channels (please be patient, this may take a while)\n",
            "Selecting by number: 10 components\n",
            "Fitting ICA took 0.2s.\n",
            "Filtering raw data in 1 contiguous segment\n",
            "Setting up high-pass filter at 1 Hz\n",
            "\n",
            "FIR filter parameters\n",
            "---------------------\n",
            "Designing a one-pass, zero-phase, non-causal highpass filter:\n",
            "- Windowed time-domain design (firwin) method\n",
            "- Hamming window with 0.0194 passband ripple and 53 dB stopband attenuation\n",
            "- Lower passband edge: 1.00\n",
            "- Lower transition bandwidth: 1.00 Hz (-6 dB cutoff frequency: 0.50 Hz)\n",
            "- Filter length: 331 samples (3.310 sec)\n",
            "\n",
            "Fitting ICA to data using 10 channels (please be patient, this may take a while)\n",
            "Selecting by number: 10 components\n",
            "Fitting ICA took 0.2s.\n"
          ]
        }
      ]
    },
    {
      "cell_type": "code",
      "source": [
        "clf_lda, cm_lda = lda_101(train_X, test_X, train_y, test_y) \n",
        "lda_models.append(clf_lda)\n",
        "vis_confusion_matrix(cm_lda)"
      ],
      "metadata": {
        "colab": {
          "base_uri": "https://localhost:8080/",
          "height": 388
        },
        "id": "QdVmed3Eknx_",
        "outputId": "2f0e4860-3d84-4f92-a707-d1de516a1ca7"
      },
      "execution_count": 284,
      "outputs": [
        {
          "output_type": "stream",
          "name": "stdout",
          "text": [
            "[[44 56]\n",
            " [75 75]]\n",
            "Accuracy0.476\n"
          ]
        },
        {
          "output_type": "display_data",
          "data": {
            "text/plain": [
              "<Figure size 432x288 with 2 Axes>"
            ],
            "image/png": "[encoded data removed]"
          },
          "metadata": {
            "needs_background": "light"
          }
        }
      ]
    },
    {
      "cell_type": "code",
      "source": [
        "clf_lda, cm_lda = lda_101(tune_tX, tune_tsX, train_y, test_y) \n",
        "lda_models.append(clf_lda)\n",
        "vis_confusion_matrix(cm_lda)"
      ],
      "metadata": {
        "colab": {
          "base_uri": "https://localhost:8080/",
          "height": 388
        },
        "id": "KoYS8-TMg_iU",
        "outputId": "d96726e0-359a-450c-e6d4-9d0615c33ca4"
      },
      "execution_count": 285,
      "outputs": [
        {
          "output_type": "stream",
          "name": "stdout",
          "text": [
            "[[40 60]\n",
            " [67 83]]\n",
            "Accuracy0.492\n"
          ]
        },
        {
          "output_type": "display_data",
          "data": {
            "text/plain": [
              "<Figure size 432x288 with 2 Axes>"
            ],
            "image/png": "[encoded data removed]"
          },
          "metadata": {
            "needs_background": "light"
          }
        }
      ]
    },
    {
      "cell_type": "code",
      "source": [
        "cnn_model, cnn_train, test_eval, cm_cnn = cnn_101(tune_tX, \n",
        "                                                  tune_tsX, \n",
        "                                                  train_y, \n",
        "                                                  test_y, 16 , 50)\n",
        "\n",
        "cnn_models.append(cnn_model)"
      ],
      "metadata": {
        "colab": {
          "base_uri": "https://localhost:8080/"
        },
        "id": "5T41swBEkoy_",
        "outputId": "42539604-0bd1-49d1-e3de-72b9b2b8c5fa"
      },
      "execution_count": 286,
      "outputs": [
        {
          "output_type": "stream",
          "name": "stdout",
          "text": [
            "Epoch 1/50\n"
          ]
        },
        {
          "output_type": "stream",
          "name": "stderr",
          "text": [
            "/usr/local/lib/python3.7/dist-packages/keras/optimizer_v2/gradient_descent.py:102: UserWarning: The `lr` argument is deprecated, use `learning_rate` instead.\n",
            "  super(SGD, self).__init__(name, **kwargs)\n"
          ]
        },
        {
          "output_type": "stream",
          "name": "stdout",
          "text": [
            "27/27 [==============================] - ETA: 0s - loss: 0.8425 - accuracy: 0.7361\n",
            "Epoch 1: val_loss improved from inf to 0.67712, saving model to /tmp/checkpoint.h5\n",
            "27/27 [==============================] - 42s 2s/step - loss: 0.8425 - accuracy: 0.7361 - val_loss: 0.6771 - val_accuracy: 0.7037\n",
            "Epoch 2/50\n",
            "27/27 [==============================] - ETA: 0s - loss: 0.4457 - accuracy: 0.8287\n",
            "Epoch 2: val_loss did not improve from 0.67712\n",
            "27/27 [==============================] - 37s 1s/step - loss: 0.4457 - accuracy: 0.8287 - val_loss: 0.7462 - val_accuracy: 0.2963\n",
            "Epoch 3/50\n",
            "27/27 [==============================] - ETA: 0s - loss: 0.3769 - accuracy: 0.8218\n",
            "Epoch 3: val_loss did not improve from 0.67712\n",
            "27/27 [==============================] - 28s 1s/step - loss: 0.3769 - accuracy: 0.8218 - val_loss: 0.7292 - val_accuracy: 0.2963\n",
            "Epoch 4/50\n",
            "27/27 [==============================] - ETA: 0s - loss: 0.3721 - accuracy: 0.8287\n",
            "Epoch 4: val_loss did not improve from 0.67712\n",
            "27/27 [==============================] - 27s 1s/step - loss: 0.3721 - accuracy: 0.8287 - val_loss: 0.7824 - val_accuracy: 0.2963\n",
            "Epoch 5/50\n",
            "27/27 [==============================] - ETA: 0s - loss: 0.3840 - accuracy: 0.8380\n",
            "Epoch 5: val_loss did not improve from 0.67712\n",
            "27/27 [==============================] - 28s 1s/step - loss: 0.3840 - accuracy: 0.8380 - val_loss: 0.7764 - val_accuracy: 0.2963\n",
            "Epoch 6/50\n",
            "27/27 [==============================] - ETA: 0s - loss: 0.3163 - accuracy: 0.8495\n",
            "Epoch 6: val_loss did not improve from 0.67712\n",
            "27/27 [==============================] - 28s 1s/step - loss: 0.3163 - accuracy: 0.8495 - val_loss: 0.7033 - val_accuracy: 0.4537\n",
            "Epoch 7/50\n",
            "27/27 [==============================] - ETA: 0s - loss: 0.3228 - accuracy: 0.8704\n",
            "Epoch 7: val_loss did not improve from 0.67712\n",
            "27/27 [==============================] - 28s 1s/step - loss: 0.3228 - accuracy: 0.8704 - val_loss: 0.9460 - val_accuracy: 0.2963\n",
            "Epoch 8/50\n",
            "27/27 [==============================] - ETA: 0s - loss: 0.3070 - accuracy: 0.8634\n",
            "Epoch 8: val_loss did not improve from 0.67712\n",
            "27/27 [==============================] - 28s 1s/step - loss: 0.3070 - accuracy: 0.8634 - val_loss: 0.7438 - val_accuracy: 0.3611\n",
            "Epoch 9/50\n",
            "27/27 [==============================] - ETA: 0s - loss: 0.3635 - accuracy: 0.8750\n",
            "Epoch 9: val_loss did not improve from 0.67712\n",
            "27/27 [==============================] - 28s 1s/step - loss: 0.3635 - accuracy: 0.8750 - val_loss: 0.9307 - val_accuracy: 0.2963\n",
            "Epoch 10/50\n",
            "27/27 [==============================] - ETA: 0s - loss: 0.4109 - accuracy: 0.8310\n",
            "Epoch 10: val_loss did not improve from 0.67712\n",
            "27/27 [==============================] - 28s 1s/step - loss: 0.4109 - accuracy: 0.8310 - val_loss: 1.5975 - val_accuracy: 0.2963\n",
            "Epoch 11/50\n",
            "27/27 [==============================] - ETA: 0s - loss: 0.4125 - accuracy: 0.8356\n",
            "Epoch 11: val_loss did not improve from 0.67712\n",
            "27/27 [==============================] - 28s 1s/step - loss: 0.4125 - accuracy: 0.8356 - val_loss: 1.0574 - val_accuracy: 0.3056\n",
            "Epoch 12/50\n",
            "27/27 [==============================] - ETA: 0s - loss: 0.3519 - accuracy: 0.8426\n",
            "Epoch 12: val_loss did not improve from 0.67712\n",
            "27/27 [==============================] - 28s 1s/step - loss: 0.3519 - accuracy: 0.8426 - val_loss: 1.2111 - val_accuracy: 0.3056\n",
            "Epoch 13/50\n",
            "27/27 [==============================] - ETA: 0s - loss: 0.2541 - accuracy: 0.8958\n",
            "Epoch 13: val_loss did not improve from 0.67712\n",
            "27/27 [==============================] - 28s 1s/step - loss: 0.2541 - accuracy: 0.8958 - val_loss: 1.2887 - val_accuracy: 0.3333\n",
            "Epoch 14/50\n",
            "27/27 [==============================] - ETA: 0s - loss: 0.3014 - accuracy: 0.8634\n",
            "Epoch 14: val_loss did not improve from 0.67712\n",
            "27/27 [==============================] - 27s 1s/step - loss: 0.3014 - accuracy: 0.8634 - val_loss: 0.9747 - val_accuracy: 0.3796\n",
            "Epoch 15/50\n",
            "27/27 [==============================] - ETA: 0s - loss: 0.2857 - accuracy: 0.8819\n",
            "Epoch 15: val_loss did not improve from 0.67712\n",
            "27/27 [==============================] - 28s 1s/step - loss: 0.2857 - accuracy: 0.8819 - val_loss: 1.1794 - val_accuracy: 0.3704\n",
            "Epoch 16/50\n",
            "27/27 [==============================] - ETA: 0s - loss: 0.2966 - accuracy: 0.8704\n",
            "Epoch 16: val_loss did not improve from 0.67712\n",
            "27/27 [==============================] - 28s 1s/step - loss: 0.2966 - accuracy: 0.8704 - val_loss: 1.0073 - val_accuracy: 0.4167\n",
            "Epoch 17/50\n",
            "27/27 [==============================] - ETA: 0s - loss: 0.2513 - accuracy: 0.9005\n",
            "Epoch 17: val_loss did not improve from 0.67712\n",
            "27/27 [==============================] - 28s 1s/step - loss: 0.2513 - accuracy: 0.9005 - val_loss: 1.1368 - val_accuracy: 0.4167\n",
            "Epoch 18/50\n",
            "27/27 [==============================] - ETA: 0s - loss: 0.2567 - accuracy: 0.8912\n",
            "Epoch 18: val_loss did not improve from 0.67712\n",
            "27/27 [==============================] - 28s 1s/step - loss: 0.2567 - accuracy: 0.8912 - val_loss: 1.2212 - val_accuracy: 0.4352\n",
            "Epoch 19/50\n",
            "27/27 [==============================] - ETA: 0s - loss: 0.2622 - accuracy: 0.8819\n",
            "Epoch 19: val_loss did not improve from 0.67712\n",
            "27/27 [==============================] - 28s 1s/step - loss: 0.2622 - accuracy: 0.8819 - val_loss: 0.8478 - val_accuracy: 0.5556\n",
            "Epoch 20/50\n",
            "27/27 [==============================] - ETA: 0s - loss: 0.2601 - accuracy: 0.9120\n",
            "Epoch 20: val_loss did not improve from 0.67712\n",
            "27/27 [==============================] - 28s 1s/step - loss: 0.2601 - accuracy: 0.9120 - val_loss: 1.0949 - val_accuracy: 0.5556\n",
            "Epoch 21/50\n",
            "27/27 [==============================] - ETA: 0s - loss: 0.2786 - accuracy: 0.8657\n",
            "Epoch 21: val_loss did not improve from 0.67712\n",
            "27/27 [==============================] - 28s 1s/step - loss: 0.2786 - accuracy: 0.8657 - val_loss: 0.8932 - val_accuracy: 0.5556\n",
            "Epoch 22/50\n",
            "27/27 [==============================] - ETA: 0s - loss: 0.2720 - accuracy: 0.8958\n",
            "Epoch 22: val_loss did not improve from 0.67712\n",
            "27/27 [==============================] - 28s 1s/step - loss: 0.2720 - accuracy: 0.8958 - val_loss: 0.8287 - val_accuracy: 0.6389\n",
            "Epoch 23/50\n",
            "27/27 [==============================] - ETA: 0s - loss: 0.2711 - accuracy: 0.8727\n",
            "Epoch 23: val_loss did not improve from 0.67712\n",
            "27/27 [==============================] - 28s 1s/step - loss: 0.2711 - accuracy: 0.8727 - val_loss: 0.7251 - val_accuracy: 0.6204\n",
            "Epoch 24/50\n",
            "27/27 [==============================] - ETA: 0s - loss: 0.2483 - accuracy: 0.8958\n",
            "Epoch 24: val_loss improved from 0.67712 to 0.47790, saving model to /tmp/checkpoint.h5\n",
            "27/27 [==============================] - 28s 1s/step - loss: 0.2483 - accuracy: 0.8958 - val_loss: 0.4779 - val_accuracy: 0.7685\n",
            "Epoch 25/50\n",
            "27/27 [==============================] - ETA: 0s - loss: 0.2479 - accuracy: 0.9028\n",
            "Epoch 25: val_loss improved from 0.47790 to 0.45509, saving model to /tmp/checkpoint.h5\n",
            "27/27 [==============================] - 28s 1s/step - loss: 0.2479 - accuracy: 0.9028 - val_loss: 0.4551 - val_accuracy: 0.7870\n",
            "Epoch 26/50\n",
            "27/27 [==============================] - ETA: 0s - loss: 0.2347 - accuracy: 0.8958\n",
            "Epoch 26: val_loss did not improve from 0.45509\n",
            "27/27 [==============================] - 28s 1s/step - loss: 0.2347 - accuracy: 0.8958 - val_loss: 0.5245 - val_accuracy: 0.7685\n",
            "Epoch 27/50\n",
            "27/27 [==============================] - ETA: 0s - loss: 0.2287 - accuracy: 0.9051\n",
            "Epoch 27: val_loss improved from 0.45509 to 0.43426, saving model to /tmp/checkpoint.h5\n",
            "27/27 [==============================] - 28s 1s/step - loss: 0.2287 - accuracy: 0.9051 - val_loss: 0.4343 - val_accuracy: 0.8056\n",
            "Epoch 28/50\n",
            "27/27 [==============================] - ETA: 0s - loss: 0.2343 - accuracy: 0.9005\n",
            "Epoch 28: val_loss did not improve from 0.43426\n",
            "27/27 [==============================] - 27s 1s/step - loss: 0.2343 - accuracy: 0.9005 - val_loss: 0.8085 - val_accuracy: 0.7037\n",
            "Epoch 29/50\n",
            "27/27 [==============================] - ETA: 0s - loss: 0.2129 - accuracy: 0.9190\n",
            "Epoch 29: val_loss did not improve from 0.43426\n",
            "27/27 [==============================] - 28s 1s/step - loss: 0.2129 - accuracy: 0.9190 - val_loss: 0.4344 - val_accuracy: 0.8333\n",
            "Epoch 30/50\n",
            "27/27 [==============================] - ETA: 0s - loss: 0.2225 - accuracy: 0.8889\n",
            "Epoch 30: val_loss did not improve from 0.43426\n",
            "27/27 [==============================] - 28s 1s/step - loss: 0.2225 - accuracy: 0.8889 - val_loss: 0.8802 - val_accuracy: 0.7222\n",
            "Epoch 31/50\n",
            "27/27 [==============================] - ETA: 0s - loss: 0.1803 - accuracy: 0.9190\n",
            "Epoch 31: val_loss improved from 0.43426 to 0.36835, saving model to /tmp/checkpoint.h5\n",
            "27/27 [==============================] - 28s 1s/step - loss: 0.1803 - accuracy: 0.9190 - val_loss: 0.3683 - val_accuracy: 0.8519\n",
            "Epoch 32/50\n",
            "27/27 [==============================] - ETA: 0s - loss: 0.1784 - accuracy: 0.9259\n",
            "Epoch 32: val_loss improved from 0.36835 to 0.33767, saving model to /tmp/checkpoint.h5\n",
            "27/27 [==============================] - 28s 1s/step - loss: 0.1784 - accuracy: 0.9259 - val_loss: 0.3377 - val_accuracy: 0.8519\n",
            "Epoch 33/50\n",
            "27/27 [==============================] - ETA: 0s - loss: 0.1719 - accuracy: 0.9306\n",
            "Epoch 33: val_loss did not improve from 0.33767\n",
            "27/27 [==============================] - 28s 1s/step - loss: 0.1719 - accuracy: 0.9306 - val_loss: 0.4196 - val_accuracy: 0.8056\n",
            "Epoch 34/50\n",
            "27/27 [==============================] - ETA: 0s - loss: 0.1838 - accuracy: 0.9236\n",
            "Epoch 34: val_loss did not improve from 0.33767\n",
            "27/27 [==============================] - 28s 1s/step - loss: 0.1838 - accuracy: 0.9236 - val_loss: 0.5481 - val_accuracy: 0.8148\n",
            "Epoch 35/50\n",
            "27/27 [==============================] - ETA: 0s - loss: 0.1671 - accuracy: 0.9375\n",
            "Epoch 35: val_loss did not improve from 0.33767\n",
            "27/27 [==============================] - 28s 1s/step - loss: 0.1671 - accuracy: 0.9375 - val_loss: 0.7920 - val_accuracy: 0.7130\n",
            "Epoch 36/50\n",
            "27/27 [==============================] - ETA: 0s - loss: 0.1196 - accuracy: 0.9514\n",
            "Epoch 36: val_loss did not improve from 0.33767\n",
            "27/27 [==============================] - 28s 1s/step - loss: 0.1196 - accuracy: 0.9514 - val_loss: 0.5075 - val_accuracy: 0.8426\n",
            "Epoch 37/50\n",
            "27/27 [==============================] - ETA: 0s - loss: 0.2957 - accuracy: 0.8866\n",
            "Epoch 37: val_loss did not improve from 0.33767\n",
            "27/27 [==============================] - 27s 1s/step - loss: 0.2957 - accuracy: 0.8866 - val_loss: 0.4437 - val_accuracy: 0.8519\n",
            "Epoch 38/50\n",
            "27/27 [==============================] - ETA: 0s - loss: 0.1735 - accuracy: 0.9306\n",
            "Epoch 38: val_loss did not improve from 0.33767\n",
            "27/27 [==============================] - 28s 1s/step - loss: 0.1735 - accuracy: 0.9306 - val_loss: 0.3886 - val_accuracy: 0.8519\n",
            "Epoch 39/50\n",
            "27/27 [==============================] - ETA: 0s - loss: 0.1448 - accuracy: 0.9375\n",
            "Epoch 39: val_loss did not improve from 0.33767\n",
            "27/27 [==============================] - 28s 1s/step - loss: 0.1448 - accuracy: 0.9375 - val_loss: 0.3479 - val_accuracy: 0.8704\n",
            "Epoch 40/50\n",
            "27/27 [==============================] - ETA: 0s - loss: 0.1298 - accuracy: 0.9491\n",
            "Epoch 40: val_loss did not improve from 0.33767\n",
            "27/27 [==============================] - 28s 1s/step - loss: 0.1298 - accuracy: 0.9491 - val_loss: 0.3875 - val_accuracy: 0.8519\n",
            "Epoch 41/50\n",
            "27/27 [==============================] - ETA: 0s - loss: 0.1322 - accuracy: 0.9421\n",
            "Epoch 41: val_loss did not improve from 0.33767\n",
            "27/27 [==============================] - 28s 1s/step - loss: 0.1322 - accuracy: 0.9421 - val_loss: 0.5028 - val_accuracy: 0.8333\n",
            "Epoch 42/50\n",
            "27/27 [==============================] - ETA: 0s - loss: 0.1043 - accuracy: 0.9722\n",
            "Epoch 42: val_loss did not improve from 0.33767\n",
            "27/27 [==============================] - 28s 1s/step - loss: 0.1043 - accuracy: 0.9722 - val_loss: 0.4637 - val_accuracy: 0.8333\n",
            "Epoch 43/50\n",
            "27/27 [==============================] - ETA: 0s - loss: 0.0988 - accuracy: 0.9699\n",
            "Epoch 43: val_loss did not improve from 0.33767\n",
            "27/27 [==============================] - 28s 1s/step - loss: 0.0988 - accuracy: 0.9699 - val_loss: 0.4902 - val_accuracy: 0.8519\n",
            "Epoch 44/50\n",
            "27/27 [==============================] - ETA: 0s - loss: 0.0797 - accuracy: 0.9722\n",
            "Epoch 44: val_loss did not improve from 0.33767\n",
            "27/27 [==============================] - 28s 1s/step - loss: 0.0797 - accuracy: 0.9722 - val_loss: 0.4224 - val_accuracy: 0.8333\n",
            "Epoch 45/50\n",
            "27/27 [==============================] - ETA: 0s - loss: 0.1825 - accuracy: 0.9329\n",
            "Epoch 45: val_loss did not improve from 0.33767\n",
            "27/27 [==============================] - 27s 1s/step - loss: 0.1825 - accuracy: 0.9329 - val_loss: 0.6361 - val_accuracy: 0.8241\n",
            "Epoch 46/50\n",
            "27/27 [==============================] - ETA: 0s - loss: 0.0922 - accuracy: 0.9606\n",
            "Epoch 46: val_loss did not improve from 0.33767\n",
            "27/27 [==============================] - 27s 1s/step - loss: 0.0922 - accuracy: 0.9606 - val_loss: 0.6406 - val_accuracy: 0.8241\n",
            "Epoch 47/50\n",
            "27/27 [==============================] - ETA: 0s - loss: 0.0685 - accuracy: 0.9745\n",
            "Epoch 47: val_loss did not improve from 0.33767\n",
            "27/27 [==============================] - 28s 1s/step - loss: 0.0685 - accuracy: 0.9745 - val_loss: 0.6092 - val_accuracy: 0.8056\n",
            "Epoch 48/50\n",
            "27/27 [==============================] - ETA: 0s - loss: 0.0605 - accuracy: 0.9722\n",
            "Epoch 48: val_loss did not improve from 0.33767\n",
            "27/27 [==============================] - 28s 1s/step - loss: 0.0605 - accuracy: 0.9722 - val_loss: 0.4309 - val_accuracy: 0.8519\n",
            "Epoch 49/50\n",
            "27/27 [==============================] - ETA: 0s - loss: 0.0377 - accuracy: 0.9838\n",
            "Epoch 49: val_loss did not improve from 0.33767\n",
            "27/27 [==============================] - 28s 1s/step - loss: 0.0377 - accuracy: 0.9838 - val_loss: 0.3944 - val_accuracy: 0.8704\n",
            "Epoch 50/50\n",
            "27/27 [==============================] - ETA: 0s - loss: 0.0405 - accuracy: 0.9884\n",
            "Epoch 50: val_loss did not improve from 0.33767\n",
            "27/27 [==============================] - 27s 1s/step - loss: 0.0405 - accuracy: 0.9884 - val_loss: 0.4933 - val_accuracy: 0.8704\n"
          ]
        }
      ]
    },
    {
      "cell_type": "code",
      "source": [
        "cnn_model.save(\"cnn_model_3.h5py\")"
      ],
      "metadata": {
        "colab": {
          "base_uri": "https://localhost:8080/"
        },
        "id": "e42__wWLkp7J",
        "outputId": "4fc79c32-fbc2-4777-8e92-9fb21a6a3061"
      },
      "execution_count": 287,
      "outputs": [
        {
          "output_type": "stream",
          "name": "stdout",
          "text": [
            "INFO:tensorflow:Assets written to: cnn_model_3.h5py/assets\n"
          ]
        }
      ]
    },
    {
      "cell_type": "code",
      "source": [
        "vis_confusion_matrix(cm_cnn)\n",
        "\n",
        "vis_acc_loss(cnn_train)"
      ],
      "metadata": {
        "colab": {
          "base_uri": "https://localhost:8080/",
          "height": 865
        },
        "id": "_0S0co2jkrTR",
        "outputId": "ae6e49ba-0b6c-4153-ce1b-616983fb78d3"
      },
      "execution_count": 288,
      "outputs": [
        {
          "output_type": "display_data",
          "data": {
            "text/plain": [
              "<Figure size 432x288 with 2 Axes>"
            ],
            "image/png": "[encoded data removed]"
          },
          "metadata": {
            "needs_background": "light"
          }
        },
        {
          "output_type": "display_data",
          "data": {
            "text/plain": [
              "<Figure size 432x288 with 1 Axes>"
            ],
            "image/png": "[encoded data removed]"
          },
          "metadata": {
            "needs_background": "light"
          }
        },
        {
          "output_type": "display_data",
          "data": {
            "text/plain": [
              "<Figure size 432x288 with 1 Axes>"
            ],
            "image/png": "[encoded data removed]"
          },
          "metadata": {
            "needs_background": "light"
          }
        }
      ]
    },
    {
      "cell_type": "code",
      "source": [
        "print('Test loss:', test_eval[0])\n",
        "print('Test accuracy:', test_eval[1])"
      ],
      "metadata": {
        "colab": {
          "base_uri": "https://localhost:8080/"
        },
        "id": "TTSmlMoEB9tr",
        "outputId": "96146977-b813-4625-ea80-09be1e8b095d"
      },
      "execution_count": 76,
      "outputs": [
        {
          "output_type": "stream",
          "name": "stdout",
          "text": [
            "Test loss: 3.7785305976867676\n",
            "Test accuracy: 0.5839999914169312\n"
          ]
        }
      ]
    },
    {
      "cell_type": "markdown",
      "source": [
        "# Tune Autoencoder"
      ],
      "metadata": {
        "id": "QrlhSOIae6Af"
      }
    },
    {
      "cell_type": "code",
      "source": [
        "tX, tsX, ty, tsy = train_X.copy(), test_X.copy(), train_y.copy(), test_y.copy()\n",
        "\n",
        "#threshold active vs threshold non intention\n",
        "th_ac = np.zeros([10,101])\n",
        "th_ni = np.zeros([10,101])\n",
        "#print(th_ac)\n",
        "\n",
        "#set threshold\n",
        "for n in range(ty.size):\n",
        "  if ty[n] == 1:\n",
        "    th_ac = th_ac + tX[n]\n",
        "  else:\n",
        "    th_ni = th_ni + tX[n]\n",
        "\n",
        "th_ac = th_ac/np.count_nonzero(ty == 1)\n",
        "th_ni = th_ni/np.count_nonzero(ty == 2)\n",
        "\n",
        "#difference \n",
        "#formula |x1 - x2|/((x1 + x2)/2) = 0~1\n",
        "\n",
        "#sample \n",
        "#check true or false \n",
        "# true_value = 0\n",
        "# false_value = 0\n",
        "\n",
        "dec = np.arange(0.0, 3.1, 0.1)/10\n",
        "great_value = 0\n",
        "\n",
        "#save there the end value\n",
        "tune_tX = np.zeros(tX.shape)\n",
        "\n",
        "for k in dec:\n",
        "  true_value = 0\n",
        "  false_value = 0\n",
        "  tmp_tX = np.zeros(tX.shape)\n",
        "  \n",
        "  for n in range(ty.size):\n",
        "    ac = np.absolute(tX[n] - th_ac)/((tX[n] + th_ac)/2)\n",
        "    ni = np.absolute(tX[n] - th_ni)/((tX[n] + th_ni)/2)\n",
        "\n",
        "    diff = ac > ni\n",
        "    true_count = np.count_nonzero(diff == True)\n",
        "    #print(diff)\n",
        "\n",
        "    if true_count/1010 >= (0.5+k): #0.6 = 372 0.61=\n",
        "      tmp_tX[n] = (tX[n] + th_ac)/2\n",
        "      if ty[n]==2: true_value += 1 \n",
        "      else: false_value += 1\n",
        "\n",
        "    else: \n",
        "      tmp_tX[n] = (tX[n] + th_ni)/2\n",
        "      if ty[n]==1: true_value += 1 \n",
        "      else: false_value += 1\n",
        "\n",
        "  #print((0.5+k), true_value, false_value)\n",
        "\n",
        "  if great_value < true_value:\n",
        "    great_value = true_value\n",
        "    print('new value saved', 0.5+k)\n",
        "    tune_tX = tmp_tX\n",
        "\n",
        "#TEST VALUE\n",
        "tune_tsX = np.zeros(tsX.shape)\n",
        "for n in range(tsy.size):\n",
        "  ac = np.absolute(tsX[n] - th_ac)/((tsX[n] + th_ac)/2)\n",
        "  ni = np.absolute(tsX[n] - th_ni)/((tsX[n] + th_ni)/2)\n",
        "\n",
        "  diff = ac > ni\n",
        "  true_count = np.count_nonzero(diff == True)\n",
        "  #print(diff)\n",
        "\n",
        "  if true_count/1010 > great_value:\n",
        "    tune_tsX[n] = (tsX[n] + th_ac)/2\n",
        "  else: \n",
        "    tune_tsX[n] = (tsX[n] + th_ni)/2\n"
      ],
      "metadata": {
        "colab": {
          "base_uri": "https://localhost:8080/"
        },
        "id": "Y1viVdkBe_cj",
        "outputId": "f25d7cf2-204d-42f5-866a-5c7b2684b44c"
      },
      "execution_count": 283,
      "outputs": [
        {
          "output_type": "stream",
          "name": "stdout",
          "text": [
            "new value saved 0.5\n",
            "new value saved 0.51\n",
            "new value saved 0.52\n",
            "new value saved 0.53\n",
            "new value saved 0.54\n",
            "new value saved 0.55\n",
            "new value saved 0.56\n"
          ]
        }
      ]
    },
    {
      "cell_type": "code",
      "source": [
        "diff = np.absolute(ac - ni)/((ac + ni)/2)\n",
        "print(diff)\n",
        "true_count = np.count_nonzero(diff >0)\n",
        "true_count/len(diff)"
      ],
      "metadata": {
        "colab": {
          "base_uri": "https://localhost:8080/"
        },
        "id": "3hiX36f4gT4y",
        "outputId": "d3ca114f-923a-4474-ad9e-aea62234dedb"
      },
      "execution_count": 191,
      "outputs": [
        {
          "output_type": "stream",
          "name": "stdout",
          "text": [
            "[[-1.00459132 -0.3535174  -0.26167888 ...  0.07902464  0.13362405\n",
            "   0.15196207]\n",
            " [-0.87409387 -0.335561   -0.32308572 ...  0.05427715  0.09962433\n",
            "   0.12862983]\n",
            " [-0.7433857  -0.19393229 -0.05185202 ...  0.01754857  0.02737336\n",
            "   0.04486895]\n",
            " ...\n",
            " [-0.14628003 -0.14070632 -3.78699854 ...  0.12613962  0.37990813\n",
            "   0.57901287]\n",
            " [-1.96260287 -0.31509749  1.26613821 ...  0.38404952 -2.69332328\n",
            "  -1.35265624]\n",
            " [ 1.53082488  0.92598274  0.49226876 ... -0.89285441 -0.90240701\n",
            "  -0.56668672]]\n"
          ]
        },
        {
          "output_type": "execute_result",
          "data": {
            "text/plain": [
              "89.6"
            ]
          },
          "metadata": {},
          "execution_count": 191
        }
      ]
    },
    {
      "cell_type": "code",
      "source": [
        "k = 1\n",
        "m = 38\n",
        "tmp_ac = th_ac.copy()\n",
        "tmp_ni = th_ni.copy()\n",
        "\n",
        "newdata = np.squeeze(tmp_ac[k,:]) # Shape is now: (10, 80)\n",
        "plt.plot(newdata) # plotting by columns\n",
        "plt.show()\n",
        "\n",
        "newdata = np.squeeze(tmp_ni[k, :]) # Shape is now: (10, 80)\n",
        "plt.plot(newdata) # plotting by columns\n",
        "plt.show()\n",
        "\n",
        "newdata = np.squeeze(tX[m, k, :]) # Shape is now: (10, 80)\n",
        "plt.plot(newdata) # plotting by columns\n",
        "plt.show()\n",
        "print(ty[m])\n",
        "\n",
        "if ty[m] == 1: \n",
        "  after_tune = tX[m] + tmp_ac\n",
        "else: \n",
        "  after_tune = tX[m] + tmp_ni\n",
        "plt.plot(after_tune[k, :]) # plotting by columns\n",
        "plt.show()"
      ],
      "metadata": {
        "colab": {
          "base_uri": "https://localhost:8080/",
          "height": 1000
        },
        "id": "AYMpNE2b7830",
        "outputId": "4e2f21fa-8291-4a2e-fcef-b33f4cdfbd75"
      },
      "execution_count": 244,
      "outputs": [
        {
          "output_type": "display_data",
          "data": {
            "text/plain": [
              "<Figure size 432x288 with 1 Axes>"
            ],
            "image/png": "[encoded data removed]"
          },
          "metadata": {
            "needs_background": "light"
          }
        },
        {
          "output_type": "display_data",
          "data": {
            "text/plain": [
              "<Figure size 432x288 with 1 Axes>"
            ],
            "image/png": "[encoded data removed]"
          },
          "metadata": {
            "needs_background": "light"
          }
        },
        {
          "output_type": "display_data",
          "data": {
            "text/plain": [
              "<Figure size 432x288 with 1 Axes>"
            ],
            "image/png": "[encoded data removed]"
          },
          "metadata": {
            "needs_background": "light"
          }
        },
        {
          "output_type": "stream",
          "name": "stdout",
          "text": [
            "1\n"
          ]
        },
        {
          "output_type": "display_data",
          "data": {
            "text/plain": [
              "<Figure size 432x288 with 1 Axes>"
            ],
            "image/png": "[encoded data removed]"
          },
          "metadata": {
            "needs_background": "light"
          }
        }
      ]
    },
    {
      "cell_type": "code",
      "source": [
        "cnn_model = Sequential()\n",
        "cnn_model.add(Conv2D(8, kernel_size=(4, 40),activation='relu',input_shape=(10,101,1),padding='same'))\n",
        "# cnn_model.add(MaxPooling2D((2, 2),padding='same'))\n",
        "cnn_model.add(BatchNormalization(trainable = True))\n",
        "cnn_model.add(Dropout(0.2))\n",
        "\n",
        "cnn_model.add(Conv2D(16, (4, 80), activation='relu',padding='same'))\n",
        "# cnn_model.add(MaxPooling2D(pool_size=(2, 2),padding='same'))\n",
        "cnn_model.add(BatchNormalization(trainable = True))\n",
        "cnn_model.add(Dropout(0.25))\n",
        "\n",
        "cnn_model.add(Conv2D(32, (4, 80), activation='relu',padding='same'))         \n",
        "# cnn_model.add(MaxPooling2D(pool_size=(2, 2),padding='same'))\n",
        "cnn_model.add(BatchNormalization(trainable = True))\n",
        "cnn_model.add(Dropout(0.3))\n",
        "\n",
        "cnn_model.add(Flatten())\n",
        "cnn_model.add(Dense(128, activation='relu'))\n",
        "cnn_model.add(Dense(2, activation='sigmoid'))\n",
        "\n",
        "cnn_model.summary()"
      ],
      "metadata": {
        "colab": {
          "base_uri": "https://localhost:8080/"
        },
        "id": "eV29kaObNWf2",
        "outputId": "9fb18530-b00f-45c1-fead-bcf1cdc04f96"
      },
      "execution_count": 271,
      "outputs": [
        {
          "output_type": "stream",
          "name": "stdout",
          "text": [
            "Model: \"sequential_19\"\n",
            "_________________________________________________________________\n",
            " Layer (type)                Output Shape              Param #   \n",
            "=================================================================\n",
            " conv2d_57 (Conv2D)          (None, 10, 101, 8)        1288      \n",
            "                                                                 \n",
            " batch_normalization_46 (Bat  (None, 10, 101, 8)       32        \n",
            " chNormalization)                                                \n",
            "                                                                 \n",
            " dropout_54 (Dropout)        (None, 10, 101, 8)        0         \n",
            "                                                                 \n",
            " conv2d_58 (Conv2D)          (None, 10, 101, 16)       40976     \n",
            "                                                                 \n",
            " batch_normalization_47 (Bat  (None, 10, 101, 16)      64        \n",
            " chNormalization)                                                \n",
            "                                                                 \n",
            " dropout_55 (Dropout)        (None, 10, 101, 16)       0         \n",
            "                                                                 \n",
            " conv2d_59 (Conv2D)          (None, 10, 101, 32)       163872    \n",
            "                                                                 \n",
            " batch_normalization_48 (Bat  (None, 10, 101, 32)      128       \n",
            " chNormalization)                                                \n",
            "                                                                 \n",
            " dropout_56 (Dropout)        (None, 10, 101, 32)       0         \n",
            "                                                                 \n",
            " flatten_19 (Flatten)        (None, 32320)             0         \n",
            "                                                                 \n",
            " dense_38 (Dense)            (None, 128)               4137088   \n",
            "                                                                 \n",
            " dense_39 (Dense)            (None, 2)                 258       \n",
            "                                                                 \n",
            "=================================================================\n",
            "Total params: 4,343,706\n",
            "Trainable params: 4,343,594\n",
            "Non-trainable params: 112\n",
            "_________________________________________________________________\n"
          ]
        }
      ]
    }
  ],
  "metadata": {
    "colab": {
      "collapsed_sections": [
        "9JpGUmojfJD1",
        "sE94nxnpaDT0",
        "73u_N5c2vwkx",
        "xMjOyuxHfM8h",
        "lP1mw6jBhl0O",
        "g0I4h49AkgLN"
      ],
      "name": "Thesis-10x101.ipynb",
      "provenance": [],
      "mount_file_id": "1X-dlKg2O29bPFo9-VIho77dU8aSQ0JMr",
      "authorship_tag": "ABX9TyPB/Xl9griM7j4hkh/6KYMb"
    },
    "kernelspec": {
      "display_name": "Python 3",
      "name": "python3"
    },
    "language_info": {
      "name": "python"
    }
  },
  "nbformat": 4,
  "nbformat_minor": 0
}