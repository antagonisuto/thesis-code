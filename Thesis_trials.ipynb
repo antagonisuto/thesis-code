{
  "cells": [
    {
      "cell_type": "code",
      "execution_count": 2,
      "metadata": {
        "colab": {
          "base_uri": "https://localhost:8080/"
        },
        "id": "wOXE6bstFDrd",
        "outputId": "d7ec1c4d-d536-4fd0-fcef-69c1a9a8ece3"
      },
      "outputs": [
        {
          "output_type": "stream",
          "name": "stdout",
          "text": [
            "Collecting mne\n",
            "  Downloading mne-1.0.0-py3-none-any.whl (7.5 MB)\n",
            "\u001b[K     |████████████████████████████████| 7.5 MB 15.6 MB/s \n",
            "\u001b[?25hRequirement already satisfied: jinja2 in /usr/local/lib/python3.7/dist-packages (from mne) (2.11.3)\n",
            "Requirement already satisfied: packaging in /usr/local/lib/python3.7/dist-packages (from mne) (21.3)\n",
            "Requirement already satisfied: pooch>=1.5 in /usr/local/lib/python3.7/dist-packages (from mne) (1.6.0)\n",
            "Requirement already satisfied: scipy>=1.1.0 in /usr/local/lib/python3.7/dist-packages (from mne) (1.4.1)\n",
            "Requirement already satisfied: numpy>=1.15.4 in /usr/local/lib/python3.7/dist-packages (from mne) (1.21.5)\n",
            "Requirement already satisfied: matplotlib in /usr/local/lib/python3.7/dist-packages (from mne) (3.2.2)\n",
            "Requirement already satisfied: tqdm in /usr/local/lib/python3.7/dist-packages (from mne) (4.63.0)\n",
            "Requirement already satisfied: decorator in /usr/local/lib/python3.7/dist-packages (from mne) (4.4.2)\n",
            "Requirement already satisfied: requests>=2.19.0 in /usr/local/lib/python3.7/dist-packages (from pooch>=1.5->mne) (2.23.0)\n",
            "Requirement already satisfied: appdirs>=1.3.0 in /usr/local/lib/python3.7/dist-packages (from pooch>=1.5->mne) (1.4.4)\n",
            "Requirement already satisfied: pyparsing!=3.0.5,>=2.0.2 in /usr/local/lib/python3.7/dist-packages (from packaging->mne) (3.0.7)\n",
            "Requirement already satisfied: certifi>=2017.4.17 in /usr/local/lib/python3.7/dist-packages (from requests>=2.19.0->pooch>=1.5->mne) (2021.10.8)\n",
            "Requirement already satisfied: chardet<4,>=3.0.2 in /usr/local/lib/python3.7/dist-packages (from requests>=2.19.0->pooch>=1.5->mne) (3.0.4)\n",
            "Requirement already satisfied: urllib3!=1.25.0,!=1.25.1,<1.26,>=1.21.1 in /usr/local/lib/python3.7/dist-packages (from requests>=2.19.0->pooch>=1.5->mne) (1.24.3)\n",
            "Requirement already satisfied: idna<3,>=2.5 in /usr/local/lib/python3.7/dist-packages (from requests>=2.19.0->pooch>=1.5->mne) (2.10)\n",
            "Requirement already satisfied: MarkupSafe>=0.23 in /usr/local/lib/python3.7/dist-packages (from jinja2->mne) (2.0.1)\n",
            "Requirement already satisfied: kiwisolver>=1.0.1 in /usr/local/lib/python3.7/dist-packages (from matplotlib->mne) (1.4.0)\n",
            "Requirement already satisfied: python-dateutil>=2.1 in /usr/local/lib/python3.7/dist-packages (from matplotlib->mne) (2.8.2)\n",
            "Requirement already satisfied: cycler>=0.10 in /usr/local/lib/python3.7/dist-packages (from matplotlib->mne) (0.11.0)\n",
            "Requirement already satisfied: typing-extensions in /usr/local/lib/python3.7/dist-packages (from kiwisolver>=1.0.1->matplotlib->mne) (3.10.0.2)\n",
            "Requirement already satisfied: six>=1.5 in /usr/local/lib/python3.7/dist-packages (from python-dateutil>=2.1->matplotlib->mne) (1.15.0)\n",
            "Installing collected packages: mne\n",
            "Successfully installed mne-1.0.0\n"
          ]
        }
      ],
      "source": [
        "pip install mne"
      ]
    },
    {
      "cell_type": "code",
      "execution_count": 1,
      "metadata": {
        "id": "VjSlXtVgn4Mj"
      },
      "outputs": [],
      "source": [
        "import os\n",
        "import numpy as np\n",
        "import mne\n",
        "import matplotlib.pyplot as plt\n",
        "from mne.preprocessing import (ICA, corrmap)\n",
        "from scipy.stats import ttest_rel\n",
        "from tensorflow.keras import utils as np_utils\n",
        "from sklearn.utils import shuffle"
      ]
    },
    {
      "cell_type": "code",
      "execution_count": 2,
      "metadata": {
        "id": "kPMY77PVG67x"
      },
      "outputs": [],
      "source": [
        "dataPath = '/content/drive/MyDrive/databbci'"
      ]
    },
    {
      "cell_type": "code",
      "execution_count": 3,
      "metadata": {
        "colab": {
          "base_uri": "https://localhost:8080/"
        },
        "id": "yymPXXeiHBTa",
        "outputId": "7f0fd889-4366-4929-80d9-7e1a5bbd77cc"
      },
      "outputs": [
        {
          "output_type": "stream",
          "name": "stderr",
          "text": [
            "<ipython-input-3-e82f2427b298>:17: RuntimeWarning: Online software filter detected. Using software filter settings and ignoring hardware values\n",
            "  passive.append(mne.io.read_raw_brainvision(tmp, preload=True, verbose=False))\n",
            "<ipython-input-3-e82f2427b298>:15: RuntimeWarning: Online software filter detected. Using software filter settings and ignoring hardware values\n",
            "  active.append(mne.io.read_raw_brainvision(tmp, preload=True, verbose=False))\n",
            "<ipython-input-3-e82f2427b298>:19: RuntimeWarning: Online software filter detected. Using software filter settings and ignoring hardware values\n",
            "  cue.append(mne.io.read_raw_brainvision(tmp, preload=True, verbose=False))\n",
            "<ipython-input-3-e82f2427b298>:19: RuntimeWarning: Online software filter detected. Using software filter settings and ignoring hardware values\n",
            "  cue.append(mne.io.read_raw_brainvision(tmp, preload=True, verbose=False))\n",
            "<ipython-input-3-e82f2427b298>:17: RuntimeWarning: Online software filter detected. Using software filter settings and ignoring hardware values\n",
            "  passive.append(mne.io.read_raw_brainvision(tmp, preload=True, verbose=False))\n",
            "<ipython-input-3-e82f2427b298>:15: RuntimeWarning: Online software filter detected. Using software filter settings and ignoring hardware values\n",
            "  active.append(mne.io.read_raw_brainvision(tmp, preload=True, verbose=False))\n",
            "<ipython-input-3-e82f2427b298>:19: RuntimeWarning: Online software filter detected. Using software filter settings and ignoring hardware values\n",
            "  cue.append(mne.io.read_raw_brainvision(tmp, preload=True, verbose=False))\n",
            "<ipython-input-3-e82f2427b298>:19: RuntimeWarning: Online software filter detected. Using software filter settings and ignoring hardware values\n",
            "  cue.append(mne.io.read_raw_brainvision(tmp, preload=True, verbose=False))\n",
            "<ipython-input-3-e82f2427b298>:17: RuntimeWarning: Online software filter detected. Using software filter settings and ignoring hardware values\n",
            "  passive.append(mne.io.read_raw_brainvision(tmp, preload=True, verbose=False))\n",
            "<ipython-input-3-e82f2427b298>:15: RuntimeWarning: Online software filter detected. Using software filter settings and ignoring hardware values\n",
            "  active.append(mne.io.read_raw_brainvision(tmp, preload=True, verbose=False))\n",
            "<ipython-input-3-e82f2427b298>:19: RuntimeWarning: Online software filter detected. Using software filter settings and ignoring hardware values\n",
            "  cue.append(mne.io.read_raw_brainvision(tmp, preload=True, verbose=False))\n",
            "<ipython-input-3-e82f2427b298>:19: RuntimeWarning: Online software filter detected. Using software filter settings and ignoring hardware values\n",
            "  cue.append(mne.io.read_raw_brainvision(tmp, preload=True, verbose=False))\n"
          ]
        },
        {
          "output_type": "stream",
          "name": "stdout",
          "text": [
            "3\n"
          ]
        }
      ],
      "source": [
        "import os\n",
        "\n",
        "active = []\n",
        "passive = []\n",
        "cue = []\n",
        "\n",
        "\n",
        "data_number = 0\n",
        "for dir in os.listdir(dataPath):\n",
        "  for filename in os.listdir(os.path.join(dataPath, dir)):\n",
        "    #if filename.endswith(\".vhdr\"):\n",
        "    tmp = os.path.join(os.path.join(dataPath, dir), filename)\n",
        "      #with open(os.path.join(os.path.join(dataPath, dir), filename), 'r') as f: # open in readonly mode\n",
        "    if filename.endswith(\"active.vhdr\"):\n",
        "      active.append(mne.io.read_raw_brainvision(tmp, preload=True, verbose=False))\n",
        "    elif filename.endswith(\"passive.vhdr\"):\n",
        "      passive.append(mne.io.read_raw_brainvision(tmp, preload=True, verbose=False))\n",
        "    elif filename.endswith(\"cue.vhdr\"):\n",
        "      cue.append(mne.io.read_raw_brainvision(tmp, preload=True, verbose=False))\n",
        "print(len(active))"
      ]
    },
    {
      "cell_type": "markdown",
      "source": [
        "## Testinng data"
      ],
      "metadata": {
        "id": "c22mcJC-6b9g"
      }
    },
    {
      "cell_type": "code",
      "execution_count": 4,
      "metadata": {
        "colab": {
          "base_uri": "https://localhost:8080/"
        },
        "id": "jmhp-zSLTwgs",
        "outputId": "e4361c67-89b3-462f-df09-d3ec4bf5d142"
      },
      "outputs": [
        {
          "output_type": "stream",
          "name": "stdout",
          "text": [
            "<Info | 7 non-empty values\n",
            " bads: []\n",
            " ch_names: Fp1, Fp2, F3, Fz, F4, FC5, FC1, FCz, FC2, FC6, T7, C3, C1, Cz, ...\n",
            " chs: 32 EEG\n",
            " custom_ref_applied: False\n",
            " highpass: 0.0 Hz\n",
            " lowpass: 50.0 Hz\n",
            " meas_date: 2018-11-27 12:28:32 UTC\n",
            " nchan: 32\n",
            " projs: []\n",
            " sfreq: 100.0 Hz\n",
            ">\n"
          ]
        }
      ],
      "source": [
        "print(active[0].info)"
      ]
    },
    {
      "cell_type": "code",
      "execution_count": 5,
      "metadata": {
        "colab": {
          "base_uri": "https://localhost:8080/"
        },
        "id": "iFSxLLm-MUHt",
        "outputId": "81028a70-5f3b-4ab9-8719-ba097f95ed93"
      },
      "outputs": [
        {
          "output_type": "stream",
          "name": "stdout",
          "text": [
            "<Info | 7 non-empty values\n",
            " bads: []\n",
            " ch_names: F3, Fz, F4, C3, C1, Cz, C2, C4, Pz, Oz\n",
            " chs: 10 EEG\n",
            " custom_ref_applied: False\n",
            " highpass: 0.0 Hz\n",
            " lowpass: 50.0 Hz\n",
            " meas_date: 2018-11-27 12:28:32 UTC\n",
            " nchan: 10\n",
            " projs: []\n",
            " sfreq: 100.0 Hz\n",
            ">\n"
          ]
        }
      ],
      "source": [
        "#to test the methodology\n",
        "raw = active[0].copy()\n",
        "#print(raw.info)\n",
        "raw.pick_channels(['C1', 'Fz', 'C2', 'F3', 'F4', 'Pz', 'Oz', 'C3', 'Cz', 'C4'])\n",
        "print(raw.info)"
      ]
    },
    {
      "cell_type": "code",
      "execution_count": 6,
      "metadata": {
        "colab": {
          "base_uri": "https://localhost:8080/"
        },
        "id": "oFHdlcQbWjNn",
        "outputId": "89b78f9b-9f80-4618-fcfc-82fd20987bf5"
      },
      "outputs": [
        {
          "output_type": "stream",
          "name": "stdout",
          "text": [
            "Used Annotations descriptions: ['Comment/ControlBox is not connected via USB', 'Comment/actiCAP Data On', 'Comment/actiCAP USB Power On', 'New Segment/', 'Stimulus/S  1', 'Stimulus/S  2', 'Stimulus/S 14', 'Stimulus/S 15', 'Stimulus/S 77', 'Stimulus/S 78', 'Stimulus/S222']\n",
            "{'Comment/ControlBox is not connected via USB': 10001, 'Comment/actiCAP Data On': 10002, 'Comment/actiCAP USB Power On': 10003, 'New Segment/': 99999, 'Stimulus/S  1': 1, 'Stimulus/S  2': 2, 'Stimulus/S 14': 14, 'Stimulus/S 15': 15, 'Stimulus/S 77': 77, 'Stimulus/S 78': 78, 'Stimulus/S222': 222}\n",
            "1815\n"
          ]
        }
      ],
      "source": [
        "events_from_annot, event_dict = mne.events_from_annotations(raw)\n",
        "print(event_dict)\n",
        "print(events_from_annot.size)"
      ]
    },
    {
      "cell_type": "code",
      "execution_count": 6,
      "metadata": {
        "id": "Yt59XktQT-Pe"
      },
      "outputs": [],
      "source": [
        "# file = fullfile(fDir, files{2});\n",
        "# marker={'1' , 'active'; '2', 'ignore'};\n",
        "# [EEG.data, EEG.marker, EEG.info]=Load_EEG(file,{'device','brainVision';'marker', marker;});\n",
        "# CNT_2 = opt_eegStruct({EEG.data, EEG.marker, EEG.info}, field);\n",
        "# CNT_2 = prep_selectChannels(CNT_2, {'Name',{'C1', 'Fz', 'C2', 'F3', 'F4', 'Pz', 'Oz', 'C3', 'Cz', 'C4'}})\n",
        "# CNT_2=prep_filter(CNT_2, {'frequency', [0.4 40]});\n",
        "# SMT_2=prep_segmentation(CNT_2, {'interval', [-290 1000]});\n",
        "# SMT_2=prep_baseline(SMT_2, {'Time', [-100 0]});\n",
        "\n",
        "# Set common average reference\n",
        "#raw.set_eeg_reference('average', projection=False, verbose=False)\n",
        "\n",
        "# Apply bandpass filter\n",
        "raw.filter(l_freq=0.4, h_freq=40, fir_design='firwin', verbose=False)\n",
        "#raw.filter(l_freq=0.4, h_freq=40, method = 'iir', verbose=False)\n",
        "\n",
        "events, _ = mne.events_from_annotations(raw, verbose=False)\n",
        "tmin, tmax = -0., 1.  # in s\n",
        "baseline = (None, 0)\n"
      ]
    },
    {
      "cell_type": "code",
      "execution_count": null,
      "metadata": {
        "colab": {
          "base_uri": "https://localhost:8080/"
        },
        "id": "p4Qsfq4JZ5V2",
        "outputId": "ac20077f-0016-497b-fcb2-0ff4e6444b92"
      },
      "outputs": [
        {
          "name": "stdout",
          "output_type": "stream",
          "text": [
            "[[     0      0  99999]\n",
            " [     2      0  10002]\n",
            " [  4113      0     77]\n",
            " ...\n",
            " [131525      0     78]\n",
            " [133526      0     14]\n",
            " [133827      0    222]]\n"
          ]
        }
      ],
      "source": [
        "print(events)"
      ]
    },
    {
      "cell_type": "code",
      "execution_count": 8,
      "metadata": {
        "colab": {
          "base_uri": "https://localhost:8080/"
        },
        "id": "hvUYheklZw9L",
        "outputId": "1a70e97f-82ca-4eb1-c832-f711122826e9"
      },
      "outputs": [
        {
          "output_type": "stream",
          "name": "stdout",
          "text": [
            "1620\n",
            "{'active': 1, 'ignore': 2}\n"
          ]
        }
      ],
      "source": [
        "event_dict = {'active': 1, 'ignore': 2}\n",
        "epochs = mne.Epochs(\n",
        "    raw, events=events,\n",
        "    event_id=event_dict, tmin=tmin,\n",
        "    tmax=tmax, baseline=None, preload = True, verbose=False)\n",
        "print(epochs.events.size)\n",
        "print(epochs.event_id)"
      ]
    },
    {
      "cell_type": "markdown",
      "metadata": {
        "id": "9JpGUmojfJD1"
      },
      "source": [
        "## All data load"
      ]
    },
    {
      "cell_type": "code",
      "execution_count": 4,
      "metadata": {
        "id": "IbzHDX8rfLbI"
      },
      "outputs": [],
      "source": [
        "def raw_to_data(raw, non_active = 0):\n",
        "  raw.pick_channels(['C1', 'Fz', 'C2', 'F3', 'F4', 'Pz', 'Oz', 'C3', 'Cz', 'C4'])\n",
        "  raw.filter(l_freq=0.4, h_freq=40, fir_design='firwin', verbose=False)\n",
        "  #raw.filter(l_freq=0.4, h_freq=40, method = 'iir', verbose=False)\n",
        "\n",
        "  events, _ = mne.events_from_annotations(raw, verbose=False)\n",
        "  tmin, tmax = -0., 1.  # in s\n",
        "  baseline = (None, 0)\n",
        "\n",
        "  #passive -> ignore \n",
        "  #cue -> active\n",
        "  # -> active, ignore\n",
        "  event_dict = {'active': 1, 'ignore': 2}\n",
        "  if non_active != 0:\n",
        "    event_dict.clear()\n",
        "    if non_active == 1: #passive\n",
        "      event_dict = {'ignore': 2}\n",
        "    else: # cue\n",
        "      event_dict = {'active': 1}\n",
        "  \n",
        "  epochs = mne.Epochs(\n",
        "    raw, events=events,\n",
        "    event_id=event_dict, tmin=tmin,\n",
        "    tmax=tmax, baseline=None, preload = True, verbose=False)\n",
        "  # print(epochs.events.size)\n",
        "  # print(epochs.event_id)\n",
        "  # {'active': 1, 'ignore': 2}\n",
        "\n",
        "  #preprocessing\n",
        "  filt_raw = raw.copy().filter(l_freq=1., h_freq=None)\n",
        "  ica = ICA(n_components=10, max_iter='auto', random_state=97)\n",
        "  ica.fit(epochs)\n",
        "\n",
        "  X = epochs.get_data()*1000  # MEG signals: n_epochs, n_meg_channels, n_times\n",
        "  y = epochs.events[:, 2]  # target: auditory left vs visual left\n",
        "  #print(X.shape, y.shape)\n",
        "\n",
        "  return X, y"
      ]
    },
    {
      "cell_type": "markdown",
      "source": [
        "##Data dividing"
      ],
      "metadata": {
        "id": "JpCBCEoa6hyr"
      }
    },
    {
      "cell_type": "code",
      "execution_count": 7,
      "metadata": {
        "colab": {
          "base_uri": "https://localhost:8080/"
        },
        "id": "vCYy55lDjCsK",
        "outputId": "912f18b9-3e3e-42b8-d599-92c4260f1a4b"
      },
      "outputs": [
        {
          "output_type": "stream",
          "name": "stdout",
          "text": [
            "Filtering raw data in 1 contiguous segment\n",
            "Setting up high-pass filter at 1 Hz\n",
            "\n",
            "FIR filter parameters\n",
            "---------------------\n",
            "Designing a one-pass, zero-phase, non-causal highpass filter:\n",
            "- Windowed time-domain design (firwin) method\n",
            "- Hamming window with 0.0194 passband ripple and 53 dB stopband attenuation\n",
            "- Lower passband edge: 1.00\n",
            "- Lower transition bandwidth: 1.00 Hz (-6 dB cutoff frequency: 0.50 Hz)\n",
            "- Filter length: 331 samples (3.310 sec)\n",
            "\n",
            "Fitting ICA to data using 10 channels (please be patient, this may take a while)\n",
            "Selecting by number: 10 components\n",
            "Fitting ICA took 1.8s.\n"
          ]
        },
        {
          "output_type": "execute_result",
          "data": {
            "text/plain": [
              "((540, 10, 101), (540,))"
            ]
          },
          "metadata": {},
          "execution_count": 7
        }
      ],
      "source": [
        "train_X, train_y = raw_to_data(active[0], 0)\n",
        "\n",
        "train_X.shape, train_y.shape"
      ]
    },
    {
      "cell_type": "code",
      "execution_count": 8,
      "metadata": {
        "colab": {
          "base_uri": "https://localhost:8080/"
        },
        "id": "6I9bONgIjm6I",
        "outputId": "37a45264-9294-4138-a071-a15203e9bacf"
      },
      "outputs": [
        {
          "output_type": "stream",
          "name": "stdout",
          "text": [
            "Filtering raw data in 1 contiguous segment\n",
            "Setting up high-pass filter at 1 Hz\n",
            "\n",
            "FIR filter parameters\n",
            "---------------------\n",
            "Designing a one-pass, zero-phase, non-causal highpass filter:\n",
            "- Windowed time-domain design (firwin) method\n",
            "- Hamming window with 0.0194 passband ripple and 53 dB stopband attenuation\n",
            "- Lower passband edge: 1.00\n",
            "- Lower transition bandwidth: 1.00 Hz (-6 dB cutoff frequency: 0.50 Hz)\n",
            "- Filter length: 331 samples (3.310 sec)\n",
            "\n",
            "Fitting ICA to data using 10 channels (please be patient, this may take a while)\n",
            "Selecting by number: 10 components\n",
            "Fitting ICA took 0.4s.\n"
          ]
        },
        {
          "output_type": "execute_result",
          "data": {
            "text/plain": [
              "((180, 10, 101), (180,))"
            ]
          },
          "metadata": {},
          "execution_count": 8
        }
      ],
      "source": [
        "pas_X, pas_y = raw_to_data(passive[0], 1) #passive = 1\n",
        "pas_X.shape, pas_y.shape"
      ]
    },
    {
      "cell_type": "code",
      "execution_count": 9,
      "metadata": {
        "colab": {
          "base_uri": "https://localhost:8080/"
        },
        "id": "Ak2AjQ9Rj4Hl",
        "outputId": "db6fca01-bdc6-4702-e0ae-4e3f1bb585d8"
      },
      "outputs": [
        {
          "output_type": "stream",
          "name": "stdout",
          "text": [
            "Filtering raw data in 1 contiguous segment\n",
            "Setting up high-pass filter at 1 Hz\n",
            "\n",
            "FIR filter parameters\n",
            "---------------------\n",
            "Designing a one-pass, zero-phase, non-causal highpass filter:\n",
            "- Windowed time-domain design (firwin) method\n",
            "- Hamming window with 0.0194 passband ripple and 53 dB stopband attenuation\n",
            "- Lower passband edge: 1.00\n",
            "- Lower transition bandwidth: 1.00 Hz (-6 dB cutoff frequency: 0.50 Hz)\n",
            "- Filter length: 331 samples (3.310 sec)\n",
            "\n",
            "Fitting ICA to data using 10 channels (please be patient, this may take a while)\n",
            "Selecting by number: 10 components\n",
            "Fitting ICA took 0.2s.\n"
          ]
        },
        {
          "output_type": "execute_result",
          "data": {
            "text/plain": [
              "((100, 10, 101), (100,))"
            ]
          },
          "metadata": {},
          "execution_count": 9
        }
      ],
      "source": [
        "cue_X, cue_y = raw_to_data(cue[0],2)\n",
        "cue_X.shape, cue_y.shape"
      ]
    },
    {
      "cell_type": "code",
      "execution_count": 10,
      "metadata": {
        "colab": {
          "base_uri": "https://localhost:8080/"
        },
        "id": "d-r1bn0xkEFz",
        "outputId": "5525f64f-265f-4fc1-f895-18d4588af694"
      },
      "outputs": [
        {
          "output_type": "execute_result",
          "data": {
            "text/plain": [
              "((280, 10, 101), (280, 2))"
            ]
          },
          "metadata": {},
          "execution_count": 10
        }
      ],
      "source": [
        "test_X = np.append(cue_X, pas_X, axis = 0)\n",
        "test_y = np.append(cue_y, pas_y, axis = 0)\n",
        "test_y = np_utils.to_categorical(test_y-1)\n",
        "\n",
        "test_X, test_y = shuffle(test_X, test_y, random_state=0)\n",
        "test_X.shape, test_y.shape"
      ]
    },
    {
      "cell_type": "markdown",
      "metadata": {
        "id": "sE94nxnpaDT0"
      },
      "source": [
        "## Preprocessing"
      ]
    },
    {
      "cell_type": "code",
      "execution_count": 23,
      "metadata": {
        "colab": {
          "base_uri": "https://localhost:8080/",
          "height": 421
        },
        "id": "CJrhvhg7EqDM",
        "outputId": "007a4552-4aad-4db5-dd31-1b174ca7d7db"
      },
      "outputs": [
        {
          "output_type": "stream",
          "name": "stdout",
          "text": [
            "Filtering raw data in 1 contiguous segment\n",
            "Setting up high-pass filter at 1 Hz\n",
            "\n",
            "FIR filter parameters\n",
            "---------------------\n",
            "Designing a one-pass, zero-phase, non-causal highpass filter:\n",
            "- Windowed time-domain design (firwin) method\n",
            "- Hamming window with 0.0194 passband ripple and 53 dB stopband attenuation\n",
            "- Lower passband edge: 1.00\n",
            "- Lower transition bandwidth: 1.00 Hz (-6 dB cutoff frequency: 0.50 Hz)\n",
            "- Filter length: 331 samples (3.310 sec)\n",
            "\n",
            "Fitting ICA to data using 10 channels (please be patient, this may take a while)\n",
            "Selecting by number: 10 components\n",
            "Fitting ICA took 1.4s.\n"
          ]
        },
        {
          "output_type": "execute_result",
          "data": {
            "text/plain": [
              "<ICA | epochs decomposition, method: fastica (fit in 32 iterations on 54540 samples), 10 ICA components explaining 100.0 % of variance (10 PCA components available), channel types: eeg, no sources marked for exclusion>"
            ],
            "text/html": [
              "<table class=\"table table-hover table-striped table-sm table-responsive small\">\n",
              "    <tr>\n",
              "        <th>Method</th>\n",
              "        <td>fastica</td>\n",
              "    </tr>\n",
              "    <tr>\n",
              "        <th>Fit</th>\n",
              "        <td>32 iterations on epochs (54540 samples)</td>\n",
              "    </tr>\n",
              "    \n",
              "    <tr>\n",
              "        <th>ICA components</th>\n",
              "        <td>10</td>\n",
              "    </tr>\n",
              "    <tr>\n",
              "        <th>Explained variance</th>\n",
              "        <td>100.0&nbsp;%</td>\n",
              "    </tr>\n",
              "    <tr>\n",
              "        <th>Available PCA components</th>\n",
              "        <td>10</td>\n",
              "    </tr>\n",
              "    <tr>\n",
              "        <th>Channel types</th>\n",
              "        <td>eeg</td>\n",
              "    </tr>\n",
              "    <tr>\n",
              "        <th>ICA components marked for exclusion</th>\n",
              "        <td>&mdash;</td>\n",
              "    </tr>\n",
              "    \n",
              "</table>"
            ]
          },
          "metadata": {},
          "execution_count": 23
        }
      ],
      "source": [
        "from mne.preprocessing import (ICA, corrmap)\n",
        "filt_raw = raw.copy().filter(l_freq=1., h_freq=None)\n",
        "ica = ICA(n_components=10, max_iter='auto', random_state=97)\n",
        "ica.fit(epochs)\n"
      ]
    },
    {
      "cell_type": "code",
      "execution_count": 24,
      "metadata": {
        "colab": {
          "base_uri": "https://localhost:8080/",
          "height": 744
        },
        "id": "mYqyn8zCHn5w",
        "outputId": "4445e71d-bbf8-4e8d-bacc-3e41fabab3bf"
      },
      "outputs": [
        {
          "output_type": "stream",
          "name": "stdout",
          "text": [
            "Creating RawArray with float64 data, n_channels=10, n_times=134184\n",
            "    Range : 0 ... 134183 =      0.000 ...  1341.830 secs\n",
            "Ready.\n",
            "Using matplotlib as 2D backend.\n",
            "Opening ica-browser...\n"
          ]
        },
        {
          "output_type": "stream",
          "name": "stderr",
          "text": [
            "/usr/local/lib/python3.7/dist-packages/matplotlib/colors.py:263: VisibleDeprecationWarning: Creating an ndarray from ragged nested sequences (which is a list-or-tuple of lists-or-tuples-or ndarrays with different lengths or shapes) is deprecated. If you meant to do this, you must specify 'dtype=object' when creating the ndarray.\n",
            "  c = np.array(c)\n"
          ]
        },
        {
          "output_type": "display_data",
          "data": {
            "text/plain": [
              "<MNEBrowseFigure size 576x576 with 4 Axes>"
            ],
            "image/png": "[encoded data removed]"
          },
          "metadata": {
            "needs_background": "light"
          }
        }
      ],
      "source": [
        "raw.load_data()\n",
        "ica.plot_sources(raw, show_scrollbars=False);"
      ]
    },
    {
      "cell_type": "code",
      "execution_count": 25,
      "metadata": {
        "colab": {
          "base_uri": "https://localhost:8080/",
          "height": 369
        },
        "id": "OuOOq4T1Hv8q",
        "outputId": "9b91ef37-25ff-4cde-f6d7-fa80ef23408e"
      },
      "outputs": [
        {
          "output_type": "stream",
          "name": "stdout",
          "text": [
            "Applying ICA to Raw instance\n",
            "    Transforming to ICA space (10 components)\n",
            "    Zeroing out 1 ICA component\n",
            "    Projecting back using 10 PCA components\n"
          ]
        },
        {
          "output_type": "display_data",
          "data": {
            "text/plain": [
              "<Figure size 432x288 with 2 Axes>"
            ],
            "image/png": "[encoded data removed]"
          },
          "metadata": {
            "needs_background": "light"
          }
        }
      ],
      "source": [
        "ica.plot_overlay(raw, exclude=[0], picks='eeg');"
      ]
    },
    {
      "cell_type": "markdown",
      "metadata": {
        "id": "73u_N5c2vwkx"
      },
      "source": [
        "## Models LDA"
      ]
    },
    {
      "cell_type": "code",
      "execution_count": 12,
      "metadata": {
        "colab": {
          "base_uri": "https://localhost:8080/",
          "height": 198
        },
        "id": "CVDKtszExBGM",
        "outputId": "c67de922-bc4a-490b-9520-d87ca2ebfe18"
      },
      "outputs": [
        {
          "output_type": "error",
          "ename": "NameError",
          "evalue": "ignored",
          "traceback": [
            "\u001b[0;31m---------------------------------------------------------------------------\u001b[0m",
            "\u001b[0;31mNameError\u001b[0m                                 Traceback (most recent call last)",
            "\u001b[0;32m<ipython-input-12-6085831ae545>\u001b[0m in \u001b[0;36m<module>\u001b[0;34m()\u001b[0m\n\u001b[0;32m----> 1\u001b[0;31m \u001b[0mX\u001b[0m \u001b[0;34m=\u001b[0m \u001b[0mepochs\u001b[0m\u001b[0;34m.\u001b[0m\u001b[0mget_data\u001b[0m\u001b[0;34m(\u001b[0m\u001b[0;34m)\u001b[0m  \u001b[0;31m# MEG signals: n_epochs, n_meg_channels, n_times\u001b[0m\u001b[0;34m\u001b[0m\u001b[0;34m\u001b[0m\u001b[0m\n\u001b[0m\u001b[1;32m      2\u001b[0m \u001b[0my\u001b[0m \u001b[0;34m=\u001b[0m \u001b[0mepochs\u001b[0m\u001b[0;34m.\u001b[0m\u001b[0mevents\u001b[0m\u001b[0;34m[\u001b[0m\u001b[0;34m:\u001b[0m\u001b[0;34m,\u001b[0m \u001b[0;36m2\u001b[0m\u001b[0;34m]\u001b[0m  \u001b[0;31m# target: auditory left vs visual left\u001b[0m\u001b[0;34m\u001b[0m\u001b[0;34m\u001b[0m\u001b[0m\n\u001b[1;32m      3\u001b[0m \u001b[0mprint\u001b[0m\u001b[0;34m(\u001b[0m\u001b[0mX\u001b[0m\u001b[0;34m.\u001b[0m\u001b[0mshape\u001b[0m\u001b[0;34m,\u001b[0m \u001b[0my\u001b[0m\u001b[0;34m.\u001b[0m\u001b[0mshape\u001b[0m\u001b[0;34m)\u001b[0m\u001b[0;34m\u001b[0m\u001b[0;34m\u001b[0m\u001b[0m\n",
            "\u001b[0;31mNameError\u001b[0m: name 'epochs' is not defined"
          ]
        }
      ],
      "source": [
        "X = epochs.get_data()  # MEG signals: n_epochs, n_meg_channels, n_times\n",
        "y = epochs.events[:, 2]  # target: auditory left vs visual left\n",
        "print(X.shape, y.shape)"
      ]
    },
    {
      "cell_type": "code",
      "execution_count": 15,
      "metadata": {
        "colab": {
          "base_uri": "https://localhost:8080/"
        },
        "id": "Tl92GRXJb_MY",
        "outputId": "a4dcc2fb-2e24-4578-e89c-b232d99714d7"
      },
      "outputs": [
        {
          "output_type": "stream",
          "name": "stdout",
          "text": [
            "(540, 1010) (280, 1010)\n"
          ]
        }
      ],
      "source": [
        "train_lda = train_X.copy().reshape(540,-1)\n",
        "test_lda = test_X.copy().reshape(280, -1)\n",
        "print(train_lda.shape, test_lda.shape)\n"
      ]
    },
    {
      "cell_type": "code",
      "execution_count": 16,
      "metadata": {
        "colab": {
          "base_uri": "https://localhost:8080/"
        },
        "id": "qW1Zs63SbFGu",
        "outputId": "3fce42b4-6c45-4534-ed6d-381fe6109d23"
      },
      "outputs": [
        {
          "output_type": "execute_result",
          "data": {
            "text/plain": [
              "LinearDiscriminantAnalysis()"
            ]
          },
          "metadata": {},
          "execution_count": 16
        }
      ],
      "source": [
        "import numpy as np\n",
        "from sklearn.discriminant_analysis import LinearDiscriminantAnalysis\n",
        "from sklearn.discriminant_analysis import LinearDiscriminantAnalysis as LDA\n",
        "\n",
        "# LDA\n",
        "clf = LinearDiscriminantAnalysis()\n",
        "clf.fit(train_lda, train_y)"
      ]
    },
    {
      "cell_type": "code",
      "execution_count": 17,
      "metadata": {
        "colab": {
          "base_uri": "https://localhost:8080/"
        },
        "id": "xzr4nkEfdQOK",
        "outputId": "8af07438-2609-4ebc-dc6c-dcbc63624e79"
      },
      "outputs": [
        {
          "output_type": "stream",
          "name": "stdout",
          "text": [
            "[[ 66  34]\n",
            " [ 65 115]]\n",
            "Accuracy0.6464285714285715\n"
          ]
        }
      ],
      "source": [
        "from sklearn.metrics import confusion_matrix\n",
        "from sklearn.metrics import accuracy_score\n",
        "\n",
        "y_pred = clf.predict(test_lda)\n",
        "cm = confusion_matrix(test_y, y_pred)\n",
        "print(cm)\n",
        "print('Accuracy' + str(accuracy_score(test_y, y_pred)))"
      ]
    },
    {
      "cell_type": "code",
      "source": [
        "import seaborn as sns\n",
        "\n",
        "ax = sns.heatmap(cm/np.sum(cm), annot=True, \n",
        "            fmt='.2%', cmap='Blues')\n",
        "\n",
        "ax.set_title('LDA Confusion Matrix\\n\\n');\n",
        "ax.set_xlabel('\\nPredicted Values')\n",
        "ax.set_ylabel('Actual Values ');\n",
        "\n",
        "## Ticket labels - List must be in alphabetical order\n",
        "ax.xaxis.set_ticklabels(['NI','AC'])\n",
        "ax.yaxis.set_ticklabels(['NI','AC'])\n",
        "\n",
        "## Display the visualization of the Confusion Matrix.\n",
        "plt.show()"
      ],
      "metadata": {
        "colab": {
          "base_uri": "https://localhost:8080/",
          "height": 337
        },
        "id": "joyDEGixyK9v",
        "outputId": "c7c35432-f8fc-4385-955d-80a4436c4dc3"
      },
      "execution_count": 22,
      "outputs": [
        {
          "output_type": "display_data",
          "data": {
            "text/plain": [
              "<Figure size 432x288 with 2 Axes>"
            ],
            "image/png": "[encoded data removed]"
          },
          "metadata": {
            "needs_background": "light"
          }
        }
      ]
    },
    {
      "cell_type": "markdown",
      "metadata": {
        "id": "K-ieobtbpErz"
      },
      "source": [
        "## CNN"
      ]
    },
    {
      "cell_type": "code",
      "execution_count": 11,
      "metadata": {
        "colab": {
          "base_uri": "https://localhost:8080/"
        },
        "id": "X59LQ1fypIIF",
        "outputId": "5b0212ac-2dd4-44f7-a81e-be1a207daa08"
      },
      "outputs": [
        {
          "output_type": "execute_result",
          "data": {
            "text/plain": [
              "((540, 10, 101, 1), (280, 10, 101, 1))"
            ]
          },
          "metadata": {},
          "execution_count": 11
        }
      ],
      "source": [
        "train_X = train_X.reshape(-1, 10,101, 1)\n",
        "test_X = test_X.reshape(-1, 10,101, 1)\n",
        "train_X.shape, test_X.shape"
      ]
    },
    {
      "cell_type": "code",
      "execution_count": 12,
      "metadata": {
        "colab": {
          "base_uri": "https://localhost:8080/"
        },
        "id": "DtaqwrHDqJUc",
        "outputId": "1005420d-a375-45ca-98b9-d54945e0a701"
      },
      "outputs": [
        {
          "output_type": "stream",
          "name": "stdout",
          "text": [
            "Total number of outputs :  2\n",
            "Output classes :  [1 2]\n"
          ]
        }
      ],
      "source": [
        "classes = np.unique(train_y)\n",
        "nClasses = len(classes)\n",
        "print('Total number of outputs : ', nClasses)\n",
        "print('Output classes : ', classes)"
      ]
    },
    {
      "cell_type": "code",
      "execution_count": 13,
      "metadata": {
        "id": "ltoEvcC9quMq"
      },
      "outputs": [],
      "source": [
        "from sklearn.model_selection import train_test_split\n",
        "train_X,valid_X,train_label,valid_label = train_test_split(train_X, train_y, test_size=0.2, random_state=13)"
      ]
    },
    {
      "cell_type": "code",
      "source": [
        "from collections import Counter\n",
        "\n",
        "n = Counter(train_label)\n",
        "ratio = int(n[1]/n[2])\n",
        "print(ratio, n)\n",
        "\n",
        "train_label_categorical = np_utils.to_categorical(train_label-1)\n",
        "valid_label_categorical = np_utils.to_categorical(valid_label-1)"
      ],
      "metadata": {
        "colab": {
          "base_uri": "https://localhost:8080/"
        },
        "id": "wEQfASro98Vq",
        "outputId": "f13c4f93-1ca5-4e49-ecc6-484daaa68085"
      },
      "execution_count": 14,
      "outputs": [
        {
          "output_type": "stream",
          "name": "stdout",
          "text": [
            "2 Counter({1: 288, 2: 144})\n"
          ]
        }
      ]
    },
    {
      "cell_type": "code",
      "source": [
        "class_weights={0:1, 1:2}\n",
        "class_weights"
      ],
      "metadata": {
        "colab": {
          "base_uri": "https://localhost:8080/"
        },
        "id": "vxQhvUEj_B0s",
        "outputId": "77b393bf-8f42-49b1-8cf2-3bb3c5d8219e"
      },
      "execution_count": 15,
      "outputs": [
        {
          "output_type": "execute_result",
          "data": {
            "text/plain": [
              "{0: 1, 1: 2}"
            ]
          },
          "metadata": {},
          "execution_count": 15
        }
      ]
    },
    {
      "cell_type": "code",
      "execution_count": 16,
      "metadata": {
        "colab": {
          "base_uri": "https://localhost:8080/"
        },
        "id": "UEshL9J7q9Jp",
        "outputId": "3abf1e70-1014-449e-b13b-6cdf0abe260d"
      },
      "outputs": [
        {
          "output_type": "execute_result",
          "data": {
            "text/plain": [
              "((432, 10, 101, 1), (108, 10, 101, 1), (432, 2), (108, 2))"
            ]
          },
          "metadata": {},
          "execution_count": 16
        }
      ],
      "source": [
        "train_X.shape, valid_X.shape, train_label_categorical.shape, valid_label_categorical.shape"
      ]
    },
    {
      "cell_type": "code",
      "source": [
        "np.sum(train_label, axis=0)"
      ],
      "metadata": {
        "colab": {
          "base_uri": "https://localhost:8080/"
        },
        "id": "bVjzn3Nl6lkV",
        "outputId": "da4b946f-afd8-4be2-dae0-efe415211891"
      },
      "execution_count": 14,
      "outputs": [
        {
          "output_type": "execute_result",
          "data": {
            "text/plain": [
              "576"
            ]
          },
          "metadata": {},
          "execution_count": 14
        }
      ]
    },
    {
      "cell_type": "code",
      "execution_count": 17,
      "metadata": {
        "id": "cqDSKEyxrBx9"
      },
      "outputs": [],
      "source": [
        "import keras\n",
        "from keras.models import Sequential,Input,Model\n",
        "from keras.layers import Dense, Dropout, Flatten\n",
        "from keras.layers import Conv2D, MaxPooling2D\n",
        "from tensorflow.keras.layers import BatchNormalization\n",
        "from keras.layers.advanced_activations import LeakyReLU\n",
        "import tensorflow as tf"
      ]
    },
    {
      "cell_type": "code",
      "execution_count": 18,
      "metadata": {
        "id": "N0L3UjXerMEH"
      },
      "outputs": [],
      "source": [
        "batch_size = 16\n",
        "epochs = 100\n",
        "num_classes = 2"
      ]
    },
    {
      "cell_type": "code",
      "execution_count": null,
      "metadata": {
        "id": "pURcL-4ev6OV"
      },
      "outputs": [],
      "source": [
        "# layers = [\n",
        "#     imageInputLayer([S_t 10 1])\n",
        "    \n",
        "#     convolution2dLayer([40, 4],8,'Padding','same')\n",
        "#     batchNormalizationLayer\n",
        "#     reluLayer\n",
        "#     dropoutLayer\n",
        "    \n",
        "# %     maxPooling2dLayer(2,'Stride',2)\n",
        "    \n",
        "#     convolution2dLayer([80, 4],16,'Padding','same')\n",
        "#     batchNormalizationLayer\n",
        "#     reluLayer\n",
        "#     dropoutLayer\n",
        "    \n",
        "# %     maxPooling2dLayer(2,'Stride',2)\n",
        "    \n",
        "#     convolution2dLayer([80, 4],32,'Padding','same')\n",
        "#     batchNormalizationLayer\n",
        "#     reluLayer\n",
        "    \n",
        "#     fullyConnectedLayer(2)\n",
        "#     softmaxLayer\n",
        "#     classificationLayer];"
      ]
    },
    {
      "cell_type": "code",
      "execution_count": 19,
      "metadata": {
        "id": "kF2CtJJ7rOny"
      },
      "outputs": [],
      "source": [
        "cnn_model = Sequential()\n",
        "cnn_model.add(Conv2D(8, kernel_size=(40, 4),activation='relu',input_shape=(10,101,1),padding='same'))\n",
        "# cnn_model.add(MaxPooling2D((2, 2),padding='same'))\n",
        "cnn_model.add(BatchNormalization())\n",
        "cnn_model.add(Dropout(0.25))\n",
        "\n",
        "cnn_model.add(Conv2D(16, (80, 4), activation='relu',padding='same'))\n",
        "# cnn_model.add(MaxPooling2D(pool_size=(2, 2),padding='same'))\n",
        "cnn_model.add(BatchNormalization())\n",
        "cnn_model.add(Dropout(0.25))\n",
        "\n",
        "cnn_model.add(Conv2D(32, (80, 4), activation='relu',padding='same'))         \n",
        "# cnn_model.add(MaxPooling2D(pool_size=(2, 2),padding='same'))\n",
        "cnn_model.add(BatchNormalization())\n",
        "cnn_model.add(Dropout(0.25))\n",
        "\n",
        "cnn_model.add(Flatten())\n",
        "cnn_model.add(Dense(128, activation='relu'))\n",
        "cnn_model.add(Dense(num_classes, activation='sigmoid'))"
      ]
    },
    {
      "cell_type": "code",
      "source": [
        "from tensorflow.keras.callbacks import ModelCheckpoint\n",
        "\n",
        "# set a valid path for your system to record model checkpoints\n",
        "checkpointer = ModelCheckpoint(filepath='/tmp/checkpoint.h5', verbose=1,\n",
        "                               save_best_only=True)"
      ],
      "metadata": {
        "id": "UCPp4x1l4y0O"
      },
      "execution_count": 24,
      "outputs": []
    },
    {
      "cell_type": "code",
      "execution_count": 25,
      "metadata": {
        "id": "uoygGKUgrXdv",
        "colab": {
          "base_uri": "https://localhost:8080/"
        },
        "outputId": "d9e7baee-d563-4769-e139-428e9bcaad0f"
      },
      "outputs": [
        {
          "output_type": "stream",
          "name": "stderr",
          "text": [
            "/usr/local/lib/python3.7/dist-packages/keras/optimizer_v2/gradient_descent.py:102: UserWarning: The `lr` argument is deprecated, use `learning_rate` instead.\n",
            "  super(SGD, self).__init__(name, **kwargs)\n"
          ]
        }
      ],
      "source": [
        "from tensorflow.keras.optimizers import SGD\n",
        "opt = SGD(lr=0.01)\n",
        "\n",
        "cnn_model.compile(optimizer=opt,\n",
        "          loss = \"categorical_crossentropy\",\n",
        "          metrics=['accuracy'])"
      ]
    },
    {
      "cell_type": "code",
      "execution_count": 26,
      "metadata": {
        "colab": {
          "base_uri": "https://localhost:8080/"
        },
        "id": "6Q75ThggrvYR",
        "outputId": "e69e56c3-0022-4777-be75-b8d07c47c078"
      },
      "outputs": [
        {
          "output_type": "stream",
          "name": "stdout",
          "text": [
            "Model: \"sequential\"\n",
            "_________________________________________________________________\n",
            " Layer (type)                Output Shape              Param #   \n",
            "=================================================================\n",
            " conv2d (Conv2D)             (None, 10, 101, 8)        1288      \n",
            "                                                                 \n",
            " batch_normalization (BatchN  (None, 10, 101, 8)       32        \n",
            " ormalization)                                                   \n",
            "                                                                 \n",
            " dropout (Dropout)           (None, 10, 101, 8)        0         \n",
            "                                                                 \n",
            " conv2d_1 (Conv2D)           (None, 10, 101, 16)       40976     \n",
            "                                                                 \n",
            " batch_normalization_1 (Batc  (None, 10, 101, 16)      64        \n",
            " hNormalization)                                                 \n",
            "                                                                 \n",
            " dropout_1 (Dropout)         (None, 10, 101, 16)       0         \n",
            "                                                                 \n",
            " conv2d_2 (Conv2D)           (None, 10, 101, 32)       163872    \n",
            "                                                                 \n",
            " batch_normalization_2 (Batc  (None, 10, 101, 32)      128       \n",
            " hNormalization)                                                 \n",
            "                                                                 \n",
            " dropout_2 (Dropout)         (None, 10, 101, 32)       0         \n",
            "                                                                 \n",
            " flatten (Flatten)           (None, 32320)             0         \n",
            "                                                                 \n",
            " dense (Dense)               (None, 128)               4137088   \n",
            "                                                                 \n",
            " dense_1 (Dense)             (None, 2)                 258       \n",
            "                                                                 \n",
            "=================================================================\n",
            "Total params: 4,343,706\n",
            "Trainable params: 4,343,594\n",
            "Non-trainable params: 112\n",
            "_________________________________________________________________\n"
          ]
        }
      ],
      "source": [
        "cnn_model.summary()"
      ]
    },
    {
      "cell_type": "code",
      "execution_count": 27,
      "metadata": {
        "colab": {
          "base_uri": "https://localhost:8080/"
        },
        "id": "h4zwABm-ryh_",
        "outputId": "ce25fd14-0f65-432b-fb5f-aa0b53a5c971"
      },
      "outputs": [
        {
          "output_type": "stream",
          "name": "stdout",
          "text": [
            "Epoch 1/100\n",
            "27/27 [==============================] - ETA: 0s - loss: 2.6262 - accuracy: 0.5694\n",
            "Epoch 1: val_loss improved from inf to 0.72456, saving model to /tmp/checkpoint.h5\n",
            "27/27 [==============================] - 29s 988ms/step - loss: 2.6262 - accuracy: 0.5694 - val_loss: 0.7246 - val_accuracy: 0.3333\n",
            "Epoch 2/100\n",
            "27/27 [==============================] - ETA: 0s - loss: 0.9951 - accuracy: 0.6597\n",
            "Epoch 2: val_loss improved from 0.72456 to 0.66820, saving model to /tmp/checkpoint.h5\n",
            "27/27 [==============================] - 30s 1s/step - loss: 0.9951 - accuracy: 0.6597 - val_loss: 0.6682 - val_accuracy: 0.6667\n",
            "Epoch 3/100\n",
            "27/27 [==============================] - ETA: 0s - loss: 0.8348 - accuracy: 0.6481\n",
            "Epoch 3: val_loss did not improve from 0.66820\n",
            "27/27 [==============================] - 27s 987ms/step - loss: 0.8348 - accuracy: 0.6481 - val_loss: 0.9053 - val_accuracy: 0.3333\n",
            "Epoch 4/100\n",
            "27/27 [==============================] - ETA: 0s - loss: 0.7900 - accuracy: 0.6852\n",
            "Epoch 4: val_loss did not improve from 0.66820\n",
            "27/27 [==============================] - 28s 1s/step - loss: 0.7900 - accuracy: 0.6852 - val_loss: 0.8630 - val_accuracy: 0.3333\n",
            "Epoch 5/100\n",
            "27/27 [==============================] - ETA: 0s - loss: 0.7230 - accuracy: 0.7153\n",
            "Epoch 5: val_loss did not improve from 0.66820\n",
            "27/27 [==============================] - 27s 1s/step - loss: 0.7230 - accuracy: 0.7153 - val_loss: 1.0592 - val_accuracy: 0.3333\n",
            "Epoch 6/100\n",
            "27/27 [==============================] - ETA: 0s - loss: 0.7043 - accuracy: 0.7338\n",
            "Epoch 6: val_loss did not improve from 0.66820\n",
            "27/27 [==============================] - 26s 983ms/step - loss: 0.7043 - accuracy: 0.7338 - val_loss: 1.4886 - val_accuracy: 0.3333\n",
            "Epoch 7/100\n",
            "27/27 [==============================] - ETA: 0s - loss: 0.6956 - accuracy: 0.7292\n",
            "Epoch 7: val_loss did not improve from 0.66820\n",
            "27/27 [==============================] - 26s 981ms/step - loss: 0.6956 - accuracy: 0.7292 - val_loss: 1.0434 - val_accuracy: 0.3333\n",
            "Epoch 8/100\n",
            "27/27 [==============================] - ETA: 0s - loss: 0.6560 - accuracy: 0.7338\n",
            "Epoch 8: val_loss did not improve from 0.66820\n",
            "27/27 [==============================] - 26s 973ms/step - loss: 0.6560 - accuracy: 0.7338 - val_loss: 0.8627 - val_accuracy: 0.3333\n",
            "Epoch 9/100\n",
            "27/27 [==============================] - ETA: 0s - loss: 0.6279 - accuracy: 0.7685\n",
            "Epoch 9: val_loss did not improve from 0.66820\n",
            "27/27 [==============================] - 27s 987ms/step - loss: 0.6279 - accuracy: 0.7685 - val_loss: 1.2171 - val_accuracy: 0.3241\n",
            "Epoch 10/100\n",
            "27/27 [==============================] - ETA: 0s - loss: 0.5753 - accuracy: 0.7801\n",
            "Epoch 10: val_loss did not improve from 0.66820\n",
            "27/27 [==============================] - 27s 990ms/step - loss: 0.5753 - accuracy: 0.7801 - val_loss: 1.3375 - val_accuracy: 0.3333\n",
            "Epoch 11/100\n",
            "27/27 [==============================] - ETA: 0s - loss: 0.5220 - accuracy: 0.8310\n",
            "Epoch 11: val_loss did not improve from 0.66820\n",
            "27/27 [==============================] - 27s 984ms/step - loss: 0.5220 - accuracy: 0.8310 - val_loss: 0.8083 - val_accuracy: 0.3611\n",
            "Epoch 12/100\n",
            "27/27 [==============================] - ETA: 0s - loss: 0.4964 - accuracy: 0.8380\n",
            "Epoch 12: val_loss improved from 0.66820 to 0.60284, saving model to /tmp/checkpoint.h5\n",
            "27/27 [==============================] - 26s 982ms/step - loss: 0.4964 - accuracy: 0.8380 - val_loss: 0.6028 - val_accuracy: 0.6759\n",
            "Epoch 13/100\n",
            "27/27 [==============================] - ETA: 0s - loss: 0.4667 - accuracy: 0.8241\n",
            "Epoch 13: val_loss did not improve from 0.60284\n",
            "27/27 [==============================] - 26s 979ms/step - loss: 0.4667 - accuracy: 0.8241 - val_loss: 0.8000 - val_accuracy: 0.5000\n",
            "Epoch 14/100\n",
            "27/27 [==============================] - ETA: 0s - loss: 0.3972 - accuracy: 0.8796\n",
            "Epoch 14: val_loss did not improve from 0.60284\n",
            "27/27 [==============================] - 26s 978ms/step - loss: 0.3972 - accuracy: 0.8796 - val_loss: 1.1445 - val_accuracy: 0.3426\n",
            "Epoch 15/100\n",
            "27/27 [==============================] - ETA: 0s - loss: 0.4044 - accuracy: 0.8773\n",
            "Epoch 15: val_loss did not improve from 0.60284\n",
            "27/27 [==============================] - 26s 972ms/step - loss: 0.4044 - accuracy: 0.8773 - val_loss: 0.6474 - val_accuracy: 0.6667\n",
            "Epoch 16/100\n",
            "27/27 [==============================] - ETA: 0s - loss: 0.3216 - accuracy: 0.9005\n",
            "Epoch 16: val_loss did not improve from 0.60284\n",
            "27/27 [==============================] - 27s 987ms/step - loss: 0.3216 - accuracy: 0.9005 - val_loss: 1.2145 - val_accuracy: 0.4630\n",
            "Epoch 17/100\n",
            "27/27 [==============================] - ETA: 0s - loss: 0.3391 - accuracy: 0.8935\n",
            "Epoch 17: val_loss did not improve from 0.60284\n",
            "27/27 [==============================] - 26s 972ms/step - loss: 0.3391 - accuracy: 0.8935 - val_loss: 0.8170 - val_accuracy: 0.6111\n",
            "Epoch 18/100\n",
            "27/27 [==============================] - ETA: 0s - loss: 0.2689 - accuracy: 0.9167\n",
            "Epoch 18: val_loss did not improve from 0.60284\n",
            "27/27 [==============================] - 27s 983ms/step - loss: 0.2689 - accuracy: 0.9167 - val_loss: 0.6176 - val_accuracy: 0.6852\n",
            "Epoch 19/100\n",
            "27/27 [==============================] - ETA: 0s - loss: 0.1530 - accuracy: 0.9630\n",
            "Epoch 19: val_loss did not improve from 0.60284\n",
            "27/27 [==============================] - 26s 982ms/step - loss: 0.1530 - accuracy: 0.9630 - val_loss: 0.6607 - val_accuracy: 0.6481\n",
            "Epoch 20/100\n",
            "27/27 [==============================] - ETA: 0s - loss: 0.1786 - accuracy: 0.9560\n",
            "Epoch 20: val_loss improved from 0.60284 to 0.52414, saving model to /tmp/checkpoint.h5\n",
            "27/27 [==============================] - 27s 991ms/step - loss: 0.1786 - accuracy: 0.9560 - val_loss: 0.5241 - val_accuracy: 0.7685\n",
            "Epoch 21/100\n",
            "27/27 [==============================] - ETA: 0s - loss: 0.1157 - accuracy: 0.9699\n",
            "Epoch 21: val_loss did not improve from 0.52414\n",
            "27/27 [==============================] - 27s 985ms/step - loss: 0.1157 - accuracy: 0.9699 - val_loss: 0.6575 - val_accuracy: 0.7222\n",
            "Epoch 22/100\n",
            "27/27 [==============================] - ETA: 0s - loss: 0.1026 - accuracy: 0.9676\n",
            "Epoch 22: val_loss improved from 0.52414 to 0.38019, saving model to /tmp/checkpoint.h5\n",
            "27/27 [==============================] - 27s 989ms/step - loss: 0.1026 - accuracy: 0.9676 - val_loss: 0.3802 - val_accuracy: 0.8333\n",
            "Epoch 23/100\n",
            "27/27 [==============================] - ETA: 0s - loss: 0.0750 - accuracy: 0.9884\n",
            "Epoch 23: val_loss did not improve from 0.38019\n",
            "27/27 [==============================] - 26s 976ms/step - loss: 0.0750 - accuracy: 0.9884 - val_loss: 0.4402 - val_accuracy: 0.8704\n",
            "Epoch 24/100\n",
            "27/27 [==============================] - ETA: 0s - loss: 0.0815 - accuracy: 0.9745\n",
            "Epoch 24: val_loss improved from 0.38019 to 0.37971, saving model to /tmp/checkpoint.h5\n",
            "27/27 [==============================] - 26s 980ms/step - loss: 0.0815 - accuracy: 0.9745 - val_loss: 0.3797 - val_accuracy: 0.8519\n",
            "Epoch 25/100\n",
            "27/27 [==============================] - ETA: 0s - loss: 0.0310 - accuracy: 0.9954\n",
            "Epoch 25: val_loss did not improve from 0.37971\n",
            "27/27 [==============================] - 26s 983ms/step - loss: 0.0310 - accuracy: 0.9954 - val_loss: 0.5301 - val_accuracy: 0.7685\n",
            "Epoch 26/100\n",
            "27/27 [==============================] - ETA: 0s - loss: 0.0183 - accuracy: 1.0000\n",
            "Epoch 26: val_loss did not improve from 0.37971\n",
            "27/27 [==============================] - 27s 985ms/step - loss: 0.0183 - accuracy: 1.0000 - val_loss: 0.4126 - val_accuracy: 0.8519\n",
            "Epoch 27/100\n",
            "27/27 [==============================] - ETA: 0s - loss: 0.0149 - accuracy: 1.0000\n",
            "Epoch 27: val_loss did not improve from 0.37971\n",
            "27/27 [==============================] - 26s 980ms/step - loss: 0.0149 - accuracy: 1.0000 - val_loss: 0.4134 - val_accuracy: 0.8519\n",
            "Epoch 28/100\n",
            "27/27 [==============================] - ETA: 0s - loss: 0.0126 - accuracy: 1.0000\n",
            "Epoch 28: val_loss did not improve from 0.37971\n",
            "27/27 [==============================] - 26s 972ms/step - loss: 0.0126 - accuracy: 1.0000 - val_loss: 0.4856 - val_accuracy: 0.8704\n",
            "Epoch 29/100\n",
            "27/27 [==============================] - ETA: 0s - loss: 0.0289 - accuracy: 0.9884\n",
            "Epoch 29: val_loss did not improve from 0.37971\n",
            "27/27 [==============================] - 26s 975ms/step - loss: 0.0289 - accuracy: 0.9884 - val_loss: 0.5235 - val_accuracy: 0.8704\n",
            "Epoch 30/100\n",
            "27/27 [==============================] - ETA: 0s - loss: 0.0440 - accuracy: 0.9907\n",
            "Epoch 30: val_loss did not improve from 0.37971\n",
            "27/27 [==============================] - 27s 989ms/step - loss: 0.0440 - accuracy: 0.9907 - val_loss: 0.6896 - val_accuracy: 0.8241\n",
            "Epoch 31/100\n",
            "27/27 [==============================] - ETA: 0s - loss: 0.0704 - accuracy: 0.9884\n",
            "Epoch 31: val_loss did not improve from 0.37971\n",
            "27/27 [==============================] - 27s 999ms/step - loss: 0.0704 - accuracy: 0.9884 - val_loss: 0.7445 - val_accuracy: 0.8333\n",
            "Epoch 32/100\n",
            "27/27 [==============================] - ETA: 0s - loss: 0.0344 - accuracy: 0.9931\n",
            "Epoch 32: val_loss did not improve from 0.37971\n",
            "27/27 [==============================] - 27s 992ms/step - loss: 0.0344 - accuracy: 0.9931 - val_loss: 0.5048 - val_accuracy: 0.8519\n",
            "Epoch 33/100\n",
            "27/27 [==============================] - ETA: 0s - loss: 0.0101 - accuracy: 1.0000\n",
            "Epoch 33: val_loss did not improve from 0.37971\n",
            "27/27 [==============================] - 27s 1s/step - loss: 0.0101 - accuracy: 1.0000 - val_loss: 0.4911 - val_accuracy: 0.8796\n",
            "Epoch 34/100\n",
            "27/27 [==============================] - ETA: 0s - loss: 0.0120 - accuracy: 1.0000\n",
            "Epoch 34: val_loss did not improve from 0.37971\n",
            "27/27 [==============================] - 27s 982ms/step - loss: 0.0120 - accuracy: 1.0000 - val_loss: 0.4529 - val_accuracy: 0.8519\n",
            "Epoch 35/100\n",
            "27/27 [==============================] - ETA: 0s - loss: 0.0310 - accuracy: 0.9907\n",
            "Epoch 35: val_loss did not improve from 0.37971\n",
            "27/27 [==============================] - 26s 979ms/step - loss: 0.0310 - accuracy: 0.9907 - val_loss: 0.5801 - val_accuracy: 0.8333\n",
            "Epoch 36/100\n",
            "27/27 [==============================] - ETA: 0s - loss: 0.0101 - accuracy: 1.0000\n",
            "Epoch 36: val_loss did not improve from 0.37971\n",
            "27/27 [==============================] - 26s 979ms/step - loss: 0.0101 - accuracy: 1.0000 - val_loss: 0.5135 - val_accuracy: 0.8426\n",
            "Epoch 37/100\n",
            "27/27 [==============================] - ETA: 0s - loss: 0.0102 - accuracy: 0.9977\n",
            "Epoch 37: val_loss did not improve from 0.37971\n",
            "27/27 [==============================] - 26s 982ms/step - loss: 0.0102 - accuracy: 0.9977 - val_loss: 0.5534 - val_accuracy: 0.8519\n",
            "Epoch 38/100\n",
            "27/27 [==============================] - ETA: 0s - loss: 0.0043 - accuracy: 1.0000\n",
            "Epoch 38: val_loss did not improve from 0.37971\n",
            "27/27 [==============================] - 27s 991ms/step - loss: 0.0043 - accuracy: 1.0000 - val_loss: 0.5630 - val_accuracy: 0.8519\n",
            "Epoch 39/100\n",
            "27/27 [==============================] - ETA: 0s - loss: 0.0093 - accuracy: 1.0000\n",
            "Epoch 39: val_loss did not improve from 0.37971\n",
            "27/27 [==============================] - 27s 992ms/step - loss: 0.0093 - accuracy: 1.0000 - val_loss: 0.5028 - val_accuracy: 0.8426\n",
            "Epoch 40/100\n",
            "27/27 [==============================] - ETA: 0s - loss: 0.0054 - accuracy: 1.0000\n",
            "Epoch 40: val_loss did not improve from 0.37971\n",
            "27/27 [==============================] - 27s 987ms/step - loss: 0.0054 - accuracy: 1.0000 - val_loss: 0.5066 - val_accuracy: 0.8426\n",
            "Epoch 41/100\n",
            "27/27 [==============================] - ETA: 0s - loss: 0.0046 - accuracy: 1.0000\n",
            "Epoch 41: val_loss did not improve from 0.37971\n",
            "27/27 [==============================] - 27s 986ms/step - loss: 0.0046 - accuracy: 1.0000 - val_loss: 0.5362 - val_accuracy: 0.8241\n",
            "Epoch 42/100\n",
            "27/27 [==============================] - ETA: 0s - loss: 0.0038 - accuracy: 1.0000\n",
            "Epoch 42: val_loss did not improve from 0.37971\n",
            "27/27 [==============================] - 26s 980ms/step - loss: 0.0038 - accuracy: 1.0000 - val_loss: 0.5593 - val_accuracy: 0.8241\n",
            "Epoch 43/100\n",
            "27/27 [==============================] - ETA: 0s - loss: 0.0035 - accuracy: 1.0000\n",
            "Epoch 43: val_loss did not improve from 0.37971\n",
            "27/27 [==============================] - 27s 1s/step - loss: 0.0035 - accuracy: 1.0000 - val_loss: 0.5485 - val_accuracy: 0.8333\n",
            "Epoch 44/100\n",
            "27/27 [==============================] - ETA: 0s - loss: 0.0038 - accuracy: 1.0000\n",
            "Epoch 44: val_loss did not improve from 0.37971\n",
            "27/27 [==============================] - 27s 998ms/step - loss: 0.0038 - accuracy: 1.0000 - val_loss: 0.5259 - val_accuracy: 0.8611\n",
            "Epoch 45/100\n",
            "27/27 [==============================] - ETA: 0s - loss: 0.0028 - accuracy: 1.0000\n",
            "Epoch 45: val_loss did not improve from 0.37971\n",
            "27/27 [==============================] - 27s 996ms/step - loss: 0.0028 - accuracy: 1.0000 - val_loss: 0.5256 - val_accuracy: 0.8519\n",
            "Epoch 46/100\n",
            "27/27 [==============================] - ETA: 0s - loss: 0.0028 - accuracy: 1.0000\n",
            "Epoch 46: val_loss did not improve from 0.37971\n",
            "27/27 [==============================] - 27s 989ms/step - loss: 0.0028 - accuracy: 1.0000 - val_loss: 0.5156 - val_accuracy: 0.8519\n",
            "Epoch 47/100\n",
            "27/27 [==============================] - ETA: 0s - loss: 0.0021 - accuracy: 1.0000\n",
            "Epoch 47: val_loss did not improve from 0.37971\n",
            "27/27 [==============================] - 26s 978ms/step - loss: 0.0021 - accuracy: 1.0000 - val_loss: 0.5273 - val_accuracy: 0.8519\n",
            "Epoch 48/100\n",
            "27/27 [==============================] - ETA: 0s - loss: 0.0025 - accuracy: 1.0000\n",
            "Epoch 48: val_loss did not improve from 0.37971\n",
            "27/27 [==============================] - 26s 982ms/step - loss: 0.0025 - accuracy: 1.0000 - val_loss: 0.5389 - val_accuracy: 0.8519\n",
            "Epoch 49/100\n",
            "27/27 [==============================] - ETA: 0s - loss: 0.0026 - accuracy: 1.0000\n",
            "Epoch 49: val_loss did not improve from 0.37971\n",
            "27/27 [==============================] - 27s 989ms/step - loss: 0.0026 - accuracy: 1.0000 - val_loss: 0.5253 - val_accuracy: 0.8426\n",
            "Epoch 50/100\n",
            "27/27 [==============================] - ETA: 0s - loss: 0.0036 - accuracy: 1.0000\n",
            "Epoch 50: val_loss did not improve from 0.37971\n",
            "27/27 [==============================] - 26s 984ms/step - loss: 0.0036 - accuracy: 1.0000 - val_loss: 0.5116 - val_accuracy: 0.8333\n",
            "Epoch 51/100\n",
            "27/27 [==============================] - ETA: 0s - loss: 0.0019 - accuracy: 1.0000\n",
            "Epoch 51: val_loss did not improve from 0.37971\n",
            "27/27 [==============================] - 26s 967ms/step - loss: 0.0019 - accuracy: 1.0000 - val_loss: 0.5038 - val_accuracy: 0.8519\n",
            "Epoch 52/100\n",
            "27/27 [==============================] - ETA: 0s - loss: 0.0168 - accuracy: 0.9977\n",
            "Epoch 52: val_loss did not improve from 0.37971\n",
            "27/27 [==============================] - 26s 975ms/step - loss: 0.0168 - accuracy: 0.9977 - val_loss: 0.6075 - val_accuracy: 0.8519\n",
            "Epoch 53/100\n",
            "27/27 [==============================] - ETA: 0s - loss: 0.0062 - accuracy: 0.9977\n",
            "Epoch 53: val_loss did not improve from 0.37971\n",
            "27/27 [==============================] - 26s 973ms/step - loss: 0.0062 - accuracy: 0.9977 - val_loss: 0.4781 - val_accuracy: 0.8519\n",
            "Epoch 54/100\n",
            "27/27 [==============================] - ETA: 0s - loss: 0.0033 - accuracy: 1.0000\n",
            "Epoch 54: val_loss did not improve from 0.37971\n",
            "27/27 [==============================] - 26s 983ms/step - loss: 0.0033 - accuracy: 1.0000 - val_loss: 0.4630 - val_accuracy: 0.8704\n",
            "Epoch 55/100\n",
            "27/27 [==============================] - ETA: 0s - loss: 0.0033 - accuracy: 1.0000\n",
            "Epoch 55: val_loss did not improve from 0.37971\n",
            "27/27 [==============================] - 27s 997ms/step - loss: 0.0033 - accuracy: 1.0000 - val_loss: 0.4566 - val_accuracy: 0.8704\n",
            "Epoch 56/100\n",
            "27/27 [==============================] - ETA: 0s - loss: 0.0024 - accuracy: 1.0000\n",
            "Epoch 56: val_loss did not improve from 0.37971\n",
            "27/27 [==============================] - 27s 984ms/step - loss: 0.0024 - accuracy: 1.0000 - val_loss: 0.4616 - val_accuracy: 0.8704\n",
            "Epoch 57/100\n",
            "27/27 [==============================] - ETA: 0s - loss: 0.0019 - accuracy: 1.0000\n",
            "Epoch 57: val_loss did not improve from 0.37971\n",
            "27/27 [==============================] - 26s 976ms/step - loss: 0.0019 - accuracy: 1.0000 - val_loss: 0.5377 - val_accuracy: 0.8704\n",
            "Epoch 58/100\n",
            "27/27 [==============================] - ETA: 0s - loss: 0.0028 - accuracy: 1.0000\n",
            "Epoch 58: val_loss did not improve from 0.37971\n",
            "27/27 [==============================] - 27s 984ms/step - loss: 0.0028 - accuracy: 1.0000 - val_loss: 0.5465 - val_accuracy: 0.8704\n",
            "Epoch 59/100\n",
            "27/27 [==============================] - ETA: 0s - loss: 0.0021 - accuracy: 1.0000\n",
            "Epoch 59: val_loss did not improve from 0.37971\n",
            "27/27 [==============================] - 27s 985ms/step - loss: 0.0021 - accuracy: 1.0000 - val_loss: 0.5184 - val_accuracy: 0.8704\n",
            "Epoch 60/100\n",
            "27/27 [==============================] - ETA: 0s - loss: 0.0018 - accuracy: 1.0000\n",
            "Epoch 60: val_loss did not improve from 0.37971\n",
            "27/27 [==============================] - 26s 977ms/step - loss: 0.0018 - accuracy: 1.0000 - val_loss: 0.5214 - val_accuracy: 0.8796\n",
            "Epoch 61/100\n",
            "27/27 [==============================] - ETA: 0s - loss: 0.0019 - accuracy: 1.0000\n",
            "Epoch 61: val_loss did not improve from 0.37971\n",
            "27/27 [==============================] - 27s 989ms/step - loss: 0.0019 - accuracy: 1.0000 - val_loss: 0.5090 - val_accuracy: 0.8704\n",
            "Epoch 62/100\n",
            "27/27 [==============================] - ETA: 0s - loss: 0.0013 - accuracy: 1.0000\n",
            "Epoch 62: val_loss did not improve from 0.37971\n",
            "27/27 [==============================] - 27s 984ms/step - loss: 0.0013 - accuracy: 1.0000 - val_loss: 0.5107 - val_accuracy: 0.8519\n",
            "Epoch 63/100\n",
            "27/27 [==============================] - ETA: 0s - loss: 0.0018 - accuracy: 1.0000\n",
            "Epoch 63: val_loss did not improve from 0.37971\n",
            "27/27 [==============================] - 27s 986ms/step - loss: 0.0018 - accuracy: 1.0000 - val_loss: 0.5470 - val_accuracy: 0.8519\n",
            "Epoch 64/100\n",
            "27/27 [==============================] - ETA: 0s - loss: 0.0024 - accuracy: 1.0000\n",
            "Epoch 64: val_loss did not improve from 0.37971\n",
            "27/27 [==============================] - 27s 987ms/step - loss: 0.0024 - accuracy: 1.0000 - val_loss: 0.5063 - val_accuracy: 0.8333\n",
            "Epoch 65/100\n",
            "27/27 [==============================] - ETA: 0s - loss: 0.0017 - accuracy: 1.0000\n",
            "Epoch 65: val_loss did not improve from 0.37971\n",
            "27/27 [==============================] - 27s 995ms/step - loss: 0.0017 - accuracy: 1.0000 - val_loss: 0.5176 - val_accuracy: 0.8333\n",
            "Epoch 66/100\n",
            "27/27 [==============================] - ETA: 0s - loss: 0.0010 - accuracy: 1.0000    \n",
            "Epoch 66: val_loss did not improve from 0.37971\n",
            "27/27 [==============================] - 27s 1s/step - loss: 0.0010 - accuracy: 1.0000 - val_loss: 0.5128 - val_accuracy: 0.8611\n",
            "Epoch 67/100\n",
            "27/27 [==============================] - ETA: 0s - loss: 0.0023 - accuracy: 1.0000\n",
            "Epoch 67: val_loss did not improve from 0.37971\n",
            "27/27 [==============================] - 28s 1s/step - loss: 0.0023 - accuracy: 1.0000 - val_loss: 0.5290 - val_accuracy: 0.8426\n",
            "Epoch 68/100\n",
            "27/27 [==============================] - ETA: 0s - loss: 9.7403e-04 - accuracy: 1.0000\n",
            "Epoch 68: val_loss did not improve from 0.37971\n",
            "27/27 [==============================] - 27s 992ms/step - loss: 9.7403e-04 - accuracy: 1.0000 - val_loss: 0.5237 - val_accuracy: 0.8426\n",
            "Epoch 69/100\n",
            "27/27 [==============================] - ETA: 0s - loss: 0.0013 - accuracy: 1.0000\n",
            "Epoch 69: val_loss did not improve from 0.37971\n",
            "27/27 [==============================] - 27s 989ms/step - loss: 0.0013 - accuracy: 1.0000 - val_loss: 0.5180 - val_accuracy: 0.8704\n",
            "Epoch 70/100\n",
            "27/27 [==============================] - ETA: 0s - loss: 0.0015 - accuracy: 1.0000\n",
            "Epoch 70: val_loss did not improve from 0.37971\n",
            "27/27 [==============================] - 27s 990ms/step - loss: 0.0015 - accuracy: 1.0000 - val_loss: 0.5141 - val_accuracy: 0.8611\n",
            "Epoch 71/100\n",
            "27/27 [==============================] - ETA: 0s - loss: 0.0030 - accuracy: 1.0000\n",
            "Epoch 71: val_loss did not improve from 0.37971\n",
            "27/27 [==============================] - 27s 990ms/step - loss: 0.0030 - accuracy: 1.0000 - val_loss: 0.4830 - val_accuracy: 0.8796\n",
            "Epoch 72/100\n",
            "27/27 [==============================] - ETA: 0s - loss: 0.0011 - accuracy: 1.0000\n",
            "Epoch 72: val_loss did not improve from 0.37971\n",
            "27/27 [==============================] - 27s 991ms/step - loss: 0.0011 - accuracy: 1.0000 - val_loss: 0.4918 - val_accuracy: 0.8796\n",
            "Epoch 73/100\n",
            "27/27 [==============================] - ETA: 0s - loss: 0.0017 - accuracy: 1.0000\n",
            "Epoch 73: val_loss did not improve from 0.37971\n",
            "27/27 [==============================] - 27s 987ms/step - loss: 0.0017 - accuracy: 1.0000 - val_loss: 0.5197 - val_accuracy: 0.8611\n",
            "Epoch 74/100\n",
            "27/27 [==============================] - ETA: 0s - loss: 0.0013 - accuracy: 1.0000\n",
            "Epoch 74: val_loss did not improve from 0.37971\n",
            "27/27 [==============================] - 26s 984ms/step - loss: 0.0013 - accuracy: 1.0000 - val_loss: 0.5404 - val_accuracy: 0.8519\n",
            "Epoch 75/100\n",
            "27/27 [==============================] - ETA: 0s - loss: 8.2942e-04 - accuracy: 1.0000\n",
            "Epoch 75: val_loss did not improve from 0.37971\n",
            "27/27 [==============================] - 26s 980ms/step - loss: 8.2942e-04 - accuracy: 1.0000 - val_loss: 0.5362 - val_accuracy: 0.8611\n",
            "Epoch 76/100\n",
            "27/27 [==============================] - ETA: 0s - loss: 0.0071 - accuracy: 1.0000\n",
            "Epoch 76: val_loss did not improve from 0.37971\n",
            "27/27 [==============================] - 26s 982ms/step - loss: 0.0071 - accuracy: 1.0000 - val_loss: 0.4855 - val_accuracy: 0.8704\n",
            "Epoch 77/100\n",
            "27/27 [==============================] - ETA: 0s - loss: 0.0028 - accuracy: 1.0000\n",
            "Epoch 77: val_loss did not improve from 0.37971\n",
            "27/27 [==============================] - 27s 994ms/step - loss: 0.0028 - accuracy: 1.0000 - val_loss: 0.5105 - val_accuracy: 0.8333\n",
            "Epoch 78/100\n",
            "27/27 [==============================] - ETA: 0s - loss: 0.0015 - accuracy: 1.0000\n",
            "Epoch 78: val_loss did not improve from 0.37971\n",
            "27/27 [==============================] - 27s 984ms/step - loss: 0.0015 - accuracy: 1.0000 - val_loss: 0.5020 - val_accuracy: 0.8333\n",
            "Epoch 79/100\n",
            "27/27 [==============================] - ETA: 0s - loss: 0.0012 - accuracy: 1.0000\n",
            "Epoch 79: val_loss did not improve from 0.37971\n",
            "27/27 [==============================] - 27s 983ms/step - loss: 0.0012 - accuracy: 1.0000 - val_loss: 0.4947 - val_accuracy: 0.8426\n",
            "Epoch 80/100\n",
            "27/27 [==============================] - ETA: 0s - loss: 0.0018 - accuracy: 1.0000\n",
            "Epoch 80: val_loss did not improve from 0.37971\n",
            "27/27 [==============================] - 26s 977ms/step - loss: 0.0018 - accuracy: 1.0000 - val_loss: 0.5171 - val_accuracy: 0.8519\n",
            "Epoch 81/100\n",
            "27/27 [==============================] - ETA: 0s - loss: 8.8748e-04 - accuracy: 1.0000\n",
            "Epoch 81: val_loss did not improve from 0.37971\n",
            "27/27 [==============================] - 27s 986ms/step - loss: 8.8748e-04 - accuracy: 1.0000 - val_loss: 0.5221 - val_accuracy: 0.8519\n",
            "Epoch 82/100\n",
            "27/27 [==============================] - ETA: 0s - loss: 8.3555e-04 - accuracy: 1.0000\n",
            "Epoch 82: val_loss did not improve from 0.37971\n",
            "27/27 [==============================] - 27s 994ms/step - loss: 8.3555e-04 - accuracy: 1.0000 - val_loss: 0.5191 - val_accuracy: 0.8519\n",
            "Epoch 83/100\n",
            "27/27 [==============================] - ETA: 0s - loss: 6.2496e-04 - accuracy: 1.0000\n",
            "Epoch 83: val_loss did not improve from 0.37971\n",
            "27/27 [==============================] - 26s 979ms/step - loss: 6.2496e-04 - accuracy: 1.0000 - val_loss: 0.5252 - val_accuracy: 0.8611\n",
            "Epoch 84/100\n",
            "27/27 [==============================] - ETA: 0s - loss: 5.4708e-04 - accuracy: 1.0000\n",
            "Epoch 84: val_loss did not improve from 0.37971\n",
            "27/27 [==============================] - 27s 986ms/step - loss: 5.4708e-04 - accuracy: 1.0000 - val_loss: 0.5309 - val_accuracy: 0.8611\n",
            "Epoch 85/100\n",
            "27/27 [==============================] - ETA: 0s - loss: 9.4187e-04 - accuracy: 1.0000\n",
            "Epoch 85: val_loss did not improve from 0.37971\n",
            "27/27 [==============================] - 26s 978ms/step - loss: 9.4187e-04 - accuracy: 1.0000 - val_loss: 0.5216 - val_accuracy: 0.8611\n",
            "Epoch 86/100\n",
            "27/27 [==============================] - ETA: 0s - loss: 8.7446e-04 - accuracy: 1.0000\n",
            "Epoch 86: val_loss did not improve from 0.37971\n",
            "27/27 [==============================] - 27s 986ms/step - loss: 8.7446e-04 - accuracy: 1.0000 - val_loss: 0.5306 - val_accuracy: 0.8611\n",
            "Epoch 87/100\n",
            "27/27 [==============================] - ETA: 0s - loss: 6.7459e-04 - accuracy: 1.0000\n",
            "Epoch 87: val_loss did not improve from 0.37971\n",
            "27/27 [==============================] - 26s 981ms/step - loss: 6.7459e-04 - accuracy: 1.0000 - val_loss: 0.5197 - val_accuracy: 0.8519\n",
            "Epoch 88/100\n",
            "27/27 [==============================] - ETA: 0s - loss: 0.0057 - accuracy: 0.9977\n",
            "Epoch 88: val_loss did not improve from 0.37971\n",
            "27/27 [==============================] - 29s 1s/step - loss: 0.0057 - accuracy: 0.9977 - val_loss: 0.7626 - val_accuracy: 0.8241\n",
            "Epoch 89/100\n",
            "27/27 [==============================] - ETA: 0s - loss: 0.0023 - accuracy: 1.0000\n",
            "Epoch 89: val_loss did not improve from 0.37971\n",
            "27/27 [==============================] - 27s 1s/step - loss: 0.0023 - accuracy: 1.0000 - val_loss: 0.5436 - val_accuracy: 0.8889\n",
            "Epoch 90/100\n",
            "27/27 [==============================] - ETA: 0s - loss: 0.0013 - accuracy: 1.0000\n",
            "Epoch 90: val_loss did not improve from 0.37971\n",
            "27/27 [==============================] - 27s 996ms/step - loss: 0.0013 - accuracy: 1.0000 - val_loss: 0.5207 - val_accuracy: 0.8796\n",
            "Epoch 91/100\n",
            "27/27 [==============================] - ETA: 0s - loss: 9.4028e-04 - accuracy: 1.0000\n",
            "Epoch 91: val_loss did not improve from 0.37971\n",
            "27/27 [==============================] - 27s 999ms/step - loss: 9.4028e-04 - accuracy: 1.0000 - val_loss: 0.4816 - val_accuracy: 0.8704\n",
            "Epoch 92/100\n",
            "27/27 [==============================] - ETA: 0s - loss: 8.4834e-04 - accuracy: 1.0000\n",
            "Epoch 92: val_loss did not improve from 0.37971\n",
            "27/27 [==============================] - 27s 987ms/step - loss: 8.4834e-04 - accuracy: 1.0000 - val_loss: 0.4917 - val_accuracy: 0.8611\n",
            "Epoch 93/100\n",
            "27/27 [==============================] - ETA: 0s - loss: 0.0015 - accuracy: 1.0000\n",
            "Epoch 93: val_loss did not improve from 0.37971\n",
            "27/27 [==============================] - 27s 993ms/step - loss: 0.0015 - accuracy: 1.0000 - val_loss: 0.5071 - val_accuracy: 0.8333\n",
            "Epoch 94/100\n",
            "27/27 [==============================] - ETA: 0s - loss: 0.0016 - accuracy: 1.0000\n",
            "Epoch 94: val_loss did not improve from 0.37971\n",
            "27/27 [==============================] - 27s 990ms/step - loss: 0.0016 - accuracy: 1.0000 - val_loss: 0.5452 - val_accuracy: 0.8426\n",
            "Epoch 95/100\n",
            "27/27 [==============================] - ETA: 0s - loss: 8.8843e-04 - accuracy: 1.0000\n",
            "Epoch 95: val_loss did not improve from 0.37971\n",
            "27/27 [==============================] - 27s 987ms/step - loss: 8.8843e-04 - accuracy: 1.0000 - val_loss: 0.5438 - val_accuracy: 0.8704\n",
            "Epoch 96/100\n",
            "27/27 [==============================] - ETA: 0s - loss: 0.0010 - accuracy: 1.0000    \n",
            "Epoch 96: val_loss did not improve from 0.37971\n",
            "27/27 [==============================] - 26s 979ms/step - loss: 0.0010 - accuracy: 1.0000 - val_loss: 0.5174 - val_accuracy: 0.8796\n",
            "Epoch 97/100\n",
            "27/27 [==============================] - ETA: 0s - loss: 4.0068e-04 - accuracy: 1.0000\n",
            "Epoch 97: val_loss did not improve from 0.37971\n",
            "27/27 [==============================] - 27s 986ms/step - loss: 4.0068e-04 - accuracy: 1.0000 - val_loss: 0.5140 - val_accuracy: 0.8796\n",
            "Epoch 98/100\n",
            "27/27 [==============================] - ETA: 0s - loss: 5.5440e-04 - accuracy: 1.0000\n",
            "Epoch 98: val_loss did not improve from 0.37971\n",
            "27/27 [==============================] - 27s 985ms/step - loss: 5.5440e-04 - accuracy: 1.0000 - val_loss: 0.5112 - val_accuracy: 0.8796\n",
            "Epoch 99/100\n",
            "27/27 [==============================] - ETA: 0s - loss: 4.5609e-04 - accuracy: 1.0000\n",
            "Epoch 99: val_loss did not improve from 0.37971\n",
            "27/27 [==============================] - 27s 993ms/step - loss: 4.5609e-04 - accuracy: 1.0000 - val_loss: 0.5133 - val_accuracy: 0.8704\n",
            "Epoch 100/100\n",
            "27/27 [==============================] - ETA: 0s - loss: 0.0013 - accuracy: 1.0000\n",
            "Epoch 100: val_loss did not improve from 0.37971\n",
            "27/27 [==============================] - 27s 993ms/step - loss: 0.0013 - accuracy: 1.0000 - val_loss: 0.5197 - val_accuracy: 0.8796\n"
          ]
        }
      ],
      "source": [
        "cnn_train = cnn_model.fit(train_X, train_label_categorical, batch_size=batch_size, \n",
        "                          epochs=epochs,\n",
        "                          verbose=1,\n",
        "                          validation_data=(valid_X, valid_label_categorical), \n",
        "                          callbacks=[checkpointer], \n",
        "                          class_weight = class_weights\n",
        "                          )"
      ]
    },
    {
      "cell_type": "code",
      "execution_count": 28,
      "metadata": {
        "id": "FKcyQLA6tVZO"
      },
      "outputs": [],
      "source": [
        "test_eval = cnn_model.evaluate(test_X, test_y, verbose=0)"
      ]
    },
    {
      "cell_type": "code",
      "source": [
        "probs       = cnn_model.predict(test_X)"
      ],
      "metadata": {
        "id": "fSpcCYWVDyDF"
      },
      "execution_count": 37,
      "outputs": []
    },
    {
      "cell_type": "code",
      "source": [
        "pip install pyriemann"
      ],
      "metadata": {
        "colab": {
          "base_uri": "https://localhost:8080/"
        },
        "id": "TCVnpQ0Rhk2E",
        "outputId": "fd8036a7-aa11-4197-fb10-da04a5c8c65f"
      },
      "execution_count": 44,
      "outputs": [
        {
          "output_type": "stream",
          "name": "stdout",
          "text": [
            "Collecting pyriemann\n",
            "  Downloading pyriemann-0.2.7.tar.gz (42 kB)\n",
            "\u001b[?25l\r\u001b[K     |███████▊                        | 10 kB 18.7 MB/s eta 0:00:01\r\u001b[K     |███████████████▌                | 20 kB 16.6 MB/s eta 0:00:01\r\u001b[K     |███████████████████████▏        | 30 kB 7.7 MB/s eta 0:00:01\r\u001b[K     |███████████████████████████████ | 40 kB 6.8 MB/s eta 0:00:01\r\u001b[K     |████████████████████████████████| 42 kB 525 kB/s \n",
            "\u001b[?25hRequirement already satisfied: numpy in /usr/local/lib/python3.7/dist-packages (from pyriemann) (1.21.5)\n",
            "Requirement already satisfied: scipy in /usr/local/lib/python3.7/dist-packages (from pyriemann) (1.4.1)\n",
            "Requirement already satisfied: scikit-learn in /usr/local/lib/python3.7/dist-packages (from pyriemann) (1.0.2)\n",
            "Requirement already satisfied: joblib in /usr/local/lib/python3.7/dist-packages (from pyriemann) (1.1.0)\n",
            "Requirement already satisfied: pandas in /usr/local/lib/python3.7/dist-packages (from pyriemann) (1.3.5)\n",
            "Requirement already satisfied: pytz>=2017.3 in /usr/local/lib/python3.7/dist-packages (from pandas->pyriemann) (2018.9)\n",
            "Requirement already satisfied: python-dateutil>=2.7.3 in /usr/local/lib/python3.7/dist-packages (from pandas->pyriemann) (2.8.2)\n",
            "Requirement already satisfied: six>=1.5 in /usr/local/lib/python3.7/dist-packages (from python-dateutil>=2.7.3->pandas->pyriemann) (1.15.0)\n",
            "Requirement already satisfied: threadpoolctl>=2.0.0 in /usr/local/lib/python3.7/dist-packages (from scikit-learn->pyriemann) (3.1.0)\n",
            "Building wheels for collected packages: pyriemann\n",
            "  Building wheel for pyriemann (setup.py) ... \u001b[?25l\u001b[?25hdone\n",
            "  Created wheel for pyriemann: filename=pyriemann-0.2.7-py2.py3-none-any.whl size=49770 sha256=af826ec2301bab901c4c75d868dbe504c54ceed21a318b767b1b3cbffe24506f\n",
            "  Stored in directory: /root/.cache/pip/wheels/5c/b7/55/27dcb08ed8fb58da8c1be108c23928ffb9125c9c1da2ddfb53\n",
            "Successfully built pyriemann\n",
            "Installing collected packages: pyriemann\n",
            "Successfully installed pyriemann-0.2.7\n"
          ]
        }
      ]
    },
    {
      "cell_type": "code",
      "source": [
        "import sklearn.metrics as metrics\n",
        "\n",
        "y_pred_ohe = cnn_model.predict(test_X)  # shape=(n_samples, 12)"
      ],
      "metadata": {
        "id": "VxmdkUaBofis"
      },
      "execution_count": 71,
      "outputs": []
    },
    {
      "cell_type": "code",
      "source": [
        "y_pred_labels = np.argmax(y_pred_ohe, axis=1)  # only necessary if output has one-hot-encoding, shape=(n_samples)\n",
        "test_y = np.argmax(test_y, axis=1) \n",
        "y_pred_labels"
      ],
      "metadata": {
        "colab": {
          "base_uri": "https://localhost:8080/"
        },
        "id": "es1SnBpypZ2-",
        "outputId": "2f525228-cbec-411b-94ed-93c19f0e54ff"
      },
      "execution_count": 72,
      "outputs": [
        {
          "output_type": "execute_result",
          "data": {
            "text/plain": [
              "array([1, 1, 0, 0, 1, 1, 0, 1, 0, 0, 1, 0, 1, 1, 0, 1, 1, 1, 0, 1, 1, 1,\n",
              "       1, 0, 1, 1, 1, 1, 1, 0, 0, 0, 1, 1, 0, 0, 1, 1, 1, 0, 1, 1, 1, 1,\n",
              "       1, 1, 1, 1, 1, 1, 0, 0, 1, 1, 0, 0, 0, 1, 1, 1, 1, 0, 0, 1, 1, 1,\n",
              "       1, 1, 1, 1, 1, 1, 1, 1, 0, 0, 1, 1, 1, 0, 1, 0, 1, 1, 1, 1, 1, 1,\n",
              "       0, 0, 1, 1, 0, 0, 1, 0, 1, 0, 0, 1, 1, 0, 0, 0, 1, 1, 1, 1, 1, 0,\n",
              "       1, 0, 1, 0, 0, 0, 0, 0, 1, 1, 0, 0, 1, 0, 1, 1, 1, 0, 0, 0, 0, 1,\n",
              "       0, 1, 1, 0, 1, 1, 1, 1, 0, 0, 1, 1, 1, 0, 0, 1, 0, 0, 0, 1, 1, 1,\n",
              "       1, 0, 1, 0, 1, 1, 1, 0, 1, 1, 1, 1, 1, 1, 1, 0, 1, 0, 1, 0, 0, 1,\n",
              "       1, 0, 1, 1, 0, 0, 0, 0, 1, 1, 1, 1, 1, 0, 1, 0, 1, 1, 1, 0, 1, 1,\n",
              "       1, 0, 0, 1, 1, 1, 1, 1, 0, 0, 0, 0, 0, 0, 1, 1, 0, 0, 1, 0, 0, 1,\n",
              "       1, 1, 0, 1, 1, 0, 0, 0, 1, 0, 1, 1, 1, 0, 0, 1, 1, 1, 1, 1, 1, 0,\n",
              "       1, 1, 1, 1, 1, 0, 1, 1, 0, 1, 0, 1, 1, 1, 0, 1, 1, 0, 0, 1, 1, 1,\n",
              "       1, 1, 0, 1, 0, 0, 0, 1, 1, 0, 1, 1, 0, 1, 0, 1])"
            ]
          },
          "metadata": {},
          "execution_count": 72
        }
      ]
    },
    {
      "cell_type": "code",
      "source": [
        "confusion_matrix = metrics.confusion_matrix(y_true=test_y, y_pred=y_pred_labels)"
      ],
      "metadata": {
        "id": "XAezzXqopdc9"
      },
      "execution_count": 73,
      "outputs": []
    },
    {
      "cell_type": "code",
      "source": [
        "confusion_matrix"
      ],
      "metadata": {
        "colab": {
          "base_uri": "https://localhost:8080/"
        },
        "id": "5SookFaDqSLg",
        "outputId": "28ac0570-7da8-41f5-b6f1-b9f1494d65a2"
      },
      "execution_count": 74,
      "outputs": [
        {
          "output_type": "execute_result",
          "data": {
            "text/plain": [
              "array([[ 85,  15],\n",
              "       [ 22, 158]])"
            ]
          },
          "metadata": {},
          "execution_count": 74
        }
      ]
    },
    {
      "cell_type": "code",
      "source": [
        "import seaborn as sns\n",
        "\n",
        "ax = sns.heatmap(confusion_matrix/np.sum(confusion_matrix), annot=True, \n",
        "            fmt='.2%', cmap='Blues')\n",
        "\n",
        "ax.set_title('CNN Confusion Matrix\\n\\n');\n",
        "ax.set_xlabel('\\nPredicted Values')\n",
        "ax.set_ylabel('Actual Values ');\n",
        "\n",
        "## Ticket labels - List must be in alphabetical order\n",
        "ax.xaxis.set_ticklabels(['NI','AC'])\n",
        "ax.yaxis.set_ticklabels(['NI','AC'])\n",
        "\n",
        "## Display the visualization of the Confusion Matrix.\n",
        "plt.show()"
      ],
      "metadata": {
        "colab": {
          "base_uri": "https://localhost:8080/",
          "height": 337
        },
        "id": "DCziTuForE7_",
        "outputId": "253cb0f5-70fd-471e-dab8-7d1c59fdd9d4"
      },
      "execution_count": 76,
      "outputs": [
        {
          "output_type": "display_data",
          "data": {
            "text/plain": [
              "<Figure size 432x288 with 2 Axes>"
            ],
            "image/png": "[encoded data removed]"
          },
          "metadata": {
            "needs_background": "light"
          }
        }
      ]
    },
    {
      "cell_type": "code",
      "source": [
        "probs       = cnn_model.predict(test_X)\n",
        "preds       = probs.argmax(axis = -1)  \n",
        "acc         = np.mean(preds == test_y.argmax(axis=-1))\n",
        "print(\"Classification accuracy: %f \" % (acc))"
      ],
      "metadata": {
        "colab": {
          "base_uri": "https://localhost:8080/"
        },
        "id": "vGtSY53OgDiP",
        "outputId": "0e61d369-95b4-46f4-e437-4af68653a3d7"
      },
      "execution_count": 38,
      "outputs": [
        {
          "output_type": "stream",
          "name": "stdout",
          "text": [
            "Classification accuracy: 0.867857 \n"
          ]
        }
      ]
    },
    {
      "cell_type": "code",
      "execution_count": 32,
      "metadata": {
        "colab": {
          "base_uri": "https://localhost:8080/"
        },
        "id": "KMFgN-nStX7I",
        "outputId": "f7962fc9-d81d-4e4d-b7e4-54bc0702e82d"
      },
      "outputs": [
        {
          "output_type": "stream",
          "name": "stdout",
          "text": [
            "Test loss: 0.5097537040710449\n",
            "Test accuracy: 0.8678571581840515\n"
          ]
        }
      ],
      "source": [
        "print('Test loss:', test_eval[0])\n",
        "print('Test accuracy:', test_eval[1])"
      ]
    },
    {
      "cell_type": "code",
      "execution_count": 30,
      "metadata": {
        "colab": {
          "base_uri": "https://localhost:8080/"
        },
        "id": "Of8J5rP_vZ5p",
        "outputId": "9d1df581-4f7a-400b-96b7-61da74b7754a"
      },
      "outputs": [
        {
          "output_type": "stream",
          "name": "stdout",
          "text": [
            "INFO:tensorflow:Assets written to: cnn_model_dropout.h5py/assets\n"
          ]
        }
      ],
      "source": [
        "cnn_model.save(\"cnn_model_dropout.h5py\")"
      ]
    },
    {
      "cell_type": "code",
      "execution_count": 31,
      "metadata": {
        "colab": {
          "base_uri": "https://localhost:8080/",
          "height": 545
        },
        "id": "eTIGAY1FtZsr",
        "outputId": "1bf5a78b-10a7-4550-bded-3fb341ec3a20"
      },
      "outputs": [
        {
          "output_type": "display_data",
          "data": {
            "text/plain": [
              "<Figure size 432x288 with 1 Axes>"
            ],
            "image/png": "[encoded data removed]"
          },
          "metadata": {
            "needs_background": "light"
          }
        },
        {
          "output_type": "display_data",
          "data": {
            "text/plain": [
              "<Figure size 432x288 with 1 Axes>"
            ],
            "image/png": "[encoded data removed]"
          },
          "metadata": {
            "needs_background": "light"
          }
        }
      ],
      "source": [
        "accuracy = cnn_train.history['accuracy']\n",
        "val_accuracy = cnn_train.history['val_accuracy']\n",
        "loss = cnn_train.history['loss']\n",
        "val_loss = cnn_train.history['val_loss']\n",
        "epochs = range(len(accuracy))\n",
        "plt.plot(epochs, accuracy, 'bo', label='Training accuracy')\n",
        "plt.plot(epochs, val_accuracy, 'b', label='Validation accuracy')\n",
        "plt.title('Training and validation accuracy')\n",
        "plt.legend()\n",
        "plt.figure()\n",
        "plt.plot(epochs, loss, 'bo', label='Training loss')\n",
        "plt.plot(epochs, val_loss, 'b', label='Validation loss')\n",
        "plt.title('Training and validation loss')\n",
        "plt.legend()\n",
        "plt.show()"
      ]
    },
    {
      "cell_type": "markdown",
      "source": [
        "## CNN for all subjects"
      ],
      "metadata": {
        "id": "YEmaM7rep0bW"
      }
    },
    {
      "cell_type": "code",
      "source": [
        "import keras\n",
        "from keras.models import Sequential,Input,Model\n",
        "from keras.layers import Dense, Dropout, Flatten\n",
        "from keras.layers import Conv2D, MaxPooling2D\n",
        "from tensorflow.keras.layers import BatchNormalization\n",
        "from keras.layers.advanced_activations import LeakyReLU\n",
        "import tensorflow as tf\n",
        "from tensorflow.keras.callbacks import ModelCheckpoint\n",
        "from tensorflow.keras.optimizers import SGD, Adam\n",
        "import sklearn.metrics as metrics\n",
        "import seaborn as sns\n",
        "from sklearn.model_selection import train_test_split\n",
        "from sklearn.utils.class_weight import compute_class_weight"
      ],
      "metadata": {
        "id": "ZiWcvNtrq64_"
      },
      "execution_count": 5,
      "outputs": []
    },
    {
      "cell_type": "code",
      "source": [
        "def cnn_101(train_X, test_X, train_y, test_y):\n",
        "  train_X = train_X.reshape(-1, 10,101, 1)\n",
        "  test_X = test_X.reshape(-1, 10,101, 1)\n",
        "\n",
        "  #train_X, train_y = shuffle(test_X, test_y, random_state=2)\n",
        "  #test_X, test_y = shuffle(test_X, test_y, random_state=2)\n",
        "  \n",
        "  train_X,valid_X,train_label,valid_label = train_test_split(train_X, \n",
        "                                                             train_y, \n",
        "                                                             test_size=0.2, \n",
        "                                                             random_state=13)\n",
        "\n",
        "  train_label_categorical = np_utils.to_categorical(train_label-1)\n",
        "  valid_label_categorical = np_utils.to_categorical(valid_label-1)\n",
        "  test_y = np_utils.to_categorical(test_y-1)\n",
        "\n",
        "  batch_size = 16\n",
        "  epochs = 100\n",
        "  num_classes = 2\n",
        "\n",
        "  cnn_model = Sequential()\n",
        "  cnn_model.add(Conv2D(8, kernel_size=(40, 4),activation='relu',input_shape=(10,101,1),padding='same'))\n",
        "  # cnn_model.add(MaxPooling2D((2, 2),padding='same'))\n",
        "  cnn_model.add(BatchNormalization())\n",
        "  cnn_model.add(Dropout(0.2))\n",
        "\n",
        "  cnn_model.add(Conv2D(16, (80, 4), activation='relu',padding='same'))\n",
        "  # cnn_model.add(MaxPooling2D(pool_size=(2, 2),padding='same'))\n",
        "  cnn_model.add(BatchNormalization())\n",
        "  cnn_model.add(Dropout(0.25))\n",
        "\n",
        "  cnn_model.add(Conv2D(32, (80, 4), activation='relu',padding='same'))         \n",
        "  # cnn_model.add(MaxPooling2D(pool_size=(2, 2),padding='same'))\n",
        "  cnn_model.add(BatchNormalization())\n",
        "  cnn_model.add(Dropout(0.3))\n",
        "\n",
        "  cnn_model.add(Flatten())\n",
        "  cnn_model.add(Dense(128, activation='relu'))\n",
        "  cnn_model.add(Dense(num_classes, activation='sigmoid'))\n",
        "\n",
        "  # set a valid path for your system to record model checkpoints\n",
        "  checkpointer = ModelCheckpoint(filepath='/tmp/checkpoint.h5', verbose=1,\n",
        "                               save_best_only=True)\n",
        "  \n",
        "  y_integers = np.argmax(train_label_categorical, axis=1)\n",
        "  class_weights = compute_class_weight(class_weight='balanced', classes=np.unique(y_integers), y=y_integers)\n",
        "  d_class_weights = dict(enumerate(class_weights))\n",
        "\n",
        "  opt = SGD(lr=0.01)\n",
        "  #opt = Adam(lr=0.001, beta_1=0.9, beta_2=0.999, epsilon=None, decay=0.01, amsgrad=False)\n",
        "\n",
        "  cnn_model.compile(optimizer=opt,\n",
        "          loss = \"categorical_crossentropy\",\n",
        "          metrics=['accuracy'])\n",
        "  \n",
        "  cnn_train = cnn_model.fit(train_X, train_label_categorical, batch_size=batch_size, \n",
        "                          epochs=epochs,\n",
        "                          verbose=1,\n",
        "                          validation_data=(valid_X, valid_label_categorical), \n",
        "                          callbacks=[checkpointer], \n",
        "                          class_weight = d_class_weights\n",
        "                          )\n",
        "\n",
        "  test_eval = cnn_model.evaluate(test_X, test_y, verbose=0)\n",
        "\n",
        "  pred_prob_conv = cnn_model.predict(test_X)\n",
        "\n",
        "  pred_y_conv = np.argmax(pred_prob_conv, axis=1)  # only necessary if output has one-hot-encoding, shape=(n_samples)\n",
        "  test_y_conv = np.argmax(test_y, axis=1)\n",
        "\n",
        "  return cnn_model, cnn_train, test_eval, test_y_conv, pred_y_conv\n"
      ],
      "metadata": {
        "id": "uNT_ZJLBqAEP"
      },
      "execution_count": 14,
      "outputs": []
    },
    {
      "cell_type": "code",
      "source": [
        "def vis_confusion_matrix(test_y_conv, pred_y_conv, subject):\n",
        "  confusion_matrix = metrics.confusion_matrix(y_true=test_y, \n",
        "                                              y_pred=y_pred_labels)\n",
        "  \n",
        "  ax = sns.heatmap(confusion_matrix, annot=True, \n",
        "            fmt='.2%', cmap='Blues')\n",
        "\n",
        "  ax.set_title('CNN Confusion Matrix | Subject '+ (subject+1) +'\\n\\n');\n",
        "  ax.set_xlabel('\\nPredicted Values')\n",
        "  ax.set_ylabel('Actual Values ');\n",
        "\n",
        "  ## Ticket labels - List must be in alphabetical order\n",
        "  ax.xaxis.set_ticklabels(['NI','AC'])\n",
        "  ax.yaxis.set_ticklabels(['NI','AC'])\n",
        "\n",
        "  ## Display the visualization of the Confusion Matrix.\n",
        "  plt.show()"
      ],
      "metadata": {
        "id": "tsBN7V6nsKtP"
      },
      "execution_count": 7,
      "outputs": []
    },
    {
      "cell_type": "code",
      "source": [
        "def vis_acc_loss(cnn_train):\n",
        "  accuracy = cnn_train.history['accuracy']\n",
        "  val_accuracy = cnn_train.history['val_accuracy']\n",
        "  loss = cnn_train.history['loss']\n",
        "  val_loss = cnn_train.history['val_loss']\n",
        "  epochs = range(len(accuracy))\n",
        "  plt.plot(epochs, accuracy, 'bo', label='Training accuracy')\n",
        "  plt.plot(epochs, val_accuracy, 'b', label='Validation accuracy')\n",
        "  plt.title('Training and validation accuracy')\n",
        "  plt.legend()\n",
        "  plt.figure()\n",
        "  plt.plot(epochs, loss, 'bo', label='Training loss')\n",
        "  plt.plot(epochs, val_loss, 'b', label='Validation loss')\n",
        "  plt.title('Training and validation loss')\n",
        "  plt.legend()\n",
        "  plt.show()"
      ],
      "metadata": {
        "id": "V3HZLcOas4Fi"
      },
      "execution_count": 8,
      "outputs": []
    },
    {
      "cell_type": "code",
      "source": [
        "cnn_models = []"
      ],
      "metadata": {
        "id": "omtOEMfJ0vXa"
      },
      "execution_count": 9,
      "outputs": []
    },
    {
      "cell_type": "code",
      "source": [
        "subject = 0\n",
        "train_X, train_y = raw_to_data(active[subject], 0)\n",
        "pas_X, pas_y = raw_to_data(passive[subject], 1) #passive = 1\n",
        "cue_X, cue_y = raw_to_data(cue[subject],2) #ignore = 2\n",
        "\n",
        "test_X = np.append(cue_X, pas_X, axis = 0)\n",
        "test_y = np.append(cue_y, pas_y, axis = 0)\n"
      ],
      "metadata": {
        "colab": {
          "base_uri": "https://localhost:8080/"
        },
        "id": "R-e4NH7rCeX9",
        "outputId": "c86e367e-07af-46b3-b9eb-80afd4beded7"
      },
      "execution_count": 10,
      "outputs": [
        {
          "output_type": "stream",
          "name": "stdout",
          "text": [
            "Filtering raw data in 1 contiguous segment\n",
            "Setting up high-pass filter at 1 Hz\n",
            "\n",
            "FIR filter parameters\n",
            "---------------------\n",
            "Designing a one-pass, zero-phase, non-causal highpass filter:\n",
            "- Windowed time-domain design (firwin) method\n",
            "- Hamming window with 0.0194 passband ripple and 53 dB stopband attenuation\n",
            "- Lower passband edge: 1.00\n",
            "- Lower transition bandwidth: 1.00 Hz (-6 dB cutoff frequency: 0.50 Hz)\n",
            "- Filter length: 331 samples (3.310 sec)\n",
            "\n",
            "Fitting ICA to data using 10 channels (please be patient, this may take a while)\n",
            "Selecting by number: 10 components\n",
            "Fitting ICA took 1.6s.\n",
            "Filtering raw data in 1 contiguous segment\n",
            "Setting up high-pass filter at 1 Hz\n",
            "\n",
            "FIR filter parameters\n",
            "---------------------\n",
            "Designing a one-pass, zero-phase, non-causal highpass filter:\n",
            "- Windowed time-domain design (firwin) method\n",
            "- Hamming window with 0.0194 passband ripple and 53 dB stopband attenuation\n",
            "- Lower passband edge: 1.00\n",
            "- Lower transition bandwidth: 1.00 Hz (-6 dB cutoff frequency: 0.50 Hz)\n",
            "- Filter length: 331 samples (3.310 sec)\n",
            "\n",
            "Fitting ICA to data using 10 channels (please be patient, this may take a while)\n",
            "Selecting by number: 10 components\n",
            "Fitting ICA took 0.5s.\n",
            "Filtering raw data in 1 contiguous segment\n",
            "Setting up high-pass filter at 1 Hz\n",
            "\n",
            "FIR filter parameters\n",
            "---------------------\n",
            "Designing a one-pass, zero-phase, non-causal highpass filter:\n",
            "- Windowed time-domain design (firwin) method\n",
            "- Hamming window with 0.0194 passband ripple and 53 dB stopband attenuation\n",
            "- Lower passband edge: 1.00\n",
            "- Lower transition bandwidth: 1.00 Hz (-6 dB cutoff frequency: 0.50 Hz)\n",
            "- Filter length: 331 samples (3.310 sec)\n",
            "\n",
            "Fitting ICA to data using 10 channels (please be patient, this may take a while)\n",
            "Selecting by number: 10 components\n",
            "Fitting ICA took 0.2s.\n"
          ]
        }
      ]
    },
    {
      "cell_type": "code",
      "source": [
        "\n",
        "#train_X, train_y = shuffle(test_X, test_y, random_state=0)\n",
        "# test_X, test_y = shuffle(test_X, test_y, random_state=0)\n",
        "\n",
        "# from collections import Counter\n",
        "\n",
        "# n = Counter(train_y)\n",
        "# ratio = int(n[1]/n[2])\n",
        "# print(ratio, n)\n",
        "# print(train_y)\n",
        "\n",
        "# train_label_categorical = np_utils.to_categorical(train_y-1)\n",
        "# print(train_label_categorical)\n",
        "\n",
        "# # train_X,valid_X,train_label,valid_label = train_test_split(train_X, \n",
        "# #                                                             train_y, \n",
        "# #                                                             test_size=0.3, \n",
        "# #                                                             random_state=13)\n",
        "\n",
        "# n = Counter(train_label)\n",
        "# ratio = int(n[1]/n[2])\n",
        "# print(ratio, n)\n",
        "\n",
        "# n = Counter(valid_label)\n",
        "# ratio = int(n[1]/n[2])\n",
        "# print(ratio, n)\n",
        "\n",
        "# train_label, valid_label\n"
      ],
      "metadata": {
        "colab": {
          "base_uri": "https://localhost:8080/"
        },
        "id": "UcBdhZ6Vu-_I",
        "outputId": "d068cef5-30ac-4619-ddc1-2c6143179b0d"
      },
      "execution_count": 47,
      "outputs": [
        {
          "output_type": "stream",
          "name": "stdout",
          "text": [
            "2 Counter({1: 360, 2: 180})\n",
            "[2 2 2 2 2 2 2 2 2 2 2 2 2 2 2 2 2 2 2 2 2 2 2 2 2 2 2 2 2 2 1 1 1 1 1 1 1\n",
            " 1 1 1 2 2 2 2 2 2 2 2 2 2 1 1 1 1 1 1 1 1 1 1 1 1 1 1 1 1 1 1 1 1 2 2 2 2\n",
            " 2 2 2 2 2 2 2 2 2 2 2 2 2 2 2 2 1 1 1 1 1 1 1 1 1 1 1 1 1 1 1 1 1 1 1 1 1\n",
            " 1 1 1 1 1 1 1 1 1 1 1 1 1 1 1 1 1 1 1 1 1 1 1 1 1 1 1 1 1 1 1 1 1 1 1 1 1\n",
            " 1 1 1 1 1 1 1 1 1 1 1 1 2 2 2 2 2 2 2 2 2 2 1 1 1 1 1 1 1 1 1 1 2 2 2 2 2\n",
            " 2 2 2 2 2 2 2 2 2 2 2 2 2 2 2 1 1 1 1 1 1 1 1 1 1 1 1 1 1 1 1 1 1 1 1 1 1\n",
            " 1 1 1 1 1 1 1 1 1 1 1 1 1 1 1 1 1 1 2 2 2 2 2 2 2 2 2 2 1 1 1 1 1 1 1 1 1\n",
            " 1 1 1 1 1 1 1 1 1 1 1 1 1 1 1 1 1 1 1 1 1 2 2 2 2 2 2 2 2 2 2 2 2 2 2 2 2\n",
            " 2 2 2 2 1 1 1 1 1 1 1 1 1 1 1 1 1 1 1 1 1 1 1 1 1 1 1 1 1 1 1 1 1 1 2 2 2\n",
            " 2 2 2 2 2 2 2 1 1 1 1 1 1 1 1 1 1 1 1 1 1 1 1 1 1 1 1 2 2 2 2 2 2 2 2 2 2\n",
            " 1 1 1 1 1 1 1 1 1 1 2 2 2 2 2 2 2 2 2 2 1 1 1 1 1 1 1 1 1 1 1 1 1 1 1 1 1\n",
            " 1 1 1 1 1 1 1 1 1 1 1 1 1 1 1 1 1 1 1 1 1 1 1 2 2 2 2 2 2 2 2 2 2 2 2 2 2\n",
            " 2 2 2 2 2 2 1 1 1 1 1 1 1 1 1 1 1 1 1 1 1 1 1 1 1 1 1 1 1 1 1 1 1 1 1 1 1\n",
            " 1 1 1 1 1 1 1 1 1 1 1 1 1 1 1 1 1 1 1 1 1 1 1 1 1 1 1 1 1 2 2 2 2 2 2 2 2\n",
            " 2 2 1 1 1 1 1 1 1 1 1 1 1 1 1 1 1 1 1 1 1 1]\n",
            "[[0. 1.]\n",
            " [0. 1.]\n",
            " [0. 1.]\n",
            " ...\n",
            " [1. 0.]\n",
            " [1. 0.]\n",
            " [1. 0.]]\n",
            "2 Counter({1: 256, 2: 122})\n",
            "1 Counter({1: 104, 2: 58})\n"
          ]
        },
        {
          "output_type": "execute_result",
          "data": {
            "text/plain": [
              "{0: 0.75, 1: 1.5}"
            ]
          },
          "metadata": {},
          "execution_count": 47
        }
      ]
    },
    {
      "cell_type": "code",
      "source": [
        "cnn_model, cnn_train, test_eval, test_y_conv, pred_y_conv = cnn_101(train_X, \n",
        "                                                                    test_X, \n",
        "                                                                    train_y, \n",
        "                                                                    test_y)\n",
        "\n",
        "cnn_models.append(cnn_model)"
      ],
      "metadata": {
        "colab": {
          "base_uri": "https://localhost:8080/",
          "height": 1000
        },
        "id": "8ANiLocaCXAM",
        "outputId": "290bba83-0268-4aca-f3d3-89158b4d2e73"
      },
      "execution_count": 15,
      "outputs": [
        {
          "output_type": "stream",
          "name": "stdout",
          "text": [
            "Epoch 1/100\n"
          ]
        },
        {
          "output_type": "stream",
          "name": "stderr",
          "text": [
            "/usr/local/lib/python3.7/dist-packages/keras/optimizer_v2/gradient_descent.py:102: UserWarning: The `lr` argument is deprecated, use `learning_rate` instead.\n",
            "  super(SGD, self).__init__(name, **kwargs)\n"
          ]
        },
        {
          "output_type": "stream",
          "name": "stdout",
          "text": [
            "27/27 [==============================] - ETA: 0s - loss: 1.6611 - accuracy: 0.5486\n",
            "Epoch 1: val_loss improved from inf to 0.69587, saving model to /tmp/checkpoint.h5\n",
            "27/27 [==============================] - 27s 986ms/step - loss: 1.6611 - accuracy: 0.5486 - val_loss: 0.6959 - val_accuracy: 0.3333\n",
            "Epoch 2/100\n",
            "27/27 [==============================] - ETA: 0s - loss: 0.7082 - accuracy: 0.6157\n",
            "Epoch 2: val_loss improved from 0.69587 to 0.68222, saving model to /tmp/checkpoint.h5\n",
            "27/27 [==============================] - 26s 972ms/step - loss: 0.7082 - accuracy: 0.6157 - val_loss: 0.6822 - val_accuracy: 0.6759\n",
            "Epoch 3/100\n",
            "27/27 [==============================] - ETA: 0s - loss: 0.6089 - accuracy: 0.6759\n",
            "Epoch 3: val_loss improved from 0.68222 to 0.65351, saving model to /tmp/checkpoint.h5\n",
            "27/27 [==============================] - 26s 976ms/step - loss: 0.6089 - accuracy: 0.6759 - val_loss: 0.6535 - val_accuracy: 0.6667\n",
            "Epoch 4/100\n",
            "27/27 [==============================] - ETA: 0s - loss: 0.5578 - accuracy: 0.7199\n",
            "Epoch 4: val_loss improved from 0.65351 to 0.63331, saving model to /tmp/checkpoint.h5\n",
            "27/27 [==============================] - 26s 972ms/step - loss: 0.5578 - accuracy: 0.7199 - val_loss: 0.6333 - val_accuracy: 0.6667\n",
            "Epoch 5/100\n",
            "27/27 [==============================] - ETA: 0s - loss: 0.5457 - accuracy: 0.7106\n",
            "Epoch 5: val_loss did not improve from 0.63331\n",
            "27/27 [==============================] - 26s 967ms/step - loss: 0.5457 - accuracy: 0.7106 - val_loss: 0.6557 - val_accuracy: 0.6667\n",
            "Epoch 6/100\n",
            "27/27 [==============================] - ETA: 0s - loss: 0.5169 - accuracy: 0.7199\n",
            "Epoch 6: val_loss did not improve from 0.63331\n",
            "27/27 [==============================] - 26s 975ms/step - loss: 0.5169 - accuracy: 0.7199 - val_loss: 0.6628 - val_accuracy: 0.6667\n",
            "Epoch 7/100\n",
            "27/27 [==============================] - ETA: 0s - loss: 0.4823 - accuracy: 0.7662\n",
            "Epoch 7: val_loss did not improve from 0.63331\n",
            "27/27 [==============================] - 26s 966ms/step - loss: 0.4823 - accuracy: 0.7662 - val_loss: 0.7348 - val_accuracy: 0.6667\n",
            "Epoch 8/100\n",
            "27/27 [==============================] - ETA: 0s - loss: 0.4405 - accuracy: 0.8009\n",
            "Epoch 8: val_loss did not improve from 0.63331\n",
            "27/27 [==============================] - 26s 957ms/step - loss: 0.4405 - accuracy: 0.8009 - val_loss: 0.9970 - val_accuracy: 0.6667\n",
            "Epoch 9/100\n",
            "27/27 [==============================] - ETA: 0s - loss: 0.3783 - accuracy: 0.8310\n",
            "Epoch 9: val_loss did not improve from 0.63331\n",
            "27/27 [==============================] - 26s 948ms/step - loss: 0.3783 - accuracy: 0.8310 - val_loss: 1.4933 - val_accuracy: 0.6667\n",
            "Epoch 10/100\n",
            "27/27 [==============================] - ETA: 0s - loss: 0.3468 - accuracy: 0.8519\n",
            "Epoch 10: val_loss did not improve from 0.63331\n",
            "27/27 [==============================] - 25s 943ms/step - loss: 0.3468 - accuracy: 0.8519 - val_loss: 1.7122 - val_accuracy: 0.6667\n",
            "Epoch 11/100\n",
            "27/27 [==============================] - ETA: 0s - loss: 0.2209 - accuracy: 0.9120\n",
            "Epoch 11: val_loss did not improve from 0.63331\n",
            "27/27 [==============================] - 25s 945ms/step - loss: 0.2209 - accuracy: 0.9120 - val_loss: 1.3278 - val_accuracy: 0.6667\n",
            "Epoch 12/100\n",
            "27/27 [==============================] - ETA: 0s - loss: 0.1601 - accuracy: 0.9398\n",
            "Epoch 12: val_loss did not improve from 0.63331\n",
            "27/27 [==============================] - 26s 951ms/step - loss: 0.1601 - accuracy: 0.9398 - val_loss: 0.8526 - val_accuracy: 0.6667\n",
            "Epoch 13/100\n",
            "27/27 [==============================] - ETA: 0s - loss: 0.1741 - accuracy: 0.9259\n",
            "Epoch 13: val_loss improved from 0.63331 to 0.62837, saving model to /tmp/checkpoint.h5\n",
            "27/27 [==============================] - 26s 961ms/step - loss: 0.1741 - accuracy: 0.9259 - val_loss: 0.6284 - val_accuracy: 0.6759\n",
            "Epoch 14/100\n",
            "27/27 [==============================] - ETA: 0s - loss: 0.1049 - accuracy: 0.9606\n",
            "Epoch 14: val_loss improved from 0.62837 to 0.62121, saving model to /tmp/checkpoint.h5\n",
            "27/27 [==============================] - 26s 980ms/step - loss: 0.1049 - accuracy: 0.9606 - val_loss: 0.6212 - val_accuracy: 0.6667\n",
            "Epoch 15/100\n",
            "27/27 [==============================] - ETA: 0s - loss: 0.0917 - accuracy: 0.9676\n",
            "Epoch 15: val_loss improved from 0.62121 to 0.39427, saving model to /tmp/checkpoint.h5\n",
            "27/27 [==============================] - 26s 984ms/step - loss: 0.0917 - accuracy: 0.9676 - val_loss: 0.3943 - val_accuracy: 0.7593\n",
            "Epoch 16/100\n",
            "27/27 [==============================] - ETA: 0s - loss: 0.0808 - accuracy: 0.9722\n",
            "Epoch 16: val_loss did not improve from 0.39427\n",
            "27/27 [==============================] - 27s 999ms/step - loss: 0.0808 - accuracy: 0.9722 - val_loss: 0.6803 - val_accuracy: 0.6944\n",
            "Epoch 17/100\n",
            "27/27 [==============================] - ETA: 0s - loss: 0.0821 - accuracy: 0.9699\n",
            "Epoch 17: val_loss did not improve from 0.39427\n",
            "27/27 [==============================] - 27s 990ms/step - loss: 0.0821 - accuracy: 0.9699 - val_loss: 0.5966 - val_accuracy: 0.6574\n",
            "Epoch 18/100\n",
            "27/27 [==============================] - ETA: 0s - loss: 0.0477 - accuracy: 0.9838\n",
            "Epoch 18: val_loss did not improve from 0.39427\n",
            "27/27 [==============================] - 26s 978ms/step - loss: 0.0477 - accuracy: 0.9838 - val_loss: 0.4576 - val_accuracy: 0.7593\n",
            "Epoch 19/100\n",
            "27/27 [==============================] - ETA: 0s - loss: 0.0284 - accuracy: 0.9884\n",
            "Epoch 19: val_loss did not improve from 0.39427\n",
            "27/27 [==============================] - 26s 982ms/step - loss: 0.0284 - accuracy: 0.9884 - val_loss: 1.7572 - val_accuracy: 0.6759\n",
            "Epoch 20/100\n",
            "27/27 [==============================] - ETA: 0s - loss: 0.0301 - accuracy: 0.9907\n",
            "Epoch 20: val_loss did not improve from 0.39427\n",
            "27/27 [==============================] - 26s 983ms/step - loss: 0.0301 - accuracy: 0.9907 - val_loss: 0.8200 - val_accuracy: 0.6944\n",
            "Epoch 21/100\n",
            "27/27 [==============================] - ETA: 0s - loss: 0.0242 - accuracy: 0.9931\n",
            "Epoch 21: val_loss did not improve from 0.39427\n",
            "27/27 [==============================] - 26s 976ms/step - loss: 0.0242 - accuracy: 0.9931 - val_loss: 1.1685 - val_accuracy: 0.7037\n",
            "Epoch 22/100\n",
            "27/27 [==============================] - ETA: 0s - loss: 0.0177 - accuracy: 0.9954\n",
            "Epoch 22: val_loss improved from 0.39427 to 0.27849, saving model to /tmp/checkpoint.h5\n",
            "27/27 [==============================] - 27s 1s/step - loss: 0.0177 - accuracy: 0.9954 - val_loss: 0.2785 - val_accuracy: 0.8704\n",
            "Epoch 23/100\n",
            "27/27 [==============================] - ETA: 0s - loss: 0.0122 - accuracy: 0.9977\n",
            "Epoch 23: val_loss did not improve from 0.27849\n",
            "27/27 [==============================] - 27s 993ms/step - loss: 0.0122 - accuracy: 0.9977 - val_loss: 0.6163 - val_accuracy: 0.8056\n",
            "Epoch 24/100\n",
            "27/27 [==============================] - ETA: 0s - loss: 0.0062 - accuracy: 1.0000\n",
            "Epoch 24: val_loss did not improve from 0.27849\n",
            "27/27 [==============================] - 27s 986ms/step - loss: 0.0062 - accuracy: 1.0000 - val_loss: 0.3957 - val_accuracy: 0.8519\n",
            "Epoch 25/100\n",
            "27/27 [==============================] - ETA: 0s - loss: 0.0099 - accuracy: 1.0000\n",
            "Epoch 25: val_loss did not improve from 0.27849\n",
            "27/27 [==============================] - 27s 987ms/step - loss: 0.0099 - accuracy: 1.0000 - val_loss: 0.7948 - val_accuracy: 0.8056\n",
            "Epoch 26/100\n",
            "27/27 [==============================] - ETA: 0s - loss: 0.0140 - accuracy: 0.9954\n",
            "Epoch 26: val_loss improved from 0.27849 to 0.19097, saving model to /tmp/checkpoint.h5\n",
            "27/27 [==============================] - 27s 992ms/step - loss: 0.0140 - accuracy: 0.9954 - val_loss: 0.1910 - val_accuracy: 0.9259\n",
            "Epoch 27/100\n",
            "27/27 [==============================] - ETA: 0s - loss: 0.0063 - accuracy: 1.0000\n",
            "Epoch 27: val_loss did not improve from 0.19097\n",
            "27/27 [==============================] - 27s 984ms/step - loss: 0.0063 - accuracy: 1.0000 - val_loss: 0.2331 - val_accuracy: 0.9259\n",
            "Epoch 28/100\n",
            "27/27 [==============================] - ETA: 0s - loss: 0.0077 - accuracy: 0.9977\n",
            "Epoch 28: val_loss did not improve from 0.19097\n",
            "27/27 [==============================] - 27s 986ms/step - loss: 0.0077 - accuracy: 0.9977 - val_loss: 0.2600 - val_accuracy: 0.9167\n",
            "Epoch 29/100\n",
            "27/27 [==============================] - ETA: 0s - loss: 0.0039 - accuracy: 1.0000\n",
            "Epoch 29: val_loss did not improve from 0.19097\n",
            "27/27 [==============================] - 27s 984ms/step - loss: 0.0039 - accuracy: 1.0000 - val_loss: 0.2293 - val_accuracy: 0.9167\n",
            "Epoch 30/100\n",
            "27/27 [==============================] - ETA: 0s - loss: 0.0039 - accuracy: 1.0000\n",
            "Epoch 30: val_loss did not improve from 0.19097\n",
            "27/27 [==============================] - 27s 1s/step - loss: 0.0039 - accuracy: 1.0000 - val_loss: 0.2156 - val_accuracy: 0.9352\n",
            "Epoch 31/100\n",
            "27/27 [==============================] - ETA: 0s - loss: 0.0033 - accuracy: 1.0000\n",
            "Epoch 31: val_loss did not improve from 0.19097\n",
            "27/27 [==============================] - 26s 984ms/step - loss: 0.0033 - accuracy: 1.0000 - val_loss: 0.2178 - val_accuracy: 0.9167\n",
            "Epoch 32/100\n",
            "27/27 [==============================] - ETA: 0s - loss: 0.0035 - accuracy: 1.0000\n",
            "Epoch 32: val_loss did not improve from 0.19097\n",
            "27/27 [==============================] - 26s 981ms/step - loss: 0.0035 - accuracy: 1.0000 - val_loss: 0.2180 - val_accuracy: 0.9259\n",
            "Epoch 33/100\n",
            "27/27 [==============================] - ETA: 0s - loss: 0.0067 - accuracy: 1.0000\n",
            "Epoch 33: val_loss did not improve from 0.19097\n",
            "27/27 [==============================] - 26s 955ms/step - loss: 0.0067 - accuracy: 1.0000 - val_loss: 0.2722 - val_accuracy: 0.9074\n",
            "Epoch 34/100\n",
            "27/27 [==============================] - ETA: 0s - loss: 0.0026 - accuracy: 1.0000\n",
            "Epoch 34: val_loss did not improve from 0.19097\n",
            "27/27 [==============================] - 26s 961ms/step - loss: 0.0026 - accuracy: 1.0000 - val_loss: 0.2609 - val_accuracy: 0.8981\n",
            "Epoch 35/100\n",
            "27/27 [==============================] - ETA: 0s - loss: 0.0018 - accuracy: 1.0000\n",
            "Epoch 35: val_loss did not improve from 0.19097\n",
            "27/27 [==============================] - 25s 942ms/step - loss: 0.0018 - accuracy: 1.0000 - val_loss: 0.2308 - val_accuracy: 0.9259\n",
            "Epoch 36/100\n",
            "27/27 [==============================] - ETA: 0s - loss: 0.0036 - accuracy: 1.0000\n",
            "Epoch 36: val_loss did not improve from 0.19097\n",
            "27/27 [==============================] - 25s 945ms/step - loss: 0.0036 - accuracy: 1.0000 - val_loss: 0.2305 - val_accuracy: 0.8981\n",
            "Epoch 37/100\n",
            "27/27 [==============================] - ETA: 0s - loss: 0.0020 - accuracy: 1.0000\n",
            "Epoch 37: val_loss did not improve from 0.19097\n",
            "27/27 [==============================] - 26s 952ms/step - loss: 0.0020 - accuracy: 1.0000 - val_loss: 0.2143 - val_accuracy: 0.9352\n",
            "Epoch 38/100\n",
            "27/27 [==============================] - ETA: 0s - loss: 0.0021 - accuracy: 1.0000\n",
            "Epoch 38: val_loss did not improve from 0.19097\n",
            "27/27 [==============================] - 26s 959ms/step - loss: 0.0021 - accuracy: 1.0000 - val_loss: 0.2037 - val_accuracy: 0.9352\n",
            "Epoch 39/100\n",
            "27/27 [==============================] - ETA: 0s - loss: 0.0030 - accuracy: 1.0000\n",
            "Epoch 39: val_loss did not improve from 0.19097\n",
            "27/27 [==============================] - 27s 987ms/step - loss: 0.0030 - accuracy: 1.0000 - val_loss: 0.2285 - val_accuracy: 0.9259\n",
            "Epoch 40/100\n",
            "27/27 [==============================] - ETA: 0s - loss: 0.0032 - accuracy: 1.0000\n",
            "Epoch 40: val_loss did not improve from 0.19097\n",
            "27/27 [==============================] - 27s 1s/step - loss: 0.0032 - accuracy: 1.0000 - val_loss: 0.2445 - val_accuracy: 0.9259\n",
            "Epoch 41/100\n",
            "27/27 [==============================] - ETA: 0s - loss: 0.0025 - accuracy: 1.0000\n",
            "Epoch 41: val_loss did not improve from 0.19097\n",
            "27/27 [==============================] - 27s 1s/step - loss: 0.0025 - accuracy: 1.0000 - val_loss: 0.2183 - val_accuracy: 0.9167\n",
            "Epoch 42/100\n",
            "27/27 [==============================] - ETA: 0s - loss: 0.0021 - accuracy: 1.0000\n",
            "Epoch 42: val_loss did not improve from 0.19097\n",
            "27/27 [==============================] - 27s 1s/step - loss: 0.0021 - accuracy: 1.0000 - val_loss: 0.2199 - val_accuracy: 0.9074\n",
            "Epoch 43/100\n",
            "27/27 [==============================] - ETA: 0s - loss: 9.2296e-04 - accuracy: 1.0000\n",
            "Epoch 43: val_loss did not improve from 0.19097\n",
            "27/27 [==============================] - 27s 997ms/step - loss: 9.2296e-04 - accuracy: 1.0000 - val_loss: 0.2129 - val_accuracy: 0.9167\n",
            "Epoch 44/100\n",
            "27/27 [==============================] - ETA: 0s - loss: 0.0025 - accuracy: 1.0000\n",
            "Epoch 44: val_loss did not improve from 0.19097\n",
            "27/27 [==============================] - 27s 991ms/step - loss: 0.0025 - accuracy: 1.0000 - val_loss: 0.2848 - val_accuracy: 0.9167\n",
            "Epoch 45/100\n",
            "27/27 [==============================] - ETA: 0s - loss: 0.0017 - accuracy: 1.0000\n",
            "Epoch 45: val_loss did not improve from 0.19097\n",
            "27/27 [==============================] - 27s 1s/step - loss: 0.0017 - accuracy: 1.0000 - val_loss: 0.2300 - val_accuracy: 0.9259\n",
            "Epoch 46/100\n",
            "27/27 [==============================] - ETA: 0s - loss: 0.0017 - accuracy: 1.0000\n",
            "Epoch 46: val_loss did not improve from 0.19097\n",
            "27/27 [==============================] - 27s 993ms/step - loss: 0.0017 - accuracy: 1.0000 - val_loss: 0.2183 - val_accuracy: 0.9259\n",
            "Epoch 47/100\n",
            "27/27 [==============================] - ETA: 0s - loss: 0.0027 - accuracy: 1.0000\n",
            "Epoch 47: val_loss did not improve from 0.19097\n",
            "27/27 [==============================] - 26s 951ms/step - loss: 0.0027 - accuracy: 1.0000 - val_loss: 0.2249 - val_accuracy: 0.9352\n",
            "Epoch 48/100\n",
            "27/27 [==============================] - ETA: 0s - loss: 0.0026 - accuracy: 1.0000\n",
            "Epoch 48: val_loss did not improve from 0.19097\n",
            "27/27 [==============================] - 35s 1s/step - loss: 0.0026 - accuracy: 1.0000 - val_loss: 0.2434 - val_accuracy: 0.9444\n",
            "Epoch 49/100\n",
            "27/27 [==============================] - ETA: 0s - loss: 0.0013 - accuracy: 1.0000\n",
            "Epoch 49: val_loss did not improve from 0.19097\n",
            "27/27 [==============================] - 29s 1s/step - loss: 0.0013 - accuracy: 1.0000 - val_loss: 0.2379 - val_accuracy: 0.9444\n",
            "Epoch 50/100\n",
            "27/27 [==============================] - ETA: 0s - loss: 0.0017 - accuracy: 1.0000\n",
            "Epoch 50: val_loss did not improve from 0.19097\n",
            "27/27 [==============================] - 26s 983ms/step - loss: 0.0017 - accuracy: 1.0000 - val_loss: 0.2324 - val_accuracy: 0.9352\n",
            "Epoch 51/100\n",
            "27/27 [==============================] - ETA: 0s - loss: 0.0010 - accuracy: 1.0000    \n",
            "Epoch 51: val_loss did not improve from 0.19097\n",
            "27/27 [==============================] - 27s 991ms/step - loss: 0.0010 - accuracy: 1.0000 - val_loss: 0.2377 - val_accuracy: 0.9352\n",
            "Epoch 52/100\n",
            "27/27 [==============================] - ETA: 0s - loss: 0.0125 - accuracy: 0.9931\n",
            "Epoch 52: val_loss did not improve from 0.19097\n",
            "27/27 [==============================] - 27s 1s/step - loss: 0.0125 - accuracy: 0.9931 - val_loss: 0.4710 - val_accuracy: 0.8889\n",
            "Epoch 53/100\n",
            "27/27 [==============================] - ETA: 0s - loss: 0.0051 - accuracy: 0.9977\n",
            "Epoch 53: val_loss did not improve from 0.19097\n",
            "27/27 [==============================] - 28s 1s/step - loss: 0.0051 - accuracy: 0.9977 - val_loss: 0.3961 - val_accuracy: 0.8981\n",
            "Epoch 54/100\n",
            "27/27 [==============================] - ETA: 0s - loss: 0.0085 - accuracy: 0.9977\n",
            "Epoch 54: val_loss did not improve from 0.19097\n",
            "27/27 [==============================] - 27s 1s/step - loss: 0.0085 - accuracy: 0.9977 - val_loss: 0.3305 - val_accuracy: 0.8981\n",
            "Epoch 55/100\n",
            "27/27 [==============================] - ETA: 0s - loss: 0.0019 - accuracy: 1.0000\n",
            "Epoch 55: val_loss did not improve from 0.19097\n",
            "27/27 [==============================] - 27s 999ms/step - loss: 0.0019 - accuracy: 1.0000 - val_loss: 0.2967 - val_accuracy: 0.9074\n",
            "Epoch 56/100\n",
            "27/27 [==============================] - ETA: 0s - loss: 0.0017 - accuracy: 1.0000\n",
            "Epoch 56: val_loss did not improve from 0.19097\n",
            "27/27 [==============================] - 27s 996ms/step - loss: 0.0017 - accuracy: 1.0000 - val_loss: 0.2845 - val_accuracy: 0.9167\n",
            "Epoch 57/100\n",
            "27/27 [==============================] - ETA: 0s - loss: 0.0013 - accuracy: 1.0000\n",
            "Epoch 57: val_loss did not improve from 0.19097\n",
            "27/27 [==============================] - 26s 979ms/step - loss: 0.0013 - accuracy: 1.0000 - val_loss: 0.2765 - val_accuracy: 0.9167\n",
            "Epoch 58/100\n",
            "27/27 [==============================] - ETA: 0s - loss: 0.0010 - accuracy: 1.0000\n",
            "Epoch 58: val_loss did not improve from 0.19097\n",
            "27/27 [==============================] - 26s 970ms/step - loss: 0.0010 - accuracy: 1.0000 - val_loss: 0.2612 - val_accuracy: 0.9259\n",
            "Epoch 59/100\n",
            "27/27 [==============================] - ETA: 0s - loss: 0.0017 - accuracy: 1.0000\n",
            "Epoch 59: val_loss did not improve from 0.19097\n",
            "27/27 [==============================] - 26s 953ms/step - loss: 0.0017 - accuracy: 1.0000 - val_loss: 0.2665 - val_accuracy: 0.9167\n",
            "Epoch 60/100\n",
            "27/27 [==============================] - ETA: 0s - loss: 0.0019 - accuracy: 1.0000\n",
            "Epoch 60: val_loss did not improve from 0.19097\n",
            "27/27 [==============================] - 25s 942ms/step - loss: 0.0019 - accuracy: 1.0000 - val_loss: 0.2650 - val_accuracy: 0.9167\n",
            "Epoch 61/100\n",
            "27/27 [==============================] - ETA: 0s - loss: 7.4443e-04 - accuracy: 1.0000\n",
            "Epoch 61: val_loss did not improve from 0.19097\n",
            "27/27 [==============================] - 26s 952ms/step - loss: 7.4443e-04 - accuracy: 1.0000 - val_loss: 0.2576 - val_accuracy: 0.9259\n",
            "Epoch 62/100\n",
            "27/27 [==============================] - ETA: 0s - loss: 8.3351e-04 - accuracy: 1.0000\n",
            "Epoch 62: val_loss did not improve from 0.19097\n",
            "27/27 [==============================] - 25s 939ms/step - loss: 8.3351e-04 - accuracy: 1.0000 - val_loss: 0.2648 - val_accuracy: 0.9259\n",
            "Epoch 63/100\n",
            "27/27 [==============================] - ETA: 0s - loss: 0.0022 - accuracy: 1.0000\n",
            "Epoch 63: val_loss did not improve from 0.19097\n",
            "27/27 [==============================] - 25s 944ms/step - loss: 0.0022 - accuracy: 1.0000 - val_loss: 0.2475 - val_accuracy: 0.9259\n",
            "Epoch 64/100\n",
            "27/27 [==============================] - ETA: 0s - loss: 0.0012 - accuracy: 1.0000\n",
            "Epoch 64: val_loss did not improve from 0.19097\n",
            "27/27 [==============================] - 25s 941ms/step - loss: 0.0012 - accuracy: 1.0000 - val_loss: 0.2461 - val_accuracy: 0.9259\n",
            "Epoch 65/100\n",
            "27/27 [==============================] - ETA: 0s - loss: 0.0027 - accuracy: 1.0000\n",
            "Epoch 65: val_loss did not improve from 0.19097\n",
            "27/27 [==============================] - 25s 937ms/step - loss: 0.0027 - accuracy: 1.0000 - val_loss: 0.3732 - val_accuracy: 0.8889\n",
            "Epoch 66/100\n",
            "27/27 [==============================] - ETA: 0s - loss: 0.0025 - accuracy: 1.0000\n",
            "Epoch 66: val_loss did not improve from 0.19097\n",
            "27/27 [==============================] - 25s 939ms/step - loss: 0.0025 - accuracy: 1.0000 - val_loss: 0.8741 - val_accuracy: 0.8148\n",
            "Epoch 67/100\n",
            "27/27 [==============================] - ETA: 0s - loss: 6.3245e-04 - accuracy: 1.0000\n",
            "Epoch 67: val_loss did not improve from 0.19097\n",
            "27/27 [==============================] - 25s 943ms/step - loss: 6.3245e-04 - accuracy: 1.0000 - val_loss: 0.4578 - val_accuracy: 0.8519\n",
            "Epoch 68/100\n",
            "27/27 [==============================] - ETA: 0s - loss: 0.0028 - accuracy: 0.9977\n",
            "Epoch 68: val_loss did not improve from 0.19097\n",
            "27/27 [==============================] - 26s 964ms/step - loss: 0.0028 - accuracy: 0.9977 - val_loss: 0.3524 - val_accuracy: 0.9167\n",
            "Epoch 69/100\n",
            "27/27 [==============================] - ETA: 0s - loss: 7.5297e-04 - accuracy: 1.0000\n",
            "Epoch 69: val_loss did not improve from 0.19097\n",
            "27/27 [==============================] - 27s 984ms/step - loss: 7.5297e-04 - accuracy: 1.0000 - val_loss: 0.3021 - val_accuracy: 0.9259\n",
            "Epoch 70/100\n",
            "27/27 [==============================] - ETA: 0s - loss: 0.0045 - accuracy: 0.9977\n",
            "Epoch 70: val_loss did not improve from 0.19097\n",
            "27/27 [==============================] - 26s 971ms/step - loss: 0.0045 - accuracy: 0.9977 - val_loss: 0.2732 - val_accuracy: 0.9167\n",
            "Epoch 71/100\n",
            "27/27 [==============================] - ETA: 0s - loss: 7.4196e-04 - accuracy: 1.0000\n",
            "Epoch 71: val_loss did not improve from 0.19097\n",
            "27/27 [==============================] - 26s 966ms/step - loss: 7.4196e-04 - accuracy: 1.0000 - val_loss: 0.2639 - val_accuracy: 0.9259\n",
            "Epoch 72/100\n",
            "27/27 [==============================] - ETA: 0s - loss: 0.0058 - accuracy: 0.9977\n",
            "Epoch 72: val_loss did not improve from 0.19097\n",
            "27/27 [==============================] - 26s 971ms/step - loss: 0.0058 - accuracy: 0.9977 - val_loss: 0.3692 - val_accuracy: 0.9074\n",
            "Epoch 73/100\n",
            "27/27 [==============================] - ETA: 0s - loss: 0.0019 - accuracy: 1.0000\n",
            "Epoch 73: val_loss did not improve from 0.19097\n",
            "27/27 [==============================] - 26s 969ms/step - loss: 0.0019 - accuracy: 1.0000 - val_loss: 0.3064 - val_accuracy: 0.8981\n",
            "Epoch 74/100\n",
            "27/27 [==============================] - ETA: 0s - loss: 8.4324e-04 - accuracy: 1.0000\n",
            "Epoch 74: val_loss did not improve from 0.19097\n",
            "27/27 [==============================] - 26s 970ms/step - loss: 8.4324e-04 - accuracy: 1.0000 - val_loss: 0.3035 - val_accuracy: 0.9074\n",
            "Epoch 75/100\n",
            "27/27 [==============================] - ETA: 0s - loss: 0.0052 - accuracy: 0.9977\n",
            "Epoch 75: val_loss did not improve from 0.19097\n",
            "27/27 [==============================] - 26s 975ms/step - loss: 0.0052 - accuracy: 0.9977 - val_loss: 0.3023 - val_accuracy: 0.9074\n",
            "Epoch 76/100\n",
            "27/27 [==============================] - ETA: 0s - loss: 0.0018 - accuracy: 1.0000\n",
            "Epoch 76: val_loss did not improve from 0.19097\n",
            "27/27 [==============================] - 26s 964ms/step - loss: 0.0018 - accuracy: 1.0000 - val_loss: 0.3053 - val_accuracy: 0.9074\n",
            "Epoch 77/100\n",
            "27/27 [==============================] - ETA: 0s - loss: 7.6245e-04 - accuracy: 1.0000\n",
            "Epoch 77: val_loss did not improve from 0.19097\n",
            "27/27 [==============================] - 26s 975ms/step - loss: 7.6245e-04 - accuracy: 1.0000 - val_loss: 0.3067 - val_accuracy: 0.9074\n",
            "Epoch 78/100\n",
            "27/27 [==============================] - ETA: 0s - loss: 0.0011 - accuracy: 1.0000\n",
            "Epoch 78: val_loss did not improve from 0.19097\n",
            "27/27 [==============================] - 26s 975ms/step - loss: 0.0011 - accuracy: 1.0000 - val_loss: 0.3024 - val_accuracy: 0.9074\n",
            "Epoch 79/100\n",
            "27/27 [==============================] - ETA: 0s - loss: 6.9442e-04 - accuracy: 1.0000\n",
            "Epoch 79: val_loss did not improve from 0.19097\n",
            "27/27 [==============================] - 26s 966ms/step - loss: 6.9442e-04 - accuracy: 1.0000 - val_loss: 0.3031 - val_accuracy: 0.9074\n",
            "Epoch 80/100\n",
            "27/27 [==============================] - ETA: 0s - loss: 7.4782e-04 - accuracy: 1.0000\n",
            "Epoch 80: val_loss did not improve from 0.19097\n",
            "27/27 [==============================] - 26s 965ms/step - loss: 7.4782e-04 - accuracy: 1.0000 - val_loss: 0.3005 - val_accuracy: 0.9074\n",
            "Epoch 81/100\n",
            "27/27 [==============================] - ETA: 0s - loss: 0.0030 - accuracy: 1.0000    \n",
            "Epoch 81: val_loss did not improve from 0.19097\n",
            "27/27 [==============================] - 26s 978ms/step - loss: 0.0030 - accuracy: 1.0000 - val_loss: 0.4866 - val_accuracy: 0.8704\n",
            "Epoch 82/100\n",
            "27/27 [==============================] - ETA: 0s - loss: 0.0026 - accuracy: 1.0000\n",
            "Epoch 82: val_loss did not improve from 0.19097\n",
            "27/27 [==============================] - 27s 1s/step - loss: 0.0026 - accuracy: 1.0000 - val_loss: 0.3324 - val_accuracy: 0.8889\n",
            "Epoch 83/100\n",
            "27/27 [==============================] - ETA: 0s - loss: 0.0013 - accuracy: 1.0000\n",
            "Epoch 83: val_loss did not improve from 0.19097\n",
            "27/27 [==============================] - 26s 974ms/step - loss: 0.0013 - accuracy: 1.0000 - val_loss: 0.3058 - val_accuracy: 0.9167\n",
            "Epoch 84/100\n",
            "27/27 [==============================] - ETA: 0s - loss: 0.0013 - accuracy: 1.0000\n",
            "Epoch 84: val_loss did not improve from 0.19097\n",
            "27/27 [==============================] - 25s 947ms/step - loss: 0.0013 - accuracy: 1.0000 - val_loss: 0.3295 - val_accuracy: 0.9259\n",
            "Epoch 85/100\n",
            "27/27 [==============================] - ETA: 0s - loss: 3.9916e-04 - accuracy: 1.0000\n",
            "Epoch 85: val_loss did not improve from 0.19097\n",
            "27/27 [==============================] - 26s 965ms/step - loss: 3.9916e-04 - accuracy: 1.0000 - val_loss: 0.3101 - val_accuracy: 0.9352\n",
            "Epoch 86/100\n",
            "27/27 [==============================] - ETA: 0s - loss: 4.6907e-04 - accuracy: 1.0000\n",
            "Epoch 86: val_loss did not improve from 0.19097\n",
            "27/27 [==============================] - 26s 961ms/step - loss: 4.6907e-04 - accuracy: 1.0000 - val_loss: 0.3085 - val_accuracy: 0.9352\n",
            "Epoch 87/100\n",
            "27/27 [==============================] - ETA: 0s - loss: 5.0869e-04 - accuracy: 1.0000\n",
            "Epoch 87: val_loss did not improve from 0.19097\n",
            "27/27 [==============================] - 26s 959ms/step - loss: 5.0869e-04 - accuracy: 1.0000 - val_loss: 0.3007 - val_accuracy: 0.9259\n",
            "Epoch 88/100\n",
            "27/27 [==============================] - ETA: 0s - loss: 8.0394e-04 - accuracy: 1.0000\n",
            "Epoch 88: val_loss did not improve from 0.19097\n",
            "27/27 [==============================] - 26s 963ms/step - loss: 8.0394e-04 - accuracy: 1.0000 - val_loss: 0.3092 - val_accuracy: 0.9352\n",
            "Epoch 89/100\n",
            "27/27 [==============================] - ETA: 0s - loss: 4.9094e-04 - accuracy: 1.0000\n",
            "Epoch 89: val_loss did not improve from 0.19097\n",
            "27/27 [==============================] - 26s 959ms/step - loss: 4.9094e-04 - accuracy: 1.0000 - val_loss: 0.3047 - val_accuracy: 0.9167\n",
            "Epoch 90/100\n",
            "27/27 [==============================] - ETA: 0s - loss: 7.6183e-04 - accuracy: 1.0000\n",
            "Epoch 90: val_loss did not improve from 0.19097\n",
            "27/27 [==============================] - 26s 982ms/step - loss: 7.6183e-04 - accuracy: 1.0000 - val_loss: 0.2937 - val_accuracy: 0.9074\n",
            "Epoch 91/100\n",
            "27/27 [==============================] - ETA: 0s - loss: 3.8389e-04 - accuracy: 1.0000\n",
            "Epoch 91: val_loss did not improve from 0.19097\n",
            "27/27 [==============================] - 26s 960ms/step - loss: 3.8389e-04 - accuracy: 1.0000 - val_loss: 0.2884 - val_accuracy: 0.9074\n",
            "Epoch 92/100\n",
            "27/27 [==============================] - ETA: 0s - loss: 4.4313e-04 - accuracy: 1.0000\n",
            "Epoch 92: val_loss did not improve from 0.19097\n",
            "27/27 [==============================] - 26s 951ms/step - loss: 4.4313e-04 - accuracy: 1.0000 - val_loss: 0.2832 - val_accuracy: 0.9074\n",
            "Epoch 93/100\n",
            "27/27 [==============================] - ETA: 0s - loss: 9.7039e-04 - accuracy: 1.0000\n",
            "Epoch 93: val_loss did not improve from 0.19097\n",
            "27/27 [==============================] - 26s 959ms/step - loss: 9.7039e-04 - accuracy: 1.0000 - val_loss: 0.2895 - val_accuracy: 0.9167\n",
            "Epoch 94/100\n",
            "27/27 [==============================] - ETA: 0s - loss: 5.8109e-04 - accuracy: 1.0000\n",
            "Epoch 94: val_loss did not improve from 0.19097\n",
            "27/27 [==============================] - 26s 955ms/step - loss: 5.8109e-04 - accuracy: 1.0000 - val_loss: 0.2929 - val_accuracy: 0.9167\n",
            "Epoch 95/100\n",
            "27/27 [==============================] - ETA: 0s - loss: 4.3880e-04 - accuracy: 1.0000\n",
            "Epoch 95: val_loss did not improve from 0.19097\n",
            "27/27 [==============================] - 26s 961ms/step - loss: 4.3880e-04 - accuracy: 1.0000 - val_loss: 0.2884 - val_accuracy: 0.9167\n",
            "Epoch 96/100\n",
            "27/27 [==============================] - ETA: 0s - loss: 3.4926e-04 - accuracy: 1.0000\n",
            "Epoch 96: val_loss did not improve from 0.19097\n",
            "27/27 [==============================] - 26s 956ms/step - loss: 3.4926e-04 - accuracy: 1.0000 - val_loss: 0.2869 - val_accuracy: 0.9167\n",
            "Epoch 97/100\n",
            "27/27 [==============================] - ETA: 0s - loss: 8.5848e-04 - accuracy: 1.0000\n",
            "Epoch 97: val_loss did not improve from 0.19097\n",
            "27/27 [==============================] - 26s 951ms/step - loss: 8.5848e-04 - accuracy: 1.0000 - val_loss: 0.3135 - val_accuracy: 0.9167\n",
            "Epoch 98/100\n",
            "27/27 [==============================] - ETA: 0s - loss: 5.1190e-04 - accuracy: 1.0000\n",
            "Epoch 98: val_loss did not improve from 0.19097\n",
            "27/27 [==============================] - 26s 956ms/step - loss: 5.1190e-04 - accuracy: 1.0000 - val_loss: 0.3101 - val_accuracy: 0.9167\n",
            "Epoch 99/100\n",
            "27/27 [==============================] - ETA: 0s - loss: 3.4663e-04 - accuracy: 1.0000\n",
            "Epoch 99: val_loss did not improve from 0.19097\n",
            "27/27 [==============================] - 26s 961ms/step - loss: 3.4663e-04 - accuracy: 1.0000 - val_loss: 0.2932 - val_accuracy: 0.9352\n",
            "Epoch 100/100\n",
            "27/27 [==============================] - ETA: 0s - loss: 7.8654e-04 - accuracy: 1.0000\n",
            "Epoch 100: val_loss did not improve from 0.19097\n",
            "27/27 [==============================] - 26s 959ms/step - loss: 7.8654e-04 - accuracy: 1.0000 - val_loss: 0.2859 - val_accuracy: 0.9259\n"
          ]
        },
        {
          "output_type": "error",
          "ename": "TypeError",
          "evalue": "ignored",
          "traceback": [
            "\u001b[0;31m---------------------------------------------------------------------------\u001b[0m",
            "\u001b[0;31mTypeError\u001b[0m                                 Traceback (most recent call last)",
            "\u001b[0;32m<ipython-input-15-82f91d12040a>\u001b[0m in \u001b[0;36m<module>\u001b[0;34m()\u001b[0m\n\u001b[1;32m      5\u001b[0m \u001b[0;34m\u001b[0m\u001b[0m\n\u001b[1;32m      6\u001b[0m \u001b[0mcnn_models\u001b[0m\u001b[0;34m.\u001b[0m\u001b[0mappend\u001b[0m\u001b[0;34m(\u001b[0m\u001b[0mcnn_model\u001b[0m\u001b[0;34m)\u001b[0m\u001b[0;34m\u001b[0m\u001b[0;34m\u001b[0m\u001b[0m\n\u001b[0;32m----> 7\u001b[0;31m \u001b[0mcnn_model\u001b[0m\u001b[0;34m.\u001b[0m\u001b[0msave\u001b[0m\u001b[0;34m(\u001b[0m\u001b[0;34m\"cnn_model_\"\u001b[0m\u001b[0;34m+\u001b[0m\u001b[0msubject\u001b[0m\u001b[0;34m+\u001b[0m\u001b[0;34m\".h5py\"\u001b[0m\u001b[0;34m)\u001b[0m\u001b[0;34m\u001b[0m\u001b[0;34m\u001b[0m\u001b[0m\n\u001b[0m\u001b[1;32m      8\u001b[0m \u001b[0;34m\u001b[0m\u001b[0m\n\u001b[1;32m      9\u001b[0m \u001b[0mvis_confusion_matrix\u001b[0m\u001b[0;34m(\u001b[0m\u001b[0mtest_y_conv\u001b[0m\u001b[0;34m,\u001b[0m \u001b[0mpred_y_conv\u001b[0m\u001b[0;34m,\u001b[0m \u001b[0msubject\u001b[0m\u001b[0;34m)\u001b[0m\u001b[0;34m\u001b[0m\u001b[0;34m\u001b[0m\u001b[0m\n",
            "\u001b[0;31mTypeError\u001b[0m: can only concatenate str (not \"int\") to str"
          ]
        }
      ]
    },
    {
      "cell_type": "code",
      "source": [
        "cnn_model.save(\"cnn_model.h5py\")\n",
        "\n",
        "vis_confusion_matrix(test_y_conv, pred_y_conv, subject)\n",
        "\n",
        "vis_acc_loss(cnn_train)"
      ],
      "metadata": {
        "colab": {
          "base_uri": "https://localhost:8080/",
          "height": 368
        },
        "id": "Q6U0YX5QVGEk",
        "outputId": "41ca7b54-0d5e-47c9-9f49-e8b020ad8d2e"
      },
      "execution_count": 16,
      "outputs": [
        {
          "output_type": "stream",
          "name": "stdout",
          "text": [
            "INFO:tensorflow:Assets written to: cnn_model.h5py/assets\n"
          ]
        },
        {
          "output_type": "error",
          "ename": "NameError",
          "evalue": "ignored",
          "traceback": [
            "\u001b[0;31m---------------------------------------------------------------------------\u001b[0m",
            "\u001b[0;31mNameError\u001b[0m                                 Traceback (most recent call last)",
            "\u001b[0;32m<ipython-input-16-0ad7ee10cc95>\u001b[0m in \u001b[0;36m<module>\u001b[0;34m()\u001b[0m\n\u001b[1;32m      1\u001b[0m \u001b[0mcnn_model\u001b[0m\u001b[0;34m.\u001b[0m\u001b[0msave\u001b[0m\u001b[0;34m(\u001b[0m\u001b[0;34m\"cnn_model.h5py\"\u001b[0m\u001b[0;34m)\u001b[0m\u001b[0;34m\u001b[0m\u001b[0;34m\u001b[0m\u001b[0m\n\u001b[1;32m      2\u001b[0m \u001b[0;34m\u001b[0m\u001b[0m\n\u001b[0;32m----> 3\u001b[0;31m \u001b[0mvis_confusion_matrix\u001b[0m\u001b[0;34m(\u001b[0m\u001b[0mtest_y_conv\u001b[0m\u001b[0;34m,\u001b[0m \u001b[0mpred_y_conv\u001b[0m\u001b[0;34m,\u001b[0m \u001b[0msubject\u001b[0m\u001b[0;34m)\u001b[0m\u001b[0;34m\u001b[0m\u001b[0;34m\u001b[0m\u001b[0m\n\u001b[0m\u001b[1;32m      4\u001b[0m \u001b[0;34m\u001b[0m\u001b[0m\n\u001b[1;32m      5\u001b[0m \u001b[0mvis_acc_loss\u001b[0m\u001b[0;34m(\u001b[0m\u001b[0mcnn_train\u001b[0m\u001b[0;34m)\u001b[0m\u001b[0;34m\u001b[0m\u001b[0;34m\u001b[0m\u001b[0m\n",
            "\u001b[0;32m<ipython-input-7-5884578a455b>\u001b[0m in \u001b[0;36mvis_confusion_matrix\u001b[0;34m(test_y_conv, pred_y_conv, subject)\u001b[0m\n\u001b[1;32m      1\u001b[0m \u001b[0;32mdef\u001b[0m \u001b[0mvis_confusion_matrix\u001b[0m\u001b[0;34m(\u001b[0m\u001b[0mtest_y_conv\u001b[0m\u001b[0;34m,\u001b[0m \u001b[0mpred_y_conv\u001b[0m\u001b[0;34m,\u001b[0m \u001b[0msubject\u001b[0m\u001b[0;34m)\u001b[0m\u001b[0;34m:\u001b[0m\u001b[0;34m\u001b[0m\u001b[0;34m\u001b[0m\u001b[0m\n\u001b[1;32m      2\u001b[0m   confusion_matrix = metrics.confusion_matrix(y_true=test_y, \n\u001b[0;32m----> 3\u001b[0;31m                                               y_pred=y_pred_labels)\n\u001b[0m\u001b[1;32m      4\u001b[0m \u001b[0;34m\u001b[0m\u001b[0m\n\u001b[1;32m      5\u001b[0m   ax = sns.heatmap(confusion_matrix, annot=True, \n",
            "\u001b[0;31mNameError\u001b[0m: name 'y_pred_labels' is not defined"
          ]
        }
      ]
    }
  ],
  "metadata": {
    "colab": {
      "collapsed_sections": [
        "sE94nxnpaDT0",
        "73u_N5c2vwkx"
      ],
      "name": "Thesis-trials.ipynb",
      "provenance": [],
      "mount_file_id": "16o4_ufd-Lqan2_DIFud_M3HJYhjGV3rD",
      "authorship_tag": "ABX9TyNrdDZMZa2R+S8bzu6xppat"
    },
    "kernelspec": {
      "display_name": "Python 3",
      "name": "python3"
    },
    "language_info": {
      "name": "python"
    }
  },
  "nbformat": 4,
  "nbformat_minor": 0
}