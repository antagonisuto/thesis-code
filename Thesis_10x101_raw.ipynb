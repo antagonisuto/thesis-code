{
  "cells": [
    {
      "cell_type": "markdown",
      "source": [
        "# Just Run it"
      ],
      "metadata": {
        "id": "l5tO0qxgfYlV"
      }
    },
    {
      "cell_type": "code",
      "execution_count": 15,
      "metadata": {
        "colab": {
          "base_uri": "https://localhost:8080/"
        },
        "id": "wOXE6bstFDrd",
        "outputId": "ef3c6972-e31b-46a6-e691-19529e807f86"
      },
      "outputs": [
        {
          "output_type": "stream",
          "name": "stdout",
          "text": [
            "Requirement already satisfied: mne in /usr/local/lib/python3.7/dist-packages (1.0.1)\n",
            "Requirement already satisfied: pooch>=1.5 in /usr/local/lib/python3.7/dist-packages (from mne) (1.6.0)\n",
            "Requirement already satisfied: tqdm in /usr/local/lib/python3.7/dist-packages (from mne) (4.63.0)\n",
            "Requirement already satisfied: decorator in /usr/local/lib/python3.7/dist-packages (from mne) (4.4.2)\n",
            "Requirement already satisfied: jinja2 in /usr/local/lib/python3.7/dist-packages (from mne) (2.11.3)\n",
            "Requirement already satisfied: matplotlib in /usr/local/lib/python3.7/dist-packages (from mne) (3.2.2)\n",
            "Requirement already satisfied: numpy>=1.15.4 in /usr/local/lib/python3.7/dist-packages (from mne) (1.21.5)\n",
            "Requirement already satisfied: scipy>=1.1.0 in /usr/local/lib/python3.7/dist-packages (from mne) (1.4.1)\n",
            "Requirement already satisfied: packaging in /usr/local/lib/python3.7/dist-packages (from mne) (21.3)\n",
            "Requirement already satisfied: requests>=2.19.0 in /usr/local/lib/python3.7/dist-packages (from pooch>=1.5->mne) (2.23.0)\n",
            "Requirement already satisfied: appdirs>=1.3.0 in /usr/local/lib/python3.7/dist-packages (from pooch>=1.5->mne) (1.4.4)\n",
            "Requirement already satisfied: pyparsing!=3.0.5,>=2.0.2 in /usr/local/lib/python3.7/dist-packages (from packaging->mne) (3.0.7)\n",
            "Requirement already satisfied: urllib3!=1.25.0,!=1.25.1,<1.26,>=1.21.1 in /usr/local/lib/python3.7/dist-packages (from requests>=2.19.0->pooch>=1.5->mne) (1.24.3)\n",
            "Requirement already satisfied: idna<3,>=2.5 in /usr/local/lib/python3.7/dist-packages (from requests>=2.19.0->pooch>=1.5->mne) (2.10)\n",
            "Requirement already satisfied: certifi>=2017.4.17 in /usr/local/lib/python3.7/dist-packages (from requests>=2.19.0->pooch>=1.5->mne) (2021.10.8)\n",
            "Requirement already satisfied: chardet<4,>=3.0.2 in /usr/local/lib/python3.7/dist-packages (from requests>=2.19.0->pooch>=1.5->mne) (3.0.4)\n",
            "Requirement already satisfied: MarkupSafe>=0.23 in /usr/local/lib/python3.7/dist-packages (from jinja2->mne) (2.0.1)\n",
            "Requirement already satisfied: python-dateutil>=2.1 in /usr/local/lib/python3.7/dist-packages (from matplotlib->mne) (2.8.2)\n",
            "Requirement already satisfied: kiwisolver>=1.0.1 in /usr/local/lib/python3.7/dist-packages (from matplotlib->mne) (1.4.0)\n",
            "Requirement already satisfied: cycler>=0.10 in /usr/local/lib/python3.7/dist-packages (from matplotlib->mne) (0.11.0)\n",
            "Requirement already satisfied: typing-extensions in /usr/local/lib/python3.7/dist-packages (from kiwisolver>=1.0.1->matplotlib->mne) (3.10.0.2)\n",
            "Requirement already satisfied: six>=1.5 in /usr/local/lib/python3.7/dist-packages (from python-dateutil>=2.1->matplotlib->mne) (1.15.0)\n"
          ]
        }
      ],
      "source": [
        "pip install mne"
      ]
    },
    {
      "cell_type": "code",
      "execution_count": 16,
      "metadata": {
        "id": "VjSlXtVgn4Mj"
      },
      "outputs": [],
      "source": [
        "import os\n",
        "import numpy as np\n",
        "import mne\n",
        "\n",
        "from sklearn.preprocessing import MinMaxScaler, StandardScaler\n",
        "\n",
        "#LDA\n",
        "from sklearn.discriminant_analysis import LinearDiscriminantAnalysis as LDA\n",
        "from sklearn.metrics import confusion_matrix\n",
        "from sklearn.metrics import accuracy_score\n",
        "\n",
        "#Visual\n",
        "import matplotlib.pyplot as plt\n",
        "from mne.preprocessing import (ICA, corrmap)\n",
        "from scipy.stats import ttest_rel\n",
        "from tensorflow.keras import utils as np_utils\n",
        "from sklearn.utils import shuffle\n",
        "import seaborn as sns\n",
        "\n",
        "#CNN\n",
        "import keras\n",
        "from keras.models import Sequential,Input,Model\n",
        "from keras.layers import Dense, Dropout, Flatten\n",
        "from keras.layers import Conv2D, MaxPooling2D\n",
        "from tensorflow.keras.layers import BatchNormalization\n",
        "from keras.layers.advanced_activations import LeakyReLU\n",
        "import tensorflow as tf\n",
        "from tensorflow.keras.callbacks import ModelCheckpoint\n",
        "from tensorflow.keras.optimizers import SGD, Adam\n",
        "import sklearn.metrics as metrics\n",
        "import seaborn as sns\n",
        "from sklearn.model_selection import train_test_split\n",
        "from sklearn.utils.class_weight import compute_class_weight"
      ]
    },
    {
      "cell_type": "code",
      "execution_count": 17,
      "metadata": {
        "id": "kPMY77PVG67x"
      },
      "outputs": [],
      "source": [
        "dataPath = '/content/drive/MyDrive/databbci/data'"
      ]
    },
    {
      "cell_type": "code",
      "execution_count": 18,
      "metadata": {
        "colab": {
          "base_uri": "https://localhost:8080/"
        },
        "id": "yymPXXeiHBTa",
        "outputId": "93238f04-a690-426d-9ed2-34504226d7a8"
      },
      "outputs": [
        {
          "output_type": "stream",
          "name": "stderr",
          "text": [
            "<ipython-input-18-e82f2427b298>:17: RuntimeWarning: Online software filter detected. Using software filter settings and ignoring hardware values\n",
            "  passive.append(mne.io.read_raw_brainvision(tmp, preload=True, verbose=False))\n",
            "<ipython-input-18-e82f2427b298>:15: RuntimeWarning: Online software filter detected. Using software filter settings and ignoring hardware values\n",
            "  active.append(mne.io.read_raw_brainvision(tmp, preload=True, verbose=False))\n",
            "<ipython-input-18-e82f2427b298>:19: RuntimeWarning: Online software filter detected. Using software filter settings and ignoring hardware values\n",
            "  cue.append(mne.io.read_raw_brainvision(tmp, preload=True, verbose=False))\n",
            "<ipython-input-18-e82f2427b298>:19: RuntimeWarning: Online software filter detected. Using software filter settings and ignoring hardware values\n",
            "  cue.append(mne.io.read_raw_brainvision(tmp, preload=True, verbose=False))\n",
            "<ipython-input-18-e82f2427b298>:17: RuntimeWarning: Online software filter detected. Using software filter settings and ignoring hardware values\n",
            "  passive.append(mne.io.read_raw_brainvision(tmp, preload=True, verbose=False))\n",
            "<ipython-input-18-e82f2427b298>:15: RuntimeWarning: Online software filter detected. Using software filter settings and ignoring hardware values\n",
            "  active.append(mne.io.read_raw_brainvision(tmp, preload=True, verbose=False))\n",
            "<ipython-input-18-e82f2427b298>:19: RuntimeWarning: Online software filter detected. Using software filter settings and ignoring hardware values\n",
            "  cue.append(mne.io.read_raw_brainvision(tmp, preload=True, verbose=False))\n",
            "<ipython-input-18-e82f2427b298>:19: RuntimeWarning: Online software filter detected. Using software filter settings and ignoring hardware values\n",
            "  cue.append(mne.io.read_raw_brainvision(tmp, preload=True, verbose=False))\n",
            "<ipython-input-18-e82f2427b298>:17: RuntimeWarning: Online software filter detected. Using software filter settings and ignoring hardware values\n",
            "  passive.append(mne.io.read_raw_brainvision(tmp, preload=True, verbose=False))\n",
            "<ipython-input-18-e82f2427b298>:15: RuntimeWarning: Online software filter detected. Using software filter settings and ignoring hardware values\n",
            "  active.append(mne.io.read_raw_brainvision(tmp, preload=True, verbose=False))\n",
            "<ipython-input-18-e82f2427b298>:19: RuntimeWarning: Online software filter detected. Using software filter settings and ignoring hardware values\n",
            "  cue.append(mne.io.read_raw_brainvision(tmp, preload=True, verbose=False))\n"
          ]
        },
        {
          "output_type": "stream",
          "name": "stdout",
          "text": [
            "3\n"
          ]
        },
        {
          "output_type": "stream",
          "name": "stderr",
          "text": [
            "<ipython-input-18-e82f2427b298>:19: RuntimeWarning: Online software filter detected. Using software filter settings and ignoring hardware values\n",
            "  cue.append(mne.io.read_raw_brainvision(tmp, preload=True, verbose=False))\n"
          ]
        }
      ],
      "source": [
        "import os\n",
        "\n",
        "active = []\n",
        "passive = []\n",
        "cue = []\n",
        "\n",
        "\n",
        "data_number = 0\n",
        "for dir in os.listdir(dataPath):\n",
        "  for filename in os.listdir(os.path.join(dataPath, dir)):\n",
        "    #if filename.endswith(\".vhdr\"):\n",
        "    tmp = os.path.join(os.path.join(dataPath, dir), filename)\n",
        "      #with open(os.path.join(os.path.join(dataPath, dir), filename), 'r') as f: # open in readonly mode\n",
        "    if filename.endswith(\"active.vhdr\"):\n",
        "      active.append(mne.io.read_raw_brainvision(tmp, preload=True, verbose=False))\n",
        "    elif filename.endswith(\"passive.vhdr\"):\n",
        "      passive.append(mne.io.read_raw_brainvision(tmp, preload=True, verbose=False))\n",
        "    elif filename.endswith(\"cue.vhdr\"):\n",
        "      cue.append(mne.io.read_raw_brainvision(tmp, preload=True, verbose=False))\n",
        "print(len(active))"
      ]
    },
    {
      "cell_type": "markdown",
      "source": [
        "# Function | Run All"
      ],
      "metadata": {
        "id": "dhnDzzZCh1Ca"
      }
    },
    {
      "cell_type": "markdown",
      "source": [
        "    func: raw_to_data(raw, non_active = 0) \n",
        "    * active = 0\n",
        "    * passive = 1\n",
        "    * cue = 2\n",
        "    return X, y\n",
        "\n",
        "\\-\n",
        "\n",
        "    def get_train_test(act, pas, cue): \n",
        "    * active[subject] -> act\n",
        "    * call function \"raw_to_data\"\n",
        "    return train_X, test_X, train_y, test_y\n",
        "\n",
        "\\- LDA\n",
        "\n",
        "  \n",
        "    def lda_101(train_X, test_X, train_y, test_y):\n",
        "    return clf, cm\n",
        "\n",
        "\\- CNN\n",
        "\n",
        "    def cnn_101(train_X, test_X, train_y, test_y):\n",
        "    * batch_size = 16\n",
        "    * epochs = 100\n",
        "    * num_classes = 2\n",
        "    return cnn_model, cnn_train, test_eval, cm_cnn\n",
        "\n",
        "\n",
        "\\- Visualization\n",
        "\n",
        "    def vis_confusion_matrix(cm):\n",
        "    * plot \n"
      ],
      "metadata": {
        "id": "vxAeGIjYh58J"
      }
    },
    {
      "cell_type": "markdown",
      "metadata": {
        "id": "9JpGUmojfJD1"
      },
      "source": [
        "## All data load"
      ]
    },
    {
      "cell_type": "code",
      "execution_count": 19,
      "metadata": {
        "id": "IbzHDX8rfLbI"
      },
      "outputs": [],
      "source": [
        "def raw_to_data(raw, non_active = 0):\n",
        "  raw.pick_channels(['C1', 'Fz', 'C2', 'F3', 'F4', 'Pz', 'Oz', 'C3', 'Cz', 'C4'])\n",
        "  raw.filter(l_freq=0.4, h_freq=40, fir_design='firwin', verbose=False)\n",
        "  #raw.filter(l_freq=0.4, h_freq=40, method = 'iir', verbose=False)\n",
        "\n",
        "  events, _ = mne.events_from_annotations(raw, verbose=False)\n",
        "  tmin, tmax = -0., 1.  # in s\n",
        "  baseline = (0, 0)\n",
        "\n",
        "  #passive -> ignore \n",
        "  #cue -> active\n",
        "  # -> active, ignore\n",
        "  event_dict = {'active': 1, 'ignore': 2}\n",
        "  if non_active != 0:\n",
        "    event_dict.clear()\n",
        "    if non_active == 1: #passive\n",
        "      event_dict = {'ignore': 2}\n",
        "    else: # cue\n",
        "      event_dict = {'active': 1}\n",
        "  \n",
        "  epochs = mne.Epochs(\n",
        "    raw, events=events,\n",
        "    event_id=event_dict, tmin=tmin,\n",
        "    tmax=tmax, baseline=baseline, preload = True, verbose=False)\n",
        "  # print(epochs.events.size)\n",
        "  # print(epochs.event_id)\n",
        "  # {'active': 1, 'ignore': 2}\n",
        "\n",
        "  #preprocessing\n",
        "  filt_raw = raw.copy().filter(l_freq=1., h_freq=None)\n",
        "  ica = ICA(n_components=10, max_iter='auto', random_state=97)\n",
        "  ica.fit(epochs)\n",
        "\n",
        "  X = epochs.get_data()*1000  # MEG signals: n_epochs, n_meg_channels, n_times\n",
        "  y = epochs.events[:, 2]  # target: auditory left vs visual left\n",
        "  #print(X.shape, y.shape)\n",
        "\n",
        "  return X, y"
      ]
    },
    {
      "cell_type": "markdown",
      "metadata": {
        "id": "sE94nxnpaDT0"
      },
      "source": [
        "## Preprocessing"
      ]
    },
    {
      "cell_type": "code",
      "source": [
        "def get_train_test(act, pas, cue):\n",
        "  # subject = 0\n",
        "  train_X, train_y = raw_to_data(act, 0)\n",
        "  pas_X, pas_y = raw_to_data(pas, 1) #passive = 1\n",
        "  cue_X, cue_y = raw_to_data(cue, 2) #ignore = 2\n",
        "\n",
        "  test_X = np.append(cue_X, pas_X, axis = 0)\n",
        "  test_y = np.append(cue_y, pas_y, axis = 0)\n",
        "\n",
        "  return train_X, test_X, train_y, test_y\n"
      ],
      "metadata": {
        "id": "rnAxM1QGf3Nj"
      },
      "execution_count": 20,
      "outputs": []
    },
    {
      "cell_type": "markdown",
      "metadata": {
        "id": "73u_N5c2vwkx"
      },
      "source": [
        "## LDA Function"
      ]
    },
    {
      "cell_type": "code",
      "source": [
        "def lda_101(train_X, test_X, train_y, test_y):\n",
        "  train_lda = train_X.reshape(540,-1)\n",
        "  n, _, _ = test_X.shape\n",
        "  test_lda = test_X.reshape(n, -1)\n",
        "\n",
        "  clf = LDA()\n",
        "  clf.fit(train_lda, train_y)\n",
        "\n",
        "  y_pred = clf.predict(test_lda)\n",
        "  cm = confusion_matrix(test_y, y_pred)\n",
        "  print(cm)\n",
        "  print('Accuracy' + str(accuracy_score(test_y, y_pred)))\n",
        "\n",
        "  return clf, cm"
      ],
      "metadata": {
        "id": "Rg2hYQGycQqE"
      },
      "execution_count": 21,
      "outputs": []
    },
    {
      "cell_type": "markdown",
      "source": [
        "## CNN Functions"
      ],
      "metadata": {
        "id": "YEmaM7rep0bW"
      }
    },
    {
      "cell_type": "code",
      "source": [
        "def cnn_101(train_X, test_X, train_y, test_y, batch_size = 32, epochs = 100):\n",
        "  train_X = train_X.reshape(-1, 10,101, 1)\n",
        "  test_X = test_X.reshape(-1, 10,101, 1)\n",
        "\n",
        "  #train_X, train_y = shuffle(test_X, test_y, random_state=2)\n",
        "  #test_X, test_y = shuffle(test_X, test_y, random_state=2)\n",
        "  \n",
        "  train_X,valid_X,train_label,valid_label = train_test_split(train_X, \n",
        "                                                             train_y, \n",
        "                                                             test_size=0.2, \n",
        "                                                             random_state=13)\n",
        "\n",
        "  train_label_categorical = np_utils.to_categorical(train_label-1)\n",
        "  valid_label_categorical = np_utils.to_categorical(valid_label-1)\n",
        "  test_y = np_utils.to_categorical(test_y-1)\n",
        "\n",
        "  # batch_size = 32\n",
        "  # epochs = 100\n",
        "  num_classes = 2\n",
        "\n",
        "  cnn_model = Sequential()\n",
        "  cnn_model.add(Conv2D(8, kernel_size=(40, 4),activation='relu',input_shape=(10,101,1),padding='same'))\n",
        "  # cnn_model.add(MaxPooling2D((2, 2),padding='same'))\n",
        "  cnn_model.add(BatchNormalization())\n",
        "  cnn_model.add(Dropout(0.25))\n",
        "\n",
        "  cnn_model.add(Conv2D(16, (80, 4), activation='relu',padding='same'))\n",
        "  # cnn_model.add(MaxPooling2D(pool_size=(2, 2),padding='same'))\n",
        "  cnn_model.add(BatchNormalization())\n",
        "  cnn_model.add(Dropout(0.25))\n",
        "\n",
        "  cnn_model.add(Conv2D(32, (80, 4), activation='relu',padding='same'))         \n",
        "  # cnn_model.add(MaxPooling2D(pool_size=(2, 2),padding='same'))\n",
        "  cnn_model.add(BatchNormalization())\n",
        "  cnn_model.add(Dropout(0.25))\n",
        "\n",
        "  cnn_model.add(Flatten())\n",
        "  cnn_model.add(Dense(128, activation='relu'))\n",
        "  cnn_model.add(Dense(num_classes, activation='sigmoid'))\n",
        "\n",
        "  # set a valid path for your system to record model checkpoints\n",
        "  checkpointer = ModelCheckpoint(filepath='/tmp/checkpoint.h5', verbose=1,\n",
        "                               save_best_only=True)\n",
        "  \n",
        "  y_integers = np.argmax(train_label_categorical, axis=1)\n",
        "  class_weights = compute_class_weight(class_weight='balanced', classes=np.unique(y_integers), y=y_integers)\n",
        "  d_class_weights = dict(enumerate(class_weights))\n",
        "\n",
        "  opt = SGD(lr=0.01)\n",
        "  #opt = Adam(lr=0.001, beta_1=0.9, beta_2=0.999, epsilon=None, decay=0.01, amsgrad=False)\n",
        "\n",
        "  cnn_model.compile(optimizer=opt,\n",
        "          loss = \"categorical_crossentropy\",\n",
        "          metrics=['accuracy'])\n",
        "  \n",
        "  cnn_train = cnn_model.fit(train_X, train_label_categorical, batch_size=batch_size, \n",
        "                          epochs=epochs,\n",
        "                          verbose=1,\n",
        "                          validation_data=(valid_X, valid_label_categorical), \n",
        "                          callbacks=[checkpointer], \n",
        "                          class_weight = d_class_weights\n",
        "                          )\n",
        "\n",
        "  test_eval = cnn_model.evaluate(test_X, test_y, verbose=0)\n",
        "\n",
        "  pred_prob_conv = cnn_model.predict(test_X)\n",
        "\n",
        "  pred_y_conv = np.argmax(pred_prob_conv, axis=1)  # only necessary if output has one-hot-encoding, shape=(n_samples)\n",
        "  test_y_conv = np.argmax(test_y, axis=1)\n",
        "\n",
        "  cm_cnn = cm_cnn = metrics.confusion_matrix(y_true=test_y_conv, \n",
        "                                              y_pred=pred_y_conv)\n",
        "\n",
        "  return cnn_model, cnn_train, test_eval, cm_cnn\n"
      ],
      "metadata": {
        "id": "uNT_ZJLBqAEP"
      },
      "execution_count": 22,
      "outputs": []
    },
    {
      "cell_type": "code",
      "source": [
        "def vis_acc_loss(cnn_train):\n",
        "  accuracy = cnn_train.history['accuracy']\n",
        "  val_accuracy = cnn_train.history['val_accuracy']\n",
        "  loss = cnn_train.history['loss']\n",
        "  val_loss = cnn_train.history['val_loss']\n",
        "  epochs = range(len(accuracy))\n",
        "  plt.plot(epochs, accuracy, 'bo', label='Training accuracy')\n",
        "  plt.plot(epochs, val_accuracy, 'b', label='Validation accuracy')\n",
        "  plt.title('Training and validation accuracy')\n",
        "  plt.legend()\n",
        "  plt.figure()\n",
        "  plt.plot(epochs, loss, 'bo', label='Training loss')\n",
        "  plt.plot(epochs, val_loss, 'b', label='Validation loss')\n",
        "  plt.title('Training and validation loss')\n",
        "  plt.legend()\n",
        "  plt.show()"
      ],
      "metadata": {
        "id": "V3HZLcOas4Fi"
      },
      "execution_count": 23,
      "outputs": []
    },
    {
      "cell_type": "markdown",
      "source": [
        "## Visualization Functions"
      ],
      "metadata": {
        "id": "xMjOyuxHfM8h"
      }
    },
    {
      "cell_type": "code",
      "source": [
        "def vis_confusion_matrix(cm):\n",
        "\n",
        "\n",
        "  ax = sns.heatmap(cm, annot=True, \n",
        "            fmt='', cmap='Blues')\n",
        "  \n",
        "  # group_counts = [\"{0:0.0f}\".format(value) for value in\n",
        "  #                 confusion_matrix.flatten()]\n",
        "\n",
        "  # labels = [f\"{v1}\\n\" for v1 in zip(group_counts)]\n",
        "\n",
        "  # labels = np.asarray(labels).reshape(2,2)\n",
        "  \n",
        "  ax.set_title('CNN Confusion Matrix \\n\\n');\n",
        "  ax.set_xlabel('\\nPredicted Values')\n",
        "  ax.set_ylabel('Actual Values ');\n",
        "\n",
        "  ## Ticket labels - List must be in alphabetical order\n",
        "  ax.xaxis.set_ticklabels(['NI','AC'])\n",
        "  ax.yaxis.set_ticklabels(['NI','AC'])\n",
        "\n",
        "  ## Display the visualization of the Confusion Matrix.\n",
        "  plt.show()\n"
      ],
      "metadata": {
        "id": "tfAIQZ93fVMh"
      },
      "execution_count": 24,
      "outputs": []
    },
    {
      "cell_type": "markdown",
      "source": [
        "# Test | All Subjects"
      ],
      "metadata": {
        "id": "kVR1zGqyhsrM"
      }
    },
    {
      "cell_type": "code",
      "source": [
        "cnn_models = []\n",
        "lda_models = []"
      ],
      "metadata": {
        "id": "omtOEMfJ0vXa"
      },
      "execution_count": 25,
      "outputs": []
    },
    {
      "cell_type": "markdown",
      "source": [
        "## Test: LDA & CNN | Subject 1"
      ],
      "metadata": {
        "id": "d73siMkJdEba"
      }
    },
    {
      "cell_type": "code",
      "source": [
        "subject = 0\n",
        "\n",
        "train_X, test_X, train_y, test_y = get_train_test(active[subject], passive[subject], cue[subject])"
      ],
      "metadata": {
        "colab": {
          "base_uri": "https://localhost:8080/"
        },
        "id": "R-e4NH7rCeX9",
        "outputId": "9ec8c4cf-e96a-4e2c-a4e2-827a80ee9bdf"
      },
      "execution_count": 26,
      "outputs": [
        {
          "output_type": "stream",
          "name": "stdout",
          "text": [
            "Filtering raw data in 1 contiguous segment\n",
            "Setting up high-pass filter at 1 Hz\n",
            "\n",
            "FIR filter parameters\n",
            "---------------------\n",
            "Designing a one-pass, zero-phase, non-causal highpass filter:\n",
            "- Windowed time-domain design (firwin) method\n",
            "- Hamming window with 0.0194 passband ripple and 53 dB stopband attenuation\n",
            "- Lower passband edge: 1.00\n",
            "- Lower transition bandwidth: 1.00 Hz (-6 dB cutoff frequency: 0.50 Hz)\n",
            "- Filter length: 331 samples (3.310 sec)\n",
            "\n",
            "Fitting ICA to data using 10 channels (please be patient, this may take a while)\n"
          ]
        },
        {
          "output_type": "stream",
          "name": "stderr",
          "text": [
            "<ipython-input-19-9e9bb564ee4f>:32: RuntimeWarning: The epochs you passed to ICA.fit() were baseline-corrected. However, we suggest to fit ICA only on data that has been high-pass filtered, but NOT baseline-corrected.\n",
            "  ica.fit(epochs)\n"
          ]
        },
        {
          "output_type": "stream",
          "name": "stdout",
          "text": [
            "Selecting by number: 10 components\n",
            "Fitting ICA took 2.8s.\n",
            "Filtering raw data in 1 contiguous segment\n",
            "Setting up high-pass filter at 1 Hz\n",
            "\n",
            "FIR filter parameters\n",
            "---------------------\n",
            "Designing a one-pass, zero-phase, non-causal highpass filter:\n",
            "- Windowed time-domain design (firwin) method\n",
            "- Hamming window with 0.0194 passband ripple and 53 dB stopband attenuation\n",
            "- Lower passband edge: 1.00\n",
            "- Lower transition bandwidth: 1.00 Hz (-6 dB cutoff frequency: 0.50 Hz)\n",
            "- Filter length: 331 samples (3.310 sec)\n",
            "\n",
            "Fitting ICA to data using 10 channels (please be patient, this may take a while)\n",
            "Selecting by number: 10 components\n"
          ]
        },
        {
          "output_type": "stream",
          "name": "stderr",
          "text": [
            "<ipython-input-19-9e9bb564ee4f>:32: RuntimeWarning: The epochs you passed to ICA.fit() were baseline-corrected. However, we suggest to fit ICA only on data that has been high-pass filtered, but NOT baseline-corrected.\n",
            "  ica.fit(epochs)\n"
          ]
        },
        {
          "output_type": "stream",
          "name": "stdout",
          "text": [
            "Fitting ICA took 0.9s.\n",
            "Filtering raw data in 1 contiguous segment\n",
            "Setting up high-pass filter at 1 Hz\n",
            "\n",
            "FIR filter parameters\n",
            "---------------------\n",
            "Designing a one-pass, zero-phase, non-causal highpass filter:\n",
            "- Windowed time-domain design (firwin) method\n",
            "- Hamming window with 0.0194 passband ripple and 53 dB stopband attenuation\n",
            "- Lower passband edge: 1.00\n",
            "- Lower transition bandwidth: 1.00 Hz (-6 dB cutoff frequency: 0.50 Hz)\n",
            "- Filter length: 331 samples (3.310 sec)\n",
            "\n",
            "Fitting ICA to data using 10 channels (please be patient, this may take a while)\n",
            "Selecting by number: 10 components\n"
          ]
        },
        {
          "output_type": "stream",
          "name": "stderr",
          "text": [
            "<ipython-input-19-9e9bb564ee4f>:32: RuntimeWarning: The epochs you passed to ICA.fit() were baseline-corrected. However, we suggest to fit ICA only on data that has been high-pass filtered, but NOT baseline-corrected.\n",
            "  ica.fit(epochs)\n"
          ]
        },
        {
          "output_type": "stream",
          "name": "stdout",
          "text": [
            "Fitting ICA took 0.5s.\n"
          ]
        }
      ]
    },
    {
      "cell_type": "markdown",
      "source": [
        "LDA"
      ],
      "metadata": {
        "id": "iwAAHP0VdRgo"
      }
    },
    {
      "cell_type": "code",
      "source": [
        "clf_lda, cm_lda = lda_101(train_X, test_X, train_y, test_y) \n",
        "lda_models.append(clf_lda)\n",
        "vis_confusion_matrix(cm_lda)"
      ],
      "metadata": {
        "colab": {
          "base_uri": "https://localhost:8080/",
          "height": 389
        },
        "id": "lcQcVOXq5Hge",
        "outputId": "7654d655-22dc-47b2-d473-ffe09ba7978d"
      },
      "execution_count": 27,
      "outputs": [
        {
          "output_type": "stream",
          "name": "stdout",
          "text": [
            "[[ 66  34]\n",
            " [ 70 110]]\n",
            "Accuracy0.6285714285714286\n"
          ]
        },
        {
          "output_type": "display_data",
          "data": {
            "text/plain": [
              "<Figure size 432x288 with 2 Axes>"
            ],
            "image/png": "[encoded data removed]"
          },
          "metadata": {
            "needs_background": "light"
          }
        }
      ]
    },
    {
      "cell_type": "markdown",
      "source": [
        "CNN"
      ],
      "metadata": {
        "id": "MNuikQ8RdSX6"
      }
    },
    {
      "cell_type": "code",
      "source": [
        "cnn_model, cnn_train, test_eval, cm_cnn = cnn_101(train_X, \n",
        "                                                  test_X, \n",
        "                                                  train_y, \n",
        "                                                  test_y)\n",
        "\n",
        "cnn_models.append(cnn_model)"
      ],
      "metadata": {
        "colab": {
          "base_uri": "https://localhost:8080/"
        },
        "id": "8ANiLocaCXAM",
        "outputId": "08274e24-c7a0-4142-c333-89dde852b5bf"
      },
      "execution_count": 28,
      "outputs": [
        {
          "output_type": "stream",
          "name": "stderr",
          "text": [
            "/usr/local/lib/python3.7/dist-packages/keras/optimizer_v2/gradient_descent.py:102: UserWarning: The `lr` argument is deprecated, use `learning_rate` instead.\n",
            "  super(SGD, self).__init__(name, **kwargs)\n"
          ]
        },
        {
          "output_type": "stream",
          "name": "stdout",
          "text": [
            "Epoch 1/100\n",
            "14/14 [==============================] - ETA: 0s - loss: 2.7982 - accuracy: 0.5162\n",
            "Epoch 1: val_loss improved from inf to 0.65383, saving model to /tmp/checkpoint.h5\n",
            "14/14 [==============================] - 85s 6s/step - loss: 2.7982 - accuracy: 0.5162 - val_loss: 0.6538 - val_accuracy: 0.6667\n",
            "Epoch 2/100\n",
            "14/14 [==============================] - ETA: 0s - loss: 0.7993 - accuracy: 0.5671\n",
            "Epoch 2: val_loss improved from 0.65383 to 0.64720, saving model to /tmp/checkpoint.h5\n",
            "14/14 [==============================] - 45s 3s/step - loss: 0.7993 - accuracy: 0.5671 - val_loss: 0.6472 - val_accuracy: 0.6667\n",
            "Epoch 3/100\n",
            "14/14 [==============================] - ETA: 0s - loss: 0.6350 - accuracy: 0.6667\n",
            "Epoch 3: val_loss improved from 0.64720 to 0.63720, saving model to /tmp/checkpoint.h5\n",
            "14/14 [==============================] - 44s 3s/step - loss: 0.6350 - accuracy: 0.6667 - val_loss: 0.6372 - val_accuracy: 0.6667\n",
            "Epoch 4/100\n",
            "14/14 [==============================] - ETA: 0s - loss: 0.6032 - accuracy: 0.6921\n",
            "Epoch 4: val_loss improved from 0.63720 to 0.63692, saving model to /tmp/checkpoint.h5\n",
            "14/14 [==============================] - 39s 3s/step - loss: 0.6032 - accuracy: 0.6921 - val_loss: 0.6369 - val_accuracy: 0.6667\n",
            "Epoch 5/100\n",
            "14/14 [==============================] - ETA: 0s - loss: 0.5558 - accuracy: 0.7361\n",
            "Epoch 5: val_loss did not improve from 0.63692\n",
            "14/14 [==============================] - 42s 3s/step - loss: 0.5558 - accuracy: 0.7361 - val_loss: 0.6444 - val_accuracy: 0.6667\n",
            "Epoch 6/100\n",
            "14/14 [==============================] - ETA: 0s - loss: 0.5706 - accuracy: 0.7083\n",
            "Epoch 6: val_loss did not improve from 0.63692\n",
            "14/14 [==============================] - 32s 2s/step - loss: 0.5706 - accuracy: 0.7083 - val_loss: 0.6374 - val_accuracy: 0.6667\n",
            "Epoch 7/100\n",
            "14/14 [==============================] - ETA: 0s - loss: 0.5190 - accuracy: 0.7384\n",
            "Epoch 7: val_loss did not improve from 0.63692\n",
            "14/14 [==============================] - 32s 2s/step - loss: 0.5190 - accuracy: 0.7384 - val_loss: 0.6829 - val_accuracy: 0.6667\n",
            "Epoch 8/100\n",
            "14/14 [==============================] - ETA: 0s - loss: 0.5108 - accuracy: 0.7500\n",
            "Epoch 8: val_loss improved from 0.63692 to 0.63672, saving model to /tmp/checkpoint.h5\n",
            "14/14 [==============================] - 32s 2s/step - loss: 0.5108 - accuracy: 0.7500 - val_loss: 0.6367 - val_accuracy: 0.6667\n",
            "Epoch 9/100\n",
            "14/14 [==============================] - ETA: 0s - loss: 0.4648 - accuracy: 0.7708\n",
            "Epoch 9: val_loss did not improve from 0.63672\n",
            "14/14 [==============================] - 32s 2s/step - loss: 0.4648 - accuracy: 0.7708 - val_loss: 0.6427 - val_accuracy: 0.6667\n",
            "Epoch 10/100\n",
            "14/14 [==============================] - ETA: 0s - loss: 0.4686 - accuracy: 0.7639\n",
            "Epoch 10: val_loss did not improve from 0.63672\n",
            "14/14 [==============================] - 32s 2s/step - loss: 0.4686 - accuracy: 0.7639 - val_loss: 0.6406 - val_accuracy: 0.6667\n",
            "Epoch 11/100\n",
            "14/14 [==============================] - ETA: 0s - loss: 0.4276 - accuracy: 0.7986\n",
            "Epoch 11: val_loss did not improve from 0.63672\n",
            "14/14 [==============================] - 31s 2s/step - loss: 0.4276 - accuracy: 0.7986 - val_loss: 0.6869 - val_accuracy: 0.6667\n",
            "Epoch 12/100\n",
            "14/14 [==============================] - ETA: 0s - loss: 0.4155 - accuracy: 0.7847\n",
            "Epoch 12: val_loss did not improve from 0.63672\n",
            "14/14 [==============================] - 32s 2s/step - loss: 0.4155 - accuracy: 0.7847 - val_loss: 0.6382 - val_accuracy: 0.6667\n",
            "Epoch 13/100\n",
            "14/14 [==============================] - ETA: 0s - loss: 0.4251 - accuracy: 0.7940\n",
            "Epoch 13: val_loss did not improve from 0.63672\n",
            "14/14 [==============================] - 32s 2s/step - loss: 0.4251 - accuracy: 0.7940 - val_loss: 0.8411 - val_accuracy: 0.6667\n",
            "Epoch 14/100\n",
            "14/14 [==============================] - ETA: 0s - loss: 0.4065 - accuracy: 0.8380\n",
            "Epoch 14: val_loss did not improve from 0.63672\n",
            "14/14 [==============================] - 32s 2s/step - loss: 0.4065 - accuracy: 0.8380 - val_loss: 0.7028 - val_accuracy: 0.6667\n",
            "Epoch 15/100\n",
            "14/14 [==============================] - ETA: 0s - loss: 0.3991 - accuracy: 0.8102\n",
            "Epoch 15: val_loss did not improve from 0.63672\n",
            "14/14 [==============================] - 31s 2s/step - loss: 0.3991 - accuracy: 0.8102 - val_loss: 0.7038 - val_accuracy: 0.4722\n",
            "Epoch 16/100\n",
            "14/14 [==============================] - ETA: 0s - loss: 0.3615 - accuracy: 0.8472\n",
            "Epoch 16: val_loss did not improve from 0.63672\n",
            "14/14 [==============================] - 32s 2s/step - loss: 0.3615 - accuracy: 0.8472 - val_loss: 0.6483 - val_accuracy: 0.6574\n",
            "Epoch 17/100\n",
            "14/14 [==============================] - ETA: 0s - loss: 0.3232 - accuracy: 0.8542\n",
            "Epoch 17: val_loss did not improve from 0.63672\n",
            "14/14 [==============================] - 32s 2s/step - loss: 0.3232 - accuracy: 0.8542 - val_loss: 0.6710 - val_accuracy: 0.6667\n",
            "Epoch 18/100\n",
            "14/14 [==============================] - ETA: 0s - loss: 0.3062 - accuracy: 0.8773\n",
            "Epoch 18: val_loss improved from 0.63672 to 0.63168, saving model to /tmp/checkpoint.h5\n",
            "14/14 [==============================] - 32s 2s/step - loss: 0.3062 - accuracy: 0.8773 - val_loss: 0.6317 - val_accuracy: 0.6574\n",
            "Epoch 19/100\n",
            "14/14 [==============================] - ETA: 0s - loss: 0.2892 - accuracy: 0.8912\n",
            "Epoch 19: val_loss did not improve from 0.63168\n",
            "14/14 [==============================] - 32s 2s/step - loss: 0.2892 - accuracy: 0.8912 - val_loss: 0.8943 - val_accuracy: 0.3519\n",
            "Epoch 20/100\n",
            "14/14 [==============================] - ETA: 0s - loss: 0.2671 - accuracy: 0.8866\n",
            "Epoch 20: val_loss improved from 0.63168 to 0.61192, saving model to /tmp/checkpoint.h5\n",
            "14/14 [==============================] - 32s 2s/step - loss: 0.2671 - accuracy: 0.8866 - val_loss: 0.6119 - val_accuracy: 0.6759\n",
            "Epoch 21/100\n",
            "14/14 [==============================] - ETA: 0s - loss: 0.3047 - accuracy: 0.8565\n",
            "Epoch 21: val_loss improved from 0.61192 to 0.60014, saving model to /tmp/checkpoint.h5\n",
            "14/14 [==============================] - 32s 2s/step - loss: 0.3047 - accuracy: 0.8565 - val_loss: 0.6001 - val_accuracy: 0.6759\n",
            "Epoch 22/100\n",
            "14/14 [==============================] - ETA: 0s - loss: 0.2668 - accuracy: 0.8843\n",
            "Epoch 22: val_loss did not improve from 0.60014\n",
            "14/14 [==============================] - 31s 2s/step - loss: 0.2668 - accuracy: 0.8843 - val_loss: 0.6284 - val_accuracy: 0.6759\n",
            "Epoch 23/100\n",
            "14/14 [==============================] - ETA: 0s - loss: 0.2445 - accuracy: 0.9074\n",
            "Epoch 23: val_loss did not improve from 0.60014\n",
            "14/14 [==============================] - 31s 2s/step - loss: 0.2445 - accuracy: 0.9074 - val_loss: 0.7013 - val_accuracy: 0.6759\n",
            "Epoch 24/100\n",
            "14/14 [==============================] - ETA: 0s - loss: 0.1831 - accuracy: 0.9421\n",
            "Epoch 24: val_loss did not improve from 0.60014\n",
            "14/14 [==============================] - 33s 2s/step - loss: 0.1831 - accuracy: 0.9421 - val_loss: 0.9491 - val_accuracy: 0.6667\n",
            "Epoch 25/100\n",
            "14/14 [==============================] - ETA: 0s - loss: 0.1458 - accuracy: 0.9606\n",
            "Epoch 25: val_loss did not improve from 0.60014\n",
            "14/14 [==============================] - 31s 2s/step - loss: 0.1458 - accuracy: 0.9606 - val_loss: 0.7810 - val_accuracy: 0.6667\n",
            "Epoch 26/100\n",
            "14/14 [==============================] - ETA: 0s - loss: 0.1437 - accuracy: 0.9560\n",
            "Epoch 26: val_loss did not improve from 0.60014\n",
            "14/14 [==============================] - 32s 2s/step - loss: 0.1437 - accuracy: 0.9560 - val_loss: 0.6822 - val_accuracy: 0.6759\n",
            "Epoch 27/100\n",
            "14/14 [==============================] - ETA: 0s - loss: 0.1875 - accuracy: 0.9236\n",
            "Epoch 27: val_loss did not improve from 0.60014\n",
            "14/14 [==============================] - 32s 2s/step - loss: 0.1875 - accuracy: 0.9236 - val_loss: 0.7382 - val_accuracy: 0.5185\n",
            "Epoch 28/100\n",
            "14/14 [==============================] - ETA: 0s - loss: 0.1175 - accuracy: 0.9630\n",
            "Epoch 28: val_loss did not improve from 0.60014\n",
            "14/14 [==============================] - 32s 2s/step - loss: 0.1175 - accuracy: 0.9630 - val_loss: 0.7886 - val_accuracy: 0.6759\n",
            "Epoch 29/100\n",
            "14/14 [==============================] - ETA: 0s - loss: 0.1612 - accuracy: 0.9491\n",
            "Epoch 29: val_loss did not improve from 0.60014\n",
            "14/14 [==============================] - 31s 2s/step - loss: 0.1612 - accuracy: 0.9491 - val_loss: 0.7651 - val_accuracy: 0.5000\n",
            "Epoch 30/100\n",
            "14/14 [==============================] - ETA: 0s - loss: 0.0895 - accuracy: 0.9769\n",
            "Epoch 30: val_loss did not improve from 0.60014\n",
            "14/14 [==============================] - 32s 2s/step - loss: 0.0895 - accuracy: 0.9769 - val_loss: 0.7540 - val_accuracy: 0.5370\n",
            "Epoch 31/100\n",
            "14/14 [==============================] - ETA: 0s - loss: 0.0683 - accuracy: 0.9792\n",
            "Epoch 31: val_loss did not improve from 0.60014\n",
            "14/14 [==============================] - 32s 2s/step - loss: 0.0683 - accuracy: 0.9792 - val_loss: 1.2504 - val_accuracy: 0.4074\n",
            "Epoch 32/100\n",
            "14/14 [==============================] - ETA: 0s - loss: 0.0830 - accuracy: 0.9769\n",
            "Epoch 32: val_loss did not improve from 0.60014\n",
            "14/14 [==============================] - 32s 2s/step - loss: 0.0830 - accuracy: 0.9769 - val_loss: 1.5210 - val_accuracy: 0.3611\n",
            "Epoch 33/100\n",
            "14/14 [==============================] - ETA: 0s - loss: 0.0468 - accuracy: 0.9931\n",
            "Epoch 33: val_loss did not improve from 0.60014\n",
            "14/14 [==============================] - 31s 2s/step - loss: 0.0468 - accuracy: 0.9931 - val_loss: 0.8771 - val_accuracy: 0.5278\n",
            "Epoch 34/100\n",
            "14/14 [==============================] - ETA: 0s - loss: 0.0383 - accuracy: 0.9931\n",
            "Epoch 34: val_loss did not improve from 0.60014\n",
            "14/14 [==============================] - 32s 2s/step - loss: 0.0383 - accuracy: 0.9931 - val_loss: 1.6355 - val_accuracy: 0.3981\n",
            "Epoch 35/100\n",
            "14/14 [==============================] - ETA: 0s - loss: 0.0436 - accuracy: 0.9907\n",
            "Epoch 35: val_loss did not improve from 0.60014\n",
            "14/14 [==============================] - 32s 2s/step - loss: 0.0436 - accuracy: 0.9907 - val_loss: 1.2244 - val_accuracy: 0.4815\n",
            "Epoch 36/100\n",
            "14/14 [==============================] - ETA: 0s - loss: 0.0304 - accuracy: 0.9931\n",
            "Epoch 36: val_loss did not improve from 0.60014\n",
            "14/14 [==============================] - 32s 2s/step - loss: 0.0304 - accuracy: 0.9931 - val_loss: 1.3752 - val_accuracy: 0.4722\n",
            "Epoch 37/100\n",
            "14/14 [==============================] - ETA: 0s - loss: 0.0302 - accuracy: 0.9931\n",
            "Epoch 37: val_loss did not improve from 0.60014\n",
            "14/14 [==============================] - 31s 2s/step - loss: 0.0302 - accuracy: 0.9931 - val_loss: 0.7178 - val_accuracy: 0.6481\n",
            "Epoch 38/100\n",
            "14/14 [==============================] - ETA: 0s - loss: 0.0336 - accuracy: 0.9954\n",
            "Epoch 38: val_loss did not improve from 0.60014\n",
            "14/14 [==============================] - 32s 2s/step - loss: 0.0336 - accuracy: 0.9954 - val_loss: 1.8567 - val_accuracy: 0.4444\n",
            "Epoch 39/100\n",
            "14/14 [==============================] - ETA: 0s - loss: 0.0179 - accuracy: 0.9977\n",
            "Epoch 39: val_loss did not improve from 0.60014\n",
            "14/14 [==============================] - 32s 2s/step - loss: 0.0179 - accuracy: 0.9977 - val_loss: 1.4730 - val_accuracy: 0.5185\n",
            "Epoch 40/100\n",
            "14/14 [==============================] - ETA: 0s - loss: 0.0196 - accuracy: 1.0000\n",
            "Epoch 40: val_loss did not improve from 0.60014\n",
            "14/14 [==============================] - 32s 2s/step - loss: 0.0196 - accuracy: 1.0000 - val_loss: 1.2620 - val_accuracy: 0.5648\n",
            "Epoch 41/100\n",
            "14/14 [==============================] - ETA: 0s - loss: 0.0244 - accuracy: 0.9977\n",
            "Epoch 41: val_loss did not improve from 0.60014\n",
            "14/14 [==============================] - 31s 2s/step - loss: 0.0244 - accuracy: 0.9977 - val_loss: 1.5587 - val_accuracy: 0.5556\n",
            "Epoch 42/100\n",
            "14/14 [==============================] - ETA: 0s - loss: 0.0252 - accuracy: 0.9861\n",
            "Epoch 42: val_loss did not improve from 0.60014\n",
            "14/14 [==============================] - 32s 2s/step - loss: 0.0252 - accuracy: 0.9861 - val_loss: 1.3172 - val_accuracy: 0.5833\n",
            "Epoch 43/100\n",
            "14/14 [==============================] - ETA: 0s - loss: 0.0212 - accuracy: 0.9931\n",
            "Epoch 43: val_loss did not improve from 0.60014\n",
            "14/14 [==============================] - 32s 2s/step - loss: 0.0212 - accuracy: 0.9931 - val_loss: 1.0546 - val_accuracy: 0.6574\n",
            "Epoch 44/100\n",
            "14/14 [==============================] - ETA: 0s - loss: 0.0318 - accuracy: 0.9907\n",
            "Epoch 44: val_loss did not improve from 0.60014\n",
            "14/14 [==============================] - 32s 2s/step - loss: 0.0318 - accuracy: 0.9907 - val_loss: 1.8233 - val_accuracy: 0.5648\n",
            "Epoch 45/100\n",
            "14/14 [==============================] - ETA: 0s - loss: 0.0204 - accuracy: 0.9954\n",
            "Epoch 45: val_loss did not improve from 0.60014\n",
            "14/14 [==============================] - 32s 2s/step - loss: 0.0204 - accuracy: 0.9954 - val_loss: 1.2776 - val_accuracy: 0.6574\n",
            "Epoch 46/100\n",
            "14/14 [==============================] - ETA: 0s - loss: 0.0204 - accuracy: 0.9954\n",
            "Epoch 46: val_loss did not improve from 0.60014\n",
            "14/14 [==============================] - 32s 2s/step - loss: 0.0204 - accuracy: 0.9954 - val_loss: 0.6374 - val_accuracy: 0.7685\n",
            "Epoch 47/100\n",
            "14/14 [==============================] - ETA: 0s - loss: 0.0705 - accuracy: 0.9792\n",
            "Epoch 47: val_loss did not improve from 0.60014\n",
            "14/14 [==============================] - 32s 2s/step - loss: 0.0705 - accuracy: 0.9792 - val_loss: 1.5235 - val_accuracy: 0.5833\n",
            "Epoch 48/100\n",
            "14/14 [==============================] - ETA: 0s - loss: 0.0153 - accuracy: 1.0000\n",
            "Epoch 48: val_loss did not improve from 0.60014\n",
            "14/14 [==============================] - 31s 2s/step - loss: 0.0153 - accuracy: 1.0000 - val_loss: 1.0506 - val_accuracy: 0.6852\n",
            "Epoch 49/100\n",
            "14/14 [==============================] - ETA: 0s - loss: 0.0127 - accuracy: 1.0000\n",
            "Epoch 49: val_loss did not improve from 0.60014\n",
            "14/14 [==============================] - 31s 2s/step - loss: 0.0127 - accuracy: 1.0000 - val_loss: 1.1368 - val_accuracy: 0.7037\n",
            "Epoch 50/100\n",
            "14/14 [==============================] - ETA: 0s - loss: 0.0156 - accuracy: 0.9977\n",
            "Epoch 50: val_loss did not improve from 0.60014\n",
            "14/14 [==============================] - 31s 2s/step - loss: 0.0156 - accuracy: 0.9977 - val_loss: 0.9631 - val_accuracy: 0.7130\n",
            "Epoch 51/100\n",
            "14/14 [==============================] - ETA: 0s - loss: 0.0156 - accuracy: 0.9977\n",
            "Epoch 51: val_loss did not improve from 0.60014\n",
            "14/14 [==============================] - 31s 2s/step - loss: 0.0156 - accuracy: 0.9977 - val_loss: 0.7363 - val_accuracy: 0.7500\n",
            "Epoch 52/100\n",
            "14/14 [==============================] - ETA: 0s - loss: 0.0091 - accuracy: 1.0000\n",
            "Epoch 52: val_loss did not improve from 0.60014\n",
            "14/14 [==============================] - 31s 2s/step - loss: 0.0091 - accuracy: 1.0000 - val_loss: 0.7320 - val_accuracy: 0.7685\n",
            "Epoch 53/100\n",
            "14/14 [==============================] - ETA: 0s - loss: 0.0074 - accuracy: 1.0000\n",
            "Epoch 53: val_loss did not improve from 0.60014\n",
            "14/14 [==============================] - 33s 2s/step - loss: 0.0074 - accuracy: 1.0000 - val_loss: 0.7361 - val_accuracy: 0.7778\n",
            "Epoch 54/100\n",
            "14/14 [==============================] - ETA: 0s - loss: 0.0081 - accuracy: 0.9977\n",
            "Epoch 54: val_loss did not improve from 0.60014\n",
            "14/14 [==============================] - 32s 2s/step - loss: 0.0081 - accuracy: 0.9977 - val_loss: 0.6499 - val_accuracy: 0.8148\n",
            "Epoch 55/100\n",
            "14/14 [==============================] - ETA: 0s - loss: 0.0088 - accuracy: 1.0000\n",
            "Epoch 55: val_loss did not improve from 0.60014\n",
            "14/14 [==============================] - 32s 2s/step - loss: 0.0088 - accuracy: 1.0000 - val_loss: 0.6886 - val_accuracy: 0.8148\n",
            "Epoch 56/100\n",
            "14/14 [==============================] - ETA: 0s - loss: 0.0053 - accuracy: 1.0000\n",
            "Epoch 56: val_loss did not improve from 0.60014\n",
            "14/14 [==============================] - 32s 2s/step - loss: 0.0053 - accuracy: 1.0000 - val_loss: 0.6754 - val_accuracy: 0.8056\n",
            "Epoch 57/100\n",
            "14/14 [==============================] - ETA: 0s - loss: 0.0067 - accuracy: 1.0000\n",
            "Epoch 57: val_loss did not improve from 0.60014\n",
            "14/14 [==============================] - 31s 2s/step - loss: 0.0067 - accuracy: 1.0000 - val_loss: 0.6633 - val_accuracy: 0.8148\n",
            "Epoch 58/100\n",
            "14/14 [==============================] - ETA: 0s - loss: 0.0050 - accuracy: 1.0000\n",
            "Epoch 58: val_loss did not improve from 0.60014\n",
            "14/14 [==============================] - 32s 2s/step - loss: 0.0050 - accuracy: 1.0000 - val_loss: 0.6386 - val_accuracy: 0.8148\n",
            "Epoch 59/100\n",
            "14/14 [==============================] - ETA: 0s - loss: 0.0053 - accuracy: 1.0000\n",
            "Epoch 59: val_loss did not improve from 0.60014\n",
            "14/14 [==============================] - 31s 2s/step - loss: 0.0053 - accuracy: 1.0000 - val_loss: 0.6189 - val_accuracy: 0.8241\n",
            "Epoch 60/100\n",
            "14/14 [==============================] - ETA: 0s - loss: 0.0058 - accuracy: 1.0000\n",
            "Epoch 60: val_loss did not improve from 0.60014\n",
            "14/14 [==============================] - 31s 2s/step - loss: 0.0058 - accuracy: 1.0000 - val_loss: 0.6183 - val_accuracy: 0.8241\n",
            "Epoch 61/100\n",
            "14/14 [==============================] - ETA: 0s - loss: 0.0049 - accuracy: 1.0000\n",
            "Epoch 61: val_loss did not improve from 0.60014\n",
            "14/14 [==============================] - 31s 2s/step - loss: 0.0049 - accuracy: 1.0000 - val_loss: 0.6002 - val_accuracy: 0.8426\n",
            "Epoch 62/100\n",
            "14/14 [==============================] - ETA: 0s - loss: 0.0042 - accuracy: 1.0000\n",
            "Epoch 62: val_loss improved from 0.60014 to 0.59004, saving model to /tmp/checkpoint.h5\n",
            "14/14 [==============================] - 31s 2s/step - loss: 0.0042 - accuracy: 1.0000 - val_loss: 0.5900 - val_accuracy: 0.8519\n",
            "Epoch 63/100\n",
            "14/14 [==============================] - ETA: 0s - loss: 0.0073 - accuracy: 1.0000\n",
            "Epoch 63: val_loss improved from 0.59004 to 0.55259, saving model to /tmp/checkpoint.h5\n",
            "14/14 [==============================] - 31s 2s/step - loss: 0.0073 - accuracy: 1.0000 - val_loss: 0.5526 - val_accuracy: 0.8704\n",
            "Epoch 64/100\n",
            "14/14 [==============================] - ETA: 0s - loss: 0.0050 - accuracy: 1.0000\n",
            "Epoch 64: val_loss did not improve from 0.55259\n",
            "14/14 [==============================] - 31s 2s/step - loss: 0.0050 - accuracy: 1.0000 - val_loss: 0.5842 - val_accuracy: 0.8241\n",
            "Epoch 65/100\n",
            "14/14 [==============================] - ETA: 0s - loss: 0.0029 - accuracy: 1.0000\n",
            "Epoch 65: val_loss did not improve from 0.55259\n",
            "14/14 [==============================] - 31s 2s/step - loss: 0.0029 - accuracy: 1.0000 - val_loss: 0.5947 - val_accuracy: 0.8333\n",
            "Epoch 66/100\n",
            "14/14 [==============================] - ETA: 0s - loss: 0.0035 - accuracy: 1.0000\n",
            "Epoch 66: val_loss did not improve from 0.55259\n",
            "14/14 [==============================] - 31s 2s/step - loss: 0.0035 - accuracy: 1.0000 - val_loss: 0.6057 - val_accuracy: 0.8426\n",
            "Epoch 67/100\n",
            "14/14 [==============================] - ETA: 0s - loss: 0.0058 - accuracy: 1.0000\n",
            "Epoch 67: val_loss did not improve from 0.55259\n",
            "14/14 [==============================] - 32s 2s/step - loss: 0.0058 - accuracy: 1.0000 - val_loss: 0.6869 - val_accuracy: 0.8426\n",
            "Epoch 68/100\n",
            "14/14 [==============================] - ETA: 0s - loss: 0.0059 - accuracy: 0.9977\n",
            "Epoch 68: val_loss did not improve from 0.55259\n",
            "14/14 [==============================] - 32s 2s/step - loss: 0.0059 - accuracy: 0.9977 - val_loss: 0.7035 - val_accuracy: 0.8241\n",
            "Epoch 69/100\n",
            "14/14 [==============================] - ETA: 0s - loss: 0.0127 - accuracy: 0.9954\n",
            "Epoch 69: val_loss did not improve from 0.55259\n",
            "14/14 [==============================] - 32s 2s/step - loss: 0.0127 - accuracy: 0.9954 - val_loss: 0.7295 - val_accuracy: 0.8426\n",
            "Epoch 70/100\n",
            "14/14 [==============================] - ETA: 0s - loss: 0.0043 - accuracy: 1.0000\n",
            "Epoch 70: val_loss did not improve from 0.55259\n",
            "14/14 [==============================] - 32s 2s/step - loss: 0.0043 - accuracy: 1.0000 - val_loss: 0.6951 - val_accuracy: 0.8241\n",
            "Epoch 71/100\n",
            "14/14 [==============================] - ETA: 0s - loss: 0.0035 - accuracy: 1.0000\n",
            "Epoch 71: val_loss did not improve from 0.55259\n",
            "14/14 [==============================] - 32s 2s/step - loss: 0.0035 - accuracy: 1.0000 - val_loss: 0.6921 - val_accuracy: 0.8333\n",
            "Epoch 72/100\n",
            "14/14 [==============================] - ETA: 0s - loss: 0.0044 - accuracy: 1.0000\n",
            "Epoch 72: val_loss did not improve from 0.55259\n",
            "14/14 [==============================] - 32s 2s/step - loss: 0.0044 - accuracy: 1.0000 - val_loss: 0.6807 - val_accuracy: 0.8333\n",
            "Epoch 73/100\n",
            "14/14 [==============================] - ETA: 0s - loss: 0.0065 - accuracy: 0.9977\n",
            "Epoch 73: val_loss did not improve from 0.55259\n",
            "14/14 [==============================] - 33s 2s/step - loss: 0.0065 - accuracy: 0.9977 - val_loss: 0.6890 - val_accuracy: 0.8148\n",
            "Epoch 74/100\n",
            "14/14 [==============================] - ETA: 0s - loss: 0.0066 - accuracy: 1.0000\n",
            "Epoch 74: val_loss did not improve from 0.55259\n",
            "14/14 [==============================] - 31s 2s/step - loss: 0.0066 - accuracy: 1.0000 - val_loss: 0.6272 - val_accuracy: 0.8611\n",
            "Epoch 75/100\n",
            "14/14 [==============================] - ETA: 0s - loss: 0.0060 - accuracy: 1.0000\n",
            "Epoch 75: val_loss did not improve from 0.55259\n",
            "14/14 [==============================] - 31s 2s/step - loss: 0.0060 - accuracy: 1.0000 - val_loss: 0.6330 - val_accuracy: 0.8426\n",
            "Epoch 76/100\n",
            "14/14 [==============================] - ETA: 0s - loss: 0.0035 - accuracy: 1.0000\n",
            "Epoch 76: val_loss did not improve from 0.55259\n",
            "14/14 [==============================] - 31s 2s/step - loss: 0.0035 - accuracy: 1.0000 - val_loss: 0.6079 - val_accuracy: 0.8519\n",
            "Epoch 77/100\n",
            "14/14 [==============================] - ETA: 0s - loss: 0.0040 - accuracy: 1.0000\n",
            "Epoch 77: val_loss did not improve from 0.55259\n",
            "14/14 [==============================] - 31s 2s/step - loss: 0.0040 - accuracy: 1.0000 - val_loss: 0.6799 - val_accuracy: 0.8333\n",
            "Epoch 78/100\n",
            "14/14 [==============================] - ETA: 0s - loss: 0.0058 - accuracy: 1.0000\n",
            "Epoch 78: val_loss did not improve from 0.55259\n",
            "14/14 [==============================] - 31s 2s/step - loss: 0.0058 - accuracy: 1.0000 - val_loss: 0.6412 - val_accuracy: 0.8333\n",
            "Epoch 79/100\n",
            "14/14 [==============================] - ETA: 0s - loss: 0.0039 - accuracy: 0.9977\n",
            "Epoch 79: val_loss did not improve from 0.55259\n",
            "14/14 [==============================] - 32s 2s/step - loss: 0.0039 - accuracy: 0.9977 - val_loss: 0.6306 - val_accuracy: 0.8519\n",
            "Epoch 80/100\n",
            "14/14 [==============================] - ETA: 0s - loss: 0.0024 - accuracy: 1.0000\n",
            "Epoch 80: val_loss did not improve from 0.55259\n",
            "14/14 [==============================] - 31s 2s/step - loss: 0.0024 - accuracy: 1.0000 - val_loss: 0.5941 - val_accuracy: 0.8704\n",
            "Epoch 81/100\n",
            "14/14 [==============================] - ETA: 0s - loss: 0.0029 - accuracy: 1.0000\n",
            "Epoch 81: val_loss did not improve from 0.55259\n",
            "14/14 [==============================] - 32s 2s/step - loss: 0.0029 - accuracy: 1.0000 - val_loss: 0.6208 - val_accuracy: 0.8519\n",
            "Epoch 82/100\n",
            "14/14 [==============================] - ETA: 0s - loss: 0.0031 - accuracy: 1.0000\n",
            "Epoch 82: val_loss did not improve from 0.55259\n",
            "14/14 [==============================] - 32s 2s/step - loss: 0.0031 - accuracy: 1.0000 - val_loss: 0.6212 - val_accuracy: 0.8426\n",
            "Epoch 83/100\n",
            "14/14 [==============================] - ETA: 0s - loss: 0.0024 - accuracy: 1.0000\n",
            "Epoch 83: val_loss did not improve from 0.55259\n",
            "14/14 [==============================] - 32s 2s/step - loss: 0.0024 - accuracy: 1.0000 - val_loss: 0.6200 - val_accuracy: 0.8519\n",
            "Epoch 84/100\n",
            "14/14 [==============================] - ETA: 0s - loss: 0.0023 - accuracy: 1.0000\n",
            "Epoch 84: val_loss did not improve from 0.55259\n",
            "14/14 [==============================] - 32s 2s/step - loss: 0.0023 - accuracy: 1.0000 - val_loss: 0.6079 - val_accuracy: 0.8519\n",
            "Epoch 85/100\n",
            "14/14 [==============================] - ETA: 0s - loss: 0.0024 - accuracy: 1.0000\n",
            "Epoch 85: val_loss did not improve from 0.55259\n",
            "14/14 [==============================] - 32s 2s/step - loss: 0.0024 - accuracy: 1.0000 - val_loss: 0.6000 - val_accuracy: 0.8519\n",
            "Epoch 86/100\n",
            "14/14 [==============================] - ETA: 0s - loss: 0.0022 - accuracy: 1.0000\n",
            "Epoch 86: val_loss did not improve from 0.55259\n",
            "14/14 [==============================] - 32s 2s/step - loss: 0.0022 - accuracy: 1.0000 - val_loss: 0.6114 - val_accuracy: 0.8519\n",
            "Epoch 87/100\n",
            "14/14 [==============================] - ETA: 0s - loss: 0.0021 - accuracy: 1.0000\n",
            "Epoch 87: val_loss did not improve from 0.55259\n",
            "14/14 [==============================] - 32s 2s/step - loss: 0.0021 - accuracy: 1.0000 - val_loss: 0.6267 - val_accuracy: 0.8611\n",
            "Epoch 88/100\n",
            "14/14 [==============================] - ETA: 0s - loss: 0.0016 - accuracy: 1.0000\n",
            "Epoch 88: val_loss did not improve from 0.55259\n",
            "14/14 [==============================] - 32s 2s/step - loss: 0.0016 - accuracy: 1.0000 - val_loss: 0.6216 - val_accuracy: 0.8611\n",
            "Epoch 89/100\n",
            "14/14 [==============================] - ETA: 0s - loss: 0.0016 - accuracy: 1.0000\n",
            "Epoch 89: val_loss did not improve from 0.55259\n",
            "14/14 [==============================] - 32s 2s/step - loss: 0.0016 - accuracy: 1.0000 - val_loss: 0.6215 - val_accuracy: 0.8611\n",
            "Epoch 90/100\n",
            "14/14 [==============================] - ETA: 0s - loss: 0.0025 - accuracy: 1.0000\n",
            "Epoch 90: val_loss did not improve from 0.55259\n",
            "14/14 [==============================] - 32s 2s/step - loss: 0.0025 - accuracy: 1.0000 - val_loss: 0.6296 - val_accuracy: 0.8519\n",
            "Epoch 91/100\n",
            "14/14 [==============================] - ETA: 0s - loss: 0.0020 - accuracy: 1.0000\n",
            "Epoch 91: val_loss did not improve from 0.55259\n",
            "14/14 [==============================] - 32s 2s/step - loss: 0.0020 - accuracy: 1.0000 - val_loss: 0.6337 - val_accuracy: 0.8611\n",
            "Epoch 92/100\n",
            "14/14 [==============================] - ETA: 0s - loss: 0.0040 - accuracy: 1.0000\n",
            "Epoch 92: val_loss did not improve from 0.55259\n",
            "14/14 [==============================] - 32s 2s/step - loss: 0.0040 - accuracy: 1.0000 - val_loss: 0.6295 - val_accuracy: 0.8426\n",
            "Epoch 93/100\n",
            "14/14 [==============================] - ETA: 0s - loss: 0.0024 - accuracy: 1.0000\n",
            "Epoch 93: val_loss did not improve from 0.55259\n",
            "14/14 [==============================] - 32s 2s/step - loss: 0.0024 - accuracy: 1.0000 - val_loss: 0.6401 - val_accuracy: 0.8519\n",
            "Epoch 94/100\n",
            "14/14 [==============================] - ETA: 0s - loss: 0.0020 - accuracy: 1.0000\n",
            "Epoch 94: val_loss did not improve from 0.55259\n",
            "14/14 [==============================] - 32s 2s/step - loss: 0.0020 - accuracy: 1.0000 - val_loss: 0.7166 - val_accuracy: 0.8519\n",
            "Epoch 95/100\n",
            "14/14 [==============================] - ETA: 0s - loss: 0.0013 - accuracy: 1.0000\n",
            "Epoch 95: val_loss did not improve from 0.55259\n",
            "14/14 [==============================] - 32s 2s/step - loss: 0.0013 - accuracy: 1.0000 - val_loss: 0.7035 - val_accuracy: 0.8519\n",
            "Epoch 96/100\n",
            "14/14 [==============================] - ETA: 0s - loss: 0.0018 - accuracy: 1.0000\n",
            "Epoch 96: val_loss did not improve from 0.55259\n",
            "14/14 [==============================] - 32s 2s/step - loss: 0.0018 - accuracy: 1.0000 - val_loss: 0.6735 - val_accuracy: 0.8519\n",
            "Epoch 97/100\n",
            "14/14 [==============================] - ETA: 0s - loss: 0.0033 - accuracy: 1.0000\n",
            "Epoch 97: val_loss did not improve from 0.55259\n",
            "14/14 [==============================] - 31s 2s/step - loss: 0.0033 - accuracy: 1.0000 - val_loss: 0.6766 - val_accuracy: 0.8519\n",
            "Epoch 98/100\n",
            "14/14 [==============================] - ETA: 0s - loss: 0.0042 - accuracy: 1.0000\n",
            "Epoch 98: val_loss did not improve from 0.55259\n",
            "14/14 [==============================] - 32s 2s/step - loss: 0.0042 - accuracy: 1.0000 - val_loss: 0.6620 - val_accuracy: 0.8426\n",
            "Epoch 99/100\n",
            "14/14 [==============================] - ETA: 0s - loss: 0.0025 - accuracy: 1.0000\n",
            "Epoch 99: val_loss did not improve from 0.55259\n",
            "14/14 [==============================] - 32s 2s/step - loss: 0.0025 - accuracy: 1.0000 - val_loss: 0.6467 - val_accuracy: 0.8519\n",
            "Epoch 100/100\n",
            "14/14 [==============================] - ETA: 0s - loss: 0.0019 - accuracy: 1.0000\n",
            "Epoch 100: val_loss did not improve from 0.55259\n",
            "14/14 [==============================] - 31s 2s/step - loss: 0.0019 - accuracy: 1.0000 - val_loss: 0.6433 - val_accuracy: 0.8704\n"
          ]
        }
      ]
    },
    {
      "cell_type": "code",
      "source": [
        "cnn_model.save(\"cnn_model_1.h5py\")"
      ],
      "metadata": {
        "colab": {
          "base_uri": "https://localhost:8080/"
        },
        "id": "Q6U0YX5QVGEk",
        "outputId": "5b65a392-e267-4b3c-f50e-4b04ca5563c5"
      },
      "execution_count": 29,
      "outputs": [
        {
          "output_type": "stream",
          "name": "stdout",
          "text": [
            "INFO:tensorflow:Assets written to: cnn_model_1.h5py/assets\n"
          ]
        }
      ]
    },
    {
      "cell_type": "code",
      "source": [
        "vis_confusion_matrix(cm_cnn)\n",
        "\n",
        "vis_acc_loss(cnn_train)"
      ],
      "metadata": {
        "colab": {
          "base_uri": "https://localhost:8080/",
          "height": 865
        },
        "id": "ChcOPVsxa5MD",
        "outputId": "e09745ff-1117-4753-935c-46dfa430d9fb"
      },
      "execution_count": 30,
      "outputs": [
        {
          "output_type": "display_data",
          "data": {
            "text/plain": [
              "<Figure size 432x288 with 2 Axes>"
            ],
            "image/png": "[encoded data removed]"
          },
          "metadata": {
            "needs_background": "light"
          }
        },
        {
          "output_type": "display_data",
          "data": {
            "text/plain": [
              "<Figure size 432x288 with 1 Axes>"
            ],
            "image/png": "[encoded data removed]"
          },
          "metadata": {
            "needs_background": "light"
          }
        },
        {
          "output_type": "display_data",
          "data": {
            "text/plain": [
              "<Figure size 432x288 with 1 Axes>"
            ],
            "image/png": "[encoded data removed]"
          },
          "metadata": {
            "needs_background": "light"
          }
        }
      ]
    },
    {
      "cell_type": "code",
      "source": [
        "print('Test loss:', test_eval[0])\n",
        "print('Test accuracy:', test_eval[1])"
      ],
      "metadata": {
        "colab": {
          "base_uri": "https://localhost:8080/"
        },
        "id": "0zWTo6sKhzj-",
        "outputId": "02de1d02-b04a-4009-a8b6-a46c265fb5d1"
      },
      "execution_count": 31,
      "outputs": [
        {
          "output_type": "stream",
          "name": "stdout",
          "text": [
            "Test loss: 0.6675174236297607\n",
            "Test accuracy: 0.7964285612106323\n"
          ]
        }
      ]
    },
    {
      "cell_type": "markdown",
      "source": [
        "## LDA & CNN | Subject 2"
      ],
      "metadata": {
        "id": "lP1mw6jBhl0O"
      }
    },
    {
      "cell_type": "code",
      "source": [
        "subject = 1\n",
        "\n",
        "train_X, test_X, train_y, test_y = get_train_test(active[subject], passive[subject], cue[subject])"
      ],
      "metadata": {
        "colab": {
          "base_uri": "https://localhost:8080/"
        },
        "id": "kdX2S40DkEa4",
        "outputId": "bbcfb89b-edb4-4411-d999-645f8710363c"
      },
      "execution_count": 32,
      "outputs": [
        {
          "output_type": "stream",
          "name": "stdout",
          "text": [
            "Filtering raw data in 1 contiguous segment\n",
            "Setting up high-pass filter at 1 Hz\n",
            "\n",
            "FIR filter parameters\n",
            "---------------------\n",
            "Designing a one-pass, zero-phase, non-causal highpass filter:\n",
            "- Windowed time-domain design (firwin) method\n",
            "- Hamming window with 0.0194 passband ripple and 53 dB stopband attenuation\n",
            "- Lower passband edge: 1.00\n",
            "- Lower transition bandwidth: 1.00 Hz (-6 dB cutoff frequency: 0.50 Hz)\n",
            "- Filter length: 331 samples (3.310 sec)\n",
            "\n",
            "Fitting ICA to data using 10 channels (please be patient, this may take a while)\n",
            "Selecting by number: 10 components\n"
          ]
        },
        {
          "output_type": "stream",
          "name": "stderr",
          "text": [
            "<ipython-input-19-9e9bb564ee4f>:32: RuntimeWarning: The epochs you passed to ICA.fit() were baseline-corrected. However, we suggest to fit ICA only on data that has been high-pass filtered, but NOT baseline-corrected.\n",
            "  ica.fit(epochs)\n"
          ]
        },
        {
          "output_type": "stream",
          "name": "stdout",
          "text": [
            "Fitting ICA took 1.6s.\n",
            "Filtering raw data in 1 contiguous segment\n",
            "Setting up high-pass filter at 1 Hz\n",
            "\n",
            "FIR filter parameters\n",
            "---------------------\n",
            "Designing a one-pass, zero-phase, non-causal highpass filter:\n",
            "- Windowed time-domain design (firwin) method\n",
            "- Hamming window with 0.0194 passband ripple and 53 dB stopband attenuation\n",
            "- Lower passband edge: 1.00\n",
            "- Lower transition bandwidth: 1.00 Hz (-6 dB cutoff frequency: 0.50 Hz)\n",
            "- Filter length: 331 samples (3.310 sec)\n",
            "\n",
            "Fitting ICA to data using 10 channels (please be patient, this may take a while)\n",
            "Selecting by number: 10 components\n"
          ]
        },
        {
          "output_type": "stream",
          "name": "stderr",
          "text": [
            "<ipython-input-19-9e9bb564ee4f>:32: RuntimeWarning: The epochs you passed to ICA.fit() were baseline-corrected. However, we suggest to fit ICA only on data that has been high-pass filtered, but NOT baseline-corrected.\n",
            "  ica.fit(epochs)\n"
          ]
        },
        {
          "output_type": "stream",
          "name": "stdout",
          "text": [
            "Fitting ICA took 0.5s.\n",
            "Filtering raw data in 1 contiguous segment\n",
            "Setting up high-pass filter at 1 Hz\n",
            "\n",
            "FIR filter parameters\n",
            "---------------------\n",
            "Designing a one-pass, zero-phase, non-causal highpass filter:\n",
            "- Windowed time-domain design (firwin) method\n",
            "- Hamming window with 0.0194 passband ripple and 53 dB stopband attenuation\n",
            "- Lower passband edge: 1.00\n",
            "- Lower transition bandwidth: 1.00 Hz (-6 dB cutoff frequency: 0.50 Hz)\n",
            "- Filter length: 331 samples (3.310 sec)\n",
            "\n",
            "Fitting ICA to data using 10 channels (please be patient, this may take a while)\n",
            "Selecting by number: 10 components\n"
          ]
        },
        {
          "output_type": "stream",
          "name": "stderr",
          "text": [
            "<ipython-input-19-9e9bb564ee4f>:32: RuntimeWarning: The epochs you passed to ICA.fit() were baseline-corrected. However, we suggest to fit ICA only on data that has been high-pass filtered, but NOT baseline-corrected.\n",
            "  ica.fit(epochs)\n"
          ]
        },
        {
          "output_type": "stream",
          "name": "stdout",
          "text": [
            "Fitting ICA took 0.3s.\n"
          ]
        }
      ]
    },
    {
      "cell_type": "code",
      "source": [
        "test_X.shape"
      ],
      "metadata": {
        "colab": {
          "base_uri": "https://localhost:8080/"
        },
        "id": "tRf4-m5plLC_",
        "outputId": "d14fbc77-8c22-4b78-88c5-8481d4d21425"
      },
      "execution_count": 33,
      "outputs": [
        {
          "output_type": "execute_result",
          "data": {
            "text/plain": [
              "(280, 10, 101)"
            ]
          },
          "metadata": {},
          "execution_count": 33
        }
      ]
    },
    {
      "cell_type": "code",
      "source": [
        "clf_lda, cm_lda = lda_101(train_X, test_X, train_y, test_y) \n",
        "lda_models.append(clf_lda)\n",
        "vis_confusion_matrix(cm_lda)"
      ],
      "metadata": {
        "colab": {
          "base_uri": "https://localhost:8080/",
          "height": 389
        },
        "id": "FvNkjnVAkFHo",
        "outputId": "bee92f1f-bd18-4b25-8047-bd53c7258f9e"
      },
      "execution_count": 34,
      "outputs": [
        {
          "output_type": "stream",
          "name": "stdout",
          "text": [
            "[[48 52]\n",
            " [94 86]]\n",
            "Accuracy0.4785714285714286\n"
          ]
        },
        {
          "output_type": "display_data",
          "data": {
            "text/plain": [
              "<Figure size 432x288 with 2 Axes>"
            ],
            "image/png": "[encoded data removed]"
          },
          "metadata": {
            "needs_background": "light"
          }
        }
      ]
    },
    {
      "cell_type": "code",
      "source": [
        "cnn_model, cnn_train, test_eval, cm_cnn = cnn_101(train_X, \n",
        "                                                  test_X, \n",
        "                                                  train_y, \n",
        "                                                  test_y)\n",
        "\n",
        "cnn_models.append(cnn_model)"
      ],
      "metadata": {
        "colab": {
          "base_uri": "https://localhost:8080/"
        },
        "id": "rkw7394XkH68",
        "outputId": "def7ccd5-8f72-4679-ee62-791c09b8cb1a"
      },
      "execution_count": 35,
      "outputs": [
        {
          "output_type": "stream",
          "name": "stdout",
          "text": [
            "Epoch 1/100\n"
          ]
        },
        {
          "output_type": "stream",
          "name": "stderr",
          "text": [
            "/usr/local/lib/python3.7/dist-packages/keras/optimizer_v2/gradient_descent.py:102: UserWarning: The `lr` argument is deprecated, use `learning_rate` instead.\n",
            "  super(SGD, self).__init__(name, **kwargs)\n"
          ]
        },
        {
          "output_type": "stream",
          "name": "stdout",
          "text": [
            "14/14 [==============================] - ETA: 0s - loss: 2.0158 - accuracy: 0.5301\n",
            "Epoch 1: val_loss improved from inf to 0.70466, saving model to /tmp/checkpoint.h5\n",
            "14/14 [==============================] - 32s 2s/step - loss: 2.0158 - accuracy: 0.5301 - val_loss: 0.7047 - val_accuracy: 0.3333\n",
            "Epoch 2/100\n",
            "14/14 [==============================] - ETA: 0s - loss: 0.6895 - accuracy: 0.6273\n",
            "Epoch 2: val_loss did not improve from 0.70466\n",
            "14/14 [==============================] - 31s 2s/step - loss: 0.6895 - accuracy: 0.6273 - val_loss: 0.7928 - val_accuracy: 0.3333\n",
            "Epoch 3/100\n",
            "14/14 [==============================] - ETA: 0s - loss: 0.6367 - accuracy: 0.6644\n",
            "Epoch 3: val_loss did not improve from 0.70466\n",
            "14/14 [==============================] - 31s 2s/step - loss: 0.6367 - accuracy: 0.6644 - val_loss: 0.9320 - val_accuracy: 0.3333\n",
            "Epoch 4/100\n",
            "14/14 [==============================] - ETA: 0s - loss: 0.6264 - accuracy: 0.6921\n",
            "Epoch 4: val_loss did not improve from 0.70466\n",
            "14/14 [==============================] - 31s 2s/step - loss: 0.6264 - accuracy: 0.6921 - val_loss: 1.1315 - val_accuracy: 0.3333\n",
            "Epoch 5/100\n",
            "14/14 [==============================] - ETA: 0s - loss: 0.5595 - accuracy: 0.7014\n",
            "Epoch 5: val_loss did not improve from 0.70466\n",
            "14/14 [==============================] - 31s 2s/step - loss: 0.5595 - accuracy: 0.7014 - val_loss: 1.1118 - val_accuracy: 0.3333\n",
            "Epoch 6/100\n",
            "14/14 [==============================] - ETA: 0s - loss: 0.5543 - accuracy: 0.7153\n",
            "Epoch 6: val_loss did not improve from 0.70466\n",
            "14/14 [==============================] - 31s 2s/step - loss: 0.5543 - accuracy: 0.7153 - val_loss: 1.2301 - val_accuracy: 0.3333\n",
            "Epoch 7/100\n",
            "14/14 [==============================] - ETA: 0s - loss: 0.5318 - accuracy: 0.7361\n",
            "Epoch 7: val_loss did not improve from 0.70466\n",
            "14/14 [==============================] - 31s 2s/step - loss: 0.5318 - accuracy: 0.7361 - val_loss: 1.4303 - val_accuracy: 0.3333\n",
            "Epoch 8/100\n",
            "14/14 [==============================] - ETA: 0s - loss: 0.5080 - accuracy: 0.7731\n",
            "Epoch 8: val_loss did not improve from 0.70466\n",
            "14/14 [==============================] - 31s 2s/step - loss: 0.5080 - accuracy: 0.7731 - val_loss: 1.8245 - val_accuracy: 0.3333\n",
            "Epoch 9/100\n",
            "14/14 [==============================] - ETA: 0s - loss: 0.4885 - accuracy: 0.7685\n",
            "Epoch 9: val_loss did not improve from 0.70466\n",
            "14/14 [==============================] - 31s 2s/step - loss: 0.4885 - accuracy: 0.7685 - val_loss: 2.1211 - val_accuracy: 0.3333\n",
            "Epoch 10/100\n",
            "14/14 [==============================] - ETA: 0s - loss: 0.4256 - accuracy: 0.8171\n",
            "Epoch 10: val_loss did not improve from 0.70466\n",
            "14/14 [==============================] - 31s 2s/step - loss: 0.4256 - accuracy: 0.8171 - val_loss: 2.8567 - val_accuracy: 0.3333\n",
            "Epoch 11/100\n",
            "14/14 [==============================] - ETA: 0s - loss: 0.4100 - accuracy: 0.8380\n",
            "Epoch 11: val_loss did not improve from 0.70466\n",
            "14/14 [==============================] - 31s 2s/step - loss: 0.4100 - accuracy: 0.8380 - val_loss: 3.1113 - val_accuracy: 0.3333\n",
            "Epoch 12/100\n",
            "14/14 [==============================] - ETA: 0s - loss: 0.4253 - accuracy: 0.8079\n",
            "Epoch 12: val_loss did not improve from 0.70466\n",
            "14/14 [==============================] - 31s 2s/step - loss: 0.4253 - accuracy: 0.8079 - val_loss: 2.5034 - val_accuracy: 0.3333\n",
            "Epoch 13/100\n",
            "14/14 [==============================] - ETA: 0s - loss: 0.3595 - accuracy: 0.8495\n",
            "Epoch 13: val_loss did not improve from 0.70466\n",
            "14/14 [==============================] - 31s 2s/step - loss: 0.3595 - accuracy: 0.8495 - val_loss: 2.3941 - val_accuracy: 0.3333\n",
            "Epoch 14/100\n",
            "14/14 [==============================] - ETA: 0s - loss: 0.3230 - accuracy: 0.8889\n",
            "Epoch 14: val_loss did not improve from 0.70466\n",
            "14/14 [==============================] - 32s 2s/step - loss: 0.3230 - accuracy: 0.8889 - val_loss: 2.8332 - val_accuracy: 0.3333\n",
            "Epoch 15/100\n",
            "14/14 [==============================] - ETA: 0s - loss: 0.3211 - accuracy: 0.8565\n",
            "Epoch 15: val_loss did not improve from 0.70466\n",
            "14/14 [==============================] - 31s 2s/step - loss: 0.3211 - accuracy: 0.8565 - val_loss: 2.7960 - val_accuracy: 0.3333\n",
            "Epoch 16/100\n",
            "14/14 [==============================] - ETA: 0s - loss: 0.2951 - accuracy: 0.8634\n",
            "Epoch 16: val_loss did not improve from 0.70466\n",
            "14/14 [==============================] - 32s 2s/step - loss: 0.2951 - accuracy: 0.8634 - val_loss: 2.0694 - val_accuracy: 0.3333\n",
            "Epoch 17/100\n",
            "14/14 [==============================] - ETA: 0s - loss: 0.2422 - accuracy: 0.8958\n",
            "Epoch 17: val_loss did not improve from 0.70466\n",
            "14/14 [==============================] - 31s 2s/step - loss: 0.2422 - accuracy: 0.8958 - val_loss: 2.7146 - val_accuracy: 0.3333\n",
            "Epoch 18/100\n",
            "14/14 [==============================] - ETA: 0s - loss: 0.1932 - accuracy: 0.9306\n",
            "Epoch 18: val_loss did not improve from 0.70466\n",
            "14/14 [==============================] - 31s 2s/step - loss: 0.1932 - accuracy: 0.9306 - val_loss: 3.1355 - val_accuracy: 0.3333\n",
            "Epoch 19/100\n",
            "14/14 [==============================] - ETA: 0s - loss: 0.1673 - accuracy: 0.9352\n",
            "Epoch 19: val_loss did not improve from 0.70466\n",
            "14/14 [==============================] - 31s 2s/step - loss: 0.1673 - accuracy: 0.9352 - val_loss: 2.9905 - val_accuracy: 0.3333\n",
            "Epoch 20/100\n",
            "14/14 [==============================] - ETA: 0s - loss: 0.1681 - accuracy: 0.9329\n",
            "Epoch 20: val_loss did not improve from 0.70466\n",
            "14/14 [==============================] - 31s 2s/step - loss: 0.1681 - accuracy: 0.9329 - val_loss: 2.8661 - val_accuracy: 0.3333\n",
            "Epoch 21/100\n",
            "14/14 [==============================] - ETA: 0s - loss: 0.1789 - accuracy: 0.9352\n",
            "Epoch 21: val_loss did not improve from 0.70466\n",
            "14/14 [==============================] - 31s 2s/step - loss: 0.1789 - accuracy: 0.9352 - val_loss: 2.5182 - val_accuracy: 0.3333\n",
            "Epoch 22/100\n",
            "14/14 [==============================] - ETA: 0s - loss: 0.1260 - accuracy: 0.9606\n",
            "Epoch 22: val_loss did not improve from 0.70466\n",
            "14/14 [==============================] - 31s 2s/step - loss: 0.1260 - accuracy: 0.9606 - val_loss: 2.0209 - val_accuracy: 0.3333\n",
            "Epoch 23/100\n",
            "14/14 [==============================] - ETA: 0s - loss: 0.1207 - accuracy: 0.9630\n",
            "Epoch 23: val_loss did not improve from 0.70466\n",
            "14/14 [==============================] - 31s 2s/step - loss: 0.1207 - accuracy: 0.9630 - val_loss: 3.7100 - val_accuracy: 0.3333\n",
            "Epoch 24/100\n",
            "14/14 [==============================] - ETA: 0s - loss: 0.1108 - accuracy: 0.9583\n",
            "Epoch 24: val_loss did not improve from 0.70466\n",
            "14/14 [==============================] - 31s 2s/step - loss: 0.1108 - accuracy: 0.9583 - val_loss: 2.4805 - val_accuracy: 0.3333\n",
            "Epoch 25/100\n",
            "14/14 [==============================] - ETA: 0s - loss: 0.0833 - accuracy: 0.9792\n",
            "Epoch 25: val_loss did not improve from 0.70466\n",
            "14/14 [==============================] - 31s 2s/step - loss: 0.0833 - accuracy: 0.9792 - val_loss: 2.8783 - val_accuracy: 0.3333\n",
            "Epoch 26/100\n",
            "14/14 [==============================] - ETA: 0s - loss: 0.0826 - accuracy: 0.9769\n",
            "Epoch 26: val_loss did not improve from 0.70466\n",
            "14/14 [==============================] - 31s 2s/step - loss: 0.0826 - accuracy: 0.9769 - val_loss: 1.7362 - val_accuracy: 0.3333\n",
            "Epoch 27/100\n",
            "14/14 [==============================] - ETA: 0s - loss: 0.0705 - accuracy: 0.9861\n",
            "Epoch 27: val_loss did not improve from 0.70466\n",
            "14/14 [==============================] - 31s 2s/step - loss: 0.0705 - accuracy: 0.9861 - val_loss: 2.0741 - val_accuracy: 0.3333\n",
            "Epoch 28/100\n",
            "14/14 [==============================] - ETA: 0s - loss: 0.0568 - accuracy: 0.9861\n",
            "Epoch 28: val_loss did not improve from 0.70466\n",
            "14/14 [==============================] - 33s 2s/step - loss: 0.0568 - accuracy: 0.9861 - val_loss: 1.8980 - val_accuracy: 0.3333\n",
            "Epoch 29/100\n",
            "14/14 [==============================] - ETA: 0s - loss: 0.0473 - accuracy: 0.9954\n",
            "Epoch 29: val_loss did not improve from 0.70466\n",
            "14/14 [==============================] - 31s 2s/step - loss: 0.0473 - accuracy: 0.9954 - val_loss: 1.5415 - val_accuracy: 0.3333\n",
            "Epoch 30/100\n",
            "14/14 [==============================] - ETA: 0s - loss: 0.0329 - accuracy: 1.0000\n",
            "Epoch 30: val_loss did not improve from 0.70466\n",
            "14/14 [==============================] - 31s 2s/step - loss: 0.0329 - accuracy: 1.0000 - val_loss: 1.1802 - val_accuracy: 0.4167\n",
            "Epoch 31/100\n",
            "14/14 [==============================] - ETA: 0s - loss: 0.0402 - accuracy: 0.9954\n",
            "Epoch 31: val_loss did not improve from 0.70466\n",
            "14/14 [==============================] - 32s 2s/step - loss: 0.0402 - accuracy: 0.9954 - val_loss: 1.0609 - val_accuracy: 0.3796\n",
            "Epoch 32/100\n",
            "14/14 [==============================] - ETA: 0s - loss: 0.0293 - accuracy: 0.9977\n",
            "Epoch 32: val_loss improved from 0.70466 to 0.63385, saving model to /tmp/checkpoint.h5\n",
            "14/14 [==============================] - 31s 2s/step - loss: 0.0293 - accuracy: 0.9977 - val_loss: 0.6339 - val_accuracy: 0.6481\n",
            "Epoch 33/100\n",
            "14/14 [==============================] - ETA: 0s - loss: 0.0317 - accuracy: 0.9977\n",
            "Epoch 33: val_loss did not improve from 0.63385\n",
            "14/14 [==============================] - 32s 2s/step - loss: 0.0317 - accuracy: 0.9977 - val_loss: 0.7341 - val_accuracy: 0.5556\n",
            "Epoch 34/100\n",
            "14/14 [==============================] - ETA: 0s - loss: 0.0217 - accuracy: 0.9977\n",
            "Epoch 34: val_loss did not improve from 0.63385\n",
            "14/14 [==============================] - 32s 2s/step - loss: 0.0217 - accuracy: 0.9977 - val_loss: 0.7218 - val_accuracy: 0.6296\n",
            "Epoch 35/100\n",
            "14/14 [==============================] - ETA: 0s - loss: 0.0191 - accuracy: 0.9977\n",
            "Epoch 35: val_loss did not improve from 0.63385\n",
            "14/14 [==============================] - 31s 2s/step - loss: 0.0191 - accuracy: 0.9977 - val_loss: 0.7087 - val_accuracy: 0.6019\n",
            "Epoch 36/100\n",
            "14/14 [==============================] - ETA: 0s - loss: 0.0171 - accuracy: 0.9977\n",
            "Epoch 36: val_loss did not improve from 0.63385\n",
            "14/14 [==============================] - 31s 2s/step - loss: 0.0171 - accuracy: 0.9977 - val_loss: 0.6812 - val_accuracy: 0.6389\n",
            "Epoch 37/100\n",
            "14/14 [==============================] - ETA: 0s - loss: 0.0151 - accuracy: 1.0000\n",
            "Epoch 37: val_loss did not improve from 0.63385\n",
            "14/14 [==============================] - 31s 2s/step - loss: 0.0151 - accuracy: 1.0000 - val_loss: 0.7047 - val_accuracy: 0.6481\n",
            "Epoch 38/100\n",
            "14/14 [==============================] - ETA: 0s - loss: 0.0194 - accuracy: 0.9977\n",
            "Epoch 38: val_loss did not improve from 0.63385\n",
            "14/14 [==============================] - 32s 2s/step - loss: 0.0194 - accuracy: 0.9977 - val_loss: 0.8056 - val_accuracy: 0.6852\n",
            "Epoch 39/100\n",
            "14/14 [==============================] - ETA: 0s - loss: 0.0152 - accuracy: 1.0000\n",
            "Epoch 39: val_loss did not improve from 0.63385\n",
            "14/14 [==============================] - 31s 2s/step - loss: 0.0152 - accuracy: 1.0000 - val_loss: 0.8535 - val_accuracy: 0.6574\n",
            "Epoch 40/100\n",
            "14/14 [==============================] - ETA: 0s - loss: 0.0131 - accuracy: 1.0000\n",
            "Epoch 40: val_loss did not improve from 0.63385\n",
            "14/14 [==============================] - 31s 2s/step - loss: 0.0131 - accuracy: 1.0000 - val_loss: 0.8142 - val_accuracy: 0.6481\n",
            "Epoch 41/100\n",
            "14/14 [==============================] - ETA: 0s - loss: 0.0235 - accuracy: 0.9931\n",
            "Epoch 41: val_loss did not improve from 0.63385\n",
            "14/14 [==============================] - 32s 2s/step - loss: 0.0235 - accuracy: 0.9931 - val_loss: 0.8931 - val_accuracy: 0.6944\n",
            "Epoch 42/100\n",
            "14/14 [==============================] - ETA: 0s - loss: 0.0197 - accuracy: 0.9977\n",
            "Epoch 42: val_loss did not improve from 0.63385\n",
            "14/14 [==============================] - 31s 2s/step - loss: 0.0197 - accuracy: 0.9977 - val_loss: 0.8862 - val_accuracy: 0.6944\n",
            "Epoch 43/100\n",
            "14/14 [==============================] - ETA: 0s - loss: 0.0177 - accuracy: 0.9954\n",
            "Epoch 43: val_loss did not improve from 0.63385\n",
            "14/14 [==============================] - 31s 2s/step - loss: 0.0177 - accuracy: 0.9954 - val_loss: 0.9023 - val_accuracy: 0.6852\n",
            "Epoch 44/100\n",
            "14/14 [==============================] - ETA: 0s - loss: 0.0189 - accuracy: 0.9977\n",
            "Epoch 44: val_loss did not improve from 0.63385\n",
            "14/14 [==============================] - 32s 2s/step - loss: 0.0189 - accuracy: 0.9977 - val_loss: 0.8661 - val_accuracy: 0.6574\n",
            "Epoch 45/100\n",
            "14/14 [==============================] - ETA: 0s - loss: 0.0142 - accuracy: 1.0000\n",
            "Epoch 45: val_loss did not improve from 0.63385\n",
            "14/14 [==============================] - 31s 2s/step - loss: 0.0142 - accuracy: 1.0000 - val_loss: 0.9202 - val_accuracy: 0.6852\n",
            "Epoch 46/100\n",
            "14/14 [==============================] - ETA: 0s - loss: 0.0126 - accuracy: 1.0000\n",
            "Epoch 46: val_loss did not improve from 0.63385\n",
            "14/14 [==============================] - 31s 2s/step - loss: 0.0126 - accuracy: 1.0000 - val_loss: 0.9518 - val_accuracy: 0.6852\n",
            "Epoch 47/100\n",
            "14/14 [==============================] - ETA: 0s - loss: 0.0111 - accuracy: 0.9977\n",
            "Epoch 47: val_loss did not improve from 0.63385\n",
            "14/14 [==============================] - 32s 2s/step - loss: 0.0111 - accuracy: 0.9977 - val_loss: 1.0944 - val_accuracy: 0.6667\n",
            "Epoch 48/100\n",
            "14/14 [==============================] - ETA: 0s - loss: 0.0100 - accuracy: 1.0000\n",
            "Epoch 48: val_loss did not improve from 0.63385\n",
            "14/14 [==============================] - 31s 2s/step - loss: 0.0100 - accuracy: 1.0000 - val_loss: 1.1195 - val_accuracy: 0.6852\n",
            "Epoch 49/100\n",
            "14/14 [==============================] - ETA: 0s - loss: 0.0082 - accuracy: 1.0000\n",
            "Epoch 49: val_loss did not improve from 0.63385\n",
            "14/14 [==============================] - 32s 2s/step - loss: 0.0082 - accuracy: 1.0000 - val_loss: 1.1173 - val_accuracy: 0.6759\n",
            "Epoch 50/100\n",
            "14/14 [==============================] - ETA: 0s - loss: 0.0143 - accuracy: 0.9977\n",
            "Epoch 50: val_loss did not improve from 0.63385\n",
            "14/14 [==============================] - 32s 2s/step - loss: 0.0143 - accuracy: 0.9977 - val_loss: 1.1491 - val_accuracy: 0.6852\n",
            "Epoch 51/100\n",
            "14/14 [==============================] - ETA: 0s - loss: 0.0090 - accuracy: 1.0000\n",
            "Epoch 51: val_loss did not improve from 0.63385\n",
            "14/14 [==============================] - 31s 2s/step - loss: 0.0090 - accuracy: 1.0000 - val_loss: 1.2673 - val_accuracy: 0.6759\n",
            "Epoch 52/100\n",
            "14/14 [==============================] - ETA: 0s - loss: 0.0082 - accuracy: 1.0000\n",
            "Epoch 52: val_loss did not improve from 0.63385\n",
            "14/14 [==============================] - 32s 2s/step - loss: 0.0082 - accuracy: 1.0000 - val_loss: 1.1992 - val_accuracy: 0.6574\n",
            "Epoch 53/100\n",
            "14/14 [==============================] - ETA: 0s - loss: 0.0062 - accuracy: 1.0000\n",
            "Epoch 53: val_loss did not improve from 0.63385\n",
            "14/14 [==============================] - 31s 2s/step - loss: 0.0062 - accuracy: 1.0000 - val_loss: 1.1780 - val_accuracy: 0.6667\n",
            "Epoch 54/100\n",
            "14/14 [==============================] - ETA: 0s - loss: 0.0073 - accuracy: 1.0000\n",
            "Epoch 54: val_loss did not improve from 0.63385\n",
            "14/14 [==============================] - 32s 2s/step - loss: 0.0073 - accuracy: 1.0000 - val_loss: 1.1963 - val_accuracy: 0.6574\n",
            "Epoch 55/100\n",
            "14/14 [==============================] - ETA: 0s - loss: 0.0081 - accuracy: 1.0000\n",
            "Epoch 55: val_loss did not improve from 0.63385\n",
            "14/14 [==============================] - 31s 2s/step - loss: 0.0081 - accuracy: 1.0000 - val_loss: 1.2423 - val_accuracy: 0.6759\n",
            "Epoch 56/100\n",
            "14/14 [==============================] - ETA: 0s - loss: 0.0059 - accuracy: 1.0000\n",
            "Epoch 56: val_loss did not improve from 0.63385\n",
            "14/14 [==============================] - 32s 2s/step - loss: 0.0059 - accuracy: 1.0000 - val_loss: 1.2730 - val_accuracy: 0.6852\n",
            "Epoch 57/100\n",
            "14/14 [==============================] - ETA: 0s - loss: 0.0054 - accuracy: 1.0000\n",
            "Epoch 57: val_loss did not improve from 0.63385\n",
            "14/14 [==============================] - 31s 2s/step - loss: 0.0054 - accuracy: 1.0000 - val_loss: 1.2491 - val_accuracy: 0.6667\n",
            "Epoch 58/100\n",
            "14/14 [==============================] - ETA: 0s - loss: 0.0056 - accuracy: 1.0000\n",
            "Epoch 58: val_loss did not improve from 0.63385\n",
            "14/14 [==============================] - 31s 2s/step - loss: 0.0056 - accuracy: 1.0000 - val_loss: 1.2204 - val_accuracy: 0.6667\n",
            "Epoch 59/100\n",
            "14/14 [==============================] - ETA: 0s - loss: 0.0060 - accuracy: 1.0000\n",
            "Epoch 59: val_loss did not improve from 0.63385\n",
            "14/14 [==============================] - 31s 2s/step - loss: 0.0060 - accuracy: 1.0000 - val_loss: 1.2549 - val_accuracy: 0.6296\n",
            "Epoch 60/100\n",
            "14/14 [==============================] - ETA: 0s - loss: 0.0054 - accuracy: 1.0000\n",
            "Epoch 60: val_loss did not improve from 0.63385\n",
            "14/14 [==============================] - 31s 2s/step - loss: 0.0054 - accuracy: 1.0000 - val_loss: 1.3438 - val_accuracy: 0.6481\n",
            "Epoch 61/100\n",
            "14/14 [==============================] - ETA: 0s - loss: 0.0056 - accuracy: 1.0000\n",
            "Epoch 61: val_loss did not improve from 0.63385\n",
            "14/14 [==============================] - 31s 2s/step - loss: 0.0056 - accuracy: 1.0000 - val_loss: 1.3582 - val_accuracy: 0.6667\n",
            "Epoch 62/100\n",
            "14/14 [==============================] - ETA: 0s - loss: 0.0078 - accuracy: 1.0000\n",
            "Epoch 62: val_loss did not improve from 0.63385\n",
            "14/14 [==============================] - 31s 2s/step - loss: 0.0078 - accuracy: 1.0000 - val_loss: 1.3639 - val_accuracy: 0.6667\n",
            "Epoch 63/100\n",
            "14/14 [==============================] - ETA: 0s - loss: 0.0038 - accuracy: 1.0000\n",
            "Epoch 63: val_loss did not improve from 0.63385\n",
            "14/14 [==============================] - 31s 2s/step - loss: 0.0038 - accuracy: 1.0000 - val_loss: 1.3271 - val_accuracy: 0.6759\n",
            "Epoch 64/100\n",
            "14/14 [==============================] - ETA: 0s - loss: 0.0040 - accuracy: 1.0000\n",
            "Epoch 64: val_loss did not improve from 0.63385\n",
            "14/14 [==============================] - 31s 2s/step - loss: 0.0040 - accuracy: 1.0000 - val_loss: 1.3413 - val_accuracy: 0.6759\n",
            "Epoch 65/100\n",
            "14/14 [==============================] - ETA: 0s - loss: 0.0100 - accuracy: 1.0000\n",
            "Epoch 65: val_loss did not improve from 0.63385\n",
            "14/14 [==============================] - 31s 2s/step - loss: 0.0100 - accuracy: 1.0000 - val_loss: 1.3039 - val_accuracy: 0.6667\n",
            "Epoch 66/100\n",
            "14/14 [==============================] - ETA: 0s - loss: 0.0077 - accuracy: 1.0000\n",
            "Epoch 66: val_loss did not improve from 0.63385\n",
            "14/14 [==============================] - 31s 2s/step - loss: 0.0077 - accuracy: 1.0000 - val_loss: 1.4147 - val_accuracy: 0.6574\n",
            "Epoch 67/100\n",
            "14/14 [==============================] - ETA: 0s - loss: 0.0044 - accuracy: 1.0000\n",
            "Epoch 67: val_loss did not improve from 0.63385\n",
            "14/14 [==============================] - 31s 2s/step - loss: 0.0044 - accuracy: 1.0000 - val_loss: 1.4037 - val_accuracy: 0.6481\n",
            "Epoch 68/100\n",
            "14/14 [==============================] - ETA: 0s - loss: 0.0069 - accuracy: 1.0000\n",
            "Epoch 68: val_loss did not improve from 0.63385\n",
            "14/14 [==============================] - 32s 2s/step - loss: 0.0069 - accuracy: 1.0000 - val_loss: 1.4489 - val_accuracy: 0.6389\n",
            "Epoch 69/100\n",
            "14/14 [==============================] - ETA: 0s - loss: 0.0079 - accuracy: 1.0000\n",
            "Epoch 69: val_loss did not improve from 0.63385\n",
            "14/14 [==============================] - 31s 2s/step - loss: 0.0079 - accuracy: 1.0000 - val_loss: 1.3874 - val_accuracy: 0.6389\n",
            "Epoch 70/100\n",
            "14/14 [==============================] - ETA: 0s - loss: 0.0061 - accuracy: 0.9977\n",
            "Epoch 70: val_loss did not improve from 0.63385\n",
            "14/14 [==============================] - 31s 2s/step - loss: 0.0061 - accuracy: 0.9977 - val_loss: 1.4795 - val_accuracy: 0.6667\n",
            "Epoch 71/100\n",
            "14/14 [==============================] - ETA: 0s - loss: 0.0041 - accuracy: 1.0000\n",
            "Epoch 71: val_loss did not improve from 0.63385\n",
            "14/14 [==============================] - 32s 2s/step - loss: 0.0041 - accuracy: 1.0000 - val_loss: 1.3960 - val_accuracy: 0.6574\n",
            "Epoch 72/100\n",
            "14/14 [==============================] - ETA: 0s - loss: 0.0056 - accuracy: 1.0000\n",
            "Epoch 72: val_loss did not improve from 0.63385\n",
            "14/14 [==============================] - 31s 2s/step - loss: 0.0056 - accuracy: 1.0000 - val_loss: 1.4386 - val_accuracy: 0.6574\n",
            "Epoch 73/100\n",
            "14/14 [==============================] - ETA: 0s - loss: 0.0036 - accuracy: 1.0000\n",
            "Epoch 73: val_loss did not improve from 0.63385\n",
            "14/14 [==============================] - 31s 2s/step - loss: 0.0036 - accuracy: 1.0000 - val_loss: 1.4270 - val_accuracy: 0.6574\n",
            "Epoch 74/100\n",
            "14/14 [==============================] - ETA: 0s - loss: 0.0031 - accuracy: 1.0000\n",
            "Epoch 74: val_loss did not improve from 0.63385\n",
            "14/14 [==============================] - 31s 2s/step - loss: 0.0031 - accuracy: 1.0000 - val_loss: 1.4166 - val_accuracy: 0.6574\n",
            "Epoch 75/100\n",
            "14/14 [==============================] - ETA: 0s - loss: 0.0030 - accuracy: 1.0000\n",
            "Epoch 75: val_loss did not improve from 0.63385\n",
            "14/14 [==============================] - 31s 2s/step - loss: 0.0030 - accuracy: 1.0000 - val_loss: 1.4061 - val_accuracy: 0.6667\n",
            "Epoch 76/100\n",
            "14/14 [==============================] - ETA: 0s - loss: 0.0043 - accuracy: 1.0000\n",
            "Epoch 76: val_loss did not improve from 0.63385\n",
            "14/14 [==============================] - 31s 2s/step - loss: 0.0043 - accuracy: 1.0000 - val_loss: 1.4747 - val_accuracy: 0.6852\n",
            "Epoch 77/100\n",
            "14/14 [==============================] - ETA: 0s - loss: 0.0053 - accuracy: 1.0000\n",
            "Epoch 77: val_loss did not improve from 0.63385\n",
            "14/14 [==============================] - 31s 2s/step - loss: 0.0053 - accuracy: 1.0000 - val_loss: 1.4227 - val_accuracy: 0.6574\n",
            "Epoch 78/100\n",
            "14/14 [==============================] - ETA: 0s - loss: 0.0038 - accuracy: 1.0000\n",
            "Epoch 78: val_loss did not improve from 0.63385\n",
            "14/14 [==============================] - 31s 2s/step - loss: 0.0038 - accuracy: 1.0000 - val_loss: 1.4142 - val_accuracy: 0.6574\n",
            "Epoch 79/100\n",
            "14/14 [==============================] - ETA: 0s - loss: 0.0029 - accuracy: 1.0000\n",
            "Epoch 79: val_loss did not improve from 0.63385\n",
            "14/14 [==============================] - 31s 2s/step - loss: 0.0029 - accuracy: 1.0000 - val_loss: 1.4199 - val_accuracy: 0.6667\n",
            "Epoch 80/100\n",
            "14/14 [==============================] - ETA: 0s - loss: 0.0029 - accuracy: 1.0000\n",
            "Epoch 80: val_loss did not improve from 0.63385\n",
            "14/14 [==============================] - 31s 2s/step - loss: 0.0029 - accuracy: 1.0000 - val_loss: 1.4237 - val_accuracy: 0.6574\n",
            "Epoch 81/100\n",
            "14/14 [==============================] - ETA: 0s - loss: 0.0032 - accuracy: 1.0000\n",
            "Epoch 81: val_loss did not improve from 0.63385\n",
            "14/14 [==============================] - 31s 2s/step - loss: 0.0032 - accuracy: 1.0000 - val_loss: 1.5389 - val_accuracy: 0.6667\n",
            "Epoch 82/100\n",
            "14/14 [==============================] - ETA: 0s - loss: 0.0039 - accuracy: 1.0000\n",
            "Epoch 82: val_loss did not improve from 0.63385\n",
            "14/14 [==============================] - 31s 2s/step - loss: 0.0039 - accuracy: 1.0000 - val_loss: 1.4956 - val_accuracy: 0.6574\n",
            "Epoch 83/100\n",
            "14/14 [==============================] - ETA: 0s - loss: 0.0028 - accuracy: 1.0000\n",
            "Epoch 83: val_loss did not improve from 0.63385\n",
            "14/14 [==============================] - 31s 2s/step - loss: 0.0028 - accuracy: 1.0000 - val_loss: 1.4753 - val_accuracy: 0.6481\n",
            "Epoch 84/100\n",
            "14/14 [==============================] - ETA: 0s - loss: 0.0048 - accuracy: 1.0000\n",
            "Epoch 84: val_loss did not improve from 0.63385\n",
            "14/14 [==============================] - 31s 2s/step - loss: 0.0048 - accuracy: 1.0000 - val_loss: 1.3720 - val_accuracy: 0.6574\n",
            "Epoch 85/100\n",
            "14/14 [==============================] - ETA: 0s - loss: 0.0032 - accuracy: 1.0000\n",
            "Epoch 85: val_loss did not improve from 0.63385\n",
            "14/14 [==============================] - 31s 2s/step - loss: 0.0032 - accuracy: 1.0000 - val_loss: 1.4354 - val_accuracy: 0.6852\n",
            "Epoch 86/100\n",
            "14/14 [==============================] - ETA: 0s - loss: 0.0029 - accuracy: 1.0000\n",
            "Epoch 86: val_loss did not improve from 0.63385\n",
            "14/14 [==============================] - 31s 2s/step - loss: 0.0029 - accuracy: 1.0000 - val_loss: 1.4440 - val_accuracy: 0.6852\n",
            "Epoch 87/100\n",
            "14/14 [==============================] - ETA: 0s - loss: 0.0031 - accuracy: 1.0000\n",
            "Epoch 87: val_loss did not improve from 0.63385\n",
            "14/14 [==============================] - 31s 2s/step - loss: 0.0031 - accuracy: 1.0000 - val_loss: 1.4458 - val_accuracy: 0.6852\n",
            "Epoch 88/100\n",
            "14/14 [==============================] - ETA: 0s - loss: 0.0019 - accuracy: 1.0000\n",
            "Epoch 88: val_loss did not improve from 0.63385\n",
            "14/14 [==============================] - 31s 2s/step - loss: 0.0019 - accuracy: 1.0000 - val_loss: 1.4658 - val_accuracy: 0.6759\n",
            "Epoch 89/100\n",
            "14/14 [==============================] - ETA: 0s - loss: 0.0030 - accuracy: 1.0000\n",
            "Epoch 89: val_loss did not improve from 0.63385\n",
            "14/14 [==============================] - 31s 2s/step - loss: 0.0030 - accuracy: 1.0000 - val_loss: 1.4739 - val_accuracy: 0.6759\n",
            "Epoch 90/100\n",
            "14/14 [==============================] - ETA: 0s - loss: 0.0021 - accuracy: 1.0000\n",
            "Epoch 90: val_loss did not improve from 0.63385\n",
            "14/14 [==============================] - 32s 2s/step - loss: 0.0021 - accuracy: 1.0000 - val_loss: 1.4770 - val_accuracy: 0.6944\n",
            "Epoch 91/100\n",
            "14/14 [==============================] - ETA: 0s - loss: 0.0025 - accuracy: 1.0000\n",
            "Epoch 91: val_loss did not improve from 0.63385\n",
            "14/14 [==============================] - 32s 2s/step - loss: 0.0025 - accuracy: 1.0000 - val_loss: 1.5118 - val_accuracy: 0.6852\n",
            "Epoch 92/100\n",
            "14/14 [==============================] - ETA: 0s - loss: 0.0030 - accuracy: 1.0000\n",
            "Epoch 92: val_loss did not improve from 0.63385\n",
            "14/14 [==============================] - 32s 2s/step - loss: 0.0030 - accuracy: 1.0000 - val_loss: 1.4576 - val_accuracy: 0.6852\n",
            "Epoch 93/100\n",
            "14/14 [==============================] - ETA: 0s - loss: 0.0021 - accuracy: 1.0000\n",
            "Epoch 93: val_loss did not improve from 0.63385\n",
            "14/14 [==============================] - 32s 2s/step - loss: 0.0021 - accuracy: 1.0000 - val_loss: 1.4712 - val_accuracy: 0.6667\n",
            "Epoch 94/100\n",
            "14/14 [==============================] - ETA: 0s - loss: 0.0029 - accuracy: 1.0000\n",
            "Epoch 94: val_loss did not improve from 0.63385\n",
            "14/14 [==============================] - 32s 2s/step - loss: 0.0029 - accuracy: 1.0000 - val_loss: 1.4968 - val_accuracy: 0.6852\n",
            "Epoch 95/100\n",
            "14/14 [==============================] - ETA: 0s - loss: 0.0021 - accuracy: 1.0000\n",
            "Epoch 95: val_loss did not improve from 0.63385\n",
            "14/14 [==============================] - 31s 2s/step - loss: 0.0021 - accuracy: 1.0000 - val_loss: 1.4745 - val_accuracy: 0.6759\n",
            "Epoch 96/100\n",
            "14/14 [==============================] - ETA: 0s - loss: 0.0021 - accuracy: 1.0000\n",
            "Epoch 96: val_loss did not improve from 0.63385\n",
            "14/14 [==============================] - 31s 2s/step - loss: 0.0021 - accuracy: 1.0000 - val_loss: 1.5046 - val_accuracy: 0.6759\n",
            "Epoch 97/100\n",
            "14/14 [==============================] - ETA: 0s - loss: 0.0025 - accuracy: 1.0000\n",
            "Epoch 97: val_loss did not improve from 0.63385\n",
            "14/14 [==============================] - 31s 2s/step - loss: 0.0025 - accuracy: 1.0000 - val_loss: 1.4871 - val_accuracy: 0.6667\n",
            "Epoch 98/100\n",
            "14/14 [==============================] - ETA: 0s - loss: 0.0018 - accuracy: 1.0000\n",
            "Epoch 98: val_loss did not improve from 0.63385\n",
            "14/14 [==============================] - 31s 2s/step - loss: 0.0018 - accuracy: 1.0000 - val_loss: 1.4955 - val_accuracy: 0.6667\n",
            "Epoch 99/100\n",
            "14/14 [==============================] - ETA: 0s - loss: 0.0021 - accuracy: 1.0000\n",
            "Epoch 99: val_loss did not improve from 0.63385\n",
            "14/14 [==============================] - 31s 2s/step - loss: 0.0021 - accuracy: 1.0000 - val_loss: 1.4866 - val_accuracy: 0.6759\n",
            "Epoch 100/100\n",
            "14/14 [==============================] - ETA: 0s - loss: 0.0020 - accuracy: 1.0000\n",
            "Epoch 100: val_loss did not improve from 0.63385\n",
            "14/14 [==============================] - 32s 2s/step - loss: 0.0020 - accuracy: 1.0000 - val_loss: 1.5018 - val_accuracy: 0.6759\n"
          ]
        }
      ]
    },
    {
      "cell_type": "code",
      "source": [
        "cnn_model.save(\"cnn_model_2.h5py\")"
      ],
      "metadata": {
        "colab": {
          "base_uri": "https://localhost:8080/"
        },
        "id": "MDxMxiu5kQIa",
        "outputId": "f5debbcd-5986-4d6c-8456-14c73750a39b"
      },
      "execution_count": 36,
      "outputs": [
        {
          "output_type": "stream",
          "name": "stdout",
          "text": [
            "INFO:tensorflow:Assets written to: cnn_model_2.h5py/assets\n"
          ]
        }
      ]
    },
    {
      "cell_type": "code",
      "source": [
        "vis_confusion_matrix(cm_cnn)\n",
        "\n",
        "vis_acc_loss(cnn_train)"
      ],
      "metadata": {
        "colab": {
          "base_uri": "https://localhost:8080/",
          "height": 865
        },
        "id": "dUvgJH3tkTww",
        "outputId": "d8a4da56-2e8b-4529-9f1c-d141d232cdb5"
      },
      "execution_count": 37,
      "outputs": [
        {
          "output_type": "display_data",
          "data": {
            "text/plain": [
              "<Figure size 432x288 with 2 Axes>"
            ],
            "image/png": "[encoded data removed]"
          },
          "metadata": {
            "needs_background": "light"
          }
        },
        {
          "output_type": "display_data",
          "data": {
            "text/plain": [
              "<Figure size 432x288 with 1 Axes>"
            ],
            "image/png": "[encoded data removed]"
          },
          "metadata": {
            "needs_background": "light"
          }
        },
        {
          "output_type": "display_data",
          "data": {
            "text/plain": [
              "<Figure size 432x288 with 1 Axes>"
            ],
            "image/png": "[encoded data removed]"
          },
          "metadata": {
            "needs_background": "light"
          }
        }
      ]
    },
    {
      "cell_type": "code",
      "source": [
        "print('Test loss:', test_eval[0])\n",
        "print('Test accuracy:', test_eval[1])"
      ],
      "metadata": {
        "id": "e23pYqVZf_9A",
        "colab": {
          "base_uri": "https://localhost:8080/"
        },
        "outputId": "4876cbd1-951d-4047-f985-1cb8822345ef"
      },
      "execution_count": 38,
      "outputs": [
        {
          "output_type": "stream",
          "name": "stdout",
          "text": [
            "Test loss: 3.475015163421631\n",
            "Test accuracy: 0.39642858505249023\n"
          ]
        }
      ]
    },
    {
      "cell_type": "markdown",
      "source": [
        "## Test 3: LDA & CNN | Subject 3"
      ],
      "metadata": {
        "id": "g0I4h49AkgLN"
      }
    },
    {
      "cell_type": "code",
      "source": [
        "subject = 2\n",
        "\n",
        "train_X, test_X, train_y, test_y = get_train_test(active[subject], passive[subject], cue[subject])"
      ],
      "metadata": {
        "colab": {
          "base_uri": "https://localhost:8080/"
        },
        "id": "pzH7Eh0hkltQ",
        "outputId": "f7a29741-ca06-4f6c-fa79-fe71c65f0177"
      },
      "execution_count": 39,
      "outputs": [
        {
          "output_type": "stream",
          "name": "stdout",
          "text": [
            "Filtering raw data in 1 contiguous segment\n",
            "Setting up high-pass filter at 1 Hz\n",
            "\n",
            "FIR filter parameters\n",
            "---------------------\n",
            "Designing a one-pass, zero-phase, non-causal highpass filter:\n",
            "- Windowed time-domain design (firwin) method\n",
            "- Hamming window with 0.0194 passband ripple and 53 dB stopband attenuation\n",
            "- Lower passband edge: 1.00\n",
            "- Lower transition bandwidth: 1.00 Hz (-6 dB cutoff frequency: 0.50 Hz)\n",
            "- Filter length: 331 samples (3.310 sec)\n",
            "\n",
            "Fitting ICA to data using 10 channels (please be patient, this may take a while)\n",
            "Selecting by number: 10 components\n"
          ]
        },
        {
          "output_type": "stream",
          "name": "stderr",
          "text": [
            "<ipython-input-19-9e9bb564ee4f>:32: RuntimeWarning: The epochs you passed to ICA.fit() were baseline-corrected. However, we suggest to fit ICA only on data that has been high-pass filtered, but NOT baseline-corrected.\n",
            "  ica.fit(epochs)\n"
          ]
        },
        {
          "output_type": "stream",
          "name": "stdout",
          "text": [
            "Fitting ICA took 1.2s.\n",
            "Filtering raw data in 1 contiguous segment\n",
            "Setting up high-pass filter at 1 Hz\n",
            "\n",
            "FIR filter parameters\n",
            "---------------------\n",
            "Designing a one-pass, zero-phase, non-causal highpass filter:\n",
            "- Windowed time-domain design (firwin) method\n",
            "- Hamming window with 0.0194 passband ripple and 53 dB stopband attenuation\n",
            "- Lower passband edge: 1.00\n",
            "- Lower transition bandwidth: 1.00 Hz (-6 dB cutoff frequency: 0.50 Hz)\n",
            "- Filter length: 331 samples (3.310 sec)\n",
            "\n",
            "Fitting ICA to data using 10 channels (please be patient, this may take a while)\n",
            "Selecting by number: 10 components\n"
          ]
        },
        {
          "output_type": "stream",
          "name": "stderr",
          "text": [
            "<ipython-input-19-9e9bb564ee4f>:32: RuntimeWarning: The epochs you passed to ICA.fit() were baseline-corrected. However, we suggest to fit ICA only on data that has been high-pass filtered, but NOT baseline-corrected.\n",
            "  ica.fit(epochs)\n"
          ]
        },
        {
          "output_type": "stream",
          "name": "stdout",
          "text": [
            "Fitting ICA took 0.5s.\n",
            "Filtering raw data in 1 contiguous segment\n",
            "Setting up high-pass filter at 1 Hz\n",
            "\n",
            "FIR filter parameters\n",
            "---------------------\n",
            "Designing a one-pass, zero-phase, non-causal highpass filter:\n",
            "- Windowed time-domain design (firwin) method\n",
            "- Hamming window with 0.0194 passband ripple and 53 dB stopband attenuation\n",
            "- Lower passband edge: 1.00\n",
            "- Lower transition bandwidth: 1.00 Hz (-6 dB cutoff frequency: 0.50 Hz)\n",
            "- Filter length: 331 samples (3.310 sec)\n",
            "\n",
            "Fitting ICA to data using 10 channels (please be patient, this may take a while)\n",
            "Selecting by number: 10 components\n"
          ]
        },
        {
          "output_type": "stream",
          "name": "stderr",
          "text": [
            "<ipython-input-19-9e9bb564ee4f>:32: RuntimeWarning: The epochs you passed to ICA.fit() were baseline-corrected. However, we suggest to fit ICA only on data that has been high-pass filtered, but NOT baseline-corrected.\n",
            "  ica.fit(epochs)\n"
          ]
        },
        {
          "output_type": "stream",
          "name": "stdout",
          "text": [
            "Fitting ICA took 0.2s.\n"
          ]
        }
      ]
    },
    {
      "cell_type": "code",
      "source": [
        "clf_lda, cm_lda = lda_101(train_X, test_X, train_y, test_y) \n",
        "lda_models.append(clf_lda)\n",
        "vis_confusion_matrix(cm_lda)"
      ],
      "metadata": {
        "colab": {
          "base_uri": "https://localhost:8080/",
          "height": 389
        },
        "id": "QdVmed3Eknx_",
        "outputId": "d911b58d-fc18-4490-f9c0-9a7eed671255"
      },
      "execution_count": 40,
      "outputs": [
        {
          "output_type": "stream",
          "name": "stdout",
          "text": [
            "[[44 56]\n",
            " [77 73]]\n",
            "Accuracy0.468\n"
          ]
        },
        {
          "output_type": "display_data",
          "data": {
            "text/plain": [
              "<Figure size 432x288 with 2 Axes>"
            ],
            "image/png": "[encoded data removed]"
          },
          "metadata": {
            "needs_background": "light"
          }
        }
      ]
    },
    {
      "cell_type": "code",
      "source": [
        "cnn_model, cnn_train, test_eval, cm_cnn = cnn_101(train_X, \n",
        "                                                  test_X, \n",
        "                                                  train_y, \n",
        "                                                  test_y, 16 , 50)\n",
        "\n",
        "cnn_models.append(cnn_model)"
      ],
      "metadata": {
        "colab": {
          "base_uri": "https://localhost:8080/"
        },
        "id": "5T41swBEkoy_",
        "outputId": "cfdf87ed-1697-488d-aca2-2a795169e2d1"
      },
      "execution_count": 41,
      "outputs": [
        {
          "output_type": "stream",
          "name": "stdout",
          "text": [
            "Epoch 1/50\n"
          ]
        },
        {
          "output_type": "stream",
          "name": "stderr",
          "text": [
            "/usr/local/lib/python3.7/dist-packages/keras/optimizer_v2/gradient_descent.py:102: UserWarning: The `lr` argument is deprecated, use `learning_rate` instead.\n",
            "  super(SGD, self).__init__(name, **kwargs)\n"
          ]
        },
        {
          "output_type": "stream",
          "name": "stdout",
          "text": [
            "27/27 [==============================] - ETA: 0s - loss: 1.4034 - accuracy: 0.7176\n",
            "Epoch 1: val_loss improved from inf to 0.69569, saving model to /tmp/checkpoint.h5\n",
            "27/27 [==============================] - 33s 1s/step - loss: 1.4034 - accuracy: 0.7176 - val_loss: 0.6957 - val_accuracy: 0.3981\n",
            "Epoch 2/50\n",
            "27/27 [==============================] - ETA: 0s - loss: 0.4839 - accuracy: 0.7940\n",
            "Epoch 2: val_loss did not improve from 0.69569\n",
            "27/27 [==============================] - 32s 1s/step - loss: 0.4839 - accuracy: 0.7940 - val_loss: 0.9079 - val_accuracy: 0.2963\n",
            "Epoch 3/50\n",
            "27/27 [==============================] - ETA: 0s - loss: 0.5966 - accuracy: 0.8102\n",
            "Epoch 3: val_loss did not improve from 0.69569\n",
            "27/27 [==============================] - 32s 1s/step - loss: 0.5966 - accuracy: 0.8102 - val_loss: 0.9202 - val_accuracy: 0.2963\n",
            "Epoch 4/50\n",
            "27/27 [==============================] - ETA: 0s - loss: 0.5182 - accuracy: 0.7986\n",
            "Epoch 4: val_loss did not improve from 0.69569\n",
            "27/27 [==============================] - 32s 1s/step - loss: 0.5182 - accuracy: 0.7986 - val_loss: 1.3404 - val_accuracy: 0.2963\n",
            "Epoch 5/50\n",
            "27/27 [==============================] - ETA: 0s - loss: 0.4375 - accuracy: 0.8056\n",
            "Epoch 5: val_loss did not improve from 0.69569\n",
            "27/27 [==============================] - 32s 1s/step - loss: 0.4375 - accuracy: 0.8056 - val_loss: 1.0526 - val_accuracy: 0.3056\n",
            "Epoch 6/50\n",
            "27/27 [==============================] - ETA: 0s - loss: 0.3550 - accuracy: 0.8519\n",
            "Epoch 6: val_loss did not improve from 0.69569\n",
            "27/27 [==============================] - 33s 1s/step - loss: 0.3550 - accuracy: 0.8519 - val_loss: 0.9909 - val_accuracy: 0.3148\n",
            "Epoch 7/50\n",
            "27/27 [==============================] - ETA: 0s - loss: 0.4073 - accuracy: 0.8009\n",
            "Epoch 7: val_loss did not improve from 0.69569\n",
            "27/27 [==============================] - 32s 1s/step - loss: 0.4073 - accuracy: 0.8009 - val_loss: 1.3164 - val_accuracy: 0.2963\n",
            "Epoch 8/50\n",
            "27/27 [==============================] - ETA: 0s - loss: 0.3454 - accuracy: 0.8403\n",
            "Epoch 8: val_loss did not improve from 0.69569\n",
            "27/27 [==============================] - 32s 1s/step - loss: 0.3454 - accuracy: 0.8403 - val_loss: 1.2239 - val_accuracy: 0.3056\n",
            "Epoch 9/50\n",
            "27/27 [==============================] - ETA: 0s - loss: 0.3321 - accuracy: 0.8634\n",
            "Epoch 9: val_loss did not improve from 0.69569\n",
            "27/27 [==============================] - 32s 1s/step - loss: 0.3321 - accuracy: 0.8634 - val_loss: 1.2520 - val_accuracy: 0.3241\n",
            "Epoch 10/50\n",
            "27/27 [==============================] - ETA: 0s - loss: 0.3138 - accuracy: 0.8704\n",
            "Epoch 10: val_loss improved from 0.69569 to 0.68038, saving model to /tmp/checkpoint.h5\n",
            "27/27 [==============================] - 32s 1s/step - loss: 0.3138 - accuracy: 0.8704 - val_loss: 0.6804 - val_accuracy: 0.5926\n",
            "Epoch 11/50\n",
            "27/27 [==============================] - ETA: 0s - loss: 0.3671 - accuracy: 0.8565\n",
            "Epoch 11: val_loss did not improve from 0.68038\n",
            "27/27 [==============================] - 32s 1s/step - loss: 0.3671 - accuracy: 0.8565 - val_loss: 1.1928 - val_accuracy: 0.3333\n",
            "Epoch 12/50\n",
            "27/27 [==============================] - ETA: 0s - loss: 0.3647 - accuracy: 0.8472\n",
            "Epoch 12: val_loss did not improve from 0.68038\n",
            "27/27 [==============================] - 32s 1s/step - loss: 0.3647 - accuracy: 0.8472 - val_loss: 1.0401 - val_accuracy: 0.3889\n",
            "Epoch 13/50\n",
            "27/27 [==============================] - ETA: 0s - loss: 0.2975 - accuracy: 0.8681\n",
            "Epoch 13: val_loss did not improve from 0.68038\n",
            "27/27 [==============================] - 32s 1s/step - loss: 0.2975 - accuracy: 0.8681 - val_loss: 0.8580 - val_accuracy: 0.4907\n",
            "Epoch 14/50\n",
            "27/27 [==============================] - ETA: 0s - loss: 0.3208 - accuracy: 0.8727\n",
            "Epoch 14: val_loss did not improve from 0.68038\n",
            "27/27 [==============================] - 32s 1s/step - loss: 0.3208 - accuracy: 0.8727 - val_loss: 0.9432 - val_accuracy: 0.5370\n",
            "Epoch 15/50\n",
            "27/27 [==============================] - ETA: 0s - loss: 0.3537 - accuracy: 0.8727\n",
            "Epoch 15: val_loss did not improve from 0.68038\n",
            "27/27 [==============================] - 32s 1s/step - loss: 0.3537 - accuracy: 0.8727 - val_loss: 1.2251 - val_accuracy: 0.5000\n",
            "Epoch 16/50\n",
            "27/27 [==============================] - ETA: 0s - loss: 0.3451 - accuracy: 0.8588\n",
            "Epoch 16: val_loss improved from 0.68038 to 0.62924, saving model to /tmp/checkpoint.h5\n",
            "27/27 [==============================] - 32s 1s/step - loss: 0.3451 - accuracy: 0.8588 - val_loss: 0.6292 - val_accuracy: 0.7685\n",
            "Epoch 17/50\n",
            "27/27 [==============================] - ETA: 0s - loss: 0.3120 - accuracy: 0.8634\n",
            "Epoch 17: val_loss did not improve from 0.62924\n",
            "27/27 [==============================] - 32s 1s/step - loss: 0.3120 - accuracy: 0.8634 - val_loss: 1.3690 - val_accuracy: 0.5000\n",
            "Epoch 18/50\n",
            "27/27 [==============================] - ETA: 0s - loss: 0.3158 - accuracy: 0.8889\n",
            "Epoch 18: val_loss did not improve from 0.62924\n",
            "27/27 [==============================] - 32s 1s/step - loss: 0.3158 - accuracy: 0.8889 - val_loss: 0.7608 - val_accuracy: 0.6481\n",
            "Epoch 19/50\n",
            "27/27 [==============================] - ETA: 0s - loss: 0.3005 - accuracy: 0.8796\n",
            "Epoch 19: val_loss improved from 0.62924 to 0.55185, saving model to /tmp/checkpoint.h5\n",
            "27/27 [==============================] - 32s 1s/step - loss: 0.3005 - accuracy: 0.8796 - val_loss: 0.5518 - val_accuracy: 0.7500\n",
            "Epoch 20/50\n",
            "27/27 [==============================] - ETA: 0s - loss: 0.3076 - accuracy: 0.8704\n",
            "Epoch 20: val_loss did not improve from 0.55185\n",
            "27/27 [==============================] - 32s 1s/step - loss: 0.3076 - accuracy: 0.8704 - val_loss: 0.7576 - val_accuracy: 0.6759\n",
            "Epoch 21/50\n",
            "27/27 [==============================] - ETA: 0s - loss: 0.2821 - accuracy: 0.8773\n",
            "Epoch 21: val_loss did not improve from 0.55185\n",
            "27/27 [==============================] - 32s 1s/step - loss: 0.2821 - accuracy: 0.8773 - val_loss: 0.5775 - val_accuracy: 0.7500\n",
            "Epoch 22/50\n",
            "27/27 [==============================] - ETA: 0s - loss: 0.2572 - accuracy: 0.8935\n",
            "Epoch 22: val_loss improved from 0.55185 to 0.53799, saving model to /tmp/checkpoint.h5\n",
            "27/27 [==============================] - 32s 1s/step - loss: 0.2572 - accuracy: 0.8935 - val_loss: 0.5380 - val_accuracy: 0.7685\n",
            "Epoch 23/50\n",
            "27/27 [==============================] - ETA: 0s - loss: 0.2589 - accuracy: 0.8935\n",
            "Epoch 23: val_loss did not improve from 0.53799\n",
            "27/27 [==============================] - 32s 1s/step - loss: 0.2589 - accuracy: 0.8935 - val_loss: 0.6477 - val_accuracy: 0.6944\n",
            "Epoch 24/50\n",
            "27/27 [==============================] - ETA: 0s - loss: 0.2692 - accuracy: 0.9120\n",
            "Epoch 24: val_loss did not improve from 0.53799\n",
            "27/27 [==============================] - 32s 1s/step - loss: 0.2692 - accuracy: 0.9120 - val_loss: 0.6259 - val_accuracy: 0.7037\n",
            "Epoch 25/50\n",
            "27/27 [==============================] - ETA: 0s - loss: 0.2427 - accuracy: 0.9213\n",
            "Epoch 25: val_loss did not improve from 0.53799\n",
            "27/27 [==============================] - 33s 1s/step - loss: 0.2427 - accuracy: 0.9213 - val_loss: 0.5950 - val_accuracy: 0.7222\n",
            "Epoch 26/50\n",
            "27/27 [==============================] - ETA: 0s - loss: 0.2800 - accuracy: 0.8958\n",
            "Epoch 26: val_loss improved from 0.53799 to 0.47988, saving model to /tmp/checkpoint.h5\n",
            "27/27 [==============================] - 32s 1s/step - loss: 0.2800 - accuracy: 0.8958 - val_loss: 0.4799 - val_accuracy: 0.7778\n",
            "Epoch 27/50\n",
            "27/27 [==============================] - ETA: 0s - loss: 0.2668 - accuracy: 0.8958\n",
            "Epoch 27: val_loss improved from 0.47988 to 0.45971, saving model to /tmp/checkpoint.h5\n",
            "27/27 [==============================] - 32s 1s/step - loss: 0.2668 - accuracy: 0.8958 - val_loss: 0.4597 - val_accuracy: 0.8148\n",
            "Epoch 28/50\n",
            "27/27 [==============================] - ETA: 0s - loss: 0.2486 - accuracy: 0.9144\n",
            "Epoch 28: val_loss did not improve from 0.45971\n",
            "27/27 [==============================] - 32s 1s/step - loss: 0.2486 - accuracy: 0.9144 - val_loss: 0.5417 - val_accuracy: 0.7685\n",
            "Epoch 29/50\n",
            "27/27 [==============================] - ETA: 0s - loss: 0.2516 - accuracy: 0.9120\n",
            "Epoch 29: val_loss did not improve from 0.45971\n",
            "27/27 [==============================] - 32s 1s/step - loss: 0.2516 - accuracy: 0.9120 - val_loss: 0.4820 - val_accuracy: 0.8056\n",
            "Epoch 30/50\n",
            "27/27 [==============================] - ETA: 0s - loss: 0.2650 - accuracy: 0.8912\n",
            "Epoch 30: val_loss improved from 0.45971 to 0.32743, saving model to /tmp/checkpoint.h5\n",
            "27/27 [==============================] - 32s 1s/step - loss: 0.2650 - accuracy: 0.8912 - val_loss: 0.3274 - val_accuracy: 0.8426\n",
            "Epoch 31/50\n",
            "27/27 [==============================] - ETA: 0s - loss: 0.2525 - accuracy: 0.8889\n",
            "Epoch 31: val_loss did not improve from 0.32743\n",
            "27/27 [==============================] - 32s 1s/step - loss: 0.2525 - accuracy: 0.8889 - val_loss: 0.3870 - val_accuracy: 0.8241\n",
            "Epoch 32/50\n",
            "27/27 [==============================] - ETA: 0s - loss: 0.2148 - accuracy: 0.9097\n",
            "Epoch 32: val_loss did not improve from 0.32743\n",
            "27/27 [==============================] - 32s 1s/step - loss: 0.2148 - accuracy: 0.9097 - val_loss: 0.4732 - val_accuracy: 0.8426\n",
            "Epoch 33/50\n",
            "27/27 [==============================] - ETA: 0s - loss: 0.2735 - accuracy: 0.9028\n",
            "Epoch 33: val_loss did not improve from 0.32743\n",
            "27/27 [==============================] - 32s 1s/step - loss: 0.2735 - accuracy: 0.9028 - val_loss: 0.3837 - val_accuracy: 0.8519\n",
            "Epoch 34/50\n",
            "27/27 [==============================] - ETA: 0s - loss: 0.2576 - accuracy: 0.8958\n",
            "Epoch 34: val_loss did not improve from 0.32743\n",
            "27/27 [==============================] - 32s 1s/step - loss: 0.2576 - accuracy: 0.8958 - val_loss: 0.6537 - val_accuracy: 0.7685\n",
            "Epoch 35/50\n",
            "27/27 [==============================] - ETA: 0s - loss: 0.2002 - accuracy: 0.9120\n",
            "Epoch 35: val_loss did not improve from 0.32743\n",
            "27/27 [==============================] - 32s 1s/step - loss: 0.2002 - accuracy: 0.9120 - val_loss: 0.6607 - val_accuracy: 0.7500\n",
            "Epoch 36/50\n",
            "27/27 [==============================] - ETA: 0s - loss: 0.2243 - accuracy: 0.9097\n",
            "Epoch 36: val_loss did not improve from 0.32743\n",
            "27/27 [==============================] - 32s 1s/step - loss: 0.2243 - accuracy: 0.9097 - val_loss: 0.7769 - val_accuracy: 0.7315\n",
            "Epoch 37/50\n",
            "27/27 [==============================] - ETA: 0s - loss: 0.1973 - accuracy: 0.9236\n",
            "Epoch 37: val_loss did not improve from 0.32743\n",
            "27/27 [==============================] - 32s 1s/step - loss: 0.1973 - accuracy: 0.9236 - val_loss: 0.4808 - val_accuracy: 0.7963\n",
            "Epoch 38/50\n",
            "27/27 [==============================] - ETA: 0s - loss: 0.2169 - accuracy: 0.9167\n",
            "Epoch 38: val_loss did not improve from 0.32743\n",
            "27/27 [==============================] - 32s 1s/step - loss: 0.2169 - accuracy: 0.9167 - val_loss: 0.3875 - val_accuracy: 0.8704\n",
            "Epoch 39/50\n",
            "27/27 [==============================] - ETA: 0s - loss: 0.1754 - accuracy: 0.9375\n",
            "Epoch 39: val_loss improved from 0.32743 to 0.32383, saving model to /tmp/checkpoint.h5\n",
            "27/27 [==============================] - 32s 1s/step - loss: 0.1754 - accuracy: 0.9375 - val_loss: 0.3238 - val_accuracy: 0.8796\n",
            "Epoch 40/50\n",
            "27/27 [==============================] - ETA: 0s - loss: 0.1705 - accuracy: 0.9375\n",
            "Epoch 40: val_loss did not improve from 0.32383\n",
            "27/27 [==============================] - 32s 1s/step - loss: 0.1705 - accuracy: 0.9375 - val_loss: 0.5691 - val_accuracy: 0.7407\n",
            "Epoch 41/50\n",
            "27/27 [==============================] - ETA: 0s - loss: 0.1853 - accuracy: 0.9282\n",
            "Epoch 41: val_loss did not improve from 0.32383\n",
            "27/27 [==============================] - 31s 1s/step - loss: 0.1853 - accuracy: 0.9282 - val_loss: 0.5266 - val_accuracy: 0.8241\n",
            "Epoch 42/50\n",
            "27/27 [==============================] - ETA: 0s - loss: 0.1816 - accuracy: 0.9375\n",
            "Epoch 42: val_loss did not improve from 0.32383\n",
            "27/27 [==============================] - 32s 1s/step - loss: 0.1816 - accuracy: 0.9375 - val_loss: 0.5580 - val_accuracy: 0.7593\n",
            "Epoch 43/50\n",
            "27/27 [==============================] - ETA: 0s - loss: 0.1529 - accuracy: 0.9491\n",
            "Epoch 43: val_loss did not improve from 0.32383\n",
            "27/27 [==============================] - 32s 1s/step - loss: 0.1529 - accuracy: 0.9491 - val_loss: 0.4156 - val_accuracy: 0.8519\n",
            "Epoch 44/50\n",
            "27/27 [==============================] - ETA: 0s - loss: 0.1387 - accuracy: 0.9514\n",
            "Epoch 44: val_loss did not improve from 0.32383\n",
            "27/27 [==============================] - 33s 1s/step - loss: 0.1387 - accuracy: 0.9514 - val_loss: 0.3857 - val_accuracy: 0.8426\n",
            "Epoch 45/50\n",
            "27/27 [==============================] - ETA: 0s - loss: 0.1646 - accuracy: 0.9398\n",
            "Epoch 45: val_loss did not improve from 0.32383\n",
            "27/27 [==============================] - 32s 1s/step - loss: 0.1646 - accuracy: 0.9398 - val_loss: 0.8765 - val_accuracy: 0.7130\n",
            "Epoch 46/50\n",
            "27/27 [==============================] - ETA: 0s - loss: 0.1970 - accuracy: 0.9306\n",
            "Epoch 46: val_loss did not improve from 0.32383\n",
            "27/27 [==============================] - 32s 1s/step - loss: 0.1970 - accuracy: 0.9306 - val_loss: 0.6517 - val_accuracy: 0.7870\n",
            "Epoch 47/50\n",
            "27/27 [==============================] - ETA: 0s - loss: 0.1773 - accuracy: 0.9398\n",
            "Epoch 47: val_loss did not improve from 0.32383\n",
            "27/27 [==============================] - 32s 1s/step - loss: 0.1773 - accuracy: 0.9398 - val_loss: 1.0850 - val_accuracy: 0.6296\n",
            "Epoch 48/50\n",
            "27/27 [==============================] - ETA: 0s - loss: 0.1618 - accuracy: 0.9236\n",
            "Epoch 48: val_loss did not improve from 0.32383\n",
            "27/27 [==============================] - 32s 1s/step - loss: 0.1618 - accuracy: 0.9236 - val_loss: 0.5766 - val_accuracy: 0.8241\n",
            "Epoch 49/50\n",
            "27/27 [==============================] - ETA: 0s - loss: 0.1351 - accuracy: 0.9468\n",
            "Epoch 49: val_loss did not improve from 0.32383\n",
            "27/27 [==============================] - 32s 1s/step - loss: 0.1351 - accuracy: 0.9468 - val_loss: 0.4765 - val_accuracy: 0.8241\n",
            "Epoch 50/50\n",
            "27/27 [==============================] - ETA: 0s - loss: 0.1284 - accuracy: 0.9514\n",
            "Epoch 50: val_loss did not improve from 0.32383\n",
            "27/27 [==============================] - 32s 1s/step - loss: 0.1284 - accuracy: 0.9514 - val_loss: 0.3909 - val_accuracy: 0.8148\n"
          ]
        }
      ]
    },
    {
      "cell_type": "code",
      "source": [
        "cnn_model.save(\"cnn_model_3.h5py\")"
      ],
      "metadata": {
        "colab": {
          "base_uri": "https://localhost:8080/"
        },
        "id": "e42__wWLkp7J",
        "outputId": "70c9aba9-abfc-4855-8fa0-286dcf94fa02"
      },
      "execution_count": 42,
      "outputs": [
        {
          "output_type": "stream",
          "name": "stdout",
          "text": [
            "INFO:tensorflow:Assets written to: cnn_model_3.h5py/assets\n"
          ]
        }
      ]
    },
    {
      "cell_type": "code",
      "source": [
        "vis_confusion_matrix(cm_cnn)\n",
        "\n",
        "vis_acc_loss(cnn_train)"
      ],
      "metadata": {
        "colab": {
          "base_uri": "https://localhost:8080/",
          "height": 865
        },
        "id": "_0S0co2jkrTR",
        "outputId": "1eaabc7d-11de-4829-f3fe-e269adc15e14"
      },
      "execution_count": 43,
      "outputs": [
        {
          "output_type": "display_data",
          "data": {
            "text/plain": [
              "<Figure size 432x288 with 2 Axes>"
            ],
            "image/png": "[encoded data removed]"
          },
          "metadata": {
            "needs_background": "light"
          }
        },
        {
          "output_type": "display_data",
          "data": {
            "text/plain": [
              "<Figure size 432x288 with 1 Axes>"
            ],
            "image/png": "[encoded data removed]"
          },
          "metadata": {
            "needs_background": "light"
          }
        },
        {
          "output_type": "display_data",
          "data": {
            "text/plain": [
              "<Figure size 432x288 with 1 Axes>"
            ],
            "image/png": "[encoded data removed]"
          },
          "metadata": {
            "needs_background": "light"
          }
        }
      ]
    },
    {
      "cell_type": "code",
      "source": [
        "print('Test loss:', test_eval[0])\n",
        "print('Test accuracy:', test_eval[1])"
      ],
      "metadata": {
        "colab": {
          "base_uri": "https://localhost:8080/"
        },
        "id": "TTSmlMoEB9tr",
        "outputId": "88af75d5-eec6-4bc8-c3e2-dbbaa5ec280a"
      },
      "execution_count": 44,
      "outputs": [
        {
          "output_type": "stream",
          "name": "stdout",
          "text": [
            "Test loss: 1.0941758155822754\n",
            "Test accuracy: 0.47200000286102295\n"
          ]
        }
      ]
    }
  ],
  "metadata": {
    "colab": {
      "collapsed_sections": [
        "9JpGUmojfJD1",
        "sE94nxnpaDT0",
        "73u_N5c2vwkx",
        "YEmaM7rep0bW",
        "xMjOyuxHfM8h",
        "kVR1zGqyhsrM",
        "lP1mw6jBhl0O",
        "g0I4h49AkgLN",
        "QrlhSOIae6Af"
      ],
      "name": "Thesis-10x101-raw.ipynb",
      "provenance": [],
      "mount_file_id": "16z_D10etVV6QftpSCXOAtcTSPqIOjEP_",
      "authorship_tag": "ABX9TyOnZFrull/nPI1jfpr1moYF"
    },
    "kernelspec": {
      "display_name": "Python 3",
      "name": "python3"
    },
    "language_info": {
      "name": "python"
    }
  },
  "nbformat": 4,
  "nbformat_minor": 0
}