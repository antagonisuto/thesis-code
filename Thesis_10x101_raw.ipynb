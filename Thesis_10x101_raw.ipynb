{
  "cells": [
    {
      "cell_type": "markdown",
      "metadata": {
        "id": "view-in-github",
        "colab_type": "text"
      },
      "source": [
        "<a href=\"https://colab.research.google.com/github/antagonisuto/thesis-code/blob/main/Thesis_10x101_raw.ipynb\" target=\"_parent\"><img src=\"https://colab.research.google.com/assets/colab-badge.svg\" alt=\"Open In Colab\"/></a>"
      ]
    },
    {
      "cell_type": "markdown",
      "source": [
        "# Just Run it"
      ],
      "metadata": {
        "id": "l5tO0qxgfYlV"
      }
    },
    {
      "cell_type": "code",
      "execution_count": 1,
      "metadata": {
        "colab": {
          "base_uri": "https://localhost:8080/"
        },
        "id": "wOXE6bstFDrd",
        "outputId": "237b5cb7-a832-4f4c-c405-3e0e2529cde2"
      },
      "outputs": [
        {
          "output_type": "stream",
          "name": "stdout",
          "text": [
            "Collecting mne\n",
            "  Downloading mne-1.0.1.tar.gz (7.7 MB)\n",
            "\u001b[K     |████████████████████████████████| 7.7 MB 5.2 MB/s \n",
            "\u001b[?25hRequirement already satisfied: numpy>=1.15.4 in /usr/local/lib/python3.7/dist-packages (from mne) (1.21.5)\n",
            "Requirement already satisfied: scipy>=1.1.0 in /usr/local/lib/python3.7/dist-packages (from mne) (1.4.1)\n",
            "Requirement already satisfied: matplotlib in /usr/local/lib/python3.7/dist-packages (from mne) (3.2.2)\n",
            "Requirement already satisfied: tqdm in /usr/local/lib/python3.7/dist-packages (from mne) (4.63.0)\n",
            "Requirement already satisfied: pooch>=1.5 in /usr/local/lib/python3.7/dist-packages (from mne) (1.6.0)\n",
            "Requirement already satisfied: decorator in /usr/local/lib/python3.7/dist-packages (from mne) (4.4.2)\n",
            "Requirement already satisfied: packaging in /usr/local/lib/python3.7/dist-packages (from mne) (21.3)\n",
            "Requirement already satisfied: jinja2 in /usr/local/lib/python3.7/dist-packages (from mne) (2.11.3)\n",
            "Requirement already satisfied: requests>=2.19.0 in /usr/local/lib/python3.7/dist-packages (from pooch>=1.5->mne) (2.23.0)\n",
            "Requirement already satisfied: appdirs>=1.3.0 in /usr/local/lib/python3.7/dist-packages (from pooch>=1.5->mne) (1.4.4)\n",
            "Requirement already satisfied: pyparsing!=3.0.5,>=2.0.2 in /usr/local/lib/python3.7/dist-packages (from packaging->mne) (3.0.7)\n",
            "Requirement already satisfied: chardet<4,>=3.0.2 in /usr/local/lib/python3.7/dist-packages (from requests>=2.19.0->pooch>=1.5->mne) (3.0.4)\n",
            "Requirement already satisfied: idna<3,>=2.5 in /usr/local/lib/python3.7/dist-packages (from requests>=2.19.0->pooch>=1.5->mne) (2.10)\n",
            "Requirement already satisfied: certifi>=2017.4.17 in /usr/local/lib/python3.7/dist-packages (from requests>=2.19.0->pooch>=1.5->mne) (2021.10.8)\n",
            "Requirement already satisfied: urllib3!=1.25.0,!=1.25.1,<1.26,>=1.21.1 in /usr/local/lib/python3.7/dist-packages (from requests>=2.19.0->pooch>=1.5->mne) (1.24.3)\n",
            "Requirement already satisfied: MarkupSafe>=0.23 in /usr/local/lib/python3.7/dist-packages (from jinja2->mne) (2.0.1)\n",
            "Requirement already satisfied: cycler>=0.10 in /usr/local/lib/python3.7/dist-packages (from matplotlib->mne) (0.11.0)\n",
            "Requirement already satisfied: kiwisolver>=1.0.1 in /usr/local/lib/python3.7/dist-packages (from matplotlib->mne) (1.4.0)\n",
            "Requirement already satisfied: python-dateutil>=2.1 in /usr/local/lib/python3.7/dist-packages (from matplotlib->mne) (2.8.2)\n",
            "Requirement already satisfied: typing-extensions in /usr/local/lib/python3.7/dist-packages (from kiwisolver>=1.0.1->matplotlib->mne) (3.10.0.2)\n",
            "Requirement already satisfied: six>=1.5 in /usr/local/lib/python3.7/dist-packages (from python-dateutil>=2.1->matplotlib->mne) (1.15.0)\n",
            "Building wheels for collected packages: mne\n",
            "  Building wheel for mne (setup.py) ... \u001b[?25l\u001b[?25hdone\n",
            "  Created wheel for mne: filename=mne-1.0.1-py3-none-any.whl size=7542700 sha256=933910d4462aedc0f8ed2a68f1868f106c56cbfe4fcbcd788cf2349a0183c278\n",
            "  Stored in directory: /root/.cache/pip/wheels/b1/16/e2/46ea7fb2215890e506fa85526ccbc2145663ad12c356d04c35\n",
            "Successfully built mne\n",
            "Installing collected packages: mne\n",
            "Successfully installed mne-1.0.1\n"
          ]
        }
      ],
      "source": [
        "pip install mne"
      ]
    },
    {
      "cell_type": "code",
      "execution_count": 2,
      "metadata": {
        "id": "VjSlXtVgn4Mj"
      },
      "outputs": [],
      "source": [
        "import os\n",
        "import numpy as np\n",
        "import mne\n",
        "\n",
        "from sklearn.preprocessing import MinMaxScaler, StandardScaler\n",
        "\n",
        "#LDA\n",
        "from sklearn.discriminant_analysis import LinearDiscriminantAnalysis as LDA\n",
        "from sklearn.metrics import confusion_matrix\n",
        "from sklearn.metrics import accuracy_score\n",
        "\n",
        "#Visual\n",
        "import matplotlib.pyplot as plt\n",
        "from mne.preprocessing import (ICA, corrmap)\n",
        "from scipy.stats import ttest_rel\n",
        "from tensorflow.keras import utils as np_utils\n",
        "from sklearn.utils import shuffle\n",
        "import seaborn as sns\n",
        "\n",
        "#CNN\n",
        "import keras\n",
        "from keras.models import Sequential,Input,Model\n",
        "from keras.layers import Dense, Dropout, Flatten\n",
        "from keras.layers import Conv2D, MaxPooling2D\n",
        "from tensorflow.keras.layers import BatchNormalization\n",
        "from keras.layers.advanced_activations import LeakyReLU\n",
        "import tensorflow as tf\n",
        "from tensorflow.keras.callbacks import ModelCheckpoint\n",
        "from tensorflow.keras.optimizers import SGD, Adam\n",
        "import sklearn.metrics as metrics\n",
        "import seaborn as sns\n",
        "from sklearn.model_selection import train_test_split\n",
        "from sklearn.utils.class_weight import compute_class_weight"
      ]
    },
    {
      "cell_type": "code",
      "execution_count": 7,
      "metadata": {
        "id": "kPMY77PVG67x"
      },
      "outputs": [],
      "source": [
        "dataPath = '/content/drive/MyDrive/databbci/data'"
      ]
    },
    {
      "cell_type": "code",
      "execution_count": 8,
      "metadata": {
        "colab": {
          "base_uri": "https://localhost:8080/"
        },
        "id": "yymPXXeiHBTa",
        "outputId": "2fd03602-a4fa-4ba1-d0f5-680e8c99850d"
      },
      "outputs": [
        {
          "output_type": "stream",
          "name": "stderr",
          "text": [
            "<ipython-input-8-e82f2427b298>:17: RuntimeWarning: Online software filter detected. Using software filter settings and ignoring hardware values\n",
            "  passive.append(mne.io.read_raw_brainvision(tmp, preload=True, verbose=False))\n",
            "<ipython-input-8-e82f2427b298>:15: RuntimeWarning: Online software filter detected. Using software filter settings and ignoring hardware values\n",
            "  active.append(mne.io.read_raw_brainvision(tmp, preload=True, verbose=False))\n",
            "<ipython-input-8-e82f2427b298>:19: RuntimeWarning: Online software filter detected. Using software filter settings and ignoring hardware values\n",
            "  cue.append(mne.io.read_raw_brainvision(tmp, preload=True, verbose=False))\n",
            "<ipython-input-8-e82f2427b298>:19: RuntimeWarning: Online software filter detected. Using software filter settings and ignoring hardware values\n",
            "  cue.append(mne.io.read_raw_brainvision(tmp, preload=True, verbose=False))\n",
            "<ipython-input-8-e82f2427b298>:17: RuntimeWarning: Online software filter detected. Using software filter settings and ignoring hardware values\n",
            "  passive.append(mne.io.read_raw_brainvision(tmp, preload=True, verbose=False))\n",
            "<ipython-input-8-e82f2427b298>:15: RuntimeWarning: Online software filter detected. Using software filter settings and ignoring hardware values\n",
            "  active.append(mne.io.read_raw_brainvision(tmp, preload=True, verbose=False))\n",
            "<ipython-input-8-e82f2427b298>:19: RuntimeWarning: Online software filter detected. Using software filter settings and ignoring hardware values\n",
            "  cue.append(mne.io.read_raw_brainvision(tmp, preload=True, verbose=False))\n",
            "<ipython-input-8-e82f2427b298>:19: RuntimeWarning: Online software filter detected. Using software filter settings and ignoring hardware values\n",
            "  cue.append(mne.io.read_raw_brainvision(tmp, preload=True, verbose=False))\n",
            "<ipython-input-8-e82f2427b298>:17: RuntimeWarning: Online software filter detected. Using software filter settings and ignoring hardware values\n",
            "  passive.append(mne.io.read_raw_brainvision(tmp, preload=True, verbose=False))\n",
            "<ipython-input-8-e82f2427b298>:15: RuntimeWarning: Online software filter detected. Using software filter settings and ignoring hardware values\n",
            "  active.append(mne.io.read_raw_brainvision(tmp, preload=True, verbose=False))\n",
            "<ipython-input-8-e82f2427b298>:19: RuntimeWarning: Online software filter detected. Using software filter settings and ignoring hardware values\n",
            "  cue.append(mne.io.read_raw_brainvision(tmp, preload=True, verbose=False))\n",
            "<ipython-input-8-e82f2427b298>:19: RuntimeWarning: Online software filter detected. Using software filter settings and ignoring hardware values\n",
            "  cue.append(mne.io.read_raw_brainvision(tmp, preload=True, verbose=False))\n"
          ]
        },
        {
          "output_type": "stream",
          "name": "stdout",
          "text": [
            "3\n"
          ]
        }
      ],
      "source": [
        "import os\n",
        "\n",
        "active = []\n",
        "passive = []\n",
        "cue = []\n",
        "\n",
        "\n",
        "data_number = 0\n",
        "for dir in os.listdir(dataPath):\n",
        "  for filename in os.listdir(os.path.join(dataPath, dir)):\n",
        "    #if filename.endswith(\".vhdr\"):\n",
        "    tmp = os.path.join(os.path.join(dataPath, dir), filename)\n",
        "      #with open(os.path.join(os.path.join(dataPath, dir), filename), 'r') as f: # open in readonly mode\n",
        "    if filename.endswith(\"active.vhdr\"):\n",
        "      active.append(mne.io.read_raw_brainvision(tmp, preload=True, verbose=False))\n",
        "    elif filename.endswith(\"passive.vhdr\"):\n",
        "      passive.append(mne.io.read_raw_brainvision(tmp, preload=True, verbose=False))\n",
        "    elif filename.endswith(\"cue.vhdr\"):\n",
        "      cue.append(mne.io.read_raw_brainvision(tmp, preload=True, verbose=False))\n",
        "print(len(active))"
      ]
    },
    {
      "cell_type": "markdown",
      "source": [
        "# Function | Run All"
      ],
      "metadata": {
        "id": "dhnDzzZCh1Ca"
      }
    },
    {
      "cell_type": "markdown",
      "source": [
        "    func: raw_to_data(raw, non_active = 0) \n",
        "    * active = 0\n",
        "    * passive = 1\n",
        "    * cue = 2\n",
        "    return X, y\n",
        "\n",
        "\\-\n",
        "\n",
        "    def get_train_test(act, pas, cue): \n",
        "    * active[subject] -> act\n",
        "    * call function \"raw_to_data\"\n",
        "    return train_X, test_X, train_y, test_y\n",
        "\n",
        "\\- LDA\n",
        "\n",
        "  \n",
        "    def lda_101(train_X, test_X, train_y, test_y):\n",
        "    return clf, cm\n",
        "\n",
        "\\- CNN\n",
        "\n",
        "    def cnn_101(train_X, test_X, train_y, test_y):\n",
        "    * batch_size = 16\n",
        "    * epochs = 100\n",
        "    * num_classes = 2\n",
        "    return cnn_model, cnn_train, test_eval, cm_cnn\n",
        "\n",
        "\n",
        "\\- Visualization\n",
        "\n",
        "    def vis_confusion_matrix(cm):\n",
        "    * plot \n"
      ],
      "metadata": {
        "id": "vxAeGIjYh58J"
      }
    },
    {
      "cell_type": "markdown",
      "metadata": {
        "id": "9JpGUmojfJD1"
      },
      "source": [
        "## All data load"
      ]
    },
    {
      "cell_type": "code",
      "execution_count": 9,
      "metadata": {
        "id": "IbzHDX8rfLbI"
      },
      "outputs": [],
      "source": [
        "def raw_to_data(raw, non_active = 0):\n",
        "  raw.pick_channels(['C1', 'Fz', 'C2', 'F3', 'F4', 'Pz', 'Oz', 'C3', 'Cz', 'C4'])\n",
        "  raw.filter(l_freq=0.4, h_freq=40, fir_design='firwin', verbose=False)\n",
        "  #raw.filter(l_freq=0.4, h_freq=40, method = 'iir', verbose=False)\n",
        "\n",
        "  events, _ = mne.events_from_annotations(raw, verbose=False)\n",
        "  tmin, tmax = -0., 1.  # in s\n",
        "  baseline = (0, 0)\n",
        "\n",
        "  #passive -> ignore \n",
        "  #cue -> active\n",
        "  # -> active, ignore\n",
        "  event_dict = {'active': 1, 'ignore': 2}\n",
        "  if non_active != 0:\n",
        "    event_dict.clear()\n",
        "    if non_active == 1: #passive\n",
        "      event_dict = {'ignore': 2}\n",
        "    else: # cue\n",
        "      event_dict = {'active': 1}\n",
        "  \n",
        "  epochs = mne.Epochs(\n",
        "    raw, events=events,\n",
        "    event_id=event_dict, tmin=tmin,\n",
        "    tmax=tmax, baseline=baseline, preload = True, verbose=False)\n",
        "  # print(epochs.events.size)\n",
        "  # print(epochs.event_id)\n",
        "  # {'active': 1, 'ignore': 2}\n",
        "\n",
        "  #preprocessing\n",
        "  filt_raw = raw.copy().filter(l_freq=1., h_freq=None)\n",
        "  ica = ICA(n_components=10, max_iter='auto', random_state=97)\n",
        "  ica.fit(epochs)\n",
        "\n",
        "  X = epochs.get_data()*1000  # MEG signals: n_epochs, n_meg_channels, n_times\n",
        "  y = epochs.events[:, 2]  # target: auditory left vs visual left\n",
        "  #print(X.shape, y.shape)\n",
        "\n",
        "  return X, y"
      ]
    },
    {
      "cell_type": "markdown",
      "metadata": {
        "id": "sE94nxnpaDT0"
      },
      "source": [
        "## Preprocessing"
      ]
    },
    {
      "cell_type": "code",
      "source": [
        "def get_train_test(act, pas, cue):\n",
        "  # subject = 0\n",
        "  train_X, train_y = raw_to_data(act, 0)\n",
        "  pas_X, pas_y = raw_to_data(pas, 1) #passive = 1\n",
        "  cue_X, cue_y = raw_to_data(cue, 2) #ignore = 2\n",
        "\n",
        "  test_X = np.append(cue_X, pas_X, axis = 0)\n",
        "  test_y = np.append(cue_y, pas_y, axis = 0)\n",
        "\n",
        "  return train_X, test_X, train_y, test_y\n"
      ],
      "metadata": {
        "id": "rnAxM1QGf3Nj"
      },
      "execution_count": 10,
      "outputs": []
    },
    {
      "cell_type": "markdown",
      "metadata": {
        "id": "73u_N5c2vwkx"
      },
      "source": [
        "## LDA Function"
      ]
    },
    {
      "cell_type": "code",
      "source": [
        "def lda_101(train_X, test_X, train_y, test_y):\n",
        "  train_lda = train_X.reshape(540,-1)\n",
        "  n, _, _ = test_X.shape\n",
        "  test_lda = test_X.reshape(n, -1)\n",
        "\n",
        "  clf = LDA()\n",
        "  clf.fit(train_lda, train_y)\n",
        "\n",
        "  y_pred = clf.predict(test_lda)\n",
        "  cm = confusion_matrix(test_y, y_pred)\n",
        "  print(cm)\n",
        "  print('Accuracy' + str(accuracy_score(test_y, y_pred)))\n",
        "\n",
        "  return clf, cm"
      ],
      "metadata": {
        "id": "Rg2hYQGycQqE"
      },
      "execution_count": 11,
      "outputs": []
    },
    {
      "cell_type": "markdown",
      "source": [
        "## CNN Functions"
      ],
      "metadata": {
        "id": "YEmaM7rep0bW"
      }
    },
    {
      "cell_type": "code",
      "source": [
        "def cnn_101(train_X, test_X, train_y, test_y, batch_size = 32, epochs = 100):\n",
        "  train_X = train_X.reshape(-1, 10,101, 1)\n",
        "  test_X = test_X.reshape(-1, 10,101, 1)\n",
        "\n",
        "  #train_X, train_y = shuffle(test_X, test_y, random_state=2)\n",
        "  #test_X, test_y = shuffle(test_X, test_y, random_state=2)\n",
        "  \n",
        "  train_X,valid_X,train_label,valid_label = train_test_split(train_X, \n",
        "                                                             train_y, \n",
        "                                                             test_size=0.2, \n",
        "                                                             random_state=13)\n",
        "\n",
        "  train_label_categorical = np_utils.to_categorical(train_label-1)\n",
        "  valid_label_categorical = np_utils.to_categorical(valid_label-1)\n",
        "  test_y = np_utils.to_categorical(test_y-1)\n",
        "\n",
        "  # batch_size = 32\n",
        "  # epochs = 100\n",
        "  num_classes = 2\n",
        "\n",
        "  cnn_model = Sequential()\n",
        "  cnn_model.add(Conv2D(8, kernel_size=(40, 4),activation='relu',input_shape=(10,101,1),padding='same'))\n",
        "  # cnn_model.add(MaxPooling2D((2, 2),padding='same'))\n",
        "  cnn_model.add(BatchNormalization())\n",
        "  cnn_model.add(Dropout(0.25))\n",
        "\n",
        "  cnn_model.add(Conv2D(16, (80, 4), activation='relu',padding='same'))\n",
        "  # cnn_model.add(MaxPooling2D(pool_size=(2, 2),padding='same'))\n",
        "  cnn_model.add(BatchNormalization())\n",
        "  cnn_model.add(Dropout(0.25))\n",
        "\n",
        "  cnn_model.add(Conv2D(32, (80, 4), activation='relu',padding='same'))         \n",
        "  # cnn_model.add(MaxPooling2D(pool_size=(2, 2),padding='same'))\n",
        "  cnn_model.add(BatchNormalization())\n",
        "  cnn_model.add(Dropout(0.25))\n",
        "\n",
        "  cnn_model.add(Flatten())\n",
        "  cnn_model.add(Dense(128, activation='relu'))\n",
        "  cnn_model.add(Dense(num_classes, activation='sigmoid'))\n",
        "\n",
        "  # set a valid path for your system to record model checkpoints\n",
        "  checkpointer = ModelCheckpoint(filepath='/tmp/checkpoint.h5', verbose=1,\n",
        "                               save_best_only=True)\n",
        "  \n",
        "  y_integers = np.argmax(train_label_categorical, axis=1)\n",
        "  class_weights = compute_class_weight(class_weight='balanced', classes=np.unique(y_integers), y=y_integers)\n",
        "  d_class_weights = dict(enumerate(class_weights))\n",
        "\n",
        "  opt = SGD(lr=0.01)\n",
        "  #opt = Adam(lr=0.001, beta_1=0.9, beta_2=0.999, epsilon=None, decay=0.01, amsgrad=False)\n",
        "\n",
        "  cnn_model.compile(optimizer=opt,\n",
        "          loss = \"categorical_crossentropy\",\n",
        "          metrics=['accuracy'])\n",
        "  \n",
        "  cnn_train = cnn_model.fit(train_X, train_label_categorical, batch_size=batch_size, \n",
        "                          epochs=epochs,\n",
        "                          verbose=1,\n",
        "                          validation_data=(valid_X, valid_label_categorical), \n",
        "                          callbacks=[checkpointer], \n",
        "                          class_weight = d_class_weights\n",
        "                          )\n",
        "\n",
        "  test_eval = cnn_model.evaluate(test_X, test_y, verbose=0)\n",
        "\n",
        "  pred_prob_conv = cnn_model.predict(test_X)\n",
        "\n",
        "  pred_y_conv = np.argmax(pred_prob_conv, axis=1)  # only necessary if output has one-hot-encoding, shape=(n_samples)\n",
        "  test_y_conv = np.argmax(test_y, axis=1)\n",
        "\n",
        "  cm_cnn = cm_cnn = metrics.confusion_matrix(y_true=test_y_conv, \n",
        "                                              y_pred=pred_y_conv)\n",
        "\n",
        "  return cnn_model, cnn_train, test_eval, cm_cnn\n"
      ],
      "metadata": {
        "id": "uNT_ZJLBqAEP"
      },
      "execution_count": 12,
      "outputs": []
    },
    {
      "cell_type": "code",
      "source": [
        "def vis_acc_loss(cnn_train):\n",
        "  accuracy = cnn_train.history['accuracy']\n",
        "  val_accuracy = cnn_train.history['val_accuracy']\n",
        "  loss = cnn_train.history['loss']\n",
        "  val_loss = cnn_train.history['val_loss']\n",
        "  epochs = range(len(accuracy))\n",
        "  plt.plot(epochs, accuracy, 'bo', label='Training accuracy')\n",
        "  plt.plot(epochs, val_accuracy, 'b', label='Validation accuracy')\n",
        "  plt.title('Training and validation accuracy')\n",
        "  plt.legend()\n",
        "  plt.figure()\n",
        "  plt.plot(epochs, loss, 'bo', label='Training loss')\n",
        "  plt.plot(epochs, val_loss, 'b', label='Validation loss')\n",
        "  plt.title('Training and validation loss')\n",
        "  plt.legend()\n",
        "  plt.show()"
      ],
      "metadata": {
        "id": "V3HZLcOas4Fi"
      },
      "execution_count": 13,
      "outputs": []
    },
    {
      "cell_type": "markdown",
      "source": [
        "## Visualization Functions"
      ],
      "metadata": {
        "id": "xMjOyuxHfM8h"
      }
    },
    {
      "cell_type": "code",
      "source": [
        "def vis_confusion_matrix(cm):\n",
        "\n",
        "\n",
        "  ax = sns.heatmap(cm, annot=True, \n",
        "            fmt='', cmap='Blues')\n",
        "  \n",
        "  # group_counts = [\"{0:0.0f}\".format(value) for value in\n",
        "  #                 confusion_matrix.flatten()]\n",
        "\n",
        "  # labels = [f\"{v1}\\n\" for v1 in zip(group_counts)]\n",
        "\n",
        "  # labels = np.asarray(labels).reshape(2,2)\n",
        "  \n",
        "  ax.set_title('CNN Confusion Matrix \\n\\n');\n",
        "  ax.set_xlabel('\\nPredicted Values')\n",
        "  ax.set_ylabel('Actual Values ');\n",
        "\n",
        "  ## Ticket labels - List must be in alphabetical order\n",
        "  ax.xaxis.set_ticklabels(['NI','AC'])\n",
        "  ax.yaxis.set_ticklabels(['NI','AC'])\n",
        "\n",
        "  ## Display the visualization of the Confusion Matrix.\n",
        "  plt.show()\n"
      ],
      "metadata": {
        "id": "tfAIQZ93fVMh"
      },
      "execution_count": 14,
      "outputs": []
    },
    {
      "cell_type": "markdown",
      "source": [
        "# Test | All Subjects"
      ],
      "metadata": {
        "id": "kVR1zGqyhsrM"
      }
    },
    {
      "cell_type": "code",
      "source": [
        "cnn_models = []\n",
        "lda_models = []"
      ],
      "metadata": {
        "id": "omtOEMfJ0vXa"
      },
      "execution_count": null,
      "outputs": []
    },
    {
      "cell_type": "markdown",
      "source": [
        "## Test: LDA & CNN | Subject 1"
      ],
      "metadata": {
        "id": "d73siMkJdEba"
      }
    },
    {
      "cell_type": "code",
      "source": [
        "subject = 0\n",
        "\n",
        "train_X, test_X, train_y, test_y = get_train_test(active[subject], passive[subject], cue[subject])"
      ],
      "metadata": {
        "colab": {
          "base_uri": "https://localhost:8080/"
        },
        "id": "R-e4NH7rCeX9",
        "outputId": "bd3300be-e3d3-4c8d-f3f8-369cf225b474"
      },
      "execution_count": null,
      "outputs": [
        {
          "output_type": "stream",
          "name": "stdout",
          "text": [
            "Filtering raw data in 1 contiguous segment\n",
            "Setting up high-pass filter at 1 Hz\n",
            "\n",
            "FIR filter parameters\n",
            "---------------------\n",
            "Designing a one-pass, zero-phase, non-causal highpass filter:\n",
            "- Windowed time-domain design (firwin) method\n",
            "- Hamming window with 0.0194 passband ripple and 53 dB stopband attenuation\n",
            "- Lower passband edge: 1.00\n",
            "- Lower transition bandwidth: 1.00 Hz (-6 dB cutoff frequency: 0.50 Hz)\n",
            "- Filter length: 331 samples (3.310 sec)\n",
            "\n",
            "Fitting ICA to data using 10 channels (please be patient, this may take a while)\n",
            "Selecting by number: 10 components\n"
          ]
        },
        {
          "output_type": "stream",
          "name": "stderr",
          "text": [
            "<ipython-input-11-9e9bb564ee4f>:32: RuntimeWarning: The epochs you passed to ICA.fit() were baseline-corrected. However, we suggest to fit ICA only on data that has been high-pass filtered, but NOT baseline-corrected.\n",
            "  ica.fit(epochs)\n"
          ]
        },
        {
          "output_type": "stream",
          "name": "stdout",
          "text": [
            "Fitting ICA took 2.2s.\n",
            "Filtering raw data in 1 contiguous segment\n",
            "Setting up high-pass filter at 1 Hz\n",
            "\n",
            "FIR filter parameters\n",
            "---------------------\n",
            "Designing a one-pass, zero-phase, non-causal highpass filter:\n",
            "- Windowed time-domain design (firwin) method\n",
            "- Hamming window with 0.0194 passband ripple and 53 dB stopband attenuation\n",
            "- Lower passband edge: 1.00\n",
            "- Lower transition bandwidth: 1.00 Hz (-6 dB cutoff frequency: 0.50 Hz)\n",
            "- Filter length: 331 samples (3.310 sec)\n",
            "\n",
            "Fitting ICA to data using 10 channels (please be patient, this may take a while)\n",
            "Selecting by number: 10 components\n"
          ]
        },
        {
          "output_type": "stream",
          "name": "stderr",
          "text": [
            "<ipython-input-11-9e9bb564ee4f>:32: RuntimeWarning: The epochs you passed to ICA.fit() were baseline-corrected. However, we suggest to fit ICA only on data that has been high-pass filtered, but NOT baseline-corrected.\n",
            "  ica.fit(epochs)\n"
          ]
        },
        {
          "output_type": "stream",
          "name": "stdout",
          "text": [
            "Fitting ICA took 0.7s.\n",
            "Filtering raw data in 1 contiguous segment\n",
            "Setting up high-pass filter at 1 Hz\n",
            "\n",
            "FIR filter parameters\n",
            "---------------------\n",
            "Designing a one-pass, zero-phase, non-causal highpass filter:\n",
            "- Windowed time-domain design (firwin) method\n",
            "- Hamming window with 0.0194 passband ripple and 53 dB stopband attenuation\n",
            "- Lower passband edge: 1.00\n",
            "- Lower transition bandwidth: 1.00 Hz (-6 dB cutoff frequency: 0.50 Hz)\n",
            "- Filter length: 331 samples (3.310 sec)\n",
            "\n",
            "Fitting ICA to data using 10 channels (please be patient, this may take a while)\n",
            "Selecting by number: 10 components\n"
          ]
        },
        {
          "output_type": "stream",
          "name": "stderr",
          "text": [
            "<ipython-input-11-9e9bb564ee4f>:32: RuntimeWarning: The epochs you passed to ICA.fit() were baseline-corrected. However, we suggest to fit ICA only on data that has been high-pass filtered, but NOT baseline-corrected.\n",
            "  ica.fit(epochs)\n"
          ]
        },
        {
          "output_type": "stream",
          "name": "stdout",
          "text": [
            "Fitting ICA took 0.3s.\n"
          ]
        }
      ]
    },
    {
      "cell_type": "markdown",
      "source": [
        "LDA"
      ],
      "metadata": {
        "id": "iwAAHP0VdRgo"
      }
    },
    {
      "cell_type": "code",
      "source": [
        "clf_lda, cm_lda = lda_101(train_X, test_X, train_y, test_y) \n",
        "lda_models.append(clf_lda)\n",
        "vis_confusion_matrix(cm_lda)"
      ],
      "metadata": {
        "colab": {
          "base_uri": "https://localhost:8080/",
          "height": 388
        },
        "id": "lcQcVOXq5Hge",
        "outputId": "8b820e21-35f5-4edb-cf68-74b0681ff99e"
      },
      "execution_count": null,
      "outputs": [
        {
          "output_type": "stream",
          "name": "stdout",
          "text": [
            "[[ 66  34]\n",
            " [ 70 110]]\n",
            "Accuracy0.6285714285714286\n"
          ]
        },
        {
          "output_type": "display_data",
          "data": {
            "text/plain": [
              "<Figure size 432x288 with 2 Axes>"
            ],
            "image/png": "[encoded data removed]"
          },
          "metadata": {
            "needs_background": "light"
          }
        }
      ]
    },
    {
      "cell_type": "markdown",
      "source": [
        "CNN"
      ],
      "metadata": {
        "id": "MNuikQ8RdSX6"
      }
    },
    {
      "cell_type": "code",
      "source": [
        "cnn_model, cnn_train, test_eval, cm_cnn = cnn_101(train_X, \n",
        "                                                  test_X, \n",
        "                                                  train_y, \n",
        "                                                  test_y)\n",
        "\n",
        "cnn_models.append(cnn_model)"
      ],
      "metadata": {
        "colab": {
          "base_uri": "https://localhost:8080/",
          "height": 375
        },
        "id": "8ANiLocaCXAM",
        "outputId": "a6f79ce7-fbcc-495c-cf57-c1c3e4b093fa"
      },
      "execution_count": null,
      "outputs": [
        {
          "output_type": "error",
          "ename": "KeyboardInterrupt",
          "evalue": "ignored",
          "traceback": [
            "\u001b[0;31m---------------------------------------------------------------------------\u001b[0m",
            "\u001b[0;31mKeyboardInterrupt\u001b[0m                         Traceback (most recent call last)",
            "\u001b[0;32m<ipython-input-24-e2e6c20c19a6>\u001b[0m in \u001b[0;36m<module>\u001b[0;34m()\u001b[0m\n\u001b[1;32m      4\u001b[0m                                                   \u001b[0mtest_y\u001b[0m\u001b[0;34m,\u001b[0m\u001b[0;34m\u001b[0m\u001b[0;34m\u001b[0m\u001b[0m\n\u001b[1;32m      5\u001b[0m                                                   \u001b[0mbatch_size\u001b[0m \u001b[0;34m=\u001b[0m \u001b[0;36m32\u001b[0m\u001b[0;34m,\u001b[0m\u001b[0;34m\u001b[0m\u001b[0;34m\u001b[0m\u001b[0m\n\u001b[0;32m----> 6\u001b[0;31m                                                   epochs = 50)\n\u001b[0m\u001b[1;32m      7\u001b[0m \u001b[0;34m\u001b[0m\u001b[0m\n\u001b[1;32m      8\u001b[0m \u001b[0mcnn_models\u001b[0m\u001b[0;34m.\u001b[0m\u001b[0mappend\u001b[0m\u001b[0;34m(\u001b[0m\u001b[0mcnn_model\u001b[0m\u001b[0;34m)\u001b[0m\u001b[0;34m\u001b[0m\u001b[0;34m\u001b[0m\u001b[0m\n",
            "\u001b[0;32m<ipython-input-14-f91fc019b73b>\u001b[0m in \u001b[0;36mcnn_101\u001b[0;34m(train_X, test_X, train_y, test_y, batch_size, epochs)\u001b[0m\n\u001b[1;32m     59\u001b[0m                           \u001b[0mvalidation_data\u001b[0m\u001b[0;34m=\u001b[0m\u001b[0;34m(\u001b[0m\u001b[0mvalid_X\u001b[0m\u001b[0;34m,\u001b[0m \u001b[0mvalid_label_categorical\u001b[0m\u001b[0;34m)\u001b[0m\u001b[0;34m,\u001b[0m\u001b[0;34m\u001b[0m\u001b[0;34m\u001b[0m\u001b[0m\n\u001b[1;32m     60\u001b[0m                           \u001b[0mcallbacks\u001b[0m\u001b[0;34m=\u001b[0m\u001b[0;34m[\u001b[0m\u001b[0mcheckpointer\u001b[0m\u001b[0;34m]\u001b[0m\u001b[0;34m,\u001b[0m\u001b[0;34m\u001b[0m\u001b[0;34m\u001b[0m\u001b[0m\n\u001b[0;32m---> 61\u001b[0;31m                           \u001b[0mclass_weight\u001b[0m \u001b[0;34m=\u001b[0m \u001b[0md_class_weights\u001b[0m\u001b[0;34m\u001b[0m\u001b[0;34m\u001b[0m\u001b[0m\n\u001b[0m\u001b[1;32m     62\u001b[0m                           )\n\u001b[1;32m     63\u001b[0m \u001b[0;34m\u001b[0m\u001b[0m\n",
            "\u001b[0;32m/usr/local/lib/python3.7/dist-packages/keras/utils/traceback_utils.py\u001b[0m in \u001b[0;36merror_handler\u001b[0;34m(*args, **kwargs)\u001b[0m\n\u001b[1;32m     62\u001b[0m     \u001b[0mfiltered_tb\u001b[0m \u001b[0;34m=\u001b[0m \u001b[0;32mNone\u001b[0m\u001b[0;34m\u001b[0m\u001b[0;34m\u001b[0m\u001b[0m\n\u001b[1;32m     63\u001b[0m     \u001b[0;32mtry\u001b[0m\u001b[0;34m:\u001b[0m\u001b[0;34m\u001b[0m\u001b[0;34m\u001b[0m\u001b[0m\n\u001b[0;32m---> 64\u001b[0;31m       \u001b[0;32mreturn\u001b[0m \u001b[0mfn\u001b[0m\u001b[0;34m(\u001b[0m\u001b[0;34m*\u001b[0m\u001b[0margs\u001b[0m\u001b[0;34m,\u001b[0m \u001b[0;34m**\u001b[0m\u001b[0mkwargs\u001b[0m\u001b[0;34m)\u001b[0m\u001b[0;34m\u001b[0m\u001b[0;34m\u001b[0m\u001b[0m\n\u001b[0m\u001b[1;32m     65\u001b[0m     \u001b[0;32mexcept\u001b[0m \u001b[0mException\u001b[0m \u001b[0;32mas\u001b[0m \u001b[0me\u001b[0m\u001b[0;34m:\u001b[0m  \u001b[0;31m# pylint: disable=broad-except\u001b[0m\u001b[0;34m\u001b[0m\u001b[0;34m\u001b[0m\u001b[0m\n\u001b[1;32m     66\u001b[0m       \u001b[0mfiltered_tb\u001b[0m \u001b[0;34m=\u001b[0m \u001b[0m_process_traceback_frames\u001b[0m\u001b[0;34m(\u001b[0m\u001b[0me\u001b[0m\u001b[0;34m.\u001b[0m\u001b[0m__traceback__\u001b[0m\u001b[0;34m)\u001b[0m\u001b[0;34m\u001b[0m\u001b[0;34m\u001b[0m\u001b[0m\n",
            "\u001b[0;32m/usr/local/lib/python3.7/dist-packages/keras/engine/training.py\u001b[0m in \u001b[0;36mfit\u001b[0;34m(self, x, y, batch_size, epochs, verbose, callbacks, validation_split, validation_data, shuffle, class_weight, sample_weight, initial_epoch, steps_per_epoch, validation_steps, validation_batch_size, validation_freq, max_queue_size, workers, use_multiprocessing)\u001b[0m\n\u001b[1;32m   1382\u001b[0m                 _r=1):\n\u001b[1;32m   1383\u001b[0m               \u001b[0mcallbacks\u001b[0m\u001b[0;34m.\u001b[0m\u001b[0mon_train_batch_begin\u001b[0m\u001b[0;34m(\u001b[0m\u001b[0mstep\u001b[0m\u001b[0;34m)\u001b[0m\u001b[0;34m\u001b[0m\u001b[0;34m\u001b[0m\u001b[0m\n\u001b[0;32m-> 1384\u001b[0;31m               \u001b[0mtmp_logs\u001b[0m \u001b[0;34m=\u001b[0m \u001b[0mself\u001b[0m\u001b[0;34m.\u001b[0m\u001b[0mtrain_function\u001b[0m\u001b[0;34m(\u001b[0m\u001b[0miterator\u001b[0m\u001b[0;34m)\u001b[0m\u001b[0;34m\u001b[0m\u001b[0;34m\u001b[0m\u001b[0m\n\u001b[0m\u001b[1;32m   1385\u001b[0m               \u001b[0;32mif\u001b[0m \u001b[0mdata_handler\u001b[0m\u001b[0;34m.\u001b[0m\u001b[0mshould_sync\u001b[0m\u001b[0;34m:\u001b[0m\u001b[0;34m\u001b[0m\u001b[0;34m\u001b[0m\u001b[0m\n\u001b[1;32m   1386\u001b[0m                 \u001b[0mcontext\u001b[0m\u001b[0;34m.\u001b[0m\u001b[0masync_wait\u001b[0m\u001b[0;34m(\u001b[0m\u001b[0;34m)\u001b[0m\u001b[0;34m\u001b[0m\u001b[0;34m\u001b[0m\u001b[0m\n",
            "\u001b[0;32m/usr/local/lib/python3.7/dist-packages/tensorflow/python/util/traceback_utils.py\u001b[0m in \u001b[0;36merror_handler\u001b[0;34m(*args, **kwargs)\u001b[0m\n\u001b[1;32m    148\u001b[0m     \u001b[0mfiltered_tb\u001b[0m \u001b[0;34m=\u001b[0m \u001b[0;32mNone\u001b[0m\u001b[0;34m\u001b[0m\u001b[0;34m\u001b[0m\u001b[0m\n\u001b[1;32m    149\u001b[0m     \u001b[0;32mtry\u001b[0m\u001b[0;34m:\u001b[0m\u001b[0;34m\u001b[0m\u001b[0;34m\u001b[0m\u001b[0m\n\u001b[0;32m--> 150\u001b[0;31m       \u001b[0;32mreturn\u001b[0m \u001b[0mfn\u001b[0m\u001b[0;34m(\u001b[0m\u001b[0;34m*\u001b[0m\u001b[0margs\u001b[0m\u001b[0;34m,\u001b[0m \u001b[0;34m**\u001b[0m\u001b[0mkwargs\u001b[0m\u001b[0;34m)\u001b[0m\u001b[0;34m\u001b[0m\u001b[0;34m\u001b[0m\u001b[0m\n\u001b[0m\u001b[1;32m    151\u001b[0m     \u001b[0;32mexcept\u001b[0m \u001b[0mException\u001b[0m \u001b[0;32mas\u001b[0m \u001b[0me\u001b[0m\u001b[0;34m:\u001b[0m\u001b[0;34m\u001b[0m\u001b[0;34m\u001b[0m\u001b[0m\n\u001b[1;32m    152\u001b[0m       \u001b[0mfiltered_tb\u001b[0m \u001b[0;34m=\u001b[0m \u001b[0m_process_traceback_frames\u001b[0m\u001b[0;34m(\u001b[0m\u001b[0me\u001b[0m\u001b[0;34m.\u001b[0m\u001b[0m__traceback__\u001b[0m\u001b[0;34m)\u001b[0m\u001b[0;34m\u001b[0m\u001b[0;34m\u001b[0m\u001b[0m\n",
            "\u001b[0;32m/usr/local/lib/python3.7/dist-packages/tensorflow/python/eager/def_function.py\u001b[0m in \u001b[0;36m__call__\u001b[0;34m(self, *args, **kwds)\u001b[0m\n\u001b[1;32m    913\u001b[0m \u001b[0;34m\u001b[0m\u001b[0m\n\u001b[1;32m    914\u001b[0m       \u001b[0;32mwith\u001b[0m \u001b[0mOptionalXlaContext\u001b[0m\u001b[0;34m(\u001b[0m\u001b[0mself\u001b[0m\u001b[0;34m.\u001b[0m\u001b[0m_jit_compile\u001b[0m\u001b[0;34m)\u001b[0m\u001b[0;34m:\u001b[0m\u001b[0;34m\u001b[0m\u001b[0;34m\u001b[0m\u001b[0m\n\u001b[0;32m--> 915\u001b[0;31m         \u001b[0mresult\u001b[0m \u001b[0;34m=\u001b[0m \u001b[0mself\u001b[0m\u001b[0;34m.\u001b[0m\u001b[0m_call\u001b[0m\u001b[0;34m(\u001b[0m\u001b[0;34m*\u001b[0m\u001b[0margs\u001b[0m\u001b[0;34m,\u001b[0m \u001b[0;34m**\u001b[0m\u001b[0mkwds\u001b[0m\u001b[0;34m)\u001b[0m\u001b[0;34m\u001b[0m\u001b[0;34m\u001b[0m\u001b[0m\n\u001b[0m\u001b[1;32m    916\u001b[0m \u001b[0;34m\u001b[0m\u001b[0m\n\u001b[1;32m    917\u001b[0m       \u001b[0mnew_tracing_count\u001b[0m \u001b[0;34m=\u001b[0m \u001b[0mself\u001b[0m\u001b[0;34m.\u001b[0m\u001b[0mexperimental_get_tracing_count\u001b[0m\u001b[0;34m(\u001b[0m\u001b[0;34m)\u001b[0m\u001b[0;34m\u001b[0m\u001b[0;34m\u001b[0m\u001b[0m\n",
            "\u001b[0;32m/usr/local/lib/python3.7/dist-packages/tensorflow/python/eager/def_function.py\u001b[0m in \u001b[0;36m_call\u001b[0;34m(self, *args, **kwds)\u001b[0m\n\u001b[1;32m    978\u001b[0m         \u001b[0;31m# Lifting succeeded, so variables are initialized and we can run the\u001b[0m\u001b[0;34m\u001b[0m\u001b[0;34m\u001b[0m\u001b[0;34m\u001b[0m\u001b[0m\n\u001b[1;32m    979\u001b[0m         \u001b[0;31m# stateless function.\u001b[0m\u001b[0;34m\u001b[0m\u001b[0;34m\u001b[0m\u001b[0;34m\u001b[0m\u001b[0m\n\u001b[0;32m--> 980\u001b[0;31m         \u001b[0;32mreturn\u001b[0m \u001b[0mself\u001b[0m\u001b[0;34m.\u001b[0m\u001b[0m_stateless_fn\u001b[0m\u001b[0;34m(\u001b[0m\u001b[0;34m*\u001b[0m\u001b[0margs\u001b[0m\u001b[0;34m,\u001b[0m \u001b[0;34m**\u001b[0m\u001b[0mkwds\u001b[0m\u001b[0;34m)\u001b[0m\u001b[0;34m\u001b[0m\u001b[0;34m\u001b[0m\u001b[0m\n\u001b[0m\u001b[1;32m    981\u001b[0m     \u001b[0;32melse\u001b[0m\u001b[0;34m:\u001b[0m\u001b[0;34m\u001b[0m\u001b[0;34m\u001b[0m\u001b[0m\n\u001b[1;32m    982\u001b[0m       \u001b[0m_\u001b[0m\u001b[0;34m,\u001b[0m \u001b[0m_\u001b[0m\u001b[0;34m,\u001b[0m \u001b[0m_\u001b[0m\u001b[0;34m,\u001b[0m \u001b[0mfiltered_flat_args\u001b[0m \u001b[0;34m=\u001b[0m\u001b[0;31m \u001b[0m\u001b[0;31m\\\u001b[0m\u001b[0;34m\u001b[0m\u001b[0;34m\u001b[0m\u001b[0m\n",
            "\u001b[0;32m/usr/local/lib/python3.7/dist-packages/tensorflow/python/eager/function.py\u001b[0m in \u001b[0;36m__call__\u001b[0;34m(self, *args, **kwargs)\u001b[0m\n\u001b[1;32m   2955\u001b[0m        filtered_flat_args) = self._maybe_define_function(args, kwargs)\n\u001b[1;32m   2956\u001b[0m     return graph_function._call_flat(\n\u001b[0;32m-> 2957\u001b[0;31m         filtered_flat_args, captured_inputs=graph_function.captured_inputs)  # pylint: disable=protected-access\n\u001b[0m\u001b[1;32m   2958\u001b[0m \u001b[0;34m\u001b[0m\u001b[0m\n\u001b[1;32m   2959\u001b[0m   \u001b[0;34m@\u001b[0m\u001b[0mproperty\u001b[0m\u001b[0;34m\u001b[0m\u001b[0;34m\u001b[0m\u001b[0m\n",
            "\u001b[0;32m/usr/local/lib/python3.7/dist-packages/tensorflow/python/eager/function.py\u001b[0m in \u001b[0;36m_call_flat\u001b[0;34m(self, args, captured_inputs, cancellation_manager)\u001b[0m\n\u001b[1;32m   1852\u001b[0m       \u001b[0;31m# No tape is watching; skip to running the function.\u001b[0m\u001b[0;34m\u001b[0m\u001b[0;34m\u001b[0m\u001b[0;34m\u001b[0m\u001b[0m\n\u001b[1;32m   1853\u001b[0m       return self._build_call_outputs(self._inference_function.call(\n\u001b[0;32m-> 1854\u001b[0;31m           ctx, args, cancellation_manager=cancellation_manager))\n\u001b[0m\u001b[1;32m   1855\u001b[0m     forward_backward = self._select_forward_and_backward_functions(\n\u001b[1;32m   1856\u001b[0m         \u001b[0margs\u001b[0m\u001b[0;34m,\u001b[0m\u001b[0;34m\u001b[0m\u001b[0;34m\u001b[0m\u001b[0m\n",
            "\u001b[0;32m/usr/local/lib/python3.7/dist-packages/tensorflow/python/eager/function.py\u001b[0m in \u001b[0;36mcall\u001b[0;34m(self, ctx, args, cancellation_manager)\u001b[0m\n\u001b[1;32m    502\u001b[0m               \u001b[0minputs\u001b[0m\u001b[0;34m=\u001b[0m\u001b[0margs\u001b[0m\u001b[0;34m,\u001b[0m\u001b[0;34m\u001b[0m\u001b[0;34m\u001b[0m\u001b[0m\n\u001b[1;32m    503\u001b[0m               \u001b[0mattrs\u001b[0m\u001b[0;34m=\u001b[0m\u001b[0mattrs\u001b[0m\u001b[0;34m,\u001b[0m\u001b[0;34m\u001b[0m\u001b[0;34m\u001b[0m\u001b[0m\n\u001b[0;32m--> 504\u001b[0;31m               ctx=ctx)\n\u001b[0m\u001b[1;32m    505\u001b[0m         \u001b[0;32melse\u001b[0m\u001b[0;34m:\u001b[0m\u001b[0;34m\u001b[0m\u001b[0;34m\u001b[0m\u001b[0m\n\u001b[1;32m    506\u001b[0m           outputs = execute.execute_with_cancellation(\n",
            "\u001b[0;32m/usr/local/lib/python3.7/dist-packages/tensorflow/python/eager/execute.py\u001b[0m in \u001b[0;36mquick_execute\u001b[0;34m(op_name, num_outputs, inputs, attrs, ctx, name)\u001b[0m\n\u001b[1;32m     53\u001b[0m     \u001b[0mctx\u001b[0m\u001b[0;34m.\u001b[0m\u001b[0mensure_initialized\u001b[0m\u001b[0;34m(\u001b[0m\u001b[0;34m)\u001b[0m\u001b[0;34m\u001b[0m\u001b[0;34m\u001b[0m\u001b[0m\n\u001b[1;32m     54\u001b[0m     tensors = pywrap_tfe.TFE_Py_Execute(ctx._handle, device_name, op_name,\n\u001b[0;32m---> 55\u001b[0;31m                                         inputs, attrs, num_outputs)\n\u001b[0m\u001b[1;32m     56\u001b[0m   \u001b[0;32mexcept\u001b[0m \u001b[0mcore\u001b[0m\u001b[0;34m.\u001b[0m\u001b[0m_NotOkStatusException\u001b[0m \u001b[0;32mas\u001b[0m \u001b[0me\u001b[0m\u001b[0;34m:\u001b[0m\u001b[0;34m\u001b[0m\u001b[0;34m\u001b[0m\u001b[0m\n\u001b[1;32m     57\u001b[0m     \u001b[0;32mif\u001b[0m \u001b[0mname\u001b[0m \u001b[0;32mis\u001b[0m \u001b[0;32mnot\u001b[0m \u001b[0;32mNone\u001b[0m\u001b[0;34m:\u001b[0m\u001b[0;34m\u001b[0m\u001b[0;34m\u001b[0m\u001b[0m\n",
            "\u001b[0;31mKeyboardInterrupt\u001b[0m: "
          ]
        }
      ]
    },
    {
      "cell_type": "code",
      "source": [
        "cnn_model.save(\"cnn_model_1.h5py\")"
      ],
      "metadata": {
        "colab": {
          "base_uri": "https://localhost:8080/"
        },
        "id": "Q6U0YX5QVGEk",
        "outputId": "b2719f3a-7ba2-43b0-a803-876123d364f2"
      },
      "execution_count": null,
      "outputs": [
        {
          "output_type": "stream",
          "name": "stdout",
          "text": [
            "INFO:tensorflow:Assets written to: cnn_model_1.h5py/assets\n"
          ]
        }
      ]
    },
    {
      "cell_type": "code",
      "source": [
        "vis_confusion_matrix(cm_cnn)\n",
        "\n",
        "vis_acc_loss(cnn_train)"
      ],
      "metadata": {
        "colab": {
          "base_uri": "https://localhost:8080/",
          "height": 865
        },
        "id": "ChcOPVsxa5MD",
        "outputId": "22a578a0-4ea1-488e-8136-72e1ce5e3a75"
      },
      "execution_count": null,
      "outputs": [
        {
          "output_type": "display_data",
          "data": {
            "text/plain": [
              "<Figure size 432x288 with 2 Axes>"
            ],
            "image/png": "[encoded data removed]"
          },
          "metadata": {
            "needs_background": "light"
          }
        },
        {
          "output_type": "display_data",
          "data": {
            "text/plain": [
              "<Figure size 432x288 with 1 Axes>"
            ],
            "image/png": "[encoded data removed]"
          },
          "metadata": {
            "needs_background": "light"
          }
        },
        {
          "output_type": "display_data",
          "data": {
            "text/plain": [
              "<Figure size 432x288 with 1 Axes>"
            ],
            "image/png": "[encoded data removed]"
          },
          "metadata": {
            "needs_background": "light"
          }
        }
      ]
    },
    {
      "cell_type": "code",
      "source": [
        "print('Test loss:', test_eval[0])\n",
        "print('Test accuracy:', test_eval[1])"
      ],
      "metadata": {
        "colab": {
          "base_uri": "https://localhost:8080/"
        },
        "id": "0zWTo6sKhzj-",
        "outputId": "077cd702-d24a-4a90-f4a4-b5d164eff87a"
      },
      "execution_count": null,
      "outputs": [
        {
          "output_type": "stream",
          "name": "stdout",
          "text": [
            "Test loss: 1.1557427644729614\n",
            "Test accuracy: 0.6392857432365417\n"
          ]
        }
      ]
    },
    {
      "cell_type": "markdown",
      "source": [
        "## LDA & CNN | Subject 2"
      ],
      "metadata": {
        "id": "lP1mw6jBhl0O"
      }
    },
    {
      "cell_type": "code",
      "source": [
        "subject = 1\n",
        "\n",
        "train_X, test_X, train_y, test_y = get_train_test(active[subject], passive[subject], cue[subject])"
      ],
      "metadata": {
        "colab": {
          "base_uri": "https://localhost:8080/"
        },
        "id": "kdX2S40DkEa4",
        "outputId": "81d298a1-3893-4c1e-9a70-52507702135b"
      },
      "execution_count": null,
      "outputs": [
        {
          "output_type": "stream",
          "name": "stdout",
          "text": [
            "Filtering raw data in 1 contiguous segment\n",
            "Setting up high-pass filter at 1 Hz\n",
            "\n",
            "FIR filter parameters\n",
            "---------------------\n",
            "Designing a one-pass, zero-phase, non-causal highpass filter:\n",
            "- Windowed time-domain design (firwin) method\n",
            "- Hamming window with 0.0194 passband ripple and 53 dB stopband attenuation\n",
            "- Lower passband edge: 1.00\n",
            "- Lower transition bandwidth: 1.00 Hz (-6 dB cutoff frequency: 0.50 Hz)\n",
            "- Filter length: 331 samples (3.310 sec)\n",
            "\n",
            "Fitting ICA to data using 10 channels (please be patient, this may take a while)\n",
            "Selecting by number: 10 components\n",
            "Fitting ICA took 0.7s.\n",
            "Filtering raw data in 1 contiguous segment\n",
            "Setting up high-pass filter at 1 Hz\n",
            "\n",
            "FIR filter parameters\n",
            "---------------------\n",
            "Designing a one-pass, zero-phase, non-causal highpass filter:\n",
            "- Windowed time-domain design (firwin) method\n",
            "- Hamming window with 0.0194 passband ripple and 53 dB stopband attenuation\n",
            "- Lower passband edge: 1.00\n",
            "- Lower transition bandwidth: 1.00 Hz (-6 dB cutoff frequency: 0.50 Hz)\n",
            "- Filter length: 331 samples (3.310 sec)\n",
            "\n",
            "Fitting ICA to data using 10 channels (please be patient, this may take a while)\n",
            "Selecting by number: 10 components\n",
            "Fitting ICA took 0.4s.\n",
            "Filtering raw data in 1 contiguous segment\n",
            "Setting up high-pass filter at 1 Hz\n",
            "\n",
            "FIR filter parameters\n",
            "---------------------\n",
            "Designing a one-pass, zero-phase, non-causal highpass filter:\n",
            "- Windowed time-domain design (firwin) method\n",
            "- Hamming window with 0.0194 passband ripple and 53 dB stopband attenuation\n",
            "- Lower passband edge: 1.00\n",
            "- Lower transition bandwidth: 1.00 Hz (-6 dB cutoff frequency: 0.50 Hz)\n",
            "- Filter length: 331 samples (3.310 sec)\n",
            "\n",
            "Fitting ICA to data using 10 channels (please be patient, this may take a while)\n",
            "Selecting by number: 10 components\n",
            "Fitting ICA took 0.1s.\n"
          ]
        }
      ]
    },
    {
      "cell_type": "code",
      "source": [
        "test_X.shape"
      ],
      "metadata": {
        "colab": {
          "base_uri": "https://localhost:8080/"
        },
        "id": "tRf4-m5plLC_",
        "outputId": "081cb3b9-728a-47ec-adb8-53ab67792d8e"
      },
      "execution_count": null,
      "outputs": [
        {
          "output_type": "execute_result",
          "data": {
            "text/plain": [
              "(280, 10, 101)"
            ]
          },
          "metadata": {},
          "execution_count": 54
        }
      ]
    },
    {
      "cell_type": "code",
      "source": [
        "clf_lda, cm_lda = lda_101(train_X, test_X, train_y, test_y) \n",
        "lda_models.append(clf_lda)\n",
        "vis_confusion_matrix(cm_lda)"
      ],
      "metadata": {
        "colab": {
          "base_uri": "https://localhost:8080/",
          "height": 388
        },
        "id": "FvNkjnVAkFHo",
        "outputId": "805db1f6-4e65-4fa4-e9a6-c4815c1d29c3"
      },
      "execution_count": null,
      "outputs": [
        {
          "output_type": "stream",
          "name": "stdout",
          "text": [
            "[[51 49]\n",
            " [84 96]]\n",
            "Accuracy0.525\n"
          ]
        },
        {
          "output_type": "display_data",
          "data": {
            "text/plain": [
              "<Figure size 432x288 with 2 Axes>"
            ],
            "image/png": "[encoded data removed]"
          },
          "metadata": {
            "needs_background": "light"
          }
        }
      ]
    },
    {
      "cell_type": "code",
      "source": [
        "cnn_model, cnn_train, test_eval, cm_cnn = cnn_101(train_X, \n",
        "                                                  test_X, \n",
        "                                                  train_y, \n",
        "                                                  test_y)\n",
        "\n",
        "cnn_models.append(cnn_model)"
      ],
      "metadata": {
        "colab": {
          "base_uri": "https://localhost:8080/"
        },
        "id": "rkw7394XkH68",
        "outputId": "2f00281c-2b98-45d3-d28d-13c1cb8bedb9"
      },
      "execution_count": null,
      "outputs": [
        {
          "output_type": "stream",
          "name": "stdout",
          "text": [
            "Epoch 1/100\n"
          ]
        },
        {
          "output_type": "stream",
          "name": "stderr",
          "text": [
            "/usr/local/lib/python3.7/dist-packages/keras/optimizer_v2/gradient_descent.py:102: UserWarning: The `lr` argument is deprecated, use `learning_rate` instead.\n",
            "  super(SGD, self).__init__(name, **kwargs)\n"
          ]
        },
        {
          "output_type": "stream",
          "name": "stdout",
          "text": [
            "14/14 [==============================] - ETA: 0s - loss: 1.6112 - accuracy: 0.5764\n",
            "Epoch 1: val_loss improved from inf to 0.68928, saving model to /tmp/checkpoint.h5\n",
            "14/14 [==============================] - 28s 2s/step - loss: 1.6112 - accuracy: 0.5764 - val_loss: 0.6893 - val_accuracy: 0.6667\n",
            "Epoch 2/100\n",
            "14/14 [==============================] - ETA: 0s - loss: 0.7158 - accuracy: 0.6736\n",
            "Epoch 2: val_loss did not improve from 0.68928\n",
            "14/14 [==============================] - 27s 2s/step - loss: 0.7158 - accuracy: 0.6736 - val_loss: 0.6987 - val_accuracy: 0.3333\n",
            "Epoch 3/100\n",
            "14/14 [==============================] - ETA: 0s - loss: 0.5851 - accuracy: 0.7176\n",
            "Epoch 3: val_loss improved from 0.68928 to 0.68514, saving model to /tmp/checkpoint.h5\n",
            "14/14 [==============================] - 27s 2s/step - loss: 0.5851 - accuracy: 0.7176 - val_loss: 0.6851 - val_accuracy: 0.6667\n",
            "Epoch 4/100\n",
            "14/14 [==============================] - ETA: 0s - loss: 0.5618 - accuracy: 0.7176\n",
            "Epoch 4: val_loss did not improve from 0.68514\n",
            "14/14 [==============================] - 27s 2s/step - loss: 0.5618 - accuracy: 0.7176 - val_loss: 0.6975 - val_accuracy: 0.3333\n",
            "Epoch 5/100\n",
            "14/14 [==============================] - ETA: 0s - loss: 0.4513 - accuracy: 0.7847\n",
            "Epoch 5: val_loss did not improve from 0.68514\n",
            "14/14 [==============================] - 27s 2s/step - loss: 0.4513 - accuracy: 0.7847 - val_loss: 0.7062 - val_accuracy: 0.3333\n",
            "Epoch 6/100\n",
            "14/14 [==============================] - ETA: 0s - loss: 0.4360 - accuracy: 0.7847\n",
            "Epoch 6: val_loss did not improve from 0.68514\n",
            "14/14 [==============================] - 27s 2s/step - loss: 0.4360 - accuracy: 0.7847 - val_loss: 0.6920 - val_accuracy: 0.6296\n",
            "Epoch 7/100\n",
            "14/14 [==============================] - ETA: 0s - loss: 0.4296 - accuracy: 0.8056\n",
            "Epoch 7: val_loss did not improve from 0.68514\n",
            "14/14 [==============================] - 27s 2s/step - loss: 0.4296 - accuracy: 0.8056 - val_loss: 0.7222 - val_accuracy: 0.3333\n",
            "Epoch 8/100\n",
            "14/14 [==============================] - ETA: 0s - loss: 0.3428 - accuracy: 0.8380\n",
            "Epoch 8: val_loss did not improve from 0.68514\n",
            "14/14 [==============================] - 27s 2s/step - loss: 0.3428 - accuracy: 0.8380 - val_loss: 0.9305 - val_accuracy: 0.3333\n",
            "Epoch 9/100\n",
            "14/14 [==============================] - ETA: 0s - loss: 0.2901 - accuracy: 0.8773\n",
            "Epoch 9: val_loss did not improve from 0.68514\n",
            "14/14 [==============================] - 27s 2s/step - loss: 0.2901 - accuracy: 0.8773 - val_loss: 0.7418 - val_accuracy: 0.3333\n",
            "Epoch 10/100\n",
            "14/14 [==============================] - ETA: 0s - loss: 0.2723 - accuracy: 0.8819\n",
            "Epoch 10: val_loss improved from 0.68514 to 0.63679, saving model to /tmp/checkpoint.h5\n",
            "14/14 [==============================] - 27s 2s/step - loss: 0.2723 - accuracy: 0.8819 - val_loss: 0.6368 - val_accuracy: 0.6667\n",
            "Epoch 11/100\n",
            "14/14 [==============================] - ETA: 0s - loss: 0.2146 - accuracy: 0.9190\n",
            "Epoch 11: val_loss did not improve from 0.63679\n",
            "14/14 [==============================] - 27s 2s/step - loss: 0.2146 - accuracy: 0.9190 - val_loss: 0.6411 - val_accuracy: 0.6667\n",
            "Epoch 12/100\n",
            "14/14 [==============================] - ETA: 0s - loss: 0.1605 - accuracy: 0.9375\n",
            "Epoch 12: val_loss did not improve from 0.63679\n",
            "14/14 [==============================] - 27s 2s/step - loss: 0.1605 - accuracy: 0.9375 - val_loss: 0.6671 - val_accuracy: 0.6667\n",
            "Epoch 13/100\n",
            "14/14 [==============================] - ETA: 0s - loss: 0.1261 - accuracy: 0.9722\n",
            "Epoch 13: val_loss did not improve from 0.63679\n",
            "14/14 [==============================] - 27s 2s/step - loss: 0.1261 - accuracy: 0.9722 - val_loss: 0.6968 - val_accuracy: 0.6667\n",
            "Epoch 14/100\n",
            "14/14 [==============================] - ETA: 0s - loss: 0.1253 - accuracy: 0.9630\n",
            "Epoch 14: val_loss did not improve from 0.63679\n",
            "14/14 [==============================] - 27s 2s/step - loss: 0.1253 - accuracy: 0.9630 - val_loss: 0.8071 - val_accuracy: 0.6667\n",
            "Epoch 15/100\n",
            "14/14 [==============================] - ETA: 0s - loss: 0.0800 - accuracy: 0.9861\n",
            "Epoch 15: val_loss did not improve from 0.63679\n",
            "14/14 [==============================] - 27s 2s/step - loss: 0.0800 - accuracy: 0.9861 - val_loss: 0.8999 - val_accuracy: 0.6667\n",
            "Epoch 16/100\n",
            "14/14 [==============================] - ETA: 0s - loss: 0.0628 - accuracy: 0.9931\n",
            "Epoch 16: val_loss did not improve from 0.63679\n",
            "14/14 [==============================] - 27s 2s/step - loss: 0.0628 - accuracy: 0.9931 - val_loss: 0.8398 - val_accuracy: 0.6667\n",
            "Epoch 17/100\n",
            "14/14 [==============================] - ETA: 0s - loss: 0.0425 - accuracy: 1.0000\n",
            "Epoch 17: val_loss did not improve from 0.63679\n",
            "14/14 [==============================] - 27s 2s/step - loss: 0.0425 - accuracy: 1.0000 - val_loss: 1.0467 - val_accuracy: 0.6667\n",
            "Epoch 18/100\n",
            "14/14 [==============================] - ETA: 0s - loss: 0.0408 - accuracy: 1.0000\n",
            "Epoch 18: val_loss did not improve from 0.63679\n",
            "14/14 [==============================] - 27s 2s/step - loss: 0.0408 - accuracy: 1.0000 - val_loss: 0.9409 - val_accuracy: 0.6667\n",
            "Epoch 19/100\n",
            "14/14 [==============================] - ETA: 0s - loss: 0.0388 - accuracy: 0.9977\n",
            "Epoch 19: val_loss did not improve from 0.63679\n",
            "14/14 [==============================] - 27s 2s/step - loss: 0.0388 - accuracy: 0.9977 - val_loss: 1.1829 - val_accuracy: 0.6667\n",
            "Epoch 20/100\n",
            "14/14 [==============================] - ETA: 0s - loss: 0.0284 - accuracy: 1.0000\n",
            "Epoch 20: val_loss did not improve from 0.63679\n",
            "14/14 [==============================] - 27s 2s/step - loss: 0.0284 - accuracy: 1.0000 - val_loss: 1.2747 - val_accuracy: 0.6667\n",
            "Epoch 21/100\n",
            "14/14 [==============================] - ETA: 0s - loss: 0.0275 - accuracy: 1.0000\n",
            "Epoch 21: val_loss did not improve from 0.63679\n",
            "14/14 [==============================] - 27s 2s/step - loss: 0.0275 - accuracy: 1.0000 - val_loss: 1.4158 - val_accuracy: 0.6667\n",
            "Epoch 22/100\n",
            "14/14 [==============================] - ETA: 0s - loss: 0.0242 - accuracy: 1.0000\n",
            "Epoch 22: val_loss did not improve from 0.63679\n",
            "14/14 [==============================] - 27s 2s/step - loss: 0.0242 - accuracy: 1.0000 - val_loss: 1.4194 - val_accuracy: 0.6667\n",
            "Epoch 23/100\n",
            "14/14 [==============================] - ETA: 0s - loss: 0.0225 - accuracy: 1.0000\n",
            "Epoch 23: val_loss did not improve from 0.63679\n",
            "14/14 [==============================] - 27s 2s/step - loss: 0.0225 - accuracy: 1.0000 - val_loss: 1.5928 - val_accuracy: 0.6667\n",
            "Epoch 24/100\n",
            "14/14 [==============================] - ETA: 0s - loss: 0.0175 - accuracy: 1.0000\n",
            "Epoch 24: val_loss did not improve from 0.63679\n",
            "14/14 [==============================] - 27s 2s/step - loss: 0.0175 - accuracy: 1.0000 - val_loss: 1.5667 - val_accuracy: 0.6667\n",
            "Epoch 25/100\n",
            "14/14 [==============================] - ETA: 0s - loss: 0.0215 - accuracy: 0.9977\n",
            "Epoch 25: val_loss did not improve from 0.63679\n",
            "14/14 [==============================] - 27s 2s/step - loss: 0.0215 - accuracy: 0.9977 - val_loss: 1.8333 - val_accuracy: 0.6667\n",
            "Epoch 26/100\n",
            "14/14 [==============================] - ETA: 0s - loss: 0.0140 - accuracy: 1.0000\n",
            "Epoch 26: val_loss did not improve from 0.63679\n",
            "14/14 [==============================] - 27s 2s/step - loss: 0.0140 - accuracy: 1.0000 - val_loss: 1.8402 - val_accuracy: 0.6667\n",
            "Epoch 27/100\n",
            "14/14 [==============================] - ETA: 0s - loss: 0.0114 - accuracy: 1.0000\n",
            "Epoch 27: val_loss did not improve from 0.63679\n",
            "14/14 [==============================] - 27s 2s/step - loss: 0.0114 - accuracy: 1.0000 - val_loss: 1.9745 - val_accuracy: 0.6667\n",
            "Epoch 28/100\n",
            "14/14 [==============================] - ETA: 0s - loss: 0.0151 - accuracy: 1.0000\n",
            "Epoch 28: val_loss did not improve from 0.63679\n",
            "14/14 [==============================] - 27s 2s/step - loss: 0.0151 - accuracy: 1.0000 - val_loss: 2.0332 - val_accuracy: 0.6667\n",
            "Epoch 29/100\n",
            "14/14 [==============================] - ETA: 0s - loss: 0.0123 - accuracy: 1.0000\n",
            "Epoch 29: val_loss did not improve from 0.63679\n",
            "14/14 [==============================] - 27s 2s/step - loss: 0.0123 - accuracy: 1.0000 - val_loss: 2.2167 - val_accuracy: 0.6667\n",
            "Epoch 30/100\n",
            "14/14 [==============================] - ETA: 0s - loss: 0.0127 - accuracy: 1.0000\n",
            "Epoch 30: val_loss did not improve from 0.63679\n",
            "14/14 [==============================] - 27s 2s/step - loss: 0.0127 - accuracy: 1.0000 - val_loss: 2.3499 - val_accuracy: 0.6667\n",
            "Epoch 31/100\n",
            "14/14 [==============================] - ETA: 0s - loss: 0.0133 - accuracy: 1.0000\n",
            "Epoch 31: val_loss did not improve from 0.63679\n",
            "14/14 [==============================] - 27s 2s/step - loss: 0.0133 - accuracy: 1.0000 - val_loss: 2.3393 - val_accuracy: 0.6667\n",
            "Epoch 32/100\n",
            "14/14 [==============================] - ETA: 0s - loss: 0.0129 - accuracy: 1.0000\n",
            "Epoch 32: val_loss did not improve from 0.63679\n",
            "14/14 [==============================] - 27s 2s/step - loss: 0.0129 - accuracy: 1.0000 - val_loss: 2.3598 - val_accuracy: 0.6667\n",
            "Epoch 33/100\n",
            "14/14 [==============================] - ETA: 0s - loss: 0.0094 - accuracy: 1.0000\n",
            "Epoch 33: val_loss did not improve from 0.63679\n",
            "14/14 [==============================] - 27s 2s/step - loss: 0.0094 - accuracy: 1.0000 - val_loss: 2.2809 - val_accuracy: 0.6667\n",
            "Epoch 34/100\n",
            "14/14 [==============================] - ETA: 0s - loss: 0.0103 - accuracy: 1.0000\n",
            "Epoch 34: val_loss did not improve from 0.63679\n",
            "14/14 [==============================] - 27s 2s/step - loss: 0.0103 - accuracy: 1.0000 - val_loss: 2.3681 - val_accuracy: 0.6667\n",
            "Epoch 35/100\n",
            "14/14 [==============================] - ETA: 0s - loss: 0.0081 - accuracy: 1.0000\n",
            "Epoch 35: val_loss did not improve from 0.63679\n",
            "14/14 [==============================] - 27s 2s/step - loss: 0.0081 - accuracy: 1.0000 - val_loss: 2.4040 - val_accuracy: 0.6667\n",
            "Epoch 36/100\n",
            "14/14 [==============================] - ETA: 0s - loss: 0.0065 - accuracy: 1.0000\n",
            "Epoch 36: val_loss did not improve from 0.63679\n",
            "14/14 [==============================] - 27s 2s/step - loss: 0.0065 - accuracy: 1.0000 - val_loss: 2.4348 - val_accuracy: 0.6667\n",
            "Epoch 37/100\n",
            "14/14 [==============================] - ETA: 0s - loss: 0.0072 - accuracy: 1.0000\n",
            "Epoch 37: val_loss did not improve from 0.63679\n",
            "14/14 [==============================] - 27s 2s/step - loss: 0.0072 - accuracy: 1.0000 - val_loss: 2.3065 - val_accuracy: 0.6667\n",
            "Epoch 38/100\n",
            "14/14 [==============================] - ETA: 0s - loss: 0.0080 - accuracy: 1.0000\n",
            "Epoch 38: val_loss did not improve from 0.63679\n",
            "14/14 [==============================] - 27s 2s/step - loss: 0.0080 - accuracy: 1.0000 - val_loss: 2.4858 - val_accuracy: 0.6667\n",
            "Epoch 39/100\n",
            "14/14 [==============================] - ETA: 0s - loss: 0.0054 - accuracy: 1.0000\n",
            "Epoch 39: val_loss did not improve from 0.63679\n",
            "14/14 [==============================] - 27s 2s/step - loss: 0.0054 - accuracy: 1.0000 - val_loss: 2.4741 - val_accuracy: 0.6667\n",
            "Epoch 40/100\n",
            "14/14 [==============================] - ETA: 0s - loss: 0.0057 - accuracy: 1.0000\n",
            "Epoch 40: val_loss did not improve from 0.63679\n",
            "14/14 [==============================] - 27s 2s/step - loss: 0.0057 - accuracy: 1.0000 - val_loss: 2.4566 - val_accuracy: 0.6759\n",
            "Epoch 41/100\n",
            "14/14 [==============================] - ETA: 0s - loss: 0.0059 - accuracy: 1.0000\n",
            "Epoch 41: val_loss did not improve from 0.63679\n",
            "14/14 [==============================] - 27s 2s/step - loss: 0.0059 - accuracy: 1.0000 - val_loss: 2.4415 - val_accuracy: 0.6759\n",
            "Epoch 42/100\n",
            "14/14 [==============================] - ETA: 0s - loss: 0.0049 - accuracy: 1.0000\n",
            "Epoch 42: val_loss did not improve from 0.63679\n",
            "14/14 [==============================] - 27s 2s/step - loss: 0.0049 - accuracy: 1.0000 - val_loss: 2.3210 - val_accuracy: 0.6759\n",
            "Epoch 43/100\n",
            "14/14 [==============================] - ETA: 0s - loss: 0.0065 - accuracy: 1.0000\n",
            "Epoch 43: val_loss did not improve from 0.63679\n",
            "14/14 [==============================] - 27s 2s/step - loss: 0.0065 - accuracy: 1.0000 - val_loss: 2.3984 - val_accuracy: 0.6852\n",
            "Epoch 44/100\n",
            "14/14 [==============================] - ETA: 0s - loss: 0.0058 - accuracy: 1.0000\n",
            "Epoch 44: val_loss did not improve from 0.63679\n",
            "14/14 [==============================] - 27s 2s/step - loss: 0.0058 - accuracy: 1.0000 - val_loss: 2.1067 - val_accuracy: 0.6944\n",
            "Epoch 45/100\n",
            "14/14 [==============================] - ETA: 0s - loss: 0.0066 - accuracy: 1.0000\n",
            "Epoch 45: val_loss did not improve from 0.63679\n",
            "14/14 [==============================] - 27s 2s/step - loss: 0.0066 - accuracy: 1.0000 - val_loss: 2.0119 - val_accuracy: 0.6944\n",
            "Epoch 46/100\n",
            "14/14 [==============================] - ETA: 0s - loss: 0.0054 - accuracy: 1.0000\n",
            "Epoch 46: val_loss did not improve from 0.63679\n",
            "14/14 [==============================] - 27s 2s/step - loss: 0.0054 - accuracy: 1.0000 - val_loss: 1.8712 - val_accuracy: 0.6944\n",
            "Epoch 47/100\n",
            "14/14 [==============================] - ETA: 0s - loss: 0.0067 - accuracy: 1.0000\n",
            "Epoch 47: val_loss did not improve from 0.63679\n",
            "14/14 [==============================] - 27s 2s/step - loss: 0.0067 - accuracy: 1.0000 - val_loss: 1.8367 - val_accuracy: 0.6759\n",
            "Epoch 48/100\n",
            "14/14 [==============================] - ETA: 0s - loss: 0.0043 - accuracy: 1.0000\n",
            "Epoch 48: val_loss did not improve from 0.63679\n",
            "14/14 [==============================] - 27s 2s/step - loss: 0.0043 - accuracy: 1.0000 - val_loss: 1.7648 - val_accuracy: 0.6667\n",
            "Epoch 49/100\n",
            "14/14 [==============================] - ETA: 0s - loss: 0.0047 - accuracy: 1.0000\n",
            "Epoch 49: val_loss did not improve from 0.63679\n",
            "14/14 [==============================] - 27s 2s/step - loss: 0.0047 - accuracy: 1.0000 - val_loss: 1.6103 - val_accuracy: 0.6852\n",
            "Epoch 50/100\n",
            "14/14 [==============================] - ETA: 0s - loss: 0.0038 - accuracy: 1.0000\n",
            "Epoch 50: val_loss did not improve from 0.63679\n",
            "14/14 [==============================] - 27s 2s/step - loss: 0.0038 - accuracy: 1.0000 - val_loss: 1.5458 - val_accuracy: 0.6852\n",
            "Epoch 51/100\n",
            "14/14 [==============================] - ETA: 0s - loss: 0.0036 - accuracy: 1.0000\n",
            "Epoch 51: val_loss did not improve from 0.63679\n",
            "14/14 [==============================] - 27s 2s/step - loss: 0.0036 - accuracy: 1.0000 - val_loss: 1.4875 - val_accuracy: 0.6759\n",
            "Epoch 52/100\n",
            "14/14 [==============================] - ETA: 0s - loss: 0.0042 - accuracy: 1.0000\n",
            "Epoch 52: val_loss did not improve from 0.63679\n",
            "14/14 [==============================] - 27s 2s/step - loss: 0.0042 - accuracy: 1.0000 - val_loss: 1.3974 - val_accuracy: 0.6759\n",
            "Epoch 53/100\n",
            "14/14 [==============================] - ETA: 0s - loss: 0.0032 - accuracy: 1.0000\n",
            "Epoch 53: val_loss did not improve from 0.63679\n",
            "14/14 [==============================] - 27s 2s/step - loss: 0.0032 - accuracy: 1.0000 - val_loss: 1.3458 - val_accuracy: 0.6852\n",
            "Epoch 54/100\n",
            "14/14 [==============================] - ETA: 0s - loss: 0.0039 - accuracy: 1.0000\n",
            "Epoch 54: val_loss did not improve from 0.63679\n",
            "14/14 [==============================] - 27s 2s/step - loss: 0.0039 - accuracy: 1.0000 - val_loss: 1.3080 - val_accuracy: 0.6852\n",
            "Epoch 55/100\n",
            "14/14 [==============================] - ETA: 0s - loss: 0.0038 - accuracy: 1.0000\n",
            "Epoch 55: val_loss did not improve from 0.63679\n",
            "14/14 [==============================] - 27s 2s/step - loss: 0.0038 - accuracy: 1.0000 - val_loss: 1.2554 - val_accuracy: 0.6944\n",
            "Epoch 56/100\n",
            "14/14 [==============================] - ETA: 0s - loss: 0.0033 - accuracy: 1.0000\n",
            "Epoch 56: val_loss did not improve from 0.63679\n",
            "14/14 [==============================] - 27s 2s/step - loss: 0.0033 - accuracy: 1.0000 - val_loss: 1.2669 - val_accuracy: 0.6759\n",
            "Epoch 57/100\n",
            "14/14 [==============================] - ETA: 0s - loss: 0.0030 - accuracy: 1.0000\n",
            "Epoch 57: val_loss did not improve from 0.63679\n",
            "14/14 [==============================] - 27s 2s/step - loss: 0.0030 - accuracy: 1.0000 - val_loss: 1.2449 - val_accuracy: 0.6852\n",
            "Epoch 58/100\n",
            "14/14 [==============================] - ETA: 0s - loss: 0.0025 - accuracy: 1.0000\n",
            "Epoch 58: val_loss did not improve from 0.63679\n",
            "14/14 [==============================] - 27s 2s/step - loss: 0.0025 - accuracy: 1.0000 - val_loss: 1.2292 - val_accuracy: 0.6759\n",
            "Epoch 59/100\n",
            "14/14 [==============================] - ETA: 0s - loss: 0.0041 - accuracy: 1.0000\n",
            "Epoch 59: val_loss did not improve from 0.63679\n",
            "14/14 [==============================] - 27s 2s/step - loss: 0.0041 - accuracy: 1.0000 - val_loss: 1.2271 - val_accuracy: 0.6852\n",
            "Epoch 60/100\n",
            "14/14 [==============================] - ETA: 0s - loss: 0.0033 - accuracy: 1.0000\n",
            "Epoch 60: val_loss did not improve from 0.63679\n",
            "14/14 [==============================] - 27s 2s/step - loss: 0.0033 - accuracy: 1.0000 - val_loss: 1.2233 - val_accuracy: 0.6852\n",
            "Epoch 61/100\n",
            "14/14 [==============================] - ETA: 0s - loss: 0.0048 - accuracy: 1.0000\n",
            "Epoch 61: val_loss did not improve from 0.63679\n",
            "14/14 [==============================] - 27s 2s/step - loss: 0.0048 - accuracy: 1.0000 - val_loss: 1.2577 - val_accuracy: 0.6759\n",
            "Epoch 62/100\n",
            "14/14 [==============================] - ETA: 0s - loss: 0.0050 - accuracy: 1.0000\n",
            "Epoch 62: val_loss did not improve from 0.63679\n",
            "14/14 [==============================] - 27s 2s/step - loss: 0.0050 - accuracy: 1.0000 - val_loss: 1.2619 - val_accuracy: 0.6667\n",
            "Epoch 63/100\n",
            "14/14 [==============================] - ETA: 0s - loss: 0.0031 - accuracy: 1.0000\n",
            "Epoch 63: val_loss did not improve from 0.63679\n",
            "14/14 [==============================] - 27s 2s/step - loss: 0.0031 - accuracy: 1.0000 - val_loss: 1.2456 - val_accuracy: 0.6852\n",
            "Epoch 64/100\n",
            "14/14 [==============================] - ETA: 0s - loss: 0.0034 - accuracy: 1.0000\n",
            "Epoch 64: val_loss did not improve from 0.63679\n",
            "14/14 [==============================] - 27s 2s/step - loss: 0.0034 - accuracy: 1.0000 - val_loss: 1.2200 - val_accuracy: 0.7315\n",
            "Epoch 65/100\n",
            "14/14 [==============================] - ETA: 0s - loss: 0.0034 - accuracy: 1.0000\n",
            "Epoch 65: val_loss did not improve from 0.63679\n",
            "14/14 [==============================] - 27s 2s/step - loss: 0.0034 - accuracy: 1.0000 - val_loss: 1.2172 - val_accuracy: 0.7130\n",
            "Epoch 66/100\n",
            "14/14 [==============================] - ETA: 0s - loss: 0.0027 - accuracy: 1.0000\n",
            "Epoch 66: val_loss did not improve from 0.63679\n",
            "14/14 [==============================] - 27s 2s/step - loss: 0.0027 - accuracy: 1.0000 - val_loss: 1.2211 - val_accuracy: 0.7315\n",
            "Epoch 67/100\n",
            "14/14 [==============================] - ETA: 0s - loss: 0.0029 - accuracy: 1.0000\n",
            "Epoch 67: val_loss did not improve from 0.63679\n",
            "14/14 [==============================] - 27s 2s/step - loss: 0.0029 - accuracy: 1.0000 - val_loss: 1.2202 - val_accuracy: 0.7315\n",
            "Epoch 68/100\n",
            "14/14 [==============================] - ETA: 0s - loss: 0.0029 - accuracy: 1.0000\n",
            "Epoch 68: val_loss did not improve from 0.63679\n",
            "14/14 [==============================] - 27s 2s/step - loss: 0.0029 - accuracy: 1.0000 - val_loss: 1.2224 - val_accuracy: 0.7315\n",
            "Epoch 69/100\n",
            "14/14 [==============================] - ETA: 0s - loss: 0.0026 - accuracy: 1.0000\n",
            "Epoch 69: val_loss did not improve from 0.63679\n",
            "14/14 [==============================] - 27s 2s/step - loss: 0.0026 - accuracy: 1.0000 - val_loss: 1.2291 - val_accuracy: 0.7130\n",
            "Epoch 70/100\n",
            "14/14 [==============================] - ETA: 0s - loss: 0.0034 - accuracy: 1.0000\n",
            "Epoch 70: val_loss did not improve from 0.63679\n",
            "14/14 [==============================] - 27s 2s/step - loss: 0.0034 - accuracy: 1.0000 - val_loss: 1.2102 - val_accuracy: 0.7407\n",
            "Epoch 71/100\n",
            "14/14 [==============================] - ETA: 0s - loss: 0.0024 - accuracy: 1.0000\n",
            "Epoch 71: val_loss did not improve from 0.63679\n",
            "14/14 [==============================] - 27s 2s/step - loss: 0.0024 - accuracy: 1.0000 - val_loss: 1.2272 - val_accuracy: 0.7130\n",
            "Epoch 72/100\n",
            "14/14 [==============================] - ETA: 0s - loss: 0.0040 - accuracy: 1.0000\n",
            "Epoch 72: val_loss did not improve from 0.63679\n",
            "14/14 [==============================] - 27s 2s/step - loss: 0.0040 - accuracy: 1.0000 - val_loss: 1.2734 - val_accuracy: 0.6574\n",
            "Epoch 73/100\n",
            "14/14 [==============================] - ETA: 0s - loss: 0.0024 - accuracy: 1.0000\n",
            "Epoch 73: val_loss did not improve from 0.63679\n",
            "14/14 [==============================] - 27s 2s/step - loss: 0.0024 - accuracy: 1.0000 - val_loss: 1.2543 - val_accuracy: 0.6944\n",
            "Epoch 74/100\n",
            "14/14 [==============================] - ETA: 0s - loss: 0.0026 - accuracy: 1.0000\n",
            "Epoch 74: val_loss did not improve from 0.63679\n",
            "14/14 [==============================] - 27s 2s/step - loss: 0.0026 - accuracy: 1.0000 - val_loss: 1.2485 - val_accuracy: 0.7130\n",
            "Epoch 75/100\n",
            "14/14 [==============================] - ETA: 0s - loss: 0.0022 - accuracy: 1.0000\n",
            "Epoch 75: val_loss did not improve from 0.63679\n",
            "14/14 [==============================] - 27s 2s/step - loss: 0.0022 - accuracy: 1.0000 - val_loss: 1.2426 - val_accuracy: 0.7222\n",
            "Epoch 76/100\n",
            "14/14 [==============================] - ETA: 0s - loss: 0.0025 - accuracy: 1.0000\n",
            "Epoch 76: val_loss did not improve from 0.63679\n",
            "14/14 [==============================] - 27s 2s/step - loss: 0.0025 - accuracy: 1.0000 - val_loss: 1.2244 - val_accuracy: 0.7130\n",
            "Epoch 77/100\n",
            "14/14 [==============================] - ETA: 0s - loss: 0.0030 - accuracy: 1.0000\n",
            "Epoch 77: val_loss did not improve from 0.63679\n",
            "14/14 [==============================] - 27s 2s/step - loss: 0.0030 - accuracy: 1.0000 - val_loss: 1.2569 - val_accuracy: 0.7037\n",
            "Epoch 78/100\n",
            "14/14 [==============================] - ETA: 0s - loss: 0.0024 - accuracy: 1.0000\n",
            "Epoch 78: val_loss did not improve from 0.63679\n",
            "14/14 [==============================] - 27s 2s/step - loss: 0.0024 - accuracy: 1.0000 - val_loss: 1.2237 - val_accuracy: 0.7130\n",
            "Epoch 79/100\n",
            "14/14 [==============================] - ETA: 0s - loss: 0.0026 - accuracy: 1.0000\n",
            "Epoch 79: val_loss did not improve from 0.63679\n",
            "14/14 [==============================] - 27s 2s/step - loss: 0.0026 - accuracy: 1.0000 - val_loss: 1.2357 - val_accuracy: 0.7130\n",
            "Epoch 80/100\n",
            "14/14 [==============================] - ETA: 0s - loss: 0.0026 - accuracy: 1.0000\n",
            "Epoch 80: val_loss did not improve from 0.63679\n",
            "14/14 [==============================] - 27s 2s/step - loss: 0.0026 - accuracy: 1.0000 - val_loss: 1.2287 - val_accuracy: 0.7037\n",
            "Epoch 81/100\n",
            "14/14 [==============================] - ETA: 0s - loss: 0.0018 - accuracy: 1.0000\n",
            "Epoch 81: val_loss did not improve from 0.63679\n",
            "14/14 [==============================] - 27s 2s/step - loss: 0.0018 - accuracy: 1.0000 - val_loss: 1.2369 - val_accuracy: 0.7037\n",
            "Epoch 82/100\n",
            "14/14 [==============================] - ETA: 0s - loss: 0.0018 - accuracy: 1.0000\n",
            "Epoch 82: val_loss did not improve from 0.63679\n",
            "14/14 [==============================] - 27s 2s/step - loss: 0.0018 - accuracy: 1.0000 - val_loss: 1.2531 - val_accuracy: 0.7130\n",
            "Epoch 83/100\n",
            "14/14 [==============================] - ETA: 0s - loss: 0.0020 - accuracy: 1.0000\n",
            "Epoch 83: val_loss did not improve from 0.63679\n",
            "14/14 [==============================] - 27s 2s/step - loss: 0.0020 - accuracy: 1.0000 - val_loss: 1.2646 - val_accuracy: 0.7130\n",
            "Epoch 84/100\n",
            "14/14 [==============================] - ETA: 0s - loss: 0.0019 - accuracy: 1.0000\n",
            "Epoch 84: val_loss did not improve from 0.63679\n",
            "14/14 [==============================] - 27s 2s/step - loss: 0.0019 - accuracy: 1.0000 - val_loss: 1.2852 - val_accuracy: 0.7130\n",
            "Epoch 85/100\n",
            "14/14 [==============================] - ETA: 0s - loss: 0.0022 - accuracy: 1.0000\n",
            "Epoch 85: val_loss did not improve from 0.63679\n",
            "14/14 [==============================] - 27s 2s/step - loss: 0.0022 - accuracy: 1.0000 - val_loss: 1.2806 - val_accuracy: 0.7130\n",
            "Epoch 86/100\n",
            "14/14 [==============================] - ETA: 0s - loss: 0.0016 - accuracy: 1.0000\n",
            "Epoch 86: val_loss did not improve from 0.63679\n",
            "14/14 [==============================] - 27s 2s/step - loss: 0.0016 - accuracy: 1.0000 - val_loss: 1.2856 - val_accuracy: 0.7037\n",
            "Epoch 87/100\n",
            "14/14 [==============================] - ETA: 0s - loss: 0.0013 - accuracy: 1.0000\n",
            "Epoch 87: val_loss did not improve from 0.63679\n",
            "14/14 [==============================] - 27s 2s/step - loss: 0.0013 - accuracy: 1.0000 - val_loss: 1.2887 - val_accuracy: 0.7037\n",
            "Epoch 88/100\n",
            "14/14 [==============================] - ETA: 0s - loss: 0.0025 - accuracy: 1.0000\n",
            "Epoch 88: val_loss did not improve from 0.63679\n",
            "14/14 [==============================] - 27s 2s/step - loss: 0.0025 - accuracy: 1.0000 - val_loss: 1.2913 - val_accuracy: 0.7130\n",
            "Epoch 89/100\n",
            "14/14 [==============================] - ETA: 0s - loss: 0.0015 - accuracy: 1.0000\n",
            "Epoch 89: val_loss did not improve from 0.63679\n",
            "14/14 [==============================] - 27s 2s/step - loss: 0.0015 - accuracy: 1.0000 - val_loss: 1.2987 - val_accuracy: 0.7037\n",
            "Epoch 90/100\n",
            "14/14 [==============================] - ETA: 0s - loss: 0.0016 - accuracy: 1.0000\n",
            "Epoch 90: val_loss did not improve from 0.63679\n",
            "14/14 [==============================] - 27s 2s/step - loss: 0.0016 - accuracy: 1.0000 - val_loss: 1.2991 - val_accuracy: 0.7037\n",
            "Epoch 91/100\n",
            "14/14 [==============================] - ETA: 0s - loss: 0.0019 - accuracy: 1.0000\n",
            "Epoch 91: val_loss did not improve from 0.63679\n",
            "14/14 [==============================] - 27s 2s/step - loss: 0.0019 - accuracy: 1.0000 - val_loss: 1.3059 - val_accuracy: 0.7130\n",
            "Epoch 92/100\n",
            "14/14 [==============================] - ETA: 0s - loss: 0.0022 - accuracy: 1.0000\n",
            "Epoch 92: val_loss did not improve from 0.63679\n",
            "14/14 [==============================] - 27s 2s/step - loss: 0.0022 - accuracy: 1.0000 - val_loss: 1.3182 - val_accuracy: 0.7130\n",
            "Epoch 93/100\n",
            "14/14 [==============================] - ETA: 0s - loss: 0.0014 - accuracy: 1.0000\n",
            "Epoch 93: val_loss did not improve from 0.63679\n",
            "14/14 [==============================] - 27s 2s/step - loss: 0.0014 - accuracy: 1.0000 - val_loss: 1.3224 - val_accuracy: 0.7130\n",
            "Epoch 94/100\n",
            "14/14 [==============================] - ETA: 0s - loss: 0.0019 - accuracy: 1.0000\n",
            "Epoch 94: val_loss did not improve from 0.63679\n",
            "14/14 [==============================] - 27s 2s/step - loss: 0.0019 - accuracy: 1.0000 - val_loss: 1.3199 - val_accuracy: 0.7222\n",
            "Epoch 95/100\n",
            "14/14 [==============================] - ETA: 0s - loss: 0.0029 - accuracy: 1.0000\n",
            "Epoch 95: val_loss did not improve from 0.63679\n",
            "14/14 [==============================] - 27s 2s/step - loss: 0.0029 - accuracy: 1.0000 - val_loss: 1.3261 - val_accuracy: 0.7222\n",
            "Epoch 96/100\n",
            "14/14 [==============================] - ETA: 0s - loss: 0.0022 - accuracy: 1.0000\n",
            "Epoch 96: val_loss did not improve from 0.63679\n",
            "14/14 [==============================] - 27s 2s/step - loss: 0.0022 - accuracy: 1.0000 - val_loss: 1.3430 - val_accuracy: 0.7130\n",
            "Epoch 97/100\n",
            "14/14 [==============================] - ETA: 0s - loss: 0.0024 - accuracy: 1.0000\n",
            "Epoch 97: val_loss did not improve from 0.63679\n",
            "14/14 [==============================] - 27s 2s/step - loss: 0.0024 - accuracy: 1.0000 - val_loss: 1.3237 - val_accuracy: 0.6667\n",
            "Epoch 98/100\n",
            "14/14 [==============================] - ETA: 0s - loss: 0.0023 - accuracy: 1.0000\n",
            "Epoch 98: val_loss did not improve from 0.63679\n",
            "14/14 [==============================] - 27s 2s/step - loss: 0.0023 - accuracy: 1.0000 - val_loss: 1.3337 - val_accuracy: 0.7130\n",
            "Epoch 99/100\n",
            "14/14 [==============================] - ETA: 0s - loss: 0.0019 - accuracy: 1.0000\n",
            "Epoch 99: val_loss did not improve from 0.63679\n",
            "14/14 [==============================] - 27s 2s/step - loss: 0.0019 - accuracy: 1.0000 - val_loss: 1.3241 - val_accuracy: 0.7130\n",
            "Epoch 100/100\n",
            "14/14 [==============================] - ETA: 0s - loss: 0.0014 - accuracy: 1.0000\n",
            "Epoch 100: val_loss did not improve from 0.63679\n",
            "14/14 [==============================] - 27s 2s/step - loss: 0.0014 - accuracy: 1.0000 - val_loss: 1.3322 - val_accuracy: 0.7222\n"
          ]
        }
      ]
    },
    {
      "cell_type": "code",
      "source": [
        "cnn_model.save(\"cnn_model_2.h5py\")"
      ],
      "metadata": {
        "colab": {
          "base_uri": "https://localhost:8080/"
        },
        "id": "MDxMxiu5kQIa",
        "outputId": "48c27fc0-6227-4036-e7a3-272697933f5c"
      },
      "execution_count": null,
      "outputs": [
        {
          "output_type": "stream",
          "name": "stdout",
          "text": [
            "INFO:tensorflow:Assets written to: cnn_model_2.h5py/assets\n"
          ]
        }
      ]
    },
    {
      "cell_type": "code",
      "source": [
        "vis_confusion_matrix(cm_cnn)\n",
        "\n",
        "vis_acc_loss(cnn_train)"
      ],
      "metadata": {
        "colab": {
          "base_uri": "https://localhost:8080/",
          "height": 865
        },
        "id": "dUvgJH3tkTww",
        "outputId": "4dd5c8ce-0200-41af-94a0-76e9f78463af"
      },
      "execution_count": null,
      "outputs": [
        {
          "output_type": "display_data",
          "data": {
            "text/plain": [
              "<Figure size 432x288 with 2 Axes>"
            ],
            "image/png": "[encoded data removed]"
          },
          "metadata": {
            "needs_background": "light"
          }
        },
        {
          "output_type": "display_data",
          "data": {
            "text/plain": [
              "<Figure size 432x288 with 1 Axes>"
            ],
            "image/png": "[encoded data removed]"
          },
          "metadata": {
            "needs_background": "light"
          }
        },
        {
          "output_type": "display_data",
          "data": {
            "text/plain": [
              "<Figure size 432x288 with 1 Axes>"
            ],
            "image/png": "[encoded data removed]"
          },
          "metadata": {
            "needs_background": "light"
          }
        }
      ]
    },
    {
      "cell_type": "code",
      "source": [
        "print('Test loss:', test_eval[0])\n",
        "print('Test accuracy:', test_eval[1])"
      ],
      "metadata": {
        "id": "e23pYqVZf_9A"
      },
      "execution_count": null,
      "outputs": []
    },
    {
      "cell_type": "markdown",
      "source": [
        "## Test 3: LDA & CNN | Subject 3"
      ],
      "metadata": {
        "id": "g0I4h49AkgLN"
      }
    },
    {
      "cell_type": "code",
      "source": [
        "subject = 2\n",
        "\n",
        "train_X, test_X, train_y, test_y = get_train_test(active[subject], passive[subject], cue[subject])"
      ],
      "metadata": {
        "colab": {
          "base_uri": "https://localhost:8080/"
        },
        "id": "pzH7Eh0hkltQ",
        "outputId": "c54564b3-1590-42b5-d98a-5cbe3af6d4e0"
      },
      "execution_count": null,
      "outputs": [
        {
          "output_type": "stream",
          "name": "stdout",
          "text": [
            "Filtering raw data in 1 contiguous segment\n",
            "Setting up high-pass filter at 1 Hz\n",
            "\n",
            "FIR filter parameters\n",
            "---------------------\n",
            "Designing a one-pass, zero-phase, non-causal highpass filter:\n",
            "- Windowed time-domain design (firwin) method\n",
            "- Hamming window with 0.0194 passband ripple and 53 dB stopband attenuation\n",
            "- Lower passband edge: 1.00\n",
            "- Lower transition bandwidth: 1.00 Hz (-6 dB cutoff frequency: 0.50 Hz)\n",
            "- Filter length: 331 samples (3.310 sec)\n",
            "\n",
            "Fitting ICA to data using 10 channels (please be patient, this may take a while)\n",
            "Selecting by number: 10 components\n",
            "Fitting ICA took 0.9s.\n",
            "Filtering raw data in 1 contiguous segment\n",
            "Setting up high-pass filter at 1 Hz\n",
            "\n",
            "FIR filter parameters\n",
            "---------------------\n",
            "Designing a one-pass, zero-phase, non-causal highpass filter:\n",
            "- Windowed time-domain design (firwin) method\n",
            "- Hamming window with 0.0194 passband ripple and 53 dB stopband attenuation\n",
            "- Lower passband edge: 1.00\n",
            "- Lower transition bandwidth: 1.00 Hz (-6 dB cutoff frequency: 0.50 Hz)\n",
            "- Filter length: 331 samples (3.310 sec)\n",
            "\n",
            "Fitting ICA to data using 10 channels (please be patient, this may take a while)\n",
            "Selecting by number: 10 components\n",
            "Fitting ICA took 13.8s.\n",
            "Filtering raw data in 1 contiguous segment\n",
            "Setting up high-pass filter at 1 Hz\n",
            "\n",
            "FIR filter parameters\n",
            "---------------------\n",
            "Designing a one-pass, zero-phase, non-causal highpass filter:\n",
            "- Windowed time-domain design (firwin) method\n",
            "- Hamming window with 0.0194 passband ripple and 53 dB stopband attenuation\n",
            "- Lower passband edge: 1.00\n",
            "- Lower transition bandwidth: 1.00 Hz (-6 dB cutoff frequency: 0.50 Hz)\n",
            "- Filter length: 331 samples (3.310 sec)\n",
            "\n"
          ]
        },
        {
          "output_type": "stream",
          "name": "stderr",
          "text": [
            "/usr/local/lib/python3.7/dist-packages/sklearn/decomposition/_fastica.py:119: ConvergenceWarning: FastICA did not converge. Consider increasing tolerance or the maximum number of iterations.\n",
            "  ConvergenceWarning,\n"
          ]
        },
        {
          "output_type": "stream",
          "name": "stdout",
          "text": [
            "Fitting ICA to data using 10 channels (please be patient, this may take a while)\n",
            "Selecting by number: 10 components\n",
            "Fitting ICA took 0.2s.\n"
          ]
        }
      ]
    },
    {
      "cell_type": "code",
      "source": [
        "clf_lda, cm_lda = lda_101(train_X, test_X, train_y, test_y) \n",
        "lda_models.append(clf_lda)\n",
        "vis_confusion_matrix(cm_lda)"
      ],
      "metadata": {
        "colab": {
          "base_uri": "https://localhost:8080/",
          "height": 388
        },
        "id": "QdVmed3Eknx_",
        "outputId": "2068c7c5-2afe-41c4-e1ce-d9594e7a78f8"
      },
      "execution_count": null,
      "outputs": [
        {
          "output_type": "stream",
          "name": "stdout",
          "text": [
            "[[43 57]\n",
            " [81 69]]\n",
            "Accuracy0.448\n"
          ]
        },
        {
          "output_type": "display_data",
          "data": {
            "text/plain": [
              "<Figure size 432x288 with 2 Axes>"
            ],
            "image/png": "[encoded data removed]"
          },
          "metadata": {
            "needs_background": "light"
          }
        }
      ]
    },
    {
      "cell_type": "code",
      "source": [
        "cnn_model, cnn_train, test_eval, cm_cnn = cnn_101(train_X, \n",
        "                                                  test_X, \n",
        "                                                  train_y, \n",
        "                                                  test_y, 16 , 50)\n",
        "\n",
        "cnn_models.append(cnn_model)"
      ],
      "metadata": {
        "colab": {
          "base_uri": "https://localhost:8080/"
        },
        "id": "5T41swBEkoy_",
        "outputId": "6f53aa7b-eb3b-403b-d1d1-0d3943764f49"
      },
      "execution_count": null,
      "outputs": [
        {
          "output_type": "stream",
          "name": "stdout",
          "text": [
            "Epoch 1/50\n"
          ]
        },
        {
          "output_type": "stream",
          "name": "stderr",
          "text": [
            "/usr/local/lib/python3.7/dist-packages/keras/optimizer_v2/gradient_descent.py:102: UserWarning: The `lr` argument is deprecated, use `learning_rate` instead.\n",
            "  super(SGD, self).__init__(name, **kwargs)\n"
          ]
        },
        {
          "output_type": "stream",
          "name": "stdout",
          "text": [
            "27/27 [==============================] - ETA: 0s - loss: 1.4359 - accuracy: 0.7222\n",
            "Epoch 1: val_loss improved from inf to 0.84641, saving model to /tmp/checkpoint.h5\n",
            "27/27 [==============================] - 29s 1s/step - loss: 1.4359 - accuracy: 0.7222 - val_loss: 0.8464 - val_accuracy: 0.2963\n",
            "Epoch 2/50\n",
            "27/27 [==============================] - ETA: 0s - loss: 0.3617 - accuracy: 0.8542\n",
            "Epoch 2: val_loss did not improve from 0.84641\n",
            "27/27 [==============================] - 27s 1s/step - loss: 0.3617 - accuracy: 0.8542 - val_loss: 0.8639 - val_accuracy: 0.2963\n",
            "Epoch 3/50\n",
            "27/27 [==============================] - ETA: 0s - loss: 0.3797 - accuracy: 0.8241\n",
            "Epoch 3: val_loss did not improve from 0.84641\n",
            "27/27 [==============================] - 27s 1s/step - loss: 0.3797 - accuracy: 0.8241 - val_loss: 0.8778 - val_accuracy: 0.2963\n",
            "Epoch 4/50\n",
            "27/27 [==============================] - ETA: 0s - loss: 0.3223 - accuracy: 0.8426\n",
            "Epoch 4: val_loss did not improve from 0.84641\n",
            "27/27 [==============================] - 27s 1s/step - loss: 0.3223 - accuracy: 0.8426 - val_loss: 0.9788 - val_accuracy: 0.2963\n",
            "Epoch 5/50\n",
            "27/27 [==============================] - ETA: 0s - loss: 0.3192 - accuracy: 0.8472\n",
            "Epoch 5: val_loss did not improve from 0.84641\n",
            "27/27 [==============================] - 27s 1s/step - loss: 0.3192 - accuracy: 0.8472 - val_loss: 0.9602 - val_accuracy: 0.2963\n",
            "Epoch 6/50\n",
            "27/27 [==============================] - ETA: 0s - loss: 0.2900 - accuracy: 0.8634\n",
            "Epoch 6: val_loss did not improve from 0.84641\n",
            "27/27 [==============================] - 27s 1s/step - loss: 0.2900 - accuracy: 0.8634 - val_loss: 1.3413 - val_accuracy: 0.2963\n",
            "Epoch 7/50\n",
            "27/27 [==============================] - ETA: 0s - loss: 0.3437 - accuracy: 0.8565\n",
            "Epoch 7: val_loss did not improve from 0.84641\n",
            "27/27 [==============================] - 27s 1s/step - loss: 0.3437 - accuracy: 0.8565 - val_loss: 1.4012 - val_accuracy: 0.2963\n",
            "Epoch 8/50\n",
            "27/27 [==============================] - ETA: 0s - loss: 0.2846 - accuracy: 0.8681\n",
            "Epoch 8: val_loss did not improve from 0.84641\n",
            "27/27 [==============================] - 27s 1s/step - loss: 0.2846 - accuracy: 0.8681 - val_loss: 1.1988 - val_accuracy: 0.3148\n",
            "Epoch 9/50\n",
            "27/27 [==============================] - ETA: 0s - loss: 0.2763 - accuracy: 0.8750\n",
            "Epoch 9: val_loss did not improve from 0.84641\n",
            "27/27 [==============================] - 27s 1s/step - loss: 0.2763 - accuracy: 0.8750 - val_loss: 0.8996 - val_accuracy: 0.3611\n",
            "Epoch 10/50\n",
            "27/27 [==============================] - ETA: 0s - loss: 0.3169 - accuracy: 0.8727\n",
            "Epoch 10: val_loss did not improve from 0.84641\n",
            "27/27 [==============================] - 27s 1s/step - loss: 0.3169 - accuracy: 0.8727 - val_loss: 1.1095 - val_accuracy: 0.3241\n",
            "Epoch 11/50\n",
            "27/27 [==============================] - ETA: 0s - loss: 0.2800 - accuracy: 0.8750\n",
            "Epoch 11: val_loss improved from 0.84641 to 0.83975, saving model to /tmp/checkpoint.h5\n",
            "27/27 [==============================] - 27s 1s/step - loss: 0.2800 - accuracy: 0.8750 - val_loss: 0.8397 - val_accuracy: 0.4259\n",
            "Epoch 12/50\n",
            "27/27 [==============================] - ETA: 0s - loss: 0.2727 - accuracy: 0.8819\n",
            "Epoch 12: val_loss did not improve from 0.83975\n",
            "27/27 [==============================] - 28s 1s/step - loss: 0.2727 - accuracy: 0.8819 - val_loss: 1.2520 - val_accuracy: 0.3241\n",
            "Epoch 13/50\n",
            "27/27 [==============================] - ETA: 0s - loss: 0.2454 - accuracy: 0.8912\n",
            "Epoch 13: val_loss did not improve from 0.83975\n",
            "27/27 [==============================] - 28s 1s/step - loss: 0.2454 - accuracy: 0.8912 - val_loss: 1.5841 - val_accuracy: 0.3241\n",
            "Epoch 14/50\n",
            "27/27 [==============================] - ETA: 0s - loss: 0.2935 - accuracy: 0.8796\n",
            "Epoch 14: val_loss did not improve from 0.83975\n",
            "27/27 [==============================] - 28s 1s/step - loss: 0.2935 - accuracy: 0.8796 - val_loss: 0.9454 - val_accuracy: 0.5278\n",
            "Epoch 15/50\n",
            "27/27 [==============================] - ETA: 0s - loss: 0.2637 - accuracy: 0.8819\n",
            "Epoch 15: val_loss did not improve from 0.83975\n",
            "27/27 [==============================] - 29s 1s/step - loss: 0.2637 - accuracy: 0.8819 - val_loss: 1.1506 - val_accuracy: 0.4074\n",
            "Epoch 16/50\n",
            "27/27 [==============================] - ETA: 0s - loss: 0.2736 - accuracy: 0.8634\n",
            "Epoch 16: val_loss did not improve from 0.83975\n",
            "27/27 [==============================] - 28s 1s/step - loss: 0.2736 - accuracy: 0.8634 - val_loss: 0.8409 - val_accuracy: 0.5926\n",
            "Epoch 17/50\n",
            "27/27 [==============================] - ETA: 0s - loss: 0.2577 - accuracy: 0.8750\n",
            "Epoch 17: val_loss did not improve from 0.83975\n",
            "27/27 [==============================] - 28s 1s/step - loss: 0.2577 - accuracy: 0.8750 - val_loss: 0.9293 - val_accuracy: 0.5648\n",
            "Epoch 18/50\n",
            "27/27 [==============================] - ETA: 0s - loss: 0.2412 - accuracy: 0.9005\n",
            "Epoch 18: val_loss did not improve from 0.83975\n",
            "27/27 [==============================] - 28s 1s/step - loss: 0.2412 - accuracy: 0.9005 - val_loss: 0.8908 - val_accuracy: 0.5833\n",
            "Epoch 19/50\n",
            "27/27 [==============================] - ETA: 0s - loss: 0.2241 - accuracy: 0.8889\n",
            "Epoch 19: val_loss improved from 0.83975 to 0.54660, saving model to /tmp/checkpoint.h5\n",
            "27/27 [==============================] - 28s 1s/step - loss: 0.2241 - accuracy: 0.8889 - val_loss: 0.5466 - val_accuracy: 0.7222\n",
            "Epoch 20/50\n",
            "27/27 [==============================] - ETA: 0s - loss: 0.2375 - accuracy: 0.8889\n",
            "Epoch 20: val_loss did not improve from 0.54660\n",
            "27/27 [==============================] - 27s 1s/step - loss: 0.2375 - accuracy: 0.8889 - val_loss: 0.7919 - val_accuracy: 0.6667\n",
            "Epoch 21/50\n",
            "27/27 [==============================] - ETA: 0s - loss: 0.2258 - accuracy: 0.8935\n",
            "Epoch 21: val_loss did not improve from 0.54660\n",
            "27/27 [==============================] - 27s 1s/step - loss: 0.2258 - accuracy: 0.8935 - val_loss: 0.9056 - val_accuracy: 0.6389\n",
            "Epoch 22/50\n",
            "27/27 [==============================] - ETA: 0s - loss: 0.2167 - accuracy: 0.9097\n",
            "Epoch 22: val_loss did not improve from 0.54660\n",
            "27/27 [==============================] - 27s 1s/step - loss: 0.2167 - accuracy: 0.9097 - val_loss: 0.7228 - val_accuracy: 0.6759\n",
            "Epoch 23/50\n",
            "27/27 [==============================] - ETA: 0s - loss: 0.1936 - accuracy: 0.9167\n",
            "Epoch 23: val_loss improved from 0.54660 to 0.49267, saving model to /tmp/checkpoint.h5\n",
            "27/27 [==============================] - 27s 1s/step - loss: 0.1936 - accuracy: 0.9167 - val_loss: 0.4927 - val_accuracy: 0.7685\n",
            "Epoch 24/50\n",
            "27/27 [==============================] - ETA: 0s - loss: 0.2085 - accuracy: 0.9190\n",
            "Epoch 24: val_loss improved from 0.49267 to 0.45827, saving model to /tmp/checkpoint.h5\n",
            "27/27 [==============================] - 27s 1s/step - loss: 0.2085 - accuracy: 0.9190 - val_loss: 0.4583 - val_accuracy: 0.7500\n",
            "Epoch 25/50\n",
            "27/27 [==============================] - ETA: 0s - loss: 0.2105 - accuracy: 0.9144\n",
            "Epoch 25: val_loss did not improve from 0.45827\n",
            "27/27 [==============================] - 27s 1s/step - loss: 0.2105 - accuracy: 0.9144 - val_loss: 0.8011 - val_accuracy: 0.6944\n",
            "Epoch 26/50\n",
            "27/27 [==============================] - ETA: 0s - loss: 0.2212 - accuracy: 0.9074\n",
            "Epoch 26: val_loss improved from 0.45827 to 0.29251, saving model to /tmp/checkpoint.h5\n",
            "27/27 [==============================] - 27s 1s/step - loss: 0.2212 - accuracy: 0.9074 - val_loss: 0.2925 - val_accuracy: 0.8704\n",
            "Epoch 27/50\n",
            "27/27 [==============================] - ETA: 0s - loss: 0.2244 - accuracy: 0.9051\n",
            "Epoch 27: val_loss did not improve from 0.29251\n",
            "27/27 [==============================] - 27s 1s/step - loss: 0.2244 - accuracy: 0.9051 - val_loss: 0.3978 - val_accuracy: 0.8056\n",
            "Epoch 28/50\n",
            "27/27 [==============================] - ETA: 0s - loss: 0.1925 - accuracy: 0.9074\n",
            "Epoch 28: val_loss did not improve from 0.29251\n",
            "27/27 [==============================] - 28s 1s/step - loss: 0.1925 - accuracy: 0.9074 - val_loss: 0.3034 - val_accuracy: 0.8981\n",
            "Epoch 29/50\n",
            "27/27 [==============================] - ETA: 0s - loss: 0.1416 - accuracy: 0.9491\n",
            "Epoch 29: val_loss did not improve from 0.29251\n",
            "27/27 [==============================] - 28s 1s/step - loss: 0.1416 - accuracy: 0.9491 - val_loss: 0.3257 - val_accuracy: 0.8519\n",
            "Epoch 30/50\n",
            "27/27 [==============================] - ETA: 0s - loss: 0.1862 - accuracy: 0.9259\n",
            "Epoch 30: val_loss did not improve from 0.29251\n",
            "27/27 [==============================] - 28s 1s/step - loss: 0.1862 - accuracy: 0.9259 - val_loss: 0.4482 - val_accuracy: 0.8241\n",
            "Epoch 31/50\n",
            "27/27 [==============================] - ETA: 0s - loss: 0.2350 - accuracy: 0.9259\n",
            "Epoch 31: val_loss did not improve from 0.29251\n",
            "27/27 [==============================] - 28s 1s/step - loss: 0.2350 - accuracy: 0.9259 - val_loss: 0.3527 - val_accuracy: 0.8241\n",
            "Epoch 32/50\n",
            "27/27 [==============================] - ETA: 0s - loss: 0.1623 - accuracy: 0.9398\n",
            "Epoch 32: val_loss did not improve from 0.29251\n",
            "27/27 [==============================] - 27s 1s/step - loss: 0.1623 - accuracy: 0.9398 - val_loss: 0.4734 - val_accuracy: 0.7870\n",
            "Epoch 33/50\n",
            "27/27 [==============================] - ETA: 0s - loss: 0.1850 - accuracy: 0.9190\n",
            "Epoch 33: val_loss did not improve from 0.29251\n",
            "27/27 [==============================] - 27s 1s/step - loss: 0.1850 - accuracy: 0.9190 - val_loss: 0.7285 - val_accuracy: 0.7593\n",
            "Epoch 34/50\n",
            "27/27 [==============================] - ETA: 0s - loss: 0.1428 - accuracy: 0.9329\n",
            "Epoch 34: val_loss did not improve from 0.29251\n",
            "27/27 [==============================] - 27s 1s/step - loss: 0.1428 - accuracy: 0.9329 - val_loss: 0.5173 - val_accuracy: 0.7593\n",
            "Epoch 35/50\n",
            "27/27 [==============================] - ETA: 0s - loss: 0.1300 - accuracy: 0.9375\n",
            "Epoch 35: val_loss did not improve from 0.29251\n",
            "27/27 [==============================] - 27s 1s/step - loss: 0.1300 - accuracy: 0.9375 - val_loss: 1.2415 - val_accuracy: 0.7130\n",
            "Epoch 36/50\n",
            "27/27 [==============================] - ETA: 0s - loss: 0.0889 - accuracy: 0.9676\n",
            "Epoch 36: val_loss did not improve from 0.29251\n",
            "27/27 [==============================] - 27s 1s/step - loss: 0.0889 - accuracy: 0.9676 - val_loss: 5.2407 - val_accuracy: 0.7037\n",
            "Epoch 37/50\n",
            "27/27 [==============================] - ETA: 0s - loss: 0.1080 - accuracy: 0.9514\n",
            "Epoch 37: val_loss did not improve from 0.29251\n",
            "27/27 [==============================] - 27s 1s/step - loss: 0.1080 - accuracy: 0.9514 - val_loss: 0.3760 - val_accuracy: 0.8333\n",
            "Epoch 38/50\n",
            "27/27 [==============================] - ETA: 0s - loss: 0.0833 - accuracy: 0.9676\n",
            "Epoch 38: val_loss did not improve from 0.29251\n",
            "27/27 [==============================] - 28s 1s/step - loss: 0.0833 - accuracy: 0.9676 - val_loss: 0.3804 - val_accuracy: 0.8056\n",
            "Epoch 39/50\n",
            "27/27 [==============================] - ETA: 0s - loss: 0.1940 - accuracy: 0.9167\n",
            "Epoch 39: val_loss did not improve from 0.29251\n",
            "27/27 [==============================] - 28s 1s/step - loss: 0.1940 - accuracy: 0.9167 - val_loss: 0.3249 - val_accuracy: 0.8426\n",
            "Epoch 40/50\n",
            "27/27 [==============================] - ETA: 0s - loss: 0.1180 - accuracy: 0.9583\n",
            "Epoch 40: val_loss did not improve from 0.29251\n",
            "27/27 [==============================] - 28s 1s/step - loss: 0.1180 - accuracy: 0.9583 - val_loss: 0.3116 - val_accuracy: 0.8333\n",
            "Epoch 41/50\n",
            "27/27 [==============================] - ETA: 0s - loss: 0.0723 - accuracy: 0.9676\n",
            "Epoch 41: val_loss did not improve from 0.29251\n",
            "27/27 [==============================] - 27s 1s/step - loss: 0.0723 - accuracy: 0.9676 - val_loss: 0.7432 - val_accuracy: 0.8056\n",
            "Epoch 42/50\n",
            "27/27 [==============================] - ETA: 0s - loss: 0.0845 - accuracy: 0.9630\n",
            "Epoch 42: val_loss did not improve from 0.29251\n",
            "27/27 [==============================] - 27s 1s/step - loss: 0.0845 - accuracy: 0.9630 - val_loss: 0.4178 - val_accuracy: 0.8796\n",
            "Epoch 43/50\n",
            "27/27 [==============================] - ETA: 0s - loss: 0.0547 - accuracy: 0.9792\n",
            "Epoch 43: val_loss did not improve from 0.29251\n",
            "27/27 [==============================] - 28s 1s/step - loss: 0.0547 - accuracy: 0.9792 - val_loss: 0.6555 - val_accuracy: 0.8611\n",
            "Epoch 44/50\n",
            "27/27 [==============================] - ETA: 0s - loss: 0.0720 - accuracy: 0.9722\n",
            "Epoch 44: val_loss did not improve from 0.29251\n",
            "27/27 [==============================] - 28s 1s/step - loss: 0.0720 - accuracy: 0.9722 - val_loss: 0.4795 - val_accuracy: 0.8426\n",
            "Epoch 45/50\n",
            "27/27 [==============================] - ETA: 0s - loss: 0.0402 - accuracy: 0.9907\n",
            "Epoch 45: val_loss did not improve from 0.29251\n",
            "27/27 [==============================] - 28s 1s/step - loss: 0.0402 - accuracy: 0.9907 - val_loss: 0.3212 - val_accuracy: 0.8519\n",
            "Epoch 46/50\n",
            "27/27 [==============================] - ETA: 0s - loss: 0.0564 - accuracy: 0.9792\n",
            "Epoch 46: val_loss did not improve from 0.29251\n",
            "27/27 [==============================] - 27s 1s/step - loss: 0.0564 - accuracy: 0.9792 - val_loss: 1.7351 - val_accuracy: 0.7130\n",
            "Epoch 47/50\n",
            "27/27 [==============================] - ETA: 0s - loss: 0.0249 - accuracy: 0.9931\n",
            "Epoch 47: val_loss did not improve from 0.29251\n",
            "27/27 [==============================] - 27s 1s/step - loss: 0.0249 - accuracy: 0.9931 - val_loss: 1.3764 - val_accuracy: 0.7407\n",
            "Epoch 48/50\n",
            "27/27 [==============================] - ETA: 0s - loss: 0.0225 - accuracy: 1.0000\n",
            "Epoch 48: val_loss did not improve from 0.29251\n",
            "27/27 [==============================] - 27s 1s/step - loss: 0.0225 - accuracy: 1.0000 - val_loss: 0.6802 - val_accuracy: 0.8426\n",
            "Epoch 49/50\n",
            "27/27 [==============================] - ETA: 0s - loss: 0.0550 - accuracy: 0.9792\n",
            "Epoch 49: val_loss did not improve from 0.29251\n",
            "27/27 [==============================] - 28s 1s/step - loss: 0.0550 - accuracy: 0.9792 - val_loss: 0.3675 - val_accuracy: 0.8333\n",
            "Epoch 50/50\n",
            "27/27 [==============================] - ETA: 0s - loss: 0.0340 - accuracy: 0.9907\n",
            "Epoch 50: val_loss did not improve from 0.29251\n",
            "27/27 [==============================] - 27s 1s/step - loss: 0.0340 - accuracy: 0.9907 - val_loss: 0.4841 - val_accuracy: 0.8148\n"
          ]
        }
      ]
    },
    {
      "cell_type": "code",
      "source": [
        "cnn_model.save(\"cnn_model_3.h5py\")"
      ],
      "metadata": {
        "colab": {
          "base_uri": "https://localhost:8080/"
        },
        "id": "e42__wWLkp7J",
        "outputId": "0a9524ff-f416-4bd6-ab79-4cb29e7f122e"
      },
      "execution_count": null,
      "outputs": [
        {
          "output_type": "stream",
          "name": "stdout",
          "text": [
            "INFO:tensorflow:Assets written to: cnn_model_3.h5py/assets\n"
          ]
        }
      ]
    },
    {
      "cell_type": "code",
      "source": [
        "vis_confusion_matrix(cm_cnn)\n",
        "\n",
        "vis_acc_loss(cnn_train)"
      ],
      "metadata": {
        "colab": {
          "base_uri": "https://localhost:8080/",
          "height": 865
        },
        "id": "_0S0co2jkrTR",
        "outputId": "887dbb04-52c6-47f4-bed2-29b98bbbe47a"
      },
      "execution_count": null,
      "outputs": [
        {
          "output_type": "display_data",
          "data": {
            "text/plain": [
              "<Figure size 432x288 with 2 Axes>"
            ],
            "image/png": "[encoded data removed]"
          },
          "metadata": {
            "needs_background": "light"
          }
        },
        {
          "output_type": "display_data",
          "data": {
            "text/plain": [
              "<Figure size 432x288 with 1 Axes>"
            ],
            "image/png": "[encoded data removed]"
          },
          "metadata": {
            "needs_background": "light"
          }
        },
        {
          "output_type": "display_data",
          "data": {
            "text/plain": [
              "<Figure size 432x288 with 1 Axes>"
            ],
            "image/png": "[encoded data removed]"
          },
          "metadata": {
            "needs_background": "light"
          }
        }
      ]
    },
    {
      "cell_type": "code",
      "source": [
        "print('Test loss:', test_eval[0])\n",
        "print('Test accuracy:', test_eval[1])"
      ],
      "metadata": {
        "colab": {
          "base_uri": "https://localhost:8080/"
        },
        "id": "TTSmlMoEB9tr",
        "outputId": "a62eef2e-14b3-48d3-87c5-501db2d5ce12"
      },
      "execution_count": null,
      "outputs": [
        {
          "output_type": "stream",
          "name": "stdout",
          "text": [
            "Test loss: 1.9669924974441528\n",
            "Test accuracy: 0.5920000076293945\n"
          ]
        }
      ]
    }
  ],
  "metadata": {
    "colab": {
      "collapsed_sections": [
        "9JpGUmojfJD1",
        "sE94nxnpaDT0",
        "73u_N5c2vwkx",
        "YEmaM7rep0bW",
        "xMjOyuxHfM8h",
        "kVR1zGqyhsrM",
        "lP1mw6jBhl0O",
        "g0I4h49AkgLN",
        "QrlhSOIae6Af"
      ],
      "name": "Thesis-10x101-raw.ipynb",
      "provenance": [],
      "mount_file_id": "16z_D10etVV6QftpSCXOAtcTSPqIOjEP_",
      "authorship_tag": "ABX9TyOnZFrull/nPI1jfpr1moYF",
      "include_colab_link": true
    },
    "kernelspec": {
      "display_name": "Python 3",
      "name": "python3"
    },
    "language_info": {
      "name": "python"
    }
  },
  "nbformat": 4,
  "nbformat_minor": 0
}